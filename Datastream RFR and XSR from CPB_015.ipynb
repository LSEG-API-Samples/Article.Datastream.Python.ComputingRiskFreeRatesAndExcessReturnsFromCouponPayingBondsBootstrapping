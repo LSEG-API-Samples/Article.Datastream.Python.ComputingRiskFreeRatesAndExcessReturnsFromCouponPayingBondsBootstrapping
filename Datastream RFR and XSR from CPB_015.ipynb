{
 "cells": [
  {
   "cell_type": "markdown",
   "id": "f80e5083-ab84-4371-a677-3b897c10cd81",
   "metadata": {},
   "source": [
    "# Refinitiv Academic Article Series:\n",
    "# Economics and Finance 101:\n",
    "# Computing Risk Free Rates and Excess Returns ($r_f$) Part 2: From Sovereign Coupon-Paying-Bonds (and Bootstrapping / Spot Rates)"
   ]
  },
  {
   "cell_type": "markdown",
   "id": "f5e9a265-8d7a-46f1-b509-35402829541e",
   "metadata": {},
   "source": [
    "Our [previous article](https://developers.refinitiv.com/en/article-catalog/article/computing-risk-free-rates-and-excess-returns-from-zero-coupon-bonds) explained what *Net Present Values*, *Face Values*, *Maturities*, *Coupons*, and *risk-free rates* are, how to compute them, and how they are used to calculate *excess returns* using only [Zero-Coupon Bonds](https://www.investopedia.com/terms/z/zero-couponbond.asp); in this article, we look at Coupon Paying Bonds, particularly *Cash Flow* incurred by Coupons, *Bootstrapping* and particularities about *Sovereign Bond* data. Very little is changed in this article until the '[Coupon Paying Rate](#CouponPayingRate)' section. It is aimed at academics from undergraduate level up, and thus will explain all mathematical notations to ensure that there is no confusion and so that anyone - no matter their expertise on the subject - can follow."
   ]
  },
  {
   "cell_type": "markdown",
   "id": "2e461b52-2cbb-47ed-93c2-37feaf707502",
   "metadata": {},
   "source": [
    "One may find many uses for the methods outlined below. For example: To calculate metrics such as the [Sharpe-Ratio](https://www.investopedia.com/terms/s/sharperatio.asp), one needs first to calculate *excess returns*, that then necessitates the calculation of *risk-free rates of return*."
   ]
  },
  {
   "cell_type": "markdown",
   "id": "59d1b0b2-b6c8-4ee9-aed1-92f9357c4347",
   "metadata": {},
   "source": [
    "## Use of Government Bonds in calculating risk-free rates <a class=\"anchor\" id=\"UseofGovernmentBondsincalculatingriskfreerates\"></a>\n",
    "\n",
    "As afformentioned in our [previous article](https://developers.refinitiv.com/en/article-catalog/article/computing-risk-free-rates-and-excess-returns-from-zero-coupon-bonds), only certain banks have access to the primary sovereign bond markets where they may purchase Domestic Sovereign/Government Bonds. There are many such types of bonds. Among others, there are:\n",
    "\n",
    "\n",
    "- United States (US): US Treasury securities are issued by the US Department of the Treasury and backed by the US government.\n",
    "    - Fixed principal: A principal is the amount due on a debt. In the case of bonds, it is often referred to as the Face Value. The Face Value of all US Treasury securities is 1000 US Dollars (USD)\n",
    "        - Treasury‐bills (as known as (a.k.a.): T-bills) have a maturity of less than a year (< 1 yr). These are bonds that do not pay coupons (**Zero-Coupon Bonds**).\n",
    "        - Treasury‐notes (a.k.a.: T‐notes) have a maturity between 1 and 10 years (1‐10 yrs).\n",
    "        - Treasury-bonds (a.k.a.: T‐bonds)  have a maturity between 10 and 30 years (10‐30 yrs). It is confusing calling a sub-set of bonds 'T-bonds', but that is their naming conventions. To avoid confusion, I will always refer to them explicitly as Treasury-bonds (or T‐bonds), not just bonds.\n",
    "    - Inflation‐indexed: TIPS\n",
    "    - Treasury STRIPS (created by private sector, not the US government)\n",
    "\n",
    "\n",
    "- United Kingdom: Since1998, gilts have been issued by the UK Debt Management Office (DMO), an executive agency of the HMT (Her Majesty's  Treasury).\n",
    "    - Conventional gilts: Short (< 5 yrs), medium (5‐15 yrs), long (> 15 yrs)\n",
    "    - Inflation‐indexed gilts\n",
    "\n",
    "\n",
    "- Japan\n",
    "    - Medium term (2, 3, 4 yrs), long term (10 yrs), super long term (15, 20 yrs)\n",
    "\n",
    "\n",
    "- Eurozone government bonds\n",
    "\n",
    "\n",
    "There are several ways to compute risk-free rates based on bonds. In this article, we will focus on T-bills, as US Sovereign Bonds are often deemed the safest (which is a reason why the USD is named the [world's reserve currency](https://www.investopedia.com/articles/forex-currencies/092316/how-us-dollar-became-worlds-reserve-currency.asp#:~:text=Standing%20on%20Its%20Own%20as,accumulated%20reserves%20of%20U.S.%20dollars.)) and T-bills are an example of Zero-Coupon Bonds (as per [the method outlined by the Business Research Plus](https://bizlib247.wordpress.com/2013/01/18/risk-free-rate-and-fama-french-factors/)). From there, a risk-free rate of return can be computed as **[implied by its bond's Yield To Maturity](#1)** and **[based the change in the same bond's market price from  one day to the next](#2)**."
   ]
  },
  {
   "cell_type": "markdown",
   "id": "06dd08fb-b464-445a-9ce0-c3b84a50f2ee",
   "metadata": {},
   "source": [
    "$$ \\\\ $$\n",
    "## YTM implied daily risk-free rate <a class=\"anchor\" id=\"1\"></a>"
   ]
  },
  {
   "cell_type": "markdown",
   "id": "8a0db89b-8979-4666-bee5-7e4aece7cd3d",
   "metadata": {},
   "source": [
    "### US Treasury Securities: Generalised <a class=\"anchor\" id=\"USTreasurySecuritiesGeneralised\"></a>"
   ]
  },
  {
   "cell_type": "markdown",
   "id": "44d85442-4c16-4cec-997a-901b9b06507d",
   "metadata": {},
   "source": [
    "A bond is a debt; a debt with the promise to pay a [Face Value](https://www.investopedia.com/terms/f/facevalue.asp) ($FV$) in $m$ years (m for maturity) in the future as well as [Coupons](https://www.investopedia.com/terms/c/coupon.asp) (summing to $C$ every year) for an amount today. That latter amount paid for the bond may be fair; a fair value at time of the Bond's issue ($t$) is calculated as its [Net Present Value](https://www.investopedia.com/terms/n/npv.asp) ($NPV$) such that:"
   ]
  },
  {
   "cell_type": "markdown",
   "id": "015c72d4-c5fd-4125-b4fe-81ca94922c02",
   "metadata": {},
   "source": [
    "$$ NPV_{f_{\\text{acf}}, t} = \n",
    "    \\begin{Bmatrix}\n",
    "         \\frac{FV_t}{\\left(1 + f_{\\text{acf}} \\text{ } YTM_t\\right)^\\frac{m}{f_{\\text{acf}}}} + \\sum^{^\\frac{m}{f_{\\text{acf}}}}_{\\tau=1} {\\frac{f_{\\text{acf}} \\text{ } C}{ (1 + f_{\\text{acf}} \\text{ } YTM_t)^{\\tau} }} & \\text{if } m \\geq f_{\\text{acf}} \\\\\n",
    "         \\\\\n",
    "         \\frac{FV_t + m \\text{ } C}{\\left(1 + \\text{ } m \\text{ } YTM_t\\right)} & \\text{if } m < f_{\\text{acf}}\n",
    "     \\end{Bmatrix}\n",
    "$$"
   ]
  },
  {
   "cell_type": "markdown",
   "id": "0850f28d-5c13-455b-9631-075075671b88",
   "metadata": {
    "tags": []
   },
   "source": [
    "where $YTM$ is the annualised [Yield To Maturity](https://www.investopedia.com/terms/y/yieldtomaturity.asp) of the Bond in question and $f_{\\text{acf}}$ is the annual [compound](https://www.investopedia.com/terms/c/compounding.asp#:~:text=Compounding%20is%20the%20process%20whereby,called%20%22miracle%20of%20compounding.%22) frequency (such that if we compound cash flows annually, $f_{\\text{acf}} = 1$; and if we compound cash flows bi-annually (*i.e.*: twice a year / every 6 months), $f_{\\text{acf}} = 0.5$)."
   ]
  },
  {
   "cell_type": "markdown",
   "id": "3b969dc5-1e84-4bac-b65a-12c50e23215d",
   "metadata": {
    "tags": []
   },
   "source": [
    "#### Annual Coupon Payment Frequency <a class=\"anchor\" id=\"AnnualCouponPaymentFrequency\"></a>\n",
    "Coupons are paid at a fixed 'annual Coupon payment frequency' ($f_{ac \\mathbf{p} f}$). Usually, the following are true:\n",
    "- $f_{ac \\mathbf{p} f} = 0.5$, *i.e.*: Coupon payments are made every 6 months (*i.e.*: semi-annually)\n",
    "- $f_{\\text{acf}}$ is set to the $f_{ac \\mathbf{p} f}$ such that $f_{ac \\mathbf{p} f} = f_{ac \\mathbf{p} f}$\n",
    "- Thus $f_{acf} = f_{ac \\mathbf{p} f} = 0.5$."
   ]
  },
  {
   "cell_type": "markdown",
   "id": "27f57815-3d79-4745-8445-fb3b11864043",
   "metadata": {
    "tags": []
   },
   "source": [
    "#### Sub-Annual Interpolation of YTMs <a class=\"anchor\" id=\"SubAnnualInterpolationofYTMs\"></a>\n",
    "Note that when using YTM values inter-year (*e.g.*: after 6 month), we then use a fraction of it, i.e.: $f_{\\text{acf}} \\text{ } YTM$. This is because all YTM values are annualised and - in accounting standards - *sub-annual* interpolation of YTMs are always [linear/arithmetic](https://en.wikipedia.org/wiki/Linear_interpolation#:~:text=In%20mathematics%2C%20linear%20interpolation%20is,set%20of%20known%20data%20points.). It must be remembered - however - that *super-annual* (*i.e.*: more than a year) extrapolation of YTMs are not nessesarily linear/arithmetic."
   ]
  },
  {
   "cell_type": "markdown",
   "id": "70478f8e-acde-4b30-b60f-42b55c943323",
   "metadata": {
    "tags": []
   },
   "source": [
    "#### Compounding <a class=\"anchor\" id=\"Compounding\"></a>\n",
    "\n",
    "\n",
    "It follows from the above that if $f_{\\text{acf}} = 1$ such that we use an anually compounding accounting method, *annual* extrapolation of YTMs are [geometric](https://www.investopedia.com/articles/investing/071113/breaking-down-geometric-mean.asp).\n",
    "\n",
    "\n",
    "Since Coupons are most often paid bi-annually, it **is common standard to compound cashflows bi-annually** too when they involve Bonds - [as aformentioned](#AnnualCouponPaymentFrequency). This is done to model a Bond-holding-[agent](https://en.wikipedia.org/wiki/Agent_(economics)) who re-invests Coupon payments as soon as they're received. In this senario, $f_{acf} = f_{ac \\mathbf{p} f} = 0.5$."
   ]
  },
  {
   "cell_type": "markdown",
   "id": "58e3ccee-502a-45b2-b2e4-08913ef8862c",
   "metadata": {
    "tags": []
   },
   "source": [
    "#### Discount Factor <a class=\"anchor\" id=\"DiscountFactor\"></a>\n",
    "It is easy to see that NPVs and YTMs are therefore (inversely) related; if one changes, the other must change too. We may - therefore - equivalently speak about a change in NPV and a change in YTM since the FV (for each sovereign bond [issuer](https://www.investopedia.com/terms/i/issuer.asp)) does not change. The YTM acts as the [discount factor](https://www.investopedia.com/terms/d/discountrate.asp) here; as a matter of fact, we can see that the YTM is the annual growth rate of our NPV that leads it to the FV in the following:"
   ]
  },
  {
   "cell_type": "markdown",
   "id": "62469514-aca6-43f8-8521-9dd58f52cdee",
   "metadata": {},
   "source": [
    "$$ FV_t  = \n",
    "    \\begin{Bmatrix}\n",
    "         \\left[ NPV_{f_{\\text{acf}}, t} - \\sum^{^\\frac{m}{f_{acf}}}_{\\tau=1} {\\frac{f_{acf} \\text{ } C}{ (1 + f_{\\text{acf}} \\text{ } YTM_t)^{\\tau} }} \\right] \\text{ } \\left(1 + f_{\\text{acf}} \\text{ } YTM_t\\right)^\\frac{m}{f_{\\text{acf}}} & \\text{if } m \\geq f_{\\text{acf}} \\\\\n",
    "         \\\\\n",
    "         NPV_{f_{\\text{acf}}, t} \\text{ } {\\left(1 + \\text{ } m \\text{ } YTM_t\\right)} - m \\text{ } C & \\text{if } m < f_{\\text{acf}}\n",
    "     \\end{Bmatrix}\n",
    "$$"
   ]
  },
  {
   "cell_type": "markdown",
   "id": "c3c679e0-17af-4b02-8f70-519d44fc0bfa",
   "metadata": {},
   "source": [
    "#### Comparability\n",
    "\n",
    "NPVs of different bonds are not comparable. That is because they account for bonds maturing at different times. Instead, YTMs of different bonds are comparable because they are annualised, therefore they account for different maturities. It is thus preferable to only speak of changes in sovereign bond NPVs in terms of the change in their YTMs; then we can compare them to each other, *e.g.*: in a Yield Curve (that can be seen [here](https://emea1.apps.cp.thomsonreuters.com/web/Explorer/EVzCURVEzFIxOV.aspx?s=0%23USBMK%3D&st=RIC) with Refinitiv credentials):"
   ]
  },
  {
   "cell_type": "markdown",
   "id": "b3f34d4e-2024-477f-8cc9-5703433031c4",
   "metadata": {},
   "source": [
    "<img src=\"/content/dam/devportal/articles/computing-risk-free-rates-and-excess-returns-from-zero-coupon-bonds/yieldcurve.PNG\">"
   ]
  },
  {
   "cell_type": "markdown",
   "id": "9f5beffc-dc2b-4533-b90e-ab367acfe34c",
   "metadata": {},
   "source": [
    "#### A Note on Maturities\n",
    "It happens to be that we can easily formulate NPV (and FV) in the two cases where $m \\geq 1$ and $m < 1$  because all maturities greater than 1 are a multiple of 1 (*i.e.*: they are whole numbers) (*i.e.*: no maturities past 1 year stop mid year, *e.g.*: 10 years and 6 months)."
   ]
  },
  {
   "cell_type": "markdown",
   "id": "f3e77216-ad44-4283-ac19-b75a6b409e1f",
   "metadata": {},
   "source": [
    "#### Coupon Paying Rate <a class=\"anchor\" id=\"CouponPayingRate\"></a>\n",
    "\n",
    "If the Coupon is stated as an annual percentage, $\\mathcal{C}_p$, of the Face Value (as it usually is), then:\n",
    "\n",
    "$$ C = \\mathcal{C}_p \\text{   } \\text{   } FV$$"
   ]
  },
  {
   "cell_type": "markdown",
   "id": "e9ed4833-0f1c-4ed8-9fd8-782d38ae058f",
   "metadata": {},
   "source": [
    "### T-Note Example: Five Year T-Note with Semi-Annual Compounding\n",
    "\n",
    "Using a semi-annual compounding accounting method (such that $f_{\\text{acf}} = 0.5 = f_{\\text{acpf}}$), a T-Note that matures in 5 Years (Five-Year T-Bill, FYTN) has a Net Present Value (${NPV}_{\\text{FYTN}, f_{\\text{acf}}, t}$) of ${NPV}_{\\text{FYTN}, 0.5, t}$ at time t such that:"
   ]
  },
  {
   "cell_type": "markdown",
   "id": "f7bbc43c-5134-4967-9266-8b607aeae3dd",
   "metadata": {},
   "source": [
    "$$  \\begin{array}{ll}\n",
    "{NPV}_{\\text{FYTN}, 0.5, t} &= \n",
    "    \\begin{Bmatrix}\n",
    "         \\frac{FV_{\\text{FYTN}, t}}{\\left(1 + 0.5 \\text{ } YTM_{\\text{FYTN}, t}\\right)^\\frac{m_{\\text{FYTN}}}{0.5}} + \\sum^{^\\frac{m_{\\text{FYTN}}}{0.5}}_{\\tau=1} {\\frac{0.5 \\text{ } C_{\\text{FYTN}}}{ (1 + 0.5 \\text{ } YTM_{\\text{FYTN}, t})^{\\tau} }} & \\text{if } m_{\\text{FYTN}} \\geq 0.5 \\\\\n",
    "         \\\\\n",
    "         \\frac{FV_{\\text{FYTN}, t} + m_{\\text{FYTN}} \\text{ } C_{\\text{FYTN}} }{\\left(1 + \\text{ } m_{\\text{FYTN}} \\text{ } YTM_{\\text{FYTN}, t}\\right)} & \\text{if } m_{\\text{FYTN}} < 0.5\n",
    "     \\end{Bmatrix}\\\\\n",
    "     \\\\\n",
    "&= \\frac{FV_{\\text{FYTN}, t}}{\\left(1 + 0.5 \\text{ } YTM_{\\text{FYTN}, t}\\right)^\\frac{5}{0.5}} + \\sum^{^\\frac{5}{0.5}}_{\\tau=1} {\\frac{0.5 \\text{ } C_{\\text{FYTN}}}{ (1 + 0.5 \\text{ } YTM_{\\text{FYTN}, t})^{\\tau} }} & \\text{since } m_{\\text{FYTN}} = 5 > 0.5 \\\\\n",
    "&= \\frac{FV_{\\text{FYTN}, t}}{\\left(1 + 0.5 \\text{ } YTM_{\\text{FYTN}, t}\\right)^{10}} + \\sum^{10}_{\\tau=1} {\\frac{0.5 \\text{ } C_{\\text{FYTN}}}{ (1 + 0.5 \\text{ } YTM_{\\text{FYTN}, t})^{\\tau} }} & \\text{since } \\frac{5}{0.5} = 10 \\\\\n",
    "&= \\frac{FV_{\\text{FYTN}, t}}{\\left(1 + 0.5 \\text{ } YTM_{\\text{FYTN}, t}\\right)^{10}} + \\sum^{10}_{\\tau=1} {\\frac{0.5 \\text{ } \\mathcal{C}_p \\text{   } \\text{   } FV_{\\text{FYTN}, t}}{ (1 + 0.5 \\text{ } YTM_{\\text{FYTN}, t})^{\\tau} }} & \\text{since } C_{\\text{FYTN}} = \\mathcal{C}_p \\text{   } \\text{   } FV_{\\text{FYTN}, t} \\\\\n",
    "% &= \\frac{1000 \\text{U.S.D.}}{\\left(1 + 0.5 \\text{ } YTM_{\\text{FYTN}, t}\\right)^{10}} + \\sum^{10}_{\\tau=1} {\\frac{0.5 \\text{ } \\mathcal{C}_p \\text{   } \\text{   } 1000 \\text{U.S.D.}}{ (1 + 0.5 \\text{ } YTM_{\\text{FYTN}, t})^{\\tau} }} & \\text{since } FV_{\\text{FYTN}, t} = 1000 \\text{U.S.D.} \\\\\n",
    "\\end{array}$$\n"
   ]
  },
  {
   "cell_type": "markdown",
   "id": "bb98168a-eca9-4949-9600-f41b1387f1fe",
   "metadata": {},
   "source": [
    "Let's have a look at data from \"2020-07-31\":"
   ]
  },
  {
   "cell_type": "code",
   "execution_count": 1,
   "id": "7f161210-7beb-496c-8902-8c4c22e201af",
   "metadata": {},
   "outputs": [],
   "source": [
    "# We need to gather our data. Since Refinitiv's DataStream Web Services (DSWS) allows for access to the most accurate and wholesome end-of-day (E.O.D.) economic database (DB), naturally it is more than appropriate. We can access DSWS via the Python library \"DatastreamDSWS\" that can be installed simply by using  pip install .\n",
    "import DatastreamDSWS as DSWS\n",
    "\n",
    "# We can use our Refinitiv's Datastream Web Socket (DSWS) API keys that allows us to be identified by Refinitiv's back-end services and enables us to request (and fetch) data:\n",
    "DSWS_username = open(\"Datastream_username.txt\", \"r\")  # The username is placed in a text file so that it may be used in this code without showing it itself\n",
    "DSWS_password = open(\"Datastream_password.txt\", \"r\")  # Same for the password\n",
    "ds = DSWS.Datastream(username=str(DSWS_username.read()),\n",
    "                     password=str(DSWS_password.read()))\n",
    "\n",
    "# It is best to close the files we opened in order to make sure that we don't stop any other services/programs from accessing them if they need to:\n",
    "DSWS_username.close()\n",
    "DSWS_password.close()"
   ]
  },
  {
   "cell_type": "code",
   "execution_count": 2,
   "id": "f1365b5f-c1bc-4ac0-be9e-7d8f7875d581",
   "metadata": {},
   "outputs": [],
   "source": [
    "# Now let's get US Treasury Note (Maturing) 31/07/25:\n",
    "fytn_Coupon_2020_07_31_p = ds.get_data( #  the ' _p ' is for 'price'\n",
    "    tickers='613XGU', # found this ticker on https://product.datastream.com/browse/search.aspx?dsid=ZRQW955&AppGroup=DSAddin&q=US+Treasury+Note+31%2F07%2F25&prev=99_US+Treasury+Note+(Maturing)+31%2F07%2F25&nav_category=13\n",
    "    fields=\"X\", freq='D')"
   ]
  },
  {
   "cell_type": "code",
   "execution_count": 3,
   "id": "73abb226-725b-4151-9686-641ff6f51d53",
   "metadata": {},
   "outputs": [
    {
     "data": {
      "text/html": [
       "<div>\n",
       "<style scoped>\n",
       "    .dataframe tbody tr th:only-of-type {\n",
       "        vertical-align: middle;\n",
       "    }\n",
       "\n",
       "    .dataframe tbody tr th {\n",
       "        vertical-align: top;\n",
       "    }\n",
       "\n",
       "    .dataframe thead tr th {\n",
       "        text-align: left;\n",
       "    }\n",
       "\n",
       "    .dataframe thead tr:last-of-type th {\n",
       "        text-align: right;\n",
       "    }\n",
       "</style>\n",
       "<table border=\"1\" class=\"dataframe\">\n",
       "  <thead>\n",
       "    <tr>\n",
       "      <th>Instrument</th>\n",
       "      <th>613XGU</th>\n",
       "    </tr>\n",
       "    <tr>\n",
       "      <th>Field</th>\n",
       "      <th>X</th>\n",
       "    </tr>\n",
       "    <tr>\n",
       "      <th>Dates</th>\n",
       "      <th></th>\n",
       "    </tr>\n",
       "  </thead>\n",
       "  <tbody>\n",
       "    <tr>\n",
       "      <th>2020-07-24</th>\n",
       "      <td>99.8594</td>\n",
       "    </tr>\n",
       "    <tr>\n",
       "      <th>2020-07-27</th>\n",
       "      <td>99.7969</td>\n",
       "    </tr>\n",
       "    <tr>\n",
       "      <th>2020-07-28</th>\n",
       "      <td>99.9219</td>\n",
       "    </tr>\n",
       "    <tr>\n",
       "      <th>2020-07-29</th>\n",
       "      <td>99.9765</td>\n",
       "    </tr>\n",
       "    <tr>\n",
       "      <th>2020-07-30</th>\n",
       "      <td>100.1016</td>\n",
       "    </tr>\n",
       "    <tr>\n",
       "      <th>...</th>\n",
       "      <td>...</td>\n",
       "    </tr>\n",
       "    <tr>\n",
       "      <th>2021-07-13</th>\n",
       "      <td>98.2500</td>\n",
       "    </tr>\n",
       "    <tr>\n",
       "      <th>2021-07-14</th>\n",
       "      <td>98.4297</td>\n",
       "    </tr>\n",
       "    <tr>\n",
       "      <th>2021-07-15</th>\n",
       "      <td>98.4688</td>\n",
       "    </tr>\n",
       "    <tr>\n",
       "      <th>2021-07-16</th>\n",
       "      <td>98.4688</td>\n",
       "    </tr>\n",
       "    <tr>\n",
       "      <th>2021-07-19</th>\n",
       "      <td>98.7031</td>\n",
       "    </tr>\n",
       "  </tbody>\n",
       "</table>\n",
       "<p>257 rows × 1 columns</p>\n",
       "</div>"
      ],
      "text/plain": [
       "Instrument    613XGU\n",
       "Field              X\n",
       "Dates               \n",
       "2020-07-24   99.8594\n",
       "2020-07-27   99.7969\n",
       "2020-07-28   99.9219\n",
       "2020-07-29   99.9765\n",
       "2020-07-30  100.1016\n",
       "...              ...\n",
       "2021-07-13   98.2500\n",
       "2021-07-14   98.4297\n",
       "2021-07-15   98.4688\n",
       "2021-07-16   98.4688\n",
       "2021-07-19   98.7031\n",
       "\n",
       "[257 rows x 1 columns]"
      ]
     },
     "execution_count": 3,
     "metadata": {},
     "output_type": "execute_result"
    }
   ],
   "source": [
    "fytn_Coupon_2020_07_31_p.dropna()"
   ]
  },
  {
   "cell_type": "code",
   "execution_count": 4,
   "id": "373f4960-be62-4931-abed-8c5d821fc671",
   "metadata": {},
   "outputs": [
    {
     "data": {
      "text/plain": [
       "Instrument  Field\n",
       "613XGU      X        100.1016\n",
       "Name: 2020-07-30, dtype: float64"
      ]
     },
     "execution_count": 4,
     "metadata": {},
     "output_type": "execute_result"
    }
   ],
   "source": [
    "fytn_Coupon_2020_07_31_p.loc[\"2020-07-30\"]"
   ]
  },
  {
   "cell_type": "markdown",
   "id": "db1a6898-fdf0-4661-8f3c-20d241f3de5d",
   "metadata": {},
   "source": [
    "We can see that the price on \"2020-07-31\" was \\$100.1016, so it was selling at a premium. We are using '[613XGU](https://product.datastream.com/browse/search.aspx?dsid=ZRQW955&AppGroup=DSAddin&q=613XGU&prev=99_TRUS5YT&prev_csrc=8)' instead of '[TRUS5YT](https://product.datastream.com/browse/search.aspx?dsid=ZRQW955&AppGroup=DSAddin&q=TRUS5YT&prev=99_)' as the latter is the YTM given for sovereign provided bonds which one cannot actually buy - only investment banks can purchse such bonds. (Many pension funds and asset managers hold sovereign bonds, but investment banks are the institutions who trade them.) Here instead we are looking at sovereign bonds sold by the investment bank 'Deutsche Boerse AG'. This means that, in our equation, we'd use the realised price of \\\\$100.1016 instead of the ${NPV}_{\\text{FYTN}, 0.5, \"2020-07-31\"}$."
   ]
  },
  {
   "cell_type": "code",
   "execution_count": 5,
   "id": "c4893f32-0b46-4572-8bb7-dddc2c8cc097",
   "metadata": {},
   "outputs": [
    {
     "data": {
      "text/html": [
       "<div>\n",
       "<style scoped>\n",
       "    .dataframe tbody tr th:only-of-type {\n",
       "        vertical-align: middle;\n",
       "    }\n",
       "\n",
       "    .dataframe tbody tr th {\n",
       "        vertical-align: top;\n",
       "    }\n",
       "\n",
       "    .dataframe thead th {\n",
       "        text-align: right;\n",
       "    }\n",
       "</style>\n",
       "<table border=\"1\" class=\"dataframe\">\n",
       "  <thead>\n",
       "    <tr style=\"text-align: right;\">\n",
       "      <th></th>\n",
       "      <th>Instrument</th>\n",
       "      <th>Datatype</th>\n",
       "      <th>Value</th>\n",
       "      <th>Dates</th>\n",
       "    </tr>\n",
       "  </thead>\n",
       "  <tbody>\n",
       "    <tr>\n",
       "      <th>0</th>\n",
       "      <td>613XGU</td>\n",
       "      <td>NAME</td>\n",
       "      <td>US TREASURY NOTE 2020 1/4% 31/07/25 AB-2025</td>\n",
       "      <td>2021-07-19</td>\n",
       "    </tr>\n",
       "    <tr>\n",
       "      <th>1</th>\n",
       "      <td>613XGU</td>\n",
       "      <td>ID</td>\n",
       "      <td>2020-07-31</td>\n",
       "      <td>2021-07-19</td>\n",
       "    </tr>\n",
       "    <tr>\n",
       "      <th>2</th>\n",
       "      <td>613XGU</td>\n",
       "      <td>TERM</td>\n",
       "      <td>5</td>\n",
       "      <td>2021-07-19</td>\n",
       "    </tr>\n",
       "    <tr>\n",
       "      <th>3</th>\n",
       "      <td>613XGU</td>\n",
       "      <td>RV</td>\n",
       "      <td>100</td>\n",
       "      <td>2021-07-19</td>\n",
       "    </tr>\n",
       "    <tr>\n",
       "      <th>4</th>\n",
       "      <td>613XGU</td>\n",
       "      <td>C</td>\n",
       "      <td>0.25</td>\n",
       "      <td>2021-07-19</td>\n",
       "    </tr>\n",
       "    <tr>\n",
       "      <th>5</th>\n",
       "      <td>613XGU</td>\n",
       "      <td>CTYP</td>\n",
       "      <td>FIX</td>\n",
       "      <td>2021-07-19</td>\n",
       "    </tr>\n",
       "    <tr>\n",
       "      <th>6</th>\n",
       "      <td>613XGU</td>\n",
       "      <td>RDL</td>\n",
       "      <td>2025-07-31</td>\n",
       "      <td>2021-07-19</td>\n",
       "    </tr>\n",
       "    <tr>\n",
       "      <th>7</th>\n",
       "      <td>613XGU</td>\n",
       "      <td>EXCHB</td>\n",
       "      <td>FF MU DD</td>\n",
       "      <td>2021-07-19</td>\n",
       "    </tr>\n",
       "  </tbody>\n",
       "</table>\n",
       "</div>"
      ],
      "text/plain": [
       "  Instrument Datatype                                        Value       Dates\n",
       "0     613XGU     NAME  US TREASURY NOTE 2020 1/4% 31/07/25 AB-2025  2021-07-19\n",
       "1     613XGU       ID                                   2020-07-31  2021-07-19\n",
       "2     613XGU     TERM                                            5  2021-07-19\n",
       "3     613XGU       RV                                          100  2021-07-19\n",
       "4     613XGU        C                                         0.25  2021-07-19\n",
       "5     613XGU     CTYP                                          FIX  2021-07-19\n",
       "6     613XGU      RDL                                   2025-07-31  2021-07-19\n",
       "7     613XGU    EXCHB                                     FF MU DD  2021-07-19"
      ]
     },
     "execution_count": 5,
     "metadata": {},
     "output_type": "execute_result"
    }
   ],
   "source": [
    "# Now let's get US Treasury Note (Maturing) 31/07/25:\n",
    "fytn_Coupon_2020_07_31_f = ds.get_data(  #  the ' _f ' is for 'fixed', as in fixed data.\n",
    "    tickers='613XGU',  # found this ticker on https://product.datastream.com/browse/search.aspx?dsid=ZRQW955&AppGroup=DSAddin&q=US+Treasury+Note+31%2F07%2F25&prev=99_US+Treasury+Note+(Maturing)+31%2F07%2F25&nav_category=13\n",
    "    kind=0,  # ' kind=0 ' is needed here as we are looking for static data that doesn't change with time.\n",
    "    fields=[\"NAME\", \"ID\", \"TERM\", \"RV\", \"C\", \"CTYP\", \"RDL\", \"EXCHB\"])\n",
    "fytn_Coupon_2020_07_31_f"
   ]
  },
  {
   "cell_type": "markdown",
   "id": "4a395426-d0b9-472f-83d4-1efd38fdaee9",
   "metadata": {},
   "source": [
    "From the above we can note that the Issuing Date (```ID```) is 2020-07-31 with a maturity (also known as (a.k.a.) ```Term```) of 5 years, thus a Last Redemption Date (```RDL```) of 2025-07-31, a Face Value (a.k.a. \"Redemption Value\" - ```RV```) of \\\\$100, and a Fixed Coupon Rate of 0.25\\% - which is quite low. (We can also see the exchanges where our security was listed, shown as [Codes](https://product.datastream.com/browse/search.aspx?dsid=ZRQW955&AppGroup=DSAddin&dt=true&q=exchange&prev=dtx1%7C0001_0001_0001&subset=dtx1%7C0001_0001_0001).) It is unusual to have T‐notes with Face Values other than \\\\$1000, but this is hat we're dealing with here. We thus now have:"
   ]
  },
  {
   "cell_type": "markdown",
   "id": "f9a3e9f5-6a73-4402-b02e-6eeb0a018ef1",
   "metadata": {},
   "source": [
    "$$  \\begin{array}{ll}\n",
    "\\text{\\$}100.1016 &= \\frac{FV_{\\text{FYTN}, \"2020-07-31\"}}{\\left(1 + 0.5 \\text{ } YTM_{\\text{FYTN}, \"2020-07-31\"}\\right)^{10}} + \\sum^{10}_{\\tau=1} {\\frac{0.5 \\text{ } \\mathcal{C}_p \\text{   } \\text{   } FV_{\\text{FYTN}, \"2020-07-31\"}}{ (1 + 0.5 \\text{ } YTM_{\\text{FYTN}, \"2020-07-31\"})^{\\tau} }} & \\text{since we are using our realised price of \\$100.1016 instead of the } {NPV}_{\\text{FYTN}, 0.5, \"2020-07-31\"}\\\\\n",
    "&= \\frac{\\text{\\$}100}{\\left(1 + 0.5 \\text{ } YTM_{\\text{FYTN}, \"2020-07-31\"}\\right)^{10}} + \\sum^{10}_{\\tau=1} {\\frac{0.5 \\text{ } \\mathcal{C}_p \\text{   } \\text{   } \\text{\\$}100}{ (1 + 0.5 \\text{ } YTM_{\\text{FYTN}, \"2020-07-31\"})^{\\tau} }} & \\text{since } FV_{\\text{FYTN}, \"2020-07-31\"} = \\text{\\$}100 \\\\\n",
    "&= \\frac{\\text{\\$}100}{\\left(1 + 0.5 \\text{ } YTM_{\\text{FYTN}, \"2020-07-31\"}\\right)^{10}} + \\sum^{10}_{\\tau=1} {\\frac{0.5 * \\frac{0.25}{100} * \\text{   } \\text{   } \\text{\\$}100}{ (1 + 0.5 \\text{ } YTM_{\\text{FYTN}, \"2020-07-31\"})^{\\tau} }} & \\text{since } \\mathcal{C}_p = 0.25\\% = \\frac{0.25}{100} \\text{ in this instance} \\\\\n",
    "&= \\frac{\\text{\\$}100}{\\left(1 + 0.5 \\text{ } YTM_{\\text{FYTN}, \"2020-07-31\"}\\right)^{10}} + \\sum^{10}_{\\tau=1} {\\frac{\\text{\\$}0.125}{ (1 + 0.5 \\text{ } YTM_{\\text{FYTN}, \"2020-07-31\"})^{\\tau} }} \\\\\n",
    "\\end{array}$$\n",
    "since"
   ]
  },
  {
   "cell_type": "code",
   "execution_count": 6,
   "id": "fcd515e2-ffec-41f3-b5d5-e16ae733867c",
   "metadata": {},
   "outputs": [
    {
     "data": {
      "text/plain": [
       "0.125"
      ]
     },
     "execution_count": 6,
     "metadata": {},
     "output_type": "execute_result"
    }
   ],
   "source": [
    "0.5 * (0.25/100) * 100"
   ]
  },
  {
   "cell_type": "markdown",
   "id": "89568bff-fcd4-4f1b-81a6-ac7af17a2c11",
   "metadata": {},
   "source": [
    "Thus:\n",
    "\n",
    "$$ \\begin{array}{ll}\n",
    "0 &= \\frac{FV_{\\text{FYTN}, \"2020-07-31\"}}{\\left(1 + 0.5 \\text{ } YTM_{\\text{FYTN}, \"2020-07-31\"}\\right)^{10}} + \\sum^{10}_{\\tau=1} {\\frac{0.5 \\text{ } \\mathcal{C}_p \\text{   } \\text{   } FV_{\\text{FYTN}, \"2020-07-31\"}}{ (1 + 0.5 \\text{ } YTM_{\\text{FYTN}, \"2020-07-31\"})^{\\tau} }} - \\text{\\$}100.1016 & \\text{ as per the above} \\\\\n",
    "&= \\frac{\\text{\\$}100}{\\left(1 + 0.5 \\text{ } YTM_{\\text{FYTN}, \"2020-07-31\"}\\right)^{10}} + \\sum^{10}_{\\tau=1} {\\frac{\\text{\\$}0.125}{ (1 + 0.5 \\text{ } YTM_{\\text{FYTN}, \"2020-07-31\"})^{\\tau} }} - \\text{\\$}100.1016 & \\text{ as per the above} \\\\\n",
    "&\\approx \\frac{\\text{\\$}100}{\\left(1 + 0.5 \\text{   } * \\text{   }  0.002295515059055049 \\right)^{10}} + \\sum^{10}_{\\tau=1} {\\frac{\\text{\\$}0.125}{ (1 + 0.5 \\text{   } * \\text{   }  0.002295515059055049)^{\\tau} }} - \\text{\\$}100.1016 \n",
    "\\end{array}$$\n",
    "\n",
    "as computed itteratively with the Python funcition ```YTM_Solver``` deffined bellow:"
   ]
  },
  {
   "cell_type": "markdown",
   "id": "19423e95-62a0-4119-80e0-6f9726385969",
   "metadata": {},
   "source": [
    "#### Computing Single YTM Values"
   ]
  },
  {
   "cell_type": "code",
   "execution_count": 7,
   "id": "0fd1db84-5c8b-47af-9d9d-02630df50b7a",
   "metadata": {},
   "outputs": [],
   "source": [
    "from scipy import optimize # ' scipy ' is a scientific Python library. We will use it to find the optimal Yield in our non-closed equation.\n",
    "\n",
    "\n",
    "def YTM_Solver(fv, c, m, p, f_acf, error=False):\n",
    "    \"\"\"YTM_Solver(fv, c, m, p, f_acf, error=False) Version 1.0\n",
    "    This Python function calculates the yield to maturity for a sovereign bond, wether coupon paying or not.\n",
    "\n",
    "    Dependencies\n",
    "    ----------\n",
    "\n",
    "    Python sub-library 'optimised' from 'scipy' version 1.6.2. Imported via following line:\n",
    "    >>> from scipy import optimize\n",
    "\n",
    "    Parameters\n",
    "    ----------\n",
    "\n",
    "    fv: int or float\n",
    "        Face Value (also known as (a.k.a.) Redemption Value) of the bond.\n",
    "        This has to be in the same currency as c and p.\n",
    "\n",
    "    c: int or float\n",
    "        Coupon that the bond pays every year - if any.\n",
    "        This has to be in the same currency as fv and p.\n",
    "        If the Bond doesn't pay Coupons, set it to 'None'.\n",
    "\n",
    "    m: int or float\n",
    "        Maturity (a.k.a.: Term) of the Bond in years - if any.\n",
    "        If it is less than a year, express it in a fraction (e.g.: 6 months as 1/2).\n",
    "\n",
    "    p: int or float\n",
    "        Realised price of the Bond.\n",
    "        This has to be in the same currency as fv and c.\n",
    "\n",
    "    f_acf: int or float\n",
    "          Annual compound frequency (such that if we compound cash flows annually, f_acf=1; and if we compound cash flows bi-annually (i.e.: twice a year / every 6 months), f_acf=0.5).\n",
    "          Coupons are paid at a fixed 'annual Coupon payment frequency' (f_acPf). Usually, the following are true:\n",
    "          - f_acPf = 0.5 , i.e.: Coupon payments are made every 6 months (i.e.: semi-annually)\n",
    "          - f_acf is set to the f_acPf such that f_acPf = f_acf\n",
    "          - Thus usually f_acPf = f_acpf = 0.5.\n",
    "\n",
    "    error: boolean\n",
    "        If set to True and if the method used to compute the ytm is not infenitely precise (id est: if m > f_acf), then an error value away from the price of the bond is provided.\n",
    "\n",
    "    Returns\n",
    "    -------\n",
    "\n",
    "    if the 'error' parameter is:\n",
    "        - Set to False: YTM_Solver returns a float as the ytm.\n",
    "        - Set to True: YTM_Solver returns a tuple of the ytm and the error. This is the eror in the price implied by the given ytm.\n",
    "    \"\"\"\n",
    "\n",
    "    if m >= f_acf:  # Net Preset Values (NPVs) - and by extension Yields - of Bonds are valued with equations that depend on the relative value of their maturities and annual compound frequency.\n",
    "\n",
    "        def YTM_Equation(ytm, fv, c, m, p, f_acf):\n",
    "            \"\"\"YTM_Equation is an ephemeral function created simply to be inbedded in scipy's optimize.newton function.\"\"\"\n",
    "            return (fv/((1 + (f_acf*ytm))**(m/f_acf))) - p + sum(\n",
    "                [(f_acf*c)/((1 + f_acf*ytm)**i) for i in range(1, int(m/f_acf)+1)])\n",
    "\n",
    "        ytm_op = optimize.newton(  # the ' _op ' here stands for 'optimal'\n",
    "            func=YTM_Equation,\n",
    "            x0=0.002,  # I simply chose ' 0.002 ' after 3 trial and improvement rounds.\n",
    "            args=(fv, c, m, p, f_acf))  # These stand for (respectively): fv, c, m, p and f_acf.\n",
    "\n",
    "        err = (fv/((1 + (f_acf*ytm_op))**(m/f_acf))) - p + sum(\n",
    "                [(f_acf*c)/((1 + f_acf*ytm_op)**i) for i in range(1, int(m/f_acf)+1)]) # YTM_Equation(ytm_op, fv, c, m, p, f_acf)\n",
    "\n",
    "    elif m < f_acf:\n",
    "        ytm_op = (((fv + (m*c))/p)-1)/m\n",
    "        err = 0\n",
    "\n",
    "    else:\n",
    "        return \"fv, c, m, p and f_acf must be numbers - either integers or floating point.\"\n",
    "\n",
    "\n",
    "    if error is False:\n",
    "        return ytm_op\n",
    "    elif error is True:\n",
    "        return ytm_op, err\n",
    "    else:\n",
    "        print(\"Parameter 'error' needs to be a boolean value of 'True' or 'False'.\")"
   ]
  },
  {
   "cell_type": "code",
   "execution_count": 8,
   "id": "53dee25b-e2b1-421b-adab-f209e0942b8a",
   "metadata": {},
   "outputs": [
    {
     "name": "stdout",
     "output_type": "stream",
     "text": [
      "Our optimal YTM is 0.002295515059055049 with an error of 1.2434497875801753e-14\n"
     ]
    }
   ],
   "source": [
    "ytm_op, err = YTM_Solver(fv=100, c=0.25, m=5, p=100.1016, f_acf=0.5, error=True)\n",
    "print(f\"Our optimal YTM is {ytm_op} with an error of {err}\")"
   ]
  },
  {
   "cell_type": "code",
   "execution_count": 9,
   "id": "a73b70f2-3feb-4af0-bafd-c8365ccb54d0",
   "metadata": {},
   "outputs": [
    {
     "data": {
      "text/plain": [
       "1.2434497875801753e-14"
      ]
     },
     "execution_count": 9,
     "metadata": {},
     "output_type": "execute_result"
    }
   ],
   "source": [
    "# Checking the error manually to verify sound mathematics in the ' CPB_YTM_Solver ' function:\n",
    "(100/((1+(0.5*ytm_op))**10)) - 100.1016 + (sum(\n",
    "    [0.125/((1 + (0.5 * ytm_op))**i) for i in range(1, 11)]))"
   ]
  },
  {
   "cell_type": "markdown",
   "id": "03dd6eee-b14d-4313-8d64-f6127a53f7bf",
   "metadata": {},
   "source": [
    "#### Computing Series of YTM Values"
   ]
  },
  {
   "cell_type": "markdown",
   "id": "5bfb01f5-4c5d-43c3-8d8b-834513fa63a0",
   "metadata": {},
   "source": [
    "We cannot use the same price data from ```fytn_Coupon_2020_07_31_p``` through time along with the ```YTM_Solver``` to construct a data-frame of ```ytm```s of interest. This is because the maturity technically is different every day, decreasing by a day every time-period/row. Instead, we need a new Bond with the same maturity per row of our series.\n",
    "\n",
    "Using ```DS.SYMBOLLOOKUP(Category=Bonds & Convertibles)``` as a ```field``` of ```ds.get_data```, we can search for our Bonds of interest (*i.e.*: 5 year US Bonds) within any period of interest (*e.g.*: 2022 to 2027)"
   ]
  },
  {
   "cell_type": "code",
   "execution_count": 10,
   "id": "c911f4df-13ab-43bc-a8dc-bf93b07e80da",
   "metadata": {},
   "outputs": [
    {
     "name": "stdout",
     "output_type": "stream",
     "text": [
      "The pandas library imported in this code is version: 1.2.4\n"
     ]
    }
   ],
   "source": [
    "# There are some libraries we need to import:\n",
    "import pandas  # pandas will be needed to manipulate data sets\n",
    "from datetime import datetime\n",
    "import calendar\n",
    "print(\"The pandas library imported in this code is version: \" + pandas.__version__)"
   ]
  },
  {
   "cell_type": "code",
   "execution_count": 11,
   "id": "e6bd9f06-507b-4955-9779-bcc0c285e004",
   "metadata": {},
   "outputs": [],
   "source": [
    "def DSWS_fixed_data_collection(instruments,\n",
    "                               fields=[\"DSCD\", \"NAME\", \"ID\", \"TERM\", \"RV\", \"C\", \"CTYP\", \"RDL\"]):\n",
    "    dswsfdc_df = pandas.DataFrame()\n",
    "    for i in instruments:\n",
    "        _dswsfdc_df = ds.get_data(tickers=i, kind=0, fields=fields)\n",
    "        dswsfdc_df = dswsfdc_df.append(pandas.DataFrame(\n",
    "            data=list(_dswsfdc_df['Value'].values), index=fields).T)\n",
    "    return dswsfdc_df\n",
    "\n",
    "def DSWS_fixed_and_price_data_collection_and_ytm(instruments,\n",
    "                                                 fields=[\"DSCD\", \"NAME\", \"ID\",\n",
    "                                                         \"TERM\", \"RV\", \"C\",\n",
    "                                                         \"CTYP\", \"RDL\"]):\n",
    "    _df = DSWS_fixed_data_collection(instruments=instruments, fields=fields)\n",
    "    _df[\"Price at issue\"] = [\n",
    "    float(ds.get_data(start=_df.iloc[i][\"ID\"], end=_df.iloc[i][\"ID\"],\n",
    "                      fields=\"X\", freq='D',\n",
    "                      tickers=_df.iloc[i][\"DSCD\"])[\"Value\"].values[0])\n",
    "    for i in range(len(_df))]\n",
    "\n",
    "    # Add the YTM to our data-frame\n",
    "    _df[\"YTM\"] = [YTM_Solver(\n",
    "        fv=_df.iloc[i][\"RV\"],\n",
    "        c=_df.iloc[i][\"RV\"] * _df.iloc[i][\"C\"] / 100,\n",
    "        m=_df.iloc[i][\"TERM\"],\n",
    "        f_acf=0.5, error=False,\n",
    "        p=_df.iloc[i][\"Price at issue\"])\n",
    "                     for i in range(len(_df.index))]\n",
    "\n",
    "    return _df"
   ]
  },
  {
   "cell_type": "code",
   "execution_count": 12,
   "id": "3f4d2915-7582-4cb6-82e6-41a2b01aea29",
   "metadata": {},
   "outputs": [
    {
     "data": {
      "text/html": [
       "<div>\n",
       "<style scoped>\n",
       "    .dataframe tbody tr th:only-of-type {\n",
       "        vertical-align: middle;\n",
       "    }\n",
       "\n",
       "    .dataframe tbody tr th {\n",
       "        vertical-align: top;\n",
       "    }\n",
       "\n",
       "    .dataframe thead th {\n",
       "        text-align: right;\n",
       "    }\n",
       "</style>\n",
       "<table border=\"1\" class=\"dataframe\">\n",
       "  <thead>\n",
       "    <tr style=\"text-align: right;\">\n",
       "      <th></th>\n",
       "      <th>DSCD</th>\n",
       "      <th>NAME</th>\n",
       "      <th>ID</th>\n",
       "      <th>TERM</th>\n",
       "      <th>RV</th>\n",
       "      <th>C</th>\n",
       "      <th>CTYP</th>\n",
       "      <th>RDL</th>\n",
       "      <th>Price at issue</th>\n",
       "      <th>YTM</th>\n",
       "    </tr>\n",
       "  </thead>\n",
       "  <tbody>\n",
       "    <tr>\n",
       "      <th>0</th>\n",
       "      <td>613XGU</td>\n",
       "      <td>US TREASURY NOTE 2020 1/4% 31/07/25 AB-2025</td>\n",
       "      <td>2020-07-31</td>\n",
       "      <td>5</td>\n",
       "      <td>100</td>\n",
       "      <td>0.25</td>\n",
       "      <td>FIX</td>\n",
       "      <td>2025-07-31</td>\n",
       "      <td>100.2031</td>\n",
       "      <td>0.002091</td>\n",
       "    </tr>\n",
       "    <tr>\n",
       "      <th>0</th>\n",
       "      <td>616J44</td>\n",
       "      <td>US TREASURY NOTE 2020 1/4% 31/08/25 AC-2025</td>\n",
       "      <td>2020-08-31</td>\n",
       "      <td>5</td>\n",
       "      <td>100</td>\n",
       "      <td>0.25</td>\n",
       "      <td>FIX</td>\n",
       "      <td>2025-08-31</td>\n",
       "      <td>99.9063</td>\n",
       "      <td>0.002689</td>\n",
       "    </tr>\n",
       "    <tr>\n",
       "      <th>0</th>\n",
       "      <td>619AX8</td>\n",
       "      <td>US TREASURY NOTE 2020 1/4% 30/09/25 AD-2025</td>\n",
       "      <td>2020-09-30</td>\n",
       "      <td>5</td>\n",
       "      <td>100</td>\n",
       "      <td>0.25</td>\n",
       "      <td>FIX</td>\n",
       "      <td>2025-09-30</td>\n",
       "      <td>99.8594</td>\n",
       "      <td>0.002783</td>\n",
       "    </tr>\n",
       "    <tr>\n",
       "      <th>0</th>\n",
       "      <td>622HAG</td>\n",
       "      <td>US TREASURY NOTE 2020 1/4% 31/10/25 AF-2025</td>\n",
       "      <td>2020-10-31</td>\n",
       "      <td>5</td>\n",
       "      <td>100</td>\n",
       "      <td>0.25</td>\n",
       "      <td>FIX</td>\n",
       "      <td>2025-10-31</td>\n",
       "      <td>99.3359</td>\n",
       "      <td>0.003842</td>\n",
       "    </tr>\n",
       "    <tr>\n",
       "      <th>0</th>\n",
       "      <td>624Z3N</td>\n",
       "      <td>US TREASURY NOTE 2020 3/8% 30/11/25 AG-2025</td>\n",
       "      <td>2020-11-30</td>\n",
       "      <td>5</td>\n",
       "      <td>100</td>\n",
       "      <td>0.375</td>\n",
       "      <td>FIX</td>\n",
       "      <td>2025-11-30</td>\n",
       "      <td>100.0547</td>\n",
       "      <td>0.003640</td>\n",
       "    </tr>\n",
       "    <tr>\n",
       "      <th>0</th>\n",
       "      <td>628GF5</td>\n",
       "      <td>US TREASURY NOTE 2020 3/8% 31/12/25 AH-2025</td>\n",
       "      <td>2020-12-31</td>\n",
       "      <td>5</td>\n",
       "      <td>100</td>\n",
       "      <td>0.375</td>\n",
       "      <td>FIX</td>\n",
       "      <td>2025-12-31</td>\n",
       "      <td>100.0703</td>\n",
       "      <td>0.003608</td>\n",
       "    </tr>\n",
       "    <tr>\n",
       "      <th>0</th>\n",
       "      <td>6309UZ</td>\n",
       "      <td>US TREASURY NOTE 2021 3/8% 31/01/26 U-2026</td>\n",
       "      <td>2021-01-31</td>\n",
       "      <td>5</td>\n",
       "      <td>100</td>\n",
       "      <td>0.375</td>\n",
       "      <td>FIX</td>\n",
       "      <td>2026-01-31</td>\n",
       "      <td>99.7500</td>\n",
       "      <td>0.004256</td>\n",
       "    </tr>\n",
       "    <tr>\n",
       "      <th>0</th>\n",
       "      <td>634DPQ</td>\n",
       "      <td>US TREASURY NOTE 2021 1/2% 28/02/26 V-2026</td>\n",
       "      <td>2021-02-28</td>\n",
       "      <td>5</td>\n",
       "      <td>100</td>\n",
       "      <td>0.5</td>\n",
       "      <td>FIX</td>\n",
       "      <td>2026-02-28</td>\n",
       "      <td>98.8750</td>\n",
       "      <td>0.007295</td>\n",
       "    </tr>\n",
       "    <tr>\n",
       "      <th>0</th>\n",
       "      <td>637QZJ</td>\n",
       "      <td>US TREASURY NOTE 2021 3/4% 31/03/26 W-2026</td>\n",
       "      <td>2021-03-31</td>\n",
       "      <td>5</td>\n",
       "      <td>100</td>\n",
       "      <td>0.75</td>\n",
       "      <td>FIX</td>\n",
       "      <td>2026-03-31</td>\n",
       "      <td>99.0859</td>\n",
       "      <td>0.009376</td>\n",
       "    </tr>\n",
       "    <tr>\n",
       "      <th>0</th>\n",
       "      <td>6403CY</td>\n",
       "      <td>US TREASURY NOTE 2021 3/4% 30/04/26 Y-2026</td>\n",
       "      <td>2021-04-30</td>\n",
       "      <td>5</td>\n",
       "      <td>100</td>\n",
       "      <td>0.75</td>\n",
       "      <td>FIX</td>\n",
       "      <td>2026-04-30</td>\n",
       "      <td>99.5156</td>\n",
       "      <td>0.008492</td>\n",
       "    </tr>\n",
       "    <tr>\n",
       "      <th>0</th>\n",
       "      <td>6439UZ</td>\n",
       "      <td>US TREASURY NOTE 2021 3/4% 31/05/26 Z-2026</td>\n",
       "      <td>2021-05-31</td>\n",
       "      <td>5</td>\n",
       "      <td>100</td>\n",
       "      <td>0.75</td>\n",
       "      <td>FIX</td>\n",
       "      <td>2026-05-31</td>\n",
       "      <td>99.8125</td>\n",
       "      <td>0.007883</td>\n",
       "    </tr>\n",
       "    <tr>\n",
       "      <th>0</th>\n",
       "      <td>646V3Q</td>\n",
       "      <td>US TREASURY NOTE 2021 7/8% 30/06/26 AA-2026</td>\n",
       "      <td>2021-06-30</td>\n",
       "      <td>5</td>\n",
       "      <td>100</td>\n",
       "      <td>0.875</td>\n",
       "      <td>FIX</td>\n",
       "      <td>2026-06-30</td>\n",
       "      <td>99.9219</td>\n",
       "      <td>0.008910</td>\n",
       "    </tr>\n",
       "  </tbody>\n",
       "</table>\n",
       "</div>"
      ],
      "text/plain": [
       "     DSCD                                         NAME          ID TERM   RV  \\\n",
       "0  613XGU  US TREASURY NOTE 2020 1/4% 31/07/25 AB-2025  2020-07-31    5  100   \n",
       "0  616J44  US TREASURY NOTE 2020 1/4% 31/08/25 AC-2025  2020-08-31    5  100   \n",
       "0  619AX8  US TREASURY NOTE 2020 1/4% 30/09/25 AD-2025  2020-09-30    5  100   \n",
       "0  622HAG  US TREASURY NOTE 2020 1/4% 31/10/25 AF-2025  2020-10-31    5  100   \n",
       "0  624Z3N  US TREASURY NOTE 2020 3/8% 30/11/25 AG-2025  2020-11-30    5  100   \n",
       "0  628GF5  US TREASURY NOTE 2020 3/8% 31/12/25 AH-2025  2020-12-31    5  100   \n",
       "0  6309UZ   US TREASURY NOTE 2021 3/8% 31/01/26 U-2026  2021-01-31    5  100   \n",
       "0  634DPQ   US TREASURY NOTE 2021 1/2% 28/02/26 V-2026  2021-02-28    5  100   \n",
       "0  637QZJ   US TREASURY NOTE 2021 3/4% 31/03/26 W-2026  2021-03-31    5  100   \n",
       "0  6403CY   US TREASURY NOTE 2021 3/4% 30/04/26 Y-2026  2021-04-30    5  100   \n",
       "0  6439UZ   US TREASURY NOTE 2021 3/4% 31/05/26 Z-2026  2021-05-31    5  100   \n",
       "0  646V3Q  US TREASURY NOTE 2021 7/8% 30/06/26 AA-2026  2021-06-30    5  100   \n",
       "\n",
       "       C CTYP         RDL  Price at issue       YTM  \n",
       "0   0.25  FIX  2025-07-31        100.2031  0.002091  \n",
       "0   0.25  FIX  2025-08-31         99.9063  0.002689  \n",
       "0   0.25  FIX  2025-09-30         99.8594  0.002783  \n",
       "0   0.25  FIX  2025-10-31         99.3359  0.003842  \n",
       "0  0.375  FIX  2025-11-30        100.0547  0.003640  \n",
       "0  0.375  FIX  2025-12-31        100.0703  0.003608  \n",
       "0  0.375  FIX  2026-01-31         99.7500  0.004256  \n",
       "0    0.5  FIX  2026-02-28         98.8750  0.007295  \n",
       "0   0.75  FIX  2026-03-31         99.0859  0.009376  \n",
       "0   0.75  FIX  2026-04-30         99.5156  0.008492  \n",
       "0   0.75  FIX  2026-05-31         99.8125  0.007883  \n",
       "0  0.875  FIX  2026-06-30         99.9219  0.008910  "
      ]
     },
     "execution_count": 12,
     "metadata": {},
     "output_type": "execute_result"
    }
   ],
   "source": [
    "# Collect a list of all the relevent Datastream Instrument Codes:\n",
    "list_of_instrument_dfs, list_of_instruments = [], []\n",
    "for j in range(2022, 2027):  # range from year to year\n",
    "    for i in range(1, 13):  # range from month to month\n",
    "        monthrange = calendar.monthrange(j, i)  # This gives two numbers in a tuple, the start day of any month (always 1) and the last.\n",
    "        search_term = 'US Treasury Note ' + str(j-5) + ' ' + str(  # Our search term is what we are going to look for; imagine we are using the Datastream Navigator and searching for that term. The ' -5 ' is here because we're looking at Bonds with 5 year terms.\n",
    "            monthrange[1]) + '/' + '{:>02}'.format(i) + '/' + str(j)[2:]  # ' monthrange[1] ' is the last date of that month. Also, ' '{:>02}'.format(i) ' adds a leading '0' in front of single digits, which is needed in our search term.\n",
    "        instrument = ds.get_data(  # This gets the lookup data from Datastream's Navigator's API via the ' DS.SYMBOLLOOKUP ' field.\n",
    "            tickers=search_term, kind=0,\n",
    "            fields=['DS.SYMBOLLOOKUP(Category=Bonds & Convertibles)'])\n",
    "        list_of_instrument_dfs.append(instrument)\n",
    "        if instrument[\"Value\"][0] != \"No matches\":\n",
    "            list_of_instruments.append(instrument[\"Instrument\"].values[0])\n",
    "\n",
    "# Collect original fixed data from DSWS:\n",
    "ytm_df = DSWS_fixed_and_price_data_collection_and_ytm(instruments=list_of_instruments)\n",
    "\n",
    "ytm_df"
   ]
  },
  {
   "cell_type": "markdown",
   "id": "ff138575-c6a1-4886-8b20-ffaee64ce3e6",
   "metadata": {},
   "source": [
    "##### Graph Series with [Plotly](https://plotly.com/)\n",
    "We can graph such YTMs or prices simply with the following:"
   ]
  },
  {
   "cell_type": "code",
   "execution_count": 13,
   "id": "a2d37729-76e4-4057-bcf8-d2de66204049",
   "metadata": {},
   "outputs": [
    {
     "data": {
      "text/html": [
       "        <script type=\"text/javascript\">\n",
       "        window.PlotlyConfig = {MathJaxConfig: 'local'};\n",
       "        if (window.MathJax) {MathJax.Hub.Config({SVG: {font: \"STIX-Web\"}});}\n",
       "        if (typeof require !== 'undefined') {\n",
       "        require.undef(\"plotly\");\n",
       "        requirejs.config({\n",
       "            paths: {\n",
       "                'plotly': ['https://cdn.plot.ly/plotly-latest.min']\n",
       "            }\n",
       "        });\n",
       "        require(['plotly'], function(Plotly) {\n",
       "            window._Plotly = Plotly;\n",
       "        });\n",
       "        }\n",
       "        </script>\n",
       "        "
      ]
     },
     "metadata": {},
     "output_type": "display_data"
    },
    {
     "data": {
      "text/html": [
       "        <script type=\"text/javascript\">\n",
       "        window.PlotlyConfig = {MathJaxConfig: 'local'};\n",
       "        if (window.MathJax) {MathJax.Hub.Config({SVG: {font: \"STIX-Web\"}});}\n",
       "        if (typeof require !== 'undefined') {\n",
       "        require.undef(\"plotly\");\n",
       "        requirejs.config({\n",
       "            paths: {\n",
       "                'plotly': ['https://cdn.plot.ly/plotly-latest.min']\n",
       "            }\n",
       "        });\n",
       "        require(['plotly'], function(Plotly) {\n",
       "            window._Plotly = Plotly;\n",
       "        });\n",
       "        }\n",
       "        </script>\n",
       "        "
      ]
     },
     "metadata": {},
     "output_type": "display_data"
    },
    {
     "name": "stdout",
     "output_type": "stream",
     "text": [
      "The plotly library imported in this code is version: 4.14.3\n",
      "The cufflinks library imported in this code is version: 0.17.3\n"
     ]
    }
   ],
   "source": [
    "from datetime import date, timedelta\n",
    "import statistics\n",
    "\n",
    "# The below are needed to plot graphs of all kinds\n",
    "import plotly\n",
    "import plotly.express\n",
    "import plotly.graph_objects as go\n",
    "from plotly.subplots import make_subplots\n",
    "from plotly.offline import download_plotlyjs, init_notebook_mode, plot, iplot\n",
    "\n",
    "init_notebook_mode(connected=True)\n",
    "\n",
    "import cufflinks\n",
    "cufflinks.go_offline()\n",
    "# cufflinks.set_config_file(offline = True, world_readable = True)\n",
    "\n",
    "for i,j in zip([\"plotly\", \"cufflinks\"], [plotly, cufflinks]):\n",
    "    print(\"The \" + str(i) + \" library imported in this code is version: \" + j.__version__)"
   ]
  },
  {
   "cell_type": "code",
   "execution_count": 14,
   "id": "e3f8ffc6-9812-4b2d-bdb8-5f21b026993e",
   "metadata": {},
   "outputs": [
    {
     "data": {
      "application/vnd.plotly.v1+json": {
       "config": {
        "plotlyServerURL": "https://chart-studio.plotly.com"
       },
       "data": [
        {
         "line": {
          "color": "#1f77b4"
         },
         "name": "Yield To Maturity",
         "type": "scatter",
         "x": [
          "2020-07-31",
          "2020-08-31",
          "2020-09-30",
          "2020-10-31",
          "2020-11-30",
          "2020-12-31",
          "2021-01-31",
          "2021-02-28",
          "2021-03-31",
          "2021-04-30",
          "2021-05-31",
          "2021-06-30"
         ],
         "xaxis": "x",
         "y": [
          0.0020914600723433274,
          0.002688788459565382,
          0.0027833568598190053,
          0.0038422745028348997,
          0.0036395020697463937,
          0.0036080011947972786,
          0.004255870480370703,
          0.00729538673700196,
          0.009375667302547932,
          0.008491567003482806,
          0.007883177495940665,
          0.008910052831709382
         ],
         "yaxis": "y"
        },
        {
         "line": {
          "color": "#383838"
         },
         "name": "Price at issue",
         "type": "scatter",
         "x": [
          "2020-07-31",
          "2020-08-31",
          "2020-09-30",
          "2020-10-31",
          "2020-11-30",
          "2020-12-31",
          "2021-01-31",
          "2021-02-28",
          "2021-03-31",
          "2021-04-30",
          "2021-05-31",
          "2021-06-30"
         ],
         "xaxis": "x",
         "y": [
          100.2031,
          99.9063,
          99.8594,
          99.3359,
          100.0547,
          100.0703,
          99.75,
          98.875,
          99.0859,
          99.5156,
          99.8125,
          99.9219
         ],
         "yaxis": "y2"
        }
       ],
       "layout": {
        "autosize": true,
        "shapes": [
         {
          "type": "line",
          "x0": "2020-11-15",
          "x1": "2020-11-15",
          "xref": "x",
          "y0": 0,
          "y1": 1,
          "yref": "paper"
         },
         {
          "type": "line",
          "x0": "2021-02-14",
          "x1": "2021-02-14",
          "xref": "x",
          "y0": 0,
          "y1": 1,
          "yref": "paper"
         },
         {
          "type": "line",
          "x0": "2021-03-16",
          "x1": "2021-03-16",
          "xref": "x",
          "y0": 0,
          "y1": 1,
          "yref": "paper"
         },
         {
          "type": "line",
          "x0": "2021-06-15",
          "x1": "2021-06-15",
          "xref": "x",
          "y0": 0,
          "y1": 1,
          "yref": "paper"
         }
        ],
        "template": {
         "data": {
          "bar": [
           {
            "error_x": {
             "color": "#2a3f5f"
            },
            "error_y": {
             "color": "#2a3f5f"
            },
            "marker": {
             "line": {
              "color": "#E5ECF6",
              "width": 0.5
             }
            },
            "type": "bar"
           }
          ],
          "barpolar": [
           {
            "marker": {
             "line": {
              "color": "#E5ECF6",
              "width": 0.5
             }
            },
            "type": "barpolar"
           }
          ],
          "carpet": [
           {
            "aaxis": {
             "endlinecolor": "#2a3f5f",
             "gridcolor": "white",
             "linecolor": "white",
             "minorgridcolor": "white",
             "startlinecolor": "#2a3f5f"
            },
            "baxis": {
             "endlinecolor": "#2a3f5f",
             "gridcolor": "white",
             "linecolor": "white",
             "minorgridcolor": "white",
             "startlinecolor": "#2a3f5f"
            },
            "type": "carpet"
           }
          ],
          "choropleth": [
           {
            "colorbar": {
             "outlinewidth": 0,
             "ticks": ""
            },
            "type": "choropleth"
           }
          ],
          "contour": [
           {
            "colorbar": {
             "outlinewidth": 0,
             "ticks": ""
            },
            "colorscale": [
             [
              0,
              "#0d0887"
             ],
             [
              0.1111111111111111,
              "#46039f"
             ],
             [
              0.2222222222222222,
              "#7201a8"
             ],
             [
              0.3333333333333333,
              "#9c179e"
             ],
             [
              0.4444444444444444,
              "#bd3786"
             ],
             [
              0.5555555555555556,
              "#d8576b"
             ],
             [
              0.6666666666666666,
              "#ed7953"
             ],
             [
              0.7777777777777778,
              "#fb9f3a"
             ],
             [
              0.8888888888888888,
              "#fdca26"
             ],
             [
              1,
              "#f0f921"
             ]
            ],
            "type": "contour"
           }
          ],
          "contourcarpet": [
           {
            "colorbar": {
             "outlinewidth": 0,
             "ticks": ""
            },
            "type": "contourcarpet"
           }
          ],
          "heatmap": [
           {
            "colorbar": {
             "outlinewidth": 0,
             "ticks": ""
            },
            "colorscale": [
             [
              0,
              "#0d0887"
             ],
             [
              0.1111111111111111,
              "#46039f"
             ],
             [
              0.2222222222222222,
              "#7201a8"
             ],
             [
              0.3333333333333333,
              "#9c179e"
             ],
             [
              0.4444444444444444,
              "#bd3786"
             ],
             [
              0.5555555555555556,
              "#d8576b"
             ],
             [
              0.6666666666666666,
              "#ed7953"
             ],
             [
              0.7777777777777778,
              "#fb9f3a"
             ],
             [
              0.8888888888888888,
              "#fdca26"
             ],
             [
              1,
              "#f0f921"
             ]
            ],
            "type": "heatmap"
           }
          ],
          "heatmapgl": [
           {
            "colorbar": {
             "outlinewidth": 0,
             "ticks": ""
            },
            "colorscale": [
             [
              0,
              "#0d0887"
             ],
             [
              0.1111111111111111,
              "#46039f"
             ],
             [
              0.2222222222222222,
              "#7201a8"
             ],
             [
              0.3333333333333333,
              "#9c179e"
             ],
             [
              0.4444444444444444,
              "#bd3786"
             ],
             [
              0.5555555555555556,
              "#d8576b"
             ],
             [
              0.6666666666666666,
              "#ed7953"
             ],
             [
              0.7777777777777778,
              "#fb9f3a"
             ],
             [
              0.8888888888888888,
              "#fdca26"
             ],
             [
              1,
              "#f0f921"
             ]
            ],
            "type": "heatmapgl"
           }
          ],
          "histogram": [
           {
            "marker": {
             "colorbar": {
              "outlinewidth": 0,
              "ticks": ""
             }
            },
            "type": "histogram"
           }
          ],
          "histogram2d": [
           {
            "colorbar": {
             "outlinewidth": 0,
             "ticks": ""
            },
            "colorscale": [
             [
              0,
              "#0d0887"
             ],
             [
              0.1111111111111111,
              "#46039f"
             ],
             [
              0.2222222222222222,
              "#7201a8"
             ],
             [
              0.3333333333333333,
              "#9c179e"
             ],
             [
              0.4444444444444444,
              "#bd3786"
             ],
             [
              0.5555555555555556,
              "#d8576b"
             ],
             [
              0.6666666666666666,
              "#ed7953"
             ],
             [
              0.7777777777777778,
              "#fb9f3a"
             ],
             [
              0.8888888888888888,
              "#fdca26"
             ],
             [
              1,
              "#f0f921"
             ]
            ],
            "type": "histogram2d"
           }
          ],
          "histogram2dcontour": [
           {
            "colorbar": {
             "outlinewidth": 0,
             "ticks": ""
            },
            "colorscale": [
             [
              0,
              "#0d0887"
             ],
             [
              0.1111111111111111,
              "#46039f"
             ],
             [
              0.2222222222222222,
              "#7201a8"
             ],
             [
              0.3333333333333333,
              "#9c179e"
             ],
             [
              0.4444444444444444,
              "#bd3786"
             ],
             [
              0.5555555555555556,
              "#d8576b"
             ],
             [
              0.6666666666666666,
              "#ed7953"
             ],
             [
              0.7777777777777778,
              "#fb9f3a"
             ],
             [
              0.8888888888888888,
              "#fdca26"
             ],
             [
              1,
              "#f0f921"
             ]
            ],
            "type": "histogram2dcontour"
           }
          ],
          "mesh3d": [
           {
            "colorbar": {
             "outlinewidth": 0,
             "ticks": ""
            },
            "type": "mesh3d"
           }
          ],
          "parcoords": [
           {
            "line": {
             "colorbar": {
              "outlinewidth": 0,
              "ticks": ""
             }
            },
            "type": "parcoords"
           }
          ],
          "pie": [
           {
            "automargin": true,
            "type": "pie"
           }
          ],
          "scatter": [
           {
            "marker": {
             "colorbar": {
              "outlinewidth": 0,
              "ticks": ""
             }
            },
            "type": "scatter"
           }
          ],
          "scatter3d": [
           {
            "line": {
             "colorbar": {
              "outlinewidth": 0,
              "ticks": ""
             }
            },
            "marker": {
             "colorbar": {
              "outlinewidth": 0,
              "ticks": ""
             }
            },
            "type": "scatter3d"
           }
          ],
          "scattercarpet": [
           {
            "marker": {
             "colorbar": {
              "outlinewidth": 0,
              "ticks": ""
             }
            },
            "type": "scattercarpet"
           }
          ],
          "scattergeo": [
           {
            "marker": {
             "colorbar": {
              "outlinewidth": 0,
              "ticks": ""
             }
            },
            "type": "scattergeo"
           }
          ],
          "scattergl": [
           {
            "marker": {
             "colorbar": {
              "outlinewidth": 0,
              "ticks": ""
             }
            },
            "type": "scattergl"
           }
          ],
          "scattermapbox": [
           {
            "marker": {
             "colorbar": {
              "outlinewidth": 0,
              "ticks": ""
             }
            },
            "type": "scattermapbox"
           }
          ],
          "scatterpolar": [
           {
            "marker": {
             "colorbar": {
              "outlinewidth": 0,
              "ticks": ""
             }
            },
            "type": "scatterpolar"
           }
          ],
          "scatterpolargl": [
           {
            "marker": {
             "colorbar": {
              "outlinewidth": 0,
              "ticks": ""
             }
            },
            "type": "scatterpolargl"
           }
          ],
          "scatterternary": [
           {
            "marker": {
             "colorbar": {
              "outlinewidth": 0,
              "ticks": ""
             }
            },
            "type": "scatterternary"
           }
          ],
          "surface": [
           {
            "colorbar": {
             "outlinewidth": 0,
             "ticks": ""
            },
            "colorscale": [
             [
              0,
              "#0d0887"
             ],
             [
              0.1111111111111111,
              "#46039f"
             ],
             [
              0.2222222222222222,
              "#7201a8"
             ],
             [
              0.3333333333333333,
              "#9c179e"
             ],
             [
              0.4444444444444444,
              "#bd3786"
             ],
             [
              0.5555555555555556,
              "#d8576b"
             ],
             [
              0.6666666666666666,
              "#ed7953"
             ],
             [
              0.7777777777777778,
              "#fb9f3a"
             ],
             [
              0.8888888888888888,
              "#fdca26"
             ],
             [
              1,
              "#f0f921"
             ]
            ],
            "type": "surface"
           }
          ],
          "table": [
           {
            "cells": {
             "fill": {
              "color": "#EBF0F8"
             },
             "line": {
              "color": "white"
             }
            },
            "header": {
             "fill": {
              "color": "#C8D4E3"
             },
             "line": {
              "color": "white"
             }
            },
            "type": "table"
           }
          ]
         },
         "layout": {
          "annotationdefaults": {
           "arrowcolor": "#2a3f5f",
           "arrowhead": 0,
           "arrowwidth": 1
          },
          "autotypenumbers": "strict",
          "coloraxis": {
           "colorbar": {
            "outlinewidth": 0,
            "ticks": ""
           }
          },
          "colorscale": {
           "diverging": [
            [
             0,
             "#8e0152"
            ],
            [
             0.1,
             "#c51b7d"
            ],
            [
             0.2,
             "#de77ae"
            ],
            [
             0.3,
             "#f1b6da"
            ],
            [
             0.4,
             "#fde0ef"
            ],
            [
             0.5,
             "#f7f7f7"
            ],
            [
             0.6,
             "#e6f5d0"
            ],
            [
             0.7,
             "#b8e186"
            ],
            [
             0.8,
             "#7fbc41"
            ],
            [
             0.9,
             "#4d9221"
            ],
            [
             1,
             "#276419"
            ]
           ],
           "sequential": [
            [
             0,
             "#0d0887"
            ],
            [
             0.1111111111111111,
             "#46039f"
            ],
            [
             0.2222222222222222,
             "#7201a8"
            ],
            [
             0.3333333333333333,
             "#9c179e"
            ],
            [
             0.4444444444444444,
             "#bd3786"
            ],
            [
             0.5555555555555556,
             "#d8576b"
            ],
            [
             0.6666666666666666,
             "#ed7953"
            ],
            [
             0.7777777777777778,
             "#fb9f3a"
            ],
            [
             0.8888888888888888,
             "#fdca26"
            ],
            [
             1,
             "#f0f921"
            ]
           ],
           "sequentialminus": [
            [
             0,
             "#0d0887"
            ],
            [
             0.1111111111111111,
             "#46039f"
            ],
            [
             0.2222222222222222,
             "#7201a8"
            ],
            [
             0.3333333333333333,
             "#9c179e"
            ],
            [
             0.4444444444444444,
             "#bd3786"
            ],
            [
             0.5555555555555556,
             "#d8576b"
            ],
            [
             0.6666666666666666,
             "#ed7953"
            ],
            [
             0.7777777777777778,
             "#fb9f3a"
            ],
            [
             0.8888888888888888,
             "#fdca26"
            ],
            [
             1,
             "#f0f921"
            ]
           ]
          },
          "colorway": [
           "#636efa",
           "#EF553B",
           "#00cc96",
           "#ab63fa",
           "#FFA15A",
           "#19d3f3",
           "#FF6692",
           "#B6E880",
           "#FF97FF",
           "#FECB52"
          ],
          "font": {
           "color": "#2a3f5f"
          },
          "geo": {
           "bgcolor": "white",
           "lakecolor": "white",
           "landcolor": "#E5ECF6",
           "showlakes": true,
           "showland": true,
           "subunitcolor": "white"
          },
          "hoverlabel": {
           "align": "left"
          },
          "hovermode": "closest",
          "mapbox": {
           "style": "light"
          },
          "paper_bgcolor": "white",
          "plot_bgcolor": "#E5ECF6",
          "polar": {
           "angularaxis": {
            "gridcolor": "white",
            "linecolor": "white",
            "ticks": ""
           },
           "bgcolor": "#E5ECF6",
           "radialaxis": {
            "gridcolor": "white",
            "linecolor": "white",
            "ticks": ""
           }
          },
          "scene": {
           "xaxis": {
            "backgroundcolor": "#E5ECF6",
            "gridcolor": "white",
            "gridwidth": 2,
            "linecolor": "white",
            "showbackground": true,
            "ticks": "",
            "zerolinecolor": "white"
           },
           "yaxis": {
            "backgroundcolor": "#E5ECF6",
            "gridcolor": "white",
            "gridwidth": 2,
            "linecolor": "white",
            "showbackground": true,
            "ticks": "",
            "zerolinecolor": "white"
           },
           "zaxis": {
            "backgroundcolor": "#E5ECF6",
            "gridcolor": "white",
            "gridwidth": 2,
            "linecolor": "white",
            "showbackground": true,
            "ticks": "",
            "zerolinecolor": "white"
           }
          },
          "shapedefaults": {
           "line": {
            "color": "#2a3f5f"
           }
          },
          "ternary": {
           "aaxis": {
            "gridcolor": "white",
            "linecolor": "white",
            "ticks": ""
           },
           "baxis": {
            "gridcolor": "white",
            "linecolor": "white",
            "ticks": ""
           },
           "bgcolor": "#E5ECF6",
           "caxis": {
            "gridcolor": "white",
            "linecolor": "white",
            "ticks": ""
           }
          },
          "title": {
           "x": 0.05
          },
          "xaxis": {
           "automargin": true,
           "gridcolor": "white",
           "linecolor": "white",
           "ticks": "",
           "title": {
            "standoff": 15
           },
           "zerolinecolor": "white",
           "zerolinewidth": 2
          },
          "yaxis": {
           "automargin": true,
           "gridcolor": "white",
           "linecolor": "white",
           "ticks": "",
           "title": {
            "standoff": 15
           },
           "zerolinecolor": "white",
           "zerolinewidth": 2
          }
         }
        },
        "title": {
         "text": "US 5 Year T-Note"
        },
        "xaxis": {
         "anchor": "y",
         "autorange": true,
         "domain": [
          0,
          0.94
         ],
         "range": [
          "2020-07-10 22:56:33.3669",
          "2021-07-20 01:03:26.6331"
         ],
         "title": {
          "text": "Date"
         },
         "type": "date"
        },
        "yaxis": {
         "anchor": "x",
         "autorange": true,
         "domain": [
          0,
          1
         ],
         "range": [
          0.001557903491786939,
          0.00990922388310432
         ],
         "tickfont": {
          "color": "#1f77b4"
         },
         "title": {
          "font": {
           "color": "#1f77b4"
          },
          "text": "Yield To Maturity"
         },
         "type": "linear"
        },
        "yaxis2": {
         "anchor": "x",
         "autorange": true,
         "overlaying": "y",
         "range": [
          98.77771878980892,
          100.30038121019109
         ],
         "side": "right",
         "title": {
          "text": "Price in US$"
         },
         "type": "linear"
        }
       }
      },
      "image/png": "[encoded data removed]",
      "text/html": [
       "<div>                            <div id=\"8d83032e-45d7-48d7-93f1-3628eacd6c97\" class=\"plotly-graph-div\" style=\"height:525px; width:100%;\"></div>            <script type=\"text/javascript\">                require([\"plotly\"], function(Plotly) {                    window.PLOTLYENV=window.PLOTLYENV || {};                                    if (document.getElementById(\"8d83032e-45d7-48d7-93f1-3628eacd6c97\")) {                    Plotly.newPlot(                        \"8d83032e-45d7-48d7-93f1-3628eacd6c97\",                        [{\"line\": {\"color\": \"#1f77b4\"}, \"name\": \"Yield To Maturity\", \"type\": \"scatter\", \"x\": [\"2020-07-31\", \"2020-08-31\", \"2020-09-30\", \"2020-10-31\", \"2020-11-30\", \"2020-12-31\", \"2021-01-31\", \"2021-02-28\", \"2021-03-31\", \"2021-04-30\", \"2021-05-31\", \"2021-06-30\"], \"xaxis\": \"x\", \"y\": [0.0020914600723433274, 0.002688788459565382, 0.0027833568598190053, 0.0038422745028348997, 0.0036395020697463937, 0.0036080011947972786, 0.004255870480370703, 0.00729538673700196, 0.009375667302547932, 0.008491567003482806, 0.007883177495940665, 0.008910052831709382], \"yaxis\": \"y\"}, {\"line\": {\"color\": \"#383838\"}, \"name\": \"Price at issue\", \"type\": \"scatter\", \"x\": [\"2020-07-31\", \"2020-08-31\", \"2020-09-30\", \"2020-10-31\", \"2020-11-30\", \"2020-12-31\", \"2021-01-31\", \"2021-02-28\", \"2021-03-31\", \"2021-04-30\", \"2021-05-31\", \"2021-06-30\"], \"xaxis\": \"x\", \"y\": [100.2031, 99.9063, 99.8594, 99.3359, 100.0547, 100.0703, 99.75, 98.875, 99.0859, 99.5156, 99.8125, 99.9219], \"yaxis\": \"y2\"}],                        {\"shapes\": [{\"type\": \"line\", \"x0\": \"2020-11-15\", \"x1\": \"2020-11-15\", \"xref\": \"x\", \"y0\": 0, \"y1\": 1, \"yref\": \"paper\"}, {\"type\": \"line\", \"x0\": \"2021-02-14\", \"x1\": \"2021-02-14\", \"xref\": \"x\", \"y0\": 0, \"y1\": 1, \"yref\": \"paper\"}, {\"type\": \"line\", \"x0\": \"2021-03-16\", \"x1\": \"2021-03-16\", \"xref\": \"x\", \"y0\": 0, \"y1\": 1, \"yref\": \"paper\"}, {\"type\": \"line\", \"x0\": \"2021-06-15\", \"x1\": \"2021-06-15\", \"xref\": \"x\", \"y0\": 0, \"y1\": 1, \"yref\": \"paper\"}], \"template\": {\"data\": {\"bar\": [{\"error_x\": {\"color\": \"#2a3f5f\"}, \"error_y\": {\"color\": \"#2a3f5f\"}, \"marker\": {\"line\": {\"color\": \"#E5ECF6\", \"width\": 0.5}}, \"type\": \"bar\"}], \"barpolar\": [{\"marker\": {\"line\": {\"color\": \"#E5ECF6\", \"width\": 0.5}}, \"type\": \"barpolar\"}], \"carpet\": [{\"aaxis\": {\"endlinecolor\": \"#2a3f5f\", \"gridcolor\": \"white\", \"linecolor\": \"white\", \"minorgridcolor\": \"white\", \"startlinecolor\": \"#2a3f5f\"}, \"baxis\": {\"endlinecolor\": \"#2a3f5f\", \"gridcolor\": \"white\", \"linecolor\": \"white\", \"minorgridcolor\": \"white\", \"startlinecolor\": \"#2a3f5f\"}, \"type\": \"carpet\"}], \"choropleth\": [{\"colorbar\": {\"outlinewidth\": 0, \"ticks\": \"\"}, \"type\": \"choropleth\"}], \"contour\": [{\"colorbar\": {\"outlinewidth\": 0, \"ticks\": \"\"}, \"colorscale\": [[0.0, \"#0d0887\"], [0.1111111111111111, \"#46039f\"], [0.2222222222222222, \"#7201a8\"], [0.3333333333333333, \"#9c179e\"], [0.4444444444444444, \"#bd3786\"], [0.5555555555555556, \"#d8576b\"], [0.6666666666666666, \"#ed7953\"], [0.7777777777777778, \"#fb9f3a\"], [0.8888888888888888, \"#fdca26\"], [1.0, \"#f0f921\"]], \"type\": \"contour\"}], \"contourcarpet\": [{\"colorbar\": {\"outlinewidth\": 0, \"ticks\": \"\"}, \"type\": \"contourcarpet\"}], \"heatmap\": [{\"colorbar\": {\"outlinewidth\": 0, \"ticks\": \"\"}, \"colorscale\": [[0.0, \"#0d0887\"], [0.1111111111111111, \"#46039f\"], [0.2222222222222222, \"#7201a8\"], [0.3333333333333333, \"#9c179e\"], [0.4444444444444444, \"#bd3786\"], [0.5555555555555556, \"#d8576b\"], [0.6666666666666666, \"#ed7953\"], [0.7777777777777778, \"#fb9f3a\"], [0.8888888888888888, \"#fdca26\"], [1.0, \"#f0f921\"]], \"type\": \"heatmap\"}], \"heatmapgl\": [{\"colorbar\": {\"outlinewidth\": 0, \"ticks\": \"\"}, \"colorscale\": [[0.0, \"#0d0887\"], [0.1111111111111111, \"#46039f\"], [0.2222222222222222, \"#7201a8\"], [0.3333333333333333, \"#9c179e\"], [0.4444444444444444, \"#bd3786\"], [0.5555555555555556, \"#d8576b\"], [0.6666666666666666, \"#ed7953\"], [0.7777777777777778, \"#fb9f3a\"], [0.8888888888888888, \"#fdca26\"], [1.0, \"#f0f921\"]], \"type\": \"heatmapgl\"}], \"histogram\": [{\"marker\": {\"colorbar\": {\"outlinewidth\": 0, \"ticks\": \"\"}}, \"type\": \"histogram\"}], \"histogram2d\": [{\"colorbar\": {\"outlinewidth\": 0, \"ticks\": \"\"}, \"colorscale\": [[0.0, \"#0d0887\"], [0.1111111111111111, \"#46039f\"], [0.2222222222222222, \"#7201a8\"], [0.3333333333333333, \"#9c179e\"], [0.4444444444444444, \"#bd3786\"], [0.5555555555555556, \"#d8576b\"], [0.6666666666666666, \"#ed7953\"], [0.7777777777777778, \"#fb9f3a\"], [0.8888888888888888, \"#fdca26\"], [1.0, \"#f0f921\"]], \"type\": \"histogram2d\"}], \"histogram2dcontour\": [{\"colorbar\": {\"outlinewidth\": 0, \"ticks\": \"\"}, \"colorscale\": [[0.0, \"#0d0887\"], [0.1111111111111111, \"#46039f\"], [0.2222222222222222, \"#7201a8\"], [0.3333333333333333, \"#9c179e\"], [0.4444444444444444, \"#bd3786\"], [0.5555555555555556, \"#d8576b\"], [0.6666666666666666, \"#ed7953\"], [0.7777777777777778, \"#fb9f3a\"], [0.8888888888888888, \"#fdca26\"], [1.0, \"#f0f921\"]], \"type\": \"histogram2dcontour\"}], \"mesh3d\": [{\"colorbar\": {\"outlinewidth\": 0, \"ticks\": \"\"}, \"type\": \"mesh3d\"}], \"parcoords\": [{\"line\": {\"colorbar\": {\"outlinewidth\": 0, \"ticks\": \"\"}}, \"type\": \"parcoords\"}], \"pie\": [{\"automargin\": true, \"type\": \"pie\"}], \"scatter\": [{\"marker\": {\"colorbar\": {\"outlinewidth\": 0, \"ticks\": \"\"}}, \"type\": \"scatter\"}], \"scatter3d\": [{\"line\": {\"colorbar\": {\"outlinewidth\": 0, \"ticks\": \"\"}}, \"marker\": {\"colorbar\": {\"outlinewidth\": 0, \"ticks\": \"\"}}, \"type\": \"scatter3d\"}], \"scattercarpet\": [{\"marker\": {\"colorbar\": {\"outlinewidth\": 0, \"ticks\": \"\"}}, \"type\": \"scattercarpet\"}], \"scattergeo\": [{\"marker\": {\"colorbar\": {\"outlinewidth\": 0, \"ticks\": \"\"}}, \"type\": \"scattergeo\"}], \"scattergl\": [{\"marker\": {\"colorbar\": {\"outlinewidth\": 0, \"ticks\": \"\"}}, \"type\": \"scattergl\"}], \"scattermapbox\": [{\"marker\": {\"colorbar\": {\"outlinewidth\": 0, \"ticks\": \"\"}}, \"type\": \"scattermapbox\"}], \"scatterpolar\": [{\"marker\": {\"colorbar\": {\"outlinewidth\": 0, \"ticks\": \"\"}}, \"type\": \"scatterpolar\"}], \"scatterpolargl\": [{\"marker\": {\"colorbar\": {\"outlinewidth\": 0, \"ticks\": \"\"}}, \"type\": \"scatterpolargl\"}], \"scatterternary\": [{\"marker\": {\"colorbar\": {\"outlinewidth\": 0, \"ticks\": \"\"}}, \"type\": \"scatterternary\"}], \"surface\": [{\"colorbar\": {\"outlinewidth\": 0, \"ticks\": \"\"}, \"colorscale\": [[0.0, \"#0d0887\"], [0.1111111111111111, \"#46039f\"], [0.2222222222222222, \"#7201a8\"], [0.3333333333333333, \"#9c179e\"], [0.4444444444444444, \"#bd3786\"], [0.5555555555555556, \"#d8576b\"], [0.6666666666666666, \"#ed7953\"], [0.7777777777777778, \"#fb9f3a\"], [0.8888888888888888, \"#fdca26\"], [1.0, \"#f0f921\"]], \"type\": \"surface\"}], \"table\": [{\"cells\": {\"fill\": {\"color\": \"#EBF0F8\"}, \"line\": {\"color\": \"white\"}}, \"header\": {\"fill\": {\"color\": \"#C8D4E3\"}, \"line\": {\"color\": \"white\"}}, \"type\": \"table\"}]}, \"layout\": {\"annotationdefaults\": {\"arrowcolor\": \"#2a3f5f\", \"arrowhead\": 0, \"arrowwidth\": 1}, \"autotypenumbers\": \"strict\", \"coloraxis\": {\"colorbar\": {\"outlinewidth\": 0, \"ticks\": \"\"}}, \"colorscale\": {\"diverging\": [[0, \"#8e0152\"], [0.1, \"#c51b7d\"], [0.2, \"#de77ae\"], [0.3, \"#f1b6da\"], [0.4, \"#fde0ef\"], [0.5, \"#f7f7f7\"], [0.6, \"#e6f5d0\"], [0.7, \"#b8e186\"], [0.8, \"#7fbc41\"], [0.9, \"#4d9221\"], [1, \"#276419\"]], \"sequential\": [[0.0, \"#0d0887\"], [0.1111111111111111, \"#46039f\"], [0.2222222222222222, \"#7201a8\"], [0.3333333333333333, \"#9c179e\"], [0.4444444444444444, \"#bd3786\"], [0.5555555555555556, \"#d8576b\"], [0.6666666666666666, \"#ed7953\"], [0.7777777777777778, \"#fb9f3a\"], [0.8888888888888888, \"#fdca26\"], [1.0, \"#f0f921\"]], \"sequentialminus\": [[0.0, \"#0d0887\"], [0.1111111111111111, \"#46039f\"], [0.2222222222222222, \"#7201a8\"], [0.3333333333333333, \"#9c179e\"], [0.4444444444444444, \"#bd3786\"], [0.5555555555555556, \"#d8576b\"], [0.6666666666666666, \"#ed7953\"], [0.7777777777777778, \"#fb9f3a\"], [0.8888888888888888, \"#fdca26\"], [1.0, \"#f0f921\"]]}, \"colorway\": [\"#636efa\", \"#EF553B\", \"#00cc96\", \"#ab63fa\", \"#FFA15A\", \"#19d3f3\", \"#FF6692\", \"#B6E880\", \"#FF97FF\", \"#FECB52\"], \"font\": {\"color\": \"#2a3f5f\"}, \"geo\": {\"bgcolor\": \"white\", \"lakecolor\": \"white\", \"landcolor\": \"#E5ECF6\", \"showlakes\": true, \"showland\": true, \"subunitcolor\": \"white\"}, \"hoverlabel\": {\"align\": \"left\"}, \"hovermode\": \"closest\", \"mapbox\": {\"style\": \"light\"}, \"paper_bgcolor\": \"white\", \"plot_bgcolor\": \"#E5ECF6\", \"polar\": {\"angularaxis\": {\"gridcolor\": \"white\", \"linecolor\": \"white\", \"ticks\": \"\"}, \"bgcolor\": \"#E5ECF6\", \"radialaxis\": {\"gridcolor\": \"white\", \"linecolor\": \"white\", \"ticks\": \"\"}}, \"scene\": {\"xaxis\": {\"backgroundcolor\": \"#E5ECF6\", \"gridcolor\": \"white\", \"gridwidth\": 2, \"linecolor\": \"white\", \"showbackground\": true, \"ticks\": \"\", \"zerolinecolor\": \"white\"}, \"yaxis\": {\"backgroundcolor\": \"#E5ECF6\", \"gridcolor\": \"white\", \"gridwidth\": 2, \"linecolor\": \"white\", \"showbackground\": true, \"ticks\": \"\", \"zerolinecolor\": \"white\"}, \"zaxis\": {\"backgroundcolor\": \"#E5ECF6\", \"gridcolor\": \"white\", \"gridwidth\": 2, \"linecolor\": \"white\", \"showbackground\": true, \"ticks\": \"\", \"zerolinecolor\": \"white\"}}, \"shapedefaults\": {\"line\": {\"color\": \"#2a3f5f\"}}, \"ternary\": {\"aaxis\": {\"gridcolor\": \"white\", \"linecolor\": \"white\", \"ticks\": \"\"}, \"baxis\": {\"gridcolor\": \"white\", \"linecolor\": \"white\", \"ticks\": \"\"}, \"bgcolor\": \"#E5ECF6\", \"caxis\": {\"gridcolor\": \"white\", \"linecolor\": \"white\", \"ticks\": \"\"}}, \"title\": {\"x\": 0.05}, \"xaxis\": {\"automargin\": true, \"gridcolor\": \"white\", \"linecolor\": \"white\", \"ticks\": \"\", \"title\": {\"standoff\": 15}, \"zerolinecolor\": \"white\", \"zerolinewidth\": 2}, \"yaxis\": {\"automargin\": true, \"gridcolor\": \"white\", \"linecolor\": \"white\", \"ticks\": \"\", \"title\": {\"standoff\": 15}, \"zerolinecolor\": \"white\", \"zerolinewidth\": 2}}}, \"title\": {\"text\": \"US 5 Year T-Note\"}, \"xaxis\": {\"anchor\": \"y\", \"domain\": [0.0, 0.94], \"title\": {\"text\": \"Date\"}}, \"yaxis\": {\"anchor\": \"x\", \"domain\": [0.0, 1.0], \"tickfont\": {\"color\": \"#1f77b4\"}, \"title\": {\"font\": {\"color\": \"#1f77b4\"}, \"text\": \"Yield To Maturity\"}}, \"yaxis2\": {\"anchor\": \"x\", \"overlaying\": \"y\", \"side\": \"right\", \"title\": {\"text\": \"Price in US$\"}}},                        {\"responsive\": true}                    ).then(function(){\n",
       "                            \n",
       "var gd = document.getElementById('8d83032e-45d7-48d7-93f1-3628eacd6c97');\n",
       "var x = new MutationObserver(function (mutations, observer) {{\n",
       "        var display = window.getComputedStyle(gd).display;\n",
       "        if (!display || display === 'none') {{\n",
       "            console.log([gd, 'removed!']);\n",
       "            Plotly.purge(gd);\n",
       "            observer.disconnect();\n",
       "        }}\n",
       "}});\n",
       "\n",
       "// Listen for the removal of the full notebook cells\n",
       "var notebookContainer = gd.closest('#notebook-container');\n",
       "if (notebookContainer) {{\n",
       "    x.observe(notebookContainer, {childList: true});\n",
       "}}\n",
       "\n",
       "// Listen for the clearing of the current output cell\n",
       "var outputEl = gd.closest('.output');\n",
       "if (outputEl) {{\n",
       "    x.observe(outputEl, {childList: true});\n",
       "}}\n",
       "\n",
       "                        })                };                });            </script>        </div>"
      ]
     },
     "metadata": {},
     "output_type": "display_data"
    }
   ],
   "source": [
    "fig = make_subplots(specs=[[{\"secondary_y\": True}]])  # Create figure with secondary y-axis\n",
    "\n",
    "# Create vertical lines when Coupon rates change\n",
    "c_changed_date, shapes = [], []\n",
    "for i in range(len(ytm_df)-1):\n",
    "    if ytm_df.iloc[i][\"C\"] - ytm_df.iloc[i+1][\"C\"] != 0:\n",
    "        sdate = datetime.strptime(ytm_df.iloc[i][\"ID\"], '%Y-%m-%d')\n",
    "        edate = datetime.strptime(ytm_df.iloc[i+1][\"ID\"], '%Y-%m-%d')\n",
    "        delta = edate - sdate\n",
    "        inter_dates = [sdate + timedelta(days=i) for i in range(delta.days + 1)]\n",
    "        c_changed_date.append(inter_dates[int(statistics.median(\n",
    "            range(1, len(inter_dates))))].strftime('%Y-%m-%d'))\n",
    "for i in c_changed_date:\n",
    "    shapes.append({'type': 'line', 'xref': 'x', 'yref': 'paper',\n",
    "                   'x0': i, 'y0': 0, 'x1': i, 'y1': 1})\n",
    "fig.update_layout(shapes=shapes,)\n",
    "\n",
    "# Add traces\n",
    "fig.add_trace(go.Scatter(x=ytm_df[\"ID\"], y=ytm_df[\"YTM\"],\n",
    "                         name=\"Yield To Maturity\", line_color=\"#1f77b4\"),\n",
    "              secondary_y=False,)\n",
    "fig.add_trace(go.Scatter(x=ytm_df[\"ID\"], y=ytm_df[\"Price at issue\"],\n",
    "                         name=\"Price at issue\", line_color=\"#383838\"),\n",
    "              secondary_y=True,)\n",
    "\n",
    "# Set y-axes titles\n",
    "fig.update_yaxes(title_text=\"Yield To Maturity\", secondary_y=False)\n",
    "fig.update_yaxes(title_text=\"Price in US$\", secondary_y=True)\n",
    "\n",
    "fig.update_layout(title_text=\"US 5 Year T-Note\",\n",
    "                  yaxis=dict(titlefont=dict(color=\"#1f77b4\"),\n",
    "                             tickfont=dict(color=\"#1f77b4\")),)\n",
    "fig.update_xaxes(title_text=\"Date\")  # Set x-axis title\n",
    "\n",
    "fig.show()"
   ]
  },
  {
   "cell_type": "markdown",
   "id": "7084e8a3-4eb5-4f90-8fb6-0122aa1337a1",
   "metadata": {},
   "source": [
    "Interestingly here, we can see that YTM and prices don't always move inversly; that's because the Coupon rates are not constant throughout. I thus added vertical lines in-between the dates when Coupon rates change to ease comparisons. Also, we can note that when the price of the Bond goes above its FV (of \\$100), the YTM does not go negative; that's because of the added revenue from Coupons. If we were looking at a non Coupon paying (i.e.: a Zero-Coupon) Bond, then its YTM would be negative when its price was higher than its FV. Often - as a matter of fact - we do extrapelate Zero-Coupon Equivalent YTMs, this way all YTMs are comparable to each other. This is called '[Bootstrapping](https://en.wikipedia.org/wiki/Bootstrapping_(finance))'."
   ]
  },
  {
   "cell_type": "markdown",
   "id": "08a306ff-cf30-4e81-bf53-8374c7724512",
   "metadata": {},
   "source": [
    "## Bootstrapping and Spot-Rates: Coupon-Paying Bond's Zero-Coupon Equivalent Yield To Maturity"
   ]
  },
  {
   "cell_type": "markdown",
   "id": "f7f7db63-9e80-4626-9768-863bb296f00e",
   "metadata": {},
   "source": [
    "Now, we are going to extrapolate the YTM of any coupon-paying Bond as though it did not pay coupons. To do so, we will need to compute [Spot-Rates](https://www.investopedia.com/terms/s/spot_rate.asp) for each period of interest ($f_{\\text{acf}}$), then the Spot-Rate for the period of interest is our Zero-Coupon Equivalent Yield To Maturity ($YTM_{ZCE}$)."
   ]
  },
  {
   "cell_type": "markdown",
   "id": "9f5894e9-4ab0-4893-8996-6d3afbae5a15",
   "metadata": {},
   "source": [
    "Computing $YTM_{ZCE}$ is only useful for Coupon-paying Bonds, so we're only looking at a Coupon-paying Bond. Then the Net Present Value of the Bond of interest at the time of issue is\n",
    "$$\n",
    "NPV_{{Bond}_t, f_{\\text{acf}}} = \n",
    "    \\begin{Bmatrix}\n",
    "         \\frac{FV_{Bond}}{\\left(1 + f_{\\text{acf}} \\text{ } {SR}_{{Bond}_t, T}\\right)^\\frac{m_{Bond}}{f_{\\text{acf}}}} + \\sum^{^\\frac{m_{Bond}}{f_{\\text{acf}}}}_{\\tau=1} {\\frac{f_{\\text{acf}} \\text{ } C_{{Bond}_t}}{ (1 + f_{\\text{acf}} \\text{ } {SR}_{{Bond}_t, \\tau})^{\\tau} }} & \\text{if } m_{Bond} \\geq f_{\\text{acf}} \\\\\n",
    "         \\\\\n",
    "         \\frac{FV_{Bond} + m_{Bond} \\text{ } C_{{Bond}_t}}{\\left(1 + \\text{ } m_{Bond} \\text{ } {SR}_{{Bond}_t, T}\\right)} & \\text{if } m_{Bond} < f_{\\text{acf}}\n",
    "     \\end{Bmatrix}\n",
    "$$\n",
    "where\n",
    "* $T$ is the last time period of interest (it could be $m_{Bond}$ if each time period is a year long) (thus it's always the case that $T = \\frac{m_{Bond}}{f_{\\text{acf}}}$),\n",
    "* $f_{\\text{acf}}$ is the Annual Compounding Frequency in our accounting method used to calculate $NPV_{{Bond}_t, f_{\\text{acf}}}$,\n",
    "* $Bond$ is the Bond we're interested in, *e.g.*: $FYTN$ (Five Year Treasury-Note),\n",
    "* $FV_{Bond}$ is the Face Value of the $Bond$ (usually \\\\$1000 or \\\\$100 when dealing with US sovereign Bonds),\n",
    "* $m_{Bond}$ is the Maturity of the $Bond$ at time of issue, a.k.a. the Term of the Bond,\n",
    "* ${Bond}_t$ is the Bond we're interested in specifically issued at time $t$, *e.g.*: $FYTN_{\\text{\"2020-01-31\"}}$ (Five Year Treasury-Note issued on the 31st of January 2020),\n",
    "* $ C_{{Bond}_t} = \\mathcal{C}_{p,{Bond}_t} \\text{ } * \\text{ } FV_{Bond}$ where $\\mathcal{C}_{p,{Bond}_t}$ is the Coupon rate of ${Bond}_t$ (usually expressed as a persentage (thus the '$p$' of $FV_{Bond}$),\n",
    "* and ${SR}_{{Bond}_t, \\mathtt{t}}$ is the Spot Rate for ${Bond}_t$ at time $\\mathtt{t}$. Note that ${SR}_{{Bond}_t, \\tau}$ above is in a summation itterating through $\\tau$s, meaning that we are using a different ${SR}_{{Bond}_t, \\tau}$ for each $\\tau$ itteration.\n",
    "\n",
    "then (with he example of US sovereign Bonds) we don't have to look into Bonds with matutities of 1 year or less (since they don't pay Coupons). Thus ${SR}_{{Bond}_t, \\tau}$ for US sovereign Bonds for the 1st year is already known and can be found on [Datastream](https://product.datastream.com/browse/search.aspx?dsid=ZRQW955&AppGroup=DSAddin&prev=99_US+Treasury+Note+2021+31%2F01%2F26&nav_category=13). From these 1st few discoverable Spot Rates, (i) one can figure out the next Spot Rate (the 1st theoretical Spot Rate); (ii) then the 2nd theoretical Spot Rate can be calculated using the discoverable Spot Rates and the 1st theoretical Spot Rate, (iii) then the 3rd theoretical Spot Rate can be calculated using the discoverable Spot Rates and the first two theoretical Spot Rates, and so on till time period '$T$'. Doing so means that we have all ${SR}_{{Bond}_t, \\mathtt{t}}$ where $\\mathtt{t} > \\mathtt{T}$ and $\\mathtt{T}$ is the end of the time window investigated at any stage (i), (ii), ... Thus, at any one of these stages we can let $T = \\mathtt{T}$; and remembering that $T = \\frac{m_{Bond}}{f_{\\text{acf}}}$, then:"
   ]
  },
  {
   "cell_type": "markdown",
   "id": "7242f597-3f33-469e-a152-dbaf31b8ff2d",
   "metadata": {},
   "source": [
    "$$ \\begin{array}{ll}\n",
    "NPV_{{Bond}_t, f_{\\text{acf}}}\n",
    "         &= \\frac{FV_{Bond}}{\\left(1 + f_{\\text{acf}} \\text{ } {SR}_{{Bond}_t, T}\\right)^\\frac{m_{Bond}}{f_{\\text{acf}}}} + \\sum^{^\\frac{m_{Bond}}{f_{\\text{acf}}}}_{\\tau=1} {\\frac{f_{\\text{acf}} \\text{ } C_{{Bond}_t}}{ (1 + f_{\\text{acf}} \\text{ } {SR}_{{Bond}_t, \\tau})^{\\tau} }} & \\text{where } m_{Bond} \\geq f_{\\text{acf}} \\\\\n",
    "         &= \\frac{FV_{Bond}}{\\left(1 + f \\text{ } {SR}_{{Bond}_t, T}\\right)^\\frac{m_{Bond}}{f}} + \\sum^{^{\\frac{m_{Bond}}{f}}}_{\\tau=1} {\\frac{f \\text{ } C_{{Bond}_t}}{ (1 + f \\text{ } {SR}_{{Bond}_t, \\tau})^{\\tau} }} & \\text{letting } f = f_{\\text{acf}} = f_{ac \\mathbf{p} f} = \\text{fixed 'annual Coupon payment frequency'}\\\\\n",
    "         &= \\frac{FV_{Bond}}{\\left(1 + f \\text{ } {SR}_{{Bond}_t, T}\\right)^\\frac{m_{Bond}}{f}} + \\frac{f \\text{ } C_{{Bond}_t}}{ (1 + f \\text{ } {SR}_{{Bond}_t, T})^{T} } + \\sum^{^{\\frac{m_{Bond}}{f}-1}}_{\\tau=1} {\\frac{f \\text{ } C_{{Bond}_t}}{ (1 + f \\text{ } {SR}_{{Bond}_t, \\tau})^{\\tau} }} & \\text{extracting the last summand} \\\\\n",
    "         &= \\frac{FV_{Bond}}{\\left(1 + f \\text{ } {SR}_{{Bond}_t, \\mathtt{T}}\\right)^\\mathtt{T}} + \\frac{f \\text{ } C_{{Bond}_t}}{ \\left(1 + f \\text{ } {SR}_{{Bond}_t, \\mathtt{T}}\\right)^{\\mathtt{T}} } + \\sum^{^{\\mathtt{T}-1}}_{\\tau=1} {\\frac{f \\text{ } C_{{Bond}_t}}{ (1 + f \\text{ } {SR}_{{Bond}_t, \\tau})^{\\tau} }} & \\text{since we let } T = \\mathtt{T} \\text{ and it is true that } T = \\frac{m_{Bond}}{f_{\\text{acf}}}\\\\\n",
    "         &= \\frac{FV_{Bond} + f \\text{ } C_{{Bond}_t}}{\\left(1 + f \\text{ } {SR}_{{Bond}_t, \\mathtt{T}}\\right)^\\mathtt{T}} + \\sum^{^{\\mathtt{T}-1}}_{\\tau=1} {\\frac{f \\text{ } C_{{Bond}_t}}{ (1 + f \\text{ } {SR}_{{Bond}_t, \\tau})^{\\tau} }} \\\\\n",
    "\\end{array} $$"
   ]
  },
  {
   "cell_type": "markdown",
   "id": "58c980ad-616f-452b-a87e-c9e66432d250",
   "metadata": {},
   "source": [
    "Let's add 'hats' to the unknown variables; here the only unknown variable is the last ${SR}_{{Bond}_t, \\mathtt{t}}$ which is ${SR}_{{Bond}_t, \\mathtt{T}}$, so it'll be written as $\\widehat{{SR}_{{Bond}_t, \\mathtt{T}}}$. Remember that this is because we have all ${SR}_{{Bond}_t, \\mathtt{t}}$ where $\\mathtt{t} > \\mathtt{T}$ and $\\mathtt{T}$ is the end of the time window investigated at any stage (i), (ii), ... defined above. Then:"
   ]
  },
  {
   "cell_type": "markdown",
   "id": "ad747164-2d77-4c6f-8955-14950fc91cb4",
   "metadata": {},
   "source": [
    "$$ \\begin{array}{ll}\n",
    "NPV_{{Bond}_t, f}\n",
    "         &= \\frac{FV_{Bond} + f \\text{ } C_{{Bond}_t}}{\\left(1 + f \\text{ } \\widehat{{SR}_{{Bond}_t, \\mathtt{T}}}\\right)^\\mathtt{T}} + \\sum^{^{\\mathtt{T}-1}}_{\\tau=1} {\\frac{f \\text{ } C_{{Bond}_t}}{ (1 + f \\text{ } {SR}_{{Bond}_t, \\tau})^{\\tau} }} \\\\\n",
    "\\end{array} $$\n",
    "then:\n",
    "$$ \\begin{array}{ll}\n",
    "\\widehat{{SR}_{{Bond}_t, \\mathtt{T}}}\n",
    "         &= \\frac{\n",
    "             \\sqrt[\\mathtt{T}]{\\frac{FV_{Bond} + f \\text{ } C_{{Bond}_t}}{{NPV}_{{Bond}_t, f} - \\sum^{^{\\mathtt{T}-1}}_{\\tau=1} {\\frac{f \\text{ } C_{{Bond}_t}}{ (1 + f \\text{ } {SR}_{{Bond}_t, \\tau})^{\\tau} }}}} - 1\n",
    "             }{f}\n",
    "\\end{array} $$\n"
   ]
  },
  {
   "cell_type": "markdown",
   "id": "7e4be2df-9caf-4db9-8355-d873ce1b0015",
   "metadata": {},
   "source": [
    "Let's make a Python function to return this Spot Rate for any such stage:"
   ]
  },
  {
   "cell_type": "code",
   "execution_count": 15,
   "id": "788356db-5203-4f6e-8cf9-552b9948c8fa",
   "metadata": {},
   "outputs": [],
   "source": [
    "def Spot_Rate_Last(f,fv,m,c,p,sr):\n",
    "    \"\"\"Spot_Rate_Last(f,fv,m,c,p,sr)\n",
    "    This Python function returns the Zero-Coupon Equivalent rate of a coupon-paying Bond (otherwise known as the Spot-Rate) of one time period (defined as ' f ') after the last one in the list of provided (past) spot-rates (' sp ').\n",
    "\n",
    "    Returns\n",
    "    -------\n",
    "\n",
    "    float: The last spot rate of a Bond for the period looked at.\n",
    "    \"\"\"\n",
    "    discouted_coupon_payments = [(f*c)/((1 + f*j)**(i+1))  # ' +1 ' because 'enumerate' starts at 0\n",
    "                                 for i, j in enumerate(sr)]\n",
    "    last_sr = ((((fv + f*c)/(p - discouted_coupon_payments))**(f/m))-1)/f\n",
    "    return last_sr"
   ]
  },
  {
   "cell_type": "markdown",
   "id": "bbd3b7be-b295-4324-bc01-af3b36b3c4b2",
   "metadata": {},
   "source": [
    "### T-Note Example: Five Year T-Note with Semi-Annual Compounding"
   ]
  },
  {
   "cell_type": "markdown",
   "id": "196a8628-c34b-4051-92c3-5e7557e90b5e",
   "metadata": {},
   "source": [
    "#### On-the-run sovereign Bonds"
   ]
  },
  {
   "cell_type": "markdown",
   "id": "578b62ce-3d71-4d0f-84cf-9b0a3c26a6b6",
   "metadata": {},
   "source": [
    "Now we can repeat the above for different US T-Notes with simillar issue dates and different maturing dates. We collect all data-points in a Python dictionary ```container_container``` before tidying it in the ```yc_df``` pandas data-frame below. Remeber though, we've put ourselves in the shooes of an economic agent looking to invest in 'brand new' sovereign Bonds, in Bonds that our agent would buy on issue; such bonds are called [on-the-run sovereign Bonds](https://www.investopedia.com/terms/o/on-the-runtreasuries.asp)."
   ]
  },
  {
   "cell_type": "code",
   "execution_count": 16,
   "id": "2065cf5b-cd48-4919-9477-086ff427a1fa",
   "metadata": {},
   "outputs": [
    {
     "data": {
      "text/html": [
       "<div>\n",
       "<style scoped>\n",
       "    .dataframe tbody tr th:only-of-type {\n",
       "        vertical-align: middle;\n",
       "    }\n",
       "\n",
       "    .dataframe tbody tr th {\n",
       "        vertical-align: top;\n",
       "    }\n",
       "\n",
       "    .dataframe thead th {\n",
       "        text-align: right;\n",
       "    }\n",
       "</style>\n",
       "<table border=\"1\" class=\"dataframe\">\n",
       "  <thead>\n",
       "    <tr style=\"text-align: right;\">\n",
       "      <th></th>\n",
       "      <th>DSCD</th>\n",
       "      <th>NAME</th>\n",
       "      <th>ID</th>\n",
       "      <th>TERM</th>\n",
       "      <th>RV</th>\n",
       "      <th>C</th>\n",
       "      <th>CTYP</th>\n",
       "      <th>RDL</th>\n",
       "      <th>Price at issue</th>\n",
       "      <th>YTM</th>\n",
       "      <th>CF</th>\n",
       "    </tr>\n",
       "    <tr>\n",
       "      <th>RDL</th>\n",
       "      <th></th>\n",
       "      <th></th>\n",
       "      <th></th>\n",
       "      <th></th>\n",
       "      <th></th>\n",
       "      <th></th>\n",
       "      <th></th>\n",
       "      <th></th>\n",
       "      <th></th>\n",
       "      <th></th>\n",
       "      <th></th>\n",
       "    </tr>\n",
       "  </thead>\n",
       "  <tbody>\n",
       "    <tr>\n",
       "      <th>2020-12-29</th>\n",
       "      <td>613V2R</td>\n",
       "      <td>UTD.STS OF AMERICA 2020 ZERO 29/12/20</td>\n",
       "      <td>2020-07-28</td>\n",
       "      <td>0.5</td>\n",
       "      <td>100</td>\n",
       "      <td>0</td>\n",
       "      <td>ZERO</td>\n",
       "      <td>2020-12-29</td>\n",
       "      <td>99.9469</td>\n",
       "      <td>0.001063</td>\n",
       "      <td>[100.0]</td>\n",
       "    </tr>\n",
       "    <tr>\n",
       "      <th>2022-07-31</th>\n",
       "      <td>613XGW</td>\n",
       "      <td>US TREASURY NOTE 2020 1/8% 31/07/22 BD-2022</td>\n",
       "      <td>2020-07-31</td>\n",
       "      <td>2</td>\n",
       "      <td>100</td>\n",
       "      <td>0.125</td>\n",
       "      <td>FIX</td>\n",
       "      <td>2022-07-31</td>\n",
       "      <td>100.0313</td>\n",
       "      <td>0.001093</td>\n",
       "      <td>[0.125, 0.125, 0.125, 100.125]</td>\n",
       "    </tr>\n",
       "    <tr>\n",
       "      <th>2025-07-31</th>\n",
       "      <td>613XGU</td>\n",
       "      <td>US TREASURY NOTE 2020 1/4% 31/07/25 AB-2025</td>\n",
       "      <td>2020-07-31</td>\n",
       "      <td>5</td>\n",
       "      <td>100</td>\n",
       "      <td>0.25</td>\n",
       "      <td>FIX</td>\n",
       "      <td>2025-07-31</td>\n",
       "      <td>100.2031</td>\n",
       "      <td>0.002091</td>\n",
       "      <td>[0.25, 0.25, 0.25, 0.25, 0.25, 0.25, 0.25, 0.2...</td>\n",
       "    </tr>\n",
       "    <tr>\n",
       "      <th>2027-07-31</th>\n",
       "      <td>613XG1</td>\n",
       "      <td>US TREASURY NOTE 2020 3/8% 31/07/27 N-2027</td>\n",
       "      <td>2020-07-31</td>\n",
       "      <td>7</td>\n",
       "      <td>100</td>\n",
       "      <td>0.375</td>\n",
       "      <td>FIX</td>\n",
       "      <td>2027-07-31</td>\n",
       "      <td>99.9140</td>\n",
       "      <td>0.003875</td>\n",
       "      <td>[0.375, 0.375, 0.375, 0.375, 0.375, 0.375, 0.3...</td>\n",
       "    </tr>\n",
       "  </tbody>\n",
       "</table>\n",
       "</div>"
      ],
      "text/plain": [
       "              DSCD                                         NAME          ID  \\\n",
       "RDL                                                                           \n",
       "2020-12-29  613V2R        UTD.STS OF AMERICA 2020 ZERO 29/12/20  2020-07-28   \n",
       "2022-07-31  613XGW  US TREASURY NOTE 2020 1/8% 31/07/22 BD-2022  2020-07-31   \n",
       "2025-07-31  613XGU  US TREASURY NOTE 2020 1/4% 31/07/25 AB-2025  2020-07-31   \n",
       "2027-07-31  613XG1   US TREASURY NOTE 2020 3/8% 31/07/27 N-2027  2020-07-31   \n",
       "\n",
       "           TERM   RV      C  CTYP         RDL  Price at issue       YTM  \\\n",
       "RDL                                                                       \n",
       "2020-12-29  0.5  100      0  ZERO  2020-12-29         99.9469  0.001063   \n",
       "2022-07-31    2  100  0.125   FIX  2022-07-31        100.0313  0.001093   \n",
       "2025-07-31    5  100   0.25   FIX  2025-07-31        100.2031  0.002091   \n",
       "2027-07-31    7  100  0.375   FIX  2027-07-31         99.9140  0.003875   \n",
       "\n",
       "                                                           CF  \n",
       "RDL                                                            \n",
       "2020-12-29                                            [100.0]  \n",
       "2022-07-31                     [0.125, 0.125, 0.125, 100.125]  \n",
       "2025-07-31  [0.25, 0.25, 0.25, 0.25, 0.25, 0.25, 0.25, 0.2...  \n",
       "2027-07-31  [0.375, 0.375, 0.375, 0.375, 0.375, 0.375, 0.3...  "
      ]
     },
     "metadata": {},
     "output_type": "display_data"
    },
    {
     "data": {
      "application/vnd.plotly.v1+json": {
       "config": {
        "linkText": "Export to chart-studio.plotly.com",
        "plotlyServerURL": "https://chart-studio.plotly.com",
        "showLink": true
       },
       "data": [
        {
         "line": {
          "color": "rgba(255, 153, 51, 1.0)",
          "dash": "solid",
          "shape": "linear",
          "width": 1.3
         },
         "mode": "lines",
         "name": "YTM",
         "text": "",
         "type": "scatter",
         "x": [
          "2020-12-29",
          "2022-07-31",
          "2025-07-31",
          "2027-07-31"
         ],
         "y": [
          0.0010625642216017055,
          0.0010932860674747608,
          0.0020914600723433274,
          0.00387464973505216
         ]
        }
       ],
       "layout": {
        "autosize": true,
        "legend": {
         "bgcolor": "#F5F6F9",
         "font": {
          "color": "#4D5663"
         }
        },
        "paper_bgcolor": "#F5F6F9",
        "plot_bgcolor": "#F5F6F9",
        "template": {
         "data": {
          "bar": [
           {
            "error_x": {
             "color": "#2a3f5f"
            },
            "error_y": {
             "color": "#2a3f5f"
            },
            "marker": {
             "line": {
              "color": "#E5ECF6",
              "width": 0.5
             }
            },
            "type": "bar"
           }
          ],
          "barpolar": [
           {
            "marker": {
             "line": {
              "color": "#E5ECF6",
              "width": 0.5
             }
            },
            "type": "barpolar"
           }
          ],
          "carpet": [
           {
            "aaxis": {
             "endlinecolor": "#2a3f5f",
             "gridcolor": "white",
             "linecolor": "white",
             "minorgridcolor": "white",
             "startlinecolor": "#2a3f5f"
            },
            "baxis": {
             "endlinecolor": "#2a3f5f",
             "gridcolor": "white",
             "linecolor": "white",
             "minorgridcolor": "white",
             "startlinecolor": "#2a3f5f"
            },
            "type": "carpet"
           }
          ],
          "choropleth": [
           {
            "colorbar": {
             "outlinewidth": 0,
             "ticks": ""
            },
            "type": "choropleth"
           }
          ],
          "contour": [
           {
            "colorbar": {
             "outlinewidth": 0,
             "ticks": ""
            },
            "colorscale": [
             [
              0,
              "#0d0887"
             ],
             [
              0.1111111111111111,
              "#46039f"
             ],
             [
              0.2222222222222222,
              "#7201a8"
             ],
             [
              0.3333333333333333,
              "#9c179e"
             ],
             [
              0.4444444444444444,
              "#bd3786"
             ],
             [
              0.5555555555555556,
              "#d8576b"
             ],
             [
              0.6666666666666666,
              "#ed7953"
             ],
             [
              0.7777777777777778,
              "#fb9f3a"
             ],
             [
              0.8888888888888888,
              "#fdca26"
             ],
             [
              1,
              "#f0f921"
             ]
            ],
            "type": "contour"
           }
          ],
          "contourcarpet": [
           {
            "colorbar": {
             "outlinewidth": 0,
             "ticks": ""
            },
            "type": "contourcarpet"
           }
          ],
          "heatmap": [
           {
            "colorbar": {
             "outlinewidth": 0,
             "ticks": ""
            },
            "colorscale": [
             [
              0,
              "#0d0887"
             ],
             [
              0.1111111111111111,
              "#46039f"
             ],
             [
              0.2222222222222222,
              "#7201a8"
             ],
             [
              0.3333333333333333,
              "#9c179e"
             ],
             [
              0.4444444444444444,
              "#bd3786"
             ],
             [
              0.5555555555555556,
              "#d8576b"
             ],
             [
              0.6666666666666666,
              "#ed7953"
             ],
             [
              0.7777777777777778,
              "#fb9f3a"
             ],
             [
              0.8888888888888888,
              "#fdca26"
             ],
             [
              1,
              "#f0f921"
             ]
            ],
            "type": "heatmap"
           }
          ],
          "heatmapgl": [
           {
            "colorbar": {
             "outlinewidth": 0,
             "ticks": ""
            },
            "colorscale": [
             [
              0,
              "#0d0887"
             ],
             [
              0.1111111111111111,
              "#46039f"
             ],
             [
              0.2222222222222222,
              "#7201a8"
             ],
             [
              0.3333333333333333,
              "#9c179e"
             ],
             [
              0.4444444444444444,
              "#bd3786"
             ],
             [
              0.5555555555555556,
              "#d8576b"
             ],
             [
              0.6666666666666666,
              "#ed7953"
             ],
             [
              0.7777777777777778,
              "#fb9f3a"
             ],
             [
              0.8888888888888888,
              "#fdca26"
             ],
             [
              1,
              "#f0f921"
             ]
            ],
            "type": "heatmapgl"
           }
          ],
          "histogram": [
           {
            "marker": {
             "colorbar": {
              "outlinewidth": 0,
              "ticks": ""
             }
            },
            "type": "histogram"
           }
          ],
          "histogram2d": [
           {
            "colorbar": {
             "outlinewidth": 0,
             "ticks": ""
            },
            "colorscale": [
             [
              0,
              "#0d0887"
             ],
             [
              0.1111111111111111,
              "#46039f"
             ],
             [
              0.2222222222222222,
              "#7201a8"
             ],
             [
              0.3333333333333333,
              "#9c179e"
             ],
             [
              0.4444444444444444,
              "#bd3786"
             ],
             [
              0.5555555555555556,
              "#d8576b"
             ],
             [
              0.6666666666666666,
              "#ed7953"
             ],
             [
              0.7777777777777778,
              "#fb9f3a"
             ],
             [
              0.8888888888888888,
              "#fdca26"
             ],
             [
              1,
              "#f0f921"
             ]
            ],
            "type": "histogram2d"
           }
          ],
          "histogram2dcontour": [
           {
            "colorbar": {
             "outlinewidth": 0,
             "ticks": ""
            },
            "colorscale": [
             [
              0,
              "#0d0887"
             ],
             [
              0.1111111111111111,
              "#46039f"
             ],
             [
              0.2222222222222222,
              "#7201a8"
             ],
             [
              0.3333333333333333,
              "#9c179e"
             ],
             [
              0.4444444444444444,
              "#bd3786"
             ],
             [
              0.5555555555555556,
              "#d8576b"
             ],
             [
              0.6666666666666666,
              "#ed7953"
             ],
             [
              0.7777777777777778,
              "#fb9f3a"
             ],
             [
              0.8888888888888888,
              "#fdca26"
             ],
             [
              1,
              "#f0f921"
             ]
            ],
            "type": "histogram2dcontour"
           }
          ],
          "mesh3d": [
           {
            "colorbar": {
             "outlinewidth": 0,
             "ticks": ""
            },
            "type": "mesh3d"
           }
          ],
          "parcoords": [
           {
            "line": {
             "colorbar": {
              "outlinewidth": 0,
              "ticks": ""
             }
            },
            "type": "parcoords"
           }
          ],
          "pie": [
           {
            "automargin": true,
            "type": "pie"
           }
          ],
          "scatter": [
           {
            "marker": {
             "colorbar": {
              "outlinewidth": 0,
              "ticks": ""
             }
            },
            "type": "scatter"
           }
          ],
          "scatter3d": [
           {
            "line": {
             "colorbar": {
              "outlinewidth": 0,
              "ticks": ""
             }
            },
            "marker": {
             "colorbar": {
              "outlinewidth": 0,
              "ticks": ""
             }
            },
            "type": "scatter3d"
           }
          ],
          "scattercarpet": [
           {
            "marker": {
             "colorbar": {
              "outlinewidth": 0,
              "ticks": ""
             }
            },
            "type": "scattercarpet"
           }
          ],
          "scattergeo": [
           {
            "marker": {
             "colorbar": {
              "outlinewidth": 0,
              "ticks": ""
             }
            },
            "type": "scattergeo"
           }
          ],
          "scattergl": [
           {
            "marker": {
             "colorbar": {
              "outlinewidth": 0,
              "ticks": ""
             }
            },
            "type": "scattergl"
           }
          ],
          "scattermapbox": [
           {
            "marker": {
             "colorbar": {
              "outlinewidth": 0,
              "ticks": ""
             }
            },
            "type": "scattermapbox"
           }
          ],
          "scatterpolar": [
           {
            "marker": {
             "colorbar": {
              "outlinewidth": 0,
              "ticks": ""
             }
            },
            "type": "scatterpolar"
           }
          ],
          "scatterpolargl": [
           {
            "marker": {
             "colorbar": {
              "outlinewidth": 0,
              "ticks": ""
             }
            },
            "type": "scatterpolargl"
           }
          ],
          "scatterternary": [
           {
            "marker": {
             "colorbar": {
              "outlinewidth": 0,
              "ticks": ""
             }
            },
            "type": "scatterternary"
           }
          ],
          "surface": [
           {
            "colorbar": {
             "outlinewidth": 0,
             "ticks": ""
            },
            "colorscale": [
             [
              0,
              "#0d0887"
             ],
             [
              0.1111111111111111,
              "#46039f"
             ],
             [
              0.2222222222222222,
              "#7201a8"
             ],
             [
              0.3333333333333333,
              "#9c179e"
             ],
             [
              0.4444444444444444,
              "#bd3786"
             ],
             [
              0.5555555555555556,
              "#d8576b"
             ],
             [
              0.6666666666666666,
              "#ed7953"
             ],
             [
              0.7777777777777778,
              "#fb9f3a"
             ],
             [
              0.8888888888888888,
              "#fdca26"
             ],
             [
              1,
              "#f0f921"
             ]
            ],
            "type": "surface"
           }
          ],
          "table": [
           {
            "cells": {
             "fill": {
              "color": "#EBF0F8"
             },
             "line": {
              "color": "white"
             }
            },
            "header": {
             "fill": {
              "color": "#C8D4E3"
             },
             "line": {
              "color": "white"
             }
            },
            "type": "table"
           }
          ]
         },
         "layout": {
          "annotationdefaults": {
           "arrowcolor": "#2a3f5f",
           "arrowhead": 0,
           "arrowwidth": 1
          },
          "autotypenumbers": "strict",
          "coloraxis": {
           "colorbar": {
            "outlinewidth": 0,
            "ticks": ""
           }
          },
          "colorscale": {
           "diverging": [
            [
             0,
             "#8e0152"
            ],
            [
             0.1,
             "#c51b7d"
            ],
            [
             0.2,
             "#de77ae"
            ],
            [
             0.3,
             "#f1b6da"
            ],
            [
             0.4,
             "#fde0ef"
            ],
            [
             0.5,
             "#f7f7f7"
            ],
            [
             0.6,
             "#e6f5d0"
            ],
            [
             0.7,
             "#b8e186"
            ],
            [
             0.8,
             "#7fbc41"
            ],
            [
             0.9,
             "#4d9221"
            ],
            [
             1,
             "#276419"
            ]
           ],
           "sequential": [
            [
             0,
             "#0d0887"
            ],
            [
             0.1111111111111111,
             "#46039f"
            ],
            [
             0.2222222222222222,
             "#7201a8"
            ],
            [
             0.3333333333333333,
             "#9c179e"
            ],
            [
             0.4444444444444444,
             "#bd3786"
            ],
            [
             0.5555555555555556,
             "#d8576b"
            ],
            [
             0.6666666666666666,
             "#ed7953"
            ],
            [
             0.7777777777777778,
             "#fb9f3a"
            ],
            [
             0.8888888888888888,
             "#fdca26"
            ],
            [
             1,
             "#f0f921"
            ]
           ],
           "sequentialminus": [
            [
             0,
             "#0d0887"
            ],
            [
             0.1111111111111111,
             "#46039f"
            ],
            [
             0.2222222222222222,
             "#7201a8"
            ],
            [
             0.3333333333333333,
             "#9c179e"
            ],
            [
             0.4444444444444444,
             "#bd3786"
            ],
            [
             0.5555555555555556,
             "#d8576b"
            ],
            [
             0.6666666666666666,
             "#ed7953"
            ],
            [
             0.7777777777777778,
             "#fb9f3a"
            ],
            [
             0.8888888888888888,
             "#fdca26"
            ],
            [
             1,
             "#f0f921"
            ]
           ]
          },
          "colorway": [
           "#636efa",
           "#EF553B",
           "#00cc96",
           "#ab63fa",
           "#FFA15A",
           "#19d3f3",
           "#FF6692",
           "#B6E880",
           "#FF97FF",
           "#FECB52"
          ],
          "font": {
           "color": "#2a3f5f"
          },
          "geo": {
           "bgcolor": "white",
           "lakecolor": "white",
           "landcolor": "#E5ECF6",
           "showlakes": true,
           "showland": true,
           "subunitcolor": "white"
          },
          "hoverlabel": {
           "align": "left"
          },
          "hovermode": "closest",
          "mapbox": {
           "style": "light"
          },
          "paper_bgcolor": "white",
          "plot_bgcolor": "#E5ECF6",
          "polar": {
           "angularaxis": {
            "gridcolor": "white",
            "linecolor": "white",
            "ticks": ""
           },
           "bgcolor": "#E5ECF6",
           "radialaxis": {
            "gridcolor": "white",
            "linecolor": "white",
            "ticks": ""
           }
          },
          "scene": {
           "xaxis": {
            "backgroundcolor": "#E5ECF6",
            "gridcolor": "white",
            "gridwidth": 2,
            "linecolor": "white",
            "showbackground": true,
            "ticks": "",
            "zerolinecolor": "white"
           },
           "yaxis": {
            "backgroundcolor": "#E5ECF6",
            "gridcolor": "white",
            "gridwidth": 2,
            "linecolor": "white",
            "showbackground": true,
            "ticks": "",
            "zerolinecolor": "white"
           },
           "zaxis": {
            "backgroundcolor": "#E5ECF6",
            "gridcolor": "white",
            "gridwidth": 2,
            "linecolor": "white",
            "showbackground": true,
            "ticks": "",
            "zerolinecolor": "white"
           }
          },
          "shapedefaults": {
           "line": {
            "color": "#2a3f5f"
           }
          },
          "ternary": {
           "aaxis": {
            "gridcolor": "white",
            "linecolor": "white",
            "ticks": ""
           },
           "baxis": {
            "gridcolor": "white",
            "linecolor": "white",
            "ticks": ""
           },
           "bgcolor": "#E5ECF6",
           "caxis": {
            "gridcolor": "white",
            "linecolor": "white",
            "ticks": ""
           }
          },
          "title": {
           "x": 0.05
          },
          "xaxis": {
           "automargin": true,
           "gridcolor": "white",
           "linecolor": "white",
           "ticks": "",
           "title": {
            "standoff": 15
           },
           "zerolinecolor": "white",
           "zerolinewidth": 2
          },
          "yaxis": {
           "automargin": true,
           "gridcolor": "white",
           "linecolor": "white",
           "ticks": "",
           "title": {
            "standoff": 15
           },
           "zerolinecolor": "white",
           "zerolinewidth": 2
          }
         }
        },
        "title": {
         "font": {
          "color": "#4D5663"
         },
         "text": "Yield To Maturity of US Treasury Note issued at end of Jully 2020 with fixed and different Coupon rates"
        },
        "xaxis": {
         "autorange": true,
         "gridcolor": "#E1E5ED",
         "range": [
          "2020-12-29",
          "2027-07-31"
         ],
         "showgrid": true,
         "tickfont": {
          "color": "#4D5663"
         },
         "title": {
          "font": {
           "color": "#4D5663"
          },
          "text": ""
         },
         "type": "date",
         "zerolinecolor": "#E1E5ED"
        },
        "yaxis": {
         "autorange": true,
         "gridcolor": "#E1E5ED",
         "range": [
          0.0009063372486322358,
          0.00403087670802163
         ],
         "showgrid": true,
         "tickfont": {
          "color": "#4D5663"
         },
         "title": {
          "font": {
           "color": "#4D5663"
          },
          "text": ""
         },
         "type": "linear",
         "zerolinecolor": "#E1E5ED"
        }
       }
      },
      "image/png": "[encoded data removed]",
      "text/html": [
       "<div>                            <div id=\"46eb3636-6c9e-4ae1-a99c-c680db30837a\" class=\"plotly-graph-div\" style=\"height:525px; width:100%;\"></div>            <script type=\"text/javascript\">                require([\"plotly\"], function(Plotly) {                    window.PLOTLYENV=window.PLOTLYENV || {};\n",
       "                    window.PLOTLYENV.BASE_URL='https://chart-studio.plotly.com';                                    if (document.getElementById(\"46eb3636-6c9e-4ae1-a99c-c680db30837a\")) {                    Plotly.newPlot(                        \"46eb3636-6c9e-4ae1-a99c-c680db30837a\",                        [{\"line\": {\"color\": \"rgba(255, 153, 51, 1.0)\", \"dash\": \"solid\", \"shape\": \"linear\", \"width\": 1.3}, \"mode\": \"lines\", \"name\": \"YTM\", \"text\": \"\", \"type\": \"scatter\", \"x\": [\"2020-12-29\", \"2022-07-31\", \"2025-07-31\", \"2027-07-31\"], \"y\": [0.0010625642216017055, 0.0010932860674747608, 0.0020914600723433274, 0.00387464973505216]}],                        {\"legend\": {\"bgcolor\": \"#F5F6F9\", \"font\": {\"color\": \"#4D5663\"}}, \"paper_bgcolor\": \"#F5F6F9\", \"plot_bgcolor\": \"#F5F6F9\", \"template\": {\"data\": {\"bar\": [{\"error_x\": {\"color\": \"#2a3f5f\"}, \"error_y\": {\"color\": \"#2a3f5f\"}, \"marker\": {\"line\": {\"color\": \"#E5ECF6\", \"width\": 0.5}}, \"type\": \"bar\"}], \"barpolar\": [{\"marker\": {\"line\": {\"color\": \"#E5ECF6\", \"width\": 0.5}}, \"type\": \"barpolar\"}], \"carpet\": [{\"aaxis\": {\"endlinecolor\": \"#2a3f5f\", \"gridcolor\": \"white\", \"linecolor\": \"white\", \"minorgridcolor\": \"white\", \"startlinecolor\": \"#2a3f5f\"}, \"baxis\": {\"endlinecolor\": \"#2a3f5f\", \"gridcolor\": \"white\", \"linecolor\": \"white\", \"minorgridcolor\": \"white\", \"startlinecolor\": \"#2a3f5f\"}, \"type\": \"carpet\"}], \"choropleth\": [{\"colorbar\": {\"outlinewidth\": 0, \"ticks\": \"\"}, \"type\": \"choropleth\"}], \"contour\": [{\"colorbar\": {\"outlinewidth\": 0, \"ticks\": \"\"}, \"colorscale\": [[0.0, \"#0d0887\"], [0.1111111111111111, \"#46039f\"], [0.2222222222222222, \"#7201a8\"], [0.3333333333333333, \"#9c179e\"], [0.4444444444444444, \"#bd3786\"], [0.5555555555555556, \"#d8576b\"], [0.6666666666666666, \"#ed7953\"], [0.7777777777777778, \"#fb9f3a\"], [0.8888888888888888, \"#fdca26\"], [1.0, \"#f0f921\"]], \"type\": \"contour\"}], \"contourcarpet\": [{\"colorbar\": {\"outlinewidth\": 0, \"ticks\": \"\"}, \"type\": \"contourcarpet\"}], \"heatmap\": [{\"colorbar\": {\"outlinewidth\": 0, \"ticks\": \"\"}, \"colorscale\": [[0.0, \"#0d0887\"], [0.1111111111111111, \"#46039f\"], [0.2222222222222222, \"#7201a8\"], [0.3333333333333333, \"#9c179e\"], [0.4444444444444444, \"#bd3786\"], [0.5555555555555556, \"#d8576b\"], [0.6666666666666666, \"#ed7953\"], [0.7777777777777778, \"#fb9f3a\"], [0.8888888888888888, \"#fdca26\"], [1.0, \"#f0f921\"]], \"type\": \"heatmap\"}], \"heatmapgl\": [{\"colorbar\": {\"outlinewidth\": 0, \"ticks\": \"\"}, \"colorscale\": [[0.0, \"#0d0887\"], [0.1111111111111111, \"#46039f\"], [0.2222222222222222, \"#7201a8\"], [0.3333333333333333, \"#9c179e\"], [0.4444444444444444, \"#bd3786\"], [0.5555555555555556, \"#d8576b\"], [0.6666666666666666, \"#ed7953\"], [0.7777777777777778, \"#fb9f3a\"], [0.8888888888888888, \"#fdca26\"], [1.0, \"#f0f921\"]], \"type\": \"heatmapgl\"}], \"histogram\": [{\"marker\": {\"colorbar\": {\"outlinewidth\": 0, \"ticks\": \"\"}}, \"type\": \"histogram\"}], \"histogram2d\": [{\"colorbar\": {\"outlinewidth\": 0, \"ticks\": \"\"}, \"colorscale\": [[0.0, \"#0d0887\"], [0.1111111111111111, \"#46039f\"], [0.2222222222222222, \"#7201a8\"], [0.3333333333333333, \"#9c179e\"], [0.4444444444444444, \"#bd3786\"], [0.5555555555555556, \"#d8576b\"], [0.6666666666666666, \"#ed7953\"], [0.7777777777777778, \"#fb9f3a\"], [0.8888888888888888, \"#fdca26\"], [1.0, \"#f0f921\"]], \"type\": \"histogram2d\"}], \"histogram2dcontour\": [{\"colorbar\": {\"outlinewidth\": 0, \"ticks\": \"\"}, \"colorscale\": [[0.0, \"#0d0887\"], [0.1111111111111111, \"#46039f\"], [0.2222222222222222, \"#7201a8\"], [0.3333333333333333, \"#9c179e\"], [0.4444444444444444, \"#bd3786\"], [0.5555555555555556, \"#d8576b\"], [0.6666666666666666, \"#ed7953\"], [0.7777777777777778, \"#fb9f3a\"], [0.8888888888888888, \"#fdca26\"], [1.0, \"#f0f921\"]], \"type\": \"histogram2dcontour\"}], \"mesh3d\": [{\"colorbar\": {\"outlinewidth\": 0, \"ticks\": \"\"}, \"type\": \"mesh3d\"}], \"parcoords\": [{\"line\": {\"colorbar\": {\"outlinewidth\": 0, \"ticks\": \"\"}}, \"type\": \"parcoords\"}], \"pie\": [{\"automargin\": true, \"type\": \"pie\"}], \"scatter\": [{\"marker\": {\"colorbar\": {\"outlinewidth\": 0, \"ticks\": \"\"}}, \"type\": \"scatter\"}], \"scatter3d\": [{\"line\": {\"colorbar\": {\"outlinewidth\": 0, \"ticks\": \"\"}}, \"marker\": {\"colorbar\": {\"outlinewidth\": 0, \"ticks\": \"\"}}, \"type\": \"scatter3d\"}], \"scattercarpet\": [{\"marker\": {\"colorbar\": {\"outlinewidth\": 0, \"ticks\": \"\"}}, \"type\": \"scattercarpet\"}], \"scattergeo\": [{\"marker\": {\"colorbar\": {\"outlinewidth\": 0, \"ticks\": \"\"}}, \"type\": \"scattergeo\"}], \"scattergl\": [{\"marker\": {\"colorbar\": {\"outlinewidth\": 0, \"ticks\": \"\"}}, \"type\": \"scattergl\"}], \"scattermapbox\": [{\"marker\": {\"colorbar\": {\"outlinewidth\": 0, \"ticks\": \"\"}}, \"type\": \"scattermapbox\"}], \"scatterpolar\": [{\"marker\": {\"colorbar\": {\"outlinewidth\": 0, \"ticks\": \"\"}}, \"type\": \"scatterpolar\"}], \"scatterpolargl\": [{\"marker\": {\"colorbar\": {\"outlinewidth\": 0, \"ticks\": \"\"}}, \"type\": \"scatterpolargl\"}], \"scatterternary\": [{\"marker\": {\"colorbar\": {\"outlinewidth\": 0, \"ticks\": \"\"}}, \"type\": \"scatterternary\"}], \"surface\": [{\"colorbar\": {\"outlinewidth\": 0, \"ticks\": \"\"}, \"colorscale\": [[0.0, \"#0d0887\"], [0.1111111111111111, \"#46039f\"], [0.2222222222222222, \"#7201a8\"], [0.3333333333333333, \"#9c179e\"], [0.4444444444444444, \"#bd3786\"], [0.5555555555555556, \"#d8576b\"], [0.6666666666666666, \"#ed7953\"], [0.7777777777777778, \"#fb9f3a\"], [0.8888888888888888, \"#fdca26\"], [1.0, \"#f0f921\"]], \"type\": \"surface\"}], \"table\": [{\"cells\": {\"fill\": {\"color\": \"#EBF0F8\"}, \"line\": {\"color\": \"white\"}}, \"header\": {\"fill\": {\"color\": \"#C8D4E3\"}, \"line\": {\"color\": \"white\"}}, \"type\": \"table\"}]}, \"layout\": {\"annotationdefaults\": {\"arrowcolor\": \"#2a3f5f\", \"arrowhead\": 0, \"arrowwidth\": 1}, \"autotypenumbers\": \"strict\", \"coloraxis\": {\"colorbar\": {\"outlinewidth\": 0, \"ticks\": \"\"}}, \"colorscale\": {\"diverging\": [[0, \"#8e0152\"], [0.1, \"#c51b7d\"], [0.2, \"#de77ae\"], [0.3, \"#f1b6da\"], [0.4, \"#fde0ef\"], [0.5, \"#f7f7f7\"], [0.6, \"#e6f5d0\"], [0.7, \"#b8e186\"], [0.8, \"#7fbc41\"], [0.9, \"#4d9221\"], [1, \"#276419\"]], \"sequential\": [[0.0, \"#0d0887\"], [0.1111111111111111, \"#46039f\"], [0.2222222222222222, \"#7201a8\"], [0.3333333333333333, \"#9c179e\"], [0.4444444444444444, \"#bd3786\"], [0.5555555555555556, \"#d8576b\"], [0.6666666666666666, \"#ed7953\"], [0.7777777777777778, \"#fb9f3a\"], [0.8888888888888888, \"#fdca26\"], [1.0, \"#f0f921\"]], \"sequentialminus\": [[0.0, \"#0d0887\"], [0.1111111111111111, \"#46039f\"], [0.2222222222222222, \"#7201a8\"], [0.3333333333333333, \"#9c179e\"], [0.4444444444444444, \"#bd3786\"], [0.5555555555555556, \"#d8576b\"], [0.6666666666666666, \"#ed7953\"], [0.7777777777777778, \"#fb9f3a\"], [0.8888888888888888, \"#fdca26\"], [1.0, \"#f0f921\"]]}, \"colorway\": [\"#636efa\", \"#EF553B\", \"#00cc96\", \"#ab63fa\", \"#FFA15A\", \"#19d3f3\", \"#FF6692\", \"#B6E880\", \"#FF97FF\", \"#FECB52\"], \"font\": {\"color\": \"#2a3f5f\"}, \"geo\": {\"bgcolor\": \"white\", \"lakecolor\": \"white\", \"landcolor\": \"#E5ECF6\", \"showlakes\": true, \"showland\": true, \"subunitcolor\": \"white\"}, \"hoverlabel\": {\"align\": \"left\"}, \"hovermode\": \"closest\", \"mapbox\": {\"style\": \"light\"}, \"paper_bgcolor\": \"white\", \"plot_bgcolor\": \"#E5ECF6\", \"polar\": {\"angularaxis\": {\"gridcolor\": \"white\", \"linecolor\": \"white\", \"ticks\": \"\"}, \"bgcolor\": \"#E5ECF6\", \"radialaxis\": {\"gridcolor\": \"white\", \"linecolor\": \"white\", \"ticks\": \"\"}}, \"scene\": {\"xaxis\": {\"backgroundcolor\": \"#E5ECF6\", \"gridcolor\": \"white\", \"gridwidth\": 2, \"linecolor\": \"white\", \"showbackground\": true, \"ticks\": \"\", \"zerolinecolor\": \"white\"}, \"yaxis\": {\"backgroundcolor\": \"#E5ECF6\", \"gridcolor\": \"white\", \"gridwidth\": 2, \"linecolor\": \"white\", \"showbackground\": true, \"ticks\": \"\", \"zerolinecolor\": \"white\"}, \"zaxis\": {\"backgroundcolor\": \"#E5ECF6\", \"gridcolor\": \"white\", \"gridwidth\": 2, \"linecolor\": \"white\", \"showbackground\": true, \"ticks\": \"\", \"zerolinecolor\": \"white\"}}, \"shapedefaults\": {\"line\": {\"color\": \"#2a3f5f\"}}, \"ternary\": {\"aaxis\": {\"gridcolor\": \"white\", \"linecolor\": \"white\", \"ticks\": \"\"}, \"baxis\": {\"gridcolor\": \"white\", \"linecolor\": \"white\", \"ticks\": \"\"}, \"bgcolor\": \"#E5ECF6\", \"caxis\": {\"gridcolor\": \"white\", \"linecolor\": \"white\", \"ticks\": \"\"}}, \"title\": {\"x\": 0.05}, \"xaxis\": {\"automargin\": true, \"gridcolor\": \"white\", \"linecolor\": \"white\", \"ticks\": \"\", \"title\": {\"standoff\": 15}, \"zerolinecolor\": \"white\", \"zerolinewidth\": 2}, \"yaxis\": {\"automargin\": true, \"gridcolor\": \"white\", \"linecolor\": \"white\", \"ticks\": \"\", \"title\": {\"standoff\": 15}, \"zerolinecolor\": \"white\", \"zerolinewidth\": 2}}}, \"title\": {\"font\": {\"color\": \"#4D5663\"}, \"text\": \"Yield To Maturity of US Treasury Note issued at end of Jully 2020 with fixed and different Coupon rates\"}, \"xaxis\": {\"gridcolor\": \"#E1E5ED\", \"showgrid\": true, \"tickfont\": {\"color\": \"#4D5663\"}, \"title\": {\"font\": {\"color\": \"#4D5663\"}, \"text\": \"\"}, \"zerolinecolor\": \"#E1E5ED\"}, \"yaxis\": {\"gridcolor\": \"#E1E5ED\", \"showgrid\": true, \"tickfont\": {\"color\": \"#4D5663\"}, \"title\": {\"font\": {\"color\": \"#4D5663\"}, \"text\": \"\"}, \"zerolinecolor\": \"#E1E5ED\"}},                        {\"showLink\": true, \"linkText\": \"Export to chart-studio.plotly.com\", \"plotlyServerURL\": \"https://chart-studio.plotly.com\", \"responsive\": true}                    ).then(function(){\n",
       "                            \n",
       "var gd = document.getElementById('46eb3636-6c9e-4ae1-a99c-c680db30837a');\n",
       "var x = new MutationObserver(function (mutations, observer) {{\n",
       "        var display = window.getComputedStyle(gd).display;\n",
       "        if (!display || display === 'none') {{\n",
       "            console.log([gd, 'removed!']);\n",
       "            Plotly.purge(gd);\n",
       "            observer.disconnect();\n",
       "        }}\n",
       "}});\n",
       "\n",
       "// Listen for the removal of the full notebook cells\n",
       "var notebookContainer = gd.closest('#notebook-container');\n",
       "if (notebookContainer) {{\n",
       "    x.observe(notebookContainer, {childList: true});\n",
       "}}\n",
       "\n",
       "// Listen for the clearing of the current output cell\n",
       "var outputEl = gd.closest('.output');\n",
       "if (outputEl) {{\n",
       "    x.observe(outputEl, {childList: true});\n",
       "}}\n",
       "\n",
       "                        })                };                });            </script>        </div>"
      ]
     },
     "metadata": {},
     "output_type": "display_data"
    }
   ],
   "source": [
    "yc_df = DSWS_fixed_and_price_data_collection_and_ytm(\n",
    "    instruments=[\"613V2R\", \"613XGW\", \"613XGU\", \"613XG1\"],\n",
    "    fields=[\"DSCD\", \"NAME\", \"ID\", \"TERM\",\n",
    "            \"RV\", \"C\", \"CTYP\", \"RDL\"])\n",
    "\n",
    "# Add cash-flows to our data-frame\n",
    "cf = []   # ' cf ' for cash flow.\n",
    "for i in range(len(yc_df)):\n",
    "    _c = yc_df.iloc[i][\"RV\"] * yc_df.iloc[i][\"C\"] / 100  # ' c ' for Coupon payment (in absolute terms).\n",
    "    _cf = [_c for j in range(int(yc_df.iloc[i][\"TERM\"] / 0.5))]  # ' cf ' for cash flow.\n",
    "    _cf[-1] = _cf[-1] + yc_df.iloc[i][\"RV\"]\n",
    "    cf.append(_cf)\n",
    "yc_df[\"CF\"] = cf\n",
    "\n",
    "yc_df.index = yc_df['RDL']\n",
    "\n",
    "display(yc_df)\n",
    "yc_df[\"YTM\"].iplot(title=\"Yield To Maturity of US Treasury Note issued at end of Jully 2020 with fixed and different Coupon rates\")"
   ]
  },
  {
   "cell_type": "markdown",
   "id": "e0f6a8ea-b218-4d07-8ee4-1fc24bbdaaa5",
   "metadata": {},
   "source": [
    "We can see that we have very little liquidity in such on-the-run sovereign Bonds. I couldn't find ones that our agent could buy at time of issue (towards the end of July 2020). Such a lack of liquidity does not provide us with enough datapoints to compute Spot Rates.\n",
    "\n",
    "> ##### Example of how a lack in liquidity in on-the-run sovereign Bonds disables us from computing Spot Rates without using off-the-run sovereign Bonds' data\n",
    "> We know from the ```yc_df``` data-frame above that we do not have data for on-the-run US Treasury Bonds issued towards the end of July 2020 with 1 year maturity. That's because such a specific Bond is not being sold on the market. Say that we try to compute the Spot Rate for such a specific Bond, we'd have to use the following data:\n",
    "> \n",
    "> |Maturity (Years)|Coupon Rate|Price at issue|Yield To Maturity|\n",
    "> |:-|:-|:-|:-|\n",
    "> |0.50|0.000|99.9469|0.001063|\n",
    "> |1.00| $\\mathcal{C}_{p,\\text{OYTB}_{\"2020-07-31\"}}$ |$P_{\\text{OYTB}_{\"2020-07-31\"}}$|$YTM_{\\text{OYTB}_{\"2020-07-31\"}}$|\n",
    ">\n",
    "> Where $P_{\\text{OYTB}_{\"2020-07-31\"}}$ is the price of our fictisious One Year Treasury Bill issued on 2020-07-31. Then our cashflow is:\n",
    ">\n",
    "> |Time (years) from issue to cashflow date|Calculation of discouted cashflow|Discouted cashflow|\n",
    "> |:-|:-|:-|\n",
    "> |0.5|$\\mathcal{C}_{p, \\text{OYTB}_{\"2020-07-31\"}}$ x ${FV}_{\\text{OYTB}}$ x $f_{\\text{acpf}}$ = 0.000 x \\$100 x 0.5|\\$0.00|\n",
    "> |1.0|$\\mathcal{C}_{p, \\text{OYTB}_{\"2020-07-31\"}}$ x ${FV}_{\\text{OYTB}}$ x $f_{\\text{acpf}} = 0.000$ x \\\\$100 x 0.5 + \\$100|\\$100|\n",
    "> \n",
    "> since the Coupon rate of all US Bonds with maturities equal to or lower than 1 year are Zero-Coupon. Then\n",
    "> \n",
    "> $$ \\begin{array}{ll} {NPV}_{\\text{OYTB}_{\"2020-07-31\"}, 0.5} &= \\frac{\\mathcal{C}_{p, \\text{OYTB}_{\"2020-07-31\"}} \\text{ x } {FV}_{\\text{OYTB}} \\text{ x } f_{\\text{acpf}}}{1 + {SR}_{\\text{OYTB}_{\"2020-07-31\"}, 1}} + \\frac{\\mathcal{C}_{p, \\text{OYTB}_{\"2020-07-31\"}} \\text{ x } {FV}_{\\text{OYTB}} \\text{ x } f_{\\text{acpf}} + {FV}_{\\text{OYTB}_{\"2020-07-31\"}}}{(1 + {SR}_{\\text{OYTB}_{\"2020-07-31\"}, 2})^2} \\\\ P_{\\text{OYTB}_{\"2020-07-31\"}} &= \\frac{\\mathcal{C}_{p, \\text{OYTB}_{\"2020-07-31\"}} \\text{ x } {FV}_{\\text{OYTB}} \\text{ x } f_{\\text{acpf}}}{1 + {SR}_{\\text{OYTB}_{\"2020-07-31\"}, 1}} + \\frac{\\mathcal{C}_{p, \\text{OYTB}_{\"2020-07-31\"}} \\text{ x } {FV}_{\\text{OYTB}} \\text{ x } f_{\\text{acpf}} + {FV}_{\\text{OYTB}_{\"2020-07-31\"}}}{(1 + {SR}_{\\text{OYTB}_{\"2020-07-31\"}, 2})^2} \\text{ letting } {NPV}_{\\text{OYTB}_{\"2020-07-31\"}, 0.5} = P_{\\text{OYTB}_{\"2020-07-31\"}} \\\\ &= \\frac{0.000 \\text{ x } \\$100 \\text{ x } 0.5}{1 + {SR}_{\\text{OYTB}_{\"2020-07-31\"}, 1}} + \\frac{0.000 \\text{ x } \\$100 \\text{ x } 0.5 + \\$ 100}{(1 + {SR}_{\\text{OYTB}_{\"2020-07-31\"}, 2})^2} \\\\ &= \\frac{0.000 \\text{ x } \\$100 \\text{ x } 0.5}{1 + {YTM}_{\\text{SMTB}_{\"2020-07-31\"}}} + \\frac{0.000 \\text{ x } \\$100 \\text{ x } 0.5 + \\$ 100}{(1 + {SR}_{\\text{OYTB}_{\"2020-07-31\"}, 2})^2} \\text{ letting } {SR}_{\\text{OYTB}_{\"2020-07-31\"}, 1} = {YTM}_{\\text{SMTB}_{\"2020-07-31\"}} = \\text{ YTM of the Six Month Treasury Bill at time of its issue} \\\\ &= \\frac{\\$ 100}{(1 + {SR}_{\\text{OYTB}_{\"2020-07-31\"}, 2})^2} \\text{, thus} \\\\ {SR}_{\\text{OYTB}_{\"2020-07-31\"}, 2} &= \\sqrt[2]{\\frac{\\$ 100}{P_{\\text{OYTB}_{\"2020-07-31\"}}}}-1 \\end{array}$$\n",
    "> \n",
    "> And thus, without a OYTB Bond from which to get $P_{\\text{OYTB}_{\"2020-07-31\"}}$, we cannot calculate ${SR}_{\\text{OYTB}_{\"2020-07-31\"}, 2}$."
   ]
  },
  {
   "cell_type": "markdown",
   "id": "351624d8-94b9-419b-9428-07dc6f90178b",
   "metadata": {},
   "source": [
    "This lack of on-the-run liquidity can be solved by using off-the-run Bonds:"
   ]
  },
  {
   "cell_type": "markdown",
   "id": "ebeee2e8-aaf6-4fb9-a8c9-1ef6b0968047",
   "metadata": {},
   "source": [
    "#### On and Off-the-run sovereign Bonds\n",
    "\n",
    "[Off-the-run sovereign Bonds](https://www.investopedia.com/terms/o/off-the-runtreasuries.asp) are simply Bonds issued before the latest. In our hypothetical situation, we were only looking at Bonds issued at (approximatelly) the same time, at the end of July 2020. What we can do however, is look at Bonds issued earlier. *E.g.*: We can use a Bond with 1 year to maturity issued 6 months earlier (at the end of January 2020)."
   ]
  },
  {
   "cell_type": "code",
   "execution_count": 17,
   "id": "de649576-e09b-4280-8129-2cbafcdf8e22",
   "metadata": {},
   "outputs": [],
   "source": [
    "from_date = \"2020-07-31\""
   ]
  },
  {
   "cell_type": "code",
   "execution_count": 18,
   "id": "97b84399-93f1-4e19-91bc-e0243be0ac47",
   "metadata": {},
   "outputs": [],
   "source": [
    "off_run_df = DSWS_fixed_and_price_data_collection_and_ytm(\n",
    "    instruments=[\"247DK9\", \"235FFA\", \"218QH0\", \"823D0N\", \"210EV1\",\n",
    "                 \"235FFD\", \"247DLH\", \"218QJQ\", \"235FF9\", \"247DLR\"],\n",
    "    fields=[\"DSCD\", \"NAME\", \"ID\", \"TERM\",\n",
    "            \"RV\", \"C\", \"CTYP\", \"RDL\"])\n",
    "\n",
    "# Add cash-flows to our data-frame\n",
    "cf2 = []   # ' cf ' for cash flow.\n",
    "for i in range(len(off_run_df)):\n",
    "    _c = off_run_df.iloc[i][\"RV\"] * off_run_df.iloc[i][\"C\"] / 100  # ' c ' for Coupon payment (in absolute terms).\n",
    "    _cf = [_c for j in range(int(off_run_df.iloc[i][\"TERM\"] / 0.5))]  # ' cf ' for cash flow.\n",
    "    _cf[-1] = _cf[-1] + off_run_df.iloc[i][\"RV\"]\n",
    "    cf2.append(_cf)\n",
    "off_run_df[\"CF\"] = cf2\n",
    "\n",
    "off_run_df.index = off_run_df['RDL']\n",
    "off_run_df.index.names = ['RD']  # ' RD ' for Redemption Date\n",
    "# off_run_df.rename(index={0: 'RD'}, inplace=True)  # ' RD ' for Redemption Date\n",
    "\n",
    "off_on_df = yc_df.append(off_run_df)"
   ]
  },
  {
   "cell_type": "code",
   "execution_count": 19,
   "id": "b4d73a04-7715-4251-8d42-d898ca3ce3a7",
   "metadata": {},
   "outputs": [],
   "source": [
    "off_on_df[\"Price on 2020-07-31\"] = [\n",
    "    ds.get_data(start=\"2020-07-31\", end=\"2020-07-31\",\n",
    "                fields=\"X\", freq='D',\n",
    "                tickers=i).values[0][2]\n",
    "    for i in list(off_on_df[\"DSCD\"])]"
   ]
  },
  {
   "cell_type": "code",
   "execution_count": 20,
   "id": "ce9932e1-f4ff-49d0-9f47-d45fc8ed594d",
   "metadata": {},
   "outputs": [],
   "source": [
    "off_on_df[\"YTM implied by 2020-07-31 Price\"] = [\n",
    "    YTM_Solver(\n",
    "        fv=off_on_df.iloc[i][\"RV\"],\n",
    "        c=off_on_df.iloc[i][\"RV\"] * off_on_df.iloc[i][\"C\"] / 100,\n",
    "        m=(round(2*((datetime.strptime(off_on_df.iloc[i][\"RDL\"], '%Y-%m-%d') - datetime.strptime(from_date, '%Y-%m-%d')).days)/360)) / 2,\n",
    "        f_acf=0.5, error=False,\n",
    "        p=off_on_df.iloc[i][\"Price on 2020-07-31\"])\n",
    "    for i in range(len(off_on_df))]"
   ]
  },
  {
   "cell_type": "code",
   "execution_count": 21,
   "id": "4406fdf4-9519-4476-853f-2700bac9ab42",
   "metadata": {},
   "outputs": [
    {
     "data": {
      "text/html": [
       "<div>\n",
       "<style scoped>\n",
       "    .dataframe tbody tr th:only-of-type {\n",
       "        vertical-align: middle;\n",
       "    }\n",
       "\n",
       "    .dataframe tbody tr th {\n",
       "        vertical-align: top;\n",
       "    }\n",
       "\n",
       "    .dataframe thead th {\n",
       "        text-align: right;\n",
       "    }\n",
       "</style>\n",
       "<table border=\"1\" class=\"dataframe\">\n",
       "  <thead>\n",
       "    <tr style=\"text-align: right;\">\n",
       "      <th></th>\n",
       "      <th>DSCD</th>\n",
       "      <th>NAME</th>\n",
       "      <th>ID</th>\n",
       "      <th>TERM</th>\n",
       "      <th>RV</th>\n",
       "      <th>C</th>\n",
       "      <th>CTYP</th>\n",
       "      <th>RDL</th>\n",
       "      <th>Price at issue</th>\n",
       "      <th>YTM</th>\n",
       "      <th>CF</th>\n",
       "      <th>Price on 2020-07-31</th>\n",
       "      <th>YTM implied by 2020-07-31 Price</th>\n",
       "    </tr>\n",
       "  </thead>\n",
       "  <tbody>\n",
       "    <tr>\n",
       "      <th>2020-12-29</th>\n",
       "      <td>613V2R</td>\n",
       "      <td>UTD.STS OF AMERICA 2020 ZERO 29/12/20</td>\n",
       "      <td>2020-07-28</td>\n",
       "      <td>0.5</td>\n",
       "      <td>100</td>\n",
       "      <td>0</td>\n",
       "      <td>ZERO</td>\n",
       "      <td>2020-12-29</td>\n",
       "      <td>99.9469</td>\n",
       "      <td>0.001063</td>\n",
       "      <td>[100.0]</td>\n",
       "      <td>99.9559</td>\n",
       "      <td>0.000882</td>\n",
       "    </tr>\n",
       "    <tr>\n",
       "      <th>2021-07-31</th>\n",
       "      <td>235FFA</td>\n",
       "      <td>US TREASURY NOTE 2019 1 3/4% 31/07/21 BD-2021</td>\n",
       "      <td>2019-07-31</td>\n",
       "      <td>2</td>\n",
       "      <td>100</td>\n",
       "      <td>1.75</td>\n",
       "      <td>FIX</td>\n",
       "      <td>2021-07-31</td>\n",
       "      <td>99.7930</td>\n",
       "      <td>0.018559</td>\n",
       "      <td>[1.75, 1.75, 1.75, 101.75]</td>\n",
       "      <td>101.6094</td>\n",
       "      <td>0.001389</td>\n",
       "    </tr>\n",
       "    <tr>\n",
       "      <th>2021-12-31</th>\n",
       "      <td>247DK9</td>\n",
       "      <td>US TREASURY NOTE 2019 1 5/8% 31/12/21 BL-2021</td>\n",
       "      <td>2019-12-31</td>\n",
       "      <td>2</td>\n",
       "      <td>100</td>\n",
       "      <td>1.625</td>\n",
       "      <td>FIX</td>\n",
       "      <td>2021-12-31</td>\n",
       "      <td>100.0742</td>\n",
       "      <td>0.015872</td>\n",
       "      <td>[1.625, 1.625, 1.625, 101.625]</td>\n",
       "      <td>102.1016</td>\n",
       "      <td>0.002208</td>\n",
       "    </tr>\n",
       "    <tr>\n",
       "      <th>2022-07-31</th>\n",
       "      <td>613XGW</td>\n",
       "      <td>US TREASURY NOTE 2020 1/8% 31/07/22 BD-2022</td>\n",
       "      <td>2020-07-31</td>\n",
       "      <td>2</td>\n",
       "      <td>100</td>\n",
       "      <td>0.125</td>\n",
       "      <td>FIX</td>\n",
       "      <td>2022-07-31</td>\n",
       "      <td>100.0313</td>\n",
       "      <td>0.001093</td>\n",
       "      <td>[0.125, 0.125, 0.125, 100.125]</td>\n",
       "      <td>100.0313</td>\n",
       "      <td>0.001093</td>\n",
       "    </tr>\n",
       "    <tr>\n",
       "      <th>2022-12-31</th>\n",
       "      <td>823D0N</td>\n",
       "      <td>US TREASURY NOTE 2015 2 1/8% 31/12/22 T-2022</td>\n",
       "      <td>2015-12-31</td>\n",
       "      <td>7</td>\n",
       "      <td>100</td>\n",
       "      <td>2.125</td>\n",
       "      <td>FIX</td>\n",
       "      <td>2022-12-31</td>\n",
       "      <td>100.2031</td>\n",
       "      <td>0.020937</td>\n",
       "      <td>[2.125, 2.125, 2.125, 2.125, 2.125, 2.125, 2.1...</td>\n",
       "      <td>104.8281</td>\n",
       "      <td>0.001883</td>\n",
       "    </tr>\n",
       "    <tr>\n",
       "      <th>2023-07-31</th>\n",
       "      <td>210EV1</td>\n",
       "      <td>US TREASURY NOTE 2018 2 3/4% 31/07/23 AB-2023</td>\n",
       "      <td>2018-07-31</td>\n",
       "      <td>5</td>\n",
       "      <td>100</td>\n",
       "      <td>2.75</td>\n",
       "      <td>FIX</td>\n",
       "      <td>2023-07-31</td>\n",
       "      <td>99.5469</td>\n",
       "      <td>0.028479</td>\n",
       "      <td>[2.75, 2.75, 2.75, 2.75, 2.75, 2.75, 2.75, 2.7...</td>\n",
       "      <td>107.8438</td>\n",
       "      <td>0.001295</td>\n",
       "    </tr>\n",
       "    <tr>\n",
       "      <th>2023-12-31</th>\n",
       "      <td>218QH0</td>\n",
       "      <td>US TREASURY NOTE 2018 2 5/8% 31/12/23 AG-2023</td>\n",
       "      <td>2018-12-31</td>\n",
       "      <td>5</td>\n",
       "      <td>100</td>\n",
       "      <td>2.625</td>\n",
       "      <td>FIX</td>\n",
       "      <td>2023-12-31</td>\n",
       "      <td>100.5391</td>\n",
       "      <td>0.025096</td>\n",
       "      <td>[2.625, 2.625, 2.625, 2.625, 2.625, 2.625, 2.6...</td>\n",
       "      <td>108.4609</td>\n",
       "      <td>0.001980</td>\n",
       "    </tr>\n",
       "    <tr>\n",
       "      <th>2024-07-31</th>\n",
       "      <td>235FFD</td>\n",
       "      <td>US TREASURY NOTE 2019 1 3/4% 31/07/24 AB-2024</td>\n",
       "      <td>2019-07-31</td>\n",
       "      <td>5</td>\n",
       "      <td>100</td>\n",
       "      <td>1.75</td>\n",
       "      <td>FIX</td>\n",
       "      <td>2024-07-31</td>\n",
       "      <td>99.6563</td>\n",
       "      <td>0.018222</td>\n",
       "      <td>[1.75, 1.75, 1.75, 1.75, 1.75, 1.75, 1.75, 1.7...</td>\n",
       "      <td>106.3203</td>\n",
       "      <td>0.001641</td>\n",
       "    </tr>\n",
       "    <tr>\n",
       "      <th>2024-12-31</th>\n",
       "      <td>247DLH</td>\n",
       "      <td>US TREASURY NOTE 2019 1 3/4% 31/12/24 AH-2024</td>\n",
       "      <td>2019-12-31</td>\n",
       "      <td>5</td>\n",
       "      <td>100</td>\n",
       "      <td>1.75</td>\n",
       "      <td>FIX</td>\n",
       "      <td>2024-12-31</td>\n",
       "      <td>100.2734</td>\n",
       "      <td>0.016927</td>\n",
       "      <td>[1.75, 1.75, 1.75, 1.75, 1.75, 1.75, 1.75, 1.7...</td>\n",
       "      <td>106.8828</td>\n",
       "      <td>0.002124</td>\n",
       "    </tr>\n",
       "    <tr>\n",
       "      <th>2025-07-31</th>\n",
       "      <td>613XGU</td>\n",
       "      <td>US TREASURY NOTE 2020 1/4% 31/07/25 AB-2025</td>\n",
       "      <td>2020-07-31</td>\n",
       "      <td>5</td>\n",
       "      <td>100</td>\n",
       "      <td>0.25</td>\n",
       "      <td>FIX</td>\n",
       "      <td>2025-07-31</td>\n",
       "      <td>100.2031</td>\n",
       "      <td>0.002091</td>\n",
       "      <td>[0.25, 0.25, 0.25, 0.25, 0.25, 0.25, 0.25, 0.2...</td>\n",
       "      <td>100.2031</td>\n",
       "      <td>0.002091</td>\n",
       "    </tr>\n",
       "    <tr>\n",
       "      <th>2025-12-31</th>\n",
       "      <td>218QJQ</td>\n",
       "      <td>US TREASURY NOTE 2018 2 5/8% 31/12/25 T-2025</td>\n",
       "      <td>2018-12-31</td>\n",
       "      <td>7</td>\n",
       "      <td>100</td>\n",
       "      <td>2.625</td>\n",
       "      <td>FIX</td>\n",
       "      <td>2025-12-31</td>\n",
       "      <td>100.2500</td>\n",
       "      <td>0.025857</td>\n",
       "      <td>[2.625, 2.625, 2.625, 2.625, 2.625, 2.625, 2.6...</td>\n",
       "      <td>112.7344</td>\n",
       "      <td>0.002895</td>\n",
       "    </tr>\n",
       "    <tr>\n",
       "      <th>2026-07-31</th>\n",
       "      <td>235FF9</td>\n",
       "      <td>US TREASURY NOTE 2019 1 7/8% 31/07/26 N-2026</td>\n",
       "      <td>2019-07-31</td>\n",
       "      <td>7</td>\n",
       "      <td>100</td>\n",
       "      <td>1.875</td>\n",
       "      <td>FIX</td>\n",
       "      <td>2026-07-31</td>\n",
       "      <td>99.7813</td>\n",
       "      <td>0.019085</td>\n",
       "      <td>[1.875, 1.875, 1.875, 1.875, 1.875, 1.875, 1.8...</td>\n",
       "      <td>109.2891</td>\n",
       "      <td>0.003111</td>\n",
       "    </tr>\n",
       "    <tr>\n",
       "      <th>2026-12-31</th>\n",
       "      <td>247DLR</td>\n",
       "      <td>US TREASURY NOTE 2019 1 3/4% 31/12/26 T-2026</td>\n",
       "      <td>2019-12-31</td>\n",
       "      <td>7</td>\n",
       "      <td>100</td>\n",
       "      <td>1.75</td>\n",
       "      <td>FIX</td>\n",
       "      <td>2026-12-31</td>\n",
       "      <td>99.4375</td>\n",
       "      <td>0.018360</td>\n",
       "      <td>[1.75, 1.75, 1.75, 1.75, 1.75, 1.75, 1.75, 1.7...</td>\n",
       "      <td>108.8984</td>\n",
       "      <td>0.003635</td>\n",
       "    </tr>\n",
       "    <tr>\n",
       "      <th>2027-07-31</th>\n",
       "      <td>613XG1</td>\n",
       "      <td>US TREASURY NOTE 2020 3/8% 31/07/27 N-2027</td>\n",
       "      <td>2020-07-31</td>\n",
       "      <td>7</td>\n",
       "      <td>100</td>\n",
       "      <td>0.375</td>\n",
       "      <td>FIX</td>\n",
       "      <td>2027-07-31</td>\n",
       "      <td>99.9140</td>\n",
       "      <td>0.003875</td>\n",
       "      <td>[0.375, 0.375, 0.375, 0.375, 0.375, 0.375, 0.3...</td>\n",
       "      <td>99.9140</td>\n",
       "      <td>0.003875</td>\n",
       "    </tr>\n",
       "  </tbody>\n",
       "</table>\n",
       "</div>"
      ],
      "text/plain": [
       "              DSCD                                           NAME          ID  \\\n",
       "2020-12-29  613V2R          UTD.STS OF AMERICA 2020 ZERO 29/12/20  2020-07-28   \n",
       "2021-07-31  235FFA  US TREASURY NOTE 2019 1 3/4% 31/07/21 BD-2021  2019-07-31   \n",
       "2021-12-31  247DK9  US TREASURY NOTE 2019 1 5/8% 31/12/21 BL-2021  2019-12-31   \n",
       "2022-07-31  613XGW    US TREASURY NOTE 2020 1/8% 31/07/22 BD-2022  2020-07-31   \n",
       "2022-12-31  823D0N   US TREASURY NOTE 2015 2 1/8% 31/12/22 T-2022  2015-12-31   \n",
       "2023-07-31  210EV1  US TREASURY NOTE 2018 2 3/4% 31/07/23 AB-2023  2018-07-31   \n",
       "2023-12-31  218QH0  US TREASURY NOTE 2018 2 5/8% 31/12/23 AG-2023  2018-12-31   \n",
       "2024-07-31  235FFD  US TREASURY NOTE 2019 1 3/4% 31/07/24 AB-2024  2019-07-31   \n",
       "2024-12-31  247DLH  US TREASURY NOTE 2019 1 3/4% 31/12/24 AH-2024  2019-12-31   \n",
       "2025-07-31  613XGU    US TREASURY NOTE 2020 1/4% 31/07/25 AB-2025  2020-07-31   \n",
       "2025-12-31  218QJQ   US TREASURY NOTE 2018 2 5/8% 31/12/25 T-2025  2018-12-31   \n",
       "2026-07-31  235FF9   US TREASURY NOTE 2019 1 7/8% 31/07/26 N-2026  2019-07-31   \n",
       "2026-12-31  247DLR   US TREASURY NOTE 2019 1 3/4% 31/12/26 T-2026  2019-12-31   \n",
       "2027-07-31  613XG1     US TREASURY NOTE 2020 3/8% 31/07/27 N-2027  2020-07-31   \n",
       "\n",
       "           TERM   RV      C  CTYP         RDL  Price at issue       YTM  \\\n",
       "2020-12-29  0.5  100      0  ZERO  2020-12-29         99.9469  0.001063   \n",
       "2021-07-31    2  100   1.75   FIX  2021-07-31         99.7930  0.018559   \n",
       "2021-12-31    2  100  1.625   FIX  2021-12-31        100.0742  0.015872   \n",
       "2022-07-31    2  100  0.125   FIX  2022-07-31        100.0313  0.001093   \n",
       "2022-12-31    7  100  2.125   FIX  2022-12-31        100.2031  0.020937   \n",
       "2023-07-31    5  100   2.75   FIX  2023-07-31         99.5469  0.028479   \n",
       "2023-12-31    5  100  2.625   FIX  2023-12-31        100.5391  0.025096   \n",
       "2024-07-31    5  100   1.75   FIX  2024-07-31         99.6563  0.018222   \n",
       "2024-12-31    5  100   1.75   FIX  2024-12-31        100.2734  0.016927   \n",
       "2025-07-31    5  100   0.25   FIX  2025-07-31        100.2031  0.002091   \n",
       "2025-12-31    7  100  2.625   FIX  2025-12-31        100.2500  0.025857   \n",
       "2026-07-31    7  100  1.875   FIX  2026-07-31         99.7813  0.019085   \n",
       "2026-12-31    7  100   1.75   FIX  2026-12-31         99.4375  0.018360   \n",
       "2027-07-31    7  100  0.375   FIX  2027-07-31         99.9140  0.003875   \n",
       "\n",
       "                                                           CF  \\\n",
       "2020-12-29                                            [100.0]   \n",
       "2021-07-31                         [1.75, 1.75, 1.75, 101.75]   \n",
       "2021-12-31                     [1.625, 1.625, 1.625, 101.625]   \n",
       "2022-07-31                     [0.125, 0.125, 0.125, 100.125]   \n",
       "2022-12-31  [2.125, 2.125, 2.125, 2.125, 2.125, 2.125, 2.1...   \n",
       "2023-07-31  [2.75, 2.75, 2.75, 2.75, 2.75, 2.75, 2.75, 2.7...   \n",
       "2023-12-31  [2.625, 2.625, 2.625, 2.625, 2.625, 2.625, 2.6...   \n",
       "2024-07-31  [1.75, 1.75, 1.75, 1.75, 1.75, 1.75, 1.75, 1.7...   \n",
       "2024-12-31  [1.75, 1.75, 1.75, 1.75, 1.75, 1.75, 1.75, 1.7...   \n",
       "2025-07-31  [0.25, 0.25, 0.25, 0.25, 0.25, 0.25, 0.25, 0.2...   \n",
       "2025-12-31  [2.625, 2.625, 2.625, 2.625, 2.625, 2.625, 2.6...   \n",
       "2026-07-31  [1.875, 1.875, 1.875, 1.875, 1.875, 1.875, 1.8...   \n",
       "2026-12-31  [1.75, 1.75, 1.75, 1.75, 1.75, 1.75, 1.75, 1.7...   \n",
       "2027-07-31  [0.375, 0.375, 0.375, 0.375, 0.375, 0.375, 0.3...   \n",
       "\n",
       "            Price on 2020-07-31  YTM implied by 2020-07-31 Price  \n",
       "2020-12-29              99.9559                         0.000882  \n",
       "2021-07-31             101.6094                         0.001389  \n",
       "2021-12-31             102.1016                         0.002208  \n",
       "2022-07-31             100.0313                         0.001093  \n",
       "2022-12-31             104.8281                         0.001883  \n",
       "2023-07-31             107.8438                         0.001295  \n",
       "2023-12-31             108.4609                         0.001980  \n",
       "2024-07-31             106.3203                         0.001641  \n",
       "2024-12-31             106.8828                         0.002124  \n",
       "2025-07-31             100.2031                         0.002091  \n",
       "2025-12-31             112.7344                         0.002895  \n",
       "2026-07-31             109.2891                         0.003111  \n",
       "2026-12-31             108.8984                         0.003635  \n",
       "2027-07-31              99.9140                         0.003875  "
      ]
     },
     "execution_count": 21,
     "metadata": {},
     "output_type": "execute_result"
    }
   ],
   "source": [
    "off_on_df.sort_values('RDL', inplace=True)\n",
    "off_on_df"
   ]
  },
  {
   "cell_type": "code",
   "execution_count": 22,
   "id": "092012d4-d2aa-4b13-8521-b0f554612a50",
   "metadata": {},
   "outputs": [
    {
     "data": {
      "application/vnd.plotly.v1+json": {
       "config": {
        "linkText": "Export to chart-studio.plotly.com",
        "plotlyServerURL": "https://chart-studio.plotly.com",
        "showLink": true
       },
       "data": [
        {
         "line": {
          "color": "rgba(255, 153, 51, 1.0)",
          "dash": "solid",
          "shape": "linear",
          "width": 1.3
         },
         "mode": "lines",
         "name": "YTM implied by 2020-07-31 Price",
         "text": "",
         "type": "scatter",
         "x": [
          "2020-12-29",
          "2021-07-31",
          "2021-12-31",
          "2022-07-31",
          "2022-12-31",
          "2023-07-31",
          "2023-12-31",
          "2024-07-31",
          "2024-12-31",
          "2025-07-31",
          "2025-12-31",
          "2026-07-31",
          "2026-12-31",
          "2027-07-31"
         ],
         "y": [
          0.0008823891336079769,
          0.001389229366311189,
          0.0022083810604940305,
          0.0010932860674747608,
          0.0018830173997592785,
          0.0012947271629833368,
          0.001980168093318993,
          0.0016408588839921948,
          0.00212357326795576,
          0.0020914600723433274,
          0.002894974696474765,
          0.0031111786372270364,
          0.0036353360365390546,
          0.00387464973505216
         ]
        }
       ],
       "layout": {
        "autosize": true,
        "legend": {
         "bgcolor": "#F5F6F9",
         "font": {
          "color": "#4D5663"
         }
        },
        "paper_bgcolor": "#F5F6F9",
        "plot_bgcolor": "#F5F6F9",
        "template": {
         "data": {
          "bar": [
           {
            "error_x": {
             "color": "#2a3f5f"
            },
            "error_y": {
             "color": "#2a3f5f"
            },
            "marker": {
             "line": {
              "color": "#E5ECF6",
              "width": 0.5
             }
            },
            "type": "bar"
           }
          ],
          "barpolar": [
           {
            "marker": {
             "line": {
              "color": "#E5ECF6",
              "width": 0.5
             }
            },
            "type": "barpolar"
           }
          ],
          "carpet": [
           {
            "aaxis": {
             "endlinecolor": "#2a3f5f",
             "gridcolor": "white",
             "linecolor": "white",
             "minorgridcolor": "white",
             "startlinecolor": "#2a3f5f"
            },
            "baxis": {
             "endlinecolor": "#2a3f5f",
             "gridcolor": "white",
             "linecolor": "white",
             "minorgridcolor": "white",
             "startlinecolor": "#2a3f5f"
            },
            "type": "carpet"
           }
          ],
          "choropleth": [
           {
            "colorbar": {
             "outlinewidth": 0,
             "ticks": ""
            },
            "type": "choropleth"
           }
          ],
          "contour": [
           {
            "colorbar": {
             "outlinewidth": 0,
             "ticks": ""
            },
            "colorscale": [
             [
              0,
              "#0d0887"
             ],
             [
              0.1111111111111111,
              "#46039f"
             ],
             [
              0.2222222222222222,
              "#7201a8"
             ],
             [
              0.3333333333333333,
              "#9c179e"
             ],
             [
              0.4444444444444444,
              "#bd3786"
             ],
             [
              0.5555555555555556,
              "#d8576b"
             ],
             [
              0.6666666666666666,
              "#ed7953"
             ],
             [
              0.7777777777777778,
              "#fb9f3a"
             ],
             [
              0.8888888888888888,
              "#fdca26"
             ],
             [
              1,
              "#f0f921"
             ]
            ],
            "type": "contour"
           }
          ],
          "contourcarpet": [
           {
            "colorbar": {
             "outlinewidth": 0,
             "ticks": ""
            },
            "type": "contourcarpet"
           }
          ],
          "heatmap": [
           {
            "colorbar": {
             "outlinewidth": 0,
             "ticks": ""
            },
            "colorscale": [
             [
              0,
              "#0d0887"
             ],
             [
              0.1111111111111111,
              "#46039f"
             ],
             [
              0.2222222222222222,
              "#7201a8"
             ],
             [
              0.3333333333333333,
              "#9c179e"
             ],
             [
              0.4444444444444444,
              "#bd3786"
             ],
             [
              0.5555555555555556,
              "#d8576b"
             ],
             [
              0.6666666666666666,
              "#ed7953"
             ],
             [
              0.7777777777777778,
              "#fb9f3a"
             ],
             [
              0.8888888888888888,
              "#fdca26"
             ],
             [
              1,
              "#f0f921"
             ]
            ],
            "type": "heatmap"
           }
          ],
          "heatmapgl": [
           {
            "colorbar": {
             "outlinewidth": 0,
             "ticks": ""
            },
            "colorscale": [
             [
              0,
              "#0d0887"
             ],
             [
              0.1111111111111111,
              "#46039f"
             ],
             [
              0.2222222222222222,
              "#7201a8"
             ],
             [
              0.3333333333333333,
              "#9c179e"
             ],
             [
              0.4444444444444444,
              "#bd3786"
             ],
             [
              0.5555555555555556,
              "#d8576b"
             ],
             [
              0.6666666666666666,
              "#ed7953"
             ],
             [
              0.7777777777777778,
              "#fb9f3a"
             ],
             [
              0.8888888888888888,
              "#fdca26"
             ],
             [
              1,
              "#f0f921"
             ]
            ],
            "type": "heatmapgl"
           }
          ],
          "histogram": [
           {
            "marker": {
             "colorbar": {
              "outlinewidth": 0,
              "ticks": ""
             }
            },
            "type": "histogram"
           }
          ],
          "histogram2d": [
           {
            "colorbar": {
             "outlinewidth": 0,
             "ticks": ""
            },
            "colorscale": [
             [
              0,
              "#0d0887"
             ],
             [
              0.1111111111111111,
              "#46039f"
             ],
             [
              0.2222222222222222,
              "#7201a8"
             ],
             [
              0.3333333333333333,
              "#9c179e"
             ],
             [
              0.4444444444444444,
              "#bd3786"
             ],
             [
              0.5555555555555556,
              "#d8576b"
             ],
             [
              0.6666666666666666,
              "#ed7953"
             ],
             [
              0.7777777777777778,
              "#fb9f3a"
             ],
             [
              0.8888888888888888,
              "#fdca26"
             ],
             [
              1,
              "#f0f921"
             ]
            ],
            "type": "histogram2d"
           }
          ],
          "histogram2dcontour": [
           {
            "colorbar": {
             "outlinewidth": 0,
             "ticks": ""
            },
            "colorscale": [
             [
              0,
              "#0d0887"
             ],
             [
              0.1111111111111111,
              "#46039f"
             ],
             [
              0.2222222222222222,
              "#7201a8"
             ],
             [
              0.3333333333333333,
              "#9c179e"
             ],
             [
              0.4444444444444444,
              "#bd3786"
             ],
             [
              0.5555555555555556,
              "#d8576b"
             ],
             [
              0.6666666666666666,
              "#ed7953"
             ],
             [
              0.7777777777777778,
              "#fb9f3a"
             ],
             [
              0.8888888888888888,
              "#fdca26"
             ],
             [
              1,
              "#f0f921"
             ]
            ],
            "type": "histogram2dcontour"
           }
          ],
          "mesh3d": [
           {
            "colorbar": {
             "outlinewidth": 0,
             "ticks": ""
            },
            "type": "mesh3d"
           }
          ],
          "parcoords": [
           {
            "line": {
             "colorbar": {
              "outlinewidth": 0,
              "ticks": ""
             }
            },
            "type": "parcoords"
           }
          ],
          "pie": [
           {
            "automargin": true,
            "type": "pie"
           }
          ],
          "scatter": [
           {
            "marker": {
             "colorbar": {
              "outlinewidth": 0,
              "ticks": ""
             }
            },
            "type": "scatter"
           }
          ],
          "scatter3d": [
           {
            "line": {
             "colorbar": {
              "outlinewidth": 0,
              "ticks": ""
             }
            },
            "marker": {
             "colorbar": {
              "outlinewidth": 0,
              "ticks": ""
             }
            },
            "type": "scatter3d"
           }
          ],
          "scattercarpet": [
           {
            "marker": {
             "colorbar": {
              "outlinewidth": 0,
              "ticks": ""
             }
            },
            "type": "scattercarpet"
           }
          ],
          "scattergeo": [
           {
            "marker": {
             "colorbar": {
              "outlinewidth": 0,
              "ticks": ""
             }
            },
            "type": "scattergeo"
           }
          ],
          "scattergl": [
           {
            "marker": {
             "colorbar": {
              "outlinewidth": 0,
              "ticks": ""
             }
            },
            "type": "scattergl"
           }
          ],
          "scattermapbox": [
           {
            "marker": {
             "colorbar": {
              "outlinewidth": 0,
              "ticks": ""
             }
            },
            "type": "scattermapbox"
           }
          ],
          "scatterpolar": [
           {
            "marker": {
             "colorbar": {
              "outlinewidth": 0,
              "ticks": ""
             }
            },
            "type": "scatterpolar"
           }
          ],
          "scatterpolargl": [
           {
            "marker": {
             "colorbar": {
              "outlinewidth": 0,
              "ticks": ""
             }
            },
            "type": "scatterpolargl"
           }
          ],
          "scatterternary": [
           {
            "marker": {
             "colorbar": {
              "outlinewidth": 0,
              "ticks": ""
             }
            },
            "type": "scatterternary"
           }
          ],
          "surface": [
           {
            "colorbar": {
             "outlinewidth": 0,
             "ticks": ""
            },
            "colorscale": [
             [
              0,
              "#0d0887"
             ],
             [
              0.1111111111111111,
              "#46039f"
             ],
             [
              0.2222222222222222,
              "#7201a8"
             ],
             [
              0.3333333333333333,
              "#9c179e"
             ],
             [
              0.4444444444444444,
              "#bd3786"
             ],
             [
              0.5555555555555556,
              "#d8576b"
             ],
             [
              0.6666666666666666,
              "#ed7953"
             ],
             [
              0.7777777777777778,
              "#fb9f3a"
             ],
             [
              0.8888888888888888,
              "#fdca26"
             ],
             [
              1,
              "#f0f921"
             ]
            ],
            "type": "surface"
           }
          ],
          "table": [
           {
            "cells": {
             "fill": {
              "color": "#EBF0F8"
             },
             "line": {
              "color": "white"
             }
            },
            "header": {
             "fill": {
              "color": "#C8D4E3"
             },
             "line": {
              "color": "white"
             }
            },
            "type": "table"
           }
          ]
         },
         "layout": {
          "annotationdefaults": {
           "arrowcolor": "#2a3f5f",
           "arrowhead": 0,
           "arrowwidth": 1
          },
          "autotypenumbers": "strict",
          "coloraxis": {
           "colorbar": {
            "outlinewidth": 0,
            "ticks": ""
           }
          },
          "colorscale": {
           "diverging": [
            [
             0,
             "#8e0152"
            ],
            [
             0.1,
             "#c51b7d"
            ],
            [
             0.2,
             "#de77ae"
            ],
            [
             0.3,
             "#f1b6da"
            ],
            [
             0.4,
             "#fde0ef"
            ],
            [
             0.5,
             "#f7f7f7"
            ],
            [
             0.6,
             "#e6f5d0"
            ],
            [
             0.7,
             "#b8e186"
            ],
            [
             0.8,
             "#7fbc41"
            ],
            [
             0.9,
             "#4d9221"
            ],
            [
             1,
             "#276419"
            ]
           ],
           "sequential": [
            [
             0,
             "#0d0887"
            ],
            [
             0.1111111111111111,
             "#46039f"
            ],
            [
             0.2222222222222222,
             "#7201a8"
            ],
            [
             0.3333333333333333,
             "#9c179e"
            ],
            [
             0.4444444444444444,
             "#bd3786"
            ],
            [
             0.5555555555555556,
             "#d8576b"
            ],
            [
             0.6666666666666666,
             "#ed7953"
            ],
            [
             0.7777777777777778,
             "#fb9f3a"
            ],
            [
             0.8888888888888888,
             "#fdca26"
            ],
            [
             1,
             "#f0f921"
            ]
           ],
           "sequentialminus": [
            [
             0,
             "#0d0887"
            ],
            [
             0.1111111111111111,
             "#46039f"
            ],
            [
             0.2222222222222222,
             "#7201a8"
            ],
            [
             0.3333333333333333,
             "#9c179e"
            ],
            [
             0.4444444444444444,
             "#bd3786"
            ],
            [
             0.5555555555555556,
             "#d8576b"
            ],
            [
             0.6666666666666666,
             "#ed7953"
            ],
            [
             0.7777777777777778,
             "#fb9f3a"
            ],
            [
             0.8888888888888888,
             "#fdca26"
            ],
            [
             1,
             "#f0f921"
            ]
           ]
          },
          "colorway": [
           "#636efa",
           "#EF553B",
           "#00cc96",
           "#ab63fa",
           "#FFA15A",
           "#19d3f3",
           "#FF6692",
           "#B6E880",
           "#FF97FF",
           "#FECB52"
          ],
          "font": {
           "color": "#2a3f5f"
          },
          "geo": {
           "bgcolor": "white",
           "lakecolor": "white",
           "landcolor": "#E5ECF6",
           "showlakes": true,
           "showland": true,
           "subunitcolor": "white"
          },
          "hoverlabel": {
           "align": "left"
          },
          "hovermode": "closest",
          "mapbox": {
           "style": "light"
          },
          "paper_bgcolor": "white",
          "plot_bgcolor": "#E5ECF6",
          "polar": {
           "angularaxis": {
            "gridcolor": "white",
            "linecolor": "white",
            "ticks": ""
           },
           "bgcolor": "#E5ECF6",
           "radialaxis": {
            "gridcolor": "white",
            "linecolor": "white",
            "ticks": ""
           }
          },
          "scene": {
           "xaxis": {
            "backgroundcolor": "#E5ECF6",
            "gridcolor": "white",
            "gridwidth": 2,
            "linecolor": "white",
            "showbackground": true,
            "ticks": "",
            "zerolinecolor": "white"
           },
           "yaxis": {
            "backgroundcolor": "#E5ECF6",
            "gridcolor": "white",
            "gridwidth": 2,
            "linecolor": "white",
            "showbackground": true,
            "ticks": "",
            "zerolinecolor": "white"
           },
           "zaxis": {
            "backgroundcolor": "#E5ECF6",
            "gridcolor": "white",
            "gridwidth": 2,
            "linecolor": "white",
            "showbackground": true,
            "ticks": "",
            "zerolinecolor": "white"
           }
          },
          "shapedefaults": {
           "line": {
            "color": "#2a3f5f"
           }
          },
          "ternary": {
           "aaxis": {
            "gridcolor": "white",
            "linecolor": "white",
            "ticks": ""
           },
           "baxis": {
            "gridcolor": "white",
            "linecolor": "white",
            "ticks": ""
           },
           "bgcolor": "#E5ECF6",
           "caxis": {
            "gridcolor": "white",
            "linecolor": "white",
            "ticks": ""
           }
          },
          "title": {
           "x": 0.05
          },
          "xaxis": {
           "automargin": true,
           "gridcolor": "white",
           "linecolor": "white",
           "ticks": "",
           "title": {
            "standoff": 15
           },
           "zerolinecolor": "white",
           "zerolinewidth": 2
          },
          "yaxis": {
           "automargin": true,
           "gridcolor": "white",
           "linecolor": "white",
           "ticks": "",
           "title": {
            "standoff": 15
           },
           "zerolinecolor": "white",
           "zerolinewidth": 2
          }
         }
        },
        "title": {
         "font": {
          "color": "#4D5663"
         },
         "text": "Yield To Maturity of US Treasury Bonds with different issue dates fixed and different Coupon rates"
        },
        "xaxis": {
         "autorange": true,
         "gridcolor": "#E1E5ED",
         "range": [
          "2020-12-29",
          "2027-07-31"
         ],
         "showgrid": true,
         "tickfont": {
          "color": "#4D5663"
         },
         "title": {
          "font": {
           "color": "#4D5663"
          },
          "text": ""
         },
         "type": "date",
         "zerolinecolor": "#E1E5ED"
        },
        "yaxis": {
         "autorange": true,
         "gridcolor": "#E1E5ED",
         "range": [
          0.0007161524335277446,
          0.004040886435132392
         ],
         "showgrid": true,
         "tickfont": {
          "color": "#4D5663"
         },
         "title": {
          "font": {
           "color": "#4D5663"
          },
          "text": ""
         },
         "type": "linear",
         "zerolinecolor": "#E1E5ED"
        }
       }
      },
      "image/png": "[encoded data removed]",
      "text/html": [
       "<div>                            <div id=\"13e7d892-0a80-4a05-8197-ce1aed5be821\" class=\"plotly-graph-div\" style=\"height:525px; width:100%;\"></div>            <script type=\"text/javascript\">                require([\"plotly\"], function(Plotly) {                    window.PLOTLYENV=window.PLOTLYENV || {};\n",
       "                    window.PLOTLYENV.BASE_URL='https://chart-studio.plotly.com';                                    if (document.getElementById(\"13e7d892-0a80-4a05-8197-ce1aed5be821\")) {                    Plotly.newPlot(                        \"13e7d892-0a80-4a05-8197-ce1aed5be821\",                        [{\"line\": {\"color\": \"rgba(255, 153, 51, 1.0)\", \"dash\": \"solid\", \"shape\": \"linear\", \"width\": 1.3}, \"mode\": \"lines\", \"name\": \"YTM implied by 2020-07-31 Price\", \"text\": \"\", \"type\": \"scatter\", \"x\": [\"2020-12-29\", \"2021-07-31\", \"2021-12-31\", \"2022-07-31\", \"2022-12-31\", \"2023-07-31\", \"2023-12-31\", \"2024-07-31\", \"2024-12-31\", \"2025-07-31\", \"2025-12-31\", \"2026-07-31\", \"2026-12-31\", \"2027-07-31\"], \"y\": [0.0008823891336079769, 0.001389229366311189, 0.0022083810604940305, 0.0010932860674747608, 0.0018830173997592785, 0.0012947271629833368, 0.001980168093318993, 0.0016408588839921948, 0.00212357326795576, 0.0020914600723433274, 0.002894974696474765, 0.0031111786372270364, 0.0036353360365390546, 0.00387464973505216]}],                        {\"legend\": {\"bgcolor\": \"#F5F6F9\", \"font\": {\"color\": \"#4D5663\"}}, \"paper_bgcolor\": \"#F5F6F9\", \"plot_bgcolor\": \"#F5F6F9\", \"template\": {\"data\": {\"bar\": [{\"error_x\": {\"color\": \"#2a3f5f\"}, \"error_y\": {\"color\": \"#2a3f5f\"}, \"marker\": {\"line\": {\"color\": \"#E5ECF6\", \"width\": 0.5}}, \"type\": \"bar\"}], \"barpolar\": [{\"marker\": {\"line\": {\"color\": \"#E5ECF6\", \"width\": 0.5}}, \"type\": \"barpolar\"}], \"carpet\": [{\"aaxis\": {\"endlinecolor\": \"#2a3f5f\", \"gridcolor\": \"white\", \"linecolor\": \"white\", \"minorgridcolor\": \"white\", \"startlinecolor\": \"#2a3f5f\"}, \"baxis\": {\"endlinecolor\": \"#2a3f5f\", \"gridcolor\": \"white\", \"linecolor\": \"white\", \"minorgridcolor\": \"white\", \"startlinecolor\": \"#2a3f5f\"}, \"type\": \"carpet\"}], \"choropleth\": [{\"colorbar\": {\"outlinewidth\": 0, \"ticks\": \"\"}, \"type\": \"choropleth\"}], \"contour\": [{\"colorbar\": {\"outlinewidth\": 0, \"ticks\": \"\"}, \"colorscale\": [[0.0, \"#0d0887\"], [0.1111111111111111, \"#46039f\"], [0.2222222222222222, \"#7201a8\"], [0.3333333333333333, \"#9c179e\"], [0.4444444444444444, \"#bd3786\"], [0.5555555555555556, \"#d8576b\"], [0.6666666666666666, \"#ed7953\"], [0.7777777777777778, \"#fb9f3a\"], [0.8888888888888888, \"#fdca26\"], [1.0, \"#f0f921\"]], \"type\": \"contour\"}], \"contourcarpet\": [{\"colorbar\": {\"outlinewidth\": 0, \"ticks\": \"\"}, \"type\": \"contourcarpet\"}], \"heatmap\": [{\"colorbar\": {\"outlinewidth\": 0, \"ticks\": \"\"}, \"colorscale\": [[0.0, \"#0d0887\"], [0.1111111111111111, \"#46039f\"], [0.2222222222222222, \"#7201a8\"], [0.3333333333333333, \"#9c179e\"], [0.4444444444444444, \"#bd3786\"], [0.5555555555555556, \"#d8576b\"], [0.6666666666666666, \"#ed7953\"], [0.7777777777777778, \"#fb9f3a\"], [0.8888888888888888, \"#fdca26\"], [1.0, \"#f0f921\"]], \"type\": \"heatmap\"}], \"heatmapgl\": [{\"colorbar\": {\"outlinewidth\": 0, \"ticks\": \"\"}, \"colorscale\": [[0.0, \"#0d0887\"], [0.1111111111111111, \"#46039f\"], [0.2222222222222222, \"#7201a8\"], [0.3333333333333333, \"#9c179e\"], [0.4444444444444444, \"#bd3786\"], [0.5555555555555556, \"#d8576b\"], [0.6666666666666666, \"#ed7953\"], [0.7777777777777778, \"#fb9f3a\"], [0.8888888888888888, \"#fdca26\"], [1.0, \"#f0f921\"]], \"type\": \"heatmapgl\"}], \"histogram\": [{\"marker\": {\"colorbar\": {\"outlinewidth\": 0, \"ticks\": \"\"}}, \"type\": \"histogram\"}], \"histogram2d\": [{\"colorbar\": {\"outlinewidth\": 0, \"ticks\": \"\"}, \"colorscale\": [[0.0, \"#0d0887\"], [0.1111111111111111, \"#46039f\"], [0.2222222222222222, \"#7201a8\"], [0.3333333333333333, \"#9c179e\"], [0.4444444444444444, \"#bd3786\"], [0.5555555555555556, \"#d8576b\"], [0.6666666666666666, \"#ed7953\"], [0.7777777777777778, \"#fb9f3a\"], [0.8888888888888888, \"#fdca26\"], [1.0, \"#f0f921\"]], \"type\": \"histogram2d\"}], \"histogram2dcontour\": [{\"colorbar\": {\"outlinewidth\": 0, \"ticks\": \"\"}, \"colorscale\": [[0.0, \"#0d0887\"], [0.1111111111111111, \"#46039f\"], [0.2222222222222222, \"#7201a8\"], [0.3333333333333333, \"#9c179e\"], [0.4444444444444444, \"#bd3786\"], [0.5555555555555556, \"#d8576b\"], [0.6666666666666666, \"#ed7953\"], [0.7777777777777778, \"#fb9f3a\"], [0.8888888888888888, \"#fdca26\"], [1.0, \"#f0f921\"]], \"type\": \"histogram2dcontour\"}], \"mesh3d\": [{\"colorbar\": {\"outlinewidth\": 0, \"ticks\": \"\"}, \"type\": \"mesh3d\"}], \"parcoords\": [{\"line\": {\"colorbar\": {\"outlinewidth\": 0, \"ticks\": \"\"}}, \"type\": \"parcoords\"}], \"pie\": [{\"automargin\": true, \"type\": \"pie\"}], \"scatter\": [{\"marker\": {\"colorbar\": {\"outlinewidth\": 0, \"ticks\": \"\"}}, \"type\": \"scatter\"}], \"scatter3d\": [{\"line\": {\"colorbar\": {\"outlinewidth\": 0, \"ticks\": \"\"}}, \"marker\": {\"colorbar\": {\"outlinewidth\": 0, \"ticks\": \"\"}}, \"type\": \"scatter3d\"}], \"scattercarpet\": [{\"marker\": {\"colorbar\": {\"outlinewidth\": 0, \"ticks\": \"\"}}, \"type\": \"scattercarpet\"}], \"scattergeo\": [{\"marker\": {\"colorbar\": {\"outlinewidth\": 0, \"ticks\": \"\"}}, \"type\": \"scattergeo\"}], \"scattergl\": [{\"marker\": {\"colorbar\": {\"outlinewidth\": 0, \"ticks\": \"\"}}, \"type\": \"scattergl\"}], \"scattermapbox\": [{\"marker\": {\"colorbar\": {\"outlinewidth\": 0, \"ticks\": \"\"}}, \"type\": \"scattermapbox\"}], \"scatterpolar\": [{\"marker\": {\"colorbar\": {\"outlinewidth\": 0, \"ticks\": \"\"}}, \"type\": \"scatterpolar\"}], \"scatterpolargl\": [{\"marker\": {\"colorbar\": {\"outlinewidth\": 0, \"ticks\": \"\"}}, \"type\": \"scatterpolargl\"}], \"scatterternary\": [{\"marker\": {\"colorbar\": {\"outlinewidth\": 0, \"ticks\": \"\"}}, \"type\": \"scatterternary\"}], \"surface\": [{\"colorbar\": {\"outlinewidth\": 0, \"ticks\": \"\"}, \"colorscale\": [[0.0, \"#0d0887\"], [0.1111111111111111, \"#46039f\"], [0.2222222222222222, \"#7201a8\"], [0.3333333333333333, \"#9c179e\"], [0.4444444444444444, \"#bd3786\"], [0.5555555555555556, \"#d8576b\"], [0.6666666666666666, \"#ed7953\"], [0.7777777777777778, \"#fb9f3a\"], [0.8888888888888888, \"#fdca26\"], [1.0, \"#f0f921\"]], \"type\": \"surface\"}], \"table\": [{\"cells\": {\"fill\": {\"color\": \"#EBF0F8\"}, \"line\": {\"color\": \"white\"}}, \"header\": {\"fill\": {\"color\": \"#C8D4E3\"}, \"line\": {\"color\": \"white\"}}, \"type\": \"table\"}]}, \"layout\": {\"annotationdefaults\": {\"arrowcolor\": \"#2a3f5f\", \"arrowhead\": 0, \"arrowwidth\": 1}, \"autotypenumbers\": \"strict\", \"coloraxis\": {\"colorbar\": {\"outlinewidth\": 0, \"ticks\": \"\"}}, \"colorscale\": {\"diverging\": [[0, \"#8e0152\"], [0.1, \"#c51b7d\"], [0.2, \"#de77ae\"], [0.3, \"#f1b6da\"], [0.4, \"#fde0ef\"], [0.5, \"#f7f7f7\"], [0.6, \"#e6f5d0\"], [0.7, \"#b8e186\"], [0.8, \"#7fbc41\"], [0.9, \"#4d9221\"], [1, \"#276419\"]], \"sequential\": [[0.0, \"#0d0887\"], [0.1111111111111111, \"#46039f\"], [0.2222222222222222, \"#7201a8\"], [0.3333333333333333, \"#9c179e\"], [0.4444444444444444, \"#bd3786\"], [0.5555555555555556, \"#d8576b\"], [0.6666666666666666, \"#ed7953\"], [0.7777777777777778, \"#fb9f3a\"], [0.8888888888888888, \"#fdca26\"], [1.0, \"#f0f921\"]], \"sequentialminus\": [[0.0, \"#0d0887\"], [0.1111111111111111, \"#46039f\"], [0.2222222222222222, \"#7201a8\"], [0.3333333333333333, \"#9c179e\"], [0.4444444444444444, \"#bd3786\"], [0.5555555555555556, \"#d8576b\"], [0.6666666666666666, \"#ed7953\"], [0.7777777777777778, \"#fb9f3a\"], [0.8888888888888888, \"#fdca26\"], [1.0, \"#f0f921\"]]}, \"colorway\": [\"#636efa\", \"#EF553B\", \"#00cc96\", \"#ab63fa\", \"#FFA15A\", \"#19d3f3\", \"#FF6692\", \"#B6E880\", \"#FF97FF\", \"#FECB52\"], \"font\": {\"color\": \"#2a3f5f\"}, \"geo\": {\"bgcolor\": \"white\", \"lakecolor\": \"white\", \"landcolor\": \"#E5ECF6\", \"showlakes\": true, \"showland\": true, \"subunitcolor\": \"white\"}, \"hoverlabel\": {\"align\": \"left\"}, \"hovermode\": \"closest\", \"mapbox\": {\"style\": \"light\"}, \"paper_bgcolor\": \"white\", \"plot_bgcolor\": \"#E5ECF6\", \"polar\": {\"angularaxis\": {\"gridcolor\": \"white\", \"linecolor\": \"white\", \"ticks\": \"\"}, \"bgcolor\": \"#E5ECF6\", \"radialaxis\": {\"gridcolor\": \"white\", \"linecolor\": \"white\", \"ticks\": \"\"}}, \"scene\": {\"xaxis\": {\"backgroundcolor\": \"#E5ECF6\", \"gridcolor\": \"white\", \"gridwidth\": 2, \"linecolor\": \"white\", \"showbackground\": true, \"ticks\": \"\", \"zerolinecolor\": \"white\"}, \"yaxis\": {\"backgroundcolor\": \"#E5ECF6\", \"gridcolor\": \"white\", \"gridwidth\": 2, \"linecolor\": \"white\", \"showbackground\": true, \"ticks\": \"\", \"zerolinecolor\": \"white\"}, \"zaxis\": {\"backgroundcolor\": \"#E5ECF6\", \"gridcolor\": \"white\", \"gridwidth\": 2, \"linecolor\": \"white\", \"showbackground\": true, \"ticks\": \"\", \"zerolinecolor\": \"white\"}}, \"shapedefaults\": {\"line\": {\"color\": \"#2a3f5f\"}}, \"ternary\": {\"aaxis\": {\"gridcolor\": \"white\", \"linecolor\": \"white\", \"ticks\": \"\"}, \"baxis\": {\"gridcolor\": \"white\", \"linecolor\": \"white\", \"ticks\": \"\"}, \"bgcolor\": \"#E5ECF6\", \"caxis\": {\"gridcolor\": \"white\", \"linecolor\": \"white\", \"ticks\": \"\"}}, \"title\": {\"x\": 0.05}, \"xaxis\": {\"automargin\": true, \"gridcolor\": \"white\", \"linecolor\": \"white\", \"ticks\": \"\", \"title\": {\"standoff\": 15}, \"zerolinecolor\": \"white\", \"zerolinewidth\": 2}, \"yaxis\": {\"automargin\": true, \"gridcolor\": \"white\", \"linecolor\": \"white\", \"ticks\": \"\", \"title\": {\"standoff\": 15}, \"zerolinecolor\": \"white\", \"zerolinewidth\": 2}}}, \"title\": {\"font\": {\"color\": \"#4D5663\"}, \"text\": \"Yield To Maturity of US Treasury Bonds with different issue dates fixed and different Coupon rates\"}, \"xaxis\": {\"gridcolor\": \"#E1E5ED\", \"showgrid\": true, \"tickfont\": {\"color\": \"#4D5663\"}, \"title\": {\"font\": {\"color\": \"#4D5663\"}, \"text\": \"\"}, \"zerolinecolor\": \"#E1E5ED\"}, \"yaxis\": {\"gridcolor\": \"#E1E5ED\", \"showgrid\": true, \"tickfont\": {\"color\": \"#4D5663\"}, \"title\": {\"font\": {\"color\": \"#4D5663\"}, \"text\": \"\"}, \"zerolinecolor\": \"#E1E5ED\"}},                        {\"showLink\": true, \"linkText\": \"Export to chart-studio.plotly.com\", \"plotlyServerURL\": \"https://chart-studio.plotly.com\", \"responsive\": true}                    ).then(function(){\n",
       "                            \n",
       "var gd = document.getElementById('13e7d892-0a80-4a05-8197-ce1aed5be821');\n",
       "var x = new MutationObserver(function (mutations, observer) {{\n",
       "        var display = window.getComputedStyle(gd).display;\n",
       "        if (!display || display === 'none') {{\n",
       "            console.log([gd, 'removed!']);\n",
       "            Plotly.purge(gd);\n",
       "            observer.disconnect();\n",
       "        }}\n",
       "}});\n",
       "\n",
       "// Listen for the removal of the full notebook cells\n",
       "var notebookContainer = gd.closest('#notebook-container');\n",
       "if (notebookContainer) {{\n",
       "    x.observe(notebookContainer, {childList: true});\n",
       "}}\n",
       "\n",
       "// Listen for the clearing of the current output cell\n",
       "var outputEl = gd.closest('.output');\n",
       "if (outputEl) {{\n",
       "    x.observe(outputEl, {childList: true});\n",
       "}}\n",
       "\n",
       "                        })                };                });            </script>        </div>"
      ]
     },
     "metadata": {},
     "output_type": "display_data"
    }
   ],
   "source": [
    "off_on_df[\"YTM implied by 2020-07-31 Price\"].iplot(\n",
    "    title=\"Yield To Maturity of US Treasury Bonds with different issue dates fixed and different Coupon rates\")"
   ]
  },
  {
   "cell_type": "markdown",
   "id": "c144512d-c36e-4ab5-9ef1-24f2263bd2cf",
   "metadata": {},
   "source": [
    "This vertical zig-zaging is an unexpected pattern. The reason for which it is unexpected is that an economic agent ought to be able to exploit [arbitrage](https://www.investopedia.com/terms/a/arbitrage.asp) opportunities brought up by such price discrapencies with other securities (*e.g.*: [Swaps](https://www.investopedia.com/articles/optioninvestor/07/swaps.asp)). Let's thus verify if the YTM proposed by our graph above are correct:"
   ]
  },
  {
   "cell_type": "code",
   "execution_count": 27,
   "id": "a0dd3c8f-df3b-4875-87a4-0a09202f1ed7",
   "metadata": {},
   "outputs": [
    {
     "name": "stdout",
     "output_type": "stream",
     "text": [
      "Years left to Maturity: 0.5, YTM from function: 0.0008823891336079769, err from function: 0.0, check: 0.0.\n",
      "Years left to Maturity: 1.0, YTM from function: 0.001389229366311189, err from function: -1.3322676295501878e-14, check: -1.3322676295501878e-14.\n",
      "Years left to Maturity: 1.5, YTM from function: 0.0022083810604940305, err from function: 9.325873406851315e-15, check: 9.325873406851315e-15.\n",
      "Years left to Maturity: 2.0, YTM from function: 0.0010932860674747608, err from function: -4.0084602304091277e-13, check: -4.0084602304091277e-13.\n",
      "Years left to Maturity: 2.5, YTM from function: 0.0018830173997592785, err from function: 2.7533531010703882e-14, check: 2.7533531010703882e-14.\n",
      "Years left to Maturity: 3.0, YTM from function: 0.0012947271629833368, err from function: -7.478462293875054e-13, check: -7.478462293875054e-13.\n",
      "Years left to Maturity: 3.5, YTM from function: 0.001980168093318993, err from function: -4.065157099830685e-10, check: -4.065157099830685e-10.\n",
      "Years left to Maturity: 4.0, YTM from function: 0.0016408588839921948, err from function: -8.08242361927114e-14, check: -8.08242361927114e-14.\n",
      "Years left to Maturity: 4.5, YTM from function: 0.00212357326795576, err from function: 1.0111742554386183e-09, check: 1.0111742554386183e-09.\n",
      "Years left to Maturity: 5.0, YTM from function: 0.0020914600723433274, err from function: -2.7351187981139446e-10, check: -2.7351187981139446e-10.\n",
      "Years left to Maturity: 5.5, YTM from function: 0.002894974696474765, err from function: 1.9527490735526953e-11, check: 1.9527490735526953e-11.\n",
      "Years left to Maturity: 6.0, YTM from function: 0.0031111786372270364, err from function: 9.043787940754555e-11, check: 9.043787940754555e-11.\n",
      "Years left to Maturity: 6.5, YTM from function: 0.0036353360365390546, err from function: 1.1191048088221578e-13, check: 1.1191048088221578e-13.\n",
      "Years left to Maturity: 7.0, YTM from function: 0.00387464973505216, err from function: 3.019806626980426e-14, check: 3.019806626980426e-14.\n"
     ]
    }
   ],
   "source": [
    "for i in range(len(off_on_df)):\n",
    "    _fv=off_on_df.iloc[i][\"RV\"]\n",
    "    _c=off_on_df.iloc[i][\"RV\"] * off_on_df.iloc[i][\"C\"] / 100\n",
    "    _f_acf=0.5\n",
    "    _p=off_on_df.iloc[i][\"Price on 2020-07-31\"]\n",
    "    _m=(round(2*((datetime.strptime(off_on_df.iloc[i][\"RDL\"], '%Y-%m-%d') - datetime.strptime(from_date, '%Y-%m-%d')).days)/360)) / 2\n",
    "    _ytm, err = YTM_Solver(fv=_fv, c=_c, m=_m, f_acf=_f_acf, error=True, p=_p)\n",
    "    zero = (_fv/((1+(_f_acf*_ytm))**(_m/_f_acf))) - _p + sum([\n",
    "        (_f_acf * _c)/((1+(_f_acf*_ytm))**i) for i in range(1, int(_m/_f_acf)+1)])\n",
    "    print(f\"Years left to Maturity: {_m}, YTM from function: {_ytm}, err from function: {err}, check: {zero}.\")"
   ]
  },
  {
   "cell_type": "code",
   "execution_count": null,
   "id": "5031c1fa-febd-4702-92ed-49b5d7a62067",
   "metadata": {},
   "outputs": [],
   "source": []
  },
  {
   "cell_type": "code",
   "execution_count": null,
   "id": "2cd25f03-404c-440c-9f1b-39fe7bb72ebb",
   "metadata": {},
   "outputs": [],
   "source": []
  },
  {
   "cell_type": "code",
   "execution_count": null,
   "id": "e619b6d4-b0a3-4e4c-8e3c-24b98c8b7c02",
   "metadata": {},
   "outputs": [],
   "source": []
  },
  {
   "cell_type": "code",
   "execution_count": null,
   "id": "390ad9f1-abff-4e44-be3e-5250392cc2e5",
   "metadata": {},
   "outputs": [],
   "source": []
  },
  {
   "cell_type": "code",
   "execution_count": null,
   "id": "441c6398-d323-4c5a-b1a2-914ef569dbee",
   "metadata": {},
   "outputs": [],
   "source": []
  },
  {
   "cell_type": "code",
   "execution_count": null,
   "id": "a850adb4-2bcd-49bf-8aeb-384beab90bf6",
   "metadata": {},
   "outputs": [],
   "source": [
    "def OMTB_ZCB_2020_01_30(typ, datatype):\n",
    "    return omtb_zcb_2020_01_30[typ][omtb_zcb_2020_01_30[typ]['Datatype'] == datatype]['Value'].values[0]\n",
    "\n",
    "Spot_Rate_Last(f=0.5, fv=100, m=5, c=0.25, p=100.2031, sr=[\n",
    "    YTM_Solver(\n",
    "        fv=OMTB_ZCB_2020_01_30(typ='fixed', datatype='RV'),\n",
    "        m=OMTB_ZCB_2020_01_30(typ='fixed', datatype='TERM'),\n",
    "        f_acf=0.5, error=False, c=0,\n",
    "        p=ytm_df.iloc[i][\"Price at issue\"])])"
   ]
  },
  {
   "cell_type": "code",
   "execution_count": null,
   "id": "43913d1d-32b1-490f-be85-eaab9331036a",
   "metadata": {},
   "outputs": [],
   "source": []
  },
  {
   "cell_type": "code",
   "execution_count": null,
   "id": "c7592f10-d8e4-4cad-9d8b-20d7e75f6600",
   "metadata": {},
   "outputs": [],
   "source": []
  },
  {
   "cell_type": "code",
   "execution_count": null,
   "id": "7f78f5cc-caf9-497f-86df-84d92e7747aa",
   "metadata": {},
   "outputs": [],
   "source": []
  },
  {
   "cell_type": "code",
   "execution_count": null,
   "id": "b63c6ae4-ca7f-44bc-8fe0-e7a82defabd7",
   "metadata": {},
   "outputs": [],
   "source": []
  },
  {
   "cell_type": "code",
   "execution_count": null,
   "id": "fa9ed13b-2c6a-4c87-902e-1667778bb9d8",
   "metadata": {},
   "outputs": [],
   "source": []
  },
  {
   "cell_type": "code",
   "execution_count": null,
   "id": "fd025418-d546-4a8b-813b-fb2b9f0db52a",
   "metadata": {},
   "outputs": [],
   "source": []
  },
  {
   "cell_type": "code",
   "execution_count": null,
   "id": "216d5325-419c-422c-9956-591b0148d31c",
   "metadata": {},
   "outputs": [],
   "source": []
  },
  {
   "cell_type": "code",
   "execution_count": null,
   "id": "d24ee9f1-e87c-47b7-ba9d-7c3abbd28481",
   "metadata": {},
   "outputs": [],
   "source": []
  },
  {
   "cell_type": "code",
   "execution_count": null,
   "id": "8006f7ac-f05b-4405-9a75-462418ac6a06",
   "metadata": {},
   "outputs": [],
   "source": []
  },
  {
   "cell_type": "code",
   "execution_count": null,
   "id": "ad5841ef-7294-48ff-99da-209d0b0e2d1a",
   "metadata": {},
   "outputs": [],
   "source": []
  },
  {
   "cell_type": "code",
   "execution_count": null,
   "id": "61ba52a5-2585-4c1b-adfb-7a7fb204966f",
   "metadata": {},
   "outputs": [],
   "source": []
  },
  {
   "cell_type": "code",
   "execution_count": null,
   "id": "e4ef79b1-9f19-4d34-ac80-87605f664a88",
   "metadata": {},
   "outputs": [],
   "source": []
  },
  {
   "cell_type": "markdown",
   "id": "a9a4ad3d-f267-4db2-8163-a8996d0d4832",
   "metadata": {},
   "source": [
    "##### Using the Python 'Refinitiv Data Platform' Library and its Search Functionality\n",
    "\n",
    "Unfortunitally, there is no way to search for the identifiers per issued Bond as per the Navigator (either like [this](https://product.datastream.com/browse/search.aspx?dsid=ZRQW955&AppGroup=DSAddin&q=30%2F09%2F25+ISIN%3Aand(*91282CA*)&prev=99_31%2F09%2F25+ISIN%3Aand(*91282CA*)&nav_category=13) or like [this](https://product.datastream.com/browse/search.aspx?dsid=ZRQW955&AppGroup=DSAddin&q=US+Treasury+Note+2020+31%2F08%2F25&prev=99_US+Treasury+Note+2020+28%2F08%2F25&nav_category=13)) programatically. This is - however - possible with the [rdp.search](https://developers.refinitiv.com/en/article-catalog/article/building-search-into-your-application-workflow) functionality that can fetch for us the ISIN or RIC of interest simply from the perital search of \"UST 31-Aug-2020\" for example:"
   ]
  },
  {
   "cell_type": "code",
   "execution_count": 182,
   "id": "a70e636f-aa7f-4585-ab1c-5ebe38a96beb",
   "metadata": {},
   "outputs": [],
   "source": [
    "import refinitiv.dataplatform as rdp\n",
    "rdp_key = open(\"eikon.txt\", \"r\")  # The key is placed in a text file so that it may be used in this code without showing it itself:\n",
    "rdp.open_desktop_session(str(rdp_key.read()))\n",
    "rdp_key.close()  # It is best to close the files we opened in order to make sure that we don't stop any other services/programs from accessing them if they need to:"
   ]
  },
  {
   "cell_type": "code",
   "execution_count": 183,
   "id": "26ad97df-82e6-4b96-814c-3c3f5ab162ed",
   "metadata": {},
   "outputs": [],
   "source": [
    "test = rdp.get_search_metadata(view = rdp.SearchViews.GovCorpInstruments)"
   ]
  },
  {
   "cell_type": "code",
   "execution_count": 184,
   "id": "a46960de-a460-46a6-9ef9-4b6ef05edaf4",
   "metadata": {},
   "outputs": [
    {
     "data": {
      "text/html": [
       "<div>\n",
       "<style scoped>\n",
       "    .dataframe tbody tr th:only-of-type {\n",
       "        vertical-align: middle;\n",
       "    }\n",
       "\n",
       "    .dataframe tbody tr th {\n",
       "        vertical-align: top;\n",
       "    }\n",
       "\n",
       "    .dataframe thead th {\n",
       "        text-align: right;\n",
       "    }\n",
       "</style>\n",
       "<table border=\"1\" class=\"dataframe\">\n",
       "  <thead>\n",
       "    <tr style=\"text-align: right;\">\n",
       "      <th></th>\n",
       "      <th>A</th>\n",
       "    </tr>\n",
       "  </thead>\n",
       "  <tbody>\n",
       "    <tr>\n",
       "      <th>0</th>\n",
       "      <td>AccrualDate</td>\n",
       "    </tr>\n",
       "    <tr>\n",
       "      <th>1</th>\n",
       "      <td>AccruedInterest</td>\n",
       "    </tr>\n",
       "    <tr>\n",
       "      <th>2</th>\n",
       "      <td>ActiveEstimatesExist</td>\n",
       "    </tr>\n",
       "    <tr>\n",
       "      <th>3</th>\n",
       "      <td>AdtLocalCurrencyValue</td>\n",
       "    </tr>\n",
       "    <tr>\n",
       "      <th>4</th>\n",
       "      <td>AdtLocalCurrencyValueName</td>\n",
       "    </tr>\n",
       "    <tr>\n",
       "      <th>...</th>\n",
       "      <td>...</td>\n",
       "    </tr>\n",
       "    <tr>\n",
       "      <th>1120</th>\n",
       "      <td>WorstStandardYield</td>\n",
       "    </tr>\n",
       "    <tr>\n",
       "      <th>1121</th>\n",
       "      <td>WorstYearsToRedem</td>\n",
       "    </tr>\n",
       "    <tr>\n",
       "      <th>1122</th>\n",
       "      <td>YieldCurveBenchmarkRIC</td>\n",
       "    </tr>\n",
       "    <tr>\n",
       "      <th>1123</th>\n",
       "      <td>YieldTypeDescription</td>\n",
       "    </tr>\n",
       "    <tr>\n",
       "      <th>1124</th>\n",
       "      <td>ZCodeValue</td>\n",
       "    </tr>\n",
       "  </tbody>\n",
       "</table>\n",
       "<p>1125 rows × 1 columns</p>\n",
       "</div>"
      ],
      "text/plain": [
       "                              A\n",
       "0                   AccrualDate\n",
       "1               AccruedInterest\n",
       "2          ActiveEstimatesExist\n",
       "3         AdtLocalCurrencyValue\n",
       "4     AdtLocalCurrencyValueName\n",
       "...                         ...\n",
       "1120         WorstStandardYield\n",
       "1121          WorstYearsToRedem\n",
       "1122     YieldCurveBenchmarkRIC\n",
       "1123       YieldTypeDescription\n",
       "1124                 ZCodeValue\n",
       "\n",
       "[1125 rows x 1 columns]"
      ]
     },
     "execution_count": 184,
     "metadata": {},
     "output_type": "execute_result"
    }
   ],
   "source": [
    "test2 = pandas.DataFrame(data=[i[0] for i in test.index],\n",
    "                         columns=[\"A\"])\n",
    "test2"
   ]
  },
  {
   "cell_type": "code",
   "execution_count": 198,
   "id": "74c57d07-c4ab-4956-bd24-40ec4e2cf2bd",
   "metadata": {
    "tags": []
   },
   "outputs": [
    {
     "data": {
      "text/plain": [
       "'AccrualDate, AnnounceDate, AssetStatusEffDate, AuctionDate, BondListingDate, CallRefundingDate, EconometricAverageLifeDate, EconometricPrinEndDate, EconometricPrinStartDate, EconometricRedemDate, FaceOutstandingDate, FactorDate, FirstAnnouncementDate, FirstCouponDate, FitchsRatingDate, GuarantorEffectiveDate, GuarantorEndDate, InsertDateTime, IssueDate, LastChangeDate, LastCouponDate, LatestCallStartDate, LatestPutStartDate, LatestRatingEffectiveDate, MaturityAverageLifeDate, MaturityDate, MaturityPrinEndDate, MaturityPrinStartDate, MaturityRedemDate, MiFIDThresholdEffectiveDate, MiFIDThresholdEndDate, MoodysCreditWatchDate, MoodysRatingDate, NextCallDate, NextPayDate, NextPutDate, NextRateResetDate, NextSinkDate, PricingRedemDate, PricingTradeDate, RankDateTime, RecordDate, RecordDateCode, RecordDateDescription, RecordDateVal, SettleDate, SPCreditWatchDate, SPLatestRatingEffectiveDate, SPRatingDate, TradeDate, UnderwriterEffectiveDate, UnderwriterSetupDate, WorstAverageLifeDate, WorstPrinEndDate, WorstPrinStartDate, WorstRedemDate'"
      ]
     },
     "execution_count": 198,
     "metadata": {},
     "output_type": "execute_result"
    }
   ],
   "source": [
    "', '.join([str(elem) for elem in [i for i in test2[test2['A'].str.contains(\"Date\")][\"A\"].map(str)]])"
   ]
  },
  {
   "cell_type": "code",
   "execution_count": 199,
   "id": "70827300-78af-4509-a828-05b9fd3f1ee5",
   "metadata": {},
   "outputs": [],
   "source": [
    "# Determine the organization ID using Search.\n",
    "tese_search = rdp.search(\n",
    "    view=rdp.SearchViews.GovCorpInstruments, top=5,\n",
    "    query=\"United States of America (Government) - UST 08/31/25\",  # also tried ' United States 31-Aug-2020 ' and ' United States of America (Government) Plain Vanilla Fixed Coupon Bond TRACE Eligible GOVT 31-Jul-2025 '.\n",
    "    filter = \"MaturityCorpOTRPoint eq 'TSY5Y'\",\n",
    "    select=str(\"IssueDate, AssetStatusEffDate, AccrualDate, MaturityPrinStartDate, MaturityRedemDate, \" +\n",
    "#                \"MaturityCorpConvexity, MaturityCorpOTRSpread, \" +\n",
    "#                \"MaturityCorpOTRTerm, MaturityStandardOTRTerm, \" +\n",
    "#                \"MaturityDiscountRate, DebtTypeDescription, \" +\n",
    "#                \"MaturityRedemPrice, IssuerName, DocumentTitle, RIC, \" +\n",
    "               \"BusinessEntity, CouponRate, ISIN, IssuerTicker, \" +\n",
    "#                \"DebtTypeDescription, MaturityCorpYield, \" +\n",
    "#                \"OriginalYieldMaturity, MaturityStandardOTRSpread, \" +\n",
    "               \"MaturityCorpOTRPoint\"))  # Found all these via ' rdp.get_search_metadata(view = rdp.SearchViews.GovCorpInstruments) '"
   ]
  },
  {
   "cell_type": "code",
   "execution_count": 200,
   "id": "4ac92cf5-b18d-4af3-bb91-ee4f608dfc45",
   "metadata": {},
   "outputs": [
    {
     "data": {
      "text/html": [
       "<div>\n",
       "<style scoped>\n",
       "    .dataframe tbody tr th:only-of-type {\n",
       "        vertical-align: middle;\n",
       "    }\n",
       "\n",
       "    .dataframe tbody tr th {\n",
       "        vertical-align: top;\n",
       "    }\n",
       "\n",
       "    .dataframe thead th {\n",
       "        text-align: right;\n",
       "    }\n",
       "</style>\n",
       "<table border=\"1\" class=\"dataframe\">\n",
       "  <thead>\n",
       "    <tr style=\"text-align: right;\">\n",
       "      <th></th>\n",
       "      <th>RecordDate</th>\n",
       "      <th>FirstAnnouncementDate</th>\n",
       "      <th>FitchsRatingDate</th>\n",
       "      <th>LastChangeDate</th>\n",
       "      <th>PricingTradeDate</th>\n",
       "      <th>RecordDateCode</th>\n",
       "      <th>TradeDate</th>\n",
       "      <th>FirstCouponDate</th>\n",
       "      <th>RecordDateDescription</th>\n",
       "      <th>AssetStatusEffDate</th>\n",
       "      <th>FaceOutstandingDate</th>\n",
       "      <th>MaturityPrinStartDate</th>\n",
       "      <th>WorstAverageLifeDate</th>\n",
       "      <th>AnnounceDate</th>\n",
       "      <th>MiFIDThresholdEffectiveDate</th>\n",
       "      <th>AuctionDate</th>\n",
       "      <th>AccrualDate</th>\n",
       "      <th>MoodysRatingDate</th>\n",
       "      <th>SPRatingDate</th>\n",
       "      <th>WorstPrinStartDate</th>\n",
       "      <th>SettleDate</th>\n",
       "      <th>BondListingDate</th>\n",
       "      <th>RecordDateVal</th>\n",
       "      <th>IssueDate</th>\n",
       "      <th>MiFIDThresholdEndDate</th>\n",
       "      <th>InsertDateTime</th>\n",
       "      <th>MaturityRedemDate</th>\n",
       "      <th>LastCouponDate</th>\n",
       "      <th>PricingRedemDate</th>\n",
       "      <th>WorstRedemDate</th>\n",
       "      <th>MaturityPrinEndDate</th>\n",
       "      <th>WorstPrinEndDate</th>\n",
       "      <th>MaturityAverageLifeDate</th>\n",
       "      <th>NextPayDate</th>\n",
       "      <th>LatestRatingEffectiveDate</th>\n",
       "      <th>MaturityDate</th>\n",
       "    </tr>\n",
       "  </thead>\n",
       "  <tbody>\n",
       "    <tr>\n",
       "      <th>0</th>\n",
       "      <td>4th Business Day(s) Prior to Payment Date</td>\n",
       "      <td>2018-08-23T00:00:00.000Z</td>\n",
       "      <td>2018-08-31T00:00:00.000Z</td>\n",
       "      <td>2021-07-01T00:00:00.000Z</td>\n",
       "      <td>2021-07-07T00:00:00.000Z</td>\n",
       "      <td>BDP</td>\n",
       "      <td>2021-07-07T00:00:00.000Z</td>\n",
       "      <td>2019-02-28T00:00:00.000Z</td>\n",
       "      <td>Nth Business Day(s) Prior to Payment Date</td>\n",
       "      <td>2018-08-31T00:00:00.000Z</td>\n",
       "      <td>2018-09-30T00:00:00.000Z</td>\n",
       "      <td>2025-09-02T00:00:00.000Z</td>\n",
       "      <td>2025-09-02T00:00:00.000Z</td>\n",
       "      <td>2018-08-23T00:00:00.000Z</td>\n",
       "      <td>&lt;NA&gt;</td>\n",
       "      <td>2018-08-29T00:00:00.000Z</td>\n",
       "      <td>2018-08-31T00:00:00.000Z</td>\n",
       "      <td>2020-06-19T00:00:00.000Z</td>\n",
       "      <td>2018-08-31T00:00:00.000Z</td>\n",
       "      <td>2025-09-02T00:00:00.000Z</td>\n",
       "      <td>2021-07-08T00:00:00.000Z</td>\n",
       "      <td>2018-08-23T00:00:00.000Z</td>\n",
       "      <td>4</td>\n",
       "      <td>2018-08-31T00:00:00.000Z</td>\n",
       "      <td>&lt;NA&gt;</td>\n",
       "      <td>2021-05-30T23:41:48.000Z</td>\n",
       "      <td>2025-09-02T00:00:00.000Z</td>\n",
       "      <td>2025-02-28T00:00:00.000Z</td>\n",
       "      <td>2025-09-02T00:00:00.000Z</td>\n",
       "      <td>2025-09-02T00:00:00.000Z</td>\n",
       "      <td>2025-09-02T00:00:00.000Z</td>\n",
       "      <td>2025-09-02T00:00:00.000Z</td>\n",
       "      <td>2025-09-02T00:00:00.000Z</td>\n",
       "      <td>2021-08-31T00:00:00.000Z</td>\n",
       "      <td>1970-01-01T05:36:50.000Z</td>\n",
       "      <td>2025-08-31T00:00:00.000Z</td>\n",
       "    </tr>\n",
       "    <tr>\n",
       "      <th>1</th>\n",
       "      <td>4th Business Day(s) Prior to Payment Date</td>\n",
       "      <td>2020-08-20T00:00:00.000Z</td>\n",
       "      <td>2020-09-14T00:00:00.000Z</td>\n",
       "      <td>2021-07-06T00:00:00.000Z</td>\n",
       "      <td>2021-07-07T00:00:00.000Z</td>\n",
       "      <td>BDP</td>\n",
       "      <td>2021-07-07T00:00:00.000Z</td>\n",
       "      <td>2021-02-28T00:00:00.000Z</td>\n",
       "      <td>Nth Business Day(s) Prior to Payment Date</td>\n",
       "      <td>2020-08-31T00:00:00.000Z</td>\n",
       "      <td>2020-09-30T00:00:00.000Z</td>\n",
       "      <td>2025-09-02T00:00:00.000Z</td>\n",
       "      <td>2025-09-02T00:00:00.000Z</td>\n",
       "      <td>2020-08-20T00:00:00.000Z</td>\n",
       "      <td>&lt;NA&gt;</td>\n",
       "      <td>2020-08-26T00:00:00.000Z</td>\n",
       "      <td>2020-08-31T00:00:00.000Z</td>\n",
       "      <td>2020-08-27T00:00:00.000Z</td>\n",
       "      <td>2020-08-31T00:00:00.000Z</td>\n",
       "      <td>2025-09-02T00:00:00.000Z</td>\n",
       "      <td>2021-07-08T00:00:00.000Z</td>\n",
       "      <td>2020-08-20T00:00:00.000Z</td>\n",
       "      <td>4</td>\n",
       "      <td>2020-08-31T00:00:00.000Z</td>\n",
       "      <td>&lt;NA&gt;</td>\n",
       "      <td>2021-05-30T16:16:19.000Z</td>\n",
       "      <td>2025-09-02T00:00:00.000Z</td>\n",
       "      <td>2025-02-28T00:00:00.000Z</td>\n",
       "      <td>2025-09-02T00:00:00.000Z</td>\n",
       "      <td>2025-09-02T00:00:00.000Z</td>\n",
       "      <td>2025-09-02T00:00:00.000Z</td>\n",
       "      <td>2025-09-02T00:00:00.000Z</td>\n",
       "      <td>2025-09-02T00:00:00.000Z</td>\n",
       "      <td>2021-08-31T00:00:00.000Z</td>\n",
       "      <td>1970-01-01T05:36:40.000Z</td>\n",
       "      <td>2025-08-31T00:00:00.000Z</td>\n",
       "    </tr>\n",
       "    <tr>\n",
       "      <th>2</th>\n",
       "      <td>&lt;NA&gt;</td>\n",
       "      <td>2018-08-23T00:00:00.000Z</td>\n",
       "      <td>&lt;NA&gt;</td>\n",
       "      <td>2020-10-08T00:00:00.000Z</td>\n",
       "      <td>2021-07-07T00:00:00.000Z</td>\n",
       "      <td>&lt;NA&gt;</td>\n",
       "      <td>2021-07-07T00:00:00.000Z</td>\n",
       "      <td>&lt;NA&gt;</td>\n",
       "      <td>&lt;NA&gt;</td>\n",
       "      <td>2018-08-31T00:00:00.000Z</td>\n",
       "      <td>&lt;NA&gt;</td>\n",
       "      <td>2025-09-02T00:00:00.000Z</td>\n",
       "      <td>2025-09-02T00:00:00.000Z</td>\n",
       "      <td>2018-08-23T00:00:00.000Z</td>\n",
       "      <td>1534-01-01T00:00:00.000Z</td>\n",
       "      <td>2018-08-29T00:00:00.000Z</td>\n",
       "      <td>&lt;NA&gt;</td>\n",
       "      <td>2018-08-31T00:00:00.000Z</td>\n",
       "      <td>2018-08-31T00:00:00.000Z</td>\n",
       "      <td>2025-09-02T00:00:00.000Z</td>\n",
       "      <td>2021-07-08T00:00:00.000Z</td>\n",
       "      <td>&lt;NA&gt;</td>\n",
       "      <td>&lt;NA&gt;</td>\n",
       "      <td>2018-08-31T00:00:00.000Z</td>\n",
       "      <td>9999-12-31T00:00:00.000Z</td>\n",
       "      <td>2021-05-30T17:58:49.000Z</td>\n",
       "      <td>2025-09-02T00:00:00.000Z</td>\n",
       "      <td>&lt;NA&gt;</td>\n",
       "      <td>2025-09-02T00:00:00.000Z</td>\n",
       "      <td>2025-09-02T00:00:00.000Z</td>\n",
       "      <td>2025-09-02T00:00:00.000Z</td>\n",
       "      <td>2025-09-02T00:00:00.000Z</td>\n",
       "      <td>2025-09-02T00:00:00.000Z</td>\n",
       "      <td>&lt;NA&gt;</td>\n",
       "      <td>&lt;NA&gt;</td>\n",
       "      <td>2025-08-31T00:00:00.000Z</td>\n",
       "    </tr>\n",
       "    <tr>\n",
       "      <th>3</th>\n",
       "      <td>&lt;NA&gt;</td>\n",
       "      <td>2018-08-23T00:00:00.000Z</td>\n",
       "      <td>&lt;NA&gt;</td>\n",
       "      <td>2020-10-27T00:00:00.000Z</td>\n",
       "      <td>2021-07-07T00:00:00.000Z</td>\n",
       "      <td>&lt;NA&gt;</td>\n",
       "      <td>2021-07-07T00:00:00.000Z</td>\n",
       "      <td>&lt;NA&gt;</td>\n",
       "      <td>&lt;NA&gt;</td>\n",
       "      <td>2018-08-31T00:00:00.000Z</td>\n",
       "      <td>&lt;NA&gt;</td>\n",
       "      <td>2025-09-02T00:00:00.000Z</td>\n",
       "      <td>2025-09-02T00:00:00.000Z</td>\n",
       "      <td>2018-08-23T00:00:00.000Z</td>\n",
       "      <td>&lt;NA&gt;</td>\n",
       "      <td>2018-08-29T00:00:00.000Z</td>\n",
       "      <td>&lt;NA&gt;</td>\n",
       "      <td>2018-08-31T00:00:00.000Z</td>\n",
       "      <td>2018-08-31T00:00:00.000Z</td>\n",
       "      <td>2025-09-02T00:00:00.000Z</td>\n",
       "      <td>2021-07-08T00:00:00.000Z</td>\n",
       "      <td>&lt;NA&gt;</td>\n",
       "      <td>&lt;NA&gt;</td>\n",
       "      <td>2018-08-31T00:00:00.000Z</td>\n",
       "      <td>&lt;NA&gt;</td>\n",
       "      <td>2021-05-31T00:23:00.000Z</td>\n",
       "      <td>2025-09-02T00:00:00.000Z</td>\n",
       "      <td>&lt;NA&gt;</td>\n",
       "      <td>2025-09-02T00:00:00.000Z</td>\n",
       "      <td>2025-09-02T00:00:00.000Z</td>\n",
       "      <td>2025-09-02T00:00:00.000Z</td>\n",
       "      <td>2025-09-02T00:00:00.000Z</td>\n",
       "      <td>2025-09-02T00:00:00.000Z</td>\n",
       "      <td>&lt;NA&gt;</td>\n",
       "      <td>&lt;NA&gt;</td>\n",
       "      <td>2025-08-31T00:00:00.000Z</td>\n",
       "    </tr>\n",
       "    <tr>\n",
       "      <th>4</th>\n",
       "      <td>&lt;NA&gt;</td>\n",
       "      <td>2020-08-20T00:00:00.000Z</td>\n",
       "      <td>&lt;NA&gt;</td>\n",
       "      <td>2020-12-25T00:00:00.000Z</td>\n",
       "      <td>2021-07-07T00:00:00.000Z</td>\n",
       "      <td>&lt;NA&gt;</td>\n",
       "      <td>2021-07-07T00:00:00.000Z</td>\n",
       "      <td>&lt;NA&gt;</td>\n",
       "      <td>&lt;NA&gt;</td>\n",
       "      <td>2020-08-31T00:00:00.000Z</td>\n",
       "      <td>&lt;NA&gt;</td>\n",
       "      <td>2025-09-02T00:00:00.000Z</td>\n",
       "      <td>2025-09-02T00:00:00.000Z</td>\n",
       "      <td>2020-08-20T00:00:00.000Z</td>\n",
       "      <td>1597-01-01T00:00:00.000Z</td>\n",
       "      <td>2020-08-26T00:00:00.000Z</td>\n",
       "      <td>&lt;NA&gt;</td>\n",
       "      <td>2020-08-31T00:00:00.000Z</td>\n",
       "      <td>2020-08-31T00:00:00.000Z</td>\n",
       "      <td>2025-09-02T00:00:00.000Z</td>\n",
       "      <td>2021-07-08T00:00:00.000Z</td>\n",
       "      <td>&lt;NA&gt;</td>\n",
       "      <td>&lt;NA&gt;</td>\n",
       "      <td>2020-08-31T00:00:00.000Z</td>\n",
       "      <td>9999-12-31T00:00:00.000Z</td>\n",
       "      <td>2021-05-31T00:23:05.000Z</td>\n",
       "      <td>2025-09-02T00:00:00.000Z</td>\n",
       "      <td>&lt;NA&gt;</td>\n",
       "      <td>2025-09-02T00:00:00.000Z</td>\n",
       "      <td>2025-09-02T00:00:00.000Z</td>\n",
       "      <td>2025-09-02T00:00:00.000Z</td>\n",
       "      <td>2025-09-02T00:00:00.000Z</td>\n",
       "      <td>2025-09-02T00:00:00.000Z</td>\n",
       "      <td>&lt;NA&gt;</td>\n",
       "      <td>&lt;NA&gt;</td>\n",
       "      <td>2025-08-31T00:00:00.000Z</td>\n",
       "    </tr>\n",
       "  </tbody>\n",
       "</table>\n",
       "</div>"
      ],
      "text/plain": [
       "                                  RecordDate     FirstAnnouncementDate  \\\n",
       "0  4th Business Day(s) Prior to Payment Date  2018-08-23T00:00:00.000Z   \n",
       "1  4th Business Day(s) Prior to Payment Date  2020-08-20T00:00:00.000Z   \n",
       "2                                       <NA>  2018-08-23T00:00:00.000Z   \n",
       "3                                       <NA>  2018-08-23T00:00:00.000Z   \n",
       "4                                       <NA>  2020-08-20T00:00:00.000Z   \n",
       "\n",
       "           FitchsRatingDate            LastChangeDate  \\\n",
       "0  2018-08-31T00:00:00.000Z  2021-07-01T00:00:00.000Z   \n",
       "1  2020-09-14T00:00:00.000Z  2021-07-06T00:00:00.000Z   \n",
       "2                      <NA>  2020-10-08T00:00:00.000Z   \n",
       "3                      <NA>  2020-10-27T00:00:00.000Z   \n",
       "4                      <NA>  2020-12-25T00:00:00.000Z   \n",
       "\n",
       "           PricingTradeDate RecordDateCode                 TradeDate  \\\n",
       "0  2021-07-07T00:00:00.000Z            BDP  2021-07-07T00:00:00.000Z   \n",
       "1  2021-07-07T00:00:00.000Z            BDP  2021-07-07T00:00:00.000Z   \n",
       "2  2021-07-07T00:00:00.000Z           <NA>  2021-07-07T00:00:00.000Z   \n",
       "3  2021-07-07T00:00:00.000Z           <NA>  2021-07-07T00:00:00.000Z   \n",
       "4  2021-07-07T00:00:00.000Z           <NA>  2021-07-07T00:00:00.000Z   \n",
       "\n",
       "            FirstCouponDate                      RecordDateDescription  \\\n",
       "0  2019-02-28T00:00:00.000Z  Nth Business Day(s) Prior to Payment Date   \n",
       "1  2021-02-28T00:00:00.000Z  Nth Business Day(s) Prior to Payment Date   \n",
       "2                      <NA>                                       <NA>   \n",
       "3                      <NA>                                       <NA>   \n",
       "4                      <NA>                                       <NA>   \n",
       "\n",
       "         AssetStatusEffDate       FaceOutstandingDate  \\\n",
       "0  2018-08-31T00:00:00.000Z  2018-09-30T00:00:00.000Z   \n",
       "1  2020-08-31T00:00:00.000Z  2020-09-30T00:00:00.000Z   \n",
       "2  2018-08-31T00:00:00.000Z                      <NA>   \n",
       "3  2018-08-31T00:00:00.000Z                      <NA>   \n",
       "4  2020-08-31T00:00:00.000Z                      <NA>   \n",
       "\n",
       "      MaturityPrinStartDate      WorstAverageLifeDate  \\\n",
       "0  2025-09-02T00:00:00.000Z  2025-09-02T00:00:00.000Z   \n",
       "1  2025-09-02T00:00:00.000Z  2025-09-02T00:00:00.000Z   \n",
       "2  2025-09-02T00:00:00.000Z  2025-09-02T00:00:00.000Z   \n",
       "3  2025-09-02T00:00:00.000Z  2025-09-02T00:00:00.000Z   \n",
       "4  2025-09-02T00:00:00.000Z  2025-09-02T00:00:00.000Z   \n",
       "\n",
       "               AnnounceDate MiFIDThresholdEffectiveDate  \\\n",
       "0  2018-08-23T00:00:00.000Z                        <NA>   \n",
       "1  2020-08-20T00:00:00.000Z                        <NA>   \n",
       "2  2018-08-23T00:00:00.000Z    1534-01-01T00:00:00.000Z   \n",
       "3  2018-08-23T00:00:00.000Z                        <NA>   \n",
       "4  2020-08-20T00:00:00.000Z    1597-01-01T00:00:00.000Z   \n",
       "\n",
       "                AuctionDate               AccrualDate  \\\n",
       "0  2018-08-29T00:00:00.000Z  2018-08-31T00:00:00.000Z   \n",
       "1  2020-08-26T00:00:00.000Z  2020-08-31T00:00:00.000Z   \n",
       "2  2018-08-29T00:00:00.000Z                      <NA>   \n",
       "3  2018-08-29T00:00:00.000Z                      <NA>   \n",
       "4  2020-08-26T00:00:00.000Z                      <NA>   \n",
       "\n",
       "           MoodysRatingDate              SPRatingDate  \\\n",
       "0  2020-06-19T00:00:00.000Z  2018-08-31T00:00:00.000Z   \n",
       "1  2020-08-27T00:00:00.000Z  2020-08-31T00:00:00.000Z   \n",
       "2  2018-08-31T00:00:00.000Z  2018-08-31T00:00:00.000Z   \n",
       "3  2018-08-31T00:00:00.000Z  2018-08-31T00:00:00.000Z   \n",
       "4  2020-08-31T00:00:00.000Z  2020-08-31T00:00:00.000Z   \n",
       "\n",
       "         WorstPrinStartDate                SettleDate  \\\n",
       "0  2025-09-02T00:00:00.000Z  2021-07-08T00:00:00.000Z   \n",
       "1  2025-09-02T00:00:00.000Z  2021-07-08T00:00:00.000Z   \n",
       "2  2025-09-02T00:00:00.000Z  2021-07-08T00:00:00.000Z   \n",
       "3  2025-09-02T00:00:00.000Z  2021-07-08T00:00:00.000Z   \n",
       "4  2025-09-02T00:00:00.000Z  2021-07-08T00:00:00.000Z   \n",
       "\n",
       "            BondListingDate RecordDateVal                 IssueDate  \\\n",
       "0  2018-08-23T00:00:00.000Z             4  2018-08-31T00:00:00.000Z   \n",
       "1  2020-08-20T00:00:00.000Z             4  2020-08-31T00:00:00.000Z   \n",
       "2                      <NA>          <NA>  2018-08-31T00:00:00.000Z   \n",
       "3                      <NA>          <NA>  2018-08-31T00:00:00.000Z   \n",
       "4                      <NA>          <NA>  2020-08-31T00:00:00.000Z   \n",
       "\n",
       "      MiFIDThresholdEndDate            InsertDateTime  \\\n",
       "0                      <NA>  2021-05-30T23:41:48.000Z   \n",
       "1                      <NA>  2021-05-30T16:16:19.000Z   \n",
       "2  9999-12-31T00:00:00.000Z  2021-05-30T17:58:49.000Z   \n",
       "3                      <NA>  2021-05-31T00:23:00.000Z   \n",
       "4  9999-12-31T00:00:00.000Z  2021-05-31T00:23:05.000Z   \n",
       "\n",
       "          MaturityRedemDate            LastCouponDate  \\\n",
       "0  2025-09-02T00:00:00.000Z  2025-02-28T00:00:00.000Z   \n",
       "1  2025-09-02T00:00:00.000Z  2025-02-28T00:00:00.000Z   \n",
       "2  2025-09-02T00:00:00.000Z                      <NA>   \n",
       "3  2025-09-02T00:00:00.000Z                      <NA>   \n",
       "4  2025-09-02T00:00:00.000Z                      <NA>   \n",
       "\n",
       "           PricingRedemDate            WorstRedemDate  \\\n",
       "0  2025-09-02T00:00:00.000Z  2025-09-02T00:00:00.000Z   \n",
       "1  2025-09-02T00:00:00.000Z  2025-09-02T00:00:00.000Z   \n",
       "2  2025-09-02T00:00:00.000Z  2025-09-02T00:00:00.000Z   \n",
       "3  2025-09-02T00:00:00.000Z  2025-09-02T00:00:00.000Z   \n",
       "4  2025-09-02T00:00:00.000Z  2025-09-02T00:00:00.000Z   \n",
       "\n",
       "        MaturityPrinEndDate          WorstPrinEndDate  \\\n",
       "0  2025-09-02T00:00:00.000Z  2025-09-02T00:00:00.000Z   \n",
       "1  2025-09-02T00:00:00.000Z  2025-09-02T00:00:00.000Z   \n",
       "2  2025-09-02T00:00:00.000Z  2025-09-02T00:00:00.000Z   \n",
       "3  2025-09-02T00:00:00.000Z  2025-09-02T00:00:00.000Z   \n",
       "4  2025-09-02T00:00:00.000Z  2025-09-02T00:00:00.000Z   \n",
       "\n",
       "    MaturityAverageLifeDate               NextPayDate  \\\n",
       "0  2025-09-02T00:00:00.000Z  2021-08-31T00:00:00.000Z   \n",
       "1  2025-09-02T00:00:00.000Z  2021-08-31T00:00:00.000Z   \n",
       "2  2025-09-02T00:00:00.000Z                      <NA>   \n",
       "3  2025-09-02T00:00:00.000Z                      <NA>   \n",
       "4  2025-09-02T00:00:00.000Z                      <NA>   \n",
       "\n",
       "  LatestRatingEffectiveDate              MaturityDate  \n",
       "0  1970-01-01T05:36:50.000Z  2025-08-31T00:00:00.000Z  \n",
       "1  1970-01-01T05:36:40.000Z  2025-08-31T00:00:00.000Z  \n",
       "2                      <NA>  2025-08-31T00:00:00.000Z  \n",
       "3                      <NA>  2025-08-31T00:00:00.000Z  \n",
       "4                      <NA>  2025-08-31T00:00:00.000Z  "
      ]
     },
     "execution_count": 200,
     "metadata": {},
     "output_type": "execute_result"
    }
   ],
   "source": [
    "pandas.set_option('display.max_columns', None)\n",
    "tese_search"
   ]
  },
  {
   "cell_type": "code",
   "execution_count": 59,
   "id": "b82b97af-8283-471e-920f-edefc129fd9d",
   "metadata": {},
   "outputs": [
    {
     "name": "stdout",
     "output_type": "stream",
     "text": [
      "United States of America (Government), Plain Vanilla Fixed Coupon Bond, TRACE Eligible GOVT 2.75 31-Aug-2025\n",
      "United States of America (Government), Plain Vanilla Fixed Coupon Bond, TRACE Eligible GOVT .25 31-Aug-2025\n",
      "United States of America (Government), Bond, TRACE Eligible STRIPP 0 31-Aug-2025\n",
      "United States of America (Government), Bond, TRACE Eligible STRIPI 0 31-Aug-2025\n",
      "United States of America (Government), Bond, TRACE Eligible STRIPP 0 31-Aug-2025\n"
     ]
    }
   ],
   "source": [
    "for i in tese_search[\"DocumentTitle\"]:\n",
    "    print(i)"
   ]
  },
  {
   "cell_type": "code",
   "execution_count": null,
   "id": "702c83fb-0d8b-419e-8e90-3e2e549f7271",
   "metadata": {},
   "outputs": [],
   "source": []
  },
  {
   "cell_type": "code",
   "execution_count": null,
   "id": "267fe114-6e4e-4c71-b330-3033788da2e8",
   "metadata": {},
   "outputs": [],
   "source": []
  },
  {
   "cell_type": "code",
   "execution_count": null,
   "id": "d998caa4-c717-4b83-965e-c11a95521c0f",
   "metadata": {},
   "outputs": [],
   "source": []
  },
  {
   "cell_type": "code",
   "execution_count": null,
   "id": "02d9e7c9-c155-4b20-801c-1680a2019ec5",
   "metadata": {},
   "outputs": [],
   "source": []
  },
  {
   "cell_type": "code",
   "execution_count": null,
   "id": "49758d53-d081-4923-9eb1-247b30d3f0ee",
   "metadata": {},
   "outputs": [],
   "source": []
  },
  {
   "cell_type": "code",
   "execution_count": null,
   "id": "a5d627d8-0c63-4691-a621-527e12c8557f",
   "metadata": {},
   "outputs": [],
   "source": []
  },
  {
   "cell_type": "code",
   "execution_count": null,
   "id": "44a35e8c-073c-4a9c-aafb-e2c63717cda2",
   "metadata": {},
   "outputs": [],
   "source": []
  },
  {
   "cell_type": "markdown",
   "id": "b451072d-91e1-4baf-a430-fa8d52a54dd4",
   "metadata": {},
   "source": [
    "We can clearly see - in that graph - the inverse relationship between YTM and Price. Also, we can note that when the price of the bond goes above its FV (of \\$100), the YTM does not go negative; that's because of the added revenue from coupons. Was this coupon to be non Coupon paying (i.e.: a Zero-Coupon-Bond), then its YTM would be negative when its price would go above its FV. Often - as a matter of fact - we do extrapelate Zero-Coupon Equivalent YTMs, this way all YTMs are comparable to each other. This is called '[Bootstrapping](https://en.wikipedia.org/wiki/Bootstrapping_(finance))'."
   ]
  },
  {
   "cell_type": "markdown",
   "id": "6909551a-3e26-43ea-8857-e2a01aec42fa",
   "metadata": {},
   "source": [
    "## Bootstrapping: Zero-Coupon Equivalent Bond's Yield To Maturity"
   ]
  },
  {
   "cell_type": "markdown",
   "id": "171e9d7e-1ece-4d27-8183-c7d5f2f58d14",
   "metadata": {},
   "source": [
    "To go from a Coupon-Paying YTM (CPYTM) to a Zero-Coupon Equivalent Yield To Maturity ($YTM_{ZCE}$), all we have to do is equate $NPV_{f_{\\text{acf}}, t}$ and $NPV_{ZCE,f_{\\text{acf}}, t}$ where \n",
    "$\n",
    "NPV_{ZCE,f_{\\text{acf}}, t} = \n",
    "    \\begin{Bmatrix}\n",
    "         \\frac{FV_t}{\\left(1 + f_{\\text{acf}} \\text{ } YTM_{ZCE,t}\\right)^\\frac{m}{f_{\\text{acf}}}} & \\text{if } m \\geq f_{\\text{acf}} \\\\\n",
    "         \\\\\n",
    "         \\frac{FV_t}{\\left(1 + \\text{ } m \\text{ } YTM_{ZCE,t}\\right)} & \\text{if } m < f_{\\text{acf}}\n",
    "     \\end{Bmatrix}\n",
    "$. Remember that we are using realised prices, so we already have $NPV_{f_{\\text{acf}}, t}$ values such that:"
   ]
  },
  {
   "cell_type": "markdown",
   "id": "2d83c997-7583-415b-98c2-cf645ba47e3b",
   "metadata": {},
   "source": [
    "$$ \\begin{array}{ll}\n",
    "NPV_{f_{\\text{acf}}, t} &= NPV_{ZCE,f_{\\text{acf}}, t} \\\\\n",
    "&= \n",
    "    \\begin{Bmatrix}\n",
    "         \\frac{FV_t}{\\left(1 + f_{\\text{acf}} \\text{ } YTM_{ZCE,t}\\right)^\\frac{m}{f_{\\text{acf}}}} & \\text{if } m \\geq f_{\\text{acf}} \\\\\n",
    "         \\\\\n",
    "         \\frac{FV_t}{\\left(1 + \\text{ } m \\text{ } YTM_{ZCE,t}\\right)} & \\text{if } m < f_{\\text{acf}}\n",
    "     \\end{Bmatrix}\n",
    "\\end{array} $$"
   ]
  },
  {
   "cell_type": "markdown",
   "id": "029cee06-980a-4908-b306-3214845515e3",
   "metadata": {},
   "source": [
    "Therefore:"
   ]
  },
  {
   "cell_type": "markdown",
   "id": "32b8dc9f-d4d9-4d8d-9ebd-f4a5c66f6aa0",
   "metadata": {},
   "source": [
    "$$ \\begin{array}{ll}\n",
    "{YTM}_{ZCE,t} &= \n",
    "    \\begin{Bmatrix}\n",
    "         \\frac{ \\sqrt[\\frac{m}{f_{\\text{acf}}}]{ \\frac{FV_t}{NPV_{f_{\\text{acf}}, t}} } - 1 }{ f_{\\text{acf}} } & \\text{if } m \\geq f_{\\text{acf}} \\\\\n",
    "         \\\\\n",
    "         \\frac{ \\frac{FV_t}{NPV_{f_{\\text{acf}}, t}} - 1 }{ m } & \\text{if } m < f_{\\text{acf}}\n",
    "     \\end{Bmatrix}\n",
    "\\end{array} $$"
   ]
  },
  {
   "cell_type": "markdown",
   "id": "30292c33-2a94-4ca2-a938-5bdab34332bf",
   "metadata": {},
   "source": [
    "Let's code this up:"
   ]
  },
  {
   "cell_type": "code",
   "execution_count": 16,
   "id": "da7d2100-d6f4-4275-81fe-f2d32969dcda",
   "metadata": {},
   "outputs": [],
   "source": [
    "def Bootstrapping_YTM_from_CPB_to_ZCE(fv, m, p, f_acf):\n",
    "    \"\"\"Bootstrapping_YTM_from_CPB_to_ZCE(fv, m, p, f_acf) Version 1.0\n",
    "    This Python function calculates the bootstrapped yield to maturity for a coupon paying bond, giving its zero-coupon equivalent bond's yield.\n",
    "\n",
    "    Dependencies\n",
    "    ----------\n",
    "\n",
    "    Python library 'pandas' version 1.2.4.\n",
    "\n",
    "    Parameters\n",
    "    ----------\n",
    "\n",
    "    fv: int or float\n",
    "        Face Value (also known as (a.k.a.) Redemption Value) of the bond.\n",
    "        This has to be in the same currency and p.\n",
    "\n",
    "    m: int or float\n",
    "        Maturity (a.k.a.: Term) of the Bond in years - if any.\n",
    "        If it is less than a year, express it in a fraction (e.g.: 6 months as 1/2).\n",
    "\n",
    "    p: int or float\n",
    "        Realised price of the Bond.\n",
    "        This has to be in the same currency as fv.\n",
    "\n",
    "    f_acf: int or float\n",
    "          Annual compound frequency (such that if we compound cash flows annually, f_acf=1; and if we compound cash flows bi-annually (i.e.: twice a year / every 6 months), f_acf=0.5).\n",
    "          Coupons are paid at a fixed 'annual Coupon payment frequency' (f_acPf). Usually, the following are true:\n",
    "          - f_acPf = 0.5 , i.e.: Coupon payments are made every 6 months (i.e.: semi-annually)\n",
    "          - f_acf is set to the f_acPf such that f_acPf = f_acf\n",
    "          - Thus usually f_acPf = f_acpf = 0.5.\n",
    "\n",
    "    Returns\n",
    "    -------\n",
    "\n",
    "    float: the ytm as per a zero-coupon equivalent bond.\n",
    "    \"\"\"\n",
    "\n",
    "    if m >= f_acf:  # Net Preset Values (NPVs) - and by extension Yields - of Bonds are valued with equations that depend on the relative value of their maturities and annual compound frequency.\n",
    "        return (((fv/p)**(f_acf/m))-1)/f_acf\n",
    "    elif m < f_acf:\n",
    "        return ((fv/p)-1)/m\n",
    "    else:\n",
    "        return \"fv, m, p and f_acf must be numbers - either integers or floating point numbers.\""
   ]
  },
  {
   "cell_type": "markdown",
   "id": "c8621c8f-db14-4b04-a511-ab5b14e1626e",
   "metadata": {},
   "source": [
    "### Bootstrapping T-Note Example: Five Year T-Note with Semi-Annual Compounding a 5 Year T-Note"
   ]
  },
  {
   "cell_type": "code",
   "execution_count": 17,
   "id": "c6faa39c-9c9a-439b-b941-4bdc8d6a7896",
   "metadata": {},
   "outputs": [
    {
     "data": {
      "text/plain": [
       "-0.00020308653253198194"
      ]
     },
     "execution_count": 17,
     "metadata": {},
     "output_type": "execute_result"
    }
   ],
   "source": [
    "Bootstrapping_YTM_from_CPB_to_ZCE(fv=100, m=5, f_acf=0.5, p=100.1016)  # Using our old value of 100.1016 from the US FYTN maturing on 2020_07_31's price as of 2020-07-30."
   ]
  },
  {
   "cell_type": "code",
   "execution_count": null,
   "id": "543cfa48-e286-4464-9ce4-5bda9da61257",
   "metadata": {},
   "outputs": [],
   "source": []
  },
  {
   "cell_type": "code",
   "execution_count": null,
   "id": "756c93e3-1e41-42cd-81f0-8027658b027c",
   "metadata": {},
   "outputs": [],
   "source": []
  },
  {
   "cell_type": "code",
   "execution_count": null,
   "id": "d7b8666a-1282-4bf8-b3d1-4c3ed2bfaeb7",
   "metadata": {},
   "outputs": [],
   "source": []
  },
  {
   "cell_type": "code",
   "execution_count": null,
   "id": "49be646d-42bf-4ef6-8ba0-5cc4ff9db7d1",
   "metadata": {},
   "outputs": [],
   "source": []
  },
  {
   "cell_type": "code",
   "execution_count": null,
   "id": "d55181be-86dd-49ed-a21d-03b3670300d0",
   "metadata": {},
   "outputs": [],
   "source": []
  },
  {
   "cell_type": "code",
   "execution_count": null,
   "id": "f3eca410-8b56-456c-943d-0e7e0e7fa5e2",
   "metadata": {},
   "outputs": [],
   "source": []
  },
  {
   "cell_type": "code",
   "execution_count": null,
   "id": "6e90eb69-c89f-426b-8fc3-2675429392ac",
   "metadata": {},
   "outputs": [],
   "source": []
  },
  {
   "cell_type": "code",
   "execution_count": null,
   "id": "f9394a74-98cb-467a-85d8-23f33738194e",
   "metadata": {},
   "outputs": [],
   "source": []
  },
  {
   "cell_type": "code",
   "execution_count": null,
   "id": "2e2f3433-0a59-49be-b375-2b9cdcdc9b86",
   "metadata": {},
   "outputs": [],
   "source": []
  },
  {
   "cell_type": "code",
   "execution_count": null,
   "id": "de7000ba-9f1c-4792-bd0f-2129e1fb3973",
   "metadata": {},
   "outputs": [],
   "source": []
  },
  {
   "cell_type": "code",
   "execution_count": null,
   "id": "6b5f4c4a-e0e3-435c-a482-3e7ccbdaac77",
   "metadata": {},
   "outputs": [],
   "source": []
  },
  {
   "cell_type": "code",
   "execution_count": null,
   "id": "59999553-a288-43fe-a8b6-fe4c26a01ae2",
   "metadata": {},
   "outputs": [],
   "source": []
  },
  {
   "cell_type": "code",
   "execution_count": null,
   "id": "dd56ed3c-b8df-4e3d-a77c-a1d09897afeb",
   "metadata": {},
   "outputs": [],
   "source": []
  },
  {
   "cell_type": "code",
   "execution_count": null,
   "id": "1f69c2c3-9753-4f42-89e8-bc79ba4c9efa",
   "metadata": {},
   "outputs": [],
   "source": []
  },
  {
   "cell_type": "code",
   "execution_count": null,
   "id": "2d2fd553-2918-4683-8966-448d42fb8486",
   "metadata": {},
   "outputs": [],
   "source": []
  },
  {
   "cell_type": "code",
   "execution_count": null,
   "id": "e0246702-4c2c-45d0-b4fb-9ade931a71a7",
   "metadata": {},
   "outputs": [],
   "source": []
  },
  {
   "cell_type": "code",
   "execution_count": null,
   "id": "c7572871-7cce-47fa-8b92-a32361f881f5",
   "metadata": {},
   "outputs": [],
   "source": []
  },
  {
   "cell_type": "markdown",
   "id": "d82b287b-5dfd-4a97-97d3-0094134dbcdf",
   "metadata": {},
   "source": [
    "## Risk-free rate of a Five Year T-Note"
   ]
  },
  {
   "cell_type": "markdown",
   "id": "d37a90ce-1998-4f5b-9ed6-5a1279ac8620",
   "metadata": {},
   "source": [
    "If an investor buys a Five Year T-Note for 900 U.S.D. at the start of a 5 year period, it will mature with a Face Value of \\\\$ 100, and the investor would have made $1000 - 900 = \\$100$ in profit. Over that 5 year, that's a straight-line / arithmetic return rate of $\\frac{1000 - 900}{900} = 0.\\dot{1}$ (note that the [dot on top of $1$ in $0.\\dot{1}$ is the standard notation of a recurring decimal](https://en.wikipedia.org/wiki/Repeating_decimal)) , *i.e.*: approximately 11.11%, since:"
   ]
  },
  {
   "cell_type": "code",
   "execution_count": 8,
   "id": "e64e2f12-0bff-410e-b00a-88b4b7c48595",
   "metadata": {},
   "outputs": [
    {
     "data": {
      "text/plain": [
       "0.1111111111111111"
      ]
     },
     "execution_count": 8,
     "metadata": {},
     "output_type": "execute_result"
    }
   ],
   "source": [
    "(1000 - 900)/900"
   ]
  },
  {
   "cell_type": "markdown",
   "id": "0255e051-73df-49f2-a398-a4efff379ff4",
   "metadata": {},
   "source": [
    "That - itself - is a straight-line / arithmetic daily return rate of $\\frac{0.\\dot{1}}{365*5} \\approx 0.000060882800608828 \\approx 0.0061\\%$ since:"
   ]
  },
  {
   "cell_type": "code",
   "execution_count": 3,
   "id": "8a0756f1-7603-4de2-ab48-656329869569",
   "metadata": {},
   "outputs": [
    {
     "data": {
      "text/plain": [
       "6.0882800608828e-05"
      ]
     },
     "execution_count": 3,
     "metadata": {},
     "output_type": "execute_result"
    }
   ],
   "source": [
    "((1000 - 900)/900)/(365*5)"
   ]
  },
  {
   "cell_type": "markdown",
   "id": "30bbc6c5-97cf-4575-8f07-fc4a62877ce2",
   "metadata": {},
   "source": [
    "(S)He **theoretically** gets that return every day (theoretically since it doesn't realise until the bond matures, *i.e.*: until the end of the Bond).\n",
    "\n",
    "**But** investors are in the habit of re-investing their returns to benefit from [compounding](https://www.investopedia.com/terms/c/compounding.asp). This way we are not looking at straight-line / arithmetic interests, but [geometric](https://en.wikipedia.org/wiki/Exponential_growth) interest. The geometric daily interest of our investor is"
   ]
  },
  {
   "cell_type": "markdown",
   "id": "e5030416-74e0-4891-a901-0049e9722ee7",
   "metadata": {},
   "source": [
    "$$\\sqrt[365*5]{1 + \\frac{1000 - 900}{900}} - 1 = \\left( 1 + \\frac{1000 - 900}{900} \\right)^{\\frac{1}{365*5}} - 1 \\approx 0.00005773345591331136 \\approx 0.0058 \\%$$"
   ]
  },
  {
   "cell_type": "markdown",
   "id": "395d3383-4436-4828-8f43-03115251ab21",
   "metadata": {},
   "source": [
    "since:"
   ]
  },
  {
   "cell_type": "code",
   "execution_count": 4,
   "id": "e8393ad8-2e46-49b7-9786-5dc71769847b",
   "metadata": {},
   "outputs": [
    {
     "data": {
      "text/plain": [
       "5.773345591331136e-05"
      ]
     },
     "execution_count": 4,
     "metadata": {},
     "output_type": "execute_result"
    }
   ],
   "source": [
    "((1 + ((1000-900)/900)))**(1/(365*5)) - 1"
   ]
  },
  {
   "cell_type": "markdown",
   "id": "a57bb33f-07d3-4208-87d2-7c7a6b674948",
   "metadata": {},
   "source": [
    "(note that the ${\\frac{1}{n}}^{th}$ exponent of a value is its $n^{th}$ root; this is a concept that is imperative to comprehend to understand the coding we go through below) meaning that (s)he gets approximately $\\text{\\$}900 * 0.0000577... = \\text{\\$}0.051960$ the first day, then $(\\text{\\$}900 + \\text{\\$}0.051960...) * 0.0000577... \\approx \\text{\\$} 0.051963$ the next day, and so on."
   ]
  },
  {
   "cell_type": "markdown",
   "id": "1a6b02f0-04b5-4615-bde6-030f9df77e8b",
   "metadata": {},
   "source": [
    "\n",
    "\n",
    "Following the same logic, it is easy to calculate the risk-free rate ($r_f$) on any frequency. The compounding $r_f$ of our 5 Year T-Note for any number of periods in a year (say, daily, *i.e.*: $d$) with a yield ${YTM}_{\\text{FYTN}, t}$ is such that:"
   ]
  },
  {
   "cell_type": "markdown",
   "id": "dc58efc4-61ef-4a9a-ab9c-e1e78e281fe4",
   "metadata": {},
   "source": [
    "$$\\mathbf{r_f = \\sqrt[d]{1 + {YTM}_{\\text{FYTN}, t}} - 1}$$"
   ]
  },
  {
   "cell_type": "markdown",
   "id": "365c9d71-65fd-4adb-bbc2-4e5015f9e847",
   "metadata": {},
   "source": [
    "It is this simple because YTMs are annualised. *E.g.*: If ${YTM}_{\\text{FYTN}, t} \\approx 0.002295515059055049$ : $$r_f \\approx \\sqrt[365]{1 + 0.002295515059055049} - 1 \\approx 0.000006281894770587826 \\approx 0.00063 \\%$$ since:"
   ]
  },
  {
   "cell_type": "code",
   "execution_count": 11,
   "id": "6e8c7e43-5e8a-4a76-9e3d-02102c604b42",
   "metadata": {},
   "outputs": [
    {
     "data": {
      "text/plain": [
       "6.281894770587826e-06"
      ]
     },
     "execution_count": 11,
     "metadata": {},
     "output_type": "execute_result"
    }
   ],
   "source": [
    "(1.002295515059055049**(1/365))-1"
   ]
  },
  {
   "cell_type": "markdown",
   "id": "6b095233-031d-4f80-bbc3-7e79087abc2a",
   "metadata": {},
   "source": [
    "This is the **YTM implied daily risk-free rate** ($r_f$) of our bond. A similar 'weekly' - 7 day - or 'monthly' - 30 day - rate can be made by letting $d$ be the number of weeks or months for the year in question.\n",
    "\n",
    "Why would one use 30 days (as per our example)? Because the 1-, 2-, and 3-month rates are equivalent to the 30-, 60-, and 90-day dates respectively, reported on [the Board's Commercial Paper Web page](www.federalreserve.gov/releases/cp/). This is as per reference (see more [here](https://fred.stlouisfed.org/series/DGS1MO#0) and [here](https://www.federalreserve.gov/releases/h15/current/h15.pdf)) with that said, one ought to use the exact number of days to maturity.\n",
    "\n",
    "Note - however - that we only looked at Zero-Coupon Bonds. If $m > 1$, then Coupons usually have to be taken into account."
   ]
  },
  {
   "cell_type": "markdown",
   "id": "544a9bf6-fd04-4aa4-b7a0-2356ff042892",
   "metadata": {},
   "source": [
    "We may now code a Python function to go through this method:"
   ]
  },
  {
   "cell_type": "code",
   "execution_count": 14,
   "id": "cbe152c6-9a8f-4bfc-8d9c-777f96a4a89b",
   "metadata": {},
   "outputs": [],
   "source": [
    "# The below are needed to plot graphs of all kinds\n",
    "import plotly\n",
    "import plotly.express\n",
    "from plotly.graph_objs import *\n",
    "from plotly.offline import download_plotlyjs, init_notebook_mode, plot, iplot\n",
    "\n",
    "init_notebook_mode(connected=True)\n",
    "\n",
    "import cufflinks\n",
    "cufflinks.go_offline()\n",
    "# cufflinks.set_config_file(offline = True, world_readable = True)\n",
    "\n",
    "for i,j in zip([\"plotly\", \"cufflinks\"], [plotly, cufflinks]):\n",
    "    print(\"The \" + str(i) + \" library imported in this code is version: \" + j.__version__)"
   ]
  },
  {
   "cell_type": "markdown",
   "id": "b75f1eee-efab-4d5f-a09a-8f432d4acf60",
   "metadata": {},
   "source": [
    "### Create a function to compute the risk-free rate of return for any Zero-Coupon Bond's Yield To Maturity gathered from [Datastream](https://www.refinitiv.com/en/products/datastream-macroeconomic-analysis):"
   ]
  },
  {
   "cell_type": "markdown",
   "id": "92bdf244-4a45-4ff1-9cfa-aa75a8fc1d9d",
   "metadata": {},
   "source": [
    "remember, our formula is: $${r_{f,t}} = \\sqrt[d]{1 + {YTM}_{\\text{FYTN}, t}} - 1$$ where $t \\in \\mathbb{Z}$ and $ 1 \\le t \\ge T$. We define the (time) vector\n",
    "\n",
    "$$\n",
    "\\mathbf{r\\_f} = \n",
    "\\left[ \\begin{matrix}\n",
    "    r_{{f},1} \\\\\n",
    "    r_{{f},2} \\\\\n",
    "    \\vdots\\\\\n",
    "    r_{{f},T}\n",
    "\\end{matrix} \\right]\n",
    "$$"
   ]
  },
  {
   "cell_type": "markdown",
   "id": "372bcc90-30ea-4cd7-8e7a-0908fcbabf88",
   "metadata": {},
   "source": [
    "This Python function will return the Bond's YTM Implied Risk Free Interest Rate, thus its name 'B_YTM_Implied_r_f':"
   ]
  },
  {
   "cell_type": "code",
   "execution_count": null,
   "id": "4d744d47-ee53-4469-a88e-99e5f8151554",
   "metadata": {},
   "outputs": [],
   "source": []
  },
  {
   "cell_type": "code",
   "execution_count": null,
   "id": "b28cb7c0-97fd-4fdd-8f68-19129ab122a0",
   "metadata": {},
   "outputs": [],
   "source": []
  },
  {
   "cell_type": "code",
   "execution_count": null,
   "id": "c748a6ed-e71e-43c0-8b07-fbadcdcdc15a",
   "metadata": {},
   "outputs": [],
   "source": []
  },
  {
   "cell_type": "code",
   "execution_count": null,
   "id": "583914ef-933c-417d-8059-92ac8240f3b4",
   "metadata": {},
   "outputs": [],
   "source": []
  },
  {
   "cell_type": "code",
   "execution_count": null,
   "id": "aef34d16-0a68-4a36-8876-e718cff38856",
   "metadata": {},
   "outputs": [],
   "source": []
  },
  {
   "cell_type": "code",
   "execution_count": null,
   "id": "127e47c1-6625-446a-9772-ab95974460ba",
   "metadata": {},
   "outputs": [],
   "source": []
  },
  {
   "cell_type": "code",
   "execution_count": null,
   "id": "efd82a6c-65c7-464e-81d1-8d1ea5fc355f",
   "metadata": {},
   "outputs": [],
   "source": []
  },
  {
   "cell_type": "code",
   "execution_count": null,
   "id": "dca0e79b-f8b1-472c-8f63-7b45be7eef30",
   "metadata": {},
   "outputs": [],
   "source": []
  },
  {
   "cell_type": "code",
   "execution_count": null,
   "id": "d73db0ed-c031-47c0-a2b5-3745adec7fbc",
   "metadata": {},
   "outputs": [],
   "source": []
  },
  {
   "cell_type": "code",
   "execution_count": null,
   "id": "e1a1512c-516a-48fa-9fa4-b3f4a7abce4f",
   "metadata": {},
   "outputs": [],
   "source": []
  },
  {
   "cell_type": "code",
   "execution_count": null,
   "id": "d1ef6ad7-c9f1-46eb-ab9f-b295391edf87",
   "metadata": {},
   "outputs": [],
   "source": []
  },
  {
   "cell_type": "code",
   "execution_count": null,
   "id": "4d34bfb1-62ae-4fad-980f-8ab754233148",
   "metadata": {},
   "outputs": [],
   "source": []
  },
  {
   "cell_type": "code",
   "execution_count": null,
   "id": "be8d41d0-f019-4259-83aa-f81c84ab9566",
   "metadata": {},
   "outputs": [],
   "source": []
  },
  {
   "cell_type": "code",
   "execution_count": null,
   "id": "4e129ff1-b014-4910-8421-421a4f25e6c3",
   "metadata": {},
   "outputs": [],
   "source": []
  },
  {
   "cell_type": "code",
   "execution_count": null,
   "id": "35f42dee-4b1a-4ef7-9f41-73c7cea062a5",
   "metadata": {},
   "outputs": [],
   "source": []
  },
  {
   "cell_type": "code",
   "execution_count": null,
   "id": "cc0326f5-876e-4ed7-9dc7-11ba0dc930a2",
   "metadata": {},
   "outputs": [],
   "source": []
  },
  {
   "cell_type": "code",
   "execution_count": null,
   "id": "b0e17fd7-422b-4f0f-a057-dbe247f1ca71",
   "metadata": {},
   "outputs": [],
   "source": []
  },
  {
   "cell_type": "code",
   "execution_count": null,
   "id": "72527c5e-59c0-450c-a9fd-fcd331780d6e",
   "metadata": {},
   "outputs": [],
   "source": []
  },
  {
   "cell_type": "code",
   "execution_count": null,
   "id": "1ca4db23-dfb6-4459-b192-074a7cea7033",
   "metadata": {},
   "outputs": [],
   "source": []
  },
  {
   "cell_type": "code",
   "execution_count": null,
   "id": "7d1997c8-8e41-440c-8e35-00d70529e4cc",
   "metadata": {},
   "outputs": [],
   "source": []
  },
  {
   "cell_type": "code",
   "execution_count": null,
   "id": "be5084eb-4672-41b9-a893-10757b3f846e",
   "metadata": {},
   "outputs": [],
   "source": []
  },
  {
   "cell_type": "code",
   "execution_count": null,
   "id": "d43fcf99-a461-43b9-bcf7-ffdb55c15d3c",
   "metadata": {},
   "outputs": [],
   "source": []
  },
  {
   "cell_type": "code",
   "execution_count": 17,
   "id": "24256428-3a02-4e0c-8cfc-519fe038f872",
   "metadata": {},
   "outputs": [],
   "source": [
    "def B_YTM_Implied_r_f(ytm, d):\n",
    "    \"\"\" B_YTM_Implied_r_f Version 1.0: This Python function returns the Bond (B) Yield To Maturity (YTM) Implied Risk Free Interest Rate, thus its name 'B_YTM_Implied_r_f'.\n",
    "\n",
    "    Parameters\n",
    "    ----------\n",
    "    \n",
    "    ytm: Datastream pandas dataframe\n",
    "        The Yield To Maturity of the Zero-Coupon Bond in question.\n",
    "    It requiers the DSWS library from Refinitiv.\n",
    "    E.g.: ytm = ds.get_data(tickers = 'TRUS1MT', fields = \"X\", start = '1950-01-01', freq = 'D')/100\n",
    "\n",
    "    d (int): The number of time periods (e.g.: days) until the bond matures\n",
    "    N.B.: The 1-, 2-, and 3-month rates are equivalent to 30-, 60-, and 90-day dates respectively, as reported on the Board's Commercial Paper Web page.\n",
    "    E.g.: d = 365*5\n",
    "    \"\"\"\n",
    "\n",
    "    # Rename the columns of 'ytm' correctly:\n",
    "    instrument_name = ytm.columns[0][0]\n",
    "    arrays = [[instrument_name], ['YTM']]\n",
    "    tuples = list(zip(*arrays))\n",
    "    ytm.columns = pandas.MultiIndex.from_tuples(tuples,\n",
    "                                                names=['Instrument', 'Field'])\n",
    "\n",
    "    # Calculate the r_f\n",
    "    r_f = ((ytm + 1)**(1/d))-1\n",
    "\n",
    "    # Rename the columns of r_f correctly:\n",
    "    instrument_name = ytm.columns[0][0]\n",
    "    arrays = [[instrument_name], ['YTM_Implied_r_f']]\n",
    "    tuples = list(zip(*arrays))\n",
    "    r_f.columns = pandas.MultiIndex.from_tuples(tuples,\n",
    "                                                names=['Instrument', 'Field'])\n",
    "\n",
    "    # return a list including r_f 0th and ytm 1st.\n",
    "    return(r_f, ytm)"
   ]
  },
  {
   "cell_type": "markdown",
   "id": "727e5f51-17fa-402c-ac05-bc839671a1bd",
   "metadata": {},
   "source": [
    "Let's test the Python function with One-Month U.S. T.Bill:"
   ]
  },
  {
   "cell_type": "code",
   "execution_count": 18,
   "id": "79ac9330-752f-48c3-a581-ea4ebccce1b0",
   "metadata": {},
   "outputs": [],
   "source": [
    "test1m = ZCB_YTM_Implied_r_f(\n",
    "    ytm=ds.get_data(tickers='TRUS1MT', fields=\"X\",\n",
    "                    start='1950-01-01', end='2020-07-22', freq='D')/100,\n",
    "    d=30)"
   ]
  },
  {
   "cell_type": "code",
   "execution_count": 19,
   "id": "c35cdacd-bab8-4a3c-8697-0944c8c702cb",
   "metadata": {},
   "outputs": [
    {
     "data": {
      "text/html": [
       "<div>\n",
       "<style scoped>\n",
       "    .dataframe tbody tr th:only-of-type {\n",
       "        vertical-align: middle;\n",
       "    }\n",
       "\n",
       "    .dataframe tbody tr th {\n",
       "        vertical-align: top;\n",
       "    }\n",
       "\n",
       "    .dataframe thead tr th {\n",
       "        text-align: left;\n",
       "    }\n",
       "\n",
       "    .dataframe thead tr:last-of-type th {\n",
       "        text-align: right;\n",
       "    }\n",
       "</style>\n",
       "<table border=\"1\" class=\"dataframe\">\n",
       "  <thead>\n",
       "    <tr>\n",
       "      <th>Instrument</th>\n",
       "      <th>TRUS1MT</th>\n",
       "    </tr>\n",
       "    <tr>\n",
       "      <th>Field</th>\n",
       "      <th>YTM_Implied_r_f</th>\n",
       "    </tr>\n",
       "    <tr>\n",
       "      <th>Dates</th>\n",
       "      <th></th>\n",
       "    </tr>\n",
       "  </thead>\n",
       "  <tbody>\n",
       "    <tr>\n",
       "      <th>2001-07-31</th>\n",
       "      <td>0.001183</td>\n",
       "    </tr>\n",
       "    <tr>\n",
       "      <th>2001-08-01</th>\n",
       "      <td>0.001180</td>\n",
       "    </tr>\n",
       "    <tr>\n",
       "      <th>2001-08-02</th>\n",
       "      <td>0.001180</td>\n",
       "    </tr>\n",
       "    <tr>\n",
       "      <th>2001-08-03</th>\n",
       "      <td>0.001173</td>\n",
       "    </tr>\n",
       "    <tr>\n",
       "      <th>2001-08-06</th>\n",
       "      <td>0.001173</td>\n",
       "    </tr>\n",
       "    <tr>\n",
       "      <th>...</th>\n",
       "      <td>...</td>\n",
       "    </tr>\n",
       "    <tr>\n",
       "      <th>2020-07-16</th>\n",
       "      <td>0.000038</td>\n",
       "    </tr>\n",
       "    <tr>\n",
       "      <th>2020-07-17</th>\n",
       "      <td>0.000037</td>\n",
       "    </tr>\n",
       "    <tr>\n",
       "      <th>2020-07-20</th>\n",
       "      <td>0.000037</td>\n",
       "    </tr>\n",
       "    <tr>\n",
       "      <th>2020-07-21</th>\n",
       "      <td>0.000032</td>\n",
       "    </tr>\n",
       "    <tr>\n",
       "      <th>2020-07-22</th>\n",
       "      <td>0.000030</td>\n",
       "    </tr>\n",
       "  </tbody>\n",
       "</table>\n",
       "<p>4952 rows × 1 columns</p>\n",
       "</div>"
      ],
      "text/plain": [
       "Instrument         TRUS1MT\n",
       "Field      YTM_Implied_r_f\n",
       "Dates                     \n",
       "2001-07-31        0.001183\n",
       "2001-08-01        0.001180\n",
       "2001-08-02        0.001180\n",
       "2001-08-03        0.001173\n",
       "2001-08-06        0.001173\n",
       "...                    ...\n",
       "2020-07-16        0.000038\n",
       "2020-07-17        0.000037\n",
       "2020-07-20        0.000037\n",
       "2020-07-21        0.000032\n",
       "2020-07-22        0.000030\n",
       "\n",
       "[4952 rows x 1 columns]"
      ]
     },
     "execution_count": 19,
     "metadata": {},
     "output_type": "execute_result"
    }
   ],
   "source": [
    "test1m[0].dropna()"
   ]
  },
  {
   "cell_type": "code",
   "execution_count": 20,
   "id": "7ffd6d2e-eace-4c01-93d3-85734fe32325",
   "metadata": {},
   "outputs": [
    {
     "data": {
      "text/plain": [
       "Instrument  Field          \n",
       "TRUS1MT     YTM_Implied_r_f    0.048918\n",
       "Name: 2019-12-31, dtype: float64"
      ]
     },
     "execution_count": 20,
     "metadata": {},
     "output_type": "execute_result"
    }
   ],
   "source": [
    "test1m[0].dropna().loc[\"2019-12-31\"]*100"
   ]
  },
  {
   "cell_type": "code",
   "execution_count": 21,
   "id": "3bd2f85c-4fae-462c-b4c0-3cc857e2e619",
   "metadata": {},
   "outputs": [
    {
     "data": {
      "text/html": [
       "<div>\n",
       "<style scoped>\n",
       "    .dataframe tbody tr th:only-of-type {\n",
       "        vertical-align: middle;\n",
       "    }\n",
       "\n",
       "    .dataframe tbody tr th {\n",
       "        vertical-align: top;\n",
       "    }\n",
       "\n",
       "    .dataframe thead tr th {\n",
       "        text-align: left;\n",
       "    }\n",
       "\n",
       "    .dataframe thead tr:last-of-type th {\n",
       "        text-align: right;\n",
       "    }\n",
       "</style>\n",
       "<table border=\"1\" class=\"dataframe\">\n",
       "  <thead>\n",
       "    <tr>\n",
       "      <th>Instrument</th>\n",
       "      <th>TRUS1MT</th>\n",
       "    </tr>\n",
       "    <tr>\n",
       "      <th>Field</th>\n",
       "      <th>YTM</th>\n",
       "    </tr>\n",
       "    <tr>\n",
       "      <th>Dates</th>\n",
       "      <th></th>\n",
       "    </tr>\n",
       "  </thead>\n",
       "  <tbody>\n",
       "    <tr>\n",
       "      <th>2001-07-31</th>\n",
       "      <td>0.03610</td>\n",
       "    </tr>\n",
       "    <tr>\n",
       "      <th>2001-08-01</th>\n",
       "      <td>0.03600</td>\n",
       "    </tr>\n",
       "    <tr>\n",
       "      <th>2001-08-02</th>\n",
       "      <td>0.03600</td>\n",
       "    </tr>\n",
       "    <tr>\n",
       "      <th>2001-08-03</th>\n",
       "      <td>0.03580</td>\n",
       "    </tr>\n",
       "    <tr>\n",
       "      <th>2001-08-06</th>\n",
       "      <td>0.03580</td>\n",
       "    </tr>\n",
       "    <tr>\n",
       "      <th>...</th>\n",
       "      <td>...</td>\n",
       "    </tr>\n",
       "    <tr>\n",
       "      <th>2020-07-16</th>\n",
       "      <td>0.00114</td>\n",
       "    </tr>\n",
       "    <tr>\n",
       "      <th>2020-07-17</th>\n",
       "      <td>0.00112</td>\n",
       "    </tr>\n",
       "    <tr>\n",
       "      <th>2020-07-20</th>\n",
       "      <td>0.00112</td>\n",
       "    </tr>\n",
       "    <tr>\n",
       "      <th>2020-07-21</th>\n",
       "      <td>0.00096</td>\n",
       "    </tr>\n",
       "    <tr>\n",
       "      <th>2020-07-22</th>\n",
       "      <td>0.00091</td>\n",
       "    </tr>\n",
       "  </tbody>\n",
       "</table>\n",
       "<p>4952 rows × 1 columns</p>\n",
       "</div>"
      ],
      "text/plain": [
       "Instrument  TRUS1MT\n",
       "Field           YTM\n",
       "Dates              \n",
       "2001-07-31  0.03610\n",
       "2001-08-01  0.03600\n",
       "2001-08-02  0.03600\n",
       "2001-08-03  0.03580\n",
       "2001-08-06  0.03580\n",
       "...             ...\n",
       "2020-07-16  0.00114\n",
       "2020-07-17  0.00112\n",
       "2020-07-20  0.00112\n",
       "2020-07-21  0.00096\n",
       "2020-07-22  0.00091\n",
       "\n",
       "[4952 rows x 1 columns]"
      ]
     },
     "execution_count": 21,
     "metadata": {},
     "output_type": "execute_result"
    }
   ],
   "source": [
    "test1m[1].dropna()"
   ]
  },
  {
   "cell_type": "markdown",
   "id": "71e6e03b-a304-4821-ad15-e8e791a05151",
   "metadata": {},
   "source": [
    "## Note\n",
    "\n",
    "It took me a long time to search through several Datastream US Treasury Bonds to find the ones in the graph called \"Non-Comparable Yield To Maturity of US Treasury Note issued at end of Jully 2020 with fixed and DIFFEENT Coupon rates\"; bellow is a sinipet of code showing some of my results:"
   ]
  },
  {
   "cell_type": "code",
   "execution_count": 31,
   "id": "202d7329-3a2c-4e77-b328-d3dc0b3ed266",
   "metadata": {
    "tags": []
   },
   "outputs": [],
   "source": [
    "# test_df = pandas.DataFrame()\n",
    "_fields = [\"DSCD\", \"NAME\", \"ID\", \"TERM\", \"RV\", \"C\", \"CTYP\", \"RDL\"]\n",
    "_instruments = [\"253Y75\", \"600AJH\", \"601JP7\", \"602RDQ\", \"603R1R\", \"603TEX\",\n",
    "                \"604DPZ\", \"604FVT\", \"605RTD\", \"247PV6\", \"606F1L\", \"247WM3\",\n",
    "                \"603ZVZ\", \"604ECR\", \"249HFX\", \"604JH0\", \"250A11\", \"610Z60\",\n",
    "                \"611UEW\", \"608WM5\", \"612G7Y\", \"609MWJ\", \"613AQ3\", \"610JML\",\n",
    "                \"613V2R\", \"247PV5\", \"628D4U\", \"625Q7N\", \"626J83\", \"609MWK\",\n",
    "                \"627U5T\", \"612M36\", \"628GA1\", \"6146YF\", \"250A47\", \"247WM4\",\n",
    "                \"250A48\", \"250A49\", \"250A49\", \"625Q70\", \"628GAL\", \"614X79\",\n",
    "                \"606PUA\", \"21852Z\",\n",
    "                \"796H4V\", \"833HLC\", \"235FFA\"]\n",
    "for i in [\"796H4V\", \"833HLC\", \"235FFA\"]:\n",
    "    _test_df = ds.get_data(tickers=i, kind=0, fields=_fields)\n",
    "    test_df = test_df.append(pandas.DataFrame(\n",
    "        data=list(_test_df['Value'].values), index=_fields).T)"
   ]
  },
  {
   "cell_type": "code",
   "execution_count": 32,
   "id": "61d357ae-565a-402d-93b7-f4a0d29b6143",
   "metadata": {
    "tags": []
   },
   "outputs": [
    {
     "data": {
      "text/html": [
       "<div>\n",
       "<style scoped>\n",
       "    .dataframe tbody tr th:only-of-type {\n",
       "        vertical-align: middle;\n",
       "    }\n",
       "\n",
       "    .dataframe tbody tr th {\n",
       "        vertical-align: top;\n",
       "    }\n",
       "\n",
       "    .dataframe thead th {\n",
       "        text-align: right;\n",
       "    }\n",
       "</style>\n",
       "<table border=\"1\" class=\"dataframe\">\n",
       "  <thead>\n",
       "    <tr style=\"text-align: right;\">\n",
       "      <th></th>\n",
       "      <th>DSCD</th>\n",
       "      <th>NAME</th>\n",
       "      <th>ID</th>\n",
       "      <th>TERM</th>\n",
       "      <th>RV</th>\n",
       "      <th>C</th>\n",
       "      <th>CTYP</th>\n",
       "      <th>RDL</th>\n",
       "    </tr>\n",
       "  </thead>\n",
       "  <tbody>\n",
       "    <tr>\n",
       "      <th>0</th>\n",
       "      <td>253Y75</td>\n",
       "      <td>UTD.STS OF AMERICA 2020 ZERO 05/05/20</td>\n",
       "      <td>2020-03-10</td>\n",
       "      <td>0.25</td>\n",
       "      <td>100</td>\n",
       "      <td>0</td>\n",
       "      <td>ZERO</td>\n",
       "      <td>2020-05-05</td>\n",
       "    </tr>\n",
       "    <tr>\n",
       "      <th>0</th>\n",
       "      <td>600AJH</td>\n",
       "      <td>UTD.STS OF AMERICA 2020 ZERO 12/05/20</td>\n",
       "      <td>2020-03-17</td>\n",
       "      <td>0.25</td>\n",
       "      <td>100</td>\n",
       "      <td>0</td>\n",
       "      <td>ZERO</td>\n",
       "      <td>2020-05-12</td>\n",
       "    </tr>\n",
       "    <tr>\n",
       "      <th>0</th>\n",
       "      <td>601JP7</td>\n",
       "      <td>UTD.STS OF AMERICA 2020 ZERO 19/05/20</td>\n",
       "      <td>2020-03-24</td>\n",
       "      <td>0.25</td>\n",
       "      <td>100</td>\n",
       "      <td>0</td>\n",
       "      <td>ZERO</td>\n",
       "      <td>2020-05-19</td>\n",
       "    </tr>\n",
       "    <tr>\n",
       "      <th>0</th>\n",
       "      <td>602RDQ</td>\n",
       "      <td>UTD.STS OF AMERICA 2020 ZERO 26/05/20</td>\n",
       "      <td>2020-03-31</td>\n",
       "      <td>0.25</td>\n",
       "      <td>100</td>\n",
       "      <td>0</td>\n",
       "      <td>ZERO</td>\n",
       "      <td>2020-05-26</td>\n",
       "    </tr>\n",
       "    <tr>\n",
       "      <th>0</th>\n",
       "      <td>603R1R</td>\n",
       "      <td>UTD.STS OF AMERICA 2020 ZERO 02/06/20</td>\n",
       "      <td>2020-04-07</td>\n",
       "      <td>0.25</td>\n",
       "      <td>100</td>\n",
       "      <td>0</td>\n",
       "      <td>ZERO</td>\n",
       "      <td>2020-06-02</td>\n",
       "    </tr>\n",
       "    <tr>\n",
       "      <th>0</th>\n",
       "      <td>603TEX</td>\n",
       "      <td>UTD.STS OF AMERICA 2020 ZERO 09/06/20</td>\n",
       "      <td>2020-04-01</td>\n",
       "      <td>0.25</td>\n",
       "      <td>100</td>\n",
       "      <td>0</td>\n",
       "      <td>ZERO</td>\n",
       "      <td>2020-06-09</td>\n",
       "    </tr>\n",
       "    <tr>\n",
       "      <th>0</th>\n",
       "      <td>604DPZ</td>\n",
       "      <td>UTD.STS OF AMERICA 2020 ZERO 16/06/20</td>\n",
       "      <td>2020-04-08</td>\n",
       "      <td>0.25</td>\n",
       "      <td>100</td>\n",
       "      <td>0</td>\n",
       "      <td>ZERO</td>\n",
       "      <td>2020-06-16</td>\n",
       "    </tr>\n",
       "    <tr>\n",
       "      <th>0</th>\n",
       "      <td>604FVT</td>\n",
       "      <td>UTD.STS OF AMERICA 2020 ZERO 23/06/20</td>\n",
       "      <td>2020-04-15</td>\n",
       "      <td>0.25</td>\n",
       "      <td>100</td>\n",
       "      <td>0</td>\n",
       "      <td>ZERO</td>\n",
       "      <td>2020-06-23</td>\n",
       "    </tr>\n",
       "    <tr>\n",
       "      <th>0</th>\n",
       "      <td>605RTD</td>\n",
       "      <td>UTD.STS OF AMERICA 2020 ZERO 30/06/20</td>\n",
       "      <td>2020-05-05</td>\n",
       "      <td>0.25</td>\n",
       "      <td>100</td>\n",
       "      <td>0</td>\n",
       "      <td>ZERO</td>\n",
       "      <td>2020-06-30</td>\n",
       "    </tr>\n",
       "    <tr>\n",
       "      <th>0</th>\n",
       "      <td>247PV6</td>\n",
       "      <td>UTD.STS OF AMERICA 2020 ZERO 02/07/20</td>\n",
       "      <td>2020-01-02</td>\n",
       "      <td>0.5</td>\n",
       "      <td>100</td>\n",
       "      <td>0</td>\n",
       "      <td>ZERO</td>\n",
       "      <td>2020-07-02</td>\n",
       "    </tr>\n",
       "    <tr>\n",
       "      <th>0</th>\n",
       "      <td>606F1L</td>\n",
       "      <td>UTD.STS OF AMERICA 2020 ZERO 07/07/20</td>\n",
       "      <td>2020-05-12</td>\n",
       "      <td>0.25</td>\n",
       "      <td>100</td>\n",
       "      <td>0</td>\n",
       "      <td>ZERO</td>\n",
       "      <td>2020-07-07</td>\n",
       "    </tr>\n",
       "    <tr>\n",
       "      <th>0</th>\n",
       "      <td>247WM3</td>\n",
       "      <td>UTD.STS OF AMERICA 2020 ZERO 09/07/20</td>\n",
       "      <td>2020-01-09</td>\n",
       "      <td>0.5</td>\n",
       "      <td>100</td>\n",
       "      <td>0</td>\n",
       "      <td>ZERO</td>\n",
       "      <td>2020-07-09</td>\n",
       "    </tr>\n",
       "    <tr>\n",
       "      <th>0</th>\n",
       "      <td>603ZVZ</td>\n",
       "      <td>UTD.STS OF AMERICA 2020 ZERO 14/07/20</td>\n",
       "      <td>2020-04-03</td>\n",
       "      <td>0.25</td>\n",
       "      <td>100</td>\n",
       "      <td>0</td>\n",
       "      <td>ZERO</td>\n",
       "      <td>2020-07-14</td>\n",
       "    </tr>\n",
       "    <tr>\n",
       "      <th>0</th>\n",
       "      <td>604ECR</td>\n",
       "      <td>UTD.STS OF AMERICA 2020 ZERO 21/07/20</td>\n",
       "      <td>2020-04-09</td>\n",
       "      <td>0.25</td>\n",
       "      <td>100</td>\n",
       "      <td>0</td>\n",
       "      <td>ZERO</td>\n",
       "      <td>2020-07-21</td>\n",
       "    </tr>\n",
       "    <tr>\n",
       "      <th>0</th>\n",
       "      <td>249HFX</td>\n",
       "      <td>UTD.STS OF AMERICA 2020 ZERO 23/07/20</td>\n",
       "      <td>2020-01-23</td>\n",
       "      <td>0.5</td>\n",
       "      <td>100</td>\n",
       "      <td>0</td>\n",
       "      <td>ZERO</td>\n",
       "      <td>2020-07-23</td>\n",
       "    </tr>\n",
       "    <tr>\n",
       "      <th>0</th>\n",
       "      <td>604JH0</td>\n",
       "      <td>UTD.STS OF AMERICA 2020 ZERO 28/07/20</td>\n",
       "      <td>2020-04-16</td>\n",
       "      <td>0.25</td>\n",
       "      <td>100</td>\n",
       "      <td>0</td>\n",
       "      <td>ZERO</td>\n",
       "      <td>2020-07-28</td>\n",
       "    </tr>\n",
       "    <tr>\n",
       "      <th>0</th>\n",
       "      <td>250A11</td>\n",
       "      <td>UTD.STS OF AMERICA 2020 ZERO 30/07/20</td>\n",
       "      <td>2020-01-30</td>\n",
       "      <td>0.5</td>\n",
       "      <td>100</td>\n",
       "      <td>0</td>\n",
       "      <td>ZERO</td>\n",
       "      <td>2020-07-30</td>\n",
       "    </tr>\n",
       "    <tr>\n",
       "      <th>0</th>\n",
       "      <td>606PUA</td>\n",
       "      <td>UTD.STS OF AMERICA 2020 ZERO 12/11/20</td>\n",
       "      <td>2020-05-14</td>\n",
       "      <td>0.5</td>\n",
       "      <td>100</td>\n",
       "      <td>0</td>\n",
       "      <td>ZERO</td>\n",
       "      <td>2020-11-12</td>\n",
       "    </tr>\n",
       "    <tr>\n",
       "      <th>0</th>\n",
       "      <td>610Z60</td>\n",
       "      <td>UTD.STS OF AMERICA 2020 ZERO 01/12/20</td>\n",
       "      <td>2020-06-30</td>\n",
       "      <td>0.5</td>\n",
       "      <td>100</td>\n",
       "      <td>0</td>\n",
       "      <td>ZERO</td>\n",
       "      <td>2020-12-01</td>\n",
       "    </tr>\n",
       "    <tr>\n",
       "      <th>0</th>\n",
       "      <td>611UEW</td>\n",
       "      <td>UTD.STS OF AMERICA 2020 ZERO 08/12/20</td>\n",
       "      <td>2020-07-07</td>\n",
       "      <td>0.5</td>\n",
       "      <td>100</td>\n",
       "      <td>0</td>\n",
       "      <td>ZERO</td>\n",
       "      <td>2020-12-08</td>\n",
       "    </tr>\n",
       "    <tr>\n",
       "      <th>0</th>\n",
       "      <td>608WM5</td>\n",
       "      <td>UTD.STS OF AMERICA 2020 ZERO 10/12/20</td>\n",
       "      <td>2020-06-11</td>\n",
       "      <td>0.5</td>\n",
       "      <td>100</td>\n",
       "      <td>0</td>\n",
       "      <td>ZERO</td>\n",
       "      <td>2020-12-10</td>\n",
       "    </tr>\n",
       "    <tr>\n",
       "      <th>0</th>\n",
       "      <td>612G7Y</td>\n",
       "      <td>UTD.STS OF AMERICA 2020 ZERO 15/12/20</td>\n",
       "      <td>2020-07-14</td>\n",
       "      <td>0.5</td>\n",
       "      <td>100</td>\n",
       "      <td>0</td>\n",
       "      <td>ZERO</td>\n",
       "      <td>2020-12-15</td>\n",
       "    </tr>\n",
       "    <tr>\n",
       "      <th>0</th>\n",
       "      <td>609MWJ</td>\n",
       "      <td>UTD.STS OF AMERICA 2020 ZERO 17/12/20</td>\n",
       "      <td>2020-06-18</td>\n",
       "      <td>0.5</td>\n",
       "      <td>100</td>\n",
       "      <td>0</td>\n",
       "      <td>ZERO</td>\n",
       "      <td>2020-12-17</td>\n",
       "    </tr>\n",
       "    <tr>\n",
       "      <th>0</th>\n",
       "      <td>613AQ3</td>\n",
       "      <td>UTD.STS OF AMERICA 2020 ZERO 22/12/20</td>\n",
       "      <td>2020-07-21</td>\n",
       "      <td>0.5</td>\n",
       "      <td>100</td>\n",
       "      <td>0</td>\n",
       "      <td>ZERO</td>\n",
       "      <td>2020-12-22</td>\n",
       "    </tr>\n",
       "    <tr>\n",
       "      <th>0</th>\n",
       "      <td>610JML</td>\n",
       "      <td>UTD.STS OF AMERICA 2020 ZERO 24/12/20</td>\n",
       "      <td>2020-06-25</td>\n",
       "      <td>0.5</td>\n",
       "      <td>100</td>\n",
       "      <td>0</td>\n",
       "      <td>ZERO</td>\n",
       "      <td>2020-12-24</td>\n",
       "    </tr>\n",
       "    <tr>\n",
       "      <th>0</th>\n",
       "      <td>613V2R</td>\n",
       "      <td>UTD.STS OF AMERICA 2020 ZERO 29/12/20</td>\n",
       "      <td>2020-07-28</td>\n",
       "      <td>0.5</td>\n",
       "      <td>100</td>\n",
       "      <td>0</td>\n",
       "      <td>ZERO</td>\n",
       "      <td>2020-12-29</td>\n",
       "    </tr>\n",
       "    <tr>\n",
       "      <th>0</th>\n",
       "      <td>247PV5</td>\n",
       "      <td>UTD.STS OF AMERICA 2020 ZERO 31/12/20</td>\n",
       "      <td>2020-01-02</td>\n",
       "      <td>1</td>\n",
       "      <td>100</td>\n",
       "      <td>0</td>\n",
       "      <td>ZERO</td>\n",
       "      <td>2020-12-31</td>\n",
       "    </tr>\n",
       "    <tr>\n",
       "      <th>0</th>\n",
       "      <td>614X79</td>\n",
       "      <td>UTD.STS OF AMERICA 2020 ZERO 12/01/21</td>\n",
       "      <td>2020-08-11</td>\n",
       "      <td>0.5</td>\n",
       "      <td>100</td>\n",
       "      <td>0</td>\n",
       "      <td>ZERO</td>\n",
       "      <td>2021-01-12</td>\n",
       "    </tr>\n",
       "    <tr>\n",
       "      <th>0</th>\n",
       "      <td>628D4U</td>\n",
       "      <td>UTD.STS OF AMERICA 2020 ZERO 01/06/21</td>\n",
       "      <td>2020-12-29</td>\n",
       "      <td>0.5</td>\n",
       "      <td>100</td>\n",
       "      <td>0</td>\n",
       "      <td>ZERO</td>\n",
       "      <td>2021-06-01</td>\n",
       "    </tr>\n",
       "    <tr>\n",
       "      <th>0</th>\n",
       "      <td>625Q7N</td>\n",
       "      <td>UTD.STS OF AMERICA 2020 ZERO 03/06/21</td>\n",
       "      <td>2020-12-03</td>\n",
       "      <td>0.5</td>\n",
       "      <td>100</td>\n",
       "      <td>0</td>\n",
       "      <td>ZERO</td>\n",
       "      <td>2021-06-03</td>\n",
       "    </tr>\n",
       "    <tr>\n",
       "      <th>0</th>\n",
       "      <td>626J83</td>\n",
       "      <td>UTD.STS OF AMERICA 2020 ZERO 10/06/21</td>\n",
       "      <td>2020-12-10</td>\n",
       "      <td>0.5</td>\n",
       "      <td>100</td>\n",
       "      <td>0</td>\n",
       "      <td>ZERO</td>\n",
       "      <td>2021-06-10</td>\n",
       "    </tr>\n",
       "    <tr>\n",
       "      <th>0</th>\n",
       "      <td>609MWK</td>\n",
       "      <td>UTD.STS OF AMERICA 2020 ZERO 17/06/21</td>\n",
       "      <td>2020-06-18</td>\n",
       "      <td>1</td>\n",
       "      <td>100</td>\n",
       "      <td>0</td>\n",
       "      <td>ZERO</td>\n",
       "      <td>2021-06-17</td>\n",
       "    </tr>\n",
       "    <tr>\n",
       "      <th>0</th>\n",
       "      <td>627U5T</td>\n",
       "      <td>UTD.STS OF AMERICA 2020 ZERO 24/06/21</td>\n",
       "      <td>2020-12-24</td>\n",
       "      <td>0.5</td>\n",
       "      <td>100</td>\n",
       "      <td>0</td>\n",
       "      <td>ZERO</td>\n",
       "      <td>2021-06-24</td>\n",
       "    </tr>\n",
       "    <tr>\n",
       "      <th>0</th>\n",
       "      <td>628GA1</td>\n",
       "      <td>UTD.STS OF AMERICA 2020 ZERO 01/07/21</td>\n",
       "      <td>2020-12-31</td>\n",
       "      <td>0.5</td>\n",
       "      <td>100</td>\n",
       "      <td>0</td>\n",
       "      <td>ZERO</td>\n",
       "      <td>2021-07-01</td>\n",
       "    </tr>\n",
       "    <tr>\n",
       "      <th>0</th>\n",
       "      <td>612M36</td>\n",
       "      <td>UTD.STS OF AMERICA 2020 ZERO 15/07/21</td>\n",
       "      <td>2020-07-16</td>\n",
       "      <td>1</td>\n",
       "      <td>100</td>\n",
       "      <td>0</td>\n",
       "      <td>ZERO</td>\n",
       "      <td>2021-07-15</td>\n",
       "    </tr>\n",
       "    <tr>\n",
       "      <th>0</th>\n",
       "      <td>796H4V</td>\n",
       "      <td>US TREASURY NOTE 2014 2 1/4% 31/07/21 N-2021</td>\n",
       "      <td>2014-07-31</td>\n",
       "      <td>7</td>\n",
       "      <td>100</td>\n",
       "      <td>2.25</td>\n",
       "      <td>FIX</td>\n",
       "      <td>2021-07-31</td>\n",
       "    </tr>\n",
       "    <tr>\n",
       "      <th>0</th>\n",
       "      <td>833HLC</td>\n",
       "      <td>US TREASURY NOTE 2016 1 1/8% 31/07/21 AB-2021</td>\n",
       "      <td>2016-07-31</td>\n",
       "      <td>5</td>\n",
       "      <td>100</td>\n",
       "      <td>1.125</td>\n",
       "      <td>FIX</td>\n",
       "      <td>2021-07-31</td>\n",
       "    </tr>\n",
       "    <tr>\n",
       "      <th>0</th>\n",
       "      <td>235FFA</td>\n",
       "      <td>US TREASURY NOTE 2019 1 3/4% 31/07/21 BD-2021</td>\n",
       "      <td>2019-07-31</td>\n",
       "      <td>2</td>\n",
       "      <td>100</td>\n",
       "      <td>1.75</td>\n",
       "      <td>FIX</td>\n",
       "      <td>2021-07-31</td>\n",
       "    </tr>\n",
       "    <tr>\n",
       "      <th>0</th>\n",
       "      <td>6146YF</td>\n",
       "      <td>UTD.STS OF AMERICA 2020 ZERO 12/08/21</td>\n",
       "      <td>2020-08-13</td>\n",
       "      <td>1</td>\n",
       "      <td>100</td>\n",
       "      <td>0</td>\n",
       "      <td>ZERO</td>\n",
       "      <td>2021-08-12</td>\n",
       "    </tr>\n",
       "    <tr>\n",
       "      <th>0</th>\n",
       "      <td>625Q70</td>\n",
       "      <td>UTD.STS OF AMERICA 2020 ZERO 02/12/21</td>\n",
       "      <td>2020-12-03</td>\n",
       "      <td>1</td>\n",
       "      <td>100</td>\n",
       "      <td>0</td>\n",
       "      <td>ZERO</td>\n",
       "      <td>2021-12-02</td>\n",
       "    </tr>\n",
       "    <tr>\n",
       "      <th>0</th>\n",
       "      <td>628GAL</td>\n",
       "      <td>UTD.STS OF AMERICA 2020 ZERO 30/12/21</td>\n",
       "      <td>2020-12-31</td>\n",
       "      <td>1</td>\n",
       "      <td>100</td>\n",
       "      <td>0</td>\n",
       "      <td>ZERO</td>\n",
       "      <td>2021-12-30</td>\n",
       "    </tr>\n",
       "    <tr>\n",
       "      <th>0</th>\n",
       "      <td>21852Z</td>\n",
       "      <td>US TREASURY NOTE 2019 2 1/2% 15/01/22 AH-2022</td>\n",
       "      <td>2019-01-15</td>\n",
       "      <td>3</td>\n",
       "      <td>100</td>\n",
       "      <td>2.5</td>\n",
       "      <td>FIX</td>\n",
       "      <td>2022-01-15</td>\n",
       "    </tr>\n",
       "    <tr>\n",
       "      <th>0</th>\n",
       "      <td>250A47</td>\n",
       "      <td>US TREASURY NOTE 2020 1 3/8% 31/01/22 AV-2022</td>\n",
       "      <td>2020-01-31</td>\n",
       "      <td>2</td>\n",
       "      <td>100</td>\n",
       "      <td>1.375</td>\n",
       "      <td>FIX</td>\n",
       "      <td>2022-01-31</td>\n",
       "    </tr>\n",
       "    <tr>\n",
       "      <th>0</th>\n",
       "      <td>247WM4</td>\n",
       "      <td>US TREASURY NOTE 2020 1 1/2% 15/01/23 AH-2023</td>\n",
       "      <td>2020-01-15</td>\n",
       "      <td>3</td>\n",
       "      <td>100</td>\n",
       "      <td>1.5</td>\n",
       "      <td>FIX</td>\n",
       "      <td>2023-01-15</td>\n",
       "    </tr>\n",
       "    <tr>\n",
       "      <th>0</th>\n",
       "      <td>250A48</td>\n",
       "      <td>US TREASURY NOTE 2020 1 3/8% 31/01/25 U-2025</td>\n",
       "      <td>2020-01-31</td>\n",
       "      <td>5</td>\n",
       "      <td>100</td>\n",
       "      <td>1.375</td>\n",
       "      <td>FIX</td>\n",
       "      <td>2025-01-31</td>\n",
       "    </tr>\n",
       "    <tr>\n",
       "      <th>0</th>\n",
       "      <td>250A49</td>\n",
       "      <td>US TREASURY NOTE 2020 1 1/2% 31/01/27 G-2027</td>\n",
       "      <td>2020-01-31</td>\n",
       "      <td>7</td>\n",
       "      <td>100</td>\n",
       "      <td>1.5</td>\n",
       "      <td>FIX</td>\n",
       "      <td>2027-01-31</td>\n",
       "    </tr>\n",
       "    <tr>\n",
       "      <th>0</th>\n",
       "      <td>250A49</td>\n",
       "      <td>US TREASURY NOTE 2020 1 1/2% 31/01/27 G-2027</td>\n",
       "      <td>2020-01-31</td>\n",
       "      <td>7</td>\n",
       "      <td>100</td>\n",
       "      <td>1.5</td>\n",
       "      <td>FIX</td>\n",
       "      <td>2027-01-31</td>\n",
       "    </tr>\n",
       "  </tbody>\n",
       "</table>\n",
       "</div>"
      ],
      "text/plain": [
       "     DSCD                                           NAME          ID  TERM  \\\n",
       "0  253Y75          UTD.STS OF AMERICA 2020 ZERO 05/05/20  2020-03-10  0.25   \n",
       "0  600AJH          UTD.STS OF AMERICA 2020 ZERO 12/05/20  2020-03-17  0.25   \n",
       "0  601JP7          UTD.STS OF AMERICA 2020 ZERO 19/05/20  2020-03-24  0.25   \n",
       "0  602RDQ          UTD.STS OF AMERICA 2020 ZERO 26/05/20  2020-03-31  0.25   \n",
       "0  603R1R          UTD.STS OF AMERICA 2020 ZERO 02/06/20  2020-04-07  0.25   \n",
       "0  603TEX          UTD.STS OF AMERICA 2020 ZERO 09/06/20  2020-04-01  0.25   \n",
       "0  604DPZ          UTD.STS OF AMERICA 2020 ZERO 16/06/20  2020-04-08  0.25   \n",
       "0  604FVT          UTD.STS OF AMERICA 2020 ZERO 23/06/20  2020-04-15  0.25   \n",
       "0  605RTD          UTD.STS OF AMERICA 2020 ZERO 30/06/20  2020-05-05  0.25   \n",
       "0  247PV6          UTD.STS OF AMERICA 2020 ZERO 02/07/20  2020-01-02   0.5   \n",
       "0  606F1L          UTD.STS OF AMERICA 2020 ZERO 07/07/20  2020-05-12  0.25   \n",
       "0  247WM3          UTD.STS OF AMERICA 2020 ZERO 09/07/20  2020-01-09   0.5   \n",
       "0  603ZVZ          UTD.STS OF AMERICA 2020 ZERO 14/07/20  2020-04-03  0.25   \n",
       "0  604ECR          UTD.STS OF AMERICA 2020 ZERO 21/07/20  2020-04-09  0.25   \n",
       "0  249HFX          UTD.STS OF AMERICA 2020 ZERO 23/07/20  2020-01-23   0.5   \n",
       "0  604JH0          UTD.STS OF AMERICA 2020 ZERO 28/07/20  2020-04-16  0.25   \n",
       "0  250A11          UTD.STS OF AMERICA 2020 ZERO 30/07/20  2020-01-30   0.5   \n",
       "0  606PUA          UTD.STS OF AMERICA 2020 ZERO 12/11/20  2020-05-14   0.5   \n",
       "0  610Z60          UTD.STS OF AMERICA 2020 ZERO 01/12/20  2020-06-30   0.5   \n",
       "0  611UEW          UTD.STS OF AMERICA 2020 ZERO 08/12/20  2020-07-07   0.5   \n",
       "0  608WM5          UTD.STS OF AMERICA 2020 ZERO 10/12/20  2020-06-11   0.5   \n",
       "0  612G7Y          UTD.STS OF AMERICA 2020 ZERO 15/12/20  2020-07-14   0.5   \n",
       "0  609MWJ          UTD.STS OF AMERICA 2020 ZERO 17/12/20  2020-06-18   0.5   \n",
       "0  613AQ3          UTD.STS OF AMERICA 2020 ZERO 22/12/20  2020-07-21   0.5   \n",
       "0  610JML          UTD.STS OF AMERICA 2020 ZERO 24/12/20  2020-06-25   0.5   \n",
       "0  613V2R          UTD.STS OF AMERICA 2020 ZERO 29/12/20  2020-07-28   0.5   \n",
       "0  247PV5          UTD.STS OF AMERICA 2020 ZERO 31/12/20  2020-01-02     1   \n",
       "0  614X79          UTD.STS OF AMERICA 2020 ZERO 12/01/21  2020-08-11   0.5   \n",
       "0  628D4U          UTD.STS OF AMERICA 2020 ZERO 01/06/21  2020-12-29   0.5   \n",
       "0  625Q7N          UTD.STS OF AMERICA 2020 ZERO 03/06/21  2020-12-03   0.5   \n",
       "0  626J83          UTD.STS OF AMERICA 2020 ZERO 10/06/21  2020-12-10   0.5   \n",
       "0  609MWK          UTD.STS OF AMERICA 2020 ZERO 17/06/21  2020-06-18     1   \n",
       "0  627U5T          UTD.STS OF AMERICA 2020 ZERO 24/06/21  2020-12-24   0.5   \n",
       "0  628GA1          UTD.STS OF AMERICA 2020 ZERO 01/07/21  2020-12-31   0.5   \n",
       "0  612M36          UTD.STS OF AMERICA 2020 ZERO 15/07/21  2020-07-16     1   \n",
       "0  796H4V   US TREASURY NOTE 2014 2 1/4% 31/07/21 N-2021  2014-07-31     7   \n",
       "0  833HLC  US TREASURY NOTE 2016 1 1/8% 31/07/21 AB-2021  2016-07-31     5   \n",
       "0  235FFA  US TREASURY NOTE 2019 1 3/4% 31/07/21 BD-2021  2019-07-31     2   \n",
       "0  6146YF          UTD.STS OF AMERICA 2020 ZERO 12/08/21  2020-08-13     1   \n",
       "0  625Q70          UTD.STS OF AMERICA 2020 ZERO 02/12/21  2020-12-03     1   \n",
       "0  628GAL          UTD.STS OF AMERICA 2020 ZERO 30/12/21  2020-12-31     1   \n",
       "0  21852Z  US TREASURY NOTE 2019 2 1/2% 15/01/22 AH-2022  2019-01-15     3   \n",
       "0  250A47  US TREASURY NOTE 2020 1 3/8% 31/01/22 AV-2022  2020-01-31     2   \n",
       "0  247WM4  US TREASURY NOTE 2020 1 1/2% 15/01/23 AH-2023  2020-01-15     3   \n",
       "0  250A48   US TREASURY NOTE 2020 1 3/8% 31/01/25 U-2025  2020-01-31     5   \n",
       "0  250A49   US TREASURY NOTE 2020 1 1/2% 31/01/27 G-2027  2020-01-31     7   \n",
       "0  250A49   US TREASURY NOTE 2020 1 1/2% 31/01/27 G-2027  2020-01-31     7   \n",
       "\n",
       "    RV      C  CTYP         RDL  \n",
       "0  100      0  ZERO  2020-05-05  \n",
       "0  100      0  ZERO  2020-05-12  \n",
       "0  100      0  ZERO  2020-05-19  \n",
       "0  100      0  ZERO  2020-05-26  \n",
       "0  100      0  ZERO  2020-06-02  \n",
       "0  100      0  ZERO  2020-06-09  \n",
       "0  100      0  ZERO  2020-06-16  \n",
       "0  100      0  ZERO  2020-06-23  \n",
       "0  100      0  ZERO  2020-06-30  \n",
       "0  100      0  ZERO  2020-07-02  \n",
       "0  100      0  ZERO  2020-07-07  \n",
       "0  100      0  ZERO  2020-07-09  \n",
       "0  100      0  ZERO  2020-07-14  \n",
       "0  100      0  ZERO  2020-07-21  \n",
       "0  100      0  ZERO  2020-07-23  \n",
       "0  100      0  ZERO  2020-07-28  \n",
       "0  100      0  ZERO  2020-07-30  \n",
       "0  100      0  ZERO  2020-11-12  \n",
       "0  100      0  ZERO  2020-12-01  \n",
       "0  100      0  ZERO  2020-12-08  \n",
       "0  100      0  ZERO  2020-12-10  \n",
       "0  100      0  ZERO  2020-12-15  \n",
       "0  100      0  ZERO  2020-12-17  \n",
       "0  100      0  ZERO  2020-12-22  \n",
       "0  100      0  ZERO  2020-12-24  \n",
       "0  100      0  ZERO  2020-12-29  \n",
       "0  100      0  ZERO  2020-12-31  \n",
       "0  100      0  ZERO  2021-01-12  \n",
       "0  100      0  ZERO  2021-06-01  \n",
       "0  100      0  ZERO  2021-06-03  \n",
       "0  100      0  ZERO  2021-06-10  \n",
       "0  100      0  ZERO  2021-06-17  \n",
       "0  100      0  ZERO  2021-06-24  \n",
       "0  100      0  ZERO  2021-07-01  \n",
       "0  100      0  ZERO  2021-07-15  \n",
       "0  100   2.25   FIX  2021-07-31  \n",
       "0  100  1.125   FIX  2021-07-31  \n",
       "0  100   1.75   FIX  2021-07-31  \n",
       "0  100      0  ZERO  2021-08-12  \n",
       "0  100      0  ZERO  2021-12-02  \n",
       "0  100      0  ZERO  2021-12-30  \n",
       "0  100    2.5   FIX  2022-01-15  \n",
       "0  100  1.375   FIX  2022-01-31  \n",
       "0  100    1.5   FIX  2023-01-15  \n",
       "0  100  1.375   FIX  2025-01-31  \n",
       "0  100    1.5   FIX  2027-01-31  \n",
       "0  100    1.5   FIX  2027-01-31  "
      ]
     },
     "execution_count": 32,
     "metadata": {},
     "output_type": "execute_result"
    }
   ],
   "source": [
    "test_df.sort_values(by=[\"RDL\"])"
   ]
  },
  {
   "cell_type": "markdown",
   "id": "c92457a1-896b-448e-8657-ef6c3dea6a03",
   "metadata": {},
   "source": [
    "## References\n",
    "\n",
    "### Datastream\n",
    "- [REFINITIV INDICES GOVERNMENT BOND INDICES](https://www.refinitiv.com/content/dam/marketing/en_us/documents/methodology/government-bond-indices-user-guide.pdf)\n",
    "- https://product.datastream.com/browse/search.aspx?dsid=ZRQW955&AppGroup=DSAddin&q=US+2020+ZERO+DESC%3Aand(*%2F07%2F20*)&prev=99_US+2020+ZERO+DESC%3Aand(*%2F05%2F20*)&nav_category=13\n",
    "- https://product.datastream.com/browse/search.aspx?dsid=ZRQW955&AppGroup=DSAddin&q=UTD.STS+OF+AMERICA+2020+ZERO+DESC%3Aand(*%2F08%2F21*)&prev=99_UTD.STS+OF+AMERICA+2020+ZERO+DESC%3Aand(*%2F07%2F21*)&nav_category=13\n",
    "- https://product.datastream.com/browse/search.aspx?dsid=ZRQW955&AppGroup=DSAddin&q=UTD.STS+OF+AMERICA+2020+ZERO+29%2F06%2F21&prev=99_UTD.STS+OF+AMERICA+2020+ZERO+29%2F12%2F20&nav_category=13\n",
    "- https://product.datastream.com/browse/search.aspx?dsid=ZRQW955&AppGroup=DSAddin&q=US+Treasury+2020+DESC%3Aand(*%2F01%2F22*)&prev=99_US+Treasury+2020+DESC%3Aand(*%2F07%2F20*)&nav_category=13\n",
    "- https://product.datastream.com/browse/search.aspx?dsid=ZRQW955&AppGroup=DSAddin&q=US+2020+DESC%3Aand(*%2F01%2F21*)&prev=99_US+2020+ZERO+DESC%3Aand(*%2F07%2F20*)&nav_category=13\n",
    "\n",
    "\n",
    "### Yield Optimisation\n",
    "- [scipy.optimize.newton](https://docs.scipy.org/doc/scipy/reference/generated/scipy.optimize.newton.html)\n",
    "\n",
    "### Miscellaneous\n",
    "- [Bootstrapped spot rates with missing bonds](https://www.reddit.com/r/askfinance/comments/ojkphx/bootstrapped_spot_rates_with_missing_bonds/)\n",
    "- [Bootstrapping the Zero Curve and Forward Rates - Straight Line Interpolation](https://financetrainingcourse.com/education/2016/10/bootstrapping-zero-curve-forward-rates/)\n",
    "- [cubic spline interpolation](https://www.google.com/search?q=cubic+spline+interpolation&rlz=1C1GCEA_en__890__890&oq=cubic+spline+interpolation&aqs=chrome..69i57j0l9.540j0j4&sourceid=chrome&ie=UTF-8)\n",
    "- [Building Search into your Application Workflow](https://developers.refinitiv.com/en/article-catalog/article/building-search-into-your-application-workflow)\n",
    "- [What is Bootstrapping?](https://www.educba.com/bootstrapping-examples/)\n",
    "- [How to calculate Yield To Maturity with Python](https://medium.com/@gennadii.turutin/how-to-calculate-yield-to-maturity-with-python-65a9a34d56f3)"
   ]
  },
  {
   "cell_type": "code",
   "execution_count": null,
   "id": "1fcef4e1-4f1d-469a-97cb-aa9e3139a746",
   "metadata": {},
   "outputs": [],
   "source": []
  }
 ],
 "metadata": {
  "kernelspec": {
   "display_name": "Python 3",
   "language": "python",
   "name": "python3"
  },
  "language_info": {
   "codemirror_mode": {
    "name": "ipython",
    "version": 3
   },
   "file_extension": ".py",
   "mimetype": "text/x-python",
   "name": "python",
   "nbconvert_exporter": "python",
   "pygments_lexer": "ipython3",
   "version": "3.8.2"
  }
 },
 "nbformat": 4,
 "nbformat_minor": 5
}
