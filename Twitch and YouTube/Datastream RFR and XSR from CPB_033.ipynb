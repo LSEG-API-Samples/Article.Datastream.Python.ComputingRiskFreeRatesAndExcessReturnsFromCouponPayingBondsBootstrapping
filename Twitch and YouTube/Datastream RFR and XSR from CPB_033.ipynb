{
 "cells": [
  {
   "cell_type": "markdown",
   "id": "f80e5083-ab84-4371-a677-3b897c10cd81",
   "metadata": {},
   "source": [
    "# Refinitiv Academic Article Series:\n",
    "# Economics and Finance 101:\n",
    "# Computing Risk Free Rates and Excess Returns ($r_f$) Part 2: From Sovereign Coupon-Paying-Bonds (and Bootstrapping / Spot Rates / Discount-Factors)"
   ]
  },
  {
   "cell_type": "markdown",
   "id": "f5e9a265-8d7a-46f1-b509-35402829541e",
   "metadata": {},
   "source": [
    "Our [previous article](https://developers.refinitiv.com/en/article-catalog/article/computing-risk-free-rates-and-excess-returns-from-zero-coupon-bonds) explained what *Net Present Values*, *Face Values*, *Maturities*, *Coupons*, and *risk-free rates* are, how to compute them, and how they are used to calculate *excess returns* using only [Zero-Coupon Bonds](https://www.investopedia.com/terms/z/zero-couponbond.asp); in this article, we look at Coupon Paying Bonds, particularly *Cash Flow* incurred by Coupons, *Bootstrapping* and particularities about *Sovereign Bond* data. Very little is changed in this article until the '[Coupon Paying Rate](#CouponPayingRate)' section. It is aimed at academics from undergraduate level up, and thus will explain all mathematical notations to ensure that there is no confusion and so that anyone - no matter their expertise on the subject - can follow."
   ]
  },
  {
   "cell_type": "markdown",
   "id": "2e461b52-2cbb-47ed-93c2-37feaf707502",
   "metadata": {},
   "source": [
    "One may find many uses for the methods outlined below. For example: To calculate metrics such as the [Sharpe-Ratio](https://www.investopedia.com/terms/s/sharperatio.asp), one needs first to calculate *excess returns*, that then necessitates the calculation of *risk-free rates of return*."
   ]
  },
  {
   "cell_type": "markdown",
   "id": "59d1b0b2-b6c8-4ee9-aed1-92f9357c4347",
   "metadata": {},
   "source": [
    "## Use of Government Bonds in calculating risk-free rates <a class=\"anchor\" id=\"UseofGovernmentBondsincalculatingriskfreerates\"></a>\n",
    "\n",
    "As afformentioned in our [previous article](https://developers.refinitiv.com/en/article-catalog/article/computing-risk-free-rates-and-excess-returns-from-zero-coupon-bonds), only certain banks have access to the primary sovereign bond markets where they may purchase Domestic Sovereign/Government Bonds. There are many such types of bonds. Among others, there are:\n",
    "\n",
    "\n",
    "- United States (US): US Treasury securities are issued by the US Department of the Treasury and backed by the US government.\n",
    "    - Fixed principal: A principal is the amount due on a debt. In the case of bonds, it is often referred to as the Face Value. The Face Value of all US Treasury securities is 1000 US Dollars (USD)\n",
    "        - Treasury‐bills (as known as (a.k.a.): T-bills) have a maturity of less than a year (< 1 yr). These are bonds that do not pay coupons (**Zero-Coupon Bonds**).\n",
    "        - Treasury‐notes (a.k.a.: T‐notes) have a maturity between 1 and 10 years (1‐10 yrs).\n",
    "        - Treasury-bonds (a.k.a.: T‐bonds)  have a maturity between 10 and 30 years (10‐30 yrs). It is confusing calling a sub-set of bonds 'T-bonds', but that is their naming conventions. To avoid confusion, I will always refer to them explicitly as Treasury-bonds (or T‐bonds), not just bonds.\n",
    "    - Inflation‐indexed: TIPS\n",
    "    - Treasury STRIPS (created by private sector, not the US government)\n",
    "\n",
    "\n",
    "- United Kingdom: Since1998, gilts have been issued by the UK Debt Management Office (DMO), an executive agency of the HMT (Her Majesty's  Treasury).\n",
    "    - Conventional gilts: Short (< 5 yrs), medium (5‐15 yrs), long (> 15 yrs)\n",
    "    - Inflation‐indexed gilts\n",
    "\n",
    "\n",
    "- Japan\n",
    "    - Medium term (2, 3, 4 yrs), long term (10 yrs), super long term (15, 20 yrs)\n",
    "\n",
    "\n",
    "- Eurozone government bonds\n",
    "\n",
    "\n",
    "There are several ways to compute risk-free rates based on bonds. In this article, we will focus on T-bills, as US Sovereign Bonds are often deemed the safest (which is a reason why the USD is named the [world's reserve currency](https://www.investopedia.com/articles/forex-currencies/092316/how-us-dollar-became-worlds-reserve-currency.asp#:~:text=Standing%20on%20Its%20Own%20as,accumulated%20reserves%20of%20U.S.%20dollars.)) and T-bills are an example of Zero-Coupon Bonds (as per [the method outlined by the Business Research Plus](https://bizlib247.wordpress.com/2013/01/18/risk-free-rate-and-fama-french-factors/)). From there, a risk-free rate of return can be computed as **[implied by its bond's Yield To Maturity](#1)** and **[based the change in the same bond's market price from  one day to the next](#2)**."
   ]
  },
  {
   "cell_type": "markdown",
   "id": "06dd08fb-b464-445a-9ce0-c3b84a50f2ee",
   "metadata": {},
   "source": [
    "$$ \\\\ $$\n",
    "## YTM of Coupon Paying Bonds <a class=\"anchor\" id=\"1\"></a>"
   ]
  },
  {
   "cell_type": "markdown",
   "id": "8a0db89b-8979-4666-bee5-7e4aece7cd3d",
   "metadata": {},
   "source": [
    "### US Treasury Securities: Generalised <a class=\"anchor\" id=\"USTreasurySecuritiesGeneralised\"></a>"
   ]
  },
  {
   "cell_type": "markdown",
   "id": "44d85442-4c16-4cec-997a-901b9b06507d",
   "metadata": {},
   "source": [
    "A bond is a debt; a debt with the promise to pay a [Face Value](https://www.investopedia.com/terms/f/facevalue.asp) ($FV$) in $m$ years (m for maturity) in the future as well as [Coupons](https://www.investopedia.com/terms/c/coupon.asp) (summing to $C$ every year) for an amount today. That latter amount paid for the bond may be fair; a fair value at time of the Bond's issue ($t$) is calculated as its [Net Present Value](https://www.investopedia.com/terms/n/npv.asp) ($NPV$) such that:"
   ]
  },
  {
   "cell_type": "markdown",
   "id": "015c72d4-c5fd-4125-b4fe-81ca94922c02",
   "metadata": {},
   "source": [
    "$$ NPV_{f_{\\text{acf}}, t} = \n",
    "    \\begin{Bmatrix}\n",
    "         \\frac{FV_t}{\\left(1 + f_{\\text{acf}} \\text{ } YTM_t\\right)^\\frac{m}{f_{\\text{acf}}}} + \\sum^{^\\frac{m}{f_{\\text{acf}}}}_{\\tau=1} {\\frac{f_{\\text{acf}} \\text{ } C}{ (1 + f_{\\text{acf}} \\text{ } YTM_t)^{\\tau} }} & \\text{if } m \\geq f_{\\text{acf}} \\\\\n",
    "         \\\\\n",
    "         \\frac{FV_t + m \\text{ } C}{\\left(1 + \\text{ } m \\text{ } YTM_t\\right)} & \\text{if } m < f_{\\text{acf}}\n",
    "     \\end{Bmatrix}\n",
    "$$"
   ]
  },
  {
   "cell_type": "markdown",
   "id": "0850f28d-5c13-455b-9631-075075671b88",
   "metadata": {
    "tags": []
   },
   "source": [
    "where $YTM$ is the annualised [Yield To Maturity](https://www.investopedia.com/terms/y/yieldtomaturity.asp) of the Bond in question and $f_{\\text{acf}}$ is the annual [compound](https://www.investopedia.com/terms/c/compounding.asp#:~:text=Compounding%20is%20the%20process%20whereby,called%20%22miracle%20of%20compounding.%22) frequency (such that if we compound cash flows annually, $f_{\\text{acf}} = 1$; and if we compound cash flows bi-annually (*i.e.*: twice a year / every 6 months), $f_{\\text{acf}} = 0.5$)."
   ]
  },
  {
   "cell_type": "markdown",
   "id": "3b969dc5-1e84-4bac-b65a-12c50e23215d",
   "metadata": {
    "tags": []
   },
   "source": [
    "#### Annual Coupon Payment Frequency <a class=\"anchor\" id=\"AnnualCouponPaymentFrequency\"></a>\n",
    "Coupons are paid at a fixed 'annual Coupon payment frequency' ($f_{ac \\mathbf{p} f}$). Usually, the following are true:\n",
    "- $f_{ac \\mathbf{p} f} = 0.5$, *i.e.*: Coupon payments are made every 6 months (*i.e.*: semi-annually)\n",
    "- $f_{\\text{acf}}$ is set to the $f_{ac \\mathbf{p} f}$ such that $f_{ac \\mathbf{p} f} = f_{ac \\mathbf{p} f}$\n",
    "- Thus $f_{acf} = f_{ac \\mathbf{p} f} = 0.5$."
   ]
  },
  {
   "cell_type": "markdown",
   "id": "27f57815-3d79-4745-8445-fb3b11864043",
   "metadata": {
    "tags": []
   },
   "source": [
    "#### Sub-Annual Interpolation of YTMs <a class=\"anchor\" id=\"SubAnnualInterpolationofYTMs\"></a>\n",
    "Note that when using YTM values inter-year (*e.g.*: after 6 month), we then use a fraction of it, i.e.: $f_{\\text{acf}} \\text{ } YTM$. This is because all YTM values are annualised and - in accounting standards - *sub-annual* interpolation of YTMs are always [linear/arithmetic](https://en.wikipedia.org/wiki/Linear_interpolation#:~:text=In%20mathematics%2C%20linear%20interpolation%20is,set%20of%20known%20data%20points.). It must be remembered - however - that *super-annual* (*i.e.*: more than a year) extrapolation of YTMs are not nessesarily linear/arithmetic."
   ]
  },
  {
   "cell_type": "markdown",
   "id": "70478f8e-acde-4b30-b60f-42b55c943323",
   "metadata": {
    "tags": []
   },
   "source": [
    "#### Compounding <a class=\"anchor\" id=\"Compounding\"></a>\n",
    "\n",
    "\n",
    "It follows from the above that if $f_{\\text{acf}} = 1$ such that we use an anually compounding accounting method, *annual* extrapolation of YTMs are [geometric](https://www.investopedia.com/articles/investing/071113/breaking-down-geometric-mean.asp).\n",
    "\n",
    "\n",
    "Since Coupons are most often paid bi-annually, it **is common standard to compound cashflows bi-annually** too when they involve Bonds - [as aformentioned](#AnnualCouponPaymentFrequency). This is done to model a Bond-holding-[agent](https://en.wikipedia.org/wiki/Agent_(economics)) who re-invests Coupon payments as soon as they're received. In this senario, $f_{acf} = f_{ac \\mathbf{p} f} = 0.5$."
   ]
  },
  {
   "cell_type": "markdown",
   "id": "58e3ccee-502a-45b2-b2e4-08913ef8862c",
   "metadata": {
    "tags": []
   },
   "source": [
    "#### Discount Factor <a class=\"anchor\" id=\"DiscountFactor\"></a>\n",
    "It is easy to see that NPVs and YTMs are therefore (inversely) related; if one changes, the other must change too. We may - therefore - equivalently speak about a change in NPV and a change in YTM since the FV (for each sovereign bond [issuer](https://www.investopedia.com/terms/i/issuer.asp)) does not change. The YTM acts as the [discount factor](https://www.investopedia.com/terms/d/discountrate.asp) here; as a matter of fact, we can see that the YTM is the annual growth rate of our NPV that leads it to the FV in the following:"
   ]
  },
  {
   "cell_type": "markdown",
   "id": "62469514-aca6-43f8-8521-9dd58f52cdee",
   "metadata": {},
   "source": [
    "$$ FV_t  = \n",
    "    \\begin{Bmatrix}\n",
    "         \\left[ NPV_{f_{\\text{acf}}, t} - \\sum^{^\\frac{m}{f_{acf}}}_{\\tau=1} {\\frac{f_{acf} \\text{ } C}{ (1 + f_{\\text{acf}} \\text{ } YTM_t)^{\\tau} }} \\right] \\text{ } \\left(1 + f_{\\text{acf}} \\text{ } YTM_t\\right)^\\frac{m}{f_{\\text{acf}}} & \\text{if } m \\geq f_{\\text{acf}} \\\\\n",
    "         \\\\\n",
    "         NPV_{f_{\\text{acf}}, t} \\text{ } {\\left(1 + \\text{ } m \\text{ } YTM_t\\right)} - m \\text{ } C & \\text{if } m < f_{\\text{acf}}\n",
    "     \\end{Bmatrix}\n",
    "$$"
   ]
  },
  {
   "cell_type": "markdown",
   "id": "c3c679e0-17af-4b02-8f70-519d44fc0bfa",
   "metadata": {},
   "source": [
    "#### Comparability\n",
    "\n",
    "NPVs of different bonds are not comparable. That is because they account for bonds maturing at different times. Instead, YTMs of different bonds are comparable because they are annualised, therefore they account for different maturities. It is thus preferable to only speak of changes in sovereign bond NPVs in terms of the change in their YTMs; then we can compare them to each other, *e.g.*: in a Yield Curve (that can be seen [here](https://emea1.apps.cp.thomsonreuters.com/web/Explorer/EVzCURVEzFIxOV.aspx?s=0%23USBMK%3D&st=RIC) with Refinitiv credentials):"
   ]
  },
  {
   "cell_type": "markdown",
   "id": "b3f34d4e-2024-477f-8cc9-5703433031c4",
   "metadata": {},
   "source": [
    "<img src=\"/content/dam/devportal/articles/computing-risk-free-rates-and-excess-returns-from-zero-coupon-bonds/yieldcurve.PNG\">"
   ]
  },
  {
   "cell_type": "markdown",
   "id": "9f5beffc-dc2b-4533-b90e-ab367acfe34c",
   "metadata": {},
   "source": [
    "#### A Note on Maturities\n",
    "It happens to be that we can easily formulate NPV (and FV) in the two cases where $m \\geq 1$ and $m < 1$  because all maturities greater than 1 are a multiple of 1 (*i.e.*: they are whole numbers) (*i.e.*: no maturities past 1 year stop mid year, *e.g.*: 10 years and 6 months)."
   ]
  },
  {
   "cell_type": "markdown",
   "id": "f3e77216-ad44-4283-ac19-b75a6b409e1f",
   "metadata": {},
   "source": [
    "#### Coupon Paying Rate <a class=\"anchor\" id=\"CouponPayingRate\"></a>\n",
    "\n",
    "If the Coupon is stated as an annual percentage, $\\mathcal{C}_p$, of the Face Value (as it usually is), then:\n",
    "\n",
    "$$ C = \\mathcal{C}_p \\text{   } \\text{   } FV$$"
   ]
  },
  {
   "cell_type": "markdown",
   "id": "e9ed4833-0f1c-4ed8-9fd8-782d38ae058f",
   "metadata": {},
   "source": [
    "### T-Note Example: Five Year T-Note with Semi-Annual Compounding\n",
    "\n",
    "Using a semi-annual compounding accounting method (such that $f_{\\text{acf}} = 0.5 = f_{\\text{acpf}}$), a T-Note that matures in 5 Years (Five-Year T-Bill, FYTN) has a Net Present Value (${NPV}_{\\text{FYTN}, f_{\\text{acf}}, t}$) of ${NPV}_{\\text{FYTN}, 0.5, t}$ at time t such that:"
   ]
  },
  {
   "cell_type": "markdown",
   "id": "f7bbc43c-5134-4967-9266-8b607aeae3dd",
   "metadata": {},
   "source": [
    "$$  \\begin{array}{ll}\n",
    "{NPV}_{\\text{FYTN}, 0.5, t} &= \n",
    "    \\begin{Bmatrix}\n",
    "         \\frac{FV_{\\text{FYTN}, t}}{\\left(1 + 0.5 \\text{ } YTM_{\\text{FYTN}, t}\\right)^\\frac{m_{\\text{FYTN}}}{0.5}} + \\sum^{^\\frac{m_{\\text{FYTN}}}{0.5}}_{\\tau=1} {\\frac{0.5 \\text{ } C_{\\text{FYTN}}}{ (1 + 0.5 \\text{ } YTM_{\\text{FYTN}, t})^{\\tau} }} & \\text{if } m_{\\text{FYTN}} \\geq 0.5 \\\\\n",
    "         \\\\\n",
    "         \\frac{FV_{\\text{FYTN}, t} + m_{\\text{FYTN}} \\text{ } C_{\\text{FYTN}} }{\\left(1 + \\text{ } m_{\\text{FYTN}} \\text{ } YTM_{\\text{FYTN}, t}\\right)} & \\text{if } m_{\\text{FYTN}} < 0.5\n",
    "     \\end{Bmatrix}\\\\\n",
    "     \\\\\n",
    "&= \\frac{FV_{\\text{FYTN}, t}}{\\left(1 + 0.5 \\text{ } YTM_{\\text{FYTN}, t}\\right)^\\frac{5}{0.5}} + \\sum^{^\\frac{5}{0.5}}_{\\tau=1} {\\frac{0.5 \\text{ } C_{\\text{FYTN}}}{ (1 + 0.5 \\text{ } YTM_{\\text{FYTN}, t})^{\\tau} }} & \\text{since } m_{\\text{FYTN}} = 5 > 0.5 \\\\\n",
    "&= \\frac{FV_{\\text{FYTN}, t}}{\\left(1 + 0.5 \\text{ } YTM_{\\text{FYTN}, t}\\right)^{10}} + \\sum^{10}_{\\tau=1} {\\frac{0.5 \\text{ } C_{\\text{FYTN}}}{ (1 + 0.5 \\text{ } YTM_{\\text{FYTN}, t})^{\\tau} }} & \\text{since } \\frac{5}{0.5} = 10 \\\\\n",
    "&= \\frac{FV_{\\text{FYTN}, t}}{\\left(1 + 0.5 \\text{ } YTM_{\\text{FYTN}, t}\\right)^{10}} + \\sum^{10}_{\\tau=1} {\\frac{0.5 \\text{ } \\mathcal{C}_p \\text{   } \\text{   } FV_{\\text{FYTN}, t}}{ (1 + 0.5 \\text{ } YTM_{\\text{FYTN}, t})^{\\tau} }} & \\text{since } C_{\\text{FYTN}} = \\mathcal{C}_p \\text{   } \\text{   } FV_{\\text{FYTN}, t} \\\\\n",
    "% &= \\frac{1000 \\text{U.S.D.}}{\\left(1 + 0.5 \\text{ } YTM_{\\text{FYTN}, t}\\right)^{10}} + \\sum^{10}_{\\tau=1} {\\frac{0.5 \\text{ } \\mathcal{C}_p \\text{   } \\text{   } 1000 \\text{U.S.D.}}{ (1 + 0.5 \\text{ } YTM_{\\text{FYTN}, t})^{\\tau} }} & \\text{since } FV_{\\text{FYTN}, t} = 1000 \\text{U.S.D.} \\\\\n",
    "\\end{array}$$\n"
   ]
  },
  {
   "cell_type": "markdown",
   "id": "bb98168a-eca9-4949-9600-f41b1387f1fe",
   "metadata": {},
   "source": [
    "Let's have a look at data from \"2020-07-31\":"
   ]
  },
  {
   "cell_type": "code",
   "execution_count": 1,
   "id": "7f161210-7beb-496c-8902-8c4c22e201af",
   "metadata": {
    "tags": []
   },
   "outputs": [],
   "source": [
    "# We need to gather our data. Since Refinitiv's DataStream Web Services (DSWS) allows for access to the most accurate and wholesome end-of-day (E.O.D.) economic database (DB), naturally it is more than appropriate. We can access DSWS via the Python library \"DatastreamDSWS\" that can be installed simply by using  pip install .\n",
    "import DatastreamDSWS as DSWS\n",
    "\n",
    "# We can use our Refinitiv's Datastream Web Socket (DSWS) API keys that allows us to be identified by Refinitiv's back-end services and enables us to request (and fetch) data:\n",
    "DSWS_username = open(\"Datastream_username.txt\", \"r\")  # The username is placed in a text file so that it may be used in this code without showing it itself\n",
    "DSWS_password = open(\"Datastream_password.txt\", \"r\")  # Same for the password\n",
    "ds = DSWS.Datastream(username=str(DSWS_username.read()),\n",
    "                     password=str(DSWS_password.read()))\n",
    "\n",
    "# It is best to close the files we opened in order to make sure that we don't stop any other services/programs from accessing them if they need to:\n",
    "DSWS_username.close()\n",
    "DSWS_password.close()"
   ]
  },
  {
   "cell_type": "code",
   "execution_count": 2,
   "id": "f1365b5f-c1bc-4ac0-be9e-7d8f7875d581",
   "metadata": {},
   "outputs": [],
   "source": [
    "# Now let's get US Treasury Note (Maturing) 31/07/25:\n",
    "fytn_Coupon_2020_07_31_p = ds.get_data( #  the ' _p ' is for 'price'\n",
    "    tickers='613XGU', # found this ticker on https://product.datastream.com/browse/search.aspx?dsid=ZRQW955&AppGroup=DSAddin&q=US+Treasury+Note+31%2F07%2F25&prev=99_US+Treasury+Note+(Maturing)+31%2F07%2F25&nav_category=13\n",
    "    start = \"2020-07-29\", fields=\"X\", freq='D')"
   ]
  },
  {
   "cell_type": "code",
   "execution_count": 3,
   "id": "73abb226-725b-4151-9686-641ff6f51d53",
   "metadata": {},
   "outputs": [
    {
     "data": {
      "text/html": [
       "<div>\n",
       "<style scoped>\n",
       "    .dataframe tbody tr th:only-of-type {\n",
       "        vertical-align: middle;\n",
       "    }\n",
       "\n",
       "    .dataframe tbody tr th {\n",
       "        vertical-align: top;\n",
       "    }\n",
       "\n",
       "    .dataframe thead th {\n",
       "        text-align: right;\n",
       "    }\n",
       "</style>\n",
       "<table border=\"1\" class=\"dataframe\">\n",
       "  <thead>\n",
       "    <tr style=\"text-align: right;\">\n",
       "      <th></th>\n",
       "      <th>Dates</th>\n",
       "      <th>2020-07-29</th>\n",
       "      <th>2020-07-30</th>\n",
       "      <th>2020-07-31</th>\n",
       "      <th>2020-08-03</th>\n",
       "      <th>2020-08-04</th>\n",
       "      <th>2020-08-05</th>\n",
       "      <th>2020-08-06</th>\n",
       "      <th>2020-08-07</th>\n",
       "      <th>2020-08-10</th>\n",
       "      <th>2020-08-11</th>\n",
       "      <th>...</th>\n",
       "      <th>2021-07-27</th>\n",
       "      <th>2021-07-28</th>\n",
       "      <th>2021-07-29</th>\n",
       "      <th>2021-07-30</th>\n",
       "      <th>2021-08-02</th>\n",
       "      <th>2021-08-03</th>\n",
       "      <th>2021-08-04</th>\n",
       "      <th>2021-08-05</th>\n",
       "      <th>2021-08-06</th>\n",
       "      <th>2021-08-09</th>\n",
       "    </tr>\n",
       "    <tr>\n",
       "      <th>Instrument</th>\n",
       "      <th>Field</th>\n",
       "      <th></th>\n",
       "      <th></th>\n",
       "      <th></th>\n",
       "      <th></th>\n",
       "      <th></th>\n",
       "      <th></th>\n",
       "      <th></th>\n",
       "      <th></th>\n",
       "      <th></th>\n",
       "      <th></th>\n",
       "      <th></th>\n",
       "      <th></th>\n",
       "      <th></th>\n",
       "      <th></th>\n",
       "      <th></th>\n",
       "      <th></th>\n",
       "      <th></th>\n",
       "      <th></th>\n",
       "      <th></th>\n",
       "      <th></th>\n",
       "      <th></th>\n",
       "    </tr>\n",
       "  </thead>\n",
       "  <tbody>\n",
       "    <tr>\n",
       "      <th>613XGU</th>\n",
       "      <th>X</th>\n",
       "      <td>99.9765</td>\n",
       "      <td>100.1016</td>\n",
       "      <td>100.2031</td>\n",
       "      <td>100.1484</td>\n",
       "      <td>100.2891</td>\n",
       "      <td>100.1328</td>\n",
       "      <td>100.1719</td>\n",
       "      <td>100.1016</td>\n",
       "      <td>100.0625</td>\n",
       "      <td>99.8672</td>\n",
       "      <td>...</td>\n",
       "      <td>98.7656</td>\n",
       "      <td>98.7813</td>\n",
       "      <td>98.7188</td>\n",
       "      <td>98.8515</td>\n",
       "      <td>98.9765</td>\n",
       "      <td>99.0078</td>\n",
       "      <td>98.9063</td>\n",
       "      <td>98.7109</td>\n",
       "      <td>98.5469</td>\n",
       "      <td>98.4688</td>\n",
       "    </tr>\n",
       "  </tbody>\n",
       "</table>\n",
       "<p>1 rows × 269 columns</p>\n",
       "</div>"
      ],
      "text/plain": [
       "Dates             2020-07-29  2020-07-30  2020-07-31  2020-08-03  2020-08-04  \\\n",
       "Instrument Field                                                               \n",
       "613XGU     X         99.9765    100.1016    100.2031    100.1484    100.2891   \n",
       "\n",
       "Dates             2020-08-05  2020-08-06  2020-08-07  2020-08-10  2020-08-11  \\\n",
       "Instrument Field                                                               \n",
       "613XGU     X        100.1328    100.1719    100.1016    100.0625     99.8672   \n",
       "\n",
       "Dates             ...  2021-07-27  2021-07-28  2021-07-29  2021-07-30  \\\n",
       "Instrument Field  ...                                                   \n",
       "613XGU     X      ...     98.7656     98.7813     98.7188     98.8515   \n",
       "\n",
       "Dates             2021-08-02  2021-08-03  2021-08-04  2021-08-05  2021-08-06  \\\n",
       "Instrument Field                                                               \n",
       "613XGU     X         98.9765     99.0078     98.9063     98.7109     98.5469   \n",
       "\n",
       "Dates             2021-08-09  \n",
       "Instrument Field              \n",
       "613XGU     X         98.4688  \n",
       "\n",
       "[1 rows x 269 columns]"
      ]
     },
     "execution_count": 3,
     "metadata": {},
     "output_type": "execute_result"
    }
   ],
   "source": [
    "fytn_Coupon_2020_07_31_p.dropna().T"
   ]
  },
  {
   "cell_type": "code",
   "execution_count": 4,
   "id": "373f4960-be62-4931-abed-8c5d821fc671",
   "metadata": {},
   "outputs": [
    {
     "data": {
      "text/plain": [
       "Instrument  Field\n",
       "613XGU      X        100.1016\n",
       "Name: 2020-07-30, dtype: float64"
      ]
     },
     "execution_count": 4,
     "metadata": {},
     "output_type": "execute_result"
    }
   ],
   "source": [
    "fytn_Coupon_2020_07_31_p.loc[\"2020-07-30\"]"
   ]
  },
  {
   "cell_type": "markdown",
   "id": "db1a6898-fdf0-4661-8f3c-20d241f3de5d",
   "metadata": {},
   "source": [
    "We can see that the price on \"2020-07-31\" was \\$100.1016, so it was selling at a premium. We are using '[613XGU](https://product.datastream.com/browse/search.aspx?dsid=ZRQW955&AppGroup=DSAddin&q=613XGU&prev=99_TRUS5YT&prev_csrc=8)' instead of '[TRUS5YT](https://product.datastream.com/browse/search.aspx?dsid=ZRQW955&AppGroup=DSAddin&q=TRUS5YT&prev=99_)' as the latter is the YTM given for sovereign provided bonds which one cannot actually buy - only investment banks can purchse such bonds. (Many pension funds and asset managers hold sovereign bonds, but investment banks are the institutions who trade them.) Here instead we are looking at sovereign bonds sold by the investment bank 'Deutsche Boerse AG'. This means that, in our equation, we'd use the realised price of \\\\$100.1016 instead of the ${NPV}_{\\text{FYTN}, 0.5, \"2020-07-31\"}$."
   ]
  },
  {
   "cell_type": "code",
   "execution_count": 5,
   "id": "c4893f32-0b46-4572-8bb7-dddc2c8cc097",
   "metadata": {},
   "outputs": [
    {
     "data": {
      "text/html": [
       "<div>\n",
       "<style scoped>\n",
       "    .dataframe tbody tr th:only-of-type {\n",
       "        vertical-align: middle;\n",
       "    }\n",
       "\n",
       "    .dataframe tbody tr th {\n",
       "        vertical-align: top;\n",
       "    }\n",
       "\n",
       "    .dataframe thead th {\n",
       "        text-align: right;\n",
       "    }\n",
       "</style>\n",
       "<table border=\"1\" class=\"dataframe\">\n",
       "  <thead>\n",
       "    <tr style=\"text-align: right;\">\n",
       "      <th></th>\n",
       "      <th>0</th>\n",
       "      <th>1</th>\n",
       "      <th>2</th>\n",
       "      <th>3</th>\n",
       "      <th>4</th>\n",
       "      <th>5</th>\n",
       "      <th>6</th>\n",
       "      <th>7</th>\n",
       "      <th>8</th>\n",
       "      <th>9</th>\n",
       "      <th>10</th>\n",
       "      <th>11</th>\n",
       "      <th>12</th>\n",
       "    </tr>\n",
       "  </thead>\n",
       "  <tbody>\n",
       "    <tr>\n",
       "      <th>Instrument</th>\n",
       "      <td>613XGU</td>\n",
       "      <td>613XGU</td>\n",
       "      <td>613XGU</td>\n",
       "      <td>613XGU</td>\n",
       "      <td>613XGU</td>\n",
       "      <td>613XGU</td>\n",
       "      <td>613XGU</td>\n",
       "      <td>613XGU</td>\n",
       "      <td>613XGU</td>\n",
       "      <td>613XGU</td>\n",
       "      <td>613XGU</td>\n",
       "      <td>613XGU</td>\n",
       "      <td>613XGU</td>\n",
       "    </tr>\n",
       "    <tr>\n",
       "      <th>Datatype</th>\n",
       "      <td>NAME</td>\n",
       "      <td>ID</td>\n",
       "      <td>TERM</td>\n",
       "      <td>RV</td>\n",
       "      <td>C</td>\n",
       "      <td>CTYP</td>\n",
       "      <td>RDL</td>\n",
       "      <td>EXCHB</td>\n",
       "      <td>DEF</td>\n",
       "      <td>MPD.U</td>\n",
       "      <td>BTYP</td>\n",
       "      <td>AIS</td>\n",
       "      <td>BAB</td>\n",
       "    </tr>\n",
       "    <tr>\n",
       "      <th>Value</th>\n",
       "      <td>US TREASURY NOTE 2020 1/4% 31/07/25 AB-2025</td>\n",
       "      <td>2020-07-31</td>\n",
       "      <td>5</td>\n",
       "      <td>100</td>\n",
       "      <td>0.25</td>\n",
       "      <td>FIX</td>\n",
       "      <td>2025-07-31</td>\n",
       "      <td>FF MU DD</td>\n",
       "      <td>MPD</td>\n",
       "      <td>%</td>\n",
       "      <td>STR</td>\n",
       "      <td>54568290</td>\n",
       "      <td>5</td>\n",
       "    </tr>\n",
       "    <tr>\n",
       "      <th>Dates</th>\n",
       "      <td>2021-08-09</td>\n",
       "      <td>2021-08-09</td>\n",
       "      <td>2021-08-09</td>\n",
       "      <td>2021-08-09</td>\n",
       "      <td>2021-08-09</td>\n",
       "      <td>2021-08-09</td>\n",
       "      <td>2021-08-09</td>\n",
       "      <td>2021-08-09</td>\n",
       "      <td>2021-08-09</td>\n",
       "      <td>2021-08-09</td>\n",
       "      <td>2021-08-09</td>\n",
       "      <td>2021-08-09</td>\n",
       "      <td>2021-08-09</td>\n",
       "    </tr>\n",
       "  </tbody>\n",
       "</table>\n",
       "</div>"
      ],
      "text/plain": [
       "                                                     0           1   \\\n",
       "Instrument                                       613XGU      613XGU   \n",
       "Datatype                                           NAME          ID   \n",
       "Value       US TREASURY NOTE 2020 1/4% 31/07/25 AB-2025  2020-07-31   \n",
       "Dates                                        2021-08-09  2021-08-09   \n",
       "\n",
       "                    2           3           4           5           6   \\\n",
       "Instrument      613XGU      613XGU      613XGU      613XGU      613XGU   \n",
       "Datatype          TERM          RV           C        CTYP         RDL   \n",
       "Value                5         100        0.25         FIX  2025-07-31   \n",
       "Dates       2021-08-09  2021-08-09  2021-08-09  2021-08-09  2021-08-09   \n",
       "\n",
       "                    7           8           9           10          11  \\\n",
       "Instrument      613XGU      613XGU      613XGU      613XGU      613XGU   \n",
       "Datatype         EXCHB         DEF       MPD.U        BTYP         AIS   \n",
       "Value         FF MU DD         MPD           %         STR    54568290   \n",
       "Dates       2021-08-09  2021-08-09  2021-08-09  2021-08-09  2021-08-09   \n",
       "\n",
       "                    12  \n",
       "Instrument      613XGU  \n",
       "Datatype           BAB  \n",
       "Value                5  \n",
       "Dates       2021-08-09  "
      ]
     },
     "execution_count": 5,
     "metadata": {},
     "output_type": "execute_result"
    }
   ],
   "source": [
    "# Now let's get US Treasury Note (Maturing) 31/07/25:\n",
    "fytn_Coupon_2020_07_31_f = ds.get_data(  # the ' _f ' is for 'fixed', as in fixed data.\n",
    "    tickers='613XGU',  # found this ticker on https://product.datastream.com/browse/search.aspx?dsid=ZRQW955&AppGroup=DSAddin&q=US+Treasury+Note+31%2F07%2F25&prev=99_US+Treasury+Note+(Maturing)+31%2F07%2F25&nav_category=13\n",
    "    kind=0,  # ' kind=0 ' is needed here as we are looking for static data that doesn't change with time.\n",
    "    fields=[\"NAME\", \"ID\", \"TERM\", \"RV\", \"C\", \"CTYP\", \"RDL\", \"EXCHB\", \"DEF\",\n",
    "            \"MPD.U\", \"BTYP\", \"AIS\", \"BAB\"])\n",
    "fytn_Coupon_2020_07_31_f.T"
   ]
  },
  {
   "cell_type": "markdown",
   "id": "4a395426-d0b9-472f-83d4-1efd38fdaee9",
   "metadata": {},
   "source": [
    "From the above we can note that the Issuing Date (```ID```) is 2020-07-31 with a maturity (also known as (a.k.a.) ```Term```) of 5 years, thus a Last Redemption Date (```RDL```) of 2025-07-31, a Face Value (a.k.a. \"Redemption Value\" - ```RV```) of \\\\$100, and a Fixed Coupon Rate of 0.25\\% - which is quite low. We have a [Straight (cash flows are fixed)](https://product.datastream.com/browse/search.aspx?dsid=ZRQW955&AppGroup=DSAddin&dt=true&q=BTYP&prev=dtx1%7C0001_0001_0001&subset=dtx1%7C0001_0001_0001&nav_frequency=Static) (```BTYP```) debt of which 54568290 (```AIS```) [was sold in the currency and time of issue](https://product.datastream.com/browse/search.aspx?dsid=ZRQW955&AppGroup=DSAddin&dt=true&q=AIS&prev=dtx1%7C0001_0001_0001&subset=dtx1%7C0001_0001_0001&nav_frequency=Static) with [daily accrural basis](https://product.datastream.com/browse/search.aspx?dsid=ZRQW955&AppGroup=DSAddin&dt=true&q=BAB&prev=dtx1%7C0001_0001_0001&subset=dtx1%7C0001_0001_0001&nav_frequency=Static). (We can also see the exchanges where our security was listed, shown as [Codes](https://product.datastream.com/browse/search.aspx?dsid=ZRQW955&AppGroup=DSAddin&dt=true&q=exchange&prev=dtx1%7C0001_0001_0001&subset=dtx1%7C0001_0001_0001).) It is unusual to have T‐notes with Face Values other than \\\\$1000, but this is hat we're dealing with here. We thus now have:"
   ]
  },
  {
   "cell_type": "markdown",
   "id": "f9a3e9f5-6a73-4402-b02e-6eeb0a018ef1",
   "metadata": {},
   "source": [
    "$$  \\begin{array}{ll}\n",
    "\\text{\\$}100.1016 &= \\frac{FV_{\\text{FYTN}, \"2020-07-31\"}}{\\left(1 + 0.5 \\text{ } YTM_{\\text{FYTN}, \"2020-07-31\"}\\right)^{10}} + \\sum^{10}_{\\tau=1} {\\frac{0.5 \\text{ } \\mathcal{C}_p \\text{   } \\text{   } FV_{\\text{FYTN}, \"2020-07-31\"}}{ (1 + 0.5 \\text{ } YTM_{\\text{FYTN}, \"2020-07-31\"})^{\\tau} }} & \\text{since we are using our realised price of \\$100.1016 instead of the } {NPV}_{\\text{FYTN}, 0.5, \"2020-07-31\"}\\\\\n",
    "&= \\frac{\\text{\\$}100}{\\left(1 + 0.5 \\text{ } YTM_{\\text{FYTN}, \"2020-07-31\"}\\right)^{10}} + \\sum^{10}_{\\tau=1} {\\frac{0.5 \\text{ } \\mathcal{C}_p \\text{   } \\text{   } \\text{\\$}100}{ (1 + 0.5 \\text{ } YTM_{\\text{FYTN}, \"2020-07-31\"})^{\\tau} }} & \\text{since } FV_{\\text{FYTN}, \"2020-07-31\"} = \\text{\\$}100 \\\\\n",
    "&= \\frac{\\text{\\$}100}{\\left(1 + 0.5 \\text{ } YTM_{\\text{FYTN}, \"2020-07-31\"}\\right)^{10}} + \\sum^{10}_{\\tau=1} {\\frac{0.5 * \\frac{0.25}{100} * \\text{   } \\text{   } \\text{\\$}100}{ (1 + 0.5 \\text{ } YTM_{\\text{FYTN}, \"2020-07-31\"})^{\\tau} }} & \\text{since } \\mathcal{C}_p = 0.25\\% = \\frac{0.25}{100} \\text{ in this instance} \\\\\n",
    "&= \\frac{\\text{\\$}100}{\\left(1 + 0.5 \\text{ } YTM_{\\text{FYTN}, \"2020-07-31\"}\\right)^{10}} + \\sum^{10}_{\\tau=1} {\\frac{\\text{\\$}0.125}{ (1 + 0.5 \\text{ } YTM_{\\text{FYTN}, \"2020-07-31\"})^{\\tau} }} \\\\\n",
    "\\end{array}$$\n",
    "since"
   ]
  },
  {
   "cell_type": "code",
   "execution_count": 6,
   "id": "fcd515e2-ffec-41f3-b5d5-e16ae733867c",
   "metadata": {},
   "outputs": [
    {
     "data": {
      "text/plain": [
       "0.125"
      ]
     },
     "execution_count": 6,
     "metadata": {},
     "output_type": "execute_result"
    }
   ],
   "source": [
    "0.5 * (0.25/100) * 100"
   ]
  },
  {
   "cell_type": "markdown",
   "id": "89568bff-fcd4-4f1b-81a6-ac7af17a2c11",
   "metadata": {},
   "source": [
    "Thus:\n",
    "\n",
    "$$ \\begin{array}{ll}\n",
    "0 &= \\frac{FV_{\\text{FYTN}, \"2020-07-31\"}}{\\left(1 + 0.5 \\text{ } YTM_{\\text{FYTN}, \"2020-07-31\"}\\right)^{10}} + \\sum^{10}_{\\tau=1} {\\frac{0.5 \\text{ } \\mathcal{C}_p \\text{   } \\text{   } FV_{\\text{FYTN}, \"2020-07-31\"}}{ (1 + 0.5 \\text{ } YTM_{\\text{FYTN}, \"2020-07-31\"})^{\\tau} }} - \\text{\\$}100.1016 & \\text{ as per the above} \\\\\n",
    "&= \\frac{\\text{\\$}100}{\\left(1 + 0.5 \\text{ } YTM_{\\text{FYTN}, \"2020-07-31\"}\\right)^{10}} + \\sum^{10}_{\\tau=1} {\\frac{\\text{\\$}0.125}{ (1 + 0.5 \\text{ } YTM_{\\text{FYTN}, \"2020-07-31\"})^{\\tau} }} - \\text{\\$}100.1016 & \\text{ as per the above} \\\\\n",
    "&\\approx \\frac{\\text{\\$}100}{\\left(1 + 0.5 \\text{   } * \\text{   }  0.002295515059055049 \\right)^{10}} + \\sum^{10}_{\\tau=1} {\\frac{\\text{\\$}0.125}{ (1 + 0.5 \\text{   } * \\text{   }  0.002295515059055049)^{\\tau} }} - \\text{\\$}100.1016 \n",
    "\\end{array}$$\n",
    "\n",
    "as computed itteratively with the Python funcition ```YTM_Solver``` deffined bellow:"
   ]
  },
  {
   "cell_type": "markdown",
   "id": "19423e95-62a0-4119-80e0-6f9726385969",
   "metadata": {},
   "source": [
    "#### Computing Single YTM Values"
   ]
  },
  {
   "cell_type": "code",
   "execution_count": 53,
   "id": "0fd1db84-5c8b-47af-9d9d-02630df50b7a",
   "metadata": {
    "tags": []
   },
   "outputs": [],
   "source": [
    "from scipy import optimize # ' scipy ' is a scientific Python library. We will use it to find the optimal Yield in our non-closed equation.\n",
    "\n",
    "\n",
    "def YTM_Solver(fv, c, m, p, f_acf, cash_flow_no_fv=None, cash_flow_with_fv=None, error=False):\n",
    "    \"\"\"YTM_Solver(fv, c, m, p, f_acf, cash_flow_no_fv=None, cash_flow_with_fv=None, error=False) Version 1.0\n",
    "    This Python function calculates the yield to maturity for a sovereign bond, wether coupon paying or not.\n",
    "\n",
    "    Dependencies\n",
    "    ----------\n",
    "\n",
    "    Python sub-library 'optimised' from 'scipy' version 1.6.2. Imported via following line:\n",
    "    >>> from scipy import optimize\n",
    "\n",
    "    Parameters\n",
    "    ----------\n",
    "\n",
    "    fv: int or float\n",
    "        Face Value (also known as (a.k.a.) Redemption Value) of the bond.\n",
    "        This has to be in the same currency as c and p.\n",
    "\n",
    "    c: int or float\n",
    "        Coupon that the bond pays every year - if any.\n",
    "        This has to be in the same currency as fv and p.\n",
    "        If the Bond doesn't pay Coupons, set it to 'None'.\n",
    "\n",
    "    m: int or float\n",
    "        Maturity (a.k.a.: Term) of the Bond in years - if any.\n",
    "        If it is less than a year, express it in a fraction (e.g.: 6 months as 1/2).\n",
    "\n",
    "    p: int or float\n",
    "        Realised price of the Bond.\n",
    "        This has to be in the same currency as fv and c.\n",
    "\n",
    "    f_acf: int or float\n",
    "          Annual compound frequency (such that if we compound cash flows annually, f_acf=1; and if we compound cash flows bi-annually (i.e.: twice a year / every 6 months), f_acf=0.5).\n",
    "          Coupons are paid at a fixed 'annual Coupon payment frequency' (f_acPf). Usually, the following are true:\n",
    "          - f_acPf = 0.5 , i.e.: Coupon payments are made every 6 months (i.e.: semi-annually)\n",
    "          - f_acf is set to the f_acPf such that f_acPf = f_acf\n",
    "          - Thus usually f_acPf = f_acpf = 0.5.\n",
    "\n",
    "    cash_flow_no_fv: None or list\n",
    "        Either ' cash_flow_no_fv ' and/or ' cash_flow_with_fv ' needs to be None.\n",
    "        If ' cash_flow_no_fv ' and ' cash_flow_with_fv ' are set to None, then cash_flow is set to ' [(f_acf*c)/((1 + f_acf*ytm)**i) for i in range(1, int(m/f_acf)+1)] '.\n",
    "        Else, ' cash_flow_no_fv ' needs to be a list of numbers (float or int) of each of the coupon payments - the last one needs to EXCLUDE the Face Value.\n",
    "\n",
    "    cash_flow_with_fv: None or list\n",
    "        Either ' cash_flow_no_fv ' and/or ' cash_flow_with_fv ' needs to be None.\n",
    "        If ' cash_flow_no_fv ' and ' cash_flow_with_fv ' are set to None, then cash_flow is set to ' [(f_acf*c)/((1 + f_acf*ytm)**i) for i in range(1, int(m/f_acf)+1)] '.\n",
    "        Else, ' cash_flow_no_fv ' needs to be a list of numbers (float or int) of each of the coupon payments - the last one needs to INCLUDE the Face Value.\n",
    "\n",
    "    error: boolean\n",
    "        If set to True and if the method used to compute the ytm is not infenitely precise (id est: if m > f_acf), then an error value away from the price of the bond is provided.\n",
    "        Default: error=False\n",
    "\n",
    "\n",
    "    Returns\n",
    "    -------\n",
    "\n",
    "    if the 'error' parameter is:\n",
    "        - Set to False: YTM_Solver returns a float as the ytm.\n",
    "        - Set to True: YTM_Solver returns a tuple of the ytm and the error. This is the eror in the price implied by the given ytm.\n",
    "\n",
    "    Examples:\n",
    "    --------\n",
    "\n",
    "    >>> ytm_op, err = YTM_Solver(fv=100, c=0.25, m=5, p=100.1016, f_acf=0.5, error=True)\n",
    "    >>> print(f\"Our optimal YTM is {ytm_op} with an error of {err}\")\n",
    "    >>> \n",
    "    >>> Our optimal YTM is 0.002295515059055049 with an error of 1.2434497875801753e-14\n",
    "    \"\"\"\n",
    "\n",
    "    if cash_flow_no_fv is None and cash_flow_with_fv is None:\n",
    "        def YTM_Equation(ytm, fv, c, m, p, f_acf):\n",
    "            \"\"\"YTM_Equation is an ephemeral function created simply to be inbedded in scipy's optimize.newton function.\"\"\"\n",
    "            return (fv/((1 + (f_acf*ytm))**(m/f_acf))) - p + sum(\n",
    "                [(f_acf*c)/((1 + f_acf*ytm)**i) for i in range(1, int(m/f_acf)+1)])\n",
    "    elif cash_flow_no_fv is not None and cash_flow_with_fv is None:\n",
    "        def YTM_Equation(ytm, fv, c, m, p, f_acf):\n",
    "            \"\"\"YTM_Equation is an ephemeral function created simply to be inbedded in scipy's optimize.newton function.\"\"\"\n",
    "            return (fv/((1 + (f_acf*ytm))**(m/f_acf))) - p + sum(\n",
    "                [j/((1 + f_acf*ytm)**i) for i, j in enumerate(cash_flow_no_fv)])\n",
    "    elif cash_flow_with_fv is not None and cash_flow_no_fv is None:\n",
    "        def YTM_Equation(ytm, fv, c, m, p, f_acf):\n",
    "            \"\"\"YTM_Equation is an ephemeral function created simply to be inbedded in scipy's optimize.newton function.\"\"\"\n",
    "            return - p + sum(\n",
    "                [j/((1 + f_acf*ytm)**i) for i, j in enumerate(cash_flow_with_fv)])\n",
    "    else:\n",
    "        print(\"Either ' cash_flow_no_fv ' and/or ' cash_flow_with_fv ' needs to be ' None '.\")\n",
    "\n",
    "    if m >= f_acf:  # Net Preset Values (NPVs) - and by extension Yields - of Bonds are valued with equations that depend on the relative value of their maturities and annual compound frequency.\n",
    "\n",
    "        ytm_op = optimize.newton(  # the ' _op ' here stands for 'optimal'\n",
    "            func=YTM_Equation,\n",
    "            x0=0.002,  # I simply chose ' 0.002 ' after 3 trial and improvement rounds.\n",
    "            args=(fv, c, m, p, f_acf))  # These stand for (respectively): fv, c, m, p and f_acf.\n",
    "\n",
    "        err = (fv/((1 + (f_acf*ytm_op))**(m/f_acf))) - p + sum(\n",
    "                [(f_acf*c)/((1 + f_acf*ytm_op)**i) for i in range(1, int(m/f_acf)+1)]) # YTM_Equation(ytm_op, fv, c, m, p, f_acf)\n",
    "\n",
    "    elif m < f_acf:\n",
    "        ytm_op = (((fv + (m*c))/p)-1)/m\n",
    "        err = 0\n",
    "\n",
    "    else:\n",
    "        return \"fv, c, m, p and f_acf must be numbers - either integers or floating point.\"\n",
    "\n",
    "\n",
    "    if error is False:\n",
    "        return ytm_op\n",
    "    elif error is True:\n",
    "        return ytm_op, err\n",
    "    else:\n",
    "        print(\"Parameter 'error' needs to be a boolean value of 'True' or 'False'.\")"
   ]
  },
  {
   "cell_type": "code",
   "execution_count": 8,
   "id": "53dee25b-e2b1-421b-adab-f209e0942b8a",
   "metadata": {},
   "outputs": [
    {
     "name": "stdout",
     "output_type": "stream",
     "text": [
      "Our optimal YTM is 0.002295515059055049 with an error of 1.2434497875801753e-14\n"
     ]
    }
   ],
   "source": [
    "ytm_op, err = YTM_Solver(fv=100, c=0.25, m=5, p=100.1016, f_acf=0.5, error=True)\n",
    "print(f\"Our optimal YTM is {ytm_op} with an error of {err}\")"
   ]
  },
  {
   "cell_type": "markdown",
   "id": "3f76ddd3-408f-4303-b627-d5e6b0dfb529",
   "metadata": {},
   "source": [
    "Checking the error manually to verify sound mathematics in the ```YTM_Solver``` function:"
   ]
  },
  {
   "cell_type": "code",
   "execution_count": 9,
   "id": "a73b70f2-3feb-4af0-bafd-c8365ccb54d0",
   "metadata": {},
   "outputs": [
    {
     "data": {
      "text/plain": [
       "1.2434497875801753e-14"
      ]
     },
     "execution_count": 9,
     "metadata": {},
     "output_type": "execute_result"
    }
   ],
   "source": [
    "(100/((1+(0.5*ytm_op))**10)) - 100.1016 + (sum(\n",
    "    [0.125/((1 + (0.5 * ytm_op))**i) for i in range(1, 11)]))"
   ]
  },
  {
   "cell_type": "markdown",
   "id": "5bfb01f5-4c5d-43c3-8d8b-834513fa63a0",
   "metadata": {},
   "source": [
    "#### Computing Series of YTM Values\n",
    "We cannot use the same price data from ```fytn_Coupon_2020_07_31_p``` through time along with the ```YTM_Solver``` to construct a data-frame of ```ytm```s of interest. This is because the maturity technically is different every day, decreasing by a day every time-period/row. Instead, we need a new Bond with the same maturity per row of our series.\n",
    "\n",
    "##### Searching the Datastream Navigator Programaticaly with DSWS\n",
    "Using ```DS.SYMBOLLOOKUP(Category=Bonds & Convertibles)``` as a ```field``` of ```ds.get_data```, we can search for our Bonds of interest (*i.e.*: 5 year US Bonds) within any period of interest (*e.g.*: 2022 to 2027). But 1st, there are some Python libraries we need to import:"
   ]
  },
  {
   "cell_type": "code",
   "execution_count": 10,
   "id": "c911f4df-13ab-43bc-a8dc-bf93b07e80da",
   "metadata": {},
   "outputs": [
    {
     "name": "stdout",
     "output_type": "stream",
     "text": [
      "The pandas library imported in this code is version: 1.2.4\n"
     ]
    }
   ],
   "source": [
    "# There are some libraries we need to import:\n",
    "import pandas  # pandas will be needed to manipulate data sets\n",
    "from datetime import datetime\n",
    "import calendar\n",
    "print(\"The pandas library imported in this code is version: \" + pandas.__version__)"
   ]
  },
  {
   "cell_type": "markdown",
   "id": "54cb6a5c-7536-400d-b3e0-9ba16d1c08d7",
   "metadata": {},
   "source": [
    "We also need to construct Python functions ```DSWS_fixed_data_collection``` and ```DSWS_fixed_and_price_data_collection_and_ytm``` that collects required data from Datastream:"
   ]
  },
  {
   "cell_type": "code",
   "execution_count": 11,
   "id": "3bf4f357-f1c9-4485-a906-ccca4c0e8956",
   "metadata": {
    "tags": []
   },
   "outputs": [],
   "source": [
    "def DSWS_fixed_data_collection(instruments,\n",
    "                               fields=[\"DSCD\", \"NAME\", \"ID\", \"TERM\",\n",
    "                                       \"RV\", \"C\", \"CTYP\", \"RDL\"]):\n",
    "    \"\"\"DSWS_fixed_data_collection(instruments, fields=[\"DSCD\", \"NAME\", \"ID\", \"TERM\", \"RV\", \"C\", \"CTYP\", \"RDL\"]) Version 1.0\n",
    "    This Python function collects fixed data for any list of instruments into a compact pandas data-frame.\n",
    "    Fixed data differ from other data-types in that they do not change with time; e.g.: the Coupon Rate of a US Treasury Bond does not change with time, while its price on the secondary market does.\n",
    "\n",
    "    Dependencies\n",
    "    ----------\n",
    "\n",
    "    Python library:\n",
    "        - 'pandas' version 1.2.4.\n",
    "        - 'DatastreamDSWS' authenticated in the object ' ds '.\n",
    "\n",
    "    Parameters\n",
    "    ----------\n",
    "\n",
    "    instruments: list\n",
    "        Python list of strings of instruments' Datastream Codes/Mnemonic.\n",
    "        This ' DSWS_fixed_data_collection ' function will iterate through it.\n",
    "\n",
    "    fields: list\n",
    "        Python list of strings of fields as per Datastream.\n",
    "        This ' DSWS_fixed_data_collection ' function will iterate through it.\n",
    "        Default: fields=[\"DSCD\", \"NAME\", \"ID\", \"TERM\", \"RV\", \"C\", \"CTYP\", \"RDL\"]\n",
    "\n",
    "    Returns\n",
    "    -------\n",
    "\n",
    "    Pandas data-frame of fixed-data asked for.\n",
    "\n",
    "    Examples:\n",
    "    --------\n",
    "    \n",
    "    >>> import DatastreamDSWS as dsws\n",
    "    >>> ds = dsws.Datastream(username=\"insert dsws username here\", password=\"insert dsws password here\")\n",
    "    >>> df = DSWS_fixed_data_collection(instruments=[\"613XGU\", \"616J44\", \"619AX8\", \"622HAG\", \"624Z3N\", \"628GF5\", \"6309UZ\", \"634DPQ\", \"637QZJ\", \"6403CY\", \"6439UZ\", \"646V3Q\"])\n",
    "    >>> df\n",
    "    >>> \n",
    "    >>>           DSCD                                         NAME          ID TERM   RV       C  CTYP         RDL\n",
    "    >>>      0  613XGU  US TREASURY NOTE 2020 1/4% 31/07/25 AB-2025  2020-07-31    5  100    0.25   FIX  2025-07-31\n",
    "    >>>      0  616J44  US TREASURY NOTE 2020 1/4% 31/08/25 AC-2025  2020-08-31    5  100    0.25   FIX  2025-08-31\n",
    "    >>>      0  619AX8  US TREASURY NOTE 2020 1/4% 30/09/25 AD-2025  2020-09-30    5  100    0.25   FIX  2025-09-30\n",
    "    >>>      0  622HAG  US TREASURY NOTE 2020 1/4% 31/10/25 AF-2025  2020-10-31    5  100    0.25   FIX  2025-10-31\n",
    "    >>>      0  624Z3N  US TREASURY NOTE 2020 3/8% 30/11/25 AG-2025  2020-11-30    5  100   0.375   FIX  2025-11-30\n",
    "    >>>      0  628GF5  US TREASURY NOTE 2020 3/8% 31/12/25 AH-2025  2020-12-31    5  100   0.375   FIX  2025-12-31\n",
    "    >>>      0  6309UZ   US TREASURY NOTE 2021 3/8% 31/01/26 U-2026  2021-01-31    5  100   0.375   FIX  2026-01-31\n",
    "    >>>      0  634DPQ   US TREASURY NOTE 2021 1/2% 28/02/26 V-2026  2021-02-28    5  100     0.5   FIX  2026-02-28\n",
    "    >>>      0  637QZJ   US TREASURY NOTE 2021 3/4% 31/03/26 W-2026  2021-03-31    5  100    0.75   FIX  2026-03-31\n",
    "    >>>      0  6403CY   US TREASURY NOTE 2021 3/4% 30/04/26 Y-2026  2021-04-30    5  100    0.75   FIX  2026-04-30\n",
    "    >>>      0  6439UZ   US TREASURY NOTE 2021 3/4% 31/05/26 Z-2026  2021-05-31    5  100    0.75   FIX  2026-05-31\n",
    "    >>>      0  646V3Q  US TREASURY NOTE 2021 7/8% 30/06/26 AA-2026  2021-06-30    5  100   0.875   FIX  2026-06-30\n",
    "    \"\"\"\n",
    "\n",
    "    dswsfdc_df = pandas.DataFrame()\n",
    "    for i in instruments:\n",
    "        _dswsfdc_df = ds.get_data(tickers=i, kind=0, fields=fields)\n",
    "        dswsfdc_df = dswsfdc_df.append(pandas.DataFrame(\n",
    "            data=list(_dswsfdc_df['Value'].values), index=fields).T)\n",
    "    return dswsfdc_df"
   ]
  },
  {
   "cell_type": "code",
   "execution_count": 12,
   "id": "2402a12c-713e-4b63-a3cb-0c21b690eff2",
   "metadata": {
    "tags": []
   },
   "outputs": [],
   "source": [
    "from dateutil.relativedelta import relativedelta\n",
    "import pandas_market_calendars as mcal\n",
    "\n",
    "def Coupon_Dates(ID, TERM, RDL, day_type=\"business\",\n",
    "                 acpf=0.5, holidays=None,\n",
    "                 pandas_market_cal=mcal.get_calendar('NYSE')):\n",
    "    \"\"\"Coupon_Dates(from_date, ID, TERM, RDL, day_type=\"business\", acpf=0.5, holidays=None, pandas_market_cal=mcal.get_calendar('NYSE')) Version 1.0\n",
    "    This Python function returns a list of dates when all bond coupons for a are to be paid.\n",
    "    DO NOT blindly use this function expecting it to work, please CHECK its results. Using ' pandas_market_cal=mcal.get_calendar('NYSE') ', I found that mcal considered 2021-12-31 as a valid day when coupons don't get paid then.\n",
    "\n",
    "    Dependencies\n",
    "    ----------\n",
    "\n",
    "    Python library 'pandas' version 1.2.4.\n",
    "    Python library 'pandas_market_calendars' version 2.0 as 'mcal' as:\n",
    "        >>> import pandas_market_calendarsas mcal\n",
    "    Python sub-library 'datetime' from the Python library 'datetime' imported as:\n",
    "        >>> from datetime import datetime\n",
    "    Python sub-library 'relativedelta' from the Python library 'dateutil' version 2.8.1, imported as:\n",
    "        >>> from dateutil.relativedelta import relativedelta\n",
    "\n",
    "    Parameters\n",
    "    ----------\n",
    "\n",
    "    ID: sting\n",
    "        Issue Date; the date that the bond was issued at in \"%Y-%m-%d\" format.\n",
    "\n",
    "    TERM: float or integer\n",
    "        Term (i.e.: years to maturity as of time of issue) of the bond.\n",
    "\n",
    "    RDL: string\n",
    "        Redepmtion Date (Last); the date that the bond matures in \"%Y-%m-%d\" format.\n",
    "\n",
    "    day_type: str\n",
    "        Needs to be either \"business\" or \"calendar\".\n",
    "        If set to \"calendar\", the exact day the coupon should have been paid will be returned.\n",
    "        If set to \"business\", then the next business day is returned instead.\n",
    "        Default: day_type=\"business\"\n",
    "\n",
    "    acpf: float or integer\n",
    "        The frequency of coupon payments per year; e.g.: Semi-annual/6-month coupon payments reflect in acpf=0.5.\n",
    "        Default: acpf=0.5\n",
    "\n",
    "    holidays: None or pandas.tseries.holiday item\n",
    "        ' holidays ' is the set of ' pandas.tseries.holiday ' you would like to use.\n",
    "        Either ' holidays ' or ' pandas_market_calendar ' must be set to None.\n",
    "        E.g.: pandas.tseries.holiday.USFederalHolidayCalendar.\n",
    "        For more choices, see: https://pandas.pydata.org/pandas-docs/stable/user_guide/timeseries.html\n",
    "        Default: holidays=None\n",
    "\n",
    "    pandas_market_cal: None or pandas.core.indexes.datetimes.DatetimeIndex\n",
    "        If a pandas.core.indexes.datetimes.DatetimeIndex, its holidays will be used.\n",
    "        Either ' holidays ' or ' pandas_market_calendar ' must be set to None.\n",
    "        You may use the 'pandas_market_calendar' to define this argument. More info at: https://pypi.org/project/pandas-market-calendars/\n",
    "        Default: pandas_market_calendar=mcal.get_calendar('NYSE')\n",
    "\n",
    "    Returns\n",
    "    -------\n",
    "\n",
    "    datetime.datetime object.\n",
    "    \"\"\"\n",
    "\n",
    "    # ' _date_l ' is a list of all coupon payment dates in increments decided\n",
    "    # by acpf up to and including date of the bond's maturity.\n",
    "    _date_l = [datetime.strptime(ID, '%Y-%m-%d') +\n",
    "                relativedelta(months=+int(12*acpf)*i)\n",
    "                for i in range(int(TERM/acpf)+1)][1:]  #  NOTE: ' _date_l ' has elements at each month increment. E.g.: if acpf=0.5 and ID=2020-01-31, then _date_l2's 1st element will be 2020-06-30, not 2020-07-01 as expected.\n",
    "\n",
    "    for i in range(len(_date_l)):  # Choose only the last calendar day of each month\n",
    "        _date_l[i] = datetime.strptime(str(pandas.to_datetime(\n",
    "            pandas.tseries.offsets.MonthEnd().rollforward(\n",
    "                _date_l[i])))[0:10], '%Y-%m-%d')  # This is beyond ugly I know\n",
    "\n",
    "    # If ' day_type == \"business\" ', then we'd like this reflected in ' _date_l '\n",
    "    if day_type == \"business\":\n",
    "\n",
    "        for i in range(len(_date_l)):\n",
    "            elem = _date_l[i]\n",
    "\n",
    "            if holidays is not None:  # I tried my best here, but it is only used for an example; I'd suggest anyone using this code to check the exact cash-flow of their instrument.\n",
    "                _hol = holidays().holidays(elem, elem)\n",
    "                if _hol.size > 0:  # If list is not empty\n",
    "                    hol = datetime.strptime(str(_hol[0])[0:10], '%Y-%m-%d')\n",
    "                while (len(pandas.bdate_range(elem, elem)) != 1) or ((_hol.size > 0) and (elem == hol)):\n",
    "                    elem = elem + relativedelta(days=+1)\n",
    "                _date_l[i] = elem\n",
    "\n",
    "            elif pandas_market_cal is not None:  # I tried my best here, but it is only used for an example; I'd suggest anyone using this code to check the exact cash-flow of their instrument.\n",
    "                elem_s = elem.strftime('%Y-%m-%d')\n",
    "                valid = pandas_market_cal.valid_days(\n",
    "                    start_date=elem_s, end_date=elem_s)\n",
    "                while not valid.size:\n",
    "                    elem = elem + relativedelta(days=+1)\n",
    "                    elem_s = elem.strftime('%Y-%m-%d')\n",
    "                    valid = pandas_market_cal.valid_days(\n",
    "                        start_date=elem_s, end_date=elem_s)\n",
    "                _date_l[i] = elem\n",
    "\n",
    "            else:\n",
    "                while (len(pandas.bdate_range(elem, elem))) != 1:  # or (elem.month == 12 and elem.weekday() == 4):  # or (elem.month == 1 and elem.weekday() == 0):  # Are 1st mondays of the year not included?\n",
    "                    elem = elem + relativedelta(days=+1)\n",
    "                _date_l[i] = elem\n",
    "\n",
    "    return _date_l"
   ]
  },
  {
   "cell_type": "code",
   "execution_count": 13,
   "id": "007f6d56-dbda-43ad-a366-a84a12515d29",
   "metadata": {
    "tags": []
   },
   "outputs": [],
   "source": [
    "def DSWS_fixed_and_price_data_collection_and_ytm(instruments,\n",
    "                                                 f_acf=0.5,\n",
    "                                                 fields=[\"DSCD\", \"NAME\", \"ID\",\n",
    "                                                         \"TERM\", \"RV\", \"C\",\n",
    "                                                         \"CTYP\", \"RDL\"],\n",
    "                                                 c_day_type=\"business\",\n",
    "                                                 c_holidays=None,\n",
    "                                                 c_pandas_market_cal=mcal.get_calendar('NYSE')):\n",
    "    \"\"\"DSWS_fixed_and_price_data_collection_and_ytm(instruments, fields=[\"DSCD\", \"NAME\", \"ID\", \"TERM\", \"RV\", \"C\", \"CTYP\", \"RDL\"]) Version 1.0\n",
    "    This Python function collects fixed and price data for any list of instruments into a compact pandas data-frame.\n",
    "    Fixed data differ from other data-types in that they do not change with time; e.g.: the Coupon Rate of a US Treasury Bond does not change with time, while its price on the secondary market does.\n",
    "\n",
    "    Dependencies\n",
    "    ----------\n",
    "\n",
    "    Python library 'pandas' version 1.2.4.\n",
    "    Python library 'DatastreamDSWS' authenticated in the object ' ds '.\n",
    "    The defined function ' DSWS_fixed_data_collection ' version 1.0.\n",
    "    The defined function ' YTM_Solver ' version 1.0.\n",
    "\n",
    "    Parameters\n",
    "    ----------\n",
    "\n",
    "    instruments: list\n",
    "        Python list of strings of instruments' Datastream Codes/Mnemonic.\n",
    "        This ' DSWS_fixed_data_collection ' function will iterate through it.\n",
    "\n",
    "    f_acf: float or integer\n",
    "        The frequency of coupon payments per year; e.g.: Semi-annual/6-month coupon payments reflect in f_acf=0.5.\n",
    "        Default: f_acf=0.5\n",
    "\n",
    "    fields: list\n",
    "        Python list of strings of fields as per Datastream.\n",
    "        This ' DSWS_fixed_data_collection ' function will iterate through it.\n",
    "        Default: fields=[\"DSCD\", \"NAME\", \"ID\", \"TERM\", \"RV\", \"C\", \"CTYP\", \"RDL\"]\n",
    "\n",
    "    c_day_type: str\n",
    "        Needs to be either \"business\" or \"calendar\".\n",
    "        If set to \"calendar\", the exact day the coupon should have been paid will be returned.\n",
    "        If set to \"business\", then the next business day is returned instead.\n",
    "        Default: c_day_type=\"business\"\n",
    "\n",
    "    c_holidays: None or pandas.tseries.holiday item\n",
    "        ' holidays ' is the set of ' pandas.tseries.holiday ' you would like to use.\n",
    "        Either ' c_holidays ' or ' c_pandas_market_cal ' must be set to None.\n",
    "        E.g.: pandas.tseries.holiday.USFederalHolidayCalendar.\n",
    "        For more choices, see: https://pandas.pydata.org/pandas-docs/stable/user_guide/timeseries.html\n",
    "        Default: c_holidays=None\n",
    "\n",
    "    c_pandas_market_cal: None or pandas.core.indexes.datetimes.DatetimeIndex\n",
    "        If a pandas.core.indexes.datetimes.DatetimeIndex, its holidays will be used.\n",
    "        Either ' c_holidays ' or ' c_pandas_market_cal ' must be set to None.\n",
    "        You may use the 'pandas_market_calendar' to define this argument. More info at: https://pypi.org/project/pandas-market-calendars/\n",
    "        Default: c_pandas_market_cal=mcal.get_calendar('NYSE')\n",
    "\n",
    "    Returns\n",
    "    -------\n",
    "\n",
    "    Pandas data-frame of fixed- and price- data asked for.\n",
    "\n",
    "    Examples:\n",
    "    --------\n",
    "    \n",
    "    >>> import DatastreamDSWS as dsws\n",
    "    >>> ds = dsws.Datastream(username=\"insert dsws username here\", password=\"insert dsws password here\")\n",
    "    >>> list_of_instruments = [\"613XGU\", \"616J44\", \"619AX8\", \"622HAG\", \"624Z3N\", \"628GF5\", \"6309UZ\", \"634DPQ\", \"637QZJ\", \"6403CY\", \"6439UZ\", \"646V3Q\"]\n",
    "    >>> def DSWS_fixed_data_collection(instruments=list_of_instruments):\n",
    "    >>>     dswsfdc_df = pandas.DataFrame()\n",
    "    >>>     for i in instruments:\n",
    "    >>>         _dswsfdc_df = ds.get_data(tickers=i, kind=0, fields=fields)\n",
    "    >>>         dswsfdc_df = dswsfdc_df.append(pandas.DataFrame(data=list(_dswsfdc_df['Value'].values), index=fields).T)\n",
    "    >>>     return dswsfdc_df\n",
    "    >>> DSWS_fixed_and_price_data_collection_and_ytm(instruments=list_of_instruments)\n",
    "    >>>\n",
    "    >>>     DSCD    NAME\t                                    ID    \t   TERM RV\tC\t\tCTYP\t   RDL\tPrice at issue\tYTM\n",
    "    >>> 0   613XGU  US TREASURY NOTE 2020 1/4% 31/07/25 AB-2025 2020-07-31  5\t100\t0.25\tFIX\t2025-07-31\t100.2031\t\t0.002091\n",
    "    >>> 0   616J44  US TREASURY NOTE 2020 1/4% 31/08/25 AC-2025 2020-08-31  5\t100\t0.25\tFIX\t2025-08-31\t99.9063\t\t\t0.002689\n",
    "    >>> 0   619AX8  US TREASURY NOTE 2020 1/4% 30/09/25 AD-2025 2020-09-30  5\t100\t0.25\tFIX\t2025-09-30\t99.8594\t\t\t0.002783\n",
    "    >>> 0   622HAG  US TREASURY NOTE 2020 1/4% 31/10/25 AF-2025 2020-10-31  5\t100\t0.25\tFIX\t2025-10-31\t99.3359\t\t\t0.003842\n",
    "    >>> 0   624Z3N  US TREASURY NOTE 2020 3/8% 30/11/25 AG-2025 2020-11-30  5\t100\t0.375\tFIX\t2025-11-30\t100.0547\t\t0.003640\n",
    "    >>> 0   628GF5  US TREASURY NOTE 2020 3/8% 31/12/25 AH-2025 2020-12-31  5\t100\t0.375\tFIX\t2025-12-31\t100.0703\t\t0.003608\n",
    "    >>> 0   6309UZ  US TREASURY NOTE 2021 3/8% 31/01/26 U-2026  2021-01-31  5\t100\t0.375\tFIX\t2026-01-31\t99.7500\t\t\t0.004256\n",
    "    >>> 0   634DPQ  US TREASURY NOTE 2021 1/2% 28/02/26 V-2026  2021-02-28  5\t100\t0.5\t    FIX\t2026-02-28\t98.8750\t\t\t0.007295\n",
    "    >>> 0   637QZJ  US TREASURY NOTE 2021 3/4% 31/03/26 W-2026  2021-03-31  5\t100\t0.75\tFIX\t2026-03-31\t99.0859\t\t\t0.009376\n",
    "    >>> 0   6403CY  US TREASURY NOTE 2021 3/4% 30/04/26 Y-2026  2021-04-30  5\t100\t0.75\tFIX\t2026-04-30\t99.5156\t\t\t0.008492\n",
    "    >>> 0   6439UZ  US TREASURY NOTE 2021 3/4% 31/05/26 Z-2026  2021-05-31  5\t100\t0.75\tFIX\t2026-05-31\t99.8125\t\t\t0.007883\n",
    "    >>> 0   646V3Q  US TREASURY NOTE 2021 7/8% 30/06/26 AA-2026 2021-06-30  5\t100\t0.875\tFIX\t2026-06-30\t99.9219\t\t\t0.008910\n",
    "    \"\"\"\n",
    "\n",
    "    _df = DSWS_fixed_data_collection(instruments=instruments, fields=fields)\n",
    "    _df[\"Price at issue\"] = [\n",
    "    float(ds.get_data(start=_df.iloc[i][\"ID\"], end=_df.iloc[i][\"ID\"],\n",
    "                      fields=\"X\", freq='D',\n",
    "                      tickers=_df.iloc[i][\"DSCD\"])[\"Value\"].values[0])\n",
    "    for i in range(len(_df))]\n",
    "\n",
    "    # Cash Flow Dates\n",
    "    _df[\"CD\"] = [Coupon_Dates(ID=_df.iloc[i][\"ID\"],\n",
    "                             TERM=_df.iloc[i][\"TERM\"],\n",
    "                             RDL=_df.iloc[i][\"RDL\"],\n",
    "                             day_type=c_day_type,\n",
    "                             acpf=f_acf, holidays=None,\n",
    "                             pandas_market_cal=c_pandas_market_cal)\n",
    "                 for i in range(len(_df.index))]\n",
    "\n",
    "    _df[\"CF\"] = [[_df.iloc[i][\"RV\"] * _df.iloc[i][\"C\"] / 100\n",
    "                  for j in range(int(_df.iloc[i][\"TERM\"] / f_acf))]\n",
    "                 for i in range(len(_df.index))]\n",
    "\n",
    "    # Add the YTM to our data-frame\n",
    "    _df[\"YTM\"] = [YTM_Solver(\n",
    "        fv=_df.iloc[i][\"RV\"],\n",
    "        c=_df.iloc[i][\"RV\"] * _df.iloc[i][\"C\"] / 100,\n",
    "        m=_df.iloc[i][\"TERM\"],\n",
    "        f_acf=f_acf, error=False,\n",
    "        p=_df.iloc[i][\"Price at issue\"])\n",
    "                  for i in range(len(_df.index))]\n",
    "\n",
    "    return _df"
   ]
  },
  {
   "cell_type": "markdown",
   "id": "713a2abb-35c7-48ed-bf46-fc6af26ca90f",
   "metadata": {},
   "source": [
    "Now we can searching the Datastream Navigator programaticaly with DSWS:"
   ]
  },
  {
   "cell_type": "code",
   "execution_count": 14,
   "id": "5dfe4661-e1df-4ffe-9ab8-03efb2d389d0",
   "metadata": {},
   "outputs": [],
   "source": [
    "# Collect a list of all the relevent Datastream Instrument Codes:\n",
    "list_of_instrument_dfs, list_of_instruments = [], []\n",
    "for j in range(2022, 2027):  # range from year to year\n",
    "    for i in range(1, 13):  # range from month to month\n",
    "        monthrange = calendar.monthrange(j, i)  # This gives two numbers in a tuple, the start day of any month (always 1) and the last.\n",
    "        search_term = 'US Treasury Note ' + str(j-5) + ' ' + str(  # Our search term is what we are going to look for; imagine we are using the Datastream Navigator and searching for that term. The ' -5 ' is here because we're looking at Bonds with 5 year terms.\n",
    "            monthrange[1]) + '/' + '{:>02}'.format(i) + '/' + str(j)[2:]  # ' monthrange[1] ' is the last date of that month. Also, ' '{:>02}'.format(i) ' adds a leading '0' in front of single digits, which is needed in our search term.\n",
    "        instrument = ds.get_data(  # This gets the lookup data from Datastream's Navigator's API via the ' DS.SYMBOLLOOKUP ' field.\n",
    "            tickers=search_term, kind=0,\n",
    "            fields=['DS.SYMBOLLOOKUP(Category=Bonds & Convertibles)'])\n",
    "        list_of_instrument_dfs.append(instrument)\n",
    "        if instrument[\"Value\"][0] != \"No matches\":\n",
    "            list_of_instruments.append(instrument[\"Instrument\"].values[0])"
   ]
  },
  {
   "cell_type": "markdown",
   "id": "9826431d-18da-4ae0-893e-aed1998b23a8",
   "metadata": {},
   "source": [
    "Now we can use them all together:"
   ]
  },
  {
   "cell_type": "code",
   "execution_count": 15,
   "id": "96bf648c-7ccd-4ce0-9ce6-b9da1edd094b",
   "metadata": {},
   "outputs": [],
   "source": [
    "# I happen to have run the above before, and the list we're looking for is the below:\n",
    "list_of_instruments = [\"613XGU\", \"616J44\", \"619AX8\", \"622HAG\", \"624Z3N\",\n",
    "                       \"628GF5\", \"6309UZ\", \"634DPQ\", \"637QZJ\", \"6403CY\",\n",
    "                       \"6439UZ\", \"646V3Q\"]"
   ]
  },
  {
   "cell_type": "code",
   "execution_count": 16,
   "id": "35181284-c248-4d08-8f93-baa86db1daa4",
   "metadata": {},
   "outputs": [
    {
     "data": {
      "text/html": [
       "<div>\n",
       "<style scoped>\n",
       "    .dataframe tbody tr th:only-of-type {\n",
       "        vertical-align: middle;\n",
       "    }\n",
       "\n",
       "    .dataframe tbody tr th {\n",
       "        vertical-align: top;\n",
       "    }\n",
       "\n",
       "    .dataframe thead th {\n",
       "        text-align: right;\n",
       "    }\n",
       "</style>\n",
       "<table border=\"1\" class=\"dataframe\">\n",
       "  <thead>\n",
       "    <tr style=\"text-align: right;\">\n",
       "      <th></th>\n",
       "      <th>DSCD</th>\n",
       "      <th>NAME</th>\n",
       "      <th>ID</th>\n",
       "      <th>TERM</th>\n",
       "      <th>RV</th>\n",
       "      <th>C</th>\n",
       "      <th>CTYP</th>\n",
       "      <th>RDL</th>\n",
       "      <th>Price at issue</th>\n",
       "      <th>CD</th>\n",
       "      <th>CF</th>\n",
       "      <th>YTM</th>\n",
       "    </tr>\n",
       "  </thead>\n",
       "  <tbody>\n",
       "    <tr>\n",
       "      <th>0</th>\n",
       "      <td>613XGU</td>\n",
       "      <td>US TREASURY NOTE 2020 1/4% 31/07/25 AB-2025</td>\n",
       "      <td>2020-07-31</td>\n",
       "      <td>5</td>\n",
       "      <td>100</td>\n",
       "      <td>0.25</td>\n",
       "      <td>FIX</td>\n",
       "      <td>2025-07-31</td>\n",
       "      <td>100.2031</td>\n",
       "      <td>[2021-02-01 00:00:00, 2021-08-02 00:00:00, 202...</td>\n",
       "      <td>[0.25, 0.25, 0.25, 0.25, 0.25, 0.25, 0.25, 0.2...</td>\n",
       "      <td>0.002091</td>\n",
       "    </tr>\n",
       "    <tr>\n",
       "      <th>0</th>\n",
       "      <td>616J44</td>\n",
       "      <td>US TREASURY NOTE 2020 1/4% 31/08/25 AC-2025</td>\n",
       "      <td>2020-08-31</td>\n",
       "      <td>5</td>\n",
       "      <td>100</td>\n",
       "      <td>0.25</td>\n",
       "      <td>FIX</td>\n",
       "      <td>2025-08-31</td>\n",
       "      <td>99.9063</td>\n",
       "      <td>[2021-03-01 00:00:00, 2021-08-31 00:00:00, 202...</td>\n",
       "      <td>[0.25, 0.25, 0.25, 0.25, 0.25, 0.25, 0.25, 0.2...</td>\n",
       "      <td>0.002689</td>\n",
       "    </tr>\n",
       "    <tr>\n",
       "      <th>0</th>\n",
       "      <td>619AX8</td>\n",
       "      <td>US TREASURY NOTE 2020 1/4% 30/09/25 AD-2025</td>\n",
       "      <td>2020-09-30</td>\n",
       "      <td>5</td>\n",
       "      <td>100</td>\n",
       "      <td>0.25</td>\n",
       "      <td>FIX</td>\n",
       "      <td>2025-09-30</td>\n",
       "      <td>99.8594</td>\n",
       "      <td>[2021-03-31 00:00:00, 2021-09-30 00:00:00, 202...</td>\n",
       "      <td>[0.25, 0.25, 0.25, 0.25, 0.25, 0.25, 0.25, 0.2...</td>\n",
       "      <td>0.002783</td>\n",
       "    </tr>\n",
       "    <tr>\n",
       "      <th>0</th>\n",
       "      <td>622HAG</td>\n",
       "      <td>US TREASURY NOTE 2020 1/4% 31/10/25 AF-2025</td>\n",
       "      <td>2020-10-31</td>\n",
       "      <td>5</td>\n",
       "      <td>100</td>\n",
       "      <td>0.25</td>\n",
       "      <td>FIX</td>\n",
       "      <td>2025-10-31</td>\n",
       "      <td>99.3359</td>\n",
       "      <td>[2021-04-30 00:00:00, 2021-11-01 00:00:00, 202...</td>\n",
       "      <td>[0.25, 0.25, 0.25, 0.25, 0.25, 0.25, 0.25, 0.2...</td>\n",
       "      <td>0.003842</td>\n",
       "    </tr>\n",
       "    <tr>\n",
       "      <th>0</th>\n",
       "      <td>624Z3N</td>\n",
       "      <td>US TREASURY NOTE 2020 3/8% 30/11/25 AG-2025</td>\n",
       "      <td>2020-11-30</td>\n",
       "      <td>5</td>\n",
       "      <td>100</td>\n",
       "      <td>0.375</td>\n",
       "      <td>FIX</td>\n",
       "      <td>2025-11-30</td>\n",
       "      <td>100.0547</td>\n",
       "      <td>[2021-06-01 00:00:00, 2021-11-30 00:00:00, 202...</td>\n",
       "      <td>[0.375, 0.375, 0.375, 0.375, 0.375, 0.375, 0.3...</td>\n",
       "      <td>0.003640</td>\n",
       "    </tr>\n",
       "    <tr>\n",
       "      <th>0</th>\n",
       "      <td>628GF5</td>\n",
       "      <td>US TREASURY NOTE 2020 3/8% 31/12/25 AH-2025</td>\n",
       "      <td>2020-12-31</td>\n",
       "      <td>5</td>\n",
       "      <td>100</td>\n",
       "      <td>0.375</td>\n",
       "      <td>FIX</td>\n",
       "      <td>2025-12-31</td>\n",
       "      <td>100.0703</td>\n",
       "      <td>[2021-06-30 00:00:00, 2021-12-31 00:00:00, 202...</td>\n",
       "      <td>[0.375, 0.375, 0.375, 0.375, 0.375, 0.375, 0.3...</td>\n",
       "      <td>0.003608</td>\n",
       "    </tr>\n",
       "    <tr>\n",
       "      <th>0</th>\n",
       "      <td>6309UZ</td>\n",
       "      <td>US TREASURY NOTE 2021 3/8% 31/01/26 U-2026</td>\n",
       "      <td>2021-01-31</td>\n",
       "      <td>5</td>\n",
       "      <td>100</td>\n",
       "      <td>0.375</td>\n",
       "      <td>FIX</td>\n",
       "      <td>2026-01-31</td>\n",
       "      <td>99.7500</td>\n",
       "      <td>[2021-08-02 00:00:00, 2022-01-31 00:00:00, 202...</td>\n",
       "      <td>[0.375, 0.375, 0.375, 0.375, 0.375, 0.375, 0.3...</td>\n",
       "      <td>0.004256</td>\n",
       "    </tr>\n",
       "    <tr>\n",
       "      <th>0</th>\n",
       "      <td>634DPQ</td>\n",
       "      <td>US TREASURY NOTE 2021 1/2% 28/02/26 V-2026</td>\n",
       "      <td>2021-02-28</td>\n",
       "      <td>5</td>\n",
       "      <td>100</td>\n",
       "      <td>0.5</td>\n",
       "      <td>FIX</td>\n",
       "      <td>2026-02-28</td>\n",
       "      <td>98.8750</td>\n",
       "      <td>[2021-08-31 00:00:00, 2022-02-28 00:00:00, 202...</td>\n",
       "      <td>[0.5, 0.5, 0.5, 0.5, 0.5, 0.5, 0.5, 0.5, 0.5, ...</td>\n",
       "      <td>0.007295</td>\n",
       "    </tr>\n",
       "    <tr>\n",
       "      <th>0</th>\n",
       "      <td>637QZJ</td>\n",
       "      <td>US TREASURY NOTE 2021 3/4% 31/03/26 W-2026</td>\n",
       "      <td>2021-03-31</td>\n",
       "      <td>5</td>\n",
       "      <td>100</td>\n",
       "      <td>0.75</td>\n",
       "      <td>FIX</td>\n",
       "      <td>2026-03-31</td>\n",
       "      <td>99.0859</td>\n",
       "      <td>[2021-09-30 00:00:00, 2022-03-31 00:00:00, 202...</td>\n",
       "      <td>[0.75, 0.75, 0.75, 0.75, 0.75, 0.75, 0.75, 0.7...</td>\n",
       "      <td>0.009376</td>\n",
       "    </tr>\n",
       "    <tr>\n",
       "      <th>0</th>\n",
       "      <td>6403CY</td>\n",
       "      <td>US TREASURY NOTE 2021 3/4% 30/04/26 Y-2026</td>\n",
       "      <td>2021-04-30</td>\n",
       "      <td>5</td>\n",
       "      <td>100</td>\n",
       "      <td>0.75</td>\n",
       "      <td>FIX</td>\n",
       "      <td>2026-04-30</td>\n",
       "      <td>99.5156</td>\n",
       "      <td>[2021-11-01 00:00:00, 2022-05-02 00:00:00, 202...</td>\n",
       "      <td>[0.75, 0.75, 0.75, 0.75, 0.75, 0.75, 0.75, 0.7...</td>\n",
       "      <td>0.008492</td>\n",
       "    </tr>\n",
       "    <tr>\n",
       "      <th>0</th>\n",
       "      <td>6439UZ</td>\n",
       "      <td>US TREASURY NOTE 2021 3/4% 31/05/26 Z-2026</td>\n",
       "      <td>2021-05-31</td>\n",
       "      <td>5</td>\n",
       "      <td>100</td>\n",
       "      <td>0.75</td>\n",
       "      <td>FIX</td>\n",
       "      <td>2026-05-31</td>\n",
       "      <td>99.8125</td>\n",
       "      <td>[2021-11-30 00:00:00, 2022-05-31 00:00:00, 202...</td>\n",
       "      <td>[0.75, 0.75, 0.75, 0.75, 0.75, 0.75, 0.75, 0.7...</td>\n",
       "      <td>0.007883</td>\n",
       "    </tr>\n",
       "    <tr>\n",
       "      <th>0</th>\n",
       "      <td>646V3Q</td>\n",
       "      <td>US TREASURY NOTE 2021 7/8% 30/06/26 AA-2026</td>\n",
       "      <td>2021-06-30</td>\n",
       "      <td>5</td>\n",
       "      <td>100</td>\n",
       "      <td>0.875</td>\n",
       "      <td>FIX</td>\n",
       "      <td>2026-06-30</td>\n",
       "      <td>99.9219</td>\n",
       "      <td>[2021-12-31 00:00:00, 2022-06-30 00:00:00, 202...</td>\n",
       "      <td>[0.875, 0.875, 0.875, 0.875, 0.875, 0.875, 0.8...</td>\n",
       "      <td>0.008910</td>\n",
       "    </tr>\n",
       "  </tbody>\n",
       "</table>\n",
       "</div>"
      ],
      "text/plain": [
       "     DSCD                                         NAME          ID TERM   RV  \\\n",
       "0  613XGU  US TREASURY NOTE 2020 1/4% 31/07/25 AB-2025  2020-07-31    5  100   \n",
       "0  616J44  US TREASURY NOTE 2020 1/4% 31/08/25 AC-2025  2020-08-31    5  100   \n",
       "0  619AX8  US TREASURY NOTE 2020 1/4% 30/09/25 AD-2025  2020-09-30    5  100   \n",
       "0  622HAG  US TREASURY NOTE 2020 1/4% 31/10/25 AF-2025  2020-10-31    5  100   \n",
       "0  624Z3N  US TREASURY NOTE 2020 3/8% 30/11/25 AG-2025  2020-11-30    5  100   \n",
       "0  628GF5  US TREASURY NOTE 2020 3/8% 31/12/25 AH-2025  2020-12-31    5  100   \n",
       "0  6309UZ   US TREASURY NOTE 2021 3/8% 31/01/26 U-2026  2021-01-31    5  100   \n",
       "0  634DPQ   US TREASURY NOTE 2021 1/2% 28/02/26 V-2026  2021-02-28    5  100   \n",
       "0  637QZJ   US TREASURY NOTE 2021 3/4% 31/03/26 W-2026  2021-03-31    5  100   \n",
       "0  6403CY   US TREASURY NOTE 2021 3/4% 30/04/26 Y-2026  2021-04-30    5  100   \n",
       "0  6439UZ   US TREASURY NOTE 2021 3/4% 31/05/26 Z-2026  2021-05-31    5  100   \n",
       "0  646V3Q  US TREASURY NOTE 2021 7/8% 30/06/26 AA-2026  2021-06-30    5  100   \n",
       "\n",
       "       C CTYP         RDL  Price at issue  \\\n",
       "0   0.25  FIX  2025-07-31        100.2031   \n",
       "0   0.25  FIX  2025-08-31         99.9063   \n",
       "0   0.25  FIX  2025-09-30         99.8594   \n",
       "0   0.25  FIX  2025-10-31         99.3359   \n",
       "0  0.375  FIX  2025-11-30        100.0547   \n",
       "0  0.375  FIX  2025-12-31        100.0703   \n",
       "0  0.375  FIX  2026-01-31         99.7500   \n",
       "0    0.5  FIX  2026-02-28         98.8750   \n",
       "0   0.75  FIX  2026-03-31         99.0859   \n",
       "0   0.75  FIX  2026-04-30         99.5156   \n",
       "0   0.75  FIX  2026-05-31         99.8125   \n",
       "0  0.875  FIX  2026-06-30         99.9219   \n",
       "\n",
       "                                                  CD  \\\n",
       "0  [2021-02-01 00:00:00, 2021-08-02 00:00:00, 202...   \n",
       "0  [2021-03-01 00:00:00, 2021-08-31 00:00:00, 202...   \n",
       "0  [2021-03-31 00:00:00, 2021-09-30 00:00:00, 202...   \n",
       "0  [2021-04-30 00:00:00, 2021-11-01 00:00:00, 202...   \n",
       "0  [2021-06-01 00:00:00, 2021-11-30 00:00:00, 202...   \n",
       "0  [2021-06-30 00:00:00, 2021-12-31 00:00:00, 202...   \n",
       "0  [2021-08-02 00:00:00, 2022-01-31 00:00:00, 202...   \n",
       "0  [2021-08-31 00:00:00, 2022-02-28 00:00:00, 202...   \n",
       "0  [2021-09-30 00:00:00, 2022-03-31 00:00:00, 202...   \n",
       "0  [2021-11-01 00:00:00, 2022-05-02 00:00:00, 202...   \n",
       "0  [2021-11-30 00:00:00, 2022-05-31 00:00:00, 202...   \n",
       "0  [2021-12-31 00:00:00, 2022-06-30 00:00:00, 202...   \n",
       "\n",
       "                                                  CF       YTM  \n",
       "0  [0.25, 0.25, 0.25, 0.25, 0.25, 0.25, 0.25, 0.2...  0.002091  \n",
       "0  [0.25, 0.25, 0.25, 0.25, 0.25, 0.25, 0.25, 0.2...  0.002689  \n",
       "0  [0.25, 0.25, 0.25, 0.25, 0.25, 0.25, 0.25, 0.2...  0.002783  \n",
       "0  [0.25, 0.25, 0.25, 0.25, 0.25, 0.25, 0.25, 0.2...  0.003842  \n",
       "0  [0.375, 0.375, 0.375, 0.375, 0.375, 0.375, 0.3...  0.003640  \n",
       "0  [0.375, 0.375, 0.375, 0.375, 0.375, 0.375, 0.3...  0.003608  \n",
       "0  [0.375, 0.375, 0.375, 0.375, 0.375, 0.375, 0.3...  0.004256  \n",
       "0  [0.5, 0.5, 0.5, 0.5, 0.5, 0.5, 0.5, 0.5, 0.5, ...  0.007295  \n",
       "0  [0.75, 0.75, 0.75, 0.75, 0.75, 0.75, 0.75, 0.7...  0.009376  \n",
       "0  [0.75, 0.75, 0.75, 0.75, 0.75, 0.75, 0.75, 0.7...  0.008492  \n",
       "0  [0.75, 0.75, 0.75, 0.75, 0.75, 0.75, 0.75, 0.7...  0.007883  \n",
       "0  [0.875, 0.875, 0.875, 0.875, 0.875, 0.875, 0.8...  0.008910  "
      ]
     },
     "execution_count": 16,
     "metadata": {},
     "output_type": "execute_result"
    }
   ],
   "source": [
    "# Collect original fixed data from DSWS:\n",
    "ytm_df = DSWS_fixed_and_price_data_collection_and_ytm(instruments=list_of_instruments)\n",
    "ytm_df"
   ]
  },
  {
   "cell_type": "markdown",
   "id": "ad3aac19-a6ef-4232-8265-9c7b292f45e6",
   "metadata": {},
   "source": [
    "Here's an example of one of the cash-flows outputted:"
   ]
  },
  {
   "cell_type": "code",
   "execution_count": 17,
   "id": "afd266a9-9f07-42a3-a2ad-a61221f6f00e",
   "metadata": {},
   "outputs": [
    {
     "data": {
      "text/html": [
       "<div>\n",
       "<style scoped>\n",
       "    .dataframe tbody tr th:only-of-type {\n",
       "        vertical-align: middle;\n",
       "    }\n",
       "\n",
       "    .dataframe tbody tr th {\n",
       "        vertical-align: top;\n",
       "    }\n",
       "\n",
       "    .dataframe thead th {\n",
       "        text-align: right;\n",
       "    }\n",
       "</style>\n",
       "<table border=\"1\" class=\"dataframe\">\n",
       "  <thead>\n",
       "    <tr style=\"text-align: right;\">\n",
       "      <th></th>\n",
       "      <th>2021-02-01</th>\n",
       "      <th>2021-08-02</th>\n",
       "      <th>2022-01-31</th>\n",
       "      <th>2022-08-01</th>\n",
       "      <th>2023-01-31</th>\n",
       "      <th>2023-07-31</th>\n",
       "      <th>2024-01-31</th>\n",
       "      <th>2024-07-31</th>\n",
       "      <th>2025-01-31</th>\n",
       "      <th>2025-07-31</th>\n",
       "    </tr>\n",
       "  </thead>\n",
       "  <tbody>\n",
       "    <tr>\n",
       "      <th>0</th>\n",
       "      <td>0.25</td>\n",
       "      <td>0.25</td>\n",
       "      <td>0.25</td>\n",
       "      <td>0.25</td>\n",
       "      <td>0.25</td>\n",
       "      <td>0.25</td>\n",
       "      <td>0.25</td>\n",
       "      <td>0.25</td>\n",
       "      <td>0.25</td>\n",
       "      <td>0.25</td>\n",
       "    </tr>\n",
       "  </tbody>\n",
       "</table>\n",
       "</div>"
      ],
      "text/plain": [
       "   2021-02-01  2021-08-02  2022-01-31  2022-08-01  2023-01-31  2023-07-31  \\\n",
       "0        0.25        0.25        0.25        0.25        0.25        0.25   \n",
       "\n",
       "   2024-01-31  2024-07-31  2025-01-31  2025-07-31  \n",
       "0        0.25        0.25        0.25        0.25  "
      ]
     },
     "execution_count": 17,
     "metadata": {},
     "output_type": "execute_result"
    }
   ],
   "source": [
    "pandas.DataFrame(data=ytm_df['CF'].iloc[0], index=ytm_df['CD'].iloc[0]).T"
   ]
  },
  {
   "cell_type": "markdown",
   "id": "ff138575-c6a1-4886-8b20-ffaee64ce3e6",
   "metadata": {},
   "source": [
    "##### Graph Series with [Plotly](https://plotly.com/)\n",
    "We can graph such YTMs or prices simply with the following:"
   ]
  },
  {
   "cell_type": "code",
   "execution_count": 18,
   "id": "a2d37729-76e4-4057-bcf8-d2de66204049",
   "metadata": {
    "tags": []
   },
   "outputs": [
    {
     "data": {
      "text/html": [
       "        <script type=\"text/javascript\">\n",
       "        window.PlotlyConfig = {MathJaxConfig: 'local'};\n",
       "        if (window.MathJax) {MathJax.Hub.Config({SVG: {font: \"STIX-Web\"}});}\n",
       "        if (typeof require !== 'undefined') {\n",
       "        require.undef(\"plotly\");\n",
       "        requirejs.config({\n",
       "            paths: {\n",
       "                'plotly': ['https://cdn.plot.ly/plotly-latest.min']\n",
       "            }\n",
       "        });\n",
       "        require(['plotly'], function(Plotly) {\n",
       "            window._Plotly = Plotly;\n",
       "        });\n",
       "        }\n",
       "        </script>\n",
       "        "
      ]
     },
     "metadata": {},
     "output_type": "display_data"
    },
    {
     "data": {
      "text/html": [
       "        <script type=\"text/javascript\">\n",
       "        window.PlotlyConfig = {MathJaxConfig: 'local'};\n",
       "        if (window.MathJax) {MathJax.Hub.Config({SVG: {font: \"STIX-Web\"}});}\n",
       "        if (typeof require !== 'undefined') {\n",
       "        require.undef(\"plotly\");\n",
       "        requirejs.config({\n",
       "            paths: {\n",
       "                'plotly': ['https://cdn.plot.ly/plotly-latest.min']\n",
       "            }\n",
       "        });\n",
       "        require(['plotly'], function(Plotly) {\n",
       "            window._Plotly = Plotly;\n",
       "        });\n",
       "        }\n",
       "        </script>\n",
       "        "
      ]
     },
     "metadata": {},
     "output_type": "display_data"
    },
    {
     "name": "stdout",
     "output_type": "stream",
     "text": [
      "The plotly library imported in this code is version: 4.14.3\n",
      "The cufflinks library imported in this code is version: 0.17.3\n"
     ]
    }
   ],
   "source": [
    "# 1st we need to import some new Python libraries:\n",
    "\n",
    "from datetime import date, timedelta\n",
    "import statistics\n",
    "\n",
    "# The below are needed to plot graphs of all kinds\n",
    "import plotly\n",
    "import plotly.express\n",
    "import plotly.graph_objects as go\n",
    "from plotly.subplots import make_subplots\n",
    "from plotly.offline import download_plotlyjs, init_notebook_mode, plot, iplot\n",
    "\n",
    "init_notebook_mode(connected=True)\n",
    "\n",
    "import cufflinks\n",
    "cufflinks.go_offline()\n",
    "# cufflinks.set_config_file(offline = True, world_readable = True)\n",
    "\n",
    "for i, j in zip([\"plotly\", \"cufflinks\"], [plotly, cufflinks]):\n",
    "    print(\"The \" + str(i) + \" library imported in this code is version: \" + j.__version__)"
   ]
  },
  {
   "cell_type": "code",
   "execution_count": 19,
   "id": "e3f8ffc6-9812-4b2d-bdb8-5f21b026993e",
   "metadata": {
    "tags": []
   },
   "outputs": [
    {
     "data": {
      "application/vnd.plotly.v1+json": {
       "config": {
        "plotlyServerURL": "https://chart-studio.plotly.com"
       },
       "data": [
        {
         "line": {
          "color": "#1f77b4"
         },
         "name": "Yield To Maturity",
         "type": "scatter",
         "x": [
          "2020-07-31",
          "2020-08-31",
          "2020-09-30",
          "2020-10-31",
          "2020-11-30",
          "2020-12-31",
          "2021-01-31",
          "2021-02-28",
          "2021-03-31",
          "2021-04-30",
          "2021-05-31",
          "2021-06-30"
         ],
         "xaxis": "x",
         "y": [
          0.0020914600723433274,
          0.002688788459565382,
          0.0027833568598190053,
          0.0038422745028348997,
          0.0036395020697463937,
          0.0036080011947972786,
          0.004255870480370703,
          0.00729538673700196,
          0.009375667302547932,
          0.008491567003482806,
          0.007883177495940665,
          0.008910052831709382
         ],
         "yaxis": "y"
        },
        {
         "line": {
          "color": "#383838"
         },
         "name": "Price at issue",
         "type": "scatter",
         "x": [
          "2020-07-31",
          "2020-08-31",
          "2020-09-30",
          "2020-10-31",
          "2020-11-30",
          "2020-12-31",
          "2021-01-31",
          "2021-02-28",
          "2021-03-31",
          "2021-04-30",
          "2021-05-31",
          "2021-06-30"
         ],
         "xaxis": "x",
         "y": [
          100.2031,
          99.9063,
          99.8594,
          99.3359,
          100.0547,
          100.0703,
          99.75,
          98.875,
          99.0859,
          99.5156,
          99.8125,
          99.9219
         ],
         "yaxis": "y2"
        }
       ],
       "layout": {
        "autosize": true,
        "shapes": [
         {
          "type": "line",
          "x0": "2020-11-15",
          "x1": "2020-11-15",
          "xref": "x",
          "y0": 0,
          "y1": 1,
          "yref": "paper"
         },
         {
          "type": "line",
          "x0": "2021-02-14",
          "x1": "2021-02-14",
          "xref": "x",
          "y0": 0,
          "y1": 1,
          "yref": "paper"
         },
         {
          "type": "line",
          "x0": "2021-03-16",
          "x1": "2021-03-16",
          "xref": "x",
          "y0": 0,
          "y1": 1,
          "yref": "paper"
         },
         {
          "type": "line",
          "x0": "2021-06-15",
          "x1": "2021-06-15",
          "xref": "x",
          "y0": 0,
          "y1": 1,
          "yref": "paper"
         }
        ],
        "template": {
         "data": {
          "bar": [
           {
            "error_x": {
             "color": "#2a3f5f"
            },
            "error_y": {
             "color": "#2a3f5f"
            },
            "marker": {
             "line": {
              "color": "#E5ECF6",
              "width": 0.5
             }
            },
            "type": "bar"
           }
          ],
          "barpolar": [
           {
            "marker": {
             "line": {
              "color": "#E5ECF6",
              "width": 0.5
             }
            },
            "type": "barpolar"
           }
          ],
          "carpet": [
           {
            "aaxis": {
             "endlinecolor": "#2a3f5f",
             "gridcolor": "white",
             "linecolor": "white",
             "minorgridcolor": "white",
             "startlinecolor": "#2a3f5f"
            },
            "baxis": {
             "endlinecolor": "#2a3f5f",
             "gridcolor": "white",
             "linecolor": "white",
             "minorgridcolor": "white",
             "startlinecolor": "#2a3f5f"
            },
            "type": "carpet"
           }
          ],
          "choropleth": [
           {
            "colorbar": {
             "outlinewidth": 0,
             "ticks": ""
            },
            "type": "choropleth"
           }
          ],
          "contour": [
           {
            "colorbar": {
             "outlinewidth": 0,
             "ticks": ""
            },
            "colorscale": [
             [
              0,
              "#0d0887"
             ],
             [
              0.1111111111111111,
              "#46039f"
             ],
             [
              0.2222222222222222,
              "#7201a8"
             ],
             [
              0.3333333333333333,
              "#9c179e"
             ],
             [
              0.4444444444444444,
              "#bd3786"
             ],
             [
              0.5555555555555556,
              "#d8576b"
             ],
             [
              0.6666666666666666,
              "#ed7953"
             ],
             [
              0.7777777777777778,
              "#fb9f3a"
             ],
             [
              0.8888888888888888,
              "#fdca26"
             ],
             [
              1,
              "#f0f921"
             ]
            ],
            "type": "contour"
           }
          ],
          "contourcarpet": [
           {
            "colorbar": {
             "outlinewidth": 0,
             "ticks": ""
            },
            "type": "contourcarpet"
           }
          ],
          "heatmap": [
           {
            "colorbar": {
             "outlinewidth": 0,
             "ticks": ""
            },
            "colorscale": [
             [
              0,
              "#0d0887"
             ],
             [
              0.1111111111111111,
              "#46039f"
             ],
             [
              0.2222222222222222,
              "#7201a8"
             ],
             [
              0.3333333333333333,
              "#9c179e"
             ],
             [
              0.4444444444444444,
              "#bd3786"
             ],
             [
              0.5555555555555556,
              "#d8576b"
             ],
             [
              0.6666666666666666,
              "#ed7953"
             ],
             [
              0.7777777777777778,
              "#fb9f3a"
             ],
             [
              0.8888888888888888,
              "#fdca26"
             ],
             [
              1,
              "#f0f921"
             ]
            ],
            "type": "heatmap"
           }
          ],
          "heatmapgl": [
           {
            "colorbar": {
             "outlinewidth": 0,
             "ticks": ""
            },
            "colorscale": [
             [
              0,
              "#0d0887"
             ],
             [
              0.1111111111111111,
              "#46039f"
             ],
             [
              0.2222222222222222,
              "#7201a8"
             ],
             [
              0.3333333333333333,
              "#9c179e"
             ],
             [
              0.4444444444444444,
              "#bd3786"
             ],
             [
              0.5555555555555556,
              "#d8576b"
             ],
             [
              0.6666666666666666,
              "#ed7953"
             ],
             [
              0.7777777777777778,
              "#fb9f3a"
             ],
             [
              0.8888888888888888,
              "#fdca26"
             ],
             [
              1,
              "#f0f921"
             ]
            ],
            "type": "heatmapgl"
           }
          ],
          "histogram": [
           {
            "marker": {
             "colorbar": {
              "outlinewidth": 0,
              "ticks": ""
             }
            },
            "type": "histogram"
           }
          ],
          "histogram2d": [
           {
            "colorbar": {
             "outlinewidth": 0,
             "ticks": ""
            },
            "colorscale": [
             [
              0,
              "#0d0887"
             ],
             [
              0.1111111111111111,
              "#46039f"
             ],
             [
              0.2222222222222222,
              "#7201a8"
             ],
             [
              0.3333333333333333,
              "#9c179e"
             ],
             [
              0.4444444444444444,
              "#bd3786"
             ],
             [
              0.5555555555555556,
              "#d8576b"
             ],
             [
              0.6666666666666666,
              "#ed7953"
             ],
             [
              0.7777777777777778,
              "#fb9f3a"
             ],
             [
              0.8888888888888888,
              "#fdca26"
             ],
             [
              1,
              "#f0f921"
             ]
            ],
            "type": "histogram2d"
           }
          ],
          "histogram2dcontour": [
           {
            "colorbar": {
             "outlinewidth": 0,
             "ticks": ""
            },
            "colorscale": [
             [
              0,
              "#0d0887"
             ],
             [
              0.1111111111111111,
              "#46039f"
             ],
             [
              0.2222222222222222,
              "#7201a8"
             ],
             [
              0.3333333333333333,
              "#9c179e"
             ],
             [
              0.4444444444444444,
              "#bd3786"
             ],
             [
              0.5555555555555556,
              "#d8576b"
             ],
             [
              0.6666666666666666,
              "#ed7953"
             ],
             [
              0.7777777777777778,
              "#fb9f3a"
             ],
             [
              0.8888888888888888,
              "#fdca26"
             ],
             [
              1,
              "#f0f921"
             ]
            ],
            "type": "histogram2dcontour"
           }
          ],
          "mesh3d": [
           {
            "colorbar": {
             "outlinewidth": 0,
             "ticks": ""
            },
            "type": "mesh3d"
           }
          ],
          "parcoords": [
           {
            "line": {
             "colorbar": {
              "outlinewidth": 0,
              "ticks": ""
             }
            },
            "type": "parcoords"
           }
          ],
          "pie": [
           {
            "automargin": true,
            "type": "pie"
           }
          ],
          "scatter": [
           {
            "marker": {
             "colorbar": {
              "outlinewidth": 0,
              "ticks": ""
             }
            },
            "type": "scatter"
           }
          ],
          "scatter3d": [
           {
            "line": {
             "colorbar": {
              "outlinewidth": 0,
              "ticks": ""
             }
            },
            "marker": {
             "colorbar": {
              "outlinewidth": 0,
              "ticks": ""
             }
            },
            "type": "scatter3d"
           }
          ],
          "scattercarpet": [
           {
            "marker": {
             "colorbar": {
              "outlinewidth": 0,
              "ticks": ""
             }
            },
            "type": "scattercarpet"
           }
          ],
          "scattergeo": [
           {
            "marker": {
             "colorbar": {
              "outlinewidth": 0,
              "ticks": ""
             }
            },
            "type": "scattergeo"
           }
          ],
          "scattergl": [
           {
            "marker": {
             "colorbar": {
              "outlinewidth": 0,
              "ticks": ""
             }
            },
            "type": "scattergl"
           }
          ],
          "scattermapbox": [
           {
            "marker": {
             "colorbar": {
              "outlinewidth": 0,
              "ticks": ""
             }
            },
            "type": "scattermapbox"
           }
          ],
          "scatterpolar": [
           {
            "marker": {
             "colorbar": {
              "outlinewidth": 0,
              "ticks": ""
             }
            },
            "type": "scatterpolar"
           }
          ],
          "scatterpolargl": [
           {
            "marker": {
             "colorbar": {
              "outlinewidth": 0,
              "ticks": ""
             }
            },
            "type": "scatterpolargl"
           }
          ],
          "scatterternary": [
           {
            "marker": {
             "colorbar": {
              "outlinewidth": 0,
              "ticks": ""
             }
            },
            "type": "scatterternary"
           }
          ],
          "surface": [
           {
            "colorbar": {
             "outlinewidth": 0,
             "ticks": ""
            },
            "colorscale": [
             [
              0,
              "#0d0887"
             ],
             [
              0.1111111111111111,
              "#46039f"
             ],
             [
              0.2222222222222222,
              "#7201a8"
             ],
             [
              0.3333333333333333,
              "#9c179e"
             ],
             [
              0.4444444444444444,
              "#bd3786"
             ],
             [
              0.5555555555555556,
              "#d8576b"
             ],
             [
              0.6666666666666666,
              "#ed7953"
             ],
             [
              0.7777777777777778,
              "#fb9f3a"
             ],
             [
              0.8888888888888888,
              "#fdca26"
             ],
             [
              1,
              "#f0f921"
             ]
            ],
            "type": "surface"
           }
          ],
          "table": [
           {
            "cells": {
             "fill": {
              "color": "#EBF0F8"
             },
             "line": {
              "color": "white"
             }
            },
            "header": {
             "fill": {
              "color": "#C8D4E3"
             },
             "line": {
              "color": "white"
             }
            },
            "type": "table"
           }
          ]
         },
         "layout": {
          "annotationdefaults": {
           "arrowcolor": "#2a3f5f",
           "arrowhead": 0,
           "arrowwidth": 1
          },
          "autotypenumbers": "strict",
          "coloraxis": {
           "colorbar": {
            "outlinewidth": 0,
            "ticks": ""
           }
          },
          "colorscale": {
           "diverging": [
            [
             0,
             "#8e0152"
            ],
            [
             0.1,
             "#c51b7d"
            ],
            [
             0.2,
             "#de77ae"
            ],
            [
             0.3,
             "#f1b6da"
            ],
            [
             0.4,
             "#fde0ef"
            ],
            [
             0.5,
             "#f7f7f7"
            ],
            [
             0.6,
             "#e6f5d0"
            ],
            [
             0.7,
             "#b8e186"
            ],
            [
             0.8,
             "#7fbc41"
            ],
            [
             0.9,
             "#4d9221"
            ],
            [
             1,
             "#276419"
            ]
           ],
           "sequential": [
            [
             0,
             "#0d0887"
            ],
            [
             0.1111111111111111,
             "#46039f"
            ],
            [
             0.2222222222222222,
             "#7201a8"
            ],
            [
             0.3333333333333333,
             "#9c179e"
            ],
            [
             0.4444444444444444,
             "#bd3786"
            ],
            [
             0.5555555555555556,
             "#d8576b"
            ],
            [
             0.6666666666666666,
             "#ed7953"
            ],
            [
             0.7777777777777778,
             "#fb9f3a"
            ],
            [
             0.8888888888888888,
             "#fdca26"
            ],
            [
             1,
             "#f0f921"
            ]
           ],
           "sequentialminus": [
            [
             0,
             "#0d0887"
            ],
            [
             0.1111111111111111,
             "#46039f"
            ],
            [
             0.2222222222222222,
             "#7201a8"
            ],
            [
             0.3333333333333333,
             "#9c179e"
            ],
            [
             0.4444444444444444,
             "#bd3786"
            ],
            [
             0.5555555555555556,
             "#d8576b"
            ],
            [
             0.6666666666666666,
             "#ed7953"
            ],
            [
             0.7777777777777778,
             "#fb9f3a"
            ],
            [
             0.8888888888888888,
             "#fdca26"
            ],
            [
             1,
             "#f0f921"
            ]
           ]
          },
          "colorway": [
           "#636efa",
           "#EF553B",
           "#00cc96",
           "#ab63fa",
           "#FFA15A",
           "#19d3f3",
           "#FF6692",
           "#B6E880",
           "#FF97FF",
           "#FECB52"
          ],
          "font": {
           "color": "#2a3f5f"
          },
          "geo": {
           "bgcolor": "white",
           "lakecolor": "white",
           "landcolor": "#E5ECF6",
           "showlakes": true,
           "showland": true,
           "subunitcolor": "white"
          },
          "hoverlabel": {
           "align": "left"
          },
          "hovermode": "closest",
          "mapbox": {
           "style": "light"
          },
          "paper_bgcolor": "white",
          "plot_bgcolor": "#E5ECF6",
          "polar": {
           "angularaxis": {
            "gridcolor": "white",
            "linecolor": "white",
            "ticks": ""
           },
           "bgcolor": "#E5ECF6",
           "radialaxis": {
            "gridcolor": "white",
            "linecolor": "white",
            "ticks": ""
           }
          },
          "scene": {
           "xaxis": {
            "backgroundcolor": "#E5ECF6",
            "gridcolor": "white",
            "gridwidth": 2,
            "linecolor": "white",
            "showbackground": true,
            "ticks": "",
            "zerolinecolor": "white"
           },
           "yaxis": {
            "backgroundcolor": "#E5ECF6",
            "gridcolor": "white",
            "gridwidth": 2,
            "linecolor": "white",
            "showbackground": true,
            "ticks": "",
            "zerolinecolor": "white"
           },
           "zaxis": {
            "backgroundcolor": "#E5ECF6",
            "gridcolor": "white",
            "gridwidth": 2,
            "linecolor": "white",
            "showbackground": true,
            "ticks": "",
            "zerolinecolor": "white"
           }
          },
          "shapedefaults": {
           "line": {
            "color": "#2a3f5f"
           }
          },
          "ternary": {
           "aaxis": {
            "gridcolor": "white",
            "linecolor": "white",
            "ticks": ""
           },
           "baxis": {
            "gridcolor": "white",
            "linecolor": "white",
            "ticks": ""
           },
           "bgcolor": "#E5ECF6",
           "caxis": {
            "gridcolor": "white",
            "linecolor": "white",
            "ticks": ""
           }
          },
          "title": {
           "x": 0.05
          },
          "xaxis": {
           "automargin": true,
           "gridcolor": "white",
           "linecolor": "white",
           "ticks": "",
           "title": {
            "standoff": 15
           },
           "zerolinecolor": "white",
           "zerolinewidth": 2
          },
          "yaxis": {
           "automargin": true,
           "gridcolor": "white",
           "linecolor": "white",
           "ticks": "",
           "title": {
            "standoff": 15
           },
           "zerolinecolor": "white",
           "zerolinewidth": 2
          }
         }
        },
        "title": {
         "text": "US 5 Year T-Note"
        },
        "xaxis": {
         "anchor": "y",
         "autorange": true,
         "domain": [
          0,
          0.94
         ],
         "range": [
          "2020-07-10 12:36:22.8292",
          "2021-07-20 11:23:37.1708"
         ],
         "title": {
          "text": "Date"
         },
         "type": "date"
        },
        "yaxis": {
         "anchor": "x",
         "autorange": true,
         "domain": [
          0,
          1
         ],
         "range": [
          0.001557903491786939,
          0.00990922388310432
         ],
         "tickfont": {
          "color": "#1f77b4"
         },
         "title": {
          "font": {
           "color": "#1f77b4"
          },
          "text": "Yield To Maturity"
         },
         "type": "linear"
        },
        "yaxis2": {
         "anchor": "x",
         "autorange": true,
         "overlaying": "y",
         "range": [
          98.77771878980892,
          100.30038121019109
         ],
         "side": "right",
         "title": {
          "text": "Price in US$"
         },
         "type": "linear"
        }
       }
      },
      "image/png": "[encoded data removed]",
      "text/html": [
       "<div>                            <div id=\"4bcdaea9-4d77-4c04-825d-1aca766309b0\" class=\"plotly-graph-div\" style=\"height:525px; width:100%;\"></div>            <script type=\"text/javascript\">                require([\"plotly\"], function(Plotly) {                    window.PLOTLYENV=window.PLOTLYENV || {};                                    if (document.getElementById(\"4bcdaea9-4d77-4c04-825d-1aca766309b0\")) {                    Plotly.newPlot(                        \"4bcdaea9-4d77-4c04-825d-1aca766309b0\",                        [{\"line\": {\"color\": \"#1f77b4\"}, \"name\": \"Yield To Maturity\", \"type\": \"scatter\", \"x\": [\"2020-07-31\", \"2020-08-31\", \"2020-09-30\", \"2020-10-31\", \"2020-11-30\", \"2020-12-31\", \"2021-01-31\", \"2021-02-28\", \"2021-03-31\", \"2021-04-30\", \"2021-05-31\", \"2021-06-30\"], \"xaxis\": \"x\", \"y\": [0.0020914600723433274, 0.002688788459565382, 0.0027833568598190053, 0.0038422745028348997, 0.0036395020697463937, 0.0036080011947972786, 0.004255870480370703, 0.00729538673700196, 0.009375667302547932, 0.008491567003482806, 0.007883177495940665, 0.008910052831709382], \"yaxis\": \"y\"}, {\"line\": {\"color\": \"#383838\"}, \"name\": \"Price at issue\", \"type\": \"scatter\", \"x\": [\"2020-07-31\", \"2020-08-31\", \"2020-09-30\", \"2020-10-31\", \"2020-11-30\", \"2020-12-31\", \"2021-01-31\", \"2021-02-28\", \"2021-03-31\", \"2021-04-30\", \"2021-05-31\", \"2021-06-30\"], \"xaxis\": \"x\", \"y\": [100.2031, 99.9063, 99.8594, 99.3359, 100.0547, 100.0703, 99.75, 98.875, 99.0859, 99.5156, 99.8125, 99.9219], \"yaxis\": \"y2\"}],                        {\"shapes\": [{\"type\": \"line\", \"x0\": \"2020-11-15\", \"x1\": \"2020-11-15\", \"xref\": \"x\", \"y0\": 0, \"y1\": 1, \"yref\": \"paper\"}, {\"type\": \"line\", \"x0\": \"2021-02-14\", \"x1\": \"2021-02-14\", \"xref\": \"x\", \"y0\": 0, \"y1\": 1, \"yref\": \"paper\"}, {\"type\": \"line\", \"x0\": \"2021-03-16\", \"x1\": \"2021-03-16\", \"xref\": \"x\", \"y0\": 0, \"y1\": 1, \"yref\": \"paper\"}, {\"type\": \"line\", \"x0\": \"2021-06-15\", \"x1\": \"2021-06-15\", \"xref\": \"x\", \"y0\": 0, \"y1\": 1, \"yref\": \"paper\"}], \"template\": {\"data\": {\"bar\": [{\"error_x\": {\"color\": \"#2a3f5f\"}, \"error_y\": {\"color\": \"#2a3f5f\"}, \"marker\": {\"line\": {\"color\": \"#E5ECF6\", \"width\": 0.5}}, \"type\": \"bar\"}], \"barpolar\": [{\"marker\": {\"line\": {\"color\": \"#E5ECF6\", \"width\": 0.5}}, \"type\": \"barpolar\"}], \"carpet\": [{\"aaxis\": {\"endlinecolor\": \"#2a3f5f\", \"gridcolor\": \"white\", \"linecolor\": \"white\", \"minorgridcolor\": \"white\", \"startlinecolor\": \"#2a3f5f\"}, \"baxis\": {\"endlinecolor\": \"#2a3f5f\", \"gridcolor\": \"white\", \"linecolor\": \"white\", \"minorgridcolor\": \"white\", \"startlinecolor\": \"#2a3f5f\"}, \"type\": \"carpet\"}], \"choropleth\": [{\"colorbar\": {\"outlinewidth\": 0, \"ticks\": \"\"}, \"type\": \"choropleth\"}], \"contour\": [{\"colorbar\": {\"outlinewidth\": 0, \"ticks\": \"\"}, \"colorscale\": [[0.0, \"#0d0887\"], [0.1111111111111111, \"#46039f\"], [0.2222222222222222, \"#7201a8\"], [0.3333333333333333, \"#9c179e\"], [0.4444444444444444, \"#bd3786\"], [0.5555555555555556, \"#d8576b\"], [0.6666666666666666, \"#ed7953\"], [0.7777777777777778, \"#fb9f3a\"], [0.8888888888888888, \"#fdca26\"], [1.0, \"#f0f921\"]], \"type\": \"contour\"}], \"contourcarpet\": [{\"colorbar\": {\"outlinewidth\": 0, \"ticks\": \"\"}, \"type\": \"contourcarpet\"}], \"heatmap\": [{\"colorbar\": {\"outlinewidth\": 0, \"ticks\": \"\"}, \"colorscale\": [[0.0, \"#0d0887\"], [0.1111111111111111, \"#46039f\"], [0.2222222222222222, \"#7201a8\"], [0.3333333333333333, \"#9c179e\"], [0.4444444444444444, \"#bd3786\"], [0.5555555555555556, \"#d8576b\"], [0.6666666666666666, \"#ed7953\"], [0.7777777777777778, \"#fb9f3a\"], [0.8888888888888888, \"#fdca26\"], [1.0, \"#f0f921\"]], \"type\": \"heatmap\"}], \"heatmapgl\": [{\"colorbar\": {\"outlinewidth\": 0, \"ticks\": \"\"}, \"colorscale\": [[0.0, \"#0d0887\"], [0.1111111111111111, \"#46039f\"], [0.2222222222222222, \"#7201a8\"], [0.3333333333333333, \"#9c179e\"], [0.4444444444444444, \"#bd3786\"], [0.5555555555555556, \"#d8576b\"], [0.6666666666666666, \"#ed7953\"], [0.7777777777777778, \"#fb9f3a\"], [0.8888888888888888, \"#fdca26\"], [1.0, \"#f0f921\"]], \"type\": \"heatmapgl\"}], \"histogram\": [{\"marker\": {\"colorbar\": {\"outlinewidth\": 0, \"ticks\": \"\"}}, \"type\": \"histogram\"}], \"histogram2d\": [{\"colorbar\": {\"outlinewidth\": 0, \"ticks\": \"\"}, \"colorscale\": [[0.0, \"#0d0887\"], [0.1111111111111111, \"#46039f\"], [0.2222222222222222, \"#7201a8\"], [0.3333333333333333, \"#9c179e\"], [0.4444444444444444, \"#bd3786\"], [0.5555555555555556, \"#d8576b\"], [0.6666666666666666, \"#ed7953\"], [0.7777777777777778, \"#fb9f3a\"], [0.8888888888888888, \"#fdca26\"], [1.0, \"#f0f921\"]], \"type\": \"histogram2d\"}], \"histogram2dcontour\": [{\"colorbar\": {\"outlinewidth\": 0, \"ticks\": \"\"}, \"colorscale\": [[0.0, \"#0d0887\"], [0.1111111111111111, \"#46039f\"], [0.2222222222222222, \"#7201a8\"], [0.3333333333333333, \"#9c179e\"], [0.4444444444444444, \"#bd3786\"], [0.5555555555555556, \"#d8576b\"], [0.6666666666666666, \"#ed7953\"], [0.7777777777777778, \"#fb9f3a\"], [0.8888888888888888, \"#fdca26\"], [1.0, \"#f0f921\"]], \"type\": \"histogram2dcontour\"}], \"mesh3d\": [{\"colorbar\": {\"outlinewidth\": 0, \"ticks\": \"\"}, \"type\": \"mesh3d\"}], \"parcoords\": [{\"line\": {\"colorbar\": {\"outlinewidth\": 0, \"ticks\": \"\"}}, \"type\": \"parcoords\"}], \"pie\": [{\"automargin\": true, \"type\": \"pie\"}], \"scatter\": [{\"marker\": {\"colorbar\": {\"outlinewidth\": 0, \"ticks\": \"\"}}, \"type\": \"scatter\"}], \"scatter3d\": [{\"line\": {\"colorbar\": {\"outlinewidth\": 0, \"ticks\": \"\"}}, \"marker\": {\"colorbar\": {\"outlinewidth\": 0, \"ticks\": \"\"}}, \"type\": \"scatter3d\"}], \"scattercarpet\": [{\"marker\": {\"colorbar\": {\"outlinewidth\": 0, \"ticks\": \"\"}}, \"type\": \"scattercarpet\"}], \"scattergeo\": [{\"marker\": {\"colorbar\": {\"outlinewidth\": 0, \"ticks\": \"\"}}, \"type\": \"scattergeo\"}], \"scattergl\": [{\"marker\": {\"colorbar\": {\"outlinewidth\": 0, \"ticks\": \"\"}}, \"type\": \"scattergl\"}], \"scattermapbox\": [{\"marker\": {\"colorbar\": {\"outlinewidth\": 0, \"ticks\": \"\"}}, \"type\": \"scattermapbox\"}], \"scatterpolar\": [{\"marker\": {\"colorbar\": {\"outlinewidth\": 0, \"ticks\": \"\"}}, \"type\": \"scatterpolar\"}], \"scatterpolargl\": [{\"marker\": {\"colorbar\": {\"outlinewidth\": 0, \"ticks\": \"\"}}, \"type\": \"scatterpolargl\"}], \"scatterternary\": [{\"marker\": {\"colorbar\": {\"outlinewidth\": 0, \"ticks\": \"\"}}, \"type\": \"scatterternary\"}], \"surface\": [{\"colorbar\": {\"outlinewidth\": 0, \"ticks\": \"\"}, \"colorscale\": [[0.0, \"#0d0887\"], [0.1111111111111111, \"#46039f\"], [0.2222222222222222, \"#7201a8\"], [0.3333333333333333, \"#9c179e\"], [0.4444444444444444, \"#bd3786\"], [0.5555555555555556, \"#d8576b\"], [0.6666666666666666, \"#ed7953\"], [0.7777777777777778, \"#fb9f3a\"], [0.8888888888888888, \"#fdca26\"], [1.0, \"#f0f921\"]], \"type\": \"surface\"}], \"table\": [{\"cells\": {\"fill\": {\"color\": \"#EBF0F8\"}, \"line\": {\"color\": \"white\"}}, \"header\": {\"fill\": {\"color\": \"#C8D4E3\"}, \"line\": {\"color\": \"white\"}}, \"type\": \"table\"}]}, \"layout\": {\"annotationdefaults\": {\"arrowcolor\": \"#2a3f5f\", \"arrowhead\": 0, \"arrowwidth\": 1}, \"autotypenumbers\": \"strict\", \"coloraxis\": {\"colorbar\": {\"outlinewidth\": 0, \"ticks\": \"\"}}, \"colorscale\": {\"diverging\": [[0, \"#8e0152\"], [0.1, \"#c51b7d\"], [0.2, \"#de77ae\"], [0.3, \"#f1b6da\"], [0.4, \"#fde0ef\"], [0.5, \"#f7f7f7\"], [0.6, \"#e6f5d0\"], [0.7, \"#b8e186\"], [0.8, \"#7fbc41\"], [0.9, \"#4d9221\"], [1, \"#276419\"]], \"sequential\": [[0.0, \"#0d0887\"], [0.1111111111111111, \"#46039f\"], [0.2222222222222222, \"#7201a8\"], [0.3333333333333333, \"#9c179e\"], [0.4444444444444444, \"#bd3786\"], [0.5555555555555556, \"#d8576b\"], [0.6666666666666666, \"#ed7953\"], [0.7777777777777778, \"#fb9f3a\"], [0.8888888888888888, \"#fdca26\"], [1.0, \"#f0f921\"]], \"sequentialminus\": [[0.0, \"#0d0887\"], [0.1111111111111111, \"#46039f\"], [0.2222222222222222, \"#7201a8\"], [0.3333333333333333, \"#9c179e\"], [0.4444444444444444, \"#bd3786\"], [0.5555555555555556, \"#d8576b\"], [0.6666666666666666, \"#ed7953\"], [0.7777777777777778, \"#fb9f3a\"], [0.8888888888888888, \"#fdca26\"], [1.0, \"#f0f921\"]]}, \"colorway\": [\"#636efa\", \"#EF553B\", \"#00cc96\", \"#ab63fa\", \"#FFA15A\", \"#19d3f3\", \"#FF6692\", \"#B6E880\", \"#FF97FF\", \"#FECB52\"], \"font\": {\"color\": \"#2a3f5f\"}, \"geo\": {\"bgcolor\": \"white\", \"lakecolor\": \"white\", \"landcolor\": \"#E5ECF6\", \"showlakes\": true, \"showland\": true, \"subunitcolor\": \"white\"}, \"hoverlabel\": {\"align\": \"left\"}, \"hovermode\": \"closest\", \"mapbox\": {\"style\": \"light\"}, \"paper_bgcolor\": \"white\", \"plot_bgcolor\": \"#E5ECF6\", \"polar\": {\"angularaxis\": {\"gridcolor\": \"white\", \"linecolor\": \"white\", \"ticks\": \"\"}, \"bgcolor\": \"#E5ECF6\", \"radialaxis\": {\"gridcolor\": \"white\", \"linecolor\": \"white\", \"ticks\": \"\"}}, \"scene\": {\"xaxis\": {\"backgroundcolor\": \"#E5ECF6\", \"gridcolor\": \"white\", \"gridwidth\": 2, \"linecolor\": \"white\", \"showbackground\": true, \"ticks\": \"\", \"zerolinecolor\": \"white\"}, \"yaxis\": {\"backgroundcolor\": \"#E5ECF6\", \"gridcolor\": \"white\", \"gridwidth\": 2, \"linecolor\": \"white\", \"showbackground\": true, \"ticks\": \"\", \"zerolinecolor\": \"white\"}, \"zaxis\": {\"backgroundcolor\": \"#E5ECF6\", \"gridcolor\": \"white\", \"gridwidth\": 2, \"linecolor\": \"white\", \"showbackground\": true, \"ticks\": \"\", \"zerolinecolor\": \"white\"}}, \"shapedefaults\": {\"line\": {\"color\": \"#2a3f5f\"}}, \"ternary\": {\"aaxis\": {\"gridcolor\": \"white\", \"linecolor\": \"white\", \"ticks\": \"\"}, \"baxis\": {\"gridcolor\": \"white\", \"linecolor\": \"white\", \"ticks\": \"\"}, \"bgcolor\": \"#E5ECF6\", \"caxis\": {\"gridcolor\": \"white\", \"linecolor\": \"white\", \"ticks\": \"\"}}, \"title\": {\"x\": 0.05}, \"xaxis\": {\"automargin\": true, \"gridcolor\": \"white\", \"linecolor\": \"white\", \"ticks\": \"\", \"title\": {\"standoff\": 15}, \"zerolinecolor\": \"white\", \"zerolinewidth\": 2}, \"yaxis\": {\"automargin\": true, \"gridcolor\": \"white\", \"linecolor\": \"white\", \"ticks\": \"\", \"title\": {\"standoff\": 15}, \"zerolinecolor\": \"white\", \"zerolinewidth\": 2}}}, \"title\": {\"text\": \"US 5 Year T-Note\"}, \"xaxis\": {\"anchor\": \"y\", \"domain\": [0.0, 0.94], \"title\": {\"text\": \"Date\"}}, \"yaxis\": {\"anchor\": \"x\", \"domain\": [0.0, 1.0], \"tickfont\": {\"color\": \"#1f77b4\"}, \"title\": {\"font\": {\"color\": \"#1f77b4\"}, \"text\": \"Yield To Maturity\"}}, \"yaxis2\": {\"anchor\": \"x\", \"overlaying\": \"y\", \"side\": \"right\", \"title\": {\"text\": \"Price in US$\"}}},                        {\"responsive\": true}                    ).then(function(){\n",
       "                            \n",
       "var gd = document.getElementById('4bcdaea9-4d77-4c04-825d-1aca766309b0');\n",
       "var x = new MutationObserver(function (mutations, observer) {{\n",
       "        var display = window.getComputedStyle(gd).display;\n",
       "        if (!display || display === 'none') {{\n",
       "            console.log([gd, 'removed!']);\n",
       "            Plotly.purge(gd);\n",
       "            observer.disconnect();\n",
       "        }}\n",
       "}});\n",
       "\n",
       "// Listen for the removal of the full notebook cells\n",
       "var notebookContainer = gd.closest('#notebook-container');\n",
       "if (notebookContainer) {{\n",
       "    x.observe(notebookContainer, {childList: true});\n",
       "}}\n",
       "\n",
       "// Listen for the clearing of the current output cell\n",
       "var outputEl = gd.closest('.output');\n",
       "if (outputEl) {{\n",
       "    x.observe(outputEl, {childList: true});\n",
       "}}\n",
       "\n",
       "                        })                };                });            </script>        </div>"
      ]
     },
     "metadata": {},
     "output_type": "display_data"
    }
   ],
   "source": [
    "fig = make_subplots(specs=[[{\"secondary_y\": True}]])  # Create figure with secondary y-axis\n",
    "\n",
    "# Create vertical lines when Coupon rates change\n",
    "c_changed_date, shapes = [], []\n",
    "for i in range(len(ytm_df)-1):\n",
    "    if ytm_df.iloc[i][\"C\"] - ytm_df.iloc[i+1][\"C\"] != 0:\n",
    "        sdate = datetime.strptime(ytm_df.iloc[i][\"ID\"], '%Y-%m-%d')\n",
    "        edate = datetime.strptime(ytm_df.iloc[i+1][\"ID\"], '%Y-%m-%d')\n",
    "        delta = edate - sdate\n",
    "        inter_dates = [sdate + timedelta(days=i) for i in range(delta.days + 1)]\n",
    "        c_changed_date.append(inter_dates[int(statistics.median(\n",
    "            range(1, len(inter_dates))))].strftime('%Y-%m-%d'))\n",
    "for i in c_changed_date:\n",
    "    shapes.append({'type': 'line', 'xref': 'x', 'yref': 'paper',\n",
    "                   'x0': i, 'y0': 0, 'x1': i, 'y1': 1})\n",
    "fig.update_layout(shapes=shapes,)\n",
    "\n",
    "# Add traces\n",
    "fig.add_trace(go.Scatter(x=ytm_df[\"ID\"], y=ytm_df[\"YTM\"],\n",
    "                         name=\"Yield To Maturity\", line_color=\"#1f77b4\"),\n",
    "              secondary_y=False,)\n",
    "fig.add_trace(go.Scatter(x=ytm_df[\"ID\"], y=ytm_df[\"Price at issue\"],\n",
    "                         name=\"Price at issue\", line_color=\"#383838\"),\n",
    "              secondary_y=True,)\n",
    "\n",
    "# Set y-axes titles\n",
    "fig.update_yaxes(title_text=\"Yield To Maturity\", secondary_y=False)\n",
    "fig.update_yaxes(title_text=\"Price in US$\", secondary_y=True)\n",
    "\n",
    "fig.update_layout(title_text=\"US 5 Year T-Note\",\n",
    "                  yaxis=dict(titlefont=dict(color=\"#1f77b4\"),\n",
    "                             tickfont=dict(color=\"#1f77b4\")),)\n",
    "fig.update_xaxes(title_text=\"Date\")  # Set x-axis title\n",
    "\n",
    "fig.show()"
   ]
  },
  {
   "cell_type": "markdown",
   "id": "7084e8a3-4eb5-4f90-8fb6-0122aa1337a1",
   "metadata": {},
   "source": [
    "Interestingly here, we can see that YTM and prices don't always move inversly; that's because the Coupon rates are not constant throughout. I thus added vertical lines in-between the dates when Coupon rates change to ease comparisons. Also, we can note that when the price of the Bond goes above its FV (of \\$100), the YTM does not go negative; that's because of the added revenue from Coupons. If we were looking at a non Coupon paying (i.e.: a Zero-Coupon) Bond, then its YTM would be negative when its price was higher than its FV. Often - as a matter of fact - we do extrapelate Zero-Coupon Equivalent YTMs, this way all YTMs are comparable to each other. This is called '[Bootstrapping](https://en.wikipedia.org/wiki/Bootstrapping_(finance))'."
   ]
  },
  {
   "cell_type": "markdown",
   "id": "08a306ff-cf30-4e81-bf53-8374c7724512",
   "metadata": {},
   "source": [
    "## Bootstrapping and Spot-Rates/Discount-Factors: Coupon-Paying Bond's Zero-Coupon Equivalent Yield To Maturity"
   ]
  },
  {
   "cell_type": "markdown",
   "id": "f7f7db63-9e80-4626-9768-863bb296f00e",
   "metadata": {},
   "source": [
    "Now, we are going to extrapolate the YTM of any coupon-paying Bond as though it did not pay coupons. To do so, we will need to compute [Spot-Rates](https://www.investopedia.com/terms/s/spot_rate.asp) for each period of interest ($f_{\\text{acf}}$), then the Spot-Rate for the period of interest is our Zero-Coupon Equivalent Yield To Maturity ($YTM_{ZCE}$)."
   ]
  },
  {
   "cell_type": "markdown",
   "id": "9f5894e9-4ab0-4893-8996-6d3afbae5a15",
   "metadata": {},
   "source": [
    "Computing $YTM_{ZCE}$ is only useful for Coupon-paying Bonds, so we're only looking at a Coupon-paying Bond. Then the Net Present Value of the Bond of interest at the time of issue is\n",
    "$$\n",
    "NPV_{{Bond}_t, f_{\\text{acf}}} = \n",
    "    \\begin{Bmatrix}\n",
    "         \\frac{FV_{Bond}}{\\left(1 + f_{\\text{acf}} \\text{ } {SR}_{{Bond}_t, T}\\right)^\\frac{m_{Bond}}{f_{\\text{acf}}}} + \\sum^{^\\frac{m_{Bond}}{f_{\\text{acf}}}}_{\\tau=1} {\\frac{f_{\\text{acf}} \\text{ } C_{{Bond}_t}}{ (1 + f_{\\text{acf}} \\text{ } {SR}_{{Bond}_t, \\tau})^{\\tau} }} & \\text{if } m_{Bond} \\geq f_{\\text{acf}} \\\\\n",
    "         \\\\\n",
    "         \\frac{FV_{Bond} + m_{Bond} \\text{ } C_{{Bond}_t}}{\\left(1 + \\text{ } m_{Bond} \\text{ } {SR}_{{Bond}_t, T}\\right)} & \\text{if } m_{Bond} < f_{\\text{acf}}\n",
    "     \\end{Bmatrix}\n",
    "$$\n",
    "where\n",
    "* $T$ is the last time period of interest (it could be $m_{Bond}$ if each time period is a year long) (thus it's always the case that $T = \\frac{m_{Bond}}{f_{\\text{acf}}}$),\n",
    "* $f_{\\text{acf}}$ is the Annual Compounding Frequency in our accounting method used to calculate $NPV_{{Bond}_t, f_{\\text{acf}}}$,\n",
    "* $Bond$ is the Bond we're interested in, *e.g.*: $FYTN$ (Five Year Treasury-Note),\n",
    "* $FV_{Bond}$ is the Face Value of the $Bond$ (usually \\\\$1000 or \\\\$100 when dealing with US sovereign Bonds),\n",
    "* $m_{Bond}$ is the Maturity of the $Bond$ at time of issue, a.k.a. the Term of the Bond,\n",
    "* ${Bond}_t$ is the Bond we're interested in specifically issued at time $t$, *e.g.*: $FYTN_{\\text{\"2020-01-31\"}}$ (Five Year Treasury-Note issued on the 31st of January 2020),\n",
    "* $ C_{{Bond}_t} = \\mathcal{C}_{p,{Bond}_t} \\text{ } * \\text{ } FV_{Bond}$ where $\\mathcal{C}_{p,{Bond}_t}$ is the Coupon rate of ${Bond}_t$ (usually expressed as a persentage (thus the '$p$' of $FV_{Bond}$),\n",
    "* and ${SR}_{{Bond}_t, \\mathtt{t}}$ is the Spot Rate for ${Bond}_t$ at time $\\mathtt{t}$. Note that ${SR}_{{Bond}_t, \\tau}$ above is in a summation itterating through $\\tau$s, meaning that we are using a different ${SR}_{{Bond}_t, \\tau}$ for each $\\tau$ itteration.\n",
    "\n",
    "then (with he example of US sovereign Bonds) we don't have to look into Bonds with matutities of 1 year or less (since they don't pay Coupons). Thus ${SR}_{{Bond}_t, \\tau}$ for US sovereign Bonds for the 1st year is already known and can be found on [Datastream](https://product.datastream.com/browse/search.aspx?dsid=ZRQW955&AppGroup=DSAddin&prev=99_US+Treasury+Note+2021+31%2F01%2F26&nav_category=13). From these 1st few discoverable Spot Rates, (i) one can figure out the next Spot Rate (the 1st theoretical Spot Rate); (ii) then the 2nd theoretical Spot Rate can be calculated using the discoverable Spot Rates and the 1st theoretical Spot Rate, (iii) then the 3rd theoretical Spot Rate can be calculated using the discoverable Spot Rates and the first two theoretical Spot Rates, and so on till time period '$T$'. Doing so means that we have all ${SR}_{{Bond}_t, \\mathtt{t}}$ where $\\mathtt{t} > \\mathtt{T}$ and $\\mathtt{T}$ is the end of the time window investigated at any stage (i), (ii), ... Thus, at any one of these stages we can let $T = \\mathtt{T}$; and remembering that $T = \\frac{m_{Bond}}{f_{\\text{acf}}}$, then:"
   ]
  },
  {
   "cell_type": "markdown",
   "id": "7242f597-3f33-469e-a152-dbaf31b8ff2d",
   "metadata": {},
   "source": [
    "$$ \\begin{array}{ll}\n",
    "NPV_{{Bond}_t, f_{\\text{acf}}}\n",
    "         &= \\frac{FV_{Bond}}{\\left(1 + f_{\\text{acf}} \\text{ } {SR}_{{Bond}_t, T}\\right)^\\frac{m_{Bond}}{f_{\\text{acf}}}} + \\sum^{^\\frac{m_{Bond}}{f_{\\text{acf}}}}_{\\tau=1} {\\frac{f_{\\text{acf}} \\text{ } C_{{Bond}_t}}{ (1 + f_{\\text{acf}} \\text{ } {SR}_{{Bond}_t, \\tau})^{\\tau} }} & \\text{where } m_{Bond} \\geq f_{\\text{acf}} \\\\\n",
    "         &= \\frac{FV_{Bond}}{\\left(1 + f \\text{ } {SR}_{{Bond}_t, T}\\right)^\\frac{m_{Bond}}{f}} + \\sum^{^{\\frac{m_{Bond}}{f}}}_{\\tau=1} {\\frac{f \\text{ } C_{{Bond}_t}}{ (1 + f \\text{ } {SR}_{{Bond}_t, \\tau})^{\\tau} }} & \\text{letting } f = f_{\\text{acf}} = f_{ac \\mathbf{p} f} = \\text{fixed 'annual Coupon payment frequency'}\\\\\n",
    "         &= \\frac{FV_{Bond}}{\\left(1 + f \\text{ } {SR}_{{Bond}_t, T}\\right)^\\frac{m_{Bond}}{f}} + \\frac{f \\text{ } C_{{Bond}_t}}{ (1 + f \\text{ } {SR}_{{Bond}_t, T})^{T} } + \\sum^{^{\\frac{m_{Bond}}{f}-1}}_{\\tau=1} {\\frac{f \\text{ } C_{{Bond}_t}}{ (1 + f \\text{ } {SR}_{{Bond}_t, \\tau})^{\\tau} }} & \\text{extracting the last summand} \\\\\n",
    "         &= \\frac{FV_{Bond}}{\\left(1 + f \\text{ } {SR}_{{Bond}_t, \\mathtt{T}}\\right)^\\mathtt{T}} + \\frac{f \\text{ } C_{{Bond}_t}}{ \\left(1 + f \\text{ } {SR}_{{Bond}_t, \\mathtt{T}}\\right)^{\\mathtt{T}} } + \\sum^{^{\\mathtt{T}-1}}_{\\tau=1} {\\frac{f \\text{ } C_{{Bond}_t}}{ (1 + f \\text{ } {SR}_{{Bond}_t, \\tau})^{\\tau} }} & \\text{since we let } T = \\mathtt{T} \\text{ and it is true that } T = \\frac{m_{Bond}}{f_{\\text{acf}}}\\\\\n",
    "         &= \\frac{FV_{Bond} + f \\text{ } C_{{Bond}_t}}{\\left(1 + f \\text{ } {SR}_{{Bond}_t, \\mathtt{T}}\\right)^\\mathtt{T}} + \\sum^{^{\\mathtt{T}-1}}_{\\tau=1} {\\frac{f \\text{ } C_{{Bond}_t}}{ (1 + f \\text{ } {SR}_{{Bond}_t, \\tau})^{\\tau} }} \\\\\n",
    "\\end{array} $$"
   ]
  },
  {
   "cell_type": "markdown",
   "id": "58c980ad-616f-452b-a87e-c9e66432d250",
   "metadata": {},
   "source": [
    "Let's add 'hats' to the unknown variables; here the only unknown variable is the last ${SR}_{{Bond}_t, \\mathtt{t}}$ which is ${SR}_{{Bond}_t, \\mathtt{T}}$, so it'll be written as $\\widehat{{SR}_{{Bond}_t, \\mathtt{T}}}$. Remember that this is because we have all ${SR}_{{Bond}_t, \\mathtt{t}}$ where $\\mathtt{t} > \\mathtt{T}$ and $\\mathtt{T}$ is the end of the time window investigated at any stage (i), (ii), ... defined above. Then:"
   ]
  },
  {
   "cell_type": "markdown",
   "id": "ad747164-2d77-4c6f-8955-14950fc91cb4",
   "metadata": {},
   "source": [
    "$$ \\begin{array}{ll}\n",
    "NPV_{{Bond}_t, f}\n",
    "         &= \\frac{FV_{Bond} + f \\text{ } C_{{Bond}_t}}{\\left(1 + f \\text{ } \\widehat{{SR}_{{Bond}_t, \\mathtt{T}}}\\right)^\\mathtt{T}} + \\sum^{^{\\mathtt{T}-1}}_{\\tau=1} {\\frac{f \\text{ } C_{{Bond}_t}}{ (1 + f \\text{ } {SR}_{{Bond}_t, \\tau})^{\\tau} }} \\\\\n",
    "\\end{array} $$\n",
    "then:\n",
    "$$ \\begin{array}{ll}\n",
    "\\widehat{{SR}_{{Bond}_t, \\mathtt{T}}}\n",
    "         &= \\frac{\n",
    "             \\sqrt[\\mathtt{T}]{\\frac{FV_{Bond} + f \\text{ } C_{{Bond}_t}}{{NPV}_{{Bond}_t, f} - \\sum^{^{\\mathtt{T}-1}}_{\\tau=1} {\\frac{f \\text{ } C_{{Bond}_t}}{ (1 + f \\text{ } {SR}_{{Bond}_t, \\tau})^{\\tau} }}}} - 1\n",
    "             }{f}\n",
    "\\end{array} $$\n"
   ]
  },
  {
   "cell_type": "markdown",
   "id": "7e4be2df-9caf-4db9-8355-d873ce1b0015",
   "metadata": {},
   "source": [
    "Let's make a Python function to return this Spot Rate for any such stage:"
   ]
  },
  {
   "cell_type": "code",
   "execution_count": 20,
   "id": "788356db-5203-4f6e-8cf9-552b9948c8fa",
   "metadata": {},
   "outputs": [],
   "source": [
    "def Spot_Rate_Last(fv, m, c, p, sr, f=0.5):\n",
    "    \"\"\"Spot_Rate_Last(f,fv,m,c,p,sr)\n",
    "    This Python function returns the Zero-Coupon Equivalent rate of a coupon-paying Bond (otherwise known as the Spot-Rate) of one time period (defined as ' f ') after the last one in the list of provided (past) spot-rates (' sp ').\n",
    "\n",
    "    Returns\n",
    "    -------\n",
    "\n",
    "    float: The last spot rate of a Bond for the period looked at.\n",
    "    \"\"\"\n",
    "    discouted_coupon_payments = sum([(f*c)/((1 + (f*j))**(i+1))  # ' +1 ' because 'enumerate' starts at 0\n",
    "                                     for i, j in enumerate(sr)])\n",
    "    last_sr = ((((fv + f*c)/(p - discouted_coupon_payments))**(f/m))-1)/f\n",
    "    return last_sr"
   ]
  },
  {
   "cell_type": "markdown",
   "id": "bbd3b7be-b295-4324-bc01-af3b36b3c4b2",
   "metadata": {},
   "source": [
    "### Example with US Treasury Bonds with Fixed Coupon Rates and using Semi-Annual Compounding"
   ]
  },
  {
   "cell_type": "markdown",
   "id": "196a8628-c34b-4051-92c3-5e7557e90b5e",
   "metadata": {},
   "source": [
    "#### On-the-run sovereign Bonds"
   ]
  },
  {
   "cell_type": "markdown",
   "id": "578b62ce-3d71-4d0f-84cf-9b0a3c26a6b6",
   "metadata": {},
   "source": [
    "Now we can repeat the above for different US T-Notes with simillar issue dates and different maturing dates. We collect all data-points in a Python dictionary ```container_container``` before tidying it in the ```yc_df``` pandas data-frame below. Remeber though, we've put ourselves in the shooes of an economic agent looking to invest in 'brand new' sovereign Bonds, in Bonds that our agent would buy on issue; such bonds are called [on-the-run sovereign Bonds](https://www.investopedia.com/terms/o/on-the-runtreasuries.asp)."
   ]
  },
  {
   "cell_type": "code",
   "execution_count": 21,
   "id": "2065cf5b-cd48-4919-9477-086ff427a1fa",
   "metadata": {},
   "outputs": [
    {
     "data": {
      "text/html": [
       "<div>\n",
       "<style scoped>\n",
       "    .dataframe tbody tr th:only-of-type {\n",
       "        vertical-align: middle;\n",
       "    }\n",
       "\n",
       "    .dataframe tbody tr th {\n",
       "        vertical-align: top;\n",
       "    }\n",
       "\n",
       "    .dataframe thead th {\n",
       "        text-align: right;\n",
       "    }\n",
       "</style>\n",
       "<table border=\"1\" class=\"dataframe\">\n",
       "  <thead>\n",
       "    <tr style=\"text-align: right;\">\n",
       "      <th></th>\n",
       "      <th>DSCD</th>\n",
       "      <th>NAME</th>\n",
       "      <th>ID</th>\n",
       "      <th>TERM</th>\n",
       "      <th>RV</th>\n",
       "      <th>C</th>\n",
       "      <th>CTYP</th>\n",
       "      <th>RDL</th>\n",
       "      <th>Price at issue</th>\n",
       "      <th>CD</th>\n",
       "      <th>CF</th>\n",
       "      <th>YTM</th>\n",
       "    </tr>\n",
       "    <tr>\n",
       "      <th>RDL</th>\n",
       "      <th></th>\n",
       "      <th></th>\n",
       "      <th></th>\n",
       "      <th></th>\n",
       "      <th></th>\n",
       "      <th></th>\n",
       "      <th></th>\n",
       "      <th></th>\n",
       "      <th></th>\n",
       "      <th></th>\n",
       "      <th></th>\n",
       "      <th></th>\n",
       "    </tr>\n",
       "  </thead>\n",
       "  <tbody>\n",
       "    <tr>\n",
       "      <th>2020-12-29</th>\n",
       "      <td>613V2R</td>\n",
       "      <td>UTD.STS OF AMERICA 2020 ZERO 29/12/20</td>\n",
       "      <td>2020-07-28</td>\n",
       "      <td>0.5</td>\n",
       "      <td>100</td>\n",
       "      <td>0</td>\n",
       "      <td>ZERO</td>\n",
       "      <td>2020-12-29</td>\n",
       "      <td>99.9469</td>\n",
       "      <td>[2021-02-01 00:00:00]</td>\n",
       "      <td>[0.0]</td>\n",
       "      <td>0.001063</td>\n",
       "    </tr>\n",
       "    <tr>\n",
       "      <th>2022-07-31</th>\n",
       "      <td>613XGW</td>\n",
       "      <td>US TREASURY NOTE 2020 1/8% 31/07/22 BD-2022</td>\n",
       "      <td>2020-07-31</td>\n",
       "      <td>2</td>\n",
       "      <td>100</td>\n",
       "      <td>0.125</td>\n",
       "      <td>FIX</td>\n",
       "      <td>2022-07-31</td>\n",
       "      <td>100.0313</td>\n",
       "      <td>[2021-02-01 00:00:00, 2021-08-02 00:00:00, 202...</td>\n",
       "      <td>[0.125, 0.125, 0.125, 0.125]</td>\n",
       "      <td>0.001093</td>\n",
       "    </tr>\n",
       "    <tr>\n",
       "      <th>2025-07-31</th>\n",
       "      <td>613XGU</td>\n",
       "      <td>US TREASURY NOTE 2020 1/4% 31/07/25 AB-2025</td>\n",
       "      <td>2020-07-31</td>\n",
       "      <td>5</td>\n",
       "      <td>100</td>\n",
       "      <td>0.25</td>\n",
       "      <td>FIX</td>\n",
       "      <td>2025-07-31</td>\n",
       "      <td>100.2031</td>\n",
       "      <td>[2021-02-01 00:00:00, 2021-08-02 00:00:00, 202...</td>\n",
       "      <td>[0.25, 0.25, 0.25, 0.25, 0.25, 0.25, 0.25, 0.2...</td>\n",
       "      <td>0.002091</td>\n",
       "    </tr>\n",
       "    <tr>\n",
       "      <th>2027-07-31</th>\n",
       "      <td>613XG1</td>\n",
       "      <td>US TREASURY NOTE 2020 3/8% 31/07/27 N-2027</td>\n",
       "      <td>2020-07-31</td>\n",
       "      <td>7</td>\n",
       "      <td>100</td>\n",
       "      <td>0.375</td>\n",
       "      <td>FIX</td>\n",
       "      <td>2027-07-31</td>\n",
       "      <td>99.9140</td>\n",
       "      <td>[2021-02-01 00:00:00, 2021-08-02 00:00:00, 202...</td>\n",
       "      <td>[0.375, 0.375, 0.375, 0.375, 0.375, 0.375, 0.3...</td>\n",
       "      <td>0.003875</td>\n",
       "    </tr>\n",
       "  </tbody>\n",
       "</table>\n",
       "</div>"
      ],
      "text/plain": [
       "              DSCD                                         NAME          ID  \\\n",
       "RDL                                                                           \n",
       "2020-12-29  613V2R        UTD.STS OF AMERICA 2020 ZERO 29/12/20  2020-07-28   \n",
       "2022-07-31  613XGW  US TREASURY NOTE 2020 1/8% 31/07/22 BD-2022  2020-07-31   \n",
       "2025-07-31  613XGU  US TREASURY NOTE 2020 1/4% 31/07/25 AB-2025  2020-07-31   \n",
       "2027-07-31  613XG1   US TREASURY NOTE 2020 3/8% 31/07/27 N-2027  2020-07-31   \n",
       "\n",
       "           TERM   RV      C  CTYP         RDL  Price at issue  \\\n",
       "RDL                                                             \n",
       "2020-12-29  0.5  100      0  ZERO  2020-12-29         99.9469   \n",
       "2022-07-31    2  100  0.125   FIX  2022-07-31        100.0313   \n",
       "2025-07-31    5  100   0.25   FIX  2025-07-31        100.2031   \n",
       "2027-07-31    7  100  0.375   FIX  2027-07-31         99.9140   \n",
       "\n",
       "                                                           CD  \\\n",
       "RDL                                                             \n",
       "2020-12-29                              [2021-02-01 00:00:00]   \n",
       "2022-07-31  [2021-02-01 00:00:00, 2021-08-02 00:00:00, 202...   \n",
       "2025-07-31  [2021-02-01 00:00:00, 2021-08-02 00:00:00, 202...   \n",
       "2027-07-31  [2021-02-01 00:00:00, 2021-08-02 00:00:00, 202...   \n",
       "\n",
       "                                                           CF       YTM  \n",
       "RDL                                                                      \n",
       "2020-12-29                                              [0.0]  0.001063  \n",
       "2022-07-31                       [0.125, 0.125, 0.125, 0.125]  0.001093  \n",
       "2025-07-31  [0.25, 0.25, 0.25, 0.25, 0.25, 0.25, 0.25, 0.2...  0.002091  \n",
       "2027-07-31  [0.375, 0.375, 0.375, 0.375, 0.375, 0.375, 0.3...  0.003875  "
      ]
     },
     "metadata": {},
     "output_type": "display_data"
    },
    {
     "data": {
      "application/vnd.plotly.v1+json": {
       "config": {
        "linkText": "Export to chart-studio.plotly.com",
        "plotlyServerURL": "https://chart-studio.plotly.com",
        "showLink": true
       },
       "data": [
        {
         "line": {
          "color": "rgba(255, 153, 51, 1.0)",
          "dash": "solid",
          "shape": "linear",
          "width": 1.3
         },
         "mode": "lines",
         "name": "YTM",
         "text": "",
         "type": "scatter",
         "x": [
          "2020-12-29",
          "2022-07-31",
          "2025-07-31",
          "2027-07-31"
         ],
         "y": [
          0.0010625642216017055,
          0.0010932860674747608,
          0.0020914600723433274,
          0.00387464973505216
         ]
        }
       ],
       "layout": {
        "autosize": true,
        "legend": {
         "bgcolor": "#F5F6F9",
         "font": {
          "color": "#4D5663"
         }
        },
        "paper_bgcolor": "#F5F6F9",
        "plot_bgcolor": "#F5F6F9",
        "template": {
         "data": {
          "bar": [
           {
            "error_x": {
             "color": "#2a3f5f"
            },
            "error_y": {
             "color": "#2a3f5f"
            },
            "marker": {
             "line": {
              "color": "#E5ECF6",
              "width": 0.5
             }
            },
            "type": "bar"
           }
          ],
          "barpolar": [
           {
            "marker": {
             "line": {
              "color": "#E5ECF6",
              "width": 0.5
             }
            },
            "type": "barpolar"
           }
          ],
          "carpet": [
           {
            "aaxis": {
             "endlinecolor": "#2a3f5f",
             "gridcolor": "white",
             "linecolor": "white",
             "minorgridcolor": "white",
             "startlinecolor": "#2a3f5f"
            },
            "baxis": {
             "endlinecolor": "#2a3f5f",
             "gridcolor": "white",
             "linecolor": "white",
             "minorgridcolor": "white",
             "startlinecolor": "#2a3f5f"
            },
            "type": "carpet"
           }
          ],
          "choropleth": [
           {
            "colorbar": {
             "outlinewidth": 0,
             "ticks": ""
            },
            "type": "choropleth"
           }
          ],
          "contour": [
           {
            "colorbar": {
             "outlinewidth": 0,
             "ticks": ""
            },
            "colorscale": [
             [
              0,
              "#0d0887"
             ],
             [
              0.1111111111111111,
              "#46039f"
             ],
             [
              0.2222222222222222,
              "#7201a8"
             ],
             [
              0.3333333333333333,
              "#9c179e"
             ],
             [
              0.4444444444444444,
              "#bd3786"
             ],
             [
              0.5555555555555556,
              "#d8576b"
             ],
             [
              0.6666666666666666,
              "#ed7953"
             ],
             [
              0.7777777777777778,
              "#fb9f3a"
             ],
             [
              0.8888888888888888,
              "#fdca26"
             ],
             [
              1,
              "#f0f921"
             ]
            ],
            "type": "contour"
           }
          ],
          "contourcarpet": [
           {
            "colorbar": {
             "outlinewidth": 0,
             "ticks": ""
            },
            "type": "contourcarpet"
           }
          ],
          "heatmap": [
           {
            "colorbar": {
             "outlinewidth": 0,
             "ticks": ""
            },
            "colorscale": [
             [
              0,
              "#0d0887"
             ],
             [
              0.1111111111111111,
              "#46039f"
             ],
             [
              0.2222222222222222,
              "#7201a8"
             ],
             [
              0.3333333333333333,
              "#9c179e"
             ],
             [
              0.4444444444444444,
              "#bd3786"
             ],
             [
              0.5555555555555556,
              "#d8576b"
             ],
             [
              0.6666666666666666,
              "#ed7953"
             ],
             [
              0.7777777777777778,
              "#fb9f3a"
             ],
             [
              0.8888888888888888,
              "#fdca26"
             ],
             [
              1,
              "#f0f921"
             ]
            ],
            "type": "heatmap"
           }
          ],
          "heatmapgl": [
           {
            "colorbar": {
             "outlinewidth": 0,
             "ticks": ""
            },
            "colorscale": [
             [
              0,
              "#0d0887"
             ],
             [
              0.1111111111111111,
              "#46039f"
             ],
             [
              0.2222222222222222,
              "#7201a8"
             ],
             [
              0.3333333333333333,
              "#9c179e"
             ],
             [
              0.4444444444444444,
              "#bd3786"
             ],
             [
              0.5555555555555556,
              "#d8576b"
             ],
             [
              0.6666666666666666,
              "#ed7953"
             ],
             [
              0.7777777777777778,
              "#fb9f3a"
             ],
             [
              0.8888888888888888,
              "#fdca26"
             ],
             [
              1,
              "#f0f921"
             ]
            ],
            "type": "heatmapgl"
           }
          ],
          "histogram": [
           {
            "marker": {
             "colorbar": {
              "outlinewidth": 0,
              "ticks": ""
             }
            },
            "type": "histogram"
           }
          ],
          "histogram2d": [
           {
            "colorbar": {
             "outlinewidth": 0,
             "ticks": ""
            },
            "colorscale": [
             [
              0,
              "#0d0887"
             ],
             [
              0.1111111111111111,
              "#46039f"
             ],
             [
              0.2222222222222222,
              "#7201a8"
             ],
             [
              0.3333333333333333,
              "#9c179e"
             ],
             [
              0.4444444444444444,
              "#bd3786"
             ],
             [
              0.5555555555555556,
              "#d8576b"
             ],
             [
              0.6666666666666666,
              "#ed7953"
             ],
             [
              0.7777777777777778,
              "#fb9f3a"
             ],
             [
              0.8888888888888888,
              "#fdca26"
             ],
             [
              1,
              "#f0f921"
             ]
            ],
            "type": "histogram2d"
           }
          ],
          "histogram2dcontour": [
           {
            "colorbar": {
             "outlinewidth": 0,
             "ticks": ""
            },
            "colorscale": [
             [
              0,
              "#0d0887"
             ],
             [
              0.1111111111111111,
              "#46039f"
             ],
             [
              0.2222222222222222,
              "#7201a8"
             ],
             [
              0.3333333333333333,
              "#9c179e"
             ],
             [
              0.4444444444444444,
              "#bd3786"
             ],
             [
              0.5555555555555556,
              "#d8576b"
             ],
             [
              0.6666666666666666,
              "#ed7953"
             ],
             [
              0.7777777777777778,
              "#fb9f3a"
             ],
             [
              0.8888888888888888,
              "#fdca26"
             ],
             [
              1,
              "#f0f921"
             ]
            ],
            "type": "histogram2dcontour"
           }
          ],
          "mesh3d": [
           {
            "colorbar": {
             "outlinewidth": 0,
             "ticks": ""
            },
            "type": "mesh3d"
           }
          ],
          "parcoords": [
           {
            "line": {
             "colorbar": {
              "outlinewidth": 0,
              "ticks": ""
             }
            },
            "type": "parcoords"
           }
          ],
          "pie": [
           {
            "automargin": true,
            "type": "pie"
           }
          ],
          "scatter": [
           {
            "marker": {
             "colorbar": {
              "outlinewidth": 0,
              "ticks": ""
             }
            },
            "type": "scatter"
           }
          ],
          "scatter3d": [
           {
            "line": {
             "colorbar": {
              "outlinewidth": 0,
              "ticks": ""
             }
            },
            "marker": {
             "colorbar": {
              "outlinewidth": 0,
              "ticks": ""
             }
            },
            "type": "scatter3d"
           }
          ],
          "scattercarpet": [
           {
            "marker": {
             "colorbar": {
              "outlinewidth": 0,
              "ticks": ""
             }
            },
            "type": "scattercarpet"
           }
          ],
          "scattergeo": [
           {
            "marker": {
             "colorbar": {
              "outlinewidth": 0,
              "ticks": ""
             }
            },
            "type": "scattergeo"
           }
          ],
          "scattergl": [
           {
            "marker": {
             "colorbar": {
              "outlinewidth": 0,
              "ticks": ""
             }
            },
            "type": "scattergl"
           }
          ],
          "scattermapbox": [
           {
            "marker": {
             "colorbar": {
              "outlinewidth": 0,
              "ticks": ""
             }
            },
            "type": "scattermapbox"
           }
          ],
          "scatterpolar": [
           {
            "marker": {
             "colorbar": {
              "outlinewidth": 0,
              "ticks": ""
             }
            },
            "type": "scatterpolar"
           }
          ],
          "scatterpolargl": [
           {
            "marker": {
             "colorbar": {
              "outlinewidth": 0,
              "ticks": ""
             }
            },
            "type": "scatterpolargl"
           }
          ],
          "scatterternary": [
           {
            "marker": {
             "colorbar": {
              "outlinewidth": 0,
              "ticks": ""
             }
            },
            "type": "scatterternary"
           }
          ],
          "surface": [
           {
            "colorbar": {
             "outlinewidth": 0,
             "ticks": ""
            },
            "colorscale": [
             [
              0,
              "#0d0887"
             ],
             [
              0.1111111111111111,
              "#46039f"
             ],
             [
              0.2222222222222222,
              "#7201a8"
             ],
             [
              0.3333333333333333,
              "#9c179e"
             ],
             [
              0.4444444444444444,
              "#bd3786"
             ],
             [
              0.5555555555555556,
              "#d8576b"
             ],
             [
              0.6666666666666666,
              "#ed7953"
             ],
             [
              0.7777777777777778,
              "#fb9f3a"
             ],
             [
              0.8888888888888888,
              "#fdca26"
             ],
             [
              1,
              "#f0f921"
             ]
            ],
            "type": "surface"
           }
          ],
          "table": [
           {
            "cells": {
             "fill": {
              "color": "#EBF0F8"
             },
             "line": {
              "color": "white"
             }
            },
            "header": {
             "fill": {
              "color": "#C8D4E3"
             },
             "line": {
              "color": "white"
             }
            },
            "type": "table"
           }
          ]
         },
         "layout": {
          "annotationdefaults": {
           "arrowcolor": "#2a3f5f",
           "arrowhead": 0,
           "arrowwidth": 1
          },
          "autotypenumbers": "strict",
          "coloraxis": {
           "colorbar": {
            "outlinewidth": 0,
            "ticks": ""
           }
          },
          "colorscale": {
           "diverging": [
            [
             0,
             "#8e0152"
            ],
            [
             0.1,
             "#c51b7d"
            ],
            [
             0.2,
             "#de77ae"
            ],
            [
             0.3,
             "#f1b6da"
            ],
            [
             0.4,
             "#fde0ef"
            ],
            [
             0.5,
             "#f7f7f7"
            ],
            [
             0.6,
             "#e6f5d0"
            ],
            [
             0.7,
             "#b8e186"
            ],
            [
             0.8,
             "#7fbc41"
            ],
            [
             0.9,
             "#4d9221"
            ],
            [
             1,
             "#276419"
            ]
           ],
           "sequential": [
            [
             0,
             "#0d0887"
            ],
            [
             0.1111111111111111,
             "#46039f"
            ],
            [
             0.2222222222222222,
             "#7201a8"
            ],
            [
             0.3333333333333333,
             "#9c179e"
            ],
            [
             0.4444444444444444,
             "#bd3786"
            ],
            [
             0.5555555555555556,
             "#d8576b"
            ],
            [
             0.6666666666666666,
             "#ed7953"
            ],
            [
             0.7777777777777778,
             "#fb9f3a"
            ],
            [
             0.8888888888888888,
             "#fdca26"
            ],
            [
             1,
             "#f0f921"
            ]
           ],
           "sequentialminus": [
            [
             0,
             "#0d0887"
            ],
            [
             0.1111111111111111,
             "#46039f"
            ],
            [
             0.2222222222222222,
             "#7201a8"
            ],
            [
             0.3333333333333333,
             "#9c179e"
            ],
            [
             0.4444444444444444,
             "#bd3786"
            ],
            [
             0.5555555555555556,
             "#d8576b"
            ],
            [
             0.6666666666666666,
             "#ed7953"
            ],
            [
             0.7777777777777778,
             "#fb9f3a"
            ],
            [
             0.8888888888888888,
             "#fdca26"
            ],
            [
             1,
             "#f0f921"
            ]
           ]
          },
          "colorway": [
           "#636efa",
           "#EF553B",
           "#00cc96",
           "#ab63fa",
           "#FFA15A",
           "#19d3f3",
           "#FF6692",
           "#B6E880",
           "#FF97FF",
           "#FECB52"
          ],
          "font": {
           "color": "#2a3f5f"
          },
          "geo": {
           "bgcolor": "white",
           "lakecolor": "white",
           "landcolor": "#E5ECF6",
           "showlakes": true,
           "showland": true,
           "subunitcolor": "white"
          },
          "hoverlabel": {
           "align": "left"
          },
          "hovermode": "closest",
          "mapbox": {
           "style": "light"
          },
          "paper_bgcolor": "white",
          "plot_bgcolor": "#E5ECF6",
          "polar": {
           "angularaxis": {
            "gridcolor": "white",
            "linecolor": "white",
            "ticks": ""
           },
           "bgcolor": "#E5ECF6",
           "radialaxis": {
            "gridcolor": "white",
            "linecolor": "white",
            "ticks": ""
           }
          },
          "scene": {
           "xaxis": {
            "backgroundcolor": "#E5ECF6",
            "gridcolor": "white",
            "gridwidth": 2,
            "linecolor": "white",
            "showbackground": true,
            "ticks": "",
            "zerolinecolor": "white"
           },
           "yaxis": {
            "backgroundcolor": "#E5ECF6",
            "gridcolor": "white",
            "gridwidth": 2,
            "linecolor": "white",
            "showbackground": true,
            "ticks": "",
            "zerolinecolor": "white"
           },
           "zaxis": {
            "backgroundcolor": "#E5ECF6",
            "gridcolor": "white",
            "gridwidth": 2,
            "linecolor": "white",
            "showbackground": true,
            "ticks": "",
            "zerolinecolor": "white"
           }
          },
          "shapedefaults": {
           "line": {
            "color": "#2a3f5f"
           }
          },
          "ternary": {
           "aaxis": {
            "gridcolor": "white",
            "linecolor": "white",
            "ticks": ""
           },
           "baxis": {
            "gridcolor": "white",
            "linecolor": "white",
            "ticks": ""
           },
           "bgcolor": "#E5ECF6",
           "caxis": {
            "gridcolor": "white",
            "linecolor": "white",
            "ticks": ""
           }
          },
          "title": {
           "x": 0.05
          },
          "xaxis": {
           "automargin": true,
           "gridcolor": "white",
           "linecolor": "white",
           "ticks": "",
           "title": {
            "standoff": 15
           },
           "zerolinecolor": "white",
           "zerolinewidth": 2
          },
          "yaxis": {
           "automargin": true,
           "gridcolor": "white",
           "linecolor": "white",
           "ticks": "",
           "title": {
            "standoff": 15
           },
           "zerolinecolor": "white",
           "zerolinewidth": 2
          }
         }
        },
        "title": {
         "font": {
          "color": "#4D5663"
         },
         "text": "Yield To Maturity of US Treasury Note issued at end of Jully 2020 with fixed and different Coupon rates"
        },
        "xaxis": {
         "autorange": true,
         "gridcolor": "#E1E5ED",
         "range": [
          "2020-12-29",
          "2027-07-31"
         ],
         "showgrid": true,
         "tickfont": {
          "color": "#4D5663"
         },
         "title": {
          "font": {
           "color": "#4D5663"
          },
          "text": ""
         },
         "type": "date",
         "zerolinecolor": "#E1E5ED"
        },
        "yaxis": {
         "autorange": true,
         "gridcolor": "#E1E5ED",
         "range": [
          0.0009063372486322358,
          0.00403087670802163
         ],
         "showgrid": true,
         "tickfont": {
          "color": "#4D5663"
         },
         "title": {
          "font": {
           "color": "#4D5663"
          },
          "text": ""
         },
         "type": "linear",
         "zerolinecolor": "#E1E5ED"
        }
       }
      },
      "image/png": "[encoded data removed]",
      "text/html": [
       "<div>                            <div id=\"d1e2cf6d-778f-4966-9aca-f675dd7eb5bc\" class=\"plotly-graph-div\" style=\"height:525px; width:100%;\"></div>            <script type=\"text/javascript\">                require([\"plotly\"], function(Plotly) {                    window.PLOTLYENV=window.PLOTLYENV || {};\n",
       "                    window.PLOTLYENV.BASE_URL='https://chart-studio.plotly.com';                                    if (document.getElementById(\"d1e2cf6d-778f-4966-9aca-f675dd7eb5bc\")) {                    Plotly.newPlot(                        \"d1e2cf6d-778f-4966-9aca-f675dd7eb5bc\",                        [{\"line\": {\"color\": \"rgba(255, 153, 51, 1.0)\", \"dash\": \"solid\", \"shape\": \"linear\", \"width\": 1.3}, \"mode\": \"lines\", \"name\": \"YTM\", \"text\": \"\", \"type\": \"scatter\", \"x\": [\"2020-12-29\", \"2022-07-31\", \"2025-07-31\", \"2027-07-31\"], \"y\": [0.0010625642216017055, 0.0010932860674747608, 0.0020914600723433274, 0.00387464973505216]}],                        {\"legend\": {\"bgcolor\": \"#F5F6F9\", \"font\": {\"color\": \"#4D5663\"}}, \"paper_bgcolor\": \"#F5F6F9\", \"plot_bgcolor\": \"#F5F6F9\", \"template\": {\"data\": {\"bar\": [{\"error_x\": {\"color\": \"#2a3f5f\"}, \"error_y\": {\"color\": \"#2a3f5f\"}, \"marker\": {\"line\": {\"color\": \"#E5ECF6\", \"width\": 0.5}}, \"type\": \"bar\"}], \"barpolar\": [{\"marker\": {\"line\": {\"color\": \"#E5ECF6\", \"width\": 0.5}}, \"type\": \"barpolar\"}], \"carpet\": [{\"aaxis\": {\"endlinecolor\": \"#2a3f5f\", \"gridcolor\": \"white\", \"linecolor\": \"white\", \"minorgridcolor\": \"white\", \"startlinecolor\": \"#2a3f5f\"}, \"baxis\": {\"endlinecolor\": \"#2a3f5f\", \"gridcolor\": \"white\", \"linecolor\": \"white\", \"minorgridcolor\": \"white\", \"startlinecolor\": \"#2a3f5f\"}, \"type\": \"carpet\"}], \"choropleth\": [{\"colorbar\": {\"outlinewidth\": 0, \"ticks\": \"\"}, \"type\": \"choropleth\"}], \"contour\": [{\"colorbar\": {\"outlinewidth\": 0, \"ticks\": \"\"}, \"colorscale\": [[0.0, \"#0d0887\"], [0.1111111111111111, \"#46039f\"], [0.2222222222222222, \"#7201a8\"], [0.3333333333333333, \"#9c179e\"], [0.4444444444444444, \"#bd3786\"], [0.5555555555555556, \"#d8576b\"], [0.6666666666666666, \"#ed7953\"], [0.7777777777777778, \"#fb9f3a\"], [0.8888888888888888, \"#fdca26\"], [1.0, \"#f0f921\"]], \"type\": \"contour\"}], \"contourcarpet\": [{\"colorbar\": {\"outlinewidth\": 0, \"ticks\": \"\"}, \"type\": \"contourcarpet\"}], \"heatmap\": [{\"colorbar\": {\"outlinewidth\": 0, \"ticks\": \"\"}, \"colorscale\": [[0.0, \"#0d0887\"], [0.1111111111111111, \"#46039f\"], [0.2222222222222222, \"#7201a8\"], [0.3333333333333333, \"#9c179e\"], [0.4444444444444444, \"#bd3786\"], [0.5555555555555556, \"#d8576b\"], [0.6666666666666666, \"#ed7953\"], [0.7777777777777778, \"#fb9f3a\"], [0.8888888888888888, \"#fdca26\"], [1.0, \"#f0f921\"]], \"type\": \"heatmap\"}], \"heatmapgl\": [{\"colorbar\": {\"outlinewidth\": 0, \"ticks\": \"\"}, \"colorscale\": [[0.0, \"#0d0887\"], [0.1111111111111111, \"#46039f\"], [0.2222222222222222, \"#7201a8\"], [0.3333333333333333, \"#9c179e\"], [0.4444444444444444, \"#bd3786\"], [0.5555555555555556, \"#d8576b\"], [0.6666666666666666, \"#ed7953\"], [0.7777777777777778, \"#fb9f3a\"], [0.8888888888888888, \"#fdca26\"], [1.0, \"#f0f921\"]], \"type\": \"heatmapgl\"}], \"histogram\": [{\"marker\": {\"colorbar\": {\"outlinewidth\": 0, \"ticks\": \"\"}}, \"type\": \"histogram\"}], \"histogram2d\": [{\"colorbar\": {\"outlinewidth\": 0, \"ticks\": \"\"}, \"colorscale\": [[0.0, \"#0d0887\"], [0.1111111111111111, \"#46039f\"], [0.2222222222222222, \"#7201a8\"], [0.3333333333333333, \"#9c179e\"], [0.4444444444444444, \"#bd3786\"], [0.5555555555555556, \"#d8576b\"], [0.6666666666666666, \"#ed7953\"], [0.7777777777777778, \"#fb9f3a\"], [0.8888888888888888, \"#fdca26\"], [1.0, \"#f0f921\"]], \"type\": \"histogram2d\"}], \"histogram2dcontour\": [{\"colorbar\": {\"outlinewidth\": 0, \"ticks\": \"\"}, \"colorscale\": [[0.0, \"#0d0887\"], [0.1111111111111111, \"#46039f\"], [0.2222222222222222, \"#7201a8\"], [0.3333333333333333, \"#9c179e\"], [0.4444444444444444, \"#bd3786\"], [0.5555555555555556, \"#d8576b\"], [0.6666666666666666, \"#ed7953\"], [0.7777777777777778, \"#fb9f3a\"], [0.8888888888888888, \"#fdca26\"], [1.0, \"#f0f921\"]], \"type\": \"histogram2dcontour\"}], \"mesh3d\": [{\"colorbar\": {\"outlinewidth\": 0, \"ticks\": \"\"}, \"type\": \"mesh3d\"}], \"parcoords\": [{\"line\": {\"colorbar\": {\"outlinewidth\": 0, \"ticks\": \"\"}}, \"type\": \"parcoords\"}], \"pie\": [{\"automargin\": true, \"type\": \"pie\"}], \"scatter\": [{\"marker\": {\"colorbar\": {\"outlinewidth\": 0, \"ticks\": \"\"}}, \"type\": \"scatter\"}], \"scatter3d\": [{\"line\": {\"colorbar\": {\"outlinewidth\": 0, \"ticks\": \"\"}}, \"marker\": {\"colorbar\": {\"outlinewidth\": 0, \"ticks\": \"\"}}, \"type\": \"scatter3d\"}], \"scattercarpet\": [{\"marker\": {\"colorbar\": {\"outlinewidth\": 0, \"ticks\": \"\"}}, \"type\": \"scattercarpet\"}], \"scattergeo\": [{\"marker\": {\"colorbar\": {\"outlinewidth\": 0, \"ticks\": \"\"}}, \"type\": \"scattergeo\"}], \"scattergl\": [{\"marker\": {\"colorbar\": {\"outlinewidth\": 0, \"ticks\": \"\"}}, \"type\": \"scattergl\"}], \"scattermapbox\": [{\"marker\": {\"colorbar\": {\"outlinewidth\": 0, \"ticks\": \"\"}}, \"type\": \"scattermapbox\"}], \"scatterpolar\": [{\"marker\": {\"colorbar\": {\"outlinewidth\": 0, \"ticks\": \"\"}}, \"type\": \"scatterpolar\"}], \"scatterpolargl\": [{\"marker\": {\"colorbar\": {\"outlinewidth\": 0, \"ticks\": \"\"}}, \"type\": \"scatterpolargl\"}], \"scatterternary\": [{\"marker\": {\"colorbar\": {\"outlinewidth\": 0, \"ticks\": \"\"}}, \"type\": \"scatterternary\"}], \"surface\": [{\"colorbar\": {\"outlinewidth\": 0, \"ticks\": \"\"}, \"colorscale\": [[0.0, \"#0d0887\"], [0.1111111111111111, \"#46039f\"], [0.2222222222222222, \"#7201a8\"], [0.3333333333333333, \"#9c179e\"], [0.4444444444444444, \"#bd3786\"], [0.5555555555555556, \"#d8576b\"], [0.6666666666666666, \"#ed7953\"], [0.7777777777777778, \"#fb9f3a\"], [0.8888888888888888, \"#fdca26\"], [1.0, \"#f0f921\"]], \"type\": \"surface\"}], \"table\": [{\"cells\": {\"fill\": {\"color\": \"#EBF0F8\"}, \"line\": {\"color\": \"white\"}}, \"header\": {\"fill\": {\"color\": \"#C8D4E3\"}, \"line\": {\"color\": \"white\"}}, \"type\": \"table\"}]}, \"layout\": {\"annotationdefaults\": {\"arrowcolor\": \"#2a3f5f\", \"arrowhead\": 0, \"arrowwidth\": 1}, \"autotypenumbers\": \"strict\", \"coloraxis\": {\"colorbar\": {\"outlinewidth\": 0, \"ticks\": \"\"}}, \"colorscale\": {\"diverging\": [[0, \"#8e0152\"], [0.1, \"#c51b7d\"], [0.2, \"#de77ae\"], [0.3, \"#f1b6da\"], [0.4, \"#fde0ef\"], [0.5, \"#f7f7f7\"], [0.6, \"#e6f5d0\"], [0.7, \"#b8e186\"], [0.8, \"#7fbc41\"], [0.9, \"#4d9221\"], [1, \"#276419\"]], \"sequential\": [[0.0, \"#0d0887\"], [0.1111111111111111, \"#46039f\"], [0.2222222222222222, \"#7201a8\"], [0.3333333333333333, \"#9c179e\"], [0.4444444444444444, \"#bd3786\"], [0.5555555555555556, \"#d8576b\"], [0.6666666666666666, \"#ed7953\"], [0.7777777777777778, \"#fb9f3a\"], [0.8888888888888888, \"#fdca26\"], [1.0, \"#f0f921\"]], \"sequentialminus\": [[0.0, \"#0d0887\"], [0.1111111111111111, \"#46039f\"], [0.2222222222222222, \"#7201a8\"], [0.3333333333333333, \"#9c179e\"], [0.4444444444444444, \"#bd3786\"], [0.5555555555555556, \"#d8576b\"], [0.6666666666666666, \"#ed7953\"], [0.7777777777777778, \"#fb9f3a\"], [0.8888888888888888, \"#fdca26\"], [1.0, \"#f0f921\"]]}, \"colorway\": [\"#636efa\", \"#EF553B\", \"#00cc96\", \"#ab63fa\", \"#FFA15A\", \"#19d3f3\", \"#FF6692\", \"#B6E880\", \"#FF97FF\", \"#FECB52\"], \"font\": {\"color\": \"#2a3f5f\"}, \"geo\": {\"bgcolor\": \"white\", \"lakecolor\": \"white\", \"landcolor\": \"#E5ECF6\", \"showlakes\": true, \"showland\": true, \"subunitcolor\": \"white\"}, \"hoverlabel\": {\"align\": \"left\"}, \"hovermode\": \"closest\", \"mapbox\": {\"style\": \"light\"}, \"paper_bgcolor\": \"white\", \"plot_bgcolor\": \"#E5ECF6\", \"polar\": {\"angularaxis\": {\"gridcolor\": \"white\", \"linecolor\": \"white\", \"ticks\": \"\"}, \"bgcolor\": \"#E5ECF6\", \"radialaxis\": {\"gridcolor\": \"white\", \"linecolor\": \"white\", \"ticks\": \"\"}}, \"scene\": {\"xaxis\": {\"backgroundcolor\": \"#E5ECF6\", \"gridcolor\": \"white\", \"gridwidth\": 2, \"linecolor\": \"white\", \"showbackground\": true, \"ticks\": \"\", \"zerolinecolor\": \"white\"}, \"yaxis\": {\"backgroundcolor\": \"#E5ECF6\", \"gridcolor\": \"white\", \"gridwidth\": 2, \"linecolor\": \"white\", \"showbackground\": true, \"ticks\": \"\", \"zerolinecolor\": \"white\"}, \"zaxis\": {\"backgroundcolor\": \"#E5ECF6\", \"gridcolor\": \"white\", \"gridwidth\": 2, \"linecolor\": \"white\", \"showbackground\": true, \"ticks\": \"\", \"zerolinecolor\": \"white\"}}, \"shapedefaults\": {\"line\": {\"color\": \"#2a3f5f\"}}, \"ternary\": {\"aaxis\": {\"gridcolor\": \"white\", \"linecolor\": \"white\", \"ticks\": \"\"}, \"baxis\": {\"gridcolor\": \"white\", \"linecolor\": \"white\", \"ticks\": \"\"}, \"bgcolor\": \"#E5ECF6\", \"caxis\": {\"gridcolor\": \"white\", \"linecolor\": \"white\", \"ticks\": \"\"}}, \"title\": {\"x\": 0.05}, \"xaxis\": {\"automargin\": true, \"gridcolor\": \"white\", \"linecolor\": \"white\", \"ticks\": \"\", \"title\": {\"standoff\": 15}, \"zerolinecolor\": \"white\", \"zerolinewidth\": 2}, \"yaxis\": {\"automargin\": true, \"gridcolor\": \"white\", \"linecolor\": \"white\", \"ticks\": \"\", \"title\": {\"standoff\": 15}, \"zerolinecolor\": \"white\", \"zerolinewidth\": 2}}}, \"title\": {\"font\": {\"color\": \"#4D5663\"}, \"text\": \"Yield To Maturity of US Treasury Note issued at end of Jully 2020 with fixed and different Coupon rates\"}, \"xaxis\": {\"gridcolor\": \"#E1E5ED\", \"showgrid\": true, \"tickfont\": {\"color\": \"#4D5663\"}, \"title\": {\"font\": {\"color\": \"#4D5663\"}, \"text\": \"\"}, \"zerolinecolor\": \"#E1E5ED\"}, \"yaxis\": {\"gridcolor\": \"#E1E5ED\", \"showgrid\": true, \"tickfont\": {\"color\": \"#4D5663\"}, \"title\": {\"font\": {\"color\": \"#4D5663\"}, \"text\": \"\"}, \"zerolinecolor\": \"#E1E5ED\"}},                        {\"showLink\": true, \"linkText\": \"Export to chart-studio.plotly.com\", \"plotlyServerURL\": \"https://chart-studio.plotly.com\", \"responsive\": true}                    ).then(function(){\n",
       "                            \n",
       "var gd = document.getElementById('d1e2cf6d-778f-4966-9aca-f675dd7eb5bc');\n",
       "var x = new MutationObserver(function (mutations, observer) {{\n",
       "        var display = window.getComputedStyle(gd).display;\n",
       "        if (!display || display === 'none') {{\n",
       "            console.log([gd, 'removed!']);\n",
       "            Plotly.purge(gd);\n",
       "            observer.disconnect();\n",
       "        }}\n",
       "}});\n",
       "\n",
       "// Listen for the removal of the full notebook cells\n",
       "var notebookContainer = gd.closest('#notebook-container');\n",
       "if (notebookContainer) {{\n",
       "    x.observe(notebookContainer, {childList: true});\n",
       "}}\n",
       "\n",
       "// Listen for the clearing of the current output cell\n",
       "var outputEl = gd.closest('.output');\n",
       "if (outputEl) {{\n",
       "    x.observe(outputEl, {childList: true});\n",
       "}}\n",
       "\n",
       "                        })                };                });            </script>        </div>"
      ]
     },
     "metadata": {},
     "output_type": "display_data"
    }
   ],
   "source": [
    "yc_df = DSWS_fixed_and_price_data_collection_and_ytm(\n",
    "    instruments=[\"613V2R\", \"613XGW\", \"613XGU\", \"613XG1\"],\n",
    "    fields=[\"DSCD\", \"NAME\", \"ID\", \"TERM\",\n",
    "            \"RV\", \"C\", \"CTYP\", \"RDL\"])\n",
    "\n",
    "yc_df.index = yc_df['RDL']\n",
    "\n",
    "display(yc_df)\n",
    "yc_df[\"YTM\"].iplot(title=\"Yield To Maturity of US Treasury Note issued at end of Jully 2020 with fixed and different Coupon rates\")"
   ]
  },
  {
   "cell_type": "markdown",
   "id": "e0f6a8ea-b218-4d07-8ee4-1fc24bbdaaa5",
   "metadata": {},
   "source": [
    "We can see that we have very little liquidity in such on-the-run sovereign Bonds. I couldn't find ones that our agent could buy at time of issue (towards the end of July 2020). Such a lack of liquidity does not provide us with enough datapoints to compute Spot Rates.\n",
    "\n",
    "> ##### Example of how a lack in liquidity in on-the-run sovereign Bonds disables us from computing Spot Rates without using off-the-run sovereign Bonds' data\n",
    "> We know from the ```yc_df``` data-frame above that we do not have data for on-the-run US Treasury Bonds issued towards the end of July 2020 with 1 year maturity. That's because such a specific Bond is not being sold on the market. Say that we try to compute the Spot Rate for such a specific Bond, we'd have to use the following data:\n",
    "> \n",
    "> |Maturity (Years)|Coupon Rate|Price at issue|Yield To Maturity|\n",
    "> |:-|:-|:-|:-|\n",
    "> |0.50|0.000|99.9469|0.001063|\n",
    "> |1.00| $\\mathcal{C}_{p,\\text{OYTB}_{\"2020-07-31\"}}$ |$P_{\\text{OYTB}_{\"2020-07-31\"}}$|$YTM_{\\text{OYTB}_{\"2020-07-31\"}}$|\n",
    ">\n",
    "> Where $P_{\\text{OYTB}_{\"2020-07-31\"}}$ is the price of our fictisious One Year Treasury Bill issued on 2020-07-31. Then our cashflow is:\n",
    ">\n",
    "> |Time (years) from issue to cashflow date|Calculation of discouted cashflow|Discouted cashflow|\n",
    "> |:-|:-|:-|\n",
    "> |0.5|$\\mathcal{C}_{p, \\text{OYTB}_{\"2020-07-31\"}}$ x ${FV}_{\\text{OYTB}}$ x $f_{\\text{acpf}}$ = 0.000 x \\$100 x 0.5|\\$0.00|\n",
    "> |1.0|$\\mathcal{C}_{p, \\text{OYTB}_{\"2020-07-31\"}}$ x ${FV}_{\\text{OYTB}}$ x $f_{\\text{acpf}} = 0.000$ x \\\\$100 x 0.5 + \\$100|\\$100|\n",
    "> \n",
    "> since the Coupon rate of all US Bonds with maturities equal to or lower than 1 year are Zero-Coupon. Then\n",
    "> \n",
    "> $$ \\begin{array}{ll} {NPV}_{\\text{OYTB}_{\"2020-07-31\"}, 0.5} &= \\frac{\\mathcal{C}_{p, \\text{OYTB}_{\"2020-07-31\"}} \\text{ x } {FV}_{\\text{OYTB}} \\text{ x } f_{\\text{acpf}}}{1 + {SR}_{\\text{OYTB}_{\"2020-07-31\"}, 1}} + \\frac{\\mathcal{C}_{p, \\text{OYTB}_{\"2020-07-31\"}} \\text{ x } {FV}_{\\text{OYTB}} \\text{ x } f_{\\text{acpf}} + {FV}_{\\text{OYTB}_{\"2020-07-31\"}}}{(1 + {SR}_{\\text{OYTB}_{\"2020-07-31\"}, 2})^2} \\\\ P_{\\text{OYTB}_{\"2020-07-31\"}} &= \\frac{\\mathcal{C}_{p, \\text{OYTB}_{\"2020-07-31\"}} \\text{ x } {FV}_{\\text{OYTB}} \\text{ x } f_{\\text{acpf}}}{1 + {SR}_{\\text{OYTB}_{\"2020-07-31\"}, 1}} + \\frac{\\mathcal{C}_{p, \\text{OYTB}_{\"2020-07-31\"}} \\text{ x } {FV}_{\\text{OYTB}} \\text{ x } f_{\\text{acpf}} + {FV}_{\\text{OYTB}_{\"2020-07-31\"}}}{(1 + {SR}_{\\text{OYTB}_{\"2020-07-31\"}, 2})^2} \\text{ letting } {NPV}_{\\text{OYTB}_{\"2020-07-31\"}, 0.5} = P_{\\text{OYTB}_{\"2020-07-31\"}} \\\\ &= \\frac{0.000 \\text{ x } \\$100 \\text{ x } 0.5}{1 + {SR}_{\\text{OYTB}_{\"2020-07-31\"}, 1}} + \\frac{0.000 \\text{ x } \\$100 \\text{ x } 0.5 + \\$ 100}{(1 + {SR}_{\\text{OYTB}_{\"2020-07-31\"}, 2})^2} \\\\ &= \\frac{0.000 \\text{ x } \\$100 \\text{ x } 0.5}{1 + {YTM}_{\\text{SMTB}_{\"2020-07-31\"}}} + \\frac{0.000 \\text{ x } \\$100 \\text{ x } 0.5 + \\$ 100}{(1 + {SR}_{\\text{OYTB}_{\"2020-07-31\"}, 2})^2} \\text{ letting } {SR}_{\\text{OYTB}_{\"2020-07-31\"}, 1} = {YTM}_{\\text{SMTB}_{\"2020-07-31\"}} = \\text{ YTM of the Six Month Treasury Bill at time of its issue} \\\\ &= \\frac{\\$ 100}{(1 + {SR}_{\\text{OYTB}_{\"2020-07-31\"}, 2})^2} \\text{, thus} \\\\ {SR}_{\\text{OYTB}_{\"2020-07-31\"}, 2} &= \\sqrt[2]{\\frac{\\$ 100}{P_{\\text{OYTB}_{\"2020-07-31\"}}}}-1 \\end{array}$$\n",
    "> \n",
    "> And thus, without a OYTB Bond from which to get $P_{\\text{OYTB}_{\"2020-07-31\"}}$, we cannot calculate ${SR}_{\\text{OYTB}_{\"2020-07-31\"}, 2}$."
   ]
  },
  {
   "cell_type": "markdown",
   "id": "351624d8-94b9-419b-9428-07dc6f90178b",
   "metadata": {},
   "source": [
    "This lack of on-the-run liquidity can be solved by using off-the-run Bonds:"
   ]
  },
  {
   "cell_type": "markdown",
   "id": "ebeee2e8-aaf6-4fb9-a8c9-1ef6b0968047",
   "metadata": {},
   "source": [
    "#### On and Off-the-run sovereign Bonds\n",
    "\n",
    "[Off-the-run sovereign Bonds](https://www.investopedia.com/terms/o/off-the-runtreasuries.asp) are simply Bonds issued before the latest. In our hypothetical situation, we were only looking at Bonds issued at (approximatelly) the same time, at the end of July 2020. What we can do however, is look at Bonds issued earlier. *E.g.*: We can use a Bond with 1 year to maturity issued 6 months earlier (at the end of January 2020)."
   ]
  },
  {
   "cell_type": "code",
   "execution_count": 22,
   "id": "de649576-e09b-4280-8129-2cbafcdf8e22",
   "metadata": {},
   "outputs": [],
   "source": [
    "from_date = \"2020-07-31\""
   ]
  },
  {
   "cell_type": "markdown",
   "id": "89a4c059-faac-4406-8bc5-e9e3eb789677",
   "metadata": {},
   "source": [
    "We stick to 360 days a year to keep in line with the [FEDERAL RESERVE statistical release](https://www.federalreserve.gov/releases/h15/current/h15.pdf), however, we should both (i) let people chose the average number of days per year they deem useful in this calculation and (ii) the rounding they're ready to use"
   ]
  },
  {
   "cell_type": "code",
   "execution_count": 23,
   "id": "97b84399-93f1-4e19-91bc-e0243be0ac47",
   "metadata": {},
   "outputs": [],
   "source": [
    "off_run_df = DSWS_fixed_and_price_data_collection_and_ytm(\n",
    "    instruments=[\"247DK9\", \"235FFA\", \"218QH0\", \"823D0N\", \"210EV1\",\n",
    "                 \"235FFD\", \"247DLH\", \"218QJQ\", \"235FF9\", \"247DLR\"],\n",
    "    fields=[\"DSCD\", \"NAME\", \"ID\", \"TERM\",\n",
    "            \"RV\", \"C\", \"CTYP\", \"RDL\"])\n",
    "\n",
    "# Configure the data-frame's index appropriately\n",
    "off_run_df.index = off_run_df['RDL']\n",
    "off_run_df.index.names = ['RD']  # ' RD ' for Redemption Date\n",
    "\n",
    "# Combine off- and on-the-run Bonds' data-frames\n",
    "off_on_df = yc_df.append(off_run_df)\n",
    "\n",
    "# Collect and add price data as of date of interest\n",
    "off_on_df[\"Price on 2020-07-31\"] = [\n",
    "    ds.get_data(start=\"2020-07-31\", end=\"2020-07-31\",\n",
    "                fields=\"X\", freq='D',\n",
    "                tickers=i).values[0][2]\n",
    "    for i in list(off_on_df[\"DSCD\"])]\n",
    "\n",
    "# Add the YTM implied by 2020-07-31 Price\n",
    "off_on_df[\"YTM implied by 2020-07-31 Price\"] = [\n",
    "    YTM_Solver(\n",
    "        fv=off_on_df.iloc[i][\"RV\"],\n",
    "        c=off_on_df.iloc[i][\"RV\"] * off_on_df.iloc[i][\"C\"] / 100,\n",
    "        m=(round(2*((datetime.strptime(off_on_df.iloc[i][\"RDL\"], '%Y-%m-%d') -\n",
    "                     datetime.strptime(from_date, '%Y-%m-%d')).days)/360)) / 2,\n",
    "        f_acf=0.5, error=False,\n",
    "        p=off_on_df.iloc[i][\"Price on 2020-07-31\"])\n",
    "    for i in range(len(off_on_df))]\n",
    "\n",
    "# Add the Years Left to Maturity\n",
    "off_on_df[\"Years Left to Maturity\"] = [\n",
    "    (round(2*((datetime.strptime(off_on_df.iloc[i][\"RDL\"], '%Y-%m-%d') -\n",
    "               datetime.strptime(from_date, '%Y-%m-%d')).days)/360)) / 2\n",
    "    for i in range(len(off_on_df))]"
   ]
  },
  {
   "cell_type": "code",
   "execution_count": 24,
   "id": "4406fdf4-9519-4476-853f-2700bac9ab42",
   "metadata": {},
   "outputs": [
    {
     "data": {
      "text/html": [
       "<div>\n",
       "<style scoped>\n",
       "    .dataframe tbody tr th:only-of-type {\n",
       "        vertical-align: middle;\n",
       "    }\n",
       "\n",
       "    .dataframe tbody tr th {\n",
       "        vertical-align: top;\n",
       "    }\n",
       "\n",
       "    .dataframe thead th {\n",
       "        text-align: right;\n",
       "    }\n",
       "</style>\n",
       "<table border=\"1\" class=\"dataframe\">\n",
       "  <thead>\n",
       "    <tr style=\"text-align: right;\">\n",
       "      <th></th>\n",
       "      <th>DSCD</th>\n",
       "      <th>NAME</th>\n",
       "      <th>ID</th>\n",
       "      <th>TERM</th>\n",
       "      <th>RV</th>\n",
       "      <th>C</th>\n",
       "      <th>CTYP</th>\n",
       "      <th>RDL</th>\n",
       "      <th>Price at issue</th>\n",
       "      <th>CD</th>\n",
       "      <th>CF</th>\n",
       "      <th>YTM</th>\n",
       "      <th>Price on 2020-07-31</th>\n",
       "      <th>YTM implied by 2020-07-31 Price</th>\n",
       "      <th>Years Left to Maturity</th>\n",
       "    </tr>\n",
       "  </thead>\n",
       "  <tbody>\n",
       "    <tr>\n",
       "      <th>2020-12-29</th>\n",
       "      <td>613V2R</td>\n",
       "      <td>UTD.STS OF AMERICA 2020 ZERO 29/12/20</td>\n",
       "      <td>2020-07-28</td>\n",
       "      <td>0.5</td>\n",
       "      <td>100</td>\n",
       "      <td>0</td>\n",
       "      <td>ZERO</td>\n",
       "      <td>2020-12-29</td>\n",
       "      <td>99.9469</td>\n",
       "      <td>[2021-02-01 00:00:00]</td>\n",
       "      <td>[0.0]</td>\n",
       "      <td>0.001063</td>\n",
       "      <td>99.9559</td>\n",
       "      <td>0.000882</td>\n",
       "      <td>0.5</td>\n",
       "    </tr>\n",
       "    <tr>\n",
       "      <th>2021-07-31</th>\n",
       "      <td>235FFA</td>\n",
       "      <td>US TREASURY NOTE 2019 1 3/4% 31/07/21 BD-2021</td>\n",
       "      <td>2019-07-31</td>\n",
       "      <td>2</td>\n",
       "      <td>100</td>\n",
       "      <td>1.75</td>\n",
       "      <td>FIX</td>\n",
       "      <td>2021-07-31</td>\n",
       "      <td>99.7930</td>\n",
       "      <td>[2020-01-31 00:00:00, 2020-07-31 00:00:00, 202...</td>\n",
       "      <td>[1.75, 1.75, 1.75, 1.75]</td>\n",
       "      <td>0.018559</td>\n",
       "      <td>101.6094</td>\n",
       "      <td>0.001389</td>\n",
       "      <td>1.0</td>\n",
       "    </tr>\n",
       "    <tr>\n",
       "      <th>2021-12-31</th>\n",
       "      <td>247DK9</td>\n",
       "      <td>US TREASURY NOTE 2019 1 5/8% 31/12/21 BL-2021</td>\n",
       "      <td>2019-12-31</td>\n",
       "      <td>2</td>\n",
       "      <td>100</td>\n",
       "      <td>1.625</td>\n",
       "      <td>FIX</td>\n",
       "      <td>2021-12-31</td>\n",
       "      <td>100.0742</td>\n",
       "      <td>[2020-06-30 00:00:00, 2020-12-31 00:00:00, 202...</td>\n",
       "      <td>[1.625, 1.625, 1.625, 1.625]</td>\n",
       "      <td>0.015872</td>\n",
       "      <td>102.1016</td>\n",
       "      <td>0.002208</td>\n",
       "      <td>1.5</td>\n",
       "    </tr>\n",
       "    <tr>\n",
       "      <th>2022-07-31</th>\n",
       "      <td>613XGW</td>\n",
       "      <td>US TREASURY NOTE 2020 1/8% 31/07/22 BD-2022</td>\n",
       "      <td>2020-07-31</td>\n",
       "      <td>2</td>\n",
       "      <td>100</td>\n",
       "      <td>0.125</td>\n",
       "      <td>FIX</td>\n",
       "      <td>2022-07-31</td>\n",
       "      <td>100.0313</td>\n",
       "      <td>[2021-02-01 00:00:00, 2021-08-02 00:00:00, 202...</td>\n",
       "      <td>[0.125, 0.125, 0.125, 0.125]</td>\n",
       "      <td>0.001093</td>\n",
       "      <td>100.0313</td>\n",
       "      <td>0.001093</td>\n",
       "      <td>2.0</td>\n",
       "    </tr>\n",
       "    <tr>\n",
       "      <th>2022-12-31</th>\n",
       "      <td>823D0N</td>\n",
       "      <td>US TREASURY NOTE 2015 2 1/8% 31/12/22 T-2022</td>\n",
       "      <td>2015-12-31</td>\n",
       "      <td>7</td>\n",
       "      <td>100</td>\n",
       "      <td>2.125</td>\n",
       "      <td>FIX</td>\n",
       "      <td>2022-12-31</td>\n",
       "      <td>100.2031</td>\n",
       "      <td>[2016-06-30 00:00:00, 2017-01-03 00:00:00, 201...</td>\n",
       "      <td>[2.125, 2.125, 2.125, 2.125, 2.125, 2.125, 2.1...</td>\n",
       "      <td>0.020937</td>\n",
       "      <td>104.8281</td>\n",
       "      <td>0.001883</td>\n",
       "      <td>2.5</td>\n",
       "    </tr>\n",
       "    <tr>\n",
       "      <th>2023-07-31</th>\n",
       "      <td>210EV1</td>\n",
       "      <td>US TREASURY NOTE 2018 2 3/4% 31/07/23 AB-2023</td>\n",
       "      <td>2018-07-31</td>\n",
       "      <td>5</td>\n",
       "      <td>100</td>\n",
       "      <td>2.75</td>\n",
       "      <td>FIX</td>\n",
       "      <td>2023-07-31</td>\n",
       "      <td>99.5469</td>\n",
       "      <td>[2019-01-31 00:00:00, 2019-07-31 00:00:00, 202...</td>\n",
       "      <td>[2.75, 2.75, 2.75, 2.75, 2.75, 2.75, 2.75, 2.7...</td>\n",
       "      <td>0.028479</td>\n",
       "      <td>107.8438</td>\n",
       "      <td>0.001295</td>\n",
       "      <td>3.0</td>\n",
       "    </tr>\n",
       "    <tr>\n",
       "      <th>2023-12-31</th>\n",
       "      <td>218QH0</td>\n",
       "      <td>US TREASURY NOTE 2018 2 5/8% 31/12/23 AG-2023</td>\n",
       "      <td>2018-12-31</td>\n",
       "      <td>5</td>\n",
       "      <td>100</td>\n",
       "      <td>2.625</td>\n",
       "      <td>FIX</td>\n",
       "      <td>2023-12-31</td>\n",
       "      <td>100.5391</td>\n",
       "      <td>[2019-07-01 00:00:00, 2019-12-31 00:00:00, 202...</td>\n",
       "      <td>[2.625, 2.625, 2.625, 2.625, 2.625, 2.625, 2.6...</td>\n",
       "      <td>0.025096</td>\n",
       "      <td>108.4609</td>\n",
       "      <td>0.001980</td>\n",
       "      <td>3.5</td>\n",
       "    </tr>\n",
       "    <tr>\n",
       "      <th>2024-07-31</th>\n",
       "      <td>235FFD</td>\n",
       "      <td>US TREASURY NOTE 2019 1 3/4% 31/07/24 AB-2024</td>\n",
       "      <td>2019-07-31</td>\n",
       "      <td>5</td>\n",
       "      <td>100</td>\n",
       "      <td>1.75</td>\n",
       "      <td>FIX</td>\n",
       "      <td>2024-07-31</td>\n",
       "      <td>99.6563</td>\n",
       "      <td>[2020-01-31 00:00:00, 2020-07-31 00:00:00, 202...</td>\n",
       "      <td>[1.75, 1.75, 1.75, 1.75, 1.75, 1.75, 1.75, 1.7...</td>\n",
       "      <td>0.018222</td>\n",
       "      <td>106.3203</td>\n",
       "      <td>0.001641</td>\n",
       "      <td>4.0</td>\n",
       "    </tr>\n",
       "    <tr>\n",
       "      <th>2024-12-31</th>\n",
       "      <td>247DLH</td>\n",
       "      <td>US TREASURY NOTE 2019 1 3/4% 31/12/24 AH-2024</td>\n",
       "      <td>2019-12-31</td>\n",
       "      <td>5</td>\n",
       "      <td>100</td>\n",
       "      <td>1.75</td>\n",
       "      <td>FIX</td>\n",
       "      <td>2024-12-31</td>\n",
       "      <td>100.2734</td>\n",
       "      <td>[2020-06-30 00:00:00, 2020-12-31 00:00:00, 202...</td>\n",
       "      <td>[1.75, 1.75, 1.75, 1.75, 1.75, 1.75, 1.75, 1.7...</td>\n",
       "      <td>0.016927</td>\n",
       "      <td>106.8828</td>\n",
       "      <td>0.002124</td>\n",
       "      <td>4.5</td>\n",
       "    </tr>\n",
       "    <tr>\n",
       "      <th>2025-07-31</th>\n",
       "      <td>613XGU</td>\n",
       "      <td>US TREASURY NOTE 2020 1/4% 31/07/25 AB-2025</td>\n",
       "      <td>2020-07-31</td>\n",
       "      <td>5</td>\n",
       "      <td>100</td>\n",
       "      <td>0.25</td>\n",
       "      <td>FIX</td>\n",
       "      <td>2025-07-31</td>\n",
       "      <td>100.2031</td>\n",
       "      <td>[2021-02-01 00:00:00, 2021-08-02 00:00:00, 202...</td>\n",
       "      <td>[0.25, 0.25, 0.25, 0.25, 0.25, 0.25, 0.25, 0.2...</td>\n",
       "      <td>0.002091</td>\n",
       "      <td>100.2031</td>\n",
       "      <td>0.002091</td>\n",
       "      <td>5.0</td>\n",
       "    </tr>\n",
       "    <tr>\n",
       "      <th>2025-12-31</th>\n",
       "      <td>218QJQ</td>\n",
       "      <td>US TREASURY NOTE 2018 2 5/8% 31/12/25 T-2025</td>\n",
       "      <td>2018-12-31</td>\n",
       "      <td>7</td>\n",
       "      <td>100</td>\n",
       "      <td>2.625</td>\n",
       "      <td>FIX</td>\n",
       "      <td>2025-12-31</td>\n",
       "      <td>100.2500</td>\n",
       "      <td>[2019-07-01 00:00:00, 2019-12-31 00:00:00, 202...</td>\n",
       "      <td>[2.625, 2.625, 2.625, 2.625, 2.625, 2.625, 2.6...</td>\n",
       "      <td>0.025857</td>\n",
       "      <td>112.7344</td>\n",
       "      <td>0.002895</td>\n",
       "      <td>5.5</td>\n",
       "    </tr>\n",
       "    <tr>\n",
       "      <th>2026-07-31</th>\n",
       "      <td>235FF9</td>\n",
       "      <td>US TREASURY NOTE 2019 1 7/8% 31/07/26 N-2026</td>\n",
       "      <td>2019-07-31</td>\n",
       "      <td>7</td>\n",
       "      <td>100</td>\n",
       "      <td>1.875</td>\n",
       "      <td>FIX</td>\n",
       "      <td>2026-07-31</td>\n",
       "      <td>99.7813</td>\n",
       "      <td>[2020-01-31 00:00:00, 2020-07-31 00:00:00, 202...</td>\n",
       "      <td>[1.875, 1.875, 1.875, 1.875, 1.875, 1.875, 1.8...</td>\n",
       "      <td>0.019085</td>\n",
       "      <td>109.2891</td>\n",
       "      <td>0.003111</td>\n",
       "      <td>6.0</td>\n",
       "    </tr>\n",
       "    <tr>\n",
       "      <th>2026-12-31</th>\n",
       "      <td>247DLR</td>\n",
       "      <td>US TREASURY NOTE 2019 1 3/4% 31/12/26 T-2026</td>\n",
       "      <td>2019-12-31</td>\n",
       "      <td>7</td>\n",
       "      <td>100</td>\n",
       "      <td>1.75</td>\n",
       "      <td>FIX</td>\n",
       "      <td>2026-12-31</td>\n",
       "      <td>99.4375</td>\n",
       "      <td>[2020-06-30 00:00:00, 2020-12-31 00:00:00, 202...</td>\n",
       "      <td>[1.75, 1.75, 1.75, 1.75, 1.75, 1.75, 1.75, 1.7...</td>\n",
       "      <td>0.018360</td>\n",
       "      <td>108.8984</td>\n",
       "      <td>0.003635</td>\n",
       "      <td>6.5</td>\n",
       "    </tr>\n",
       "    <tr>\n",
       "      <th>2027-07-31</th>\n",
       "      <td>613XG1</td>\n",
       "      <td>US TREASURY NOTE 2020 3/8% 31/07/27 N-2027</td>\n",
       "      <td>2020-07-31</td>\n",
       "      <td>7</td>\n",
       "      <td>100</td>\n",
       "      <td>0.375</td>\n",
       "      <td>FIX</td>\n",
       "      <td>2027-07-31</td>\n",
       "      <td>99.9140</td>\n",
       "      <td>[2021-02-01 00:00:00, 2021-08-02 00:00:00, 202...</td>\n",
       "      <td>[0.375, 0.375, 0.375, 0.375, 0.375, 0.375, 0.3...</td>\n",
       "      <td>0.003875</td>\n",
       "      <td>99.9140</td>\n",
       "      <td>0.003875</td>\n",
       "      <td>7.0</td>\n",
       "    </tr>\n",
       "  </tbody>\n",
       "</table>\n",
       "</div>"
      ],
      "text/plain": [
       "              DSCD                                           NAME          ID  \\\n",
       "2020-12-29  613V2R          UTD.STS OF AMERICA 2020 ZERO 29/12/20  2020-07-28   \n",
       "2021-07-31  235FFA  US TREASURY NOTE 2019 1 3/4% 31/07/21 BD-2021  2019-07-31   \n",
       "2021-12-31  247DK9  US TREASURY NOTE 2019 1 5/8% 31/12/21 BL-2021  2019-12-31   \n",
       "2022-07-31  613XGW    US TREASURY NOTE 2020 1/8% 31/07/22 BD-2022  2020-07-31   \n",
       "2022-12-31  823D0N   US TREASURY NOTE 2015 2 1/8% 31/12/22 T-2022  2015-12-31   \n",
       "2023-07-31  210EV1  US TREASURY NOTE 2018 2 3/4% 31/07/23 AB-2023  2018-07-31   \n",
       "2023-12-31  218QH0  US TREASURY NOTE 2018 2 5/8% 31/12/23 AG-2023  2018-12-31   \n",
       "2024-07-31  235FFD  US TREASURY NOTE 2019 1 3/4% 31/07/24 AB-2024  2019-07-31   \n",
       "2024-12-31  247DLH  US TREASURY NOTE 2019 1 3/4% 31/12/24 AH-2024  2019-12-31   \n",
       "2025-07-31  613XGU    US TREASURY NOTE 2020 1/4% 31/07/25 AB-2025  2020-07-31   \n",
       "2025-12-31  218QJQ   US TREASURY NOTE 2018 2 5/8% 31/12/25 T-2025  2018-12-31   \n",
       "2026-07-31  235FF9   US TREASURY NOTE 2019 1 7/8% 31/07/26 N-2026  2019-07-31   \n",
       "2026-12-31  247DLR   US TREASURY NOTE 2019 1 3/4% 31/12/26 T-2026  2019-12-31   \n",
       "2027-07-31  613XG1     US TREASURY NOTE 2020 3/8% 31/07/27 N-2027  2020-07-31   \n",
       "\n",
       "           TERM   RV      C  CTYP         RDL  Price at issue  \\\n",
       "2020-12-29  0.5  100      0  ZERO  2020-12-29         99.9469   \n",
       "2021-07-31    2  100   1.75   FIX  2021-07-31         99.7930   \n",
       "2021-12-31    2  100  1.625   FIX  2021-12-31        100.0742   \n",
       "2022-07-31    2  100  0.125   FIX  2022-07-31        100.0313   \n",
       "2022-12-31    7  100  2.125   FIX  2022-12-31        100.2031   \n",
       "2023-07-31    5  100   2.75   FIX  2023-07-31         99.5469   \n",
       "2023-12-31    5  100  2.625   FIX  2023-12-31        100.5391   \n",
       "2024-07-31    5  100   1.75   FIX  2024-07-31         99.6563   \n",
       "2024-12-31    5  100   1.75   FIX  2024-12-31        100.2734   \n",
       "2025-07-31    5  100   0.25   FIX  2025-07-31        100.2031   \n",
       "2025-12-31    7  100  2.625   FIX  2025-12-31        100.2500   \n",
       "2026-07-31    7  100  1.875   FIX  2026-07-31         99.7813   \n",
       "2026-12-31    7  100   1.75   FIX  2026-12-31         99.4375   \n",
       "2027-07-31    7  100  0.375   FIX  2027-07-31         99.9140   \n",
       "\n",
       "                                                           CD  \\\n",
       "2020-12-29                              [2021-02-01 00:00:00]   \n",
       "2021-07-31  [2020-01-31 00:00:00, 2020-07-31 00:00:00, 202...   \n",
       "2021-12-31  [2020-06-30 00:00:00, 2020-12-31 00:00:00, 202...   \n",
       "2022-07-31  [2021-02-01 00:00:00, 2021-08-02 00:00:00, 202...   \n",
       "2022-12-31  [2016-06-30 00:00:00, 2017-01-03 00:00:00, 201...   \n",
       "2023-07-31  [2019-01-31 00:00:00, 2019-07-31 00:00:00, 202...   \n",
       "2023-12-31  [2019-07-01 00:00:00, 2019-12-31 00:00:00, 202...   \n",
       "2024-07-31  [2020-01-31 00:00:00, 2020-07-31 00:00:00, 202...   \n",
       "2024-12-31  [2020-06-30 00:00:00, 2020-12-31 00:00:00, 202...   \n",
       "2025-07-31  [2021-02-01 00:00:00, 2021-08-02 00:00:00, 202...   \n",
       "2025-12-31  [2019-07-01 00:00:00, 2019-12-31 00:00:00, 202...   \n",
       "2026-07-31  [2020-01-31 00:00:00, 2020-07-31 00:00:00, 202...   \n",
       "2026-12-31  [2020-06-30 00:00:00, 2020-12-31 00:00:00, 202...   \n",
       "2027-07-31  [2021-02-01 00:00:00, 2021-08-02 00:00:00, 202...   \n",
       "\n",
       "                                                           CF       YTM  \\\n",
       "2020-12-29                                              [0.0]  0.001063   \n",
       "2021-07-31                           [1.75, 1.75, 1.75, 1.75]  0.018559   \n",
       "2021-12-31                       [1.625, 1.625, 1.625, 1.625]  0.015872   \n",
       "2022-07-31                       [0.125, 0.125, 0.125, 0.125]  0.001093   \n",
       "2022-12-31  [2.125, 2.125, 2.125, 2.125, 2.125, 2.125, 2.1...  0.020937   \n",
       "2023-07-31  [2.75, 2.75, 2.75, 2.75, 2.75, 2.75, 2.75, 2.7...  0.028479   \n",
       "2023-12-31  [2.625, 2.625, 2.625, 2.625, 2.625, 2.625, 2.6...  0.025096   \n",
       "2024-07-31  [1.75, 1.75, 1.75, 1.75, 1.75, 1.75, 1.75, 1.7...  0.018222   \n",
       "2024-12-31  [1.75, 1.75, 1.75, 1.75, 1.75, 1.75, 1.75, 1.7...  0.016927   \n",
       "2025-07-31  [0.25, 0.25, 0.25, 0.25, 0.25, 0.25, 0.25, 0.2...  0.002091   \n",
       "2025-12-31  [2.625, 2.625, 2.625, 2.625, 2.625, 2.625, 2.6...  0.025857   \n",
       "2026-07-31  [1.875, 1.875, 1.875, 1.875, 1.875, 1.875, 1.8...  0.019085   \n",
       "2026-12-31  [1.75, 1.75, 1.75, 1.75, 1.75, 1.75, 1.75, 1.7...  0.018360   \n",
       "2027-07-31  [0.375, 0.375, 0.375, 0.375, 0.375, 0.375, 0.3...  0.003875   \n",
       "\n",
       "            Price on 2020-07-31  YTM implied by 2020-07-31 Price  \\\n",
       "2020-12-29              99.9559                         0.000882   \n",
       "2021-07-31             101.6094                         0.001389   \n",
       "2021-12-31             102.1016                         0.002208   \n",
       "2022-07-31             100.0313                         0.001093   \n",
       "2022-12-31             104.8281                         0.001883   \n",
       "2023-07-31             107.8438                         0.001295   \n",
       "2023-12-31             108.4609                         0.001980   \n",
       "2024-07-31             106.3203                         0.001641   \n",
       "2024-12-31             106.8828                         0.002124   \n",
       "2025-07-31             100.2031                         0.002091   \n",
       "2025-12-31             112.7344                         0.002895   \n",
       "2026-07-31             109.2891                         0.003111   \n",
       "2026-12-31             108.8984                         0.003635   \n",
       "2027-07-31              99.9140                         0.003875   \n",
       "\n",
       "            Years Left to Maturity  \n",
       "2020-12-29                     0.5  \n",
       "2021-07-31                     1.0  \n",
       "2021-12-31                     1.5  \n",
       "2022-07-31                     2.0  \n",
       "2022-12-31                     2.5  \n",
       "2023-07-31                     3.0  \n",
       "2023-12-31                     3.5  \n",
       "2024-07-31                     4.0  \n",
       "2024-12-31                     4.5  \n",
       "2025-07-31                     5.0  \n",
       "2025-12-31                     5.5  \n",
       "2026-07-31                     6.0  \n",
       "2026-12-31                     6.5  \n",
       "2027-07-31                     7.0  "
      ]
     },
     "metadata": {},
     "output_type": "display_data"
    },
    {
     "data": {
      "application/vnd.plotly.v1+json": {
       "config": {
        "linkText": "Export to chart-studio.plotly.com",
        "plotlyServerURL": "https://chart-studio.plotly.com",
        "showLink": true
       },
       "data": [
        {
         "line": {
          "color": "rgba(255, 153, 51, 1.0)",
          "dash": "solid",
          "shape": "linear",
          "width": 1.3
         },
         "mode": "lines",
         "name": "YTM implied by 2020-07-31 Price",
         "text": "",
         "type": "scatter",
         "x": [
          "2020-12-29",
          "2021-07-31",
          "2021-12-31",
          "2022-07-31",
          "2022-12-31",
          "2023-07-31",
          "2023-12-31",
          "2024-07-31",
          "2024-12-31",
          "2025-07-31",
          "2025-12-31",
          "2026-07-31",
          "2026-12-31",
          "2027-07-31"
         ],
         "y": [
          0.0008823891336079769,
          0.001389229366311189,
          0.0022083810604940305,
          0.0010932860674747608,
          0.0018830173997592785,
          0.0012947271629833368,
          0.001980168093318993,
          0.0016408588839921948,
          0.00212357326795576,
          0.0020914600723433274,
          0.002894974696474765,
          0.0031111786372270364,
          0.0036353360365390546,
          0.00387464973505216
         ]
        }
       ],
       "layout": {
        "autosize": true,
        "legend": {
         "bgcolor": "#F5F6F9",
         "font": {
          "color": "#4D5663"
         }
        },
        "paper_bgcolor": "#F5F6F9",
        "plot_bgcolor": "#F5F6F9",
        "template": {
         "data": {
          "bar": [
           {
            "error_x": {
             "color": "#2a3f5f"
            },
            "error_y": {
             "color": "#2a3f5f"
            },
            "marker": {
             "line": {
              "color": "#E5ECF6",
              "width": 0.5
             }
            },
            "type": "bar"
           }
          ],
          "barpolar": [
           {
            "marker": {
             "line": {
              "color": "#E5ECF6",
              "width": 0.5
             }
            },
            "type": "barpolar"
           }
          ],
          "carpet": [
           {
            "aaxis": {
             "endlinecolor": "#2a3f5f",
             "gridcolor": "white",
             "linecolor": "white",
             "minorgridcolor": "white",
             "startlinecolor": "#2a3f5f"
            },
            "baxis": {
             "endlinecolor": "#2a3f5f",
             "gridcolor": "white",
             "linecolor": "white",
             "minorgridcolor": "white",
             "startlinecolor": "#2a3f5f"
            },
            "type": "carpet"
           }
          ],
          "choropleth": [
           {
            "colorbar": {
             "outlinewidth": 0,
             "ticks": ""
            },
            "type": "choropleth"
           }
          ],
          "contour": [
           {
            "colorbar": {
             "outlinewidth": 0,
             "ticks": ""
            },
            "colorscale": [
             [
              0,
              "#0d0887"
             ],
             [
              0.1111111111111111,
              "#46039f"
             ],
             [
              0.2222222222222222,
              "#7201a8"
             ],
             [
              0.3333333333333333,
              "#9c179e"
             ],
             [
              0.4444444444444444,
              "#bd3786"
             ],
             [
              0.5555555555555556,
              "#d8576b"
             ],
             [
              0.6666666666666666,
              "#ed7953"
             ],
             [
              0.7777777777777778,
              "#fb9f3a"
             ],
             [
              0.8888888888888888,
              "#fdca26"
             ],
             [
              1,
              "#f0f921"
             ]
            ],
            "type": "contour"
           }
          ],
          "contourcarpet": [
           {
            "colorbar": {
             "outlinewidth": 0,
             "ticks": ""
            },
            "type": "contourcarpet"
           }
          ],
          "heatmap": [
           {
            "colorbar": {
             "outlinewidth": 0,
             "ticks": ""
            },
            "colorscale": [
             [
              0,
              "#0d0887"
             ],
             [
              0.1111111111111111,
              "#46039f"
             ],
             [
              0.2222222222222222,
              "#7201a8"
             ],
             [
              0.3333333333333333,
              "#9c179e"
             ],
             [
              0.4444444444444444,
              "#bd3786"
             ],
             [
              0.5555555555555556,
              "#d8576b"
             ],
             [
              0.6666666666666666,
              "#ed7953"
             ],
             [
              0.7777777777777778,
              "#fb9f3a"
             ],
             [
              0.8888888888888888,
              "#fdca26"
             ],
             [
              1,
              "#f0f921"
             ]
            ],
            "type": "heatmap"
           }
          ],
          "heatmapgl": [
           {
            "colorbar": {
             "outlinewidth": 0,
             "ticks": ""
            },
            "colorscale": [
             [
              0,
              "#0d0887"
             ],
             [
              0.1111111111111111,
              "#46039f"
             ],
             [
              0.2222222222222222,
              "#7201a8"
             ],
             [
              0.3333333333333333,
              "#9c179e"
             ],
             [
              0.4444444444444444,
              "#bd3786"
             ],
             [
              0.5555555555555556,
              "#d8576b"
             ],
             [
              0.6666666666666666,
              "#ed7953"
             ],
             [
              0.7777777777777778,
              "#fb9f3a"
             ],
             [
              0.8888888888888888,
              "#fdca26"
             ],
             [
              1,
              "#f0f921"
             ]
            ],
            "type": "heatmapgl"
           }
          ],
          "histogram": [
           {
            "marker": {
             "colorbar": {
              "outlinewidth": 0,
              "ticks": ""
             }
            },
            "type": "histogram"
           }
          ],
          "histogram2d": [
           {
            "colorbar": {
             "outlinewidth": 0,
             "ticks": ""
            },
            "colorscale": [
             [
              0,
              "#0d0887"
             ],
             [
              0.1111111111111111,
              "#46039f"
             ],
             [
              0.2222222222222222,
              "#7201a8"
             ],
             [
              0.3333333333333333,
              "#9c179e"
             ],
             [
              0.4444444444444444,
              "#bd3786"
             ],
             [
              0.5555555555555556,
              "#d8576b"
             ],
             [
              0.6666666666666666,
              "#ed7953"
             ],
             [
              0.7777777777777778,
              "#fb9f3a"
             ],
             [
              0.8888888888888888,
              "#fdca26"
             ],
             [
              1,
              "#f0f921"
             ]
            ],
            "type": "histogram2d"
           }
          ],
          "histogram2dcontour": [
           {
            "colorbar": {
             "outlinewidth": 0,
             "ticks": ""
            },
            "colorscale": [
             [
              0,
              "#0d0887"
             ],
             [
              0.1111111111111111,
              "#46039f"
             ],
             [
              0.2222222222222222,
              "#7201a8"
             ],
             [
              0.3333333333333333,
              "#9c179e"
             ],
             [
              0.4444444444444444,
              "#bd3786"
             ],
             [
              0.5555555555555556,
              "#d8576b"
             ],
             [
              0.6666666666666666,
              "#ed7953"
             ],
             [
              0.7777777777777778,
              "#fb9f3a"
             ],
             [
              0.8888888888888888,
              "#fdca26"
             ],
             [
              1,
              "#f0f921"
             ]
            ],
            "type": "histogram2dcontour"
           }
          ],
          "mesh3d": [
           {
            "colorbar": {
             "outlinewidth": 0,
             "ticks": ""
            },
            "type": "mesh3d"
           }
          ],
          "parcoords": [
           {
            "line": {
             "colorbar": {
              "outlinewidth": 0,
              "ticks": ""
             }
            },
            "type": "parcoords"
           }
          ],
          "pie": [
           {
            "automargin": true,
            "type": "pie"
           }
          ],
          "scatter": [
           {
            "marker": {
             "colorbar": {
              "outlinewidth": 0,
              "ticks": ""
             }
            },
            "type": "scatter"
           }
          ],
          "scatter3d": [
           {
            "line": {
             "colorbar": {
              "outlinewidth": 0,
              "ticks": ""
             }
            },
            "marker": {
             "colorbar": {
              "outlinewidth": 0,
              "ticks": ""
             }
            },
            "type": "scatter3d"
           }
          ],
          "scattercarpet": [
           {
            "marker": {
             "colorbar": {
              "outlinewidth": 0,
              "ticks": ""
             }
            },
            "type": "scattercarpet"
           }
          ],
          "scattergeo": [
           {
            "marker": {
             "colorbar": {
              "outlinewidth": 0,
              "ticks": ""
             }
            },
            "type": "scattergeo"
           }
          ],
          "scattergl": [
           {
            "marker": {
             "colorbar": {
              "outlinewidth": 0,
              "ticks": ""
             }
            },
            "type": "scattergl"
           }
          ],
          "scattermapbox": [
           {
            "marker": {
             "colorbar": {
              "outlinewidth": 0,
              "ticks": ""
             }
            },
            "type": "scattermapbox"
           }
          ],
          "scatterpolar": [
           {
            "marker": {
             "colorbar": {
              "outlinewidth": 0,
              "ticks": ""
             }
            },
            "type": "scatterpolar"
           }
          ],
          "scatterpolargl": [
           {
            "marker": {
             "colorbar": {
              "outlinewidth": 0,
              "ticks": ""
             }
            },
            "type": "scatterpolargl"
           }
          ],
          "scatterternary": [
           {
            "marker": {
             "colorbar": {
              "outlinewidth": 0,
              "ticks": ""
             }
            },
            "type": "scatterternary"
           }
          ],
          "surface": [
           {
            "colorbar": {
             "outlinewidth": 0,
             "ticks": ""
            },
            "colorscale": [
             [
              0,
              "#0d0887"
             ],
             [
              0.1111111111111111,
              "#46039f"
             ],
             [
              0.2222222222222222,
              "#7201a8"
             ],
             [
              0.3333333333333333,
              "#9c179e"
             ],
             [
              0.4444444444444444,
              "#bd3786"
             ],
             [
              0.5555555555555556,
              "#d8576b"
             ],
             [
              0.6666666666666666,
              "#ed7953"
             ],
             [
              0.7777777777777778,
              "#fb9f3a"
             ],
             [
              0.8888888888888888,
              "#fdca26"
             ],
             [
              1,
              "#f0f921"
             ]
            ],
            "type": "surface"
           }
          ],
          "table": [
           {
            "cells": {
             "fill": {
              "color": "#EBF0F8"
             },
             "line": {
              "color": "white"
             }
            },
            "header": {
             "fill": {
              "color": "#C8D4E3"
             },
             "line": {
              "color": "white"
             }
            },
            "type": "table"
           }
          ]
         },
         "layout": {
          "annotationdefaults": {
           "arrowcolor": "#2a3f5f",
           "arrowhead": 0,
           "arrowwidth": 1
          },
          "autotypenumbers": "strict",
          "coloraxis": {
           "colorbar": {
            "outlinewidth": 0,
            "ticks": ""
           }
          },
          "colorscale": {
           "diverging": [
            [
             0,
             "#8e0152"
            ],
            [
             0.1,
             "#c51b7d"
            ],
            [
             0.2,
             "#de77ae"
            ],
            [
             0.3,
             "#f1b6da"
            ],
            [
             0.4,
             "#fde0ef"
            ],
            [
             0.5,
             "#f7f7f7"
            ],
            [
             0.6,
             "#e6f5d0"
            ],
            [
             0.7,
             "#b8e186"
            ],
            [
             0.8,
             "#7fbc41"
            ],
            [
             0.9,
             "#4d9221"
            ],
            [
             1,
             "#276419"
            ]
           ],
           "sequential": [
            [
             0,
             "#0d0887"
            ],
            [
             0.1111111111111111,
             "#46039f"
            ],
            [
             0.2222222222222222,
             "#7201a8"
            ],
            [
             0.3333333333333333,
             "#9c179e"
            ],
            [
             0.4444444444444444,
             "#bd3786"
            ],
            [
             0.5555555555555556,
             "#d8576b"
            ],
            [
             0.6666666666666666,
             "#ed7953"
            ],
            [
             0.7777777777777778,
             "#fb9f3a"
            ],
            [
             0.8888888888888888,
             "#fdca26"
            ],
            [
             1,
             "#f0f921"
            ]
           ],
           "sequentialminus": [
            [
             0,
             "#0d0887"
            ],
            [
             0.1111111111111111,
             "#46039f"
            ],
            [
             0.2222222222222222,
             "#7201a8"
            ],
            [
             0.3333333333333333,
             "#9c179e"
            ],
            [
             0.4444444444444444,
             "#bd3786"
            ],
            [
             0.5555555555555556,
             "#d8576b"
            ],
            [
             0.6666666666666666,
             "#ed7953"
            ],
            [
             0.7777777777777778,
             "#fb9f3a"
            ],
            [
             0.8888888888888888,
             "#fdca26"
            ],
            [
             1,
             "#f0f921"
            ]
           ]
          },
          "colorway": [
           "#636efa",
           "#EF553B",
           "#00cc96",
           "#ab63fa",
           "#FFA15A",
           "#19d3f3",
           "#FF6692",
           "#B6E880",
           "#FF97FF",
           "#FECB52"
          ],
          "font": {
           "color": "#2a3f5f"
          },
          "geo": {
           "bgcolor": "white",
           "lakecolor": "white",
           "landcolor": "#E5ECF6",
           "showlakes": true,
           "showland": true,
           "subunitcolor": "white"
          },
          "hoverlabel": {
           "align": "left"
          },
          "hovermode": "closest",
          "mapbox": {
           "style": "light"
          },
          "paper_bgcolor": "white",
          "plot_bgcolor": "#E5ECF6",
          "polar": {
           "angularaxis": {
            "gridcolor": "white",
            "linecolor": "white",
            "ticks": ""
           },
           "bgcolor": "#E5ECF6",
           "radialaxis": {
            "gridcolor": "white",
            "linecolor": "white",
            "ticks": ""
           }
          },
          "scene": {
           "xaxis": {
            "backgroundcolor": "#E5ECF6",
            "gridcolor": "white",
            "gridwidth": 2,
            "linecolor": "white",
            "showbackground": true,
            "ticks": "",
            "zerolinecolor": "white"
           },
           "yaxis": {
            "backgroundcolor": "#E5ECF6",
            "gridcolor": "white",
            "gridwidth": 2,
            "linecolor": "white",
            "showbackground": true,
            "ticks": "",
            "zerolinecolor": "white"
           },
           "zaxis": {
            "backgroundcolor": "#E5ECF6",
            "gridcolor": "white",
            "gridwidth": 2,
            "linecolor": "white",
            "showbackground": true,
            "ticks": "",
            "zerolinecolor": "white"
           }
          },
          "shapedefaults": {
           "line": {
            "color": "#2a3f5f"
           }
          },
          "ternary": {
           "aaxis": {
            "gridcolor": "white",
            "linecolor": "white",
            "ticks": ""
           },
           "baxis": {
            "gridcolor": "white",
            "linecolor": "white",
            "ticks": ""
           },
           "bgcolor": "#E5ECF6",
           "caxis": {
            "gridcolor": "white",
            "linecolor": "white",
            "ticks": ""
           }
          },
          "title": {
           "x": 0.05
          },
          "xaxis": {
           "automargin": true,
           "gridcolor": "white",
           "linecolor": "white",
           "ticks": "",
           "title": {
            "standoff": 15
           },
           "zerolinecolor": "white",
           "zerolinewidth": 2
          },
          "yaxis": {
           "automargin": true,
           "gridcolor": "white",
           "linecolor": "white",
           "ticks": "",
           "title": {
            "standoff": 15
           },
           "zerolinecolor": "white",
           "zerolinewidth": 2
          }
         }
        },
        "title": {
         "font": {
          "color": "#4D5663"
         },
         "text": "Yield To Maturity of US Treasury Bonds with different issue dates fixed and different Coupon rates"
        },
        "xaxis": {
         "autorange": true,
         "gridcolor": "#E1E5ED",
         "range": [
          "2020-12-29",
          "2027-07-31"
         ],
         "showgrid": true,
         "tickfont": {
          "color": "#4D5663"
         },
         "title": {
          "font": {
           "color": "#4D5663"
          },
          "text": ""
         },
         "type": "date",
         "zerolinecolor": "#E1E5ED"
        },
        "yaxis": {
         "autorange": true,
         "gridcolor": "#E1E5ED",
         "range": [
          0.0007161524335277446,
          0.004040886435132392
         ],
         "showgrid": true,
         "tickfont": {
          "color": "#4D5663"
         },
         "title": {
          "font": {
           "color": "#4D5663"
          },
          "text": ""
         },
         "type": "linear",
         "zerolinecolor": "#E1E5ED"
        }
       }
      },
      "image/png": "[encoded data removed]",
      "text/html": [
       "<div>                            <div id=\"87ddc64d-1a93-4ae4-9dba-12170cc63a29\" class=\"plotly-graph-div\" style=\"height:525px; width:100%;\"></div>            <script type=\"text/javascript\">                require([\"plotly\"], function(Plotly) {                    window.PLOTLYENV=window.PLOTLYENV || {};\n",
       "                    window.PLOTLYENV.BASE_URL='https://chart-studio.plotly.com';                                    if (document.getElementById(\"87ddc64d-1a93-4ae4-9dba-12170cc63a29\")) {                    Plotly.newPlot(                        \"87ddc64d-1a93-4ae4-9dba-12170cc63a29\",                        [{\"line\": {\"color\": \"rgba(255, 153, 51, 1.0)\", \"dash\": \"solid\", \"shape\": \"linear\", \"width\": 1.3}, \"mode\": \"lines\", \"name\": \"YTM implied by 2020-07-31 Price\", \"text\": \"\", \"type\": \"scatter\", \"x\": [\"2020-12-29\", \"2021-07-31\", \"2021-12-31\", \"2022-07-31\", \"2022-12-31\", \"2023-07-31\", \"2023-12-31\", \"2024-07-31\", \"2024-12-31\", \"2025-07-31\", \"2025-12-31\", \"2026-07-31\", \"2026-12-31\", \"2027-07-31\"], \"y\": [0.0008823891336079769, 0.001389229366311189, 0.0022083810604940305, 0.0010932860674747608, 0.0018830173997592785, 0.0012947271629833368, 0.001980168093318993, 0.0016408588839921948, 0.00212357326795576, 0.0020914600723433274, 0.002894974696474765, 0.0031111786372270364, 0.0036353360365390546, 0.00387464973505216]}],                        {\"legend\": {\"bgcolor\": \"#F5F6F9\", \"font\": {\"color\": \"#4D5663\"}}, \"paper_bgcolor\": \"#F5F6F9\", \"plot_bgcolor\": \"#F5F6F9\", \"template\": {\"data\": {\"bar\": [{\"error_x\": {\"color\": \"#2a3f5f\"}, \"error_y\": {\"color\": \"#2a3f5f\"}, \"marker\": {\"line\": {\"color\": \"#E5ECF6\", \"width\": 0.5}}, \"type\": \"bar\"}], \"barpolar\": [{\"marker\": {\"line\": {\"color\": \"#E5ECF6\", \"width\": 0.5}}, \"type\": \"barpolar\"}], \"carpet\": [{\"aaxis\": {\"endlinecolor\": \"#2a3f5f\", \"gridcolor\": \"white\", \"linecolor\": \"white\", \"minorgridcolor\": \"white\", \"startlinecolor\": \"#2a3f5f\"}, \"baxis\": {\"endlinecolor\": \"#2a3f5f\", \"gridcolor\": \"white\", \"linecolor\": \"white\", \"minorgridcolor\": \"white\", \"startlinecolor\": \"#2a3f5f\"}, \"type\": \"carpet\"}], \"choropleth\": [{\"colorbar\": {\"outlinewidth\": 0, \"ticks\": \"\"}, \"type\": \"choropleth\"}], \"contour\": [{\"colorbar\": {\"outlinewidth\": 0, \"ticks\": \"\"}, \"colorscale\": [[0.0, \"#0d0887\"], [0.1111111111111111, \"#46039f\"], [0.2222222222222222, \"#7201a8\"], [0.3333333333333333, \"#9c179e\"], [0.4444444444444444, \"#bd3786\"], [0.5555555555555556, \"#d8576b\"], [0.6666666666666666, \"#ed7953\"], [0.7777777777777778, \"#fb9f3a\"], [0.8888888888888888, \"#fdca26\"], [1.0, \"#f0f921\"]], \"type\": \"contour\"}], \"contourcarpet\": [{\"colorbar\": {\"outlinewidth\": 0, \"ticks\": \"\"}, \"type\": \"contourcarpet\"}], \"heatmap\": [{\"colorbar\": {\"outlinewidth\": 0, \"ticks\": \"\"}, \"colorscale\": [[0.0, \"#0d0887\"], [0.1111111111111111, \"#46039f\"], [0.2222222222222222, \"#7201a8\"], [0.3333333333333333, \"#9c179e\"], [0.4444444444444444, \"#bd3786\"], [0.5555555555555556, \"#d8576b\"], [0.6666666666666666, \"#ed7953\"], [0.7777777777777778, \"#fb9f3a\"], [0.8888888888888888, \"#fdca26\"], [1.0, \"#f0f921\"]], \"type\": \"heatmap\"}], \"heatmapgl\": [{\"colorbar\": {\"outlinewidth\": 0, \"ticks\": \"\"}, \"colorscale\": [[0.0, \"#0d0887\"], [0.1111111111111111, \"#46039f\"], [0.2222222222222222, \"#7201a8\"], [0.3333333333333333, \"#9c179e\"], [0.4444444444444444, \"#bd3786\"], [0.5555555555555556, \"#d8576b\"], [0.6666666666666666, \"#ed7953\"], [0.7777777777777778, \"#fb9f3a\"], [0.8888888888888888, \"#fdca26\"], [1.0, \"#f0f921\"]], \"type\": \"heatmapgl\"}], \"histogram\": [{\"marker\": {\"colorbar\": {\"outlinewidth\": 0, \"ticks\": \"\"}}, \"type\": \"histogram\"}], \"histogram2d\": [{\"colorbar\": {\"outlinewidth\": 0, \"ticks\": \"\"}, \"colorscale\": [[0.0, \"#0d0887\"], [0.1111111111111111, \"#46039f\"], [0.2222222222222222, \"#7201a8\"], [0.3333333333333333, \"#9c179e\"], [0.4444444444444444, \"#bd3786\"], [0.5555555555555556, \"#d8576b\"], [0.6666666666666666, \"#ed7953\"], [0.7777777777777778, \"#fb9f3a\"], [0.8888888888888888, \"#fdca26\"], [1.0, \"#f0f921\"]], \"type\": \"histogram2d\"}], \"histogram2dcontour\": [{\"colorbar\": {\"outlinewidth\": 0, \"ticks\": \"\"}, \"colorscale\": [[0.0, \"#0d0887\"], [0.1111111111111111, \"#46039f\"], [0.2222222222222222, \"#7201a8\"], [0.3333333333333333, \"#9c179e\"], [0.4444444444444444, \"#bd3786\"], [0.5555555555555556, \"#d8576b\"], [0.6666666666666666, \"#ed7953\"], [0.7777777777777778, \"#fb9f3a\"], [0.8888888888888888, \"#fdca26\"], [1.0, \"#f0f921\"]], \"type\": \"histogram2dcontour\"}], \"mesh3d\": [{\"colorbar\": {\"outlinewidth\": 0, \"ticks\": \"\"}, \"type\": \"mesh3d\"}], \"parcoords\": [{\"line\": {\"colorbar\": {\"outlinewidth\": 0, \"ticks\": \"\"}}, \"type\": \"parcoords\"}], \"pie\": [{\"automargin\": true, \"type\": \"pie\"}], \"scatter\": [{\"marker\": {\"colorbar\": {\"outlinewidth\": 0, \"ticks\": \"\"}}, \"type\": \"scatter\"}], \"scatter3d\": [{\"line\": {\"colorbar\": {\"outlinewidth\": 0, \"ticks\": \"\"}}, \"marker\": {\"colorbar\": {\"outlinewidth\": 0, \"ticks\": \"\"}}, \"type\": \"scatter3d\"}], \"scattercarpet\": [{\"marker\": {\"colorbar\": {\"outlinewidth\": 0, \"ticks\": \"\"}}, \"type\": \"scattercarpet\"}], \"scattergeo\": [{\"marker\": {\"colorbar\": {\"outlinewidth\": 0, \"ticks\": \"\"}}, \"type\": \"scattergeo\"}], \"scattergl\": [{\"marker\": {\"colorbar\": {\"outlinewidth\": 0, \"ticks\": \"\"}}, \"type\": \"scattergl\"}], \"scattermapbox\": [{\"marker\": {\"colorbar\": {\"outlinewidth\": 0, \"ticks\": \"\"}}, \"type\": \"scattermapbox\"}], \"scatterpolar\": [{\"marker\": {\"colorbar\": {\"outlinewidth\": 0, \"ticks\": \"\"}}, \"type\": \"scatterpolar\"}], \"scatterpolargl\": [{\"marker\": {\"colorbar\": {\"outlinewidth\": 0, \"ticks\": \"\"}}, \"type\": \"scatterpolargl\"}], \"scatterternary\": [{\"marker\": {\"colorbar\": {\"outlinewidth\": 0, \"ticks\": \"\"}}, \"type\": \"scatterternary\"}], \"surface\": [{\"colorbar\": {\"outlinewidth\": 0, \"ticks\": \"\"}, \"colorscale\": [[0.0, \"#0d0887\"], [0.1111111111111111, \"#46039f\"], [0.2222222222222222, \"#7201a8\"], [0.3333333333333333, \"#9c179e\"], [0.4444444444444444, \"#bd3786\"], [0.5555555555555556, \"#d8576b\"], [0.6666666666666666, \"#ed7953\"], [0.7777777777777778, \"#fb9f3a\"], [0.8888888888888888, \"#fdca26\"], [1.0, \"#f0f921\"]], \"type\": \"surface\"}], \"table\": [{\"cells\": {\"fill\": {\"color\": \"#EBF0F8\"}, \"line\": {\"color\": \"white\"}}, \"header\": {\"fill\": {\"color\": \"#C8D4E3\"}, \"line\": {\"color\": \"white\"}}, \"type\": \"table\"}]}, \"layout\": {\"annotationdefaults\": {\"arrowcolor\": \"#2a3f5f\", \"arrowhead\": 0, \"arrowwidth\": 1}, \"autotypenumbers\": \"strict\", \"coloraxis\": {\"colorbar\": {\"outlinewidth\": 0, \"ticks\": \"\"}}, \"colorscale\": {\"diverging\": [[0, \"#8e0152\"], [0.1, \"#c51b7d\"], [0.2, \"#de77ae\"], [0.3, \"#f1b6da\"], [0.4, \"#fde0ef\"], [0.5, \"#f7f7f7\"], [0.6, \"#e6f5d0\"], [0.7, \"#b8e186\"], [0.8, \"#7fbc41\"], [0.9, \"#4d9221\"], [1, \"#276419\"]], \"sequential\": [[0.0, \"#0d0887\"], [0.1111111111111111, \"#46039f\"], [0.2222222222222222, \"#7201a8\"], [0.3333333333333333, \"#9c179e\"], [0.4444444444444444, \"#bd3786\"], [0.5555555555555556, \"#d8576b\"], [0.6666666666666666, \"#ed7953\"], [0.7777777777777778, \"#fb9f3a\"], [0.8888888888888888, \"#fdca26\"], [1.0, \"#f0f921\"]], \"sequentialminus\": [[0.0, \"#0d0887\"], [0.1111111111111111, \"#46039f\"], [0.2222222222222222, \"#7201a8\"], [0.3333333333333333, \"#9c179e\"], [0.4444444444444444, \"#bd3786\"], [0.5555555555555556, \"#d8576b\"], [0.6666666666666666, \"#ed7953\"], [0.7777777777777778, \"#fb9f3a\"], [0.8888888888888888, \"#fdca26\"], [1.0, \"#f0f921\"]]}, \"colorway\": [\"#636efa\", \"#EF553B\", \"#00cc96\", \"#ab63fa\", \"#FFA15A\", \"#19d3f3\", \"#FF6692\", \"#B6E880\", \"#FF97FF\", \"#FECB52\"], \"font\": {\"color\": \"#2a3f5f\"}, \"geo\": {\"bgcolor\": \"white\", \"lakecolor\": \"white\", \"landcolor\": \"#E5ECF6\", \"showlakes\": true, \"showland\": true, \"subunitcolor\": \"white\"}, \"hoverlabel\": {\"align\": \"left\"}, \"hovermode\": \"closest\", \"mapbox\": {\"style\": \"light\"}, \"paper_bgcolor\": \"white\", \"plot_bgcolor\": \"#E5ECF6\", \"polar\": {\"angularaxis\": {\"gridcolor\": \"white\", \"linecolor\": \"white\", \"ticks\": \"\"}, \"bgcolor\": \"#E5ECF6\", \"radialaxis\": {\"gridcolor\": \"white\", \"linecolor\": \"white\", \"ticks\": \"\"}}, \"scene\": {\"xaxis\": {\"backgroundcolor\": \"#E5ECF6\", \"gridcolor\": \"white\", \"gridwidth\": 2, \"linecolor\": \"white\", \"showbackground\": true, \"ticks\": \"\", \"zerolinecolor\": \"white\"}, \"yaxis\": {\"backgroundcolor\": \"#E5ECF6\", \"gridcolor\": \"white\", \"gridwidth\": 2, \"linecolor\": \"white\", \"showbackground\": true, \"ticks\": \"\", \"zerolinecolor\": \"white\"}, \"zaxis\": {\"backgroundcolor\": \"#E5ECF6\", \"gridcolor\": \"white\", \"gridwidth\": 2, \"linecolor\": \"white\", \"showbackground\": true, \"ticks\": \"\", \"zerolinecolor\": \"white\"}}, \"shapedefaults\": {\"line\": {\"color\": \"#2a3f5f\"}}, \"ternary\": {\"aaxis\": {\"gridcolor\": \"white\", \"linecolor\": \"white\", \"ticks\": \"\"}, \"baxis\": {\"gridcolor\": \"white\", \"linecolor\": \"white\", \"ticks\": \"\"}, \"bgcolor\": \"#E5ECF6\", \"caxis\": {\"gridcolor\": \"white\", \"linecolor\": \"white\", \"ticks\": \"\"}}, \"title\": {\"x\": 0.05}, \"xaxis\": {\"automargin\": true, \"gridcolor\": \"white\", \"linecolor\": \"white\", \"ticks\": \"\", \"title\": {\"standoff\": 15}, \"zerolinecolor\": \"white\", \"zerolinewidth\": 2}, \"yaxis\": {\"automargin\": true, \"gridcolor\": \"white\", \"linecolor\": \"white\", \"ticks\": \"\", \"title\": {\"standoff\": 15}, \"zerolinecolor\": \"white\", \"zerolinewidth\": 2}}}, \"title\": {\"font\": {\"color\": \"#4D5663\"}, \"text\": \"Yield To Maturity of US Treasury Bonds with different issue dates fixed and different Coupon rates\"}, \"xaxis\": {\"gridcolor\": \"#E1E5ED\", \"showgrid\": true, \"tickfont\": {\"color\": \"#4D5663\"}, \"title\": {\"font\": {\"color\": \"#4D5663\"}, \"text\": \"\"}, \"zerolinecolor\": \"#E1E5ED\"}, \"yaxis\": {\"gridcolor\": \"#E1E5ED\", \"showgrid\": true, \"tickfont\": {\"color\": \"#4D5663\"}, \"title\": {\"font\": {\"color\": \"#4D5663\"}, \"text\": \"\"}, \"zerolinecolor\": \"#E1E5ED\"}},                        {\"showLink\": true, \"linkText\": \"Export to chart-studio.plotly.com\", \"plotlyServerURL\": \"https://chart-studio.plotly.com\", \"responsive\": true}                    ).then(function(){\n",
       "                            \n",
       "var gd = document.getElementById('87ddc64d-1a93-4ae4-9dba-12170cc63a29');\n",
       "var x = new MutationObserver(function (mutations, observer) {{\n",
       "        var display = window.getComputedStyle(gd).display;\n",
       "        if (!display || display === 'none') {{\n",
       "            console.log([gd, 'removed!']);\n",
       "            Plotly.purge(gd);\n",
       "            observer.disconnect();\n",
       "        }}\n",
       "}});\n",
       "\n",
       "// Listen for the removal of the full notebook cells\n",
       "var notebookContainer = gd.closest('#notebook-container');\n",
       "if (notebookContainer) {{\n",
       "    x.observe(notebookContainer, {childList: true});\n",
       "}}\n",
       "\n",
       "// Listen for the clearing of the current output cell\n",
       "var outputEl = gd.closest('.output');\n",
       "if (outputEl) {{\n",
       "    x.observe(outputEl, {childList: true});\n",
       "}}\n",
       "\n",
       "                        })                };                });            </script>        </div>"
      ]
     },
     "metadata": {},
     "output_type": "display_data"
    }
   ],
   "source": [
    "off_on_df.sort_values('RDL', inplace=True)\n",
    "display(off_on_df)\n",
    "off_on_df[\"YTM implied by 2020-07-31 Price\"].iplot(\n",
    "    title=\"Yield To Maturity of US Treasury Bonds with different issue dates fixed and different Coupon rates\")"
   ]
  },
  {
   "cell_type": "markdown",
   "id": "c144512d-c36e-4ab5-9ef1-24f2263bd2cf",
   "metadata": {},
   "source": [
    "This vertical zig-zaging is an unexpected pattern. The reason for which it is unexpected is that an economic agent ought to be able to exploit [arbitrage](https://www.investopedia.com/terms/a/arbitrage.asp) opportunities brought up by such price discrapencies with other securities (*e.g.*: [Swaps](https://www.investopedia.com/articles/optioninvestor/07/swaps.asp)). Let's thus verify if the YTM proposed by our graph above are correct:"
   ]
  },
  {
   "cell_type": "code",
   "execution_count": 25,
   "id": "a0dd3c8f-df3b-4875-87a4-0a09202f1ed7",
   "metadata": {},
   "outputs": [
    {
     "name": "stdout",
     "output_type": "stream",
     "text": [
      "Years left to Maturity: 0.5, YTM from function: 0.0008823891336079769, err from function: 0.0, check: 0.0.\n",
      "Years left to Maturity: 1.0, YTM from function: 0.001389229366311189, err from function: -1.3322676295501878e-14, check: -1.3322676295501878e-14.\n",
      "Years left to Maturity: 1.5, YTM from function: 0.0022083810604940305, err from function: 9.325873406851315e-15, check: 9.325873406851315e-15.\n",
      "Years left to Maturity: 2.0, YTM from function: 0.0010932860674747608, err from function: -4.0084602304091277e-13, check: -4.0084602304091277e-13.\n",
      "Years left to Maturity: 2.5, YTM from function: 0.0018830173997592785, err from function: 2.7533531010703882e-14, check: 2.7533531010703882e-14.\n",
      "Years left to Maturity: 3.0, YTM from function: 0.0012947271629833368, err from function: -7.478462293875054e-13, check: -7.478462293875054e-13.\n",
      "Years left to Maturity: 3.5, YTM from function: 0.001980168093318993, err from function: -4.065157099830685e-10, check: -4.065157099830685e-10.\n",
      "Years left to Maturity: 4.0, YTM from function: 0.0016408588839921948, err from function: -8.08242361927114e-14, check: -8.08242361927114e-14.\n",
      "Years left to Maturity: 4.5, YTM from function: 0.00212357326795576, err from function: 1.0111742554386183e-09, check: 1.0111742554386183e-09.\n",
      "Years left to Maturity: 5.0, YTM from function: 0.0020914600723433274, err from function: -2.7351187981139446e-10, check: -2.7351187981139446e-10.\n",
      "Years left to Maturity: 5.5, YTM from function: 0.002894974696474765, err from function: 1.9527490735526953e-11, check: 1.9527490735526953e-11.\n",
      "Years left to Maturity: 6.0, YTM from function: 0.0031111786372270364, err from function: 9.043787940754555e-11, check: 9.043787940754555e-11.\n",
      "Years left to Maturity: 6.5, YTM from function: 0.0036353360365390546, err from function: 1.1191048088221578e-13, check: 1.1191048088221578e-13.\n",
      "Years left to Maturity: 7.0, YTM from function: 0.00387464973505216, err from function: 3.019806626980426e-14, check: 3.019806626980426e-14.\n"
     ]
    }
   ],
   "source": [
    "for i in range(len(off_on_df)):\n",
    "    _fv=off_on_df.iloc[i][\"RV\"]\n",
    "    _c=off_on_df.iloc[i][\"RV\"] * off_on_df.iloc[i][\"C\"] / 100\n",
    "    _f_acf=0.5\n",
    "    _p=off_on_df.iloc[i][\"Price on 2020-07-31\"]\n",
    "    _m=off_on_df.iloc[i][\"Years Left to Maturity\"]\n",
    "    _ytm, err = YTM_Solver(fv=_fv, c=_c, m=_m, f_acf=_f_acf, error=True, p=_p)\n",
    "    zero = (_fv/((1+(_f_acf*_ytm))**(_m/_f_acf))) - _p + sum([\n",
    "        (_f_acf * _c)/((1+(_f_acf*_ytm))**i) for i in range(1, int(_m/_f_acf)+1)])\n",
    "    print(f\"Years left to Maturity: {_m}, YTM from function: {_ytm}, err from function: {err}, check: {zero}.\")"
   ]
  },
  {
   "cell_type": "markdown",
   "id": "018fc66f-079b-4f7a-b7d7-c05b3f0b6d54",
   "metadata": {},
   "source": [
    "The only Zero Coupon Bond in our ```off_on_df``` data-frame is the 1st one (the ```0th``` one in 'Python language'); we can use it as a 1st value from which to compute/Bootstrap all other Zero-Coupon-Equivalent Bond Spot-Rates:"
   ]
  },
  {
   "cell_type": "code",
   "execution_count": 26,
   "id": "0d62e7d7-d360-4d91-b02d-ca74f1dab3ae",
   "metadata": {},
   "outputs": [
    {
     "data": {
      "text/plain": [
       "0.0008823891336079769"
      ]
     },
     "execution_count": 26,
     "metadata": {},
     "output_type": "execute_result"
    }
   ],
   "source": [
    "off_on_df.iloc[0][\"YTM implied by 2020-07-31 Price\"]"
   ]
  },
  {
   "cell_type": "code",
   "execution_count": 27,
   "id": "bee6499d-f682-4502-9cb9-80d5b3729da2",
   "metadata": {},
   "outputs": [],
   "source": [
    "spot_rates = [0.0008823891336079769]  # This number is from the YTM of the only ZCB we've got as per the above.\n",
    "for i in range(len(spot_rates), len(off_on_df)):\n",
    "    spot_rates.append(Spot_Rate_Last(\n",
    "        fv=off_on_df.iloc[i][\"RV\"], sr=spot_rates, f=0.5,\n",
    "        m=off_on_df.iloc[i][\"Years Left to Maturity\"],\n",
    "        c=off_on_df.iloc[i][\"RV\"] * off_on_df.iloc[i][\"C\"] / 100,\n",
    "        p=off_on_df.iloc[i][\"Price on 2020-07-31\"]))\n",
    "off_on_df[\"Spot Rates as of 2020-07-31\"] = spot_rates"
   ]
  },
  {
   "cell_type": "code",
   "execution_count": 28,
   "id": "e021dc56-361b-494f-85bd-65007c0714be",
   "metadata": {},
   "outputs": [
    {
     "data": {
      "text/plain": [
       "0.0010625642216017055"
      ]
     },
     "execution_count": 28,
     "metadata": {},
     "output_type": "execute_result"
    }
   ],
   "source": [
    "off_on_df[\"YTM\"][0]"
   ]
  },
  {
   "cell_type": "code",
   "execution_count": 29,
   "id": "3527bd18-20fe-4d29-a2e5-5a450167084b",
   "metadata": {},
   "outputs": [
    {
     "data": {
      "text/html": [
       "<div>\n",
       "<style scoped>\n",
       "    .dataframe tbody tr th:only-of-type {\n",
       "        vertical-align: middle;\n",
       "    }\n",
       "\n",
       "    .dataframe tbody tr th {\n",
       "        vertical-align: top;\n",
       "    }\n",
       "\n",
       "    .dataframe thead th {\n",
       "        text-align: right;\n",
       "    }\n",
       "</style>\n",
       "<table border=\"1\" class=\"dataframe\">\n",
       "  <thead>\n",
       "    <tr style=\"text-align: right;\">\n",
       "      <th></th>\n",
       "      <th>DSCD</th>\n",
       "      <th>NAME</th>\n",
       "      <th>ID</th>\n",
       "      <th>TERM</th>\n",
       "      <th>RV</th>\n",
       "      <th>C</th>\n",
       "      <th>CTYP</th>\n",
       "      <th>RDL</th>\n",
       "      <th>Price at issue</th>\n",
       "      <th>CD</th>\n",
       "      <th>CF</th>\n",
       "      <th>YTM</th>\n",
       "      <th>Price on 2020-07-31</th>\n",
       "      <th>YTM implied by 2020-07-31 Price</th>\n",
       "      <th>Years Left to Maturity</th>\n",
       "      <th>Spot Rates as of 2020-07-31</th>\n",
       "    </tr>\n",
       "  </thead>\n",
       "  <tbody>\n",
       "    <tr>\n",
       "      <th>2020-12-29</th>\n",
       "      <td>613V2R</td>\n",
       "      <td>UTD.STS OF AMERICA 2020 ZERO 29/12/20</td>\n",
       "      <td>2020-07-28</td>\n",
       "      <td>0.5</td>\n",
       "      <td>100</td>\n",
       "      <td>0</td>\n",
       "      <td>ZERO</td>\n",
       "      <td>2020-12-29</td>\n",
       "      <td>99.9469</td>\n",
       "      <td>[2021-02-01 00:00:00]</td>\n",
       "      <td>[0.0]</td>\n",
       "      <td>0.001063</td>\n",
       "      <td>99.9559</td>\n",
       "      <td>0.000882</td>\n",
       "      <td>0.5</td>\n",
       "      <td>0.000882</td>\n",
       "    </tr>\n",
       "    <tr>\n",
       "      <th>2021-07-31</th>\n",
       "      <td>235FFA</td>\n",
       "      <td>US TREASURY NOTE 2019 1 3/4% 31/07/21 BD-2021</td>\n",
       "      <td>2019-07-31</td>\n",
       "      <td>2</td>\n",
       "      <td>100</td>\n",
       "      <td>1.75</td>\n",
       "      <td>FIX</td>\n",
       "      <td>2021-07-31</td>\n",
       "      <td>99.7930</td>\n",
       "      <td>[2020-01-31 00:00:00, 2020-07-31 00:00:00, 202...</td>\n",
       "      <td>[1.75, 1.75, 1.75, 1.75]</td>\n",
       "      <td>0.018559</td>\n",
       "      <td>101.6094</td>\n",
       "      <td>0.001389</td>\n",
       "      <td>1.0</td>\n",
       "      <td>0.001391</td>\n",
       "    </tr>\n",
       "    <tr>\n",
       "      <th>2021-12-31</th>\n",
       "      <td>247DK9</td>\n",
       "      <td>US TREASURY NOTE 2019 1 5/8% 31/12/21 BL-2021</td>\n",
       "      <td>2019-12-31</td>\n",
       "      <td>2</td>\n",
       "      <td>100</td>\n",
       "      <td>1.625</td>\n",
       "      <td>FIX</td>\n",
       "      <td>2021-12-31</td>\n",
       "      <td>100.0742</td>\n",
       "      <td>[2020-06-30 00:00:00, 2020-12-31 00:00:00, 202...</td>\n",
       "      <td>[1.625, 1.625, 1.625, 1.625]</td>\n",
       "      <td>0.015872</td>\n",
       "      <td>102.1016</td>\n",
       "      <td>0.002208</td>\n",
       "      <td>1.5</td>\n",
       "      <td>0.002216</td>\n",
       "    </tr>\n",
       "    <tr>\n",
       "      <th>2022-07-31</th>\n",
       "      <td>613XGW</td>\n",
       "      <td>US TREASURY NOTE 2020 1/8% 31/07/22 BD-2022</td>\n",
       "      <td>2020-07-31</td>\n",
       "      <td>2</td>\n",
       "      <td>100</td>\n",
       "      <td>0.125</td>\n",
       "      <td>FIX</td>\n",
       "      <td>2022-07-31</td>\n",
       "      <td>100.0313</td>\n",
       "      <td>[2021-02-01 00:00:00, 2021-08-02 00:00:00, 202...</td>\n",
       "      <td>[0.125, 0.125, 0.125, 0.125]</td>\n",
       "      <td>0.001093</td>\n",
       "      <td>100.0313</td>\n",
       "      <td>0.001093</td>\n",
       "      <td>2.0</td>\n",
       "      <td>0.001093</td>\n",
       "    </tr>\n",
       "    <tr>\n",
       "      <th>2022-12-31</th>\n",
       "      <td>823D0N</td>\n",
       "      <td>US TREASURY NOTE 2015 2 1/8% 31/12/22 T-2022</td>\n",
       "      <td>2015-12-31</td>\n",
       "      <td>7</td>\n",
       "      <td>100</td>\n",
       "      <td>2.125</td>\n",
       "      <td>FIX</td>\n",
       "      <td>2022-12-31</td>\n",
       "      <td>100.2031</td>\n",
       "      <td>[2016-06-30 00:00:00, 2017-01-03 00:00:00, 201...</td>\n",
       "      <td>[2.125, 2.125, 2.125, 2.125, 2.125, 2.125, 2.1...</td>\n",
       "      <td>0.020937</td>\n",
       "      <td>104.8281</td>\n",
       "      <td>0.001883</td>\n",
       "      <td>2.5</td>\n",
       "      <td>0.001892</td>\n",
       "    </tr>\n",
       "    <tr>\n",
       "      <th>2023-07-31</th>\n",
       "      <td>210EV1</td>\n",
       "      <td>US TREASURY NOTE 2018 2 3/4% 31/07/23 AB-2023</td>\n",
       "      <td>2018-07-31</td>\n",
       "      <td>5</td>\n",
       "      <td>100</td>\n",
       "      <td>2.75</td>\n",
       "      <td>FIX</td>\n",
       "      <td>2023-07-31</td>\n",
       "      <td>99.5469</td>\n",
       "      <td>[2019-01-31 00:00:00, 2019-07-31 00:00:00, 202...</td>\n",
       "      <td>[2.75, 2.75, 2.75, 2.75, 2.75, 2.75, 2.75, 2.7...</td>\n",
       "      <td>0.028479</td>\n",
       "      <td>107.8438</td>\n",
       "      <td>0.001295</td>\n",
       "      <td>3.0</td>\n",
       "      <td>0.001284</td>\n",
       "    </tr>\n",
       "    <tr>\n",
       "      <th>2023-12-31</th>\n",
       "      <td>218QH0</td>\n",
       "      <td>US TREASURY NOTE 2018 2 5/8% 31/12/23 AG-2023</td>\n",
       "      <td>2018-12-31</td>\n",
       "      <td>5</td>\n",
       "      <td>100</td>\n",
       "      <td>2.625</td>\n",
       "      <td>FIX</td>\n",
       "      <td>2023-12-31</td>\n",
       "      <td>100.5391</td>\n",
       "      <td>[2019-07-01 00:00:00, 2019-12-31 00:00:00, 202...</td>\n",
       "      <td>[2.625, 2.625, 2.625, 2.625, 2.625, 2.625, 2.6...</td>\n",
       "      <td>0.025096</td>\n",
       "      <td>108.4609</td>\n",
       "      <td>0.001980</td>\n",
       "      <td>3.5</td>\n",
       "      <td>0.001998</td>\n",
       "    </tr>\n",
       "    <tr>\n",
       "      <th>2024-07-31</th>\n",
       "      <td>235FFD</td>\n",
       "      <td>US TREASURY NOTE 2019 1 3/4% 31/07/24 AB-2024</td>\n",
       "      <td>2019-07-31</td>\n",
       "      <td>5</td>\n",
       "      <td>100</td>\n",
       "      <td>1.75</td>\n",
       "      <td>FIX</td>\n",
       "      <td>2024-07-31</td>\n",
       "      <td>99.6563</td>\n",
       "      <td>[2020-01-31 00:00:00, 2020-07-31 00:00:00, 202...</td>\n",
       "      <td>[1.75, 1.75, 1.75, 1.75, 1.75, 1.75, 1.75, 1.7...</td>\n",
       "      <td>0.018222</td>\n",
       "      <td>106.3203</td>\n",
       "      <td>0.001641</td>\n",
       "      <td>4.0</td>\n",
       "      <td>0.001641</td>\n",
       "    </tr>\n",
       "    <tr>\n",
       "      <th>2024-12-31</th>\n",
       "      <td>247DLH</td>\n",
       "      <td>US TREASURY NOTE 2019 1 3/4% 31/12/24 AH-2024</td>\n",
       "      <td>2019-12-31</td>\n",
       "      <td>5</td>\n",
       "      <td>100</td>\n",
       "      <td>1.75</td>\n",
       "      <td>FIX</td>\n",
       "      <td>2024-12-31</td>\n",
       "      <td>100.2734</td>\n",
       "      <td>[2020-06-30 00:00:00, 2020-12-31 00:00:00, 202...</td>\n",
       "      <td>[1.75, 1.75, 1.75, 1.75, 1.75, 1.75, 1.75, 1.7...</td>\n",
       "      <td>0.016927</td>\n",
       "      <td>106.8828</td>\n",
       "      <td>0.002124</td>\n",
       "      <td>4.5</td>\n",
       "      <td>0.002141</td>\n",
       "    </tr>\n",
       "    <tr>\n",
       "      <th>2025-07-31</th>\n",
       "      <td>613XGU</td>\n",
       "      <td>US TREASURY NOTE 2020 1/4% 31/07/25 AB-2025</td>\n",
       "      <td>2020-07-31</td>\n",
       "      <td>5</td>\n",
       "      <td>100</td>\n",
       "      <td>0.25</td>\n",
       "      <td>FIX</td>\n",
       "      <td>2025-07-31</td>\n",
       "      <td>100.2031</td>\n",
       "      <td>[2021-02-01 00:00:00, 2021-08-02 00:00:00, 202...</td>\n",
       "      <td>[0.25, 0.25, 0.25, 0.25, 0.25, 0.25, 0.25, 0.2...</td>\n",
       "      <td>0.002091</td>\n",
       "      <td>100.2031</td>\n",
       "      <td>0.002091</td>\n",
       "      <td>5.0</td>\n",
       "      <td>0.002093</td>\n",
       "    </tr>\n",
       "    <tr>\n",
       "      <th>2025-12-31</th>\n",
       "      <td>218QJQ</td>\n",
       "      <td>US TREASURY NOTE 2018 2 5/8% 31/12/25 T-2025</td>\n",
       "      <td>2018-12-31</td>\n",
       "      <td>7</td>\n",
       "      <td>100</td>\n",
       "      <td>2.625</td>\n",
       "      <td>FIX</td>\n",
       "      <td>2025-12-31</td>\n",
       "      <td>100.2500</td>\n",
       "      <td>[2019-07-01 00:00:00, 2019-12-31 00:00:00, 202...</td>\n",
       "      <td>[2.625, 2.625, 2.625, 2.625, 2.625, 2.625, 2.6...</td>\n",
       "      <td>0.025857</td>\n",
       "      <td>112.7344</td>\n",
       "      <td>0.002895</td>\n",
       "      <td>5.5</td>\n",
       "      <td>0.002966</td>\n",
       "    </tr>\n",
       "    <tr>\n",
       "      <th>2026-07-31</th>\n",
       "      <td>235FF9</td>\n",
       "      <td>US TREASURY NOTE 2019 1 7/8% 31/07/26 N-2026</td>\n",
       "      <td>2019-07-31</td>\n",
       "      <td>7</td>\n",
       "      <td>100</td>\n",
       "      <td>1.875</td>\n",
       "      <td>FIX</td>\n",
       "      <td>2026-07-31</td>\n",
       "      <td>99.7813</td>\n",
       "      <td>[2020-01-31 00:00:00, 2020-07-31 00:00:00, 202...</td>\n",
       "      <td>[1.875, 1.875, 1.875, 1.875, 1.875, 1.875, 1.8...</td>\n",
       "      <td>0.019085</td>\n",
       "      <td>109.2891</td>\n",
       "      <td>0.003111</td>\n",
       "      <td>6.0</td>\n",
       "      <td>0.003169</td>\n",
       "    </tr>\n",
       "    <tr>\n",
       "      <th>2026-12-31</th>\n",
       "      <td>247DLR</td>\n",
       "      <td>US TREASURY NOTE 2019 1 3/4% 31/12/26 T-2026</td>\n",
       "      <td>2019-12-31</td>\n",
       "      <td>7</td>\n",
       "      <td>100</td>\n",
       "      <td>1.75</td>\n",
       "      <td>FIX</td>\n",
       "      <td>2026-12-31</td>\n",
       "      <td>99.4375</td>\n",
       "      <td>[2020-06-30 00:00:00, 2020-12-31 00:00:00, 202...</td>\n",
       "      <td>[1.75, 1.75, 1.75, 1.75, 1.75, 1.75, 1.75, 1.7...</td>\n",
       "      <td>0.018360</td>\n",
       "      <td>108.8984</td>\n",
       "      <td>0.003635</td>\n",
       "      <td>6.5</td>\n",
       "      <td>0.003712</td>\n",
       "    </tr>\n",
       "    <tr>\n",
       "      <th>2027-07-31</th>\n",
       "      <td>613XG1</td>\n",
       "      <td>US TREASURY NOTE 2020 3/8% 31/07/27 N-2027</td>\n",
       "      <td>2020-07-31</td>\n",
       "      <td>7</td>\n",
       "      <td>100</td>\n",
       "      <td>0.375</td>\n",
       "      <td>FIX</td>\n",
       "      <td>2027-07-31</td>\n",
       "      <td>99.9140</td>\n",
       "      <td>[2021-02-01 00:00:00, 2021-08-02 00:00:00, 202...</td>\n",
       "      <td>[0.375, 0.375, 0.375, 0.375, 0.375, 0.375, 0.3...</td>\n",
       "      <td>0.003875</td>\n",
       "      <td>99.9140</td>\n",
       "      <td>0.003875</td>\n",
       "      <td>7.0</td>\n",
       "      <td>0.003893</td>\n",
       "    </tr>\n",
       "  </tbody>\n",
       "</table>\n",
       "</div>"
      ],
      "text/plain": [
       "              DSCD                                           NAME          ID  \\\n",
       "2020-12-29  613V2R          UTD.STS OF AMERICA 2020 ZERO 29/12/20  2020-07-28   \n",
       "2021-07-31  235FFA  US TREASURY NOTE 2019 1 3/4% 31/07/21 BD-2021  2019-07-31   \n",
       "2021-12-31  247DK9  US TREASURY NOTE 2019 1 5/8% 31/12/21 BL-2021  2019-12-31   \n",
       "2022-07-31  613XGW    US TREASURY NOTE 2020 1/8% 31/07/22 BD-2022  2020-07-31   \n",
       "2022-12-31  823D0N   US TREASURY NOTE 2015 2 1/8% 31/12/22 T-2022  2015-12-31   \n",
       "2023-07-31  210EV1  US TREASURY NOTE 2018 2 3/4% 31/07/23 AB-2023  2018-07-31   \n",
       "2023-12-31  218QH0  US TREASURY NOTE 2018 2 5/8% 31/12/23 AG-2023  2018-12-31   \n",
       "2024-07-31  235FFD  US TREASURY NOTE 2019 1 3/4% 31/07/24 AB-2024  2019-07-31   \n",
       "2024-12-31  247DLH  US TREASURY NOTE 2019 1 3/4% 31/12/24 AH-2024  2019-12-31   \n",
       "2025-07-31  613XGU    US TREASURY NOTE 2020 1/4% 31/07/25 AB-2025  2020-07-31   \n",
       "2025-12-31  218QJQ   US TREASURY NOTE 2018 2 5/8% 31/12/25 T-2025  2018-12-31   \n",
       "2026-07-31  235FF9   US TREASURY NOTE 2019 1 7/8% 31/07/26 N-2026  2019-07-31   \n",
       "2026-12-31  247DLR   US TREASURY NOTE 2019 1 3/4% 31/12/26 T-2026  2019-12-31   \n",
       "2027-07-31  613XG1     US TREASURY NOTE 2020 3/8% 31/07/27 N-2027  2020-07-31   \n",
       "\n",
       "           TERM   RV      C  CTYP         RDL  Price at issue  \\\n",
       "2020-12-29  0.5  100      0  ZERO  2020-12-29         99.9469   \n",
       "2021-07-31    2  100   1.75   FIX  2021-07-31         99.7930   \n",
       "2021-12-31    2  100  1.625   FIX  2021-12-31        100.0742   \n",
       "2022-07-31    2  100  0.125   FIX  2022-07-31        100.0313   \n",
       "2022-12-31    7  100  2.125   FIX  2022-12-31        100.2031   \n",
       "2023-07-31    5  100   2.75   FIX  2023-07-31         99.5469   \n",
       "2023-12-31    5  100  2.625   FIX  2023-12-31        100.5391   \n",
       "2024-07-31    5  100   1.75   FIX  2024-07-31         99.6563   \n",
       "2024-12-31    5  100   1.75   FIX  2024-12-31        100.2734   \n",
       "2025-07-31    5  100   0.25   FIX  2025-07-31        100.2031   \n",
       "2025-12-31    7  100  2.625   FIX  2025-12-31        100.2500   \n",
       "2026-07-31    7  100  1.875   FIX  2026-07-31         99.7813   \n",
       "2026-12-31    7  100   1.75   FIX  2026-12-31         99.4375   \n",
       "2027-07-31    7  100  0.375   FIX  2027-07-31         99.9140   \n",
       "\n",
       "                                                           CD  \\\n",
       "2020-12-29                              [2021-02-01 00:00:00]   \n",
       "2021-07-31  [2020-01-31 00:00:00, 2020-07-31 00:00:00, 202...   \n",
       "2021-12-31  [2020-06-30 00:00:00, 2020-12-31 00:00:00, 202...   \n",
       "2022-07-31  [2021-02-01 00:00:00, 2021-08-02 00:00:00, 202...   \n",
       "2022-12-31  [2016-06-30 00:00:00, 2017-01-03 00:00:00, 201...   \n",
       "2023-07-31  [2019-01-31 00:00:00, 2019-07-31 00:00:00, 202...   \n",
       "2023-12-31  [2019-07-01 00:00:00, 2019-12-31 00:00:00, 202...   \n",
       "2024-07-31  [2020-01-31 00:00:00, 2020-07-31 00:00:00, 202...   \n",
       "2024-12-31  [2020-06-30 00:00:00, 2020-12-31 00:00:00, 202...   \n",
       "2025-07-31  [2021-02-01 00:00:00, 2021-08-02 00:00:00, 202...   \n",
       "2025-12-31  [2019-07-01 00:00:00, 2019-12-31 00:00:00, 202...   \n",
       "2026-07-31  [2020-01-31 00:00:00, 2020-07-31 00:00:00, 202...   \n",
       "2026-12-31  [2020-06-30 00:00:00, 2020-12-31 00:00:00, 202...   \n",
       "2027-07-31  [2021-02-01 00:00:00, 2021-08-02 00:00:00, 202...   \n",
       "\n",
       "                                                           CF       YTM  \\\n",
       "2020-12-29                                              [0.0]  0.001063   \n",
       "2021-07-31                           [1.75, 1.75, 1.75, 1.75]  0.018559   \n",
       "2021-12-31                       [1.625, 1.625, 1.625, 1.625]  0.015872   \n",
       "2022-07-31                       [0.125, 0.125, 0.125, 0.125]  0.001093   \n",
       "2022-12-31  [2.125, 2.125, 2.125, 2.125, 2.125, 2.125, 2.1...  0.020937   \n",
       "2023-07-31  [2.75, 2.75, 2.75, 2.75, 2.75, 2.75, 2.75, 2.7...  0.028479   \n",
       "2023-12-31  [2.625, 2.625, 2.625, 2.625, 2.625, 2.625, 2.6...  0.025096   \n",
       "2024-07-31  [1.75, 1.75, 1.75, 1.75, 1.75, 1.75, 1.75, 1.7...  0.018222   \n",
       "2024-12-31  [1.75, 1.75, 1.75, 1.75, 1.75, 1.75, 1.75, 1.7...  0.016927   \n",
       "2025-07-31  [0.25, 0.25, 0.25, 0.25, 0.25, 0.25, 0.25, 0.2...  0.002091   \n",
       "2025-12-31  [2.625, 2.625, 2.625, 2.625, 2.625, 2.625, 2.6...  0.025857   \n",
       "2026-07-31  [1.875, 1.875, 1.875, 1.875, 1.875, 1.875, 1.8...  0.019085   \n",
       "2026-12-31  [1.75, 1.75, 1.75, 1.75, 1.75, 1.75, 1.75, 1.7...  0.018360   \n",
       "2027-07-31  [0.375, 0.375, 0.375, 0.375, 0.375, 0.375, 0.3...  0.003875   \n",
       "\n",
       "            Price on 2020-07-31  YTM implied by 2020-07-31 Price  \\\n",
       "2020-12-29              99.9559                         0.000882   \n",
       "2021-07-31             101.6094                         0.001389   \n",
       "2021-12-31             102.1016                         0.002208   \n",
       "2022-07-31             100.0313                         0.001093   \n",
       "2022-12-31             104.8281                         0.001883   \n",
       "2023-07-31             107.8438                         0.001295   \n",
       "2023-12-31             108.4609                         0.001980   \n",
       "2024-07-31             106.3203                         0.001641   \n",
       "2024-12-31             106.8828                         0.002124   \n",
       "2025-07-31             100.2031                         0.002091   \n",
       "2025-12-31             112.7344                         0.002895   \n",
       "2026-07-31             109.2891                         0.003111   \n",
       "2026-12-31             108.8984                         0.003635   \n",
       "2027-07-31              99.9140                         0.003875   \n",
       "\n",
       "            Years Left to Maturity  Spot Rates as of 2020-07-31  \n",
       "2020-12-29                     0.5                     0.000882  \n",
       "2021-07-31                     1.0                     0.001391  \n",
       "2021-12-31                     1.5                     0.002216  \n",
       "2022-07-31                     2.0                     0.001093  \n",
       "2022-12-31                     2.5                     0.001892  \n",
       "2023-07-31                     3.0                     0.001284  \n",
       "2023-12-31                     3.5                     0.001998  \n",
       "2024-07-31                     4.0                     0.001641  \n",
       "2024-12-31                     4.5                     0.002141  \n",
       "2025-07-31                     5.0                     0.002093  \n",
       "2025-12-31                     5.5                     0.002966  \n",
       "2026-07-31                     6.0                     0.003169  \n",
       "2026-12-31                     6.5                     0.003712  \n",
       "2027-07-31                     7.0                     0.003893  "
      ]
     },
     "execution_count": 29,
     "metadata": {},
     "output_type": "execute_result"
    }
   ],
   "source": [
    "off_on_df"
   ]
  },
  {
   "cell_type": "code",
   "execution_count": 30,
   "id": "2cd25f03-404c-440c-9f1b-39fe7bb72ebb",
   "metadata": {},
   "outputs": [
    {
     "data": {
      "application/vnd.plotly.v1+json": {
       "config": {
        "linkText": "Export to chart-studio.plotly.com",
        "plotlyServerURL": "https://chart-studio.plotly.com",
        "showLink": true
       },
       "data": [
        {
         "line": {
          "color": "rgba(255, 153, 51, 1.0)",
          "dash": "solid",
          "shape": "linear",
          "width": 1.3
         },
         "mode": "lines",
         "name": "YTM implied by 2020-07-31 Price",
         "text": "",
         "type": "scatter",
         "x": [
          "2020-12-29",
          "2021-07-31",
          "2021-12-31",
          "2022-07-31",
          "2022-12-31",
          "2023-07-31",
          "2023-12-31",
          "2024-07-31",
          "2024-12-31",
          "2025-07-31",
          "2025-12-31",
          "2026-07-31",
          "2026-12-31",
          "2027-07-31"
         ],
         "y": [
          0.0008823891336079769,
          0.001389229366311189,
          0.0022083810604940305,
          0.0010932860674747608,
          0.0018830173997592785,
          0.0012947271629833368,
          0.001980168093318993,
          0.0016408588839921948,
          0.00212357326795576,
          0.0020914600723433274,
          0.002894974696474765,
          0.0031111786372270364,
          0.0036353360365390546,
          0.00387464973505216
         ]
        },
        {
         "line": {
          "color": "rgba(55, 128, 191, 1.0)",
          "dash": "solid",
          "shape": "linear",
          "width": 1.3
         },
         "mode": "lines",
         "name": "Spot Rates as of 2020-07-31",
         "text": "",
         "type": "scatter",
         "x": [
          "2020-12-29",
          "2021-07-31",
          "2021-12-31",
          "2022-07-31",
          "2022-12-31",
          "2023-07-31",
          "2023-12-31",
          "2024-07-31",
          "2024-12-31",
          "2025-07-31",
          "2025-12-31",
          "2026-07-31",
          "2026-12-31",
          "2027-07-31"
         ],
         "y": [
          0.0008823891336079769,
          0.0013914296458823472,
          0.0022163506723851256,
          0.0010927000597975578,
          0.0018917583607014343,
          0.0012840508871851952,
          0.0019982517723486914,
          0.001640988868378379,
          0.002140510247641725,
          0.0020934557148182265,
          0.002966336778089218,
          0.0031687271642639736,
          0.003712300498635024,
          0.003892929094841513
         ]
        }
       ],
       "layout": {
        "autosize": true,
        "legend": {
         "bgcolor": "#F5F6F9",
         "font": {
          "color": "#4D5663"
         }
        },
        "paper_bgcolor": "#F5F6F9",
        "plot_bgcolor": "#F5F6F9",
        "template": {
         "data": {
          "bar": [
           {
            "error_x": {
             "color": "#2a3f5f"
            },
            "error_y": {
             "color": "#2a3f5f"
            },
            "marker": {
             "line": {
              "color": "#E5ECF6",
              "width": 0.5
             }
            },
            "type": "bar"
           }
          ],
          "barpolar": [
           {
            "marker": {
             "line": {
              "color": "#E5ECF6",
              "width": 0.5
             }
            },
            "type": "barpolar"
           }
          ],
          "carpet": [
           {
            "aaxis": {
             "endlinecolor": "#2a3f5f",
             "gridcolor": "white",
             "linecolor": "white",
             "minorgridcolor": "white",
             "startlinecolor": "#2a3f5f"
            },
            "baxis": {
             "endlinecolor": "#2a3f5f",
             "gridcolor": "white",
             "linecolor": "white",
             "minorgridcolor": "white",
             "startlinecolor": "#2a3f5f"
            },
            "type": "carpet"
           }
          ],
          "choropleth": [
           {
            "colorbar": {
             "outlinewidth": 0,
             "ticks": ""
            },
            "type": "choropleth"
           }
          ],
          "contour": [
           {
            "colorbar": {
             "outlinewidth": 0,
             "ticks": ""
            },
            "colorscale": [
             [
              0,
              "#0d0887"
             ],
             [
              0.1111111111111111,
              "#46039f"
             ],
             [
              0.2222222222222222,
              "#7201a8"
             ],
             [
              0.3333333333333333,
              "#9c179e"
             ],
             [
              0.4444444444444444,
              "#bd3786"
             ],
             [
              0.5555555555555556,
              "#d8576b"
             ],
             [
              0.6666666666666666,
              "#ed7953"
             ],
             [
              0.7777777777777778,
              "#fb9f3a"
             ],
             [
              0.8888888888888888,
              "#fdca26"
             ],
             [
              1,
              "#f0f921"
             ]
            ],
            "type": "contour"
           }
          ],
          "contourcarpet": [
           {
            "colorbar": {
             "outlinewidth": 0,
             "ticks": ""
            },
            "type": "contourcarpet"
           }
          ],
          "heatmap": [
           {
            "colorbar": {
             "outlinewidth": 0,
             "ticks": ""
            },
            "colorscale": [
             [
              0,
              "#0d0887"
             ],
             [
              0.1111111111111111,
              "#46039f"
             ],
             [
              0.2222222222222222,
              "#7201a8"
             ],
             [
              0.3333333333333333,
              "#9c179e"
             ],
             [
              0.4444444444444444,
              "#bd3786"
             ],
             [
              0.5555555555555556,
              "#d8576b"
             ],
             [
              0.6666666666666666,
              "#ed7953"
             ],
             [
              0.7777777777777778,
              "#fb9f3a"
             ],
             [
              0.8888888888888888,
              "#fdca26"
             ],
             [
              1,
              "#f0f921"
             ]
            ],
            "type": "heatmap"
           }
          ],
          "heatmapgl": [
           {
            "colorbar": {
             "outlinewidth": 0,
             "ticks": ""
            },
            "colorscale": [
             [
              0,
              "#0d0887"
             ],
             [
              0.1111111111111111,
              "#46039f"
             ],
             [
              0.2222222222222222,
              "#7201a8"
             ],
             [
              0.3333333333333333,
              "#9c179e"
             ],
             [
              0.4444444444444444,
              "#bd3786"
             ],
             [
              0.5555555555555556,
              "#d8576b"
             ],
             [
              0.6666666666666666,
              "#ed7953"
             ],
             [
              0.7777777777777778,
              "#fb9f3a"
             ],
             [
              0.8888888888888888,
              "#fdca26"
             ],
             [
              1,
              "#f0f921"
             ]
            ],
            "type": "heatmapgl"
           }
          ],
          "histogram": [
           {
            "marker": {
             "colorbar": {
              "outlinewidth": 0,
              "ticks": ""
             }
            },
            "type": "histogram"
           }
          ],
          "histogram2d": [
           {
            "colorbar": {
             "outlinewidth": 0,
             "ticks": ""
            },
            "colorscale": [
             [
              0,
              "#0d0887"
             ],
             [
              0.1111111111111111,
              "#46039f"
             ],
             [
              0.2222222222222222,
              "#7201a8"
             ],
             [
              0.3333333333333333,
              "#9c179e"
             ],
             [
              0.4444444444444444,
              "#bd3786"
             ],
             [
              0.5555555555555556,
              "#d8576b"
             ],
             [
              0.6666666666666666,
              "#ed7953"
             ],
             [
              0.7777777777777778,
              "#fb9f3a"
             ],
             [
              0.8888888888888888,
              "#fdca26"
             ],
             [
              1,
              "#f0f921"
             ]
            ],
            "type": "histogram2d"
           }
          ],
          "histogram2dcontour": [
           {
            "colorbar": {
             "outlinewidth": 0,
             "ticks": ""
            },
            "colorscale": [
             [
              0,
              "#0d0887"
             ],
             [
              0.1111111111111111,
              "#46039f"
             ],
             [
              0.2222222222222222,
              "#7201a8"
             ],
             [
              0.3333333333333333,
              "#9c179e"
             ],
             [
              0.4444444444444444,
              "#bd3786"
             ],
             [
              0.5555555555555556,
              "#d8576b"
             ],
             [
              0.6666666666666666,
              "#ed7953"
             ],
             [
              0.7777777777777778,
              "#fb9f3a"
             ],
             [
              0.8888888888888888,
              "#fdca26"
             ],
             [
              1,
              "#f0f921"
             ]
            ],
            "type": "histogram2dcontour"
           }
          ],
          "mesh3d": [
           {
            "colorbar": {
             "outlinewidth": 0,
             "ticks": ""
            },
            "type": "mesh3d"
           }
          ],
          "parcoords": [
           {
            "line": {
             "colorbar": {
              "outlinewidth": 0,
              "ticks": ""
             }
            },
            "type": "parcoords"
           }
          ],
          "pie": [
           {
            "automargin": true,
            "type": "pie"
           }
          ],
          "scatter": [
           {
            "marker": {
             "colorbar": {
              "outlinewidth": 0,
              "ticks": ""
             }
            },
            "type": "scatter"
           }
          ],
          "scatter3d": [
           {
            "line": {
             "colorbar": {
              "outlinewidth": 0,
              "ticks": ""
             }
            },
            "marker": {
             "colorbar": {
              "outlinewidth": 0,
              "ticks": ""
             }
            },
            "type": "scatter3d"
           }
          ],
          "scattercarpet": [
           {
            "marker": {
             "colorbar": {
              "outlinewidth": 0,
              "ticks": ""
             }
            },
            "type": "scattercarpet"
           }
          ],
          "scattergeo": [
           {
            "marker": {
             "colorbar": {
              "outlinewidth": 0,
              "ticks": ""
             }
            },
            "type": "scattergeo"
           }
          ],
          "scattergl": [
           {
            "marker": {
             "colorbar": {
              "outlinewidth": 0,
              "ticks": ""
             }
            },
            "type": "scattergl"
           }
          ],
          "scattermapbox": [
           {
            "marker": {
             "colorbar": {
              "outlinewidth": 0,
              "ticks": ""
             }
            },
            "type": "scattermapbox"
           }
          ],
          "scatterpolar": [
           {
            "marker": {
             "colorbar": {
              "outlinewidth": 0,
              "ticks": ""
             }
            },
            "type": "scatterpolar"
           }
          ],
          "scatterpolargl": [
           {
            "marker": {
             "colorbar": {
              "outlinewidth": 0,
              "ticks": ""
             }
            },
            "type": "scatterpolargl"
           }
          ],
          "scatterternary": [
           {
            "marker": {
             "colorbar": {
              "outlinewidth": 0,
              "ticks": ""
             }
            },
            "type": "scatterternary"
           }
          ],
          "surface": [
           {
            "colorbar": {
             "outlinewidth": 0,
             "ticks": ""
            },
            "colorscale": [
             [
              0,
              "#0d0887"
             ],
             [
              0.1111111111111111,
              "#46039f"
             ],
             [
              0.2222222222222222,
              "#7201a8"
             ],
             [
              0.3333333333333333,
              "#9c179e"
             ],
             [
              0.4444444444444444,
              "#bd3786"
             ],
             [
              0.5555555555555556,
              "#d8576b"
             ],
             [
              0.6666666666666666,
              "#ed7953"
             ],
             [
              0.7777777777777778,
              "#fb9f3a"
             ],
             [
              0.8888888888888888,
              "#fdca26"
             ],
             [
              1,
              "#f0f921"
             ]
            ],
            "type": "surface"
           }
          ],
          "table": [
           {
            "cells": {
             "fill": {
              "color": "#EBF0F8"
             },
             "line": {
              "color": "white"
             }
            },
            "header": {
             "fill": {
              "color": "#C8D4E3"
             },
             "line": {
              "color": "white"
             }
            },
            "type": "table"
           }
          ]
         },
         "layout": {
          "annotationdefaults": {
           "arrowcolor": "#2a3f5f",
           "arrowhead": 0,
           "arrowwidth": 1
          },
          "autotypenumbers": "strict",
          "coloraxis": {
           "colorbar": {
            "outlinewidth": 0,
            "ticks": ""
           }
          },
          "colorscale": {
           "diverging": [
            [
             0,
             "#8e0152"
            ],
            [
             0.1,
             "#c51b7d"
            ],
            [
             0.2,
             "#de77ae"
            ],
            [
             0.3,
             "#f1b6da"
            ],
            [
             0.4,
             "#fde0ef"
            ],
            [
             0.5,
             "#f7f7f7"
            ],
            [
             0.6,
             "#e6f5d0"
            ],
            [
             0.7,
             "#b8e186"
            ],
            [
             0.8,
             "#7fbc41"
            ],
            [
             0.9,
             "#4d9221"
            ],
            [
             1,
             "#276419"
            ]
           ],
           "sequential": [
            [
             0,
             "#0d0887"
            ],
            [
             0.1111111111111111,
             "#46039f"
            ],
            [
             0.2222222222222222,
             "#7201a8"
            ],
            [
             0.3333333333333333,
             "#9c179e"
            ],
            [
             0.4444444444444444,
             "#bd3786"
            ],
            [
             0.5555555555555556,
             "#d8576b"
            ],
            [
             0.6666666666666666,
             "#ed7953"
            ],
            [
             0.7777777777777778,
             "#fb9f3a"
            ],
            [
             0.8888888888888888,
             "#fdca26"
            ],
            [
             1,
             "#f0f921"
            ]
           ],
           "sequentialminus": [
            [
             0,
             "#0d0887"
            ],
            [
             0.1111111111111111,
             "#46039f"
            ],
            [
             0.2222222222222222,
             "#7201a8"
            ],
            [
             0.3333333333333333,
             "#9c179e"
            ],
            [
             0.4444444444444444,
             "#bd3786"
            ],
            [
             0.5555555555555556,
             "#d8576b"
            ],
            [
             0.6666666666666666,
             "#ed7953"
            ],
            [
             0.7777777777777778,
             "#fb9f3a"
            ],
            [
             0.8888888888888888,
             "#fdca26"
            ],
            [
             1,
             "#f0f921"
            ]
           ]
          },
          "colorway": [
           "#636efa",
           "#EF553B",
           "#00cc96",
           "#ab63fa",
           "#FFA15A",
           "#19d3f3",
           "#FF6692",
           "#B6E880",
           "#FF97FF",
           "#FECB52"
          ],
          "font": {
           "color": "#2a3f5f"
          },
          "geo": {
           "bgcolor": "white",
           "lakecolor": "white",
           "landcolor": "#E5ECF6",
           "showlakes": true,
           "showland": true,
           "subunitcolor": "white"
          },
          "hoverlabel": {
           "align": "left"
          },
          "hovermode": "closest",
          "mapbox": {
           "style": "light"
          },
          "paper_bgcolor": "white",
          "plot_bgcolor": "#E5ECF6",
          "polar": {
           "angularaxis": {
            "gridcolor": "white",
            "linecolor": "white",
            "ticks": ""
           },
           "bgcolor": "#E5ECF6",
           "radialaxis": {
            "gridcolor": "white",
            "linecolor": "white",
            "ticks": ""
           }
          },
          "scene": {
           "xaxis": {
            "backgroundcolor": "#E5ECF6",
            "gridcolor": "white",
            "gridwidth": 2,
            "linecolor": "white",
            "showbackground": true,
            "ticks": "",
            "zerolinecolor": "white"
           },
           "yaxis": {
            "backgroundcolor": "#E5ECF6",
            "gridcolor": "white",
            "gridwidth": 2,
            "linecolor": "white",
            "showbackground": true,
            "ticks": "",
            "zerolinecolor": "white"
           },
           "zaxis": {
            "backgroundcolor": "#E5ECF6",
            "gridcolor": "white",
            "gridwidth": 2,
            "linecolor": "white",
            "showbackground": true,
            "ticks": "",
            "zerolinecolor": "white"
           }
          },
          "shapedefaults": {
           "line": {
            "color": "#2a3f5f"
           }
          },
          "ternary": {
           "aaxis": {
            "gridcolor": "white",
            "linecolor": "white",
            "ticks": ""
           },
           "baxis": {
            "gridcolor": "white",
            "linecolor": "white",
            "ticks": ""
           },
           "bgcolor": "#E5ECF6",
           "caxis": {
            "gridcolor": "white",
            "linecolor": "white",
            "ticks": ""
           }
          },
          "title": {
           "x": 0.05
          },
          "xaxis": {
           "automargin": true,
           "gridcolor": "white",
           "linecolor": "white",
           "ticks": "",
           "title": {
            "standoff": 15
           },
           "zerolinecolor": "white",
           "zerolinewidth": 2
          },
          "yaxis": {
           "automargin": true,
           "gridcolor": "white",
           "linecolor": "white",
           "ticks": "",
           "title": {
            "standoff": 15
           },
           "zerolinecolor": "white",
           "zerolinewidth": 2
          }
         }
        },
        "title": {
         "font": {
          "color": "#4D5663"
         },
         "text": "On- and Off-the-run US Treasury Bonds with Zero or Fixed (and different) Coupon Rates"
        },
        "xaxis": {
         "autorange": true,
         "gridcolor": "#E1E5ED",
         "range": [
          "2020-12-29",
          "2027-07-31"
         ],
         "showgrid": true,
         "tickfont": {
          "color": "#4D5663"
         },
         "title": {
          "font": {
           "color": "#4D5663"
          },
          "text": ""
         },
         "type": "date",
         "zerolinecolor": "#E1E5ED"
        },
        "yaxis": {
         "autorange": true,
         "gridcolor": "#E1E5ED",
         "range": [
          0.0007151369135394471,
          0.004060181314910043
         ],
         "showgrid": true,
         "tickfont": {
          "color": "#4D5663"
         },
         "title": {
          "font": {
           "color": "#4D5663"
          },
          "text": ""
         },
         "type": "linear",
         "zerolinecolor": "#E1E5ED"
        }
       }
      },
      "image/png": "[encoded data removed]",
      "text/html": [
       "<div>                            <div id=\"74198ca6-dc7c-433d-a04e-c39ccd7b7276\" class=\"plotly-graph-div\" style=\"height:525px; width:100%;\"></div>            <script type=\"text/javascript\">                require([\"plotly\"], function(Plotly) {                    window.PLOTLYENV=window.PLOTLYENV || {};\n",
       "                    window.PLOTLYENV.BASE_URL='https://chart-studio.plotly.com';                                    if (document.getElementById(\"74198ca6-dc7c-433d-a04e-c39ccd7b7276\")) {                    Plotly.newPlot(                        \"74198ca6-dc7c-433d-a04e-c39ccd7b7276\",                        [{\"line\": {\"color\": \"rgba(255, 153, 51, 1.0)\", \"dash\": \"solid\", \"shape\": \"linear\", \"width\": 1.3}, \"mode\": \"lines\", \"name\": \"YTM implied by 2020-07-31 Price\", \"text\": \"\", \"type\": \"scatter\", \"x\": [\"2020-12-29\", \"2021-07-31\", \"2021-12-31\", \"2022-07-31\", \"2022-12-31\", \"2023-07-31\", \"2023-12-31\", \"2024-07-31\", \"2024-12-31\", \"2025-07-31\", \"2025-12-31\", \"2026-07-31\", \"2026-12-31\", \"2027-07-31\"], \"y\": [0.0008823891336079769, 0.001389229366311189, 0.0022083810604940305, 0.0010932860674747608, 0.0018830173997592785, 0.0012947271629833368, 0.001980168093318993, 0.0016408588839921948, 0.00212357326795576, 0.0020914600723433274, 0.002894974696474765, 0.0031111786372270364, 0.0036353360365390546, 0.00387464973505216]}, {\"line\": {\"color\": \"rgba(55, 128, 191, 1.0)\", \"dash\": \"solid\", \"shape\": \"linear\", \"width\": 1.3}, \"mode\": \"lines\", \"name\": \"Spot Rates as of 2020-07-31\", \"text\": \"\", \"type\": \"scatter\", \"x\": [\"2020-12-29\", \"2021-07-31\", \"2021-12-31\", \"2022-07-31\", \"2022-12-31\", \"2023-07-31\", \"2023-12-31\", \"2024-07-31\", \"2024-12-31\", \"2025-07-31\", \"2025-12-31\", \"2026-07-31\", \"2026-12-31\", \"2027-07-31\"], \"y\": [0.0008823891336079769, 0.0013914296458823472, 0.0022163506723851256, 0.0010927000597975578, 0.0018917583607014343, 0.0012840508871851952, 0.0019982517723486914, 0.001640988868378379, 0.002140510247641725, 0.0020934557148182265, 0.002966336778089218, 0.0031687271642639736, 0.003712300498635024, 0.003892929094841513]}],                        {\"legend\": {\"bgcolor\": \"#F5F6F9\", \"font\": {\"color\": \"#4D5663\"}}, \"paper_bgcolor\": \"#F5F6F9\", \"plot_bgcolor\": \"#F5F6F9\", \"template\": {\"data\": {\"bar\": [{\"error_x\": {\"color\": \"#2a3f5f\"}, \"error_y\": {\"color\": \"#2a3f5f\"}, \"marker\": {\"line\": {\"color\": \"#E5ECF6\", \"width\": 0.5}}, \"type\": \"bar\"}], \"barpolar\": [{\"marker\": {\"line\": {\"color\": \"#E5ECF6\", \"width\": 0.5}}, \"type\": \"barpolar\"}], \"carpet\": [{\"aaxis\": {\"endlinecolor\": \"#2a3f5f\", \"gridcolor\": \"white\", \"linecolor\": \"white\", \"minorgridcolor\": \"white\", \"startlinecolor\": \"#2a3f5f\"}, \"baxis\": {\"endlinecolor\": \"#2a3f5f\", \"gridcolor\": \"white\", \"linecolor\": \"white\", \"minorgridcolor\": \"white\", \"startlinecolor\": \"#2a3f5f\"}, \"type\": \"carpet\"}], \"choropleth\": [{\"colorbar\": {\"outlinewidth\": 0, \"ticks\": \"\"}, \"type\": \"choropleth\"}], \"contour\": [{\"colorbar\": {\"outlinewidth\": 0, \"ticks\": \"\"}, \"colorscale\": [[0.0, \"#0d0887\"], [0.1111111111111111, \"#46039f\"], [0.2222222222222222, \"#7201a8\"], [0.3333333333333333, \"#9c179e\"], [0.4444444444444444, \"#bd3786\"], [0.5555555555555556, \"#d8576b\"], [0.6666666666666666, \"#ed7953\"], [0.7777777777777778, \"#fb9f3a\"], [0.8888888888888888, \"#fdca26\"], [1.0, \"#f0f921\"]], \"type\": \"contour\"}], \"contourcarpet\": [{\"colorbar\": {\"outlinewidth\": 0, \"ticks\": \"\"}, \"type\": \"contourcarpet\"}], \"heatmap\": [{\"colorbar\": {\"outlinewidth\": 0, \"ticks\": \"\"}, \"colorscale\": [[0.0, \"#0d0887\"], [0.1111111111111111, \"#46039f\"], [0.2222222222222222, \"#7201a8\"], [0.3333333333333333, \"#9c179e\"], [0.4444444444444444, \"#bd3786\"], [0.5555555555555556, \"#d8576b\"], [0.6666666666666666, \"#ed7953\"], [0.7777777777777778, \"#fb9f3a\"], [0.8888888888888888, \"#fdca26\"], [1.0, \"#f0f921\"]], \"type\": \"heatmap\"}], \"heatmapgl\": [{\"colorbar\": {\"outlinewidth\": 0, \"ticks\": \"\"}, \"colorscale\": [[0.0, \"#0d0887\"], [0.1111111111111111, \"#46039f\"], [0.2222222222222222, \"#7201a8\"], [0.3333333333333333, \"#9c179e\"], [0.4444444444444444, \"#bd3786\"], [0.5555555555555556, \"#d8576b\"], [0.6666666666666666, \"#ed7953\"], [0.7777777777777778, \"#fb9f3a\"], [0.8888888888888888, \"#fdca26\"], [1.0, \"#f0f921\"]], \"type\": \"heatmapgl\"}], \"histogram\": [{\"marker\": {\"colorbar\": {\"outlinewidth\": 0, \"ticks\": \"\"}}, \"type\": \"histogram\"}], \"histogram2d\": [{\"colorbar\": {\"outlinewidth\": 0, \"ticks\": \"\"}, \"colorscale\": [[0.0, \"#0d0887\"], [0.1111111111111111, \"#46039f\"], [0.2222222222222222, \"#7201a8\"], [0.3333333333333333, \"#9c179e\"], [0.4444444444444444, \"#bd3786\"], [0.5555555555555556, \"#d8576b\"], [0.6666666666666666, \"#ed7953\"], [0.7777777777777778, \"#fb9f3a\"], [0.8888888888888888, \"#fdca26\"], [1.0, \"#f0f921\"]], \"type\": \"histogram2d\"}], \"histogram2dcontour\": [{\"colorbar\": {\"outlinewidth\": 0, \"ticks\": \"\"}, \"colorscale\": [[0.0, \"#0d0887\"], [0.1111111111111111, \"#46039f\"], [0.2222222222222222, \"#7201a8\"], [0.3333333333333333, \"#9c179e\"], [0.4444444444444444, \"#bd3786\"], [0.5555555555555556, \"#d8576b\"], [0.6666666666666666, \"#ed7953\"], [0.7777777777777778, \"#fb9f3a\"], [0.8888888888888888, \"#fdca26\"], [1.0, \"#f0f921\"]], \"type\": \"histogram2dcontour\"}], \"mesh3d\": [{\"colorbar\": {\"outlinewidth\": 0, \"ticks\": \"\"}, \"type\": \"mesh3d\"}], \"parcoords\": [{\"line\": {\"colorbar\": {\"outlinewidth\": 0, \"ticks\": \"\"}}, \"type\": \"parcoords\"}], \"pie\": [{\"automargin\": true, \"type\": \"pie\"}], \"scatter\": [{\"marker\": {\"colorbar\": {\"outlinewidth\": 0, \"ticks\": \"\"}}, \"type\": \"scatter\"}], \"scatter3d\": [{\"line\": {\"colorbar\": {\"outlinewidth\": 0, \"ticks\": \"\"}}, \"marker\": {\"colorbar\": {\"outlinewidth\": 0, \"ticks\": \"\"}}, \"type\": \"scatter3d\"}], \"scattercarpet\": [{\"marker\": {\"colorbar\": {\"outlinewidth\": 0, \"ticks\": \"\"}}, \"type\": \"scattercarpet\"}], \"scattergeo\": [{\"marker\": {\"colorbar\": {\"outlinewidth\": 0, \"ticks\": \"\"}}, \"type\": \"scattergeo\"}], \"scattergl\": [{\"marker\": {\"colorbar\": {\"outlinewidth\": 0, \"ticks\": \"\"}}, \"type\": \"scattergl\"}], \"scattermapbox\": [{\"marker\": {\"colorbar\": {\"outlinewidth\": 0, \"ticks\": \"\"}}, \"type\": \"scattermapbox\"}], \"scatterpolar\": [{\"marker\": {\"colorbar\": {\"outlinewidth\": 0, \"ticks\": \"\"}}, \"type\": \"scatterpolar\"}], \"scatterpolargl\": [{\"marker\": {\"colorbar\": {\"outlinewidth\": 0, \"ticks\": \"\"}}, \"type\": \"scatterpolargl\"}], \"scatterternary\": [{\"marker\": {\"colorbar\": {\"outlinewidth\": 0, \"ticks\": \"\"}}, \"type\": \"scatterternary\"}], \"surface\": [{\"colorbar\": {\"outlinewidth\": 0, \"ticks\": \"\"}, \"colorscale\": [[0.0, \"#0d0887\"], [0.1111111111111111, \"#46039f\"], [0.2222222222222222, \"#7201a8\"], [0.3333333333333333, \"#9c179e\"], [0.4444444444444444, \"#bd3786\"], [0.5555555555555556, \"#d8576b\"], [0.6666666666666666, \"#ed7953\"], [0.7777777777777778, \"#fb9f3a\"], [0.8888888888888888, \"#fdca26\"], [1.0, \"#f0f921\"]], \"type\": \"surface\"}], \"table\": [{\"cells\": {\"fill\": {\"color\": \"#EBF0F8\"}, \"line\": {\"color\": \"white\"}}, \"header\": {\"fill\": {\"color\": \"#C8D4E3\"}, \"line\": {\"color\": \"white\"}}, \"type\": \"table\"}]}, \"layout\": {\"annotationdefaults\": {\"arrowcolor\": \"#2a3f5f\", \"arrowhead\": 0, \"arrowwidth\": 1}, \"autotypenumbers\": \"strict\", \"coloraxis\": {\"colorbar\": {\"outlinewidth\": 0, \"ticks\": \"\"}}, \"colorscale\": {\"diverging\": [[0, \"#8e0152\"], [0.1, \"#c51b7d\"], [0.2, \"#de77ae\"], [0.3, \"#f1b6da\"], [0.4, \"#fde0ef\"], [0.5, \"#f7f7f7\"], [0.6, \"#e6f5d0\"], [0.7, \"#b8e186\"], [0.8, \"#7fbc41\"], [0.9, \"#4d9221\"], [1, \"#276419\"]], \"sequential\": [[0.0, \"#0d0887\"], [0.1111111111111111, \"#46039f\"], [0.2222222222222222, \"#7201a8\"], [0.3333333333333333, \"#9c179e\"], [0.4444444444444444, \"#bd3786\"], [0.5555555555555556, \"#d8576b\"], [0.6666666666666666, \"#ed7953\"], [0.7777777777777778, \"#fb9f3a\"], [0.8888888888888888, \"#fdca26\"], [1.0, \"#f0f921\"]], \"sequentialminus\": [[0.0, \"#0d0887\"], [0.1111111111111111, \"#46039f\"], [0.2222222222222222, \"#7201a8\"], [0.3333333333333333, \"#9c179e\"], [0.4444444444444444, \"#bd3786\"], [0.5555555555555556, \"#d8576b\"], [0.6666666666666666, \"#ed7953\"], [0.7777777777777778, \"#fb9f3a\"], [0.8888888888888888, \"#fdca26\"], [1.0, \"#f0f921\"]]}, \"colorway\": [\"#636efa\", \"#EF553B\", \"#00cc96\", \"#ab63fa\", \"#FFA15A\", \"#19d3f3\", \"#FF6692\", \"#B6E880\", \"#FF97FF\", \"#FECB52\"], \"font\": {\"color\": \"#2a3f5f\"}, \"geo\": {\"bgcolor\": \"white\", \"lakecolor\": \"white\", \"landcolor\": \"#E5ECF6\", \"showlakes\": true, \"showland\": true, \"subunitcolor\": \"white\"}, \"hoverlabel\": {\"align\": \"left\"}, \"hovermode\": \"closest\", \"mapbox\": {\"style\": \"light\"}, \"paper_bgcolor\": \"white\", \"plot_bgcolor\": \"#E5ECF6\", \"polar\": {\"angularaxis\": {\"gridcolor\": \"white\", \"linecolor\": \"white\", \"ticks\": \"\"}, \"bgcolor\": \"#E5ECF6\", \"radialaxis\": {\"gridcolor\": \"white\", \"linecolor\": \"white\", \"ticks\": \"\"}}, \"scene\": {\"xaxis\": {\"backgroundcolor\": \"#E5ECF6\", \"gridcolor\": \"white\", \"gridwidth\": 2, \"linecolor\": \"white\", \"showbackground\": true, \"ticks\": \"\", \"zerolinecolor\": \"white\"}, \"yaxis\": {\"backgroundcolor\": \"#E5ECF6\", \"gridcolor\": \"white\", \"gridwidth\": 2, \"linecolor\": \"white\", \"showbackground\": true, \"ticks\": \"\", \"zerolinecolor\": \"white\"}, \"zaxis\": {\"backgroundcolor\": \"#E5ECF6\", \"gridcolor\": \"white\", \"gridwidth\": 2, \"linecolor\": \"white\", \"showbackground\": true, \"ticks\": \"\", \"zerolinecolor\": \"white\"}}, \"shapedefaults\": {\"line\": {\"color\": \"#2a3f5f\"}}, \"ternary\": {\"aaxis\": {\"gridcolor\": \"white\", \"linecolor\": \"white\", \"ticks\": \"\"}, \"baxis\": {\"gridcolor\": \"white\", \"linecolor\": \"white\", \"ticks\": \"\"}, \"bgcolor\": \"#E5ECF6\", \"caxis\": {\"gridcolor\": \"white\", \"linecolor\": \"white\", \"ticks\": \"\"}}, \"title\": {\"x\": 0.05}, \"xaxis\": {\"automargin\": true, \"gridcolor\": \"white\", \"linecolor\": \"white\", \"ticks\": \"\", \"title\": {\"standoff\": 15}, \"zerolinecolor\": \"white\", \"zerolinewidth\": 2}, \"yaxis\": {\"automargin\": true, \"gridcolor\": \"white\", \"linecolor\": \"white\", \"ticks\": \"\", \"title\": {\"standoff\": 15}, \"zerolinecolor\": \"white\", \"zerolinewidth\": 2}}}, \"title\": {\"font\": {\"color\": \"#4D5663\"}, \"text\": \"On- and Off-the-run US Treasury Bonds with Zero or Fixed (and different) Coupon Rates\"}, \"xaxis\": {\"gridcolor\": \"#E1E5ED\", \"showgrid\": true, \"tickfont\": {\"color\": \"#4D5663\"}, \"title\": {\"font\": {\"color\": \"#4D5663\"}, \"text\": \"\"}, \"zerolinecolor\": \"#E1E5ED\"}, \"yaxis\": {\"gridcolor\": \"#E1E5ED\", \"showgrid\": true, \"tickfont\": {\"color\": \"#4D5663\"}, \"title\": {\"font\": {\"color\": \"#4D5663\"}, \"text\": \"\"}, \"zerolinecolor\": \"#E1E5ED\"}},                        {\"showLink\": true, \"linkText\": \"Export to chart-studio.plotly.com\", \"plotlyServerURL\": \"https://chart-studio.plotly.com\", \"responsive\": true}                    ).then(function(){\n",
       "                            \n",
       "var gd = document.getElementById('74198ca6-dc7c-433d-a04e-c39ccd7b7276');\n",
       "var x = new MutationObserver(function (mutations, observer) {{\n",
       "        var display = window.getComputedStyle(gd).display;\n",
       "        if (!display || display === 'none') {{\n",
       "            console.log([gd, 'removed!']);\n",
       "            Plotly.purge(gd);\n",
       "            observer.disconnect();\n",
       "        }}\n",
       "}});\n",
       "\n",
       "// Listen for the removal of the full notebook cells\n",
       "var notebookContainer = gd.closest('#notebook-container');\n",
       "if (notebookContainer) {{\n",
       "    x.observe(notebookContainer, {childList: true});\n",
       "}}\n",
       "\n",
       "// Listen for the clearing of the current output cell\n",
       "var outputEl = gd.closest('.output');\n",
       "if (outputEl) {{\n",
       "    x.observe(outputEl, {childList: true});\n",
       "}}\n",
       "\n",
       "                        })                };                });            </script>        </div>"
      ]
     },
     "metadata": {},
     "output_type": "display_data"
    }
   ],
   "source": [
    "off_on_df[[\"YTM implied by 2020-07-31 Price\", \"Spot Rates as of 2020-07-31\"]].iplot(\n",
    "    title=\"On- and Off-the-run US Treasury Bonds with Zero or Fixed (and different) Coupon Rates\")"
   ]
  },
  {
   "cell_type": "markdown",
   "id": "e27d893c-c414-424f-b8b6-59e6a299ab50",
   "metadata": {},
   "source": [
    "Let's make a function for it:"
   ]
  },
  {
   "cell_type": "code",
   "execution_count": 31,
   "id": "977612a4-f26a-473b-a797-b96526486210",
   "metadata": {
    "tags": []
   },
   "outputs": [],
   "source": [
    "def Get_dsws_spot_rates_from_df(bond_df, point_in_time, coupon_paying_freq=0.5, number_of_existing_sr=None):\n",
    "    \"\"\"Get_dsws_spot_rates_from_df(bond_df, point_in_time, coupon_paying_freq=0.5) Version 1.0\n",
    "    This Python function takes information from the bond_df pandas data-frame to compute Spot Rates.\n",
    "    The Dirty Price provided incorporates accrued interests of the next Coupon in the cash-flow. The Dirty Yield reflects that Dirty Price.\n",
    "\n",
    "    Dependencies\n",
    "    ----------\n",
    "\n",
    "    Python library 'pandas' version 1.2.4.\n",
    "    Python library 'DatastreamDSWS' authenticated in the object ' ds '.\n",
    "\n",
    "    Parameters\n",
    "    ----------\n",
    "\n",
    "    bond_df: Pandas data-frame\n",
    "        Pandas data-frame with a column named 'RDL' (Redemption Date - Last), 'DSCD' (Datastream Codes/Mnemonic), 'RV' (Redemption Value), 'C' (Coupon Rate), 'CTYP' (Coupon Type).\n",
    "\n",
    "    point_in_time: sting\n",
    "        Date from which calculations will be done; e.g.: YTM will be computed from prices on that date.\n",
    "\n",
    "    coupon_paying_freq: float or integer\n",
    "        The frequency of coupon payments per year; e.g.: Semi-annual/6-month coupon payments reflect in coupon_paying_freq=0.5.\n",
    "        Default: coupon_paying_freq=0.5\n",
    "\n",
    "    number_of_existing_sr: None or int\n",
    "        The number of spot rates already known.\n",
    "        E.g.: if the 1st three rows of ' bond_df ' are for Zero-Coupon-Bonds, then number_of_existing_sr should be se to 3.\n",
    "        If set to None, it will be equated to the number of rows with \"CTYP\" values set to \"ZERO\".\n",
    "        Default: number_of_existing_sr=None\n",
    "\n",
    "    Returns\n",
    "    -------\n",
    "\n",
    "    Pandas data-frame.\n",
    "    \"\"\"\n",
    "\n",
    "    # Get the number of Spot Rates already known if not provided\n",
    "    if number_of_existing_sr is None:\n",
    "        number_of_existing_sr = bond_df[\"CTYP\"].str.count('ZERO').sum()\n",
    "    # Arange the order of our data-frame's rows\n",
    "    bond_df.sort_values('RDL', inplace=True)\n",
    "    # Get price data from dsws\n",
    "    bond_df[f\"Price on {point_in_time}\"] = [\n",
    "        ds.get_data(start=point_in_time, end=point_in_time,\n",
    "                    fields=\"X\", freq='D',\n",
    "                    tickers=i).values[0][2]\n",
    "        for i in list(bond_df[\"DSCD\"])]\n",
    "\n",
    "    # Get YTM implied by the ' point_in_time ' date\n",
    "    bond_df[f\"YTM implied by {point_in_time} Price\"] = [\n",
    "        YTM_Solver(\n",
    "            fv=bond_df.iloc[i][\"RV\"],\n",
    "            c=bond_df.iloc[i][\"RV\"] * bond_df.iloc[i][\"C\"] / 100,\n",
    "            m=(round(2*((\n",
    "                datetime.strptime(bond_df.iloc[i][\"RDL\"], '%Y-%m-%d') -\n",
    "                datetime.strptime(point_in_time, '%Y-%m-%d')).days)/360)) / 2,\n",
    "            f_acf=0.5, error=False,\n",
    "            p=bond_df.iloc[i][f\"Price on {point_in_time}\"])\n",
    "        for i in range(len(bond_df))]\n",
    "\n",
    "    # Get Dirty Price as of ' point_in_time '\n",
    "    bond_df[f\"Dirty Price on {point_in_time}\"] = [\n",
    "        bond_df.iloc[i][f\"Price on {point_in_time}\"] +\n",
    "        ((bond_df.iloc[i][\"RV\"] * bond_df.iloc[i][\"C\"] / 100)*(1 - (\n",
    "            (((datetime.strptime(bond_df.iloc[i][\"RDL\"], '%Y-%m-%d') -\n",
    "               datetime.strptime(point_in_time, '%Y-%m-%d')).days)/360) % 1)))\n",
    "        for i in range(len(bond_df))]\n",
    "\n",
    "    # Get the number of Years left from ' point_in_time ' to maturity\n",
    "    bond_df[f\"Years from {point_in_time} to Maturity\"] = [\n",
    "        (round(2*((datetime.strptime(bond_df.iloc[i][\"RDL\"], '%Y-%m-%d') -\n",
    "                   datetime.strptime(point_in_time,\n",
    "                                     '%Y-%m-%d')).days)/360)) / 2\n",
    "        for i in range(len(bond_df))]\n",
    "\n",
    "    # Get the exact/Dirty number of Years left from ' point_in_time ' to maturity\n",
    "    bond_df[f\"Dirty Years from {point_in_time} to Maturity\"] = [\n",
    "        ((datetime.strptime(bond_df.iloc[i][\"RDL\"], '%Y-%m-%d') -\n",
    "          datetime.strptime(point_in_time, '%Y-%m-%d')).days)/360\n",
    "        for i in range(len(bond_df))]\n",
    "\n",
    "    # Get spot rates and add them to our ' bond_df '\n",
    "    spot_rates = [bond_df[\n",
    "        f\"YTM implied by {point_in_time} Price\"].iloc[i]\n",
    "                  for i in range(bond_df[\"CTYP\"].str.count('ZERO').sum())]\n",
    "    for i in range(len(spot_rates), len(bond_df)):\n",
    "        _sr = Spot_Rate_Last(\n",
    "            fv=bond_df.iloc[i][\"RV\"],\n",
    "            m=bond_df.iloc[i][f\"Years from {point_in_time} to Maturity\"],\n",
    "            c=bond_df.iloc[i][\"RV\"] * bond_df.iloc[i][\"C\"] / 100,\n",
    "            p=bond_df.iloc[i][f\"Price on {point_in_time}\"],\n",
    "            sr=spot_rates, f=coupon_paying_freq)\n",
    "        spot_rates.append(_sr)\n",
    "    bond_df[f\"Spot Rates as of {point_in_time}\"] = spot_rates\n",
    "    bond_df.index = bond_df[\"RDL\"]\n",
    "    bond_df.index.names = ['RD']\n",
    "\n",
    "    return bond_df"
   ]
  },
  {
   "cell_type": "code",
   "execution_count": 32,
   "id": "6a7c9b22-4b04-43aa-9650-fc768c548565",
   "metadata": {
    "tags": []
   },
   "outputs": [],
   "source": [
    "def Get_dsws_spot_rates(point_in_time, coupon_paying_freq=0.5, number_of_existing_sr=None,\n",
    "                        fields=[\"DSCD\", \"NAME\", \"ID\", \"TERM\", \"RV\", \"C\", \"CTYP\", \"RDL\"],\n",
    "                        instruments=[\"628GA1\", \"628GAL\", \"628GD0\", \"628GF5\", \"628GDZ\",  # These are on-the-run\n",
    "                                     \"610JPM\", '208PR9', \"218QH0\", \"233HJH\", \"247DLH\", \"610JRN\", \"233HJK\", \"247DLR\", \"610JR7\"]):  # These are off-the-run\n",
    "    \"\"\"Get_dsws_spot_rates(point_in_time, coupon_paying_freq=0.5, fields=[\"DSCD\", \"NAME\", \"ID\", \"TERM\", \"RV\", \"C\", \"CTYP\", \"RDL\"], instruments=[\"628GA1\", \"628GAL\", \"628GD0\", \"628GF5\", \"628GDZ\", \"610JPM\", '208PR9', \"218QH0\", \"233HJH\", \"247DLH\", \"610JRN\", \"233HJK\", \"247DLR\", \"610JR7\"]) Version 1.0\n",
    "    This Python function takes information from datastream to compute Spot Rates.\n",
    "\n",
    "    Dependencies\n",
    "    ----------\n",
    "\n",
    "    Python library 'pandas' version 1.2.4.\n",
    "    Python library 'DatastreamDSWS' authenticated in the object ' ds '.\n",
    "    The defined function ' Get_dsws_spot_rates_from_df '\n",
    "\n",
    "    Parameters\n",
    "    ----------\n",
    "\n",
    "    point_in_time: sting\n",
    "        Date from which calculations will be done; e.g.: YTM will be computed from prices on that date.\n",
    "\n",
    "    coupon_paying_freq: float or integer\n",
    "        The frequency of coupon payments per year; e.g.: Semi-annual/6-month coupon payments reflect in coupon_paying_freq=0.5.\n",
    "        Default: coupon_paying_freq=0.5\n",
    "\n",
    "    fields: list\n",
    "        Python list of strings of fields as per Datastream.\n",
    "        Default: fields=[\"DSCD\", \"NAME\", \"ID\", \"TERM\", \"RV\", \"C\", \"CTYP\", \"RDL\"]\n",
    "\n",
    "    instruments: list\n",
    "        Python list of strings of instruments' Datastream Codes/Mnemonic.\n",
    "        Default: instruments=[\"628GA1\", \"628GAL\", \"628GD0\", \"628GF5\", \"628GDZ\", \"610JPM\", '208PR9', \"218QH0\", \"233HJH\", \"247DLH\", \"610JRN\", \"233HJK\", \"247DLR\", \"610JR7\"]\n",
    "\n",
    "    Returns\n",
    "    -------\n",
    "\n",
    "    Pandas data-frame.\n",
    "    \"\"\"\n",
    "\n",
    "    global Get_dsws_spot_rates_from_df\n",
    "\n",
    "    _df = pandas.DataFrame()\n",
    "    for i in instruments:\n",
    "        __df = ds.get_data(tickers=i, kind=0, fields=fields)\n",
    "        _df = _df.append(pandas.DataFrame(\n",
    "            data=list(__df['Value'].values), index=fields).T)\n",
    "\n",
    "    return Get_dsws_spot_rates_from_df(bond_df=_df,\n",
    "                                       coupon_paying_freq=coupon_paying_freq,\n",
    "                                       number_of_existing_sr=number_of_existing_sr,\n",
    "                                       point_in_time=point_in_time)"
   ]
  },
  {
   "cell_type": "code",
   "execution_count": 33,
   "id": "5bf0ece0-e8ee-4645-9fdc-108d80eaee2e",
   "metadata": {
    "tags": []
   },
   "outputs": [
    {
     "data": {
      "text/html": [
       "<div>\n",
       "<style scoped>\n",
       "    .dataframe tbody tr th:only-of-type {\n",
       "        vertical-align: middle;\n",
       "    }\n",
       "\n",
       "    .dataframe tbody tr th {\n",
       "        vertical-align: top;\n",
       "    }\n",
       "\n",
       "    .dataframe thead th {\n",
       "        text-align: right;\n",
       "    }\n",
       "</style>\n",
       "<table border=\"1\" class=\"dataframe\">\n",
       "  <thead>\n",
       "    <tr style=\"text-align: right;\">\n",
       "      <th></th>\n",
       "      <th>DSCD</th>\n",
       "      <th>NAME</th>\n",
       "      <th>ID</th>\n",
       "      <th>TERM</th>\n",
       "      <th>RV</th>\n",
       "      <th>C</th>\n",
       "      <th>CTYP</th>\n",
       "      <th>RDL</th>\n",
       "    </tr>\n",
       "  </thead>\n",
       "  <tbody>\n",
       "    <tr>\n",
       "      <th>0</th>\n",
       "      <td>628GA1</td>\n",
       "      <td>UTD.STS OF AMERICA 2020 ZERO 01/07/21</td>\n",
       "      <td>2020-12-31</td>\n",
       "      <td>0.5</td>\n",
       "      <td>100</td>\n",
       "      <td>0</td>\n",
       "      <td>ZERO</td>\n",
       "      <td>2021-07-01</td>\n",
       "    </tr>\n",
       "    <tr>\n",
       "      <th>0</th>\n",
       "      <td>628GAL</td>\n",
       "      <td>UTD.STS OF AMERICA 2020 ZERO 30/12/21</td>\n",
       "      <td>2020-12-31</td>\n",
       "      <td>1</td>\n",
       "      <td>100</td>\n",
       "      <td>0</td>\n",
       "      <td>ZERO</td>\n",
       "      <td>2021-12-30</td>\n",
       "    </tr>\n",
       "    <tr>\n",
       "      <th>0</th>\n",
       "      <td>628GD0</td>\n",
       "      <td>US TREASURY NOTE 2020 1/8% 31/12/22 BL-2022</td>\n",
       "      <td>2020-12-31</td>\n",
       "      <td>2</td>\n",
       "      <td>100</td>\n",
       "      <td>0.125</td>\n",
       "      <td>FIX</td>\n",
       "      <td>2022-12-31</td>\n",
       "    </tr>\n",
       "    <tr>\n",
       "      <th>0</th>\n",
       "      <td>628GF5</td>\n",
       "      <td>US TREASURY NOTE 2020 3/8% 31/12/25 AH-2025</td>\n",
       "      <td>2020-12-31</td>\n",
       "      <td>5</td>\n",
       "      <td>100</td>\n",
       "      <td>0.375</td>\n",
       "      <td>FIX</td>\n",
       "      <td>2025-12-31</td>\n",
       "    </tr>\n",
       "    <tr>\n",
       "      <th>0</th>\n",
       "      <td>628GDZ</td>\n",
       "      <td>US TREASURY NOTE 2020 5/8% 31/12/27 T-2027</td>\n",
       "      <td>2020-12-31</td>\n",
       "      <td>7</td>\n",
       "      <td>100</td>\n",
       "      <td>0.625</td>\n",
       "      <td>FIX</td>\n",
       "      <td>2027-12-31</td>\n",
       "    </tr>\n",
       "    <tr>\n",
       "      <th>0</th>\n",
       "      <td>610JPM</td>\n",
       "      <td>US TREASURY NOTE 2020 1/8% 30/06/22 BC-2022</td>\n",
       "      <td>2020-06-30</td>\n",
       "      <td>2</td>\n",
       "      <td>100</td>\n",
       "      <td>0.125</td>\n",
       "      <td>FIX</td>\n",
       "      <td>2022-06-30</td>\n",
       "    </tr>\n",
       "    <tr>\n",
       "      <th>0</th>\n",
       "      <td>208PR9</td>\n",
       "      <td>US TREASURY NOTE 2018 2 5/8% 30/06/23 AA-2023</td>\n",
       "      <td>2018-06-30</td>\n",
       "      <td>5</td>\n",
       "      <td>100</td>\n",
       "      <td>2.625</td>\n",
       "      <td>FIX</td>\n",
       "      <td>2023-06-30</td>\n",
       "    </tr>\n",
       "    <tr>\n",
       "      <th>0</th>\n",
       "      <td>218QH0</td>\n",
       "      <td>US TREASURY NOTE 2018 2 5/8% 31/12/23 AG-2023</td>\n",
       "      <td>2018-12-31</td>\n",
       "      <td>5</td>\n",
       "      <td>100</td>\n",
       "      <td>2.625</td>\n",
       "      <td>FIX</td>\n",
       "      <td>2023-12-31</td>\n",
       "    </tr>\n",
       "    <tr>\n",
       "      <th>0</th>\n",
       "      <td>233HJH</td>\n",
       "      <td>US TREASURY NOTE 2019 1 3/4% 30/06/24 AA-2024</td>\n",
       "      <td>2019-06-30</td>\n",
       "      <td>5</td>\n",
       "      <td>100</td>\n",
       "      <td>1.75</td>\n",
       "      <td>FIX</td>\n",
       "      <td>2024-06-30</td>\n",
       "    </tr>\n",
       "    <tr>\n",
       "      <th>0</th>\n",
       "      <td>247DLH</td>\n",
       "      <td>US TREASURY NOTE 2019 1 3/4% 31/12/24 AH-2024</td>\n",
       "      <td>2019-12-31</td>\n",
       "      <td>5</td>\n",
       "      <td>100</td>\n",
       "      <td>1.75</td>\n",
       "      <td>FIX</td>\n",
       "      <td>2024-12-31</td>\n",
       "    </tr>\n",
       "    <tr>\n",
       "      <th>0</th>\n",
       "      <td>610JRN</td>\n",
       "      <td>US TREASURY NOTE 2020 1/4% 30/06/25 AA-2025</td>\n",
       "      <td>2020-06-30</td>\n",
       "      <td>5</td>\n",
       "      <td>100</td>\n",
       "      <td>0.25</td>\n",
       "      <td>FIX</td>\n",
       "      <td>2025-06-30</td>\n",
       "    </tr>\n",
       "    <tr>\n",
       "      <th>0</th>\n",
       "      <td>233HJK</td>\n",
       "      <td>US TREASURY NOTE 2019 1 7/8% 30/06/26 M-2026</td>\n",
       "      <td>2019-06-30</td>\n",
       "      <td>7</td>\n",
       "      <td>100</td>\n",
       "      <td>1.875</td>\n",
       "      <td>FIX</td>\n",
       "      <td>2026-06-30</td>\n",
       "    </tr>\n",
       "    <tr>\n",
       "      <th>0</th>\n",
       "      <td>247DLR</td>\n",
       "      <td>US TREASURY NOTE 2019 1 3/4% 31/12/26 T-2026</td>\n",
       "      <td>2019-12-31</td>\n",
       "      <td>7</td>\n",
       "      <td>100</td>\n",
       "      <td>1.75</td>\n",
       "      <td>FIX</td>\n",
       "      <td>2026-12-31</td>\n",
       "    </tr>\n",
       "    <tr>\n",
       "      <th>0</th>\n",
       "      <td>610JR7</td>\n",
       "      <td>US TREASURY NOTE 2020 1/2% 30/06/27 M-2027</td>\n",
       "      <td>2020-06-30</td>\n",
       "      <td>7</td>\n",
       "      <td>100</td>\n",
       "      <td>0.5</td>\n",
       "      <td>FIX</td>\n",
       "      <td>2027-06-30</td>\n",
       "    </tr>\n",
       "  </tbody>\n",
       "</table>\n",
       "</div>"
      ],
      "text/plain": [
       "     DSCD                                           NAME          ID TERM  \\\n",
       "0  628GA1          UTD.STS OF AMERICA 2020 ZERO 01/07/21  2020-12-31  0.5   \n",
       "0  628GAL          UTD.STS OF AMERICA 2020 ZERO 30/12/21  2020-12-31    1   \n",
       "0  628GD0    US TREASURY NOTE 2020 1/8% 31/12/22 BL-2022  2020-12-31    2   \n",
       "0  628GF5    US TREASURY NOTE 2020 3/8% 31/12/25 AH-2025  2020-12-31    5   \n",
       "0  628GDZ     US TREASURY NOTE 2020 5/8% 31/12/27 T-2027  2020-12-31    7   \n",
       "0  610JPM    US TREASURY NOTE 2020 1/8% 30/06/22 BC-2022  2020-06-30    2   \n",
       "0  208PR9  US TREASURY NOTE 2018 2 5/8% 30/06/23 AA-2023  2018-06-30    5   \n",
       "0  218QH0  US TREASURY NOTE 2018 2 5/8% 31/12/23 AG-2023  2018-12-31    5   \n",
       "0  233HJH  US TREASURY NOTE 2019 1 3/4% 30/06/24 AA-2024  2019-06-30    5   \n",
       "0  247DLH  US TREASURY NOTE 2019 1 3/4% 31/12/24 AH-2024  2019-12-31    5   \n",
       "0  610JRN    US TREASURY NOTE 2020 1/4% 30/06/25 AA-2025  2020-06-30    5   \n",
       "0  233HJK   US TREASURY NOTE 2019 1 7/8% 30/06/26 M-2026  2019-06-30    7   \n",
       "0  247DLR   US TREASURY NOTE 2019 1 3/4% 31/12/26 T-2026  2019-12-31    7   \n",
       "0  610JR7     US TREASURY NOTE 2020 1/2% 30/06/27 M-2027  2020-06-30    7   \n",
       "\n",
       "    RV      C  CTYP         RDL  \n",
       "0  100      0  ZERO  2021-07-01  \n",
       "0  100      0  ZERO  2021-12-30  \n",
       "0  100  0.125   FIX  2022-12-31  \n",
       "0  100  0.375   FIX  2025-12-31  \n",
       "0  100  0.625   FIX  2027-12-31  \n",
       "0  100  0.125   FIX  2022-06-30  \n",
       "0  100  2.625   FIX  2023-06-30  \n",
       "0  100  2.625   FIX  2023-12-31  \n",
       "0  100   1.75   FIX  2024-06-30  \n",
       "0  100   1.75   FIX  2024-12-31  \n",
       "0  100   0.25   FIX  2025-06-30  \n",
       "0  100  1.875   FIX  2026-06-30  \n",
       "0  100   1.75   FIX  2026-12-31  \n",
       "0  100    0.5   FIX  2027-06-30  "
      ]
     },
     "execution_count": 33,
     "metadata": {},
     "output_type": "execute_result"
    }
   ],
   "source": [
    "instruments = [\"628GA1\", \"628GAL\", \"628GD0\", \"628GF5\", \"628GDZ\", \"610JPM\", '208PR9', \"218QH0\", \"233HJH\", \"247DLH\", \"610JRN\", \"233HJK\", \"247DLR\", \"610JR7\"]\n",
    "fields = [\"DSCD\", \"NAME\", \"ID\", \"TERM\", \"RV\", \"C\", \"CTYP\", \"RDL\"]\n",
    "_df = pandas.DataFrame()\n",
    "for i in instruments:\n",
    "    __df = ds.get_data(tickers=i, kind=0, fields=fields)\n",
    "    _df = _df.append(pandas.DataFrame(\n",
    "        data=list(__df['Value'].values), index=fields).T)\n",
    "_df"
   ]
  },
  {
   "cell_type": "code",
   "execution_count": 34,
   "id": "76a0d47d-fd40-43d8-9630-bb7823318bf2",
   "metadata": {
    "tags": []
   },
   "outputs": [
    {
     "data": {
      "text/html": [
       "<div>\n",
       "<style scoped>\n",
       "    .dataframe tbody tr th:only-of-type {\n",
       "        vertical-align: middle;\n",
       "    }\n",
       "\n",
       "    .dataframe tbody tr th {\n",
       "        vertical-align: top;\n",
       "    }\n",
       "\n",
       "    .dataframe thead th {\n",
       "        text-align: right;\n",
       "    }\n",
       "</style>\n",
       "<table border=\"1\" class=\"dataframe\">\n",
       "  <thead>\n",
       "    <tr style=\"text-align: right;\">\n",
       "      <th></th>\n",
       "      <th>DSCD</th>\n",
       "      <th>NAME</th>\n",
       "      <th>ID</th>\n",
       "      <th>TERM</th>\n",
       "      <th>RV</th>\n",
       "      <th>C</th>\n",
       "      <th>CTYP</th>\n",
       "      <th>RDL</th>\n",
       "      <th>Price on 2020-12-31</th>\n",
       "      <th>YTM implied by 2020-12-31 Price</th>\n",
       "      <th>Dirty Price on 2020-12-31</th>\n",
       "      <th>Years from 2020-12-31 to Maturity</th>\n",
       "      <th>Dirty Years from 2020-12-31 to Maturity</th>\n",
       "      <th>Spot Rates as of 2020-12-31</th>\n",
       "    </tr>\n",
       "    <tr>\n",
       "      <th>RD</th>\n",
       "      <th></th>\n",
       "      <th></th>\n",
       "      <th></th>\n",
       "      <th></th>\n",
       "      <th></th>\n",
       "      <th></th>\n",
       "      <th></th>\n",
       "      <th></th>\n",
       "      <th></th>\n",
       "      <th></th>\n",
       "      <th></th>\n",
       "      <th></th>\n",
       "      <th></th>\n",
       "      <th></th>\n",
       "    </tr>\n",
       "  </thead>\n",
       "  <tbody>\n",
       "    <tr>\n",
       "      <th>2021-07-01</th>\n",
       "      <td>628GA1</td>\n",
       "      <td>UTD.STS OF AMERICA 2020 ZERO 01/07/21</td>\n",
       "      <td>2020-12-31</td>\n",
       "      <td>0.5</td>\n",
       "      <td>100</td>\n",
       "      <td>0</td>\n",
       "      <td>ZERO</td>\n",
       "      <td>2021-07-01</td>\n",
       "      <td>99.9555</td>\n",
       "      <td>0.000890</td>\n",
       "      <td>99.955500</td>\n",
       "      <td>0.5</td>\n",
       "      <td>0.505556</td>\n",
       "      <td>0.000890</td>\n",
       "    </tr>\n",
       "    <tr>\n",
       "      <th>2021-12-30</th>\n",
       "      <td>628GAL</td>\n",
       "      <td>UTD.STS OF AMERICA 2020 ZERO 30/12/21</td>\n",
       "      <td>2020-12-31</td>\n",
       "      <td>1</td>\n",
       "      <td>100</td>\n",
       "      <td>0</td>\n",
       "      <td>ZERO</td>\n",
       "      <td>2021-12-30</td>\n",
       "      <td>99.8900</td>\n",
       "      <td>0.001101</td>\n",
       "      <td>99.890000</td>\n",
       "      <td>1.0</td>\n",
       "      <td>1.011111</td>\n",
       "      <td>0.001101</td>\n",
       "    </tr>\n",
       "    <tr>\n",
       "      <th>2022-06-30</th>\n",
       "      <td>610JPM</td>\n",
       "      <td>US TREASURY NOTE 2020 1/8% 30/06/22 BC-2022</td>\n",
       "      <td>2020-06-30</td>\n",
       "      <td>2</td>\n",
       "      <td>100</td>\n",
       "      <td>0.125</td>\n",
       "      <td>FIX</td>\n",
       "      <td>2022-06-30</td>\n",
       "      <td>100.0156</td>\n",
       "      <td>0.001146</td>\n",
       "      <td>100.076017</td>\n",
       "      <td>1.5</td>\n",
       "      <td>1.516667</td>\n",
       "      <td>0.001146</td>\n",
       "    </tr>\n",
       "    <tr>\n",
       "      <th>2022-12-31</th>\n",
       "      <td>628GD0</td>\n",
       "      <td>US TREASURY NOTE 2020 1/8% 31/12/22 BL-2022</td>\n",
       "      <td>2020-12-31</td>\n",
       "      <td>2</td>\n",
       "      <td>100</td>\n",
       "      <td>0.125</td>\n",
       "      <td>FIX</td>\n",
       "      <td>2022-12-31</td>\n",
       "      <td>100.0000</td>\n",
       "      <td>0.001250</td>\n",
       "      <td>100.121528</td>\n",
       "      <td>2.0</td>\n",
       "      <td>2.027778</td>\n",
       "      <td>0.001250</td>\n",
       "    </tr>\n",
       "    <tr>\n",
       "      <th>2023-06-30</th>\n",
       "      <td>208PR9</td>\n",
       "      <td>US TREASURY NOTE 2018 2 5/8% 30/06/23 AA-2023</td>\n",
       "      <td>2018-06-30</td>\n",
       "      <td>5</td>\n",
       "      <td>100</td>\n",
       "      <td>2.625</td>\n",
       "      <td>FIX</td>\n",
       "      <td>2023-06-30</td>\n",
       "      <td>106.1563</td>\n",
       "      <td>0.001567</td>\n",
       "      <td>107.388592</td>\n",
       "      <td>2.5</td>\n",
       "      <td>2.530556</td>\n",
       "      <td>0.001578</td>\n",
       "    </tr>\n",
       "    <tr>\n",
       "      <th>2023-12-31</th>\n",
       "      <td>218QH0</td>\n",
       "      <td>US TREASURY NOTE 2018 2 5/8% 31/12/23 AG-2023</td>\n",
       "      <td>2018-12-31</td>\n",
       "      <td>5</td>\n",
       "      <td>100</td>\n",
       "      <td>2.625</td>\n",
       "      <td>FIX</td>\n",
       "      <td>2023-12-31</td>\n",
       "      <td>107.3203</td>\n",
       "      <td>0.001773</td>\n",
       "      <td>109.835925</td>\n",
       "      <td>3.0</td>\n",
       "      <td>3.041667</td>\n",
       "      <td>0.001789</td>\n",
       "    </tr>\n",
       "    <tr>\n",
       "      <th>2024-06-30</th>\n",
       "      <td>233HJH</td>\n",
       "      <td>US TREASURY NOTE 2019 1 3/4% 30/06/24 AA-2024</td>\n",
       "      <td>2019-06-30</td>\n",
       "      <td>5</td>\n",
       "      <td>100</td>\n",
       "      <td>1.75</td>\n",
       "      <td>FIX</td>\n",
       "      <td>2024-06-30</td>\n",
       "      <td>105.3516</td>\n",
       "      <td>0.002144</td>\n",
       "      <td>106.143961</td>\n",
       "      <td>3.5</td>\n",
       "      <td>3.547222</td>\n",
       "      <td>0.002163</td>\n",
       "    </tr>\n",
       "    <tr>\n",
       "      <th>2024-12-31</th>\n",
       "      <td>247DLH</td>\n",
       "      <td>US TREASURY NOTE 2019 1 3/4% 31/12/24 AH-2024</td>\n",
       "      <td>2019-12-31</td>\n",
       "      <td>5</td>\n",
       "      <td>100</td>\n",
       "      <td>1.75</td>\n",
       "      <td>FIX</td>\n",
       "      <td>2024-12-31</td>\n",
       "      <td>105.9141</td>\n",
       "      <td>0.002627</td>\n",
       "      <td>107.562017</td>\n",
       "      <td>4.0</td>\n",
       "      <td>4.058333</td>\n",
       "      <td>0.002658</td>\n",
       "    </tr>\n",
       "    <tr>\n",
       "      <th>2025-06-30</th>\n",
       "      <td>610JRN</td>\n",
       "      <td>US TREASURY NOTE 2020 1/4% 30/06/25 AA-2025</td>\n",
       "      <td>2020-06-30</td>\n",
       "      <td>5</td>\n",
       "      <td>100</td>\n",
       "      <td>0.25</td>\n",
       "      <td>FIX</td>\n",
       "      <td>2025-06-30</td>\n",
       "      <td>99.7265</td>\n",
       "      <td>0.003113</td>\n",
       "      <td>99.836222</td>\n",
       "      <td>4.5</td>\n",
       "      <td>4.561111</td>\n",
       "      <td>0.003119</td>\n",
       "    </tr>\n",
       "    <tr>\n",
       "      <th>2025-12-31</th>\n",
       "      <td>628GF5</td>\n",
       "      <td>US TREASURY NOTE 2020 3/8% 31/12/25 AH-2025</td>\n",
       "      <td>2020-12-31</td>\n",
       "      <td>5</td>\n",
       "      <td>100</td>\n",
       "      <td>0.375</td>\n",
       "      <td>FIX</td>\n",
       "      <td>2025-12-31</td>\n",
       "      <td>100.0703</td>\n",
       "      <td>0.003608</td>\n",
       "      <td>100.418217</td>\n",
       "      <td>5.0</td>\n",
       "      <td>5.072222</td>\n",
       "      <td>0.003621</td>\n",
       "    </tr>\n",
       "    <tr>\n",
       "      <th>2026-06-30</th>\n",
       "      <td>233HJK</td>\n",
       "      <td>US TREASURY NOTE 2019 1 7/8% 30/06/26 M-2026</td>\n",
       "      <td>2019-06-30</td>\n",
       "      <td>7</td>\n",
       "      <td>100</td>\n",
       "      <td>1.875</td>\n",
       "      <td>FIX</td>\n",
       "      <td>2026-06-30</td>\n",
       "      <td>107.8750</td>\n",
       "      <td>0.004249</td>\n",
       "      <td>108.671875</td>\n",
       "      <td>5.5</td>\n",
       "      <td>5.575000</td>\n",
       "      <td>0.004337</td>\n",
       "    </tr>\n",
       "    <tr>\n",
       "      <th>2026-12-31</th>\n",
       "      <td>247DLR</td>\n",
       "      <td>US TREASURY NOTE 2019 1 3/4% 31/12/26 T-2026</td>\n",
       "      <td>2019-12-31</td>\n",
       "      <td>7</td>\n",
       "      <td>100</td>\n",
       "      <td>1.75</td>\n",
       "      <td>FIX</td>\n",
       "      <td>2026-12-31</td>\n",
       "      <td>107.4141</td>\n",
       "      <td>0.004944</td>\n",
       "      <td>109.013406</td>\n",
       "      <td>6.0</td>\n",
       "      <td>6.086111</td>\n",
       "      <td>0.005053</td>\n",
       "    </tr>\n",
       "    <tr>\n",
       "      <th>2027-06-30</th>\n",
       "      <td>610JR7</td>\n",
       "      <td>US TREASURY NOTE 2020 1/2% 30/06/27 M-2027</td>\n",
       "      <td>2020-06-30</td>\n",
       "      <td>7</td>\n",
       "      <td>100</td>\n",
       "      <td>0.5</td>\n",
       "      <td>FIX</td>\n",
       "      <td>2027-06-30</td>\n",
       "      <td>99.5313</td>\n",
       "      <td>0.005736</td>\n",
       "      <td>99.736856</td>\n",
       "      <td>6.5</td>\n",
       "      <td>6.588889</td>\n",
       "      <td>0.005777</td>\n",
       "    </tr>\n",
       "    <tr>\n",
       "      <th>2027-12-31</th>\n",
       "      <td>628GDZ</td>\n",
       "      <td>US TREASURY NOTE 2020 5/8% 31/12/27 T-2027</td>\n",
       "      <td>2020-12-31</td>\n",
       "      <td>7</td>\n",
       "      <td>100</td>\n",
       "      <td>0.625</td>\n",
       "      <td>FIX</td>\n",
       "      <td>2027-12-31</td>\n",
       "      <td>99.8438</td>\n",
       "      <td>0.006479</td>\n",
       "      <td>100.406300</td>\n",
       "      <td>7.0</td>\n",
       "      <td>7.100000</td>\n",
       "      <td>0.006542</td>\n",
       "    </tr>\n",
       "  </tbody>\n",
       "</table>\n",
       "</div>"
      ],
      "text/plain": [
       "              DSCD                                           NAME          ID  \\\n",
       "RD                                                                              \n",
       "2021-07-01  628GA1          UTD.STS OF AMERICA 2020 ZERO 01/07/21  2020-12-31   \n",
       "2021-12-30  628GAL          UTD.STS OF AMERICA 2020 ZERO 30/12/21  2020-12-31   \n",
       "2022-06-30  610JPM    US TREASURY NOTE 2020 1/8% 30/06/22 BC-2022  2020-06-30   \n",
       "2022-12-31  628GD0    US TREASURY NOTE 2020 1/8% 31/12/22 BL-2022  2020-12-31   \n",
       "2023-06-30  208PR9  US TREASURY NOTE 2018 2 5/8% 30/06/23 AA-2023  2018-06-30   \n",
       "2023-12-31  218QH0  US TREASURY NOTE 2018 2 5/8% 31/12/23 AG-2023  2018-12-31   \n",
       "2024-06-30  233HJH  US TREASURY NOTE 2019 1 3/4% 30/06/24 AA-2024  2019-06-30   \n",
       "2024-12-31  247DLH  US TREASURY NOTE 2019 1 3/4% 31/12/24 AH-2024  2019-12-31   \n",
       "2025-06-30  610JRN    US TREASURY NOTE 2020 1/4% 30/06/25 AA-2025  2020-06-30   \n",
       "2025-12-31  628GF5    US TREASURY NOTE 2020 3/8% 31/12/25 AH-2025  2020-12-31   \n",
       "2026-06-30  233HJK   US TREASURY NOTE 2019 1 7/8% 30/06/26 M-2026  2019-06-30   \n",
       "2026-12-31  247DLR   US TREASURY NOTE 2019 1 3/4% 31/12/26 T-2026  2019-12-31   \n",
       "2027-06-30  610JR7     US TREASURY NOTE 2020 1/2% 30/06/27 M-2027  2020-06-30   \n",
       "2027-12-31  628GDZ     US TREASURY NOTE 2020 5/8% 31/12/27 T-2027  2020-12-31   \n",
       "\n",
       "           TERM   RV      C  CTYP         RDL  Price on 2020-12-31  \\\n",
       "RD                                                                   \n",
       "2021-07-01  0.5  100      0  ZERO  2021-07-01              99.9555   \n",
       "2021-12-30    1  100      0  ZERO  2021-12-30              99.8900   \n",
       "2022-06-30    2  100  0.125   FIX  2022-06-30             100.0156   \n",
       "2022-12-31    2  100  0.125   FIX  2022-12-31             100.0000   \n",
       "2023-06-30    5  100  2.625   FIX  2023-06-30             106.1563   \n",
       "2023-12-31    5  100  2.625   FIX  2023-12-31             107.3203   \n",
       "2024-06-30    5  100   1.75   FIX  2024-06-30             105.3516   \n",
       "2024-12-31    5  100   1.75   FIX  2024-12-31             105.9141   \n",
       "2025-06-30    5  100   0.25   FIX  2025-06-30              99.7265   \n",
       "2025-12-31    5  100  0.375   FIX  2025-12-31             100.0703   \n",
       "2026-06-30    7  100  1.875   FIX  2026-06-30             107.8750   \n",
       "2026-12-31    7  100   1.75   FIX  2026-12-31             107.4141   \n",
       "2027-06-30    7  100    0.5   FIX  2027-06-30              99.5313   \n",
       "2027-12-31    7  100  0.625   FIX  2027-12-31              99.8438   \n",
       "\n",
       "            YTM implied by 2020-12-31 Price  Dirty Price on 2020-12-31  \\\n",
       "RD                                                                       \n",
       "2021-07-01                         0.000890                  99.955500   \n",
       "2021-12-30                         0.001101                  99.890000   \n",
       "2022-06-30                         0.001146                 100.076017   \n",
       "2022-12-31                         0.001250                 100.121528   \n",
       "2023-06-30                         0.001567                 107.388592   \n",
       "2023-12-31                         0.001773                 109.835925   \n",
       "2024-06-30                         0.002144                 106.143961   \n",
       "2024-12-31                         0.002627                 107.562017   \n",
       "2025-06-30                         0.003113                  99.836222   \n",
       "2025-12-31                         0.003608                 100.418217   \n",
       "2026-06-30                         0.004249                 108.671875   \n",
       "2026-12-31                         0.004944                 109.013406   \n",
       "2027-06-30                         0.005736                  99.736856   \n",
       "2027-12-31                         0.006479                 100.406300   \n",
       "\n",
       "            Years from 2020-12-31 to Maturity  \\\n",
       "RD                                              \n",
       "2021-07-01                                0.5   \n",
       "2021-12-30                                1.0   \n",
       "2022-06-30                                1.5   \n",
       "2022-12-31                                2.0   \n",
       "2023-06-30                                2.5   \n",
       "2023-12-31                                3.0   \n",
       "2024-06-30                                3.5   \n",
       "2024-12-31                                4.0   \n",
       "2025-06-30                                4.5   \n",
       "2025-12-31                                5.0   \n",
       "2026-06-30                                5.5   \n",
       "2026-12-31                                6.0   \n",
       "2027-06-30                                6.5   \n",
       "2027-12-31                                7.0   \n",
       "\n",
       "            Dirty Years from 2020-12-31 to Maturity  \\\n",
       "RD                                                    \n",
       "2021-07-01                                 0.505556   \n",
       "2021-12-30                                 1.011111   \n",
       "2022-06-30                                 1.516667   \n",
       "2022-12-31                                 2.027778   \n",
       "2023-06-30                                 2.530556   \n",
       "2023-12-31                                 3.041667   \n",
       "2024-06-30                                 3.547222   \n",
       "2024-12-31                                 4.058333   \n",
       "2025-06-30                                 4.561111   \n",
       "2025-12-31                                 5.072222   \n",
       "2026-06-30                                 5.575000   \n",
       "2026-12-31                                 6.086111   \n",
       "2027-06-30                                 6.588889   \n",
       "2027-12-31                                 7.100000   \n",
       "\n",
       "            Spot Rates as of 2020-12-31  \n",
       "RD                                       \n",
       "2021-07-01                     0.000890  \n",
       "2021-12-30                     0.001101  \n",
       "2022-06-30                     0.001146  \n",
       "2022-12-31                     0.001250  \n",
       "2023-06-30                     0.001578  \n",
       "2023-12-31                     0.001789  \n",
       "2024-06-30                     0.002163  \n",
       "2024-12-31                     0.002658  \n",
       "2025-06-30                     0.003119  \n",
       "2025-12-31                     0.003621  \n",
       "2026-06-30                     0.004337  \n",
       "2026-12-31                     0.005053  \n",
       "2027-06-30                     0.005777  \n",
       "2027-12-31                     0.006542  "
      ]
     },
     "execution_count": 34,
     "metadata": {},
     "output_type": "execute_result"
    }
   ],
   "source": [
    "on_off_df_as_of_2020_12_31 = Get_dsws_spot_rates(\n",
    "    point_in_time=\"2020-12-31\", coupon_paying_freq=0.5,\n",
    "    instruments=[\"628GA1\", \"628GAL\", \"628GD0\", \"628GF5\", \"628GDZ\",  # These are on-the-run\n",
    "                 \"610JPM\", '208PR9', \"218QH0\", \"233HJH\", \"247DLH\", \"610JRN\",\n",
    "                 \"233HJK\", \"247DLR\", \"610JR7\"])\n",
    "on_off_df_as_of_2020_12_31"
   ]
  },
  {
   "cell_type": "code",
   "execution_count": 35,
   "id": "58304702-d53d-438b-9e3b-904cf1f8e3dd",
   "metadata": {
    "tags": []
   },
   "outputs": [
    {
     "data": {
      "application/vnd.plotly.v1+json": {
       "config": {
        "linkText": "Export to chart-studio.plotly.com",
        "plotlyServerURL": "https://chart-studio.plotly.com",
        "showLink": true
       },
       "data": [
        {
         "line": {
          "color": "rgba(255, 153, 51, 1.0)",
          "dash": "solid",
          "shape": "linear",
          "width": 1.3
         },
         "mode": "lines",
         "name": "YTM implied by 2020-12-31 Price",
         "text": "",
         "type": "scatter",
         "x": [
          "2021-07-01",
          "2021-12-30",
          "2022-06-30",
          "2022-12-31",
          "2023-06-30",
          "2023-12-31",
          "2024-06-30",
          "2024-12-31",
          "2025-06-30",
          "2025-12-31",
          "2026-06-30",
          "2026-12-31",
          "2027-06-30",
          "2027-12-31"
         ],
         "y": [
          0.0008903962263206008,
          0.001100908332676687,
          0.001145880805643877,
          0.0012500000000006445,
          0.0015668922307084116,
          0.0017732242990370214,
          0.0021440769315441356,
          0.002627217009536553,
          0.0031125168798879065,
          0.0036080011947972786,
          0.0042486729078597355,
          0.004943729333700231,
          0.005735635247811526,
          0.006478602044609197
         ]
        },
        {
         "line": {
          "color": "rgba(55, 128, 191, 1.0)",
          "dash": "solid",
          "shape": "linear",
          "width": 1.3
         },
         "mode": "lines",
         "name": "Spot Rates as of 2020-12-31",
         "text": "",
         "type": "scatter",
         "x": [
          "2021-07-01",
          "2021-12-30",
          "2022-06-30",
          "2022-12-31",
          "2023-06-30",
          "2023-12-31",
          "2024-06-30",
          "2024-12-31",
          "2025-06-30",
          "2025-12-31",
          "2026-06-30",
          "2026-12-31",
          "2027-06-30",
          "2027-12-31"
         ],
         "y": [
          0.0008903962263206008,
          0.001100908332676687,
          0.0011459528043138434,
          0.0012501516711567184,
          0.00157763756548146,
          0.0017887743392046573,
          0.0021625897723867027,
          0.0026580653325281034,
          0.0031188817517566747,
          0.0036208190871303003,
          0.0043367874461281986,
          0.00505254507768127,
          0.005776518754368354,
          0.006541635089218456
         ]
        }
       ],
       "layout": {
        "autosize": true,
        "legend": {
         "bgcolor": "#F5F6F9",
         "font": {
          "color": "#4D5663"
         }
        },
        "paper_bgcolor": "#F5F6F9",
        "plot_bgcolor": "#F5F6F9",
        "template": {
         "data": {
          "bar": [
           {
            "error_x": {
             "color": "#2a3f5f"
            },
            "error_y": {
             "color": "#2a3f5f"
            },
            "marker": {
             "line": {
              "color": "#E5ECF6",
              "width": 0.5
             }
            },
            "type": "bar"
           }
          ],
          "barpolar": [
           {
            "marker": {
             "line": {
              "color": "#E5ECF6",
              "width": 0.5
             }
            },
            "type": "barpolar"
           }
          ],
          "carpet": [
           {
            "aaxis": {
             "endlinecolor": "#2a3f5f",
             "gridcolor": "white",
             "linecolor": "white",
             "minorgridcolor": "white",
             "startlinecolor": "#2a3f5f"
            },
            "baxis": {
             "endlinecolor": "#2a3f5f",
             "gridcolor": "white",
             "linecolor": "white",
             "minorgridcolor": "white",
             "startlinecolor": "#2a3f5f"
            },
            "type": "carpet"
           }
          ],
          "choropleth": [
           {
            "colorbar": {
             "outlinewidth": 0,
             "ticks": ""
            },
            "type": "choropleth"
           }
          ],
          "contour": [
           {
            "colorbar": {
             "outlinewidth": 0,
             "ticks": ""
            },
            "colorscale": [
             [
              0,
              "#0d0887"
             ],
             [
              0.1111111111111111,
              "#46039f"
             ],
             [
              0.2222222222222222,
              "#7201a8"
             ],
             [
              0.3333333333333333,
              "#9c179e"
             ],
             [
              0.4444444444444444,
              "#bd3786"
             ],
             [
              0.5555555555555556,
              "#d8576b"
             ],
             [
              0.6666666666666666,
              "#ed7953"
             ],
             [
              0.7777777777777778,
              "#fb9f3a"
             ],
             [
              0.8888888888888888,
              "#fdca26"
             ],
             [
              1,
              "#f0f921"
             ]
            ],
            "type": "contour"
           }
          ],
          "contourcarpet": [
           {
            "colorbar": {
             "outlinewidth": 0,
             "ticks": ""
            },
            "type": "contourcarpet"
           }
          ],
          "heatmap": [
           {
            "colorbar": {
             "outlinewidth": 0,
             "ticks": ""
            },
            "colorscale": [
             [
              0,
              "#0d0887"
             ],
             [
              0.1111111111111111,
              "#46039f"
             ],
             [
              0.2222222222222222,
              "#7201a8"
             ],
             [
              0.3333333333333333,
              "#9c179e"
             ],
             [
              0.4444444444444444,
              "#bd3786"
             ],
             [
              0.5555555555555556,
              "#d8576b"
             ],
             [
              0.6666666666666666,
              "#ed7953"
             ],
             [
              0.7777777777777778,
              "#fb9f3a"
             ],
             [
              0.8888888888888888,
              "#fdca26"
             ],
             [
              1,
              "#f0f921"
             ]
            ],
            "type": "heatmap"
           }
          ],
          "heatmapgl": [
           {
            "colorbar": {
             "outlinewidth": 0,
             "ticks": ""
            },
            "colorscale": [
             [
              0,
              "#0d0887"
             ],
             [
              0.1111111111111111,
              "#46039f"
             ],
             [
              0.2222222222222222,
              "#7201a8"
             ],
             [
              0.3333333333333333,
              "#9c179e"
             ],
             [
              0.4444444444444444,
              "#bd3786"
             ],
             [
              0.5555555555555556,
              "#d8576b"
             ],
             [
              0.6666666666666666,
              "#ed7953"
             ],
             [
              0.7777777777777778,
              "#fb9f3a"
             ],
             [
              0.8888888888888888,
              "#fdca26"
             ],
             [
              1,
              "#f0f921"
             ]
            ],
            "type": "heatmapgl"
           }
          ],
          "histogram": [
           {
            "marker": {
             "colorbar": {
              "outlinewidth": 0,
              "ticks": ""
             }
            },
            "type": "histogram"
           }
          ],
          "histogram2d": [
           {
            "colorbar": {
             "outlinewidth": 0,
             "ticks": ""
            },
            "colorscale": [
             [
              0,
              "#0d0887"
             ],
             [
              0.1111111111111111,
              "#46039f"
             ],
             [
              0.2222222222222222,
              "#7201a8"
             ],
             [
              0.3333333333333333,
              "#9c179e"
             ],
             [
              0.4444444444444444,
              "#bd3786"
             ],
             [
              0.5555555555555556,
              "#d8576b"
             ],
             [
              0.6666666666666666,
              "#ed7953"
             ],
             [
              0.7777777777777778,
              "#fb9f3a"
             ],
             [
              0.8888888888888888,
              "#fdca26"
             ],
             [
              1,
              "#f0f921"
             ]
            ],
            "type": "histogram2d"
           }
          ],
          "histogram2dcontour": [
           {
            "colorbar": {
             "outlinewidth": 0,
             "ticks": ""
            },
            "colorscale": [
             [
              0,
              "#0d0887"
             ],
             [
              0.1111111111111111,
              "#46039f"
             ],
             [
              0.2222222222222222,
              "#7201a8"
             ],
             [
              0.3333333333333333,
              "#9c179e"
             ],
             [
              0.4444444444444444,
              "#bd3786"
             ],
             [
              0.5555555555555556,
              "#d8576b"
             ],
             [
              0.6666666666666666,
              "#ed7953"
             ],
             [
              0.7777777777777778,
              "#fb9f3a"
             ],
             [
              0.8888888888888888,
              "#fdca26"
             ],
             [
              1,
              "#f0f921"
             ]
            ],
            "type": "histogram2dcontour"
           }
          ],
          "mesh3d": [
           {
            "colorbar": {
             "outlinewidth": 0,
             "ticks": ""
            },
            "type": "mesh3d"
           }
          ],
          "parcoords": [
           {
            "line": {
             "colorbar": {
              "outlinewidth": 0,
              "ticks": ""
             }
            },
            "type": "parcoords"
           }
          ],
          "pie": [
           {
            "automargin": true,
            "type": "pie"
           }
          ],
          "scatter": [
           {
            "marker": {
             "colorbar": {
              "outlinewidth": 0,
              "ticks": ""
             }
            },
            "type": "scatter"
           }
          ],
          "scatter3d": [
           {
            "line": {
             "colorbar": {
              "outlinewidth": 0,
              "ticks": ""
             }
            },
            "marker": {
             "colorbar": {
              "outlinewidth": 0,
              "ticks": ""
             }
            },
            "type": "scatter3d"
           }
          ],
          "scattercarpet": [
           {
            "marker": {
             "colorbar": {
              "outlinewidth": 0,
              "ticks": ""
             }
            },
            "type": "scattercarpet"
           }
          ],
          "scattergeo": [
           {
            "marker": {
             "colorbar": {
              "outlinewidth": 0,
              "ticks": ""
             }
            },
            "type": "scattergeo"
           }
          ],
          "scattergl": [
           {
            "marker": {
             "colorbar": {
              "outlinewidth": 0,
              "ticks": ""
             }
            },
            "type": "scattergl"
           }
          ],
          "scattermapbox": [
           {
            "marker": {
             "colorbar": {
              "outlinewidth": 0,
              "ticks": ""
             }
            },
            "type": "scattermapbox"
           }
          ],
          "scatterpolar": [
           {
            "marker": {
             "colorbar": {
              "outlinewidth": 0,
              "ticks": ""
             }
            },
            "type": "scatterpolar"
           }
          ],
          "scatterpolargl": [
           {
            "marker": {
             "colorbar": {
              "outlinewidth": 0,
              "ticks": ""
             }
            },
            "type": "scatterpolargl"
           }
          ],
          "scatterternary": [
           {
            "marker": {
             "colorbar": {
              "outlinewidth": 0,
              "ticks": ""
             }
            },
            "type": "scatterternary"
           }
          ],
          "surface": [
           {
            "colorbar": {
             "outlinewidth": 0,
             "ticks": ""
            },
            "colorscale": [
             [
              0,
              "#0d0887"
             ],
             [
              0.1111111111111111,
              "#46039f"
             ],
             [
              0.2222222222222222,
              "#7201a8"
             ],
             [
              0.3333333333333333,
              "#9c179e"
             ],
             [
              0.4444444444444444,
              "#bd3786"
             ],
             [
              0.5555555555555556,
              "#d8576b"
             ],
             [
              0.6666666666666666,
              "#ed7953"
             ],
             [
              0.7777777777777778,
              "#fb9f3a"
             ],
             [
              0.8888888888888888,
              "#fdca26"
             ],
             [
              1,
              "#f0f921"
             ]
            ],
            "type": "surface"
           }
          ],
          "table": [
           {
            "cells": {
             "fill": {
              "color": "#EBF0F8"
             },
             "line": {
              "color": "white"
             }
            },
            "header": {
             "fill": {
              "color": "#C8D4E3"
             },
             "line": {
              "color": "white"
             }
            },
            "type": "table"
           }
          ]
         },
         "layout": {
          "annotationdefaults": {
           "arrowcolor": "#2a3f5f",
           "arrowhead": 0,
           "arrowwidth": 1
          },
          "autotypenumbers": "strict",
          "coloraxis": {
           "colorbar": {
            "outlinewidth": 0,
            "ticks": ""
           }
          },
          "colorscale": {
           "diverging": [
            [
             0,
             "#8e0152"
            ],
            [
             0.1,
             "#c51b7d"
            ],
            [
             0.2,
             "#de77ae"
            ],
            [
             0.3,
             "#f1b6da"
            ],
            [
             0.4,
             "#fde0ef"
            ],
            [
             0.5,
             "#f7f7f7"
            ],
            [
             0.6,
             "#e6f5d0"
            ],
            [
             0.7,
             "#b8e186"
            ],
            [
             0.8,
             "#7fbc41"
            ],
            [
             0.9,
             "#4d9221"
            ],
            [
             1,
             "#276419"
            ]
           ],
           "sequential": [
            [
             0,
             "#0d0887"
            ],
            [
             0.1111111111111111,
             "#46039f"
            ],
            [
             0.2222222222222222,
             "#7201a8"
            ],
            [
             0.3333333333333333,
             "#9c179e"
            ],
            [
             0.4444444444444444,
             "#bd3786"
            ],
            [
             0.5555555555555556,
             "#d8576b"
            ],
            [
             0.6666666666666666,
             "#ed7953"
            ],
            [
             0.7777777777777778,
             "#fb9f3a"
            ],
            [
             0.8888888888888888,
             "#fdca26"
            ],
            [
             1,
             "#f0f921"
            ]
           ],
           "sequentialminus": [
            [
             0,
             "#0d0887"
            ],
            [
             0.1111111111111111,
             "#46039f"
            ],
            [
             0.2222222222222222,
             "#7201a8"
            ],
            [
             0.3333333333333333,
             "#9c179e"
            ],
            [
             0.4444444444444444,
             "#bd3786"
            ],
            [
             0.5555555555555556,
             "#d8576b"
            ],
            [
             0.6666666666666666,
             "#ed7953"
            ],
            [
             0.7777777777777778,
             "#fb9f3a"
            ],
            [
             0.8888888888888888,
             "#fdca26"
            ],
            [
             1,
             "#f0f921"
            ]
           ]
          },
          "colorway": [
           "#636efa",
           "#EF553B",
           "#00cc96",
           "#ab63fa",
           "#FFA15A",
           "#19d3f3",
           "#FF6692",
           "#B6E880",
           "#FF97FF",
           "#FECB52"
          ],
          "font": {
           "color": "#2a3f5f"
          },
          "geo": {
           "bgcolor": "white",
           "lakecolor": "white",
           "landcolor": "#E5ECF6",
           "showlakes": true,
           "showland": true,
           "subunitcolor": "white"
          },
          "hoverlabel": {
           "align": "left"
          },
          "hovermode": "closest",
          "mapbox": {
           "style": "light"
          },
          "paper_bgcolor": "white",
          "plot_bgcolor": "#E5ECF6",
          "polar": {
           "angularaxis": {
            "gridcolor": "white",
            "linecolor": "white",
            "ticks": ""
           },
           "bgcolor": "#E5ECF6",
           "radialaxis": {
            "gridcolor": "white",
            "linecolor": "white",
            "ticks": ""
           }
          },
          "scene": {
           "xaxis": {
            "backgroundcolor": "#E5ECF6",
            "gridcolor": "white",
            "gridwidth": 2,
            "linecolor": "white",
            "showbackground": true,
            "ticks": "",
            "zerolinecolor": "white"
           },
           "yaxis": {
            "backgroundcolor": "#E5ECF6",
            "gridcolor": "white",
            "gridwidth": 2,
            "linecolor": "white",
            "showbackground": true,
            "ticks": "",
            "zerolinecolor": "white"
           },
           "zaxis": {
            "backgroundcolor": "#E5ECF6",
            "gridcolor": "white",
            "gridwidth": 2,
            "linecolor": "white",
            "showbackground": true,
            "ticks": "",
            "zerolinecolor": "white"
           }
          },
          "shapedefaults": {
           "line": {
            "color": "#2a3f5f"
           }
          },
          "ternary": {
           "aaxis": {
            "gridcolor": "white",
            "linecolor": "white",
            "ticks": ""
           },
           "baxis": {
            "gridcolor": "white",
            "linecolor": "white",
            "ticks": ""
           },
           "bgcolor": "#E5ECF6",
           "caxis": {
            "gridcolor": "white",
            "linecolor": "white",
            "ticks": ""
           }
          },
          "title": {
           "x": 0.05
          },
          "xaxis": {
           "automargin": true,
           "gridcolor": "white",
           "linecolor": "white",
           "ticks": "",
           "title": {
            "standoff": 15
           },
           "zerolinecolor": "white",
           "zerolinewidth": 2
          },
          "yaxis": {
           "automargin": true,
           "gridcolor": "white",
           "linecolor": "white",
           "ticks": "",
           "title": {
            "standoff": 15
           },
           "zerolinecolor": "white",
           "zerolinewidth": 2
          }
         }
        },
        "title": {
         "font": {
          "color": "#4D5663"
         },
         "text": "On- and Off-the-run US Treasury Bonds with Zero or Fixed (and different) Coupon Rates"
        },
        "xaxis": {
         "autorange": true,
         "gridcolor": "#E1E5ED",
         "range": [
          "2021-07-01",
          "2027-12-31"
         ],
         "showgrid": true,
         "tickfont": {
          "color": "#4D5663"
         },
         "title": {
          "font": {
           "color": "#4D5663"
          },
          "text": ""
         },
         "type": "date",
         "zerolinecolor": "#E1E5ED"
        },
        "yaxis": {
         "autorange": true,
         "gridcolor": "#E1E5ED",
         "range": [
          0.0005764385117151645,
          0.006855592803823893
         ],
         "showgrid": true,
         "tickfont": {
          "color": "#4D5663"
         },
         "title": {
          "font": {
           "color": "#4D5663"
          },
          "text": ""
         },
         "type": "linear",
         "zerolinecolor": "#E1E5ED"
        }
       }
      },
      "image/png": "[encoded data removed]",
      "text/html": [
       "<div>                            <div id=\"af866810-f68f-4f92-9a4b-b89a866c93c5\" class=\"plotly-graph-div\" style=\"height:525px; width:100%;\"></div>            <script type=\"text/javascript\">                require([\"plotly\"], function(Plotly) {                    window.PLOTLYENV=window.PLOTLYENV || {};\n",
       "                    window.PLOTLYENV.BASE_URL='https://chart-studio.plotly.com';                                    if (document.getElementById(\"af866810-f68f-4f92-9a4b-b89a866c93c5\")) {                    Plotly.newPlot(                        \"af866810-f68f-4f92-9a4b-b89a866c93c5\",                        [{\"line\": {\"color\": \"rgba(255, 153, 51, 1.0)\", \"dash\": \"solid\", \"shape\": \"linear\", \"width\": 1.3}, \"mode\": \"lines\", \"name\": \"YTM implied by 2020-12-31 Price\", \"text\": \"\", \"type\": \"scatter\", \"x\": [\"2021-07-01\", \"2021-12-30\", \"2022-06-30\", \"2022-12-31\", \"2023-06-30\", \"2023-12-31\", \"2024-06-30\", \"2024-12-31\", \"2025-06-30\", \"2025-12-31\", \"2026-06-30\", \"2026-12-31\", \"2027-06-30\", \"2027-12-31\"], \"y\": [0.0008903962263206008, 0.001100908332676687, 0.001145880805643877, 0.0012500000000006445, 0.0015668922307084116, 0.0017732242990370214, 0.0021440769315441356, 0.002627217009536553, 0.0031125168798879065, 0.0036080011947972786, 0.0042486729078597355, 0.004943729333700231, 0.005735635247811526, 0.006478602044609197]}, {\"line\": {\"color\": \"rgba(55, 128, 191, 1.0)\", \"dash\": \"solid\", \"shape\": \"linear\", \"width\": 1.3}, \"mode\": \"lines\", \"name\": \"Spot Rates as of 2020-12-31\", \"text\": \"\", \"type\": \"scatter\", \"x\": [\"2021-07-01\", \"2021-12-30\", \"2022-06-30\", \"2022-12-31\", \"2023-06-30\", \"2023-12-31\", \"2024-06-30\", \"2024-12-31\", \"2025-06-30\", \"2025-12-31\", \"2026-06-30\", \"2026-12-31\", \"2027-06-30\", \"2027-12-31\"], \"y\": [0.0008903962263206008, 0.001100908332676687, 0.0011459528043138434, 0.0012501516711567184, 0.00157763756548146, 0.0017887743392046573, 0.0021625897723867027, 0.0026580653325281034, 0.0031188817517566747, 0.0036208190871303003, 0.0043367874461281986, 0.00505254507768127, 0.005776518754368354, 0.006541635089218456]}],                        {\"legend\": {\"bgcolor\": \"#F5F6F9\", \"font\": {\"color\": \"#4D5663\"}}, \"paper_bgcolor\": \"#F5F6F9\", \"plot_bgcolor\": \"#F5F6F9\", \"template\": {\"data\": {\"bar\": [{\"error_x\": {\"color\": \"#2a3f5f\"}, \"error_y\": {\"color\": \"#2a3f5f\"}, \"marker\": {\"line\": {\"color\": \"#E5ECF6\", \"width\": 0.5}}, \"type\": \"bar\"}], \"barpolar\": [{\"marker\": {\"line\": {\"color\": \"#E5ECF6\", \"width\": 0.5}}, \"type\": \"barpolar\"}], \"carpet\": [{\"aaxis\": {\"endlinecolor\": \"#2a3f5f\", \"gridcolor\": \"white\", \"linecolor\": \"white\", \"minorgridcolor\": \"white\", \"startlinecolor\": \"#2a3f5f\"}, \"baxis\": {\"endlinecolor\": \"#2a3f5f\", \"gridcolor\": \"white\", \"linecolor\": \"white\", \"minorgridcolor\": \"white\", \"startlinecolor\": \"#2a3f5f\"}, \"type\": \"carpet\"}], \"choropleth\": [{\"colorbar\": {\"outlinewidth\": 0, \"ticks\": \"\"}, \"type\": \"choropleth\"}], \"contour\": [{\"colorbar\": {\"outlinewidth\": 0, \"ticks\": \"\"}, \"colorscale\": [[0.0, \"#0d0887\"], [0.1111111111111111, \"#46039f\"], [0.2222222222222222, \"#7201a8\"], [0.3333333333333333, \"#9c179e\"], [0.4444444444444444, \"#bd3786\"], [0.5555555555555556, \"#d8576b\"], [0.6666666666666666, \"#ed7953\"], [0.7777777777777778, \"#fb9f3a\"], [0.8888888888888888, \"#fdca26\"], [1.0, \"#f0f921\"]], \"type\": \"contour\"}], \"contourcarpet\": [{\"colorbar\": {\"outlinewidth\": 0, \"ticks\": \"\"}, \"type\": \"contourcarpet\"}], \"heatmap\": [{\"colorbar\": {\"outlinewidth\": 0, \"ticks\": \"\"}, \"colorscale\": [[0.0, \"#0d0887\"], [0.1111111111111111, \"#46039f\"], [0.2222222222222222, \"#7201a8\"], [0.3333333333333333, \"#9c179e\"], [0.4444444444444444, \"#bd3786\"], [0.5555555555555556, \"#d8576b\"], [0.6666666666666666, \"#ed7953\"], [0.7777777777777778, \"#fb9f3a\"], [0.8888888888888888, \"#fdca26\"], [1.0, \"#f0f921\"]], \"type\": \"heatmap\"}], \"heatmapgl\": [{\"colorbar\": {\"outlinewidth\": 0, \"ticks\": \"\"}, \"colorscale\": [[0.0, \"#0d0887\"], [0.1111111111111111, \"#46039f\"], [0.2222222222222222, \"#7201a8\"], [0.3333333333333333, \"#9c179e\"], [0.4444444444444444, \"#bd3786\"], [0.5555555555555556, \"#d8576b\"], [0.6666666666666666, \"#ed7953\"], [0.7777777777777778, \"#fb9f3a\"], [0.8888888888888888, \"#fdca26\"], [1.0, \"#f0f921\"]], \"type\": \"heatmapgl\"}], \"histogram\": [{\"marker\": {\"colorbar\": {\"outlinewidth\": 0, \"ticks\": \"\"}}, \"type\": \"histogram\"}], \"histogram2d\": [{\"colorbar\": {\"outlinewidth\": 0, \"ticks\": \"\"}, \"colorscale\": [[0.0, \"#0d0887\"], [0.1111111111111111, \"#46039f\"], [0.2222222222222222, \"#7201a8\"], [0.3333333333333333, \"#9c179e\"], [0.4444444444444444, \"#bd3786\"], [0.5555555555555556, \"#d8576b\"], [0.6666666666666666, \"#ed7953\"], [0.7777777777777778, \"#fb9f3a\"], [0.8888888888888888, \"#fdca26\"], [1.0, \"#f0f921\"]], \"type\": \"histogram2d\"}], \"histogram2dcontour\": [{\"colorbar\": {\"outlinewidth\": 0, \"ticks\": \"\"}, \"colorscale\": [[0.0, \"#0d0887\"], [0.1111111111111111, \"#46039f\"], [0.2222222222222222, \"#7201a8\"], [0.3333333333333333, \"#9c179e\"], [0.4444444444444444, \"#bd3786\"], [0.5555555555555556, \"#d8576b\"], [0.6666666666666666, \"#ed7953\"], [0.7777777777777778, \"#fb9f3a\"], [0.8888888888888888, \"#fdca26\"], [1.0, \"#f0f921\"]], \"type\": \"histogram2dcontour\"}], \"mesh3d\": [{\"colorbar\": {\"outlinewidth\": 0, \"ticks\": \"\"}, \"type\": \"mesh3d\"}], \"parcoords\": [{\"line\": {\"colorbar\": {\"outlinewidth\": 0, \"ticks\": \"\"}}, \"type\": \"parcoords\"}], \"pie\": [{\"automargin\": true, \"type\": \"pie\"}], \"scatter\": [{\"marker\": {\"colorbar\": {\"outlinewidth\": 0, \"ticks\": \"\"}}, \"type\": \"scatter\"}], \"scatter3d\": [{\"line\": {\"colorbar\": {\"outlinewidth\": 0, \"ticks\": \"\"}}, \"marker\": {\"colorbar\": {\"outlinewidth\": 0, \"ticks\": \"\"}}, \"type\": \"scatter3d\"}], \"scattercarpet\": [{\"marker\": {\"colorbar\": {\"outlinewidth\": 0, \"ticks\": \"\"}}, \"type\": \"scattercarpet\"}], \"scattergeo\": [{\"marker\": {\"colorbar\": {\"outlinewidth\": 0, \"ticks\": \"\"}}, \"type\": \"scattergeo\"}], \"scattergl\": [{\"marker\": {\"colorbar\": {\"outlinewidth\": 0, \"ticks\": \"\"}}, \"type\": \"scattergl\"}], \"scattermapbox\": [{\"marker\": {\"colorbar\": {\"outlinewidth\": 0, \"ticks\": \"\"}}, \"type\": \"scattermapbox\"}], \"scatterpolar\": [{\"marker\": {\"colorbar\": {\"outlinewidth\": 0, \"ticks\": \"\"}}, \"type\": \"scatterpolar\"}], \"scatterpolargl\": [{\"marker\": {\"colorbar\": {\"outlinewidth\": 0, \"ticks\": \"\"}}, \"type\": \"scatterpolargl\"}], \"scatterternary\": [{\"marker\": {\"colorbar\": {\"outlinewidth\": 0, \"ticks\": \"\"}}, \"type\": \"scatterternary\"}], \"surface\": [{\"colorbar\": {\"outlinewidth\": 0, \"ticks\": \"\"}, \"colorscale\": [[0.0, \"#0d0887\"], [0.1111111111111111, \"#46039f\"], [0.2222222222222222, \"#7201a8\"], [0.3333333333333333, \"#9c179e\"], [0.4444444444444444, \"#bd3786\"], [0.5555555555555556, \"#d8576b\"], [0.6666666666666666, \"#ed7953\"], [0.7777777777777778, \"#fb9f3a\"], [0.8888888888888888, \"#fdca26\"], [1.0, \"#f0f921\"]], \"type\": \"surface\"}], \"table\": [{\"cells\": {\"fill\": {\"color\": \"#EBF0F8\"}, \"line\": {\"color\": \"white\"}}, \"header\": {\"fill\": {\"color\": \"#C8D4E3\"}, \"line\": {\"color\": \"white\"}}, \"type\": \"table\"}]}, \"layout\": {\"annotationdefaults\": {\"arrowcolor\": \"#2a3f5f\", \"arrowhead\": 0, \"arrowwidth\": 1}, \"autotypenumbers\": \"strict\", \"coloraxis\": {\"colorbar\": {\"outlinewidth\": 0, \"ticks\": \"\"}}, \"colorscale\": {\"diverging\": [[0, \"#8e0152\"], [0.1, \"#c51b7d\"], [0.2, \"#de77ae\"], [0.3, \"#f1b6da\"], [0.4, \"#fde0ef\"], [0.5, \"#f7f7f7\"], [0.6, \"#e6f5d0\"], [0.7, \"#b8e186\"], [0.8, \"#7fbc41\"], [0.9, \"#4d9221\"], [1, \"#276419\"]], \"sequential\": [[0.0, \"#0d0887\"], [0.1111111111111111, \"#46039f\"], [0.2222222222222222, \"#7201a8\"], [0.3333333333333333, \"#9c179e\"], [0.4444444444444444, \"#bd3786\"], [0.5555555555555556, \"#d8576b\"], [0.6666666666666666, \"#ed7953\"], [0.7777777777777778, \"#fb9f3a\"], [0.8888888888888888, \"#fdca26\"], [1.0, \"#f0f921\"]], \"sequentialminus\": [[0.0, \"#0d0887\"], [0.1111111111111111, \"#46039f\"], [0.2222222222222222, \"#7201a8\"], [0.3333333333333333, \"#9c179e\"], [0.4444444444444444, \"#bd3786\"], [0.5555555555555556, \"#d8576b\"], [0.6666666666666666, \"#ed7953\"], [0.7777777777777778, \"#fb9f3a\"], [0.8888888888888888, \"#fdca26\"], [1.0, \"#f0f921\"]]}, \"colorway\": [\"#636efa\", \"#EF553B\", \"#00cc96\", \"#ab63fa\", \"#FFA15A\", \"#19d3f3\", \"#FF6692\", \"#B6E880\", \"#FF97FF\", \"#FECB52\"], \"font\": {\"color\": \"#2a3f5f\"}, \"geo\": {\"bgcolor\": \"white\", \"lakecolor\": \"white\", \"landcolor\": \"#E5ECF6\", \"showlakes\": true, \"showland\": true, \"subunitcolor\": \"white\"}, \"hoverlabel\": {\"align\": \"left\"}, \"hovermode\": \"closest\", \"mapbox\": {\"style\": \"light\"}, \"paper_bgcolor\": \"white\", \"plot_bgcolor\": \"#E5ECF6\", \"polar\": {\"angularaxis\": {\"gridcolor\": \"white\", \"linecolor\": \"white\", \"ticks\": \"\"}, \"bgcolor\": \"#E5ECF6\", \"radialaxis\": {\"gridcolor\": \"white\", \"linecolor\": \"white\", \"ticks\": \"\"}}, \"scene\": {\"xaxis\": {\"backgroundcolor\": \"#E5ECF6\", \"gridcolor\": \"white\", \"gridwidth\": 2, \"linecolor\": \"white\", \"showbackground\": true, \"ticks\": \"\", \"zerolinecolor\": \"white\"}, \"yaxis\": {\"backgroundcolor\": \"#E5ECF6\", \"gridcolor\": \"white\", \"gridwidth\": 2, \"linecolor\": \"white\", \"showbackground\": true, \"ticks\": \"\", \"zerolinecolor\": \"white\"}, \"zaxis\": {\"backgroundcolor\": \"#E5ECF6\", \"gridcolor\": \"white\", \"gridwidth\": 2, \"linecolor\": \"white\", \"showbackground\": true, \"ticks\": \"\", \"zerolinecolor\": \"white\"}}, \"shapedefaults\": {\"line\": {\"color\": \"#2a3f5f\"}}, \"ternary\": {\"aaxis\": {\"gridcolor\": \"white\", \"linecolor\": \"white\", \"ticks\": \"\"}, \"baxis\": {\"gridcolor\": \"white\", \"linecolor\": \"white\", \"ticks\": \"\"}, \"bgcolor\": \"#E5ECF6\", \"caxis\": {\"gridcolor\": \"white\", \"linecolor\": \"white\", \"ticks\": \"\"}}, \"title\": {\"x\": 0.05}, \"xaxis\": {\"automargin\": true, \"gridcolor\": \"white\", \"linecolor\": \"white\", \"ticks\": \"\", \"title\": {\"standoff\": 15}, \"zerolinecolor\": \"white\", \"zerolinewidth\": 2}, \"yaxis\": {\"automargin\": true, \"gridcolor\": \"white\", \"linecolor\": \"white\", \"ticks\": \"\", \"title\": {\"standoff\": 15}, \"zerolinecolor\": \"white\", \"zerolinewidth\": 2}}}, \"title\": {\"font\": {\"color\": \"#4D5663\"}, \"text\": \"On- and Off-the-run US Treasury Bonds with Zero or Fixed (and different) Coupon Rates\"}, \"xaxis\": {\"gridcolor\": \"#E1E5ED\", \"showgrid\": true, \"tickfont\": {\"color\": \"#4D5663\"}, \"title\": {\"font\": {\"color\": \"#4D5663\"}, \"text\": \"\"}, \"zerolinecolor\": \"#E1E5ED\"}, \"yaxis\": {\"gridcolor\": \"#E1E5ED\", \"showgrid\": true, \"tickfont\": {\"color\": \"#4D5663\"}, \"title\": {\"font\": {\"color\": \"#4D5663\"}, \"text\": \"\"}, \"zerolinecolor\": \"#E1E5ED\"}},                        {\"showLink\": true, \"linkText\": \"Export to chart-studio.plotly.com\", \"plotlyServerURL\": \"https://chart-studio.plotly.com\", \"responsive\": true}                    ).then(function(){\n",
       "                            \n",
       "var gd = document.getElementById('af866810-f68f-4f92-9a4b-b89a866c93c5');\n",
       "var x = new MutationObserver(function (mutations, observer) {{\n",
       "        var display = window.getComputedStyle(gd).display;\n",
       "        if (!display || display === 'none') {{\n",
       "            console.log([gd, 'removed!']);\n",
       "            Plotly.purge(gd);\n",
       "            observer.disconnect();\n",
       "        }}\n",
       "}});\n",
       "\n",
       "// Listen for the removal of the full notebook cells\n",
       "var notebookContainer = gd.closest('#notebook-container');\n",
       "if (notebookContainer) {{\n",
       "    x.observe(notebookContainer, {childList: true});\n",
       "}}\n",
       "\n",
       "// Listen for the clearing of the current output cell\n",
       "var outputEl = gd.closest('.output');\n",
       "if (outputEl) {{\n",
       "    x.observe(outputEl, {childList: true});\n",
       "}}\n",
       "\n",
       "                        })                };                });            </script>        </div>"
      ]
     },
     "metadata": {},
     "output_type": "display_data"
    }
   ],
   "source": [
    "on_off_df_as_of_2020_12_31[\n",
    "    [\"YTM implied by 2020-12-31 Price\", \"Spot Rates as of 2020-12-31\"]].iplot(\n",
    "    title=\"On- and Off-the-run US Treasury Bonds with Zero or Fixed (and different) Coupon Rates\")"
   ]
  },
  {
   "cell_type": "markdown",
   "id": "b6567e5e-1f06-404c-aff9-5149f3bf4848",
   "metadata": {},
   "source": [
    "### Accrued Interests\n",
    "\n",
    "Lasly - when it comes to Yields - if one was to buy a Bond in the secondary market at a time other than just after a Coupon was paid, the Bond's seller would loose out on the upcoming Coupon payment. In other words, if a Bond (with \\\\$100 Face Value) was to pay a \\\\$0.1 Coupon a day, and was sold on the 30th of Jan., the Bond's seller would have gathered \\\\$18.6 in Coupon paymnets that half-year (in the 6 previous months); however, if the Coupon is only paid every 6 months on the 31st of Jan. and 31st of Jul., the Bond's seller would have gathered no Coupon payments that half-year. To compensate for this lost payment, Bond sellers on the secondary market do not tend to sell at the NPV, *i.e.*: they tend not to Bid at a Clean Price. (The clean price is the NPV in the 'lingo'.) Instead, they tend to Bid at a Dirty Price that incorporates this 'Coupon payment loss' in an arythmatic/straight-line method; this 'loss' is called the Accrued, think of it as accrued interest that the seller would have had and insists on via this Dirty Price premium. One can see - thanks to the aformentioned relationship between a Bond's price and Yield - that if the price differs, so does its YTM. This - evidentaly - does not apply to Zero-Coupon-Bonds (ZCB); or rather: ZCB's Clean and Dirty Prices are the same. Let's add Clean and Dirty clasifications:\n",
    "\n",
    "Let's say that our investor considers only the bonds in our ```on_off_df_as_of_2020_12_31``` data-frame, but on 2021-03-31:\n",
    "\n",
    "**1st**: We'll need to find out when the last coupon was paid:"
   ]
  },
  {
   "cell_type": "code",
   "execution_count": 37,
   "id": "1bddc761-2070-465f-84fa-223cddbf704e",
   "metadata": {},
   "outputs": [
    {
     "data": {
      "text/plain": [
       "[datetime.datetime(2021, 6, 30, 0, 0),\n",
       " datetime.datetime(2021, 12, 31, 0, 0),\n",
       " datetime.datetime(2022, 6, 30, 0, 0),\n",
       " datetime.datetime(2023, 1, 3, 0, 0),\n",
       " datetime.datetime(2023, 6, 30, 0, 0),\n",
       " datetime.datetime(2024, 1, 2, 0, 0),\n",
       " datetime.datetime(2024, 7, 1, 0, 0),\n",
       " datetime.datetime(2024, 12, 31, 0, 0),\n",
       " datetime.datetime(2025, 6, 30, 0, 0),\n",
       " datetime.datetime(2025, 12, 31, 0, 0),\n",
       " datetime.datetime(2026, 6, 30, 0, 0),\n",
       " datetime.datetime(2026, 12, 31, 0, 0),\n",
       " datetime.datetime(2027, 6, 30, 0, 0),\n",
       " datetime.datetime(2027, 12, 31, 0, 0),\n",
       " datetime.datetime(2028, 6, 30, 0, 0),\n",
       " datetime.datetime(2029, 1, 2, 0, 0),\n",
       " datetime.datetime(2029, 7, 2, 0, 0),\n",
       " datetime.datetime(2029, 12, 31, 0, 0),\n",
       " datetime.datetime(2030, 7, 1, 0, 0),\n",
       " datetime.datetime(2030, 12, 31, 0, 0)]"
      ]
     },
     "execution_count": 37,
     "metadata": {},
     "output_type": "execute_result"
    }
   ],
   "source": [
    "last_previous_coupon_date = Coupon_Dates(\n",
    "    acpf=0.5,\n",
    "    ID=\"2020-12-31\",\n",
    "    RDL=\"2030-12-31\",\n",
    "    TERM=10,\n",
    "    day_type=\"business\")\n",
    "last_previous_coupon_date"
   ]
  },
  {
   "cell_type": "markdown",
   "id": "84fcd662-c394-40e0-9bea-5ed610b5db40",
   "metadata": {},
   "source": [
    "**2nd**: We'll need to find out when the next coupon will be paid:"
   ]
  },
  {
   "cell_type": "code",
   "execution_count": null,
   "id": "92f21011-e582-4f2b-9809-63e85c43c24a",
   "metadata": {},
   "outputs": [],
   "source": [
    "if str(type(last_previous_coupon_date)) == \"<class 'datetime.datetime'>\":\n",
    "    next_coupon_date = last_previous_coupon_date + relativedelta(months=+(6))  # 6 months because our bonds pays coupons semi-annually\n",
    "else:\n",
    "    next_coupon_date = datetime.strptime(on_off_df_as_of_2020_12_31.iloc[3][\"ID\"], '%Y-%m-%d') + relativedelta(months=+(6))\n",
    "next_coupon_date"
   ]
  },
  {
   "cell_type": "code",
   "execution_count": null,
   "id": "56d1ebcb-9d26-49e7-a602-48e61bcee2ea",
   "metadata": {},
   "outputs": [],
   "source": [
    "(datetime.strptime(on_off_df_as_of_2020_12_31.iloc[3][\"RDL\"], '%Y-%m-%d') - datetime.strptime(\"2021-03-31\", '%Y-%m-%d')).days/360"
   ]
  },
  {
   "cell_type": "code",
   "execution_count": null,
   "id": "4486a26c-6ea3-4f7c-b8fb-bbaaffe112f5",
   "metadata": {},
   "outputs": [],
   "source": [
    "YTM_Solver(fv=100, c=0.125, m=0.4, f_acf=0.5, error=False, p=99.9937)"
   ]
  },
  {
   "cell_type": "code",
   "execution_count": null,
   "id": "7da4b0c2-d6cd-4fd9-8f0c-7ae6242a9ade",
   "metadata": {},
   "outputs": [],
   "source": [
    "[i for i in range(1, int(1.6/0.5)+1)]"
   ]
  },
  {
   "cell_type": "code",
   "execution_count": null,
   "id": "62e5f4c2-dd70-43fd-acf4-1a2b3e70d571",
   "metadata": {},
   "outputs": [],
   "source": []
  },
  {
   "cell_type": "code",
   "execution_count": null,
   "id": "665b8608-5385-433c-8644-baa4f428de6c",
   "metadata": {},
   "outputs": [],
   "source": []
  },
  {
   "cell_type": "code",
   "execution_count": null,
   "id": "75ca1039-d1b3-437a-ab88-2dc1faf8de42",
   "metadata": {},
   "outputs": [],
   "source": []
  },
  {
   "cell_type": "code",
   "execution_count": null,
   "id": "988b6774-b228-44d4-9484-31ca83e2922e",
   "metadata": {},
   "outputs": [],
   "source": []
  },
  {
   "cell_type": "code",
   "execution_count": null,
   "id": "73f93ce9-2a59-42d0-a0bc-86ad8c283904",
   "metadata": {},
   "outputs": [],
   "source": []
  },
  {
   "cell_type": "code",
   "execution_count": null,
   "id": "b4212e12-8ed0-4757-a18d-c75c34eb5f84",
   "metadata": {},
   "outputs": [],
   "source": []
  },
  {
   "cell_type": "code",
   "execution_count": null,
   "id": "73eb8e2c-26cc-410e-a36e-b2e651df0eff",
   "metadata": {},
   "outputs": [],
   "source": []
  },
  {
   "cell_type": "code",
   "execution_count": 38,
   "id": "241e8d04-c476-408c-9894-961aa3a9fdb0",
   "metadata": {},
   "outputs": [],
   "source": [
    "on_off_df_as_of_2021_03_31 = Get_dsws_spot_rates(\n",
    "    point_in_time=\"2021-03-31\", coupon_paying_freq=0.5,\n",
    "    instruments=[\"628GA1\", \"628GAL\", \"628GD0\", \"628GF5\", \"628GDZ\",  # These are on-the-run\n",
    "                 \"610JPM\", '208PR9', \"218QH0\", \"233HJH\", \"247DLH\", \"610JRN\",\n",
    "                 \"233HJK\", \"247DLR\", \"610JR7\"])"
   ]
  },
  {
   "cell_type": "code",
   "execution_count": 39,
   "id": "defc61c9-0a3f-4c25-9da9-5127874391af",
   "metadata": {},
   "outputs": [],
   "source": [
    "on_off_df_as_of_2020_12_31 = Get_dsws_spot_rates(\n",
    "    point_in_time=\"2020-12-31\", coupon_paying_freq=0.5,\n",
    "    instruments=[\"628GA1\", \"628GAL\", \"628GD0\", \"628GF5\", \"628GDZ\",  # These are on-the-run\n",
    "                 \"610JPM\", '208PR9', \"218QH0\", \"233HJH\", \"247DLH\", \"610JRN\",\n",
    "                 \"233HJK\", \"247DLR\", \"610JR7\"])"
   ]
  },
  {
   "cell_type": "code",
   "execution_count": null,
   "id": "6c9df032-08bd-4a75-8b7a-7ec7d1b2d65a",
   "metadata": {},
   "outputs": [],
   "source": []
  },
  {
   "cell_type": "code",
   "execution_count": null,
   "id": "73e75e64-5f8a-4ee2-858e-d35f020448cb",
   "metadata": {},
   "outputs": [],
   "source": []
  },
  {
   "cell_type": "code",
   "execution_count": null,
   "id": "d1b4c281-8522-4557-ba37-83bb2e610e9e",
   "metadata": {},
   "outputs": [],
   "source": []
  },
  {
   "cell_type": "code",
   "execution_count": null,
   "id": "9775823d-632b-43b3-9d86-8c337fd41491",
   "metadata": {},
   "outputs": [],
   "source": []
  },
  {
   "cell_type": "code",
   "execution_count": null,
   "id": "31796a4f-7f07-4f5c-8fbf-a7b2f8c2f4ae",
   "metadata": {},
   "outputs": [],
   "source": []
  },
  {
   "cell_type": "code",
   "execution_count": null,
   "id": "8ae53792-a07c-40da-9efc-c50fa5d5547b",
   "metadata": {},
   "outputs": [],
   "source": []
  },
  {
   "cell_type": "markdown",
   "id": "760027aa-ef63-4318-9e65-c5c987b4ab29",
   "metadata": {},
   "source": [
    "## Check that the number of coupon payments are calculated correctly"
   ]
  },
  {
   "cell_type": "markdown",
   "id": "359206bd-c39c-468f-b5ed-9c8cc0171fcf",
   "metadata": {},
   "source": [
    "Let's focus on 233HJK (RIC: 9128287B0=) (ISIN: US9128287B09), a 7 Year US Treasury Bond issued on 2019-06-30, maturing on 2026-06-30 with a coupon rate of 1.875% (=0.01875) bought on 2020-12-31 for 107.8750. What are its Coupon payment cashflow?"
   ]
  },
  {
   "cell_type": "code",
   "execution_count": 40,
   "id": "ca2e39b8-eb95-4ed5-813a-c6d89882cfc1",
   "metadata": {
    "tags": []
   },
   "outputs": [
    {
     "data": {
      "text/plain": [
       "'1.1.8'"
      ]
     },
     "execution_count": 40,
     "metadata": {},
     "output_type": "execute_result"
    }
   ],
   "source": [
    "import eikon as ek\n",
    "eikon_key = open(\"eikon.txt\",\"r\")  # The key is placed in a text file so that it may be used in this code without showing it itself.\n",
    "ek.set_app_key(str(eikon_key.read()))  # You can replace this ' str(eikon_key.read()) ' with your own eikon key.\n",
    "eikon_key.close()  # It is best to close the files we opened in order to make sure that we don't stop any other services/programs from accessing them if they need to.\n",
    "ek.__version__  # This returns the version of the Python library 'eikon' to aid anyone in replication."
   ]
  },
  {
   "cell_type": "code",
   "execution_count": 41,
   "id": "a9b12e34-445a-46dc-ae4f-6509266598c2",
   "metadata": {
    "tags": []
   },
   "outputs": [],
   "source": [
    "def Sanity_Check(ric, dates, m_=None, days_a_year=360, ds_dynamic_freq='D', f_acf=0.5,\n",
    "                 fixed_fields=[\"DSCD\", \"NAME\", \"ID\", \"TERM\", \"RV\", \"C\", \"CTYP\", \"RDL\", \"EXCHB\", \"DEF\", \"MPD.U\", \"BTYP\", \"AIS\", \"BAB\"],\n",
    "                 dynamic_fields=['TR.CLEANPRICE.date', 'TR.CLEANPRICE', 'TR.BIDYIELD', 'TR.ASKPRICE', 'TR.ASKYIELD', 'TR.MIDPRICE', 'TR.MIDYIELD', 'TR.HIGHPRICE', 'TR.HIGHYIELD', 'TR.LOWPRICE', 'TR.LOWYIELD', 'TR.OPENPRICE', 'TR.OPENYIELD', 'TR.OPENASKPRICE', 'TR.HIGHASKPRICE', 'TR.DIRTYPRICE', 'TR.HighBidPrice'],\n",
    "                 column_names=[\"date\", \"years left to m\", \"ds Price\", \"ek Clean Price\", \"ek Bid YTM\", \"computed YTM with ds price\", \"ek Clean Ask\", \"ek Ask YTM\", \"computed YTM with ek Ask price\", \"ek Clean Mid\", \"ek Mid YTM\", \"computed YTM with ek Mid price\"]):\n",
    "    \"\"\"Sanity_Check(ric, date, days_a_year=360, fixed_fields=[\"DSCD\", \"NAME\", \"ID\", \"TERM\", \"RV\", \"C\", \"CTYP\", \"RDL\", \"EXCHB\", \"DEF\", \"MPD.U\", \"BTYP\", \"AIS\", \"BAB\"], dynamic_fields=['TR.CLEANPRICE.date', 'TR.CLEANPRICE', 'TR.BIDYIELD', 'TR.ASKPRICE', 'TR.ASKYIELD', 'TR.MIDPRICE', 'TR.MIDYIELD', 'TR.HIGHPRICE', 'TR.HIGHYIELD', 'TR.LOWPRICE', 'TR.LOWYIELD', 'TR.OPENPRICE', 'TR.OPENYIELD', 'TR.OPENASKPRICE', 'TR.HIGHASKPRICE', 'TR.DIRTYPRICE', 'TR.HighBidPrice']) Version 1.0.\n",
    "    This function is created simply to check ek and ds values with YTM_Solver from the CPB datastream article\n",
    "\n",
    "    dates: list\n",
    "        List of strings of dates for which data is requested. Has to be in '%Y-%m-%d' format.\n",
    "\n",
    "    fixed_fields: list\n",
    "        List of fields to get from Datastream's DSWS\n",
    "\n",
    "    dynamic_fields: list\n",
    "        List of fields to get from Refinitiv's Eikon Data API\n",
    "    \"\"\"\n",
    "\n",
    "    fixed = ds.get_data(fields=fixed_fields, kind=0, tickers=f\"<{ric}>\")\n",
    "    fixed_easy = fixed[[\"Datatype\", \"Value\"]].T\n",
    "\n",
    "    if m_ is None:\n",
    "        m_ = [(datetime.strptime(fixed[fixed[\"Datatype\"] == 'RDL']['Value'].iloc[0],'%Y-%m-%d') -\n",
    "               datetime.strptime(i, '%Y-%m-%d')).days/days_a_year for i in dates]\n",
    "    ds_l, ek_l = [], []\n",
    "    for i in dates:\n",
    "        ds_l.append(ds.get_data(start=i, end=i, tickers=f\"<{ric}>\", fields='X', freq=ds_dynamic_freq))\n",
    "        ek_l.append(ek.get_data(instruments=[ric], fields=dynamic_fields,\n",
    "                                parameters={'SDate': i, 'EDate': i, 'Frq': 'D'})[0])\n",
    "    ans = pandas.DataFrame(\n",
    "        data=[[dates[i], m_[i], ds_l[i]['Value'].iloc[0], ek_l[i]['Clean Price'].iloc[0], ek_l[i]['Bid Yield'].iloc[0],\n",
    "               YTM_Solver(fv=fixed[fixed['Datatype'] == 'RV']['Value'].iloc[0],\n",
    "                          c=fixed[fixed['Datatype'] == 'C']['Value'].iloc[0],\n",
    "                          m=m_[i], p=ds_l[i]['Value'].iloc[0],\n",
    "                          f_acf=f_acf, error=False)*100,\n",
    "               ek_l[i]['Ask Price'].iloc[0], ek_l[i]['Ask Yield'].iloc[0],\n",
    "               YTM_Solver(fv=fixed[fixed['Datatype'] == 'RV']['Value'].iloc[0],\n",
    "                          c=fixed[fixed['Datatype'] == 'C']['Value'].iloc[0],\n",
    "                          m=m_[i], p=ek_l[i]['Ask Price'].iloc[0],\n",
    "                          f_acf=f_acf, error=False)*100,\n",
    "               ek_l[i]['Mid Price'].iloc[0], ek_l[i]['Mid Yield'].iloc[0],\n",
    "               YTM_Solver(fv=fixed[fixed['Datatype'] == 'RV']['Value'].iloc[0],\n",
    "                          c=fixed[fixed['Datatype'] == 'C']['Value'].iloc[0],\n",
    "                          m=m_[i], p=ek_l[i]['Mid Price'].iloc[0],\n",
    "                          f_acf=f_acf, error=False)*100]\n",
    "              for i in range(len(m_))],\n",
    "        columns=column_names)\n",
    "\n",
    "    return fixed_easy, ans"
   ]
  },
  {
   "cell_type": "markdown",
   "id": "14e21f4a-4d0b-449a-af69-ebf971ede0ef",
   "metadata": {},
   "source": [
    "### RIC: 9128287B0=, DS Code: 233HJK, ISIN: US9128287B09"
   ]
  },
  {
   "cell_type": "code",
   "execution_count": 49,
   "id": "ac8b5906-435f-4fd0-ab94-d9ca1abfd5cc",
   "metadata": {
    "tags": []
   },
   "outputs": [
    {
     "data": {
      "text/html": [
       "<div>\n",
       "<style scoped>\n",
       "    .dataframe tbody tr th:only-of-type {\n",
       "        vertical-align: middle;\n",
       "    }\n",
       "\n",
       "    .dataframe tbody tr th {\n",
       "        vertical-align: top;\n",
       "    }\n",
       "\n",
       "    .dataframe thead th {\n",
       "        text-align: right;\n",
       "    }\n",
       "</style>\n",
       "<table border=\"1\" class=\"dataframe\">\n",
       "  <thead>\n",
       "    <tr style=\"text-align: right;\">\n",
       "      <th></th>\n",
       "      <th>0</th>\n",
       "      <th>1</th>\n",
       "      <th>2</th>\n",
       "      <th>3</th>\n",
       "      <th>4</th>\n",
       "      <th>5</th>\n",
       "      <th>6</th>\n",
       "      <th>7</th>\n",
       "      <th>8</th>\n",
       "      <th>9</th>\n",
       "      <th>10</th>\n",
       "      <th>11</th>\n",
       "      <th>12</th>\n",
       "      <th>13</th>\n",
       "    </tr>\n",
       "  </thead>\n",
       "  <tbody>\n",
       "    <tr>\n",
       "      <th>Datatype</th>\n",
       "      <td>DSCD</td>\n",
       "      <td>NAME</td>\n",
       "      <td>ID</td>\n",
       "      <td>TERM</td>\n",
       "      <td>RV</td>\n",
       "      <td>C</td>\n",
       "      <td>CTYP</td>\n",
       "      <td>RDL</td>\n",
       "      <td>EXCHB</td>\n",
       "      <td>DEF</td>\n",
       "      <td>MPD.U</td>\n",
       "      <td>BTYP</td>\n",
       "      <td>AIS</td>\n",
       "      <td>BAB</td>\n",
       "    </tr>\n",
       "    <tr>\n",
       "      <th>Value</th>\n",
       "      <td>233HJK</td>\n",
       "      <td>US TREASURY NOTE 2019 1 7/8% 30/06/26 M-2026</td>\n",
       "      <td>2019-06-30</td>\n",
       "      <td>7</td>\n",
       "      <td>100</td>\n",
       "      <td>1.875</td>\n",
       "      <td>FIX</td>\n",
       "      <td>2026-06-30</td>\n",
       "      <td>FF MU BL DD</td>\n",
       "      <td>MPD</td>\n",
       "      <td>%</td>\n",
       "      <td>STR</td>\n",
       "      <td>33830130</td>\n",
       "      <td>5</td>\n",
       "    </tr>\n",
       "  </tbody>\n",
       "</table>\n",
       "</div>"
      ],
      "text/plain": [
       "              0                                             1           2   \\\n",
       "Datatype    DSCD                                          NAME          ID   \n",
       "Value     233HJK  US TREASURY NOTE 2019 1 7/8% 30/06/26 M-2026  2019-06-30   \n",
       "\n",
       "            3    4      5     6           7            8    9      10    11  \\\n",
       "Datatype  TERM   RV      C  CTYP         RDL        EXCHB  DEF  MPD.U  BTYP   \n",
       "Value        7  100  1.875   FIX  2026-06-30  FF MU BL DD  MPD      %   STR   \n",
       "\n",
       "                12   13  \n",
       "Datatype       AIS  BAB  \n",
       "Value     33830130    5  "
      ]
     },
     "metadata": {},
     "output_type": "display_data"
    },
    {
     "data": {
      "text/html": [
       "<div>\n",
       "<style scoped>\n",
       "    .dataframe tbody tr th:only-of-type {\n",
       "        vertical-align: middle;\n",
       "    }\n",
       "\n",
       "    .dataframe tbody tr th {\n",
       "        vertical-align: top;\n",
       "    }\n",
       "\n",
       "    .dataframe thead th {\n",
       "        text-align: right;\n",
       "    }\n",
       "</style>\n",
       "<table border=\"1\" class=\"dataframe\">\n",
       "  <thead>\n",
       "    <tr style=\"text-align: right;\">\n",
       "      <th></th>\n",
       "      <th>date</th>\n",
       "      <th>years left to m</th>\n",
       "      <th>ds Price</th>\n",
       "      <th>ek Clean Price</th>\n",
       "      <th>ek Bid YTM</th>\n",
       "      <th>computed YTM with ds price</th>\n",
       "      <th>ek Clean Ask</th>\n",
       "      <th>ek Ask YTM</th>\n",
       "      <th>computed YTM with ek Ask price</th>\n",
       "      <th>ek Clean Mid</th>\n",
       "      <th>ek Mid YTM</th>\n",
       "      <th>computed YTM with ek Mid price</th>\n",
       "    </tr>\n",
       "  </thead>\n",
       "  <tbody>\n",
       "    <tr>\n",
       "      <th>0</th>\n",
       "      <td>2020-12-31</td>\n",
       "      <td>5.575000</td>\n",
       "      <td>107.8750</td>\n",
       "      <td>107.875000</td>\n",
       "      <td>0.4221</td>\n",
       "      <td>0.419448</td>\n",
       "      <td>107.906250</td>\n",
       "      <td>0.4166</td>\n",
       "      <td>0.414004</td>\n",
       "      <td>107.8906</td>\n",
       "      <td>0.42</td>\n",
       "      <td>0.416730</td>\n",
       "    </tr>\n",
       "    <tr>\n",
       "      <th>1</th>\n",
       "      <td>2021-07-20</td>\n",
       "      <td>5.016667</td>\n",
       "      <td>105.7813</td>\n",
       "      <td>105.781250</td>\n",
       "      <td>0.6835</td>\n",
       "      <td>0.694275</td>\n",
       "      <td>105.820312</td>\n",
       "      <td>0.6757</td>\n",
       "      <td>0.686596</td>\n",
       "      <td>105.8008</td>\n",
       "      <td>0.68</td>\n",
       "      <td>0.690436</td>\n",
       "    </tr>\n",
       "    <tr>\n",
       "      <th>2</th>\n",
       "      <td>2021-03-22</td>\n",
       "      <td>5.350000</td>\n",
       "      <td>104.7734</td>\n",
       "      <td>104.773438</td>\n",
       "      <td>0.9448</td>\n",
       "      <td>0.840582</td>\n",
       "      <td>104.812500</td>\n",
       "      <td>0.9374</td>\n",
       "      <td>0.833266</td>\n",
       "      <td>104.7930</td>\n",
       "      <td>0.94</td>\n",
       "      <td>0.836914</td>\n",
       "    </tr>\n",
       "  </tbody>\n",
       "</table>\n",
       "</div>"
      ],
      "text/plain": [
       "         date  years left to m  ds Price  ek Clean Price  ek Bid YTM  \\\n",
       "0  2020-12-31         5.575000  107.8750      107.875000      0.4221   \n",
       "1  2021-07-20         5.016667  105.7813      105.781250      0.6835   \n",
       "2  2021-03-22         5.350000  104.7734      104.773438      0.9448   \n",
       "\n",
       "   computed YTM with ds price  ek Clean Ask  ek Ask YTM  \\\n",
       "0                    0.419448    107.906250      0.4166   \n",
       "1                    0.694275    105.820312      0.6757   \n",
       "2                    0.840582    104.812500      0.9374   \n",
       "\n",
       "   computed YTM with ek Ask price  ek Clean Mid  ek Mid YTM  \\\n",
       "0                        0.414004      107.8906        0.42   \n",
       "1                        0.686596      105.8008        0.68   \n",
       "2                        0.833266      104.7930        0.94   \n",
       "\n",
       "   computed YTM with ek Mid price  \n",
       "0                        0.416730  \n",
       "1                        0.690436  \n",
       "2                        0.836914  "
      ]
     },
     "metadata": {},
     "output_type": "display_data"
    }
   ],
   "source": [
    "sc_233HJK = Sanity_Check(ric='9128287B0=', dates=[\"2020-12-31\", \"2021-07-20\", \"2021-03-22\"], m_=None, days_a_year=360)  # DS Code: 233HJK, ISIN: US9128287B09\n",
    "display(sc_233HJK[0], sc_233HJK[1])"
   ]
  },
  {
   "cell_type": "code",
   "execution_count": 104,
   "id": "d94172f0-69ed-4d57-a8fa-d4605f537d38",
   "metadata": {},
   "outputs": [
    {
     "data": {
      "text/plain": [
       "365"
      ]
     },
     "execution_count": 104,
     "metadata": {},
     "output_type": "execute_result"
    }
   ],
   "source": [
    "number_of_days = sum([pandas.Period(f'{2021}-{i}-1').daysinmonth for i in range(1,13)])\n",
    "number_of_days"
   ]
  },
  {
   "cell_type": "code",
   "execution_count": 98,
   "id": "1b962fb3-2092-462a-a87b-3923dfba0fd6",
   "metadata": {},
   "outputs": [
    {
     "data": {
      "text/plain": [
       "0.009935452250626947"
      ]
     },
     "execution_count": 98,
     "metadata": {},
     "output_type": "execute_result"
    }
   ],
   "source": [
    "YTM_Solver(fv=100, c=1.875,\n",
    "           m=(datetime.strptime(\"2026-06-30\",'%Y-%m-%d') - datetime.strptime(\"2021-03-22\", '%Y-%m-%d')).days/360,\n",
    "           p=104.812500, f_acf=0.5,\n",
    "           cash_flow_no_fv=[1.875/2 for i in range(11)])"
   ]
  },
  {
   "cell_type": "code",
   "execution_count": 97,
   "id": "6b8999e2-4701-4f4d-b2ee-cf62f826c4f0",
   "metadata": {},
   "outputs": [],
   "source": [
    "from scipy import optimize # ' scipy ' is a scientific Python library. We will use it to find the optimal Yield in our non-closed equation.\n",
    "\n",
    "\n",
    "def YTM_Solver(fv, c, m, p, f_acf, cash_flow_no_fv=None, cash_flow_with_fv=None, error=False, time_till_next_coupon=None):\n",
    "    \"\"\"YTM_Solver(fv, c, m, p, f_acf, cash_flow_no_fv=None, cash_flow_with_fv=None, error=False) Version 1.0\n",
    "    This Python function calculates the yield to maturity for a sovereign bond, wether coupon paying or not.\n",
    "\n",
    "    Dependencies\n",
    "    ----------\n",
    "\n",
    "    Python sub-library 'optimised' from 'scipy' version 1.6.2. Imported via following line:\n",
    "    >>> from scipy import optimize\n",
    "\n",
    "    Parameters\n",
    "    ----------\n",
    "\n",
    "    fv: int or float\n",
    "        Face Value (also known as (a.k.a.) Redemption Value) of the bond.\n",
    "        This has to be in the same currency as c and p.\n",
    "\n",
    "    c: int or float\n",
    "        Coupon that the bond pays every year - if any.\n",
    "        This has to be in the same currency as fv and p.\n",
    "        If the Bond doesn't pay Coupons, set it to 'None'.\n",
    "\n",
    "    m: int or float\n",
    "        Maturity (a.k.a.: Term) of the Bond in years - if any.\n",
    "        If it is less than a year, express it in a fraction (e.g.: 6 months as 1/2).\n",
    "\n",
    "    p: int or float\n",
    "        Realised price of the Bond.\n",
    "        This has to be in the same currency as fv and c.\n",
    "\n",
    "    f_acf: int or float\n",
    "          Annual compound frequency (such that if we compound cash flows annually, f_acf=1; and if we compound cash flows bi-annually (i.e.: twice a year / every 6 months), f_acf=0.5).\n",
    "          Coupons are paid at a fixed 'annual Coupon payment frequency' (f_acPf). Usually, the following are true:\n",
    "          - f_acPf = 0.5 , i.e.: Coupon payments are made every 6 months (i.e.: semi-annually)\n",
    "          - f_acf is set to the f_acPf such that f_acPf = f_acf\n",
    "          - Thus usually f_acPf = f_acpf = 0.5.\n",
    "\n",
    "    cash_flow_no_fv: None or list\n",
    "        Either ' cash_flow_no_fv ' and/or ' cash_flow_with_fv ' needs to be None.\n",
    "        If ' cash_flow_no_fv ' and ' cash_flow_with_fv ' are set to None, then cash_flow is set to ' [(f_acf*c)/((1 + f_acf*ytm)**i) for i in range(1, int(m/f_acf)+1)] '.\n",
    "        Else, ' cash_flow_no_fv ' needs to be a list of numbers (float or int) of each of the coupon payments - the last one needs to EXCLUDE the Face Value.\n",
    "\n",
    "    cash_flow_with_fv: None or list\n",
    "        Either ' cash_flow_no_fv ' and/or ' cash_flow_with_fv ' needs to be None.\n",
    "        If ' cash_flow_no_fv ' and ' cash_flow_with_fv ' are set to None, then cash_flow is set to ' [(f_acf*c)/((1 + f_acf*ytm)**i) for i in range(1, int(m/f_acf)+1)] '.\n",
    "        Else, ' cash_flow_no_fv ' needs to be a list of numbers (float or int) of each of the coupon payments - the last one needs to INCLUDE the Face Value.\n",
    "\n",
    "    error: boolean\n",
    "        If set to True and if the method used to compute the ytm is not infenitely precise (id est: if m > f_acf), then an error value away from the price of the bond is provided.\n",
    "        Default: error=False\n",
    "\n",
    "\n",
    "    Returns\n",
    "    -------\n",
    "\n",
    "    if the 'error' parameter is:\n",
    "        - Set to False: YTM_Solver returns a float as the ytm.\n",
    "        - Set to True: YTM_Solver returns a tuple of the ytm and the error. This is the eror in the price implied by the given ytm.\n",
    "\n",
    "    Examples:\n",
    "    --------\n",
    "\n",
    "    >>> ytm_op, err = YTM_Solver(fv=100, c=0.25, m=5, p=100.1016, f_acf=0.5, error=True)\n",
    "    >>> print(f\"Our optimal YTM is {ytm_op} with an error of {err}\")\n",
    "    >>> \n",
    "    >>> Our optimal YTM is 0.002295515059055049 with an error of 1.2434497875801753e-14\n",
    "    \"\"\"\n",
    "    \n",
    "    if cash_flow_no_fv is None and cash_flow_with_fv is None:\n",
    "        def YTM_Equation(ytm, fv, c, m, p, f_acf):\n",
    "            \"\"\"YTM_Equation is an ephemeral function created simply to be inbedded in scipy's optimize.newton function.\"\"\"\n",
    "            return (fv/((1 + (f_acf*ytm))**(m/f_acf))) - p + sum(\n",
    "                [(f_acf*c)/((1 + f_acf*ytm)**i) for i in range(1, int(m/f_acf)+1)])\n",
    "        \n",
    "    elif cash_flow_no_fv is not None and cash_flow_with_fv is None:\n",
    "        \n",
    "        if time_till_next_coupon is not None:\n",
    "            remainder = m%f_acf\n",
    "        m = m - remainder\n",
    "        def YTM_Equation(ytm, fv, c, m, p, f_acf):\n",
    "            \"\"\"YTM_Equation is an ephemeral function created simply to be inbedded in scipy's optimize.newton function.\"\"\"\n",
    "            NPV_in_r = (fv/((1 + (f_acf*ytm))**(m/f_acf))) + sum([j/((1 + f_acf*ytm)**(i+1)) for i, j in enumerate(cash_flow_no_fv)])\n",
    "            return (NPV_in_r/(1+ytm*remainder)) - p\n",
    "        \n",
    "#         def YTM_Equation(ytm, fv, c, m, p, f_acf):\n",
    "#             \"\"\"YTM_Equation is an ephemeral function created simply to be inbedded in scipy's optimize.newton function.\"\"\"\n",
    "#             return (fv/((1 + (f_acf*ytm))**(m/f_acf))) - p + sum(\n",
    "#                 [j/((1 + f_acf*ytm)**(i+1)) for i, j in enumerate(cash_flow_no_fv)])\n",
    "    \n",
    "    elif cash_flow_with_fv is not None and cash_flow_no_fv is None:\n",
    "        def YTM_Equation(ytm, fv, c, m, p, f_acf):\n",
    "            \"\"\"YTM_Equation is an ephemeral function created simply to be inbedded in scipy's optimize.newton function.\"\"\"\n",
    "            return (fv/((1 + (f_acf*ytm))**(m/f_acf))) - p + sum(\n",
    "                [j/((1 + f_acf*ytm)**(i+1)) for i, j in enumerate(cash_flow_with_fv)])\n",
    "    else:\n",
    "        print(\"Either ' cash_flow_no_fv ' and/or ' cash_flow_with_fv ' needs to be ' None '.\")\n",
    "\n",
    "    if m >= f_acf:  # Net Preset Values (NPVs) - and by extension Yields - of Bonds are valued with equations that depend on the relative value of their maturities and annual compound frequency.\n",
    "\n",
    "        ytm_op = optimize.newton(  # the ' _op ' here stands for 'optimal'\n",
    "            func=YTM_Equation,\n",
    "            x0=0.002,  # I simply chose ' 0.002 ' after 3 trial and improvement rounds.\n",
    "            args=(fv, c, m, p, f_acf))  # These stand for (respectively): fv, c, m, p and f_acf.\n",
    "\n",
    "        err = (fv/((1 + (f_acf*ytm_op))**(m/f_acf))) - p + sum(\n",
    "                [(f_acf*c)/((1 + f_acf*ytm_op)**i) for i in range(1, int(m/f_acf)+1)]) # YTM_Equation(ytm_op, fv, c, m, p, f_acf)\n",
    "\n",
    "    elif m < f_acf:\n",
    "        ytm_op = (((fv + (m*c))/p)-1)/m\n",
    "        err = 0\n",
    "\n",
    "    else:\n",
    "        return \"fv, c, m, p and f_acf must be numbers - either integers or floating point.\"\n",
    "\n",
    "\n",
    "    if error is False:\n",
    "        return ytm_op\n",
    "    elif error is True:\n",
    "        return ytm_op, err\n",
    "    else:\n",
    "        print(\"Parameter 'error' needs to be a boolean value of 'True' or 'False'.\")"
   ]
  },
  {
   "cell_type": "code",
   "execution_count": 279,
   "id": "40f0b331-2e54-46e9-bb24-3d7467d64cce",
   "metadata": {},
   "outputs": [],
   "source": [
    "cf2, _df = [], sc_233HJK[0].T\n",
    "for i in range(len(sc_233HJK_2021_07_20[0])-1):\n",
    "    _c = _df[_df['Datatype']=='RV'].iloc[-1,-1] * _df[_df['Datatype']=='C'].iloc[-1,-1] / 100\n",
    "    _cf = [_c for j in range(int(_df[_df['Datatype']=='TERM'].iloc[-1,-1] / 0.5))]\n",
    "    _cf[-1] = _cf[-1] + _df[_df['Datatype']=='RV'].iloc[-1,-1]\n",
    "    cf2.append(_cf)"
   ]
  },
  {
   "cell_type": "code",
   "execution_count": 280,
   "id": "e283a215-0381-46bc-bb2e-9942dfaef70e",
   "metadata": {
    "tags": []
   },
   "outputs": [
    {
     "data": {
      "text/plain": [
       "DatetimeIndex(['2021-12-31 00:00:00+00:00'], dtype='datetime64[ns, UTC]', freq='C')"
      ]
     },
     "execution_count": 280,
     "metadata": {},
     "output_type": "execute_result"
    }
   ],
   "source": [
    "nyse = mcal.get_calendar('NYSE')\n",
    "nyse.valid_days(start_date='2021-12-31', end_date='2021-12-31')"
   ]
  },
  {
   "cell_type": "code",
   "execution_count": 281,
   "id": "70115533-41ef-42b8-bd03-fe8a4b59a308",
   "metadata": {},
   "outputs": [
    {
     "name": "stdout",
     "output_type": "stream",
     "text": [
      "[datetime.datetime(2019, 12, 31, 0, 0), datetime.datetime(2020, 6, 30, 0, 0), datetime.datetime(2020, 12, 31, 0, 0), datetime.datetime(2021, 6, 30, 0, 0), datetime.datetime(2021, 12, 31, 0, 0), datetime.datetime(2022, 6, 30, 0, 0), datetime.datetime(2023, 1, 3, 0, 0), datetime.datetime(2023, 6, 30, 0, 0), datetime.datetime(2024, 1, 2, 0, 0), datetime.datetime(2024, 7, 1, 0, 0), datetime.datetime(2024, 12, 31, 0, 0), datetime.datetime(2025, 6, 30, 0, 0), datetime.datetime(2025, 12, 31, 0, 0), datetime.datetime(2026, 6, 30, 0, 0)]\n"
     ]
    }
   ],
   "source": [
    "_df = sc_233HJK_2021_07_20[0].T\n",
    "cfd = Coupon_Dates(\n",
    "    ID=_df[_df['Datatype'] == 'ID'].iloc[-1,-1],\n",
    "    TERM=_df[_df['Datatype'] == 'TERM'].iloc[-1,-1],\n",
    "    RDL=_df[_df['Datatype'] == 'RDL'].iloc[-1,-1],\n",
    "    day_type=\"business\", acpf=0.5)\n",
    "print(str(cfd))"
   ]
  },
  {
   "cell_type": "code",
   "execution_count": 282,
   "id": "56d29a46-f1d4-4177-a2c0-e8852e3849f7",
   "metadata": {},
   "outputs": [
    {
     "data": {
      "text/html": [
       "<div>\n",
       "<style scoped>\n",
       "    .dataframe tbody tr th:only-of-type {\n",
       "        vertical-align: middle;\n",
       "    }\n",
       "\n",
       "    .dataframe tbody tr th {\n",
       "        vertical-align: top;\n",
       "    }\n",
       "\n",
       "    .dataframe thead th {\n",
       "        text-align: right;\n",
       "    }\n",
       "</style>\n",
       "<table border=\"1\" class=\"dataframe\">\n",
       "  <thead>\n",
       "    <tr style=\"text-align: right;\">\n",
       "      <th></th>\n",
       "      <th>2019-12-31</th>\n",
       "      <th>2020-06-30</th>\n",
       "      <th>2020-12-31</th>\n",
       "      <th>2021-06-30</th>\n",
       "      <th>2021-12-31</th>\n",
       "      <th>2022-06-30</th>\n",
       "      <th>2023-01-03</th>\n",
       "      <th>2023-06-30</th>\n",
       "      <th>2024-01-02</th>\n",
       "      <th>2024-07-01</th>\n",
       "      <th>2024-12-31</th>\n",
       "      <th>2025-06-30</th>\n",
       "      <th>2025-12-31</th>\n",
       "      <th>2026-06-30</th>\n",
       "    </tr>\n",
       "  </thead>\n",
       "  <tbody>\n",
       "    <tr>\n",
       "      <th>0</th>\n",
       "      <td>1.875</td>\n",
       "      <td>1.875</td>\n",
       "      <td>1.875</td>\n",
       "      <td>1.875</td>\n",
       "      <td>1.875</td>\n",
       "      <td>1.875</td>\n",
       "      <td>1.875</td>\n",
       "      <td>1.875</td>\n",
       "      <td>1.875</td>\n",
       "      <td>1.875</td>\n",
       "      <td>1.875</td>\n",
       "      <td>1.875</td>\n",
       "      <td>1.875</td>\n",
       "      <td>101.875</td>\n",
       "    </tr>\n",
       "  </tbody>\n",
       "</table>\n",
       "</div>"
      ],
      "text/plain": [
       "   2019-12-31  2020-06-30  2020-12-31  2021-06-30  2021-12-31  2022-06-30  \\\n",
       "0       1.875       1.875       1.875       1.875       1.875       1.875   \n",
       "\n",
       "   2023-01-03  2023-06-30  2024-01-02  2024-07-01  2024-12-31  2025-06-30  \\\n",
       "0       1.875       1.875       1.875       1.875       1.875       1.875   \n",
       "\n",
       "   2025-12-31  2026-06-30  \n",
       "0       1.875     101.875  "
      ]
     },
     "execution_count": 282,
     "metadata": {},
     "output_type": "execute_result"
    }
   ],
   "source": [
    "pandas.DataFrame(data=_cf, index=cfd).T"
   ]
  },
  {
   "cell_type": "markdown",
   "id": "a23373ed-f99b-4f50-b83a-67daa432d6e0",
   "metadata": {},
   "source": [
    "### RIC: 912828S92=, DS Code: 834CJK, ISIN: US912828S927"
   ]
  },
  {
   "cell_type": "code",
   "execution_count": 283,
   "id": "a0cfb831-f3c2-4376-a869-45001591b9df",
   "metadata": {
    "tags": []
   },
   "outputs": [
    {
     "data": {
      "text/html": [
       "<div>\n",
       "<style scoped>\n",
       "    .dataframe tbody tr th:only-of-type {\n",
       "        vertical-align: middle;\n",
       "    }\n",
       "\n",
       "    .dataframe tbody tr th {\n",
       "        vertical-align: top;\n",
       "    }\n",
       "\n",
       "    .dataframe thead th {\n",
       "        text-align: right;\n",
       "    }\n",
       "</style>\n",
       "<table border=\"1\" class=\"dataframe\">\n",
       "  <thead>\n",
       "    <tr style=\"text-align: right;\">\n",
       "      <th></th>\n",
       "      <th>0</th>\n",
       "      <th>1</th>\n",
       "      <th>2</th>\n",
       "      <th>3</th>\n",
       "      <th>4</th>\n",
       "      <th>5</th>\n",
       "      <th>6</th>\n",
       "      <th>7</th>\n",
       "      <th>8</th>\n",
       "      <th>9</th>\n",
       "      <th>10</th>\n",
       "      <th>11</th>\n",
       "      <th>12</th>\n",
       "      <th>13</th>\n",
       "    </tr>\n",
       "  </thead>\n",
       "  <tbody>\n",
       "    <tr>\n",
       "      <th>Datatype</th>\n",
       "      <td>DSCD</td>\n",
       "      <td>NAME</td>\n",
       "      <td>ID</td>\n",
       "      <td>TERM</td>\n",
       "      <td>RV</td>\n",
       "      <td>C</td>\n",
       "      <td>CTYP</td>\n",
       "      <td>RDL</td>\n",
       "      <td>EXCHB</td>\n",
       "      <td>DEF</td>\n",
       "      <td>MPD.U</td>\n",
       "      <td>BTYP</td>\n",
       "      <td>AIS</td>\n",
       "      <td>BAB</td>\n",
       "    </tr>\n",
       "    <tr>\n",
       "      <th>Value</th>\n",
       "      <td>834CJK</td>\n",
       "      <td>US TREASURY NOTE 2016 1 1/4% 31/07/23 N-2023</td>\n",
       "      <td>2016-07-31</td>\n",
       "      <td>7</td>\n",
       "      <td>100</td>\n",
       "      <td>1.25</td>\n",
       "      <td>FIX</td>\n",
       "      <td>2023-07-31</td>\n",
       "      <td>ML FF SG MU BL DD ET</td>\n",
       "      <td>MPD</td>\n",
       "      <td>%</td>\n",
       "      <td>STR</td>\n",
       "      <td>29955420</td>\n",
       "      <td>5</td>\n",
       "    </tr>\n",
       "  </tbody>\n",
       "</table>\n",
       "</div>"
      ],
      "text/plain": [
       "              0                                             1           2   \\\n",
       "Datatype    DSCD                                          NAME          ID   \n",
       "Value     834CJK  US TREASURY NOTE 2016 1 1/4% 31/07/23 N-2023  2016-07-31   \n",
       "\n",
       "            3    4     5     6           7                     8    9      10  \\\n",
       "Datatype  TERM   RV     C  CTYP         RDL                 EXCHB  DEF  MPD.U   \n",
       "Value        7  100  1.25   FIX  2023-07-31  ML FF SG MU BL DD ET  MPD      %   \n",
       "\n",
       "            11        12   13  \n",
       "Datatype  BTYP       AIS  BAB  \n",
       "Value      STR  29955420    5  "
      ]
     },
     "metadata": {},
     "output_type": "display_data"
    },
    {
     "data": {
      "text/html": [
       "<div>\n",
       "<style scoped>\n",
       "    .dataframe tbody tr th:only-of-type {\n",
       "        vertical-align: middle;\n",
       "    }\n",
       "\n",
       "    .dataframe tbody tr th {\n",
       "        vertical-align: top;\n",
       "    }\n",
       "\n",
       "    .dataframe thead th {\n",
       "        text-align: right;\n",
       "    }\n",
       "</style>\n",
       "<table border=\"1\" class=\"dataframe\">\n",
       "  <thead>\n",
       "    <tr style=\"text-align: right;\">\n",
       "      <th></th>\n",
       "      <th>date</th>\n",
       "      <th>years left to m</th>\n",
       "      <th>ds Price</th>\n",
       "      <th>ek Clean Price</th>\n",
       "      <th>ek Bid YTM</th>\n",
       "      <th>computed YTM with ds price</th>\n",
       "      <th>ek Clean Ask</th>\n",
       "      <th>ek Ask YTM</th>\n",
       "      <th>computed YTM with ek Ask price</th>\n",
       "      <th>ek Clean Mid</th>\n",
       "      <th>ek Mid YTM</th>\n",
       "      <th>computed YTM with ek Mid price</th>\n",
       "    </tr>\n",
       "  </thead>\n",
       "  <tbody>\n",
       "    <tr>\n",
       "      <th>0</th>\n",
       "      <td>2021-07-20</td>\n",
       "      <td>2.058333</td>\n",
       "      <td>102.1094</td>\n",
       "      <td>102.109375</td>\n",
       "      <td>0.207</td>\n",
       "      <td>0.187374</td>\n",
       "      <td>102.140625</td>\n",
       "      <td>0.1917</td>\n",
       "      <td>0.172362</td>\n",
       "      <td>102.125</td>\n",
       "      <td>0.2</td>\n",
       "      <td>0.179873</td>\n",
       "    </tr>\n",
       "  </tbody>\n",
       "</table>\n",
       "</div>"
      ],
      "text/plain": [
       "         date  years left to m  ds Price  ek Clean Price  ek Bid YTM  \\\n",
       "0  2021-07-20         2.058333  102.1094      102.109375       0.207   \n",
       "\n",
       "   computed YTM with ds price  ek Clean Ask  ek Ask YTM  \\\n",
       "0                    0.187374    102.140625      0.1917   \n",
       "\n",
       "   computed YTM with ek Ask price  ek Clean Mid  ek Mid YTM  \\\n",
       "0                        0.172362       102.125         0.2   \n",
       "\n",
       "   computed YTM with ek Mid price  \n",
       "0                        0.179873  "
      ]
     },
     "metadata": {},
     "output_type": "display_data"
    }
   ],
   "source": [
    "sc_834CJK_2021_07_20 = Sanity_Check('912828S92=', [\"2021-07-20\"])  # DS Code: 834CJK, ISIN: US912828S927\n",
    "display(sc_834CJK_2021_07_20[0], sc_834CJK_2021_07_20[1])"
   ]
  },
  {
   "cell_type": "code",
   "execution_count": 284,
   "id": "b73fd120-7300-4b9c-96f0-310e10abfec4",
   "metadata": {},
   "outputs": [],
   "source": [
    "cf2, _df = [], sc_834CJK_2021_07_20[0].T\n",
    "for i in range(len(sc_834CJK_2021_07_20[0])-1):\n",
    "    _c = _df[_df['Datatype']=='RV'].iloc[-1,-1] * _df[_df['Datatype']=='C'].iloc[-1,-1] / 100\n",
    "    _cf = [_c for j in range(int(_df[_df['Datatype']=='TERM'].iloc[-1,-1] / 0.5))]\n",
    "    _cf[-1] = _cf[-1] + _df[_df['Datatype']=='RV'].iloc[-1,-1]\n",
    "    cf2.append(_cf)"
   ]
  },
  {
   "cell_type": "code",
   "execution_count": 287,
   "id": "c1fa0fe5-5cf5-4980-8f05-3a11305adf53",
   "metadata": {},
   "outputs": [
    {
     "name": "stdout",
     "output_type": "stream",
     "text": [
      "[datetime.datetime(2017, 1, 31, 0, 0), datetime.datetime(2017, 7, 31, 0, 0), datetime.datetime(2018, 1, 31, 0, 0), datetime.datetime(2018, 7, 31, 0, 0), datetime.datetime(2019, 1, 31, 0, 0), datetime.datetime(2019, 7, 31, 0, 0), datetime.datetime(2020, 1, 31, 0, 0), datetime.datetime(2020, 7, 31, 0, 0), datetime.datetime(2021, 2, 1, 0, 0), datetime.datetime(2021, 8, 2, 0, 0), datetime.datetime(2022, 1, 31, 0, 0), datetime.datetime(2022, 8, 1, 0, 0), datetime.datetime(2023, 1, 31, 0, 0), datetime.datetime(2023, 7, 31, 0, 0)]\n"
     ]
    }
   ],
   "source": [
    "cfd = Coupon_Dates(\n",
    "    ID=_df[_df['Datatype'] == 'ID'].iloc[-1,-1],\n",
    "    TERM=_df[_df['Datatype'] == 'TERM'].iloc[-1,-1],\n",
    "    RDL=_df[_df['Datatype'] == 'RDL'].iloc[-1,-1],\n",
    "    day_type=\"business\", acpf=0.5)\n",
    "print(str(cfd))"
   ]
  },
  {
   "cell_type": "code",
   "execution_count": 288,
   "id": "8fd146fa-f33c-4120-a86f-44714a4d1c95",
   "metadata": {},
   "outputs": [
    {
     "data": {
      "text/html": [
       "<div>\n",
       "<style scoped>\n",
       "    .dataframe tbody tr th:only-of-type {\n",
       "        vertical-align: middle;\n",
       "    }\n",
       "\n",
       "    .dataframe tbody tr th {\n",
       "        vertical-align: top;\n",
       "    }\n",
       "\n",
       "    .dataframe thead th {\n",
       "        text-align: right;\n",
       "    }\n",
       "</style>\n",
       "<table border=\"1\" class=\"dataframe\">\n",
       "  <thead>\n",
       "    <tr style=\"text-align: right;\">\n",
       "      <th></th>\n",
       "      <th>2017-01-31</th>\n",
       "      <th>2017-07-31</th>\n",
       "      <th>2018-01-31</th>\n",
       "      <th>2018-07-31</th>\n",
       "      <th>2019-01-31</th>\n",
       "      <th>2019-07-31</th>\n",
       "      <th>2020-01-31</th>\n",
       "      <th>2020-07-31</th>\n",
       "      <th>2021-02-01</th>\n",
       "      <th>2021-08-02</th>\n",
       "      <th>2022-01-31</th>\n",
       "      <th>2022-08-01</th>\n",
       "      <th>2023-01-31</th>\n",
       "      <th>2023-07-31</th>\n",
       "    </tr>\n",
       "  </thead>\n",
       "  <tbody>\n",
       "    <tr>\n",
       "      <th>0</th>\n",
       "      <td>1.25</td>\n",
       "      <td>1.25</td>\n",
       "      <td>1.25</td>\n",
       "      <td>1.25</td>\n",
       "      <td>1.25</td>\n",
       "      <td>1.25</td>\n",
       "      <td>1.25</td>\n",
       "      <td>1.25</td>\n",
       "      <td>1.25</td>\n",
       "      <td>1.25</td>\n",
       "      <td>1.25</td>\n",
       "      <td>1.25</td>\n",
       "      <td>1.25</td>\n",
       "      <td>101.25</td>\n",
       "    </tr>\n",
       "  </tbody>\n",
       "</table>\n",
       "</div>"
      ],
      "text/plain": [
       "   2017-01-31  2017-07-31  2018-01-31  2018-07-31  2019-01-31  2019-07-31  \\\n",
       "0        1.25        1.25        1.25        1.25        1.25        1.25   \n",
       "\n",
       "   2020-01-31  2020-07-31  2021-02-01  2021-08-02  2022-01-31  2022-08-01  \\\n",
       "0        1.25        1.25        1.25        1.25        1.25        1.25   \n",
       "\n",
       "   2023-01-31  2023-07-31  \n",
       "0        1.25      101.25  "
      ]
     },
     "execution_count": 288,
     "metadata": {},
     "output_type": "execute_result"
    }
   ],
   "source": [
    "pandas.DataFrame(data=_cf, index=cfd).T"
   ]
  },
  {
   "cell_type": "code",
   "execution_count": null,
   "id": "d99325a9-283b-4a3b-97cd-4098cbb34aa7",
   "metadata": {},
   "outputs": [],
   "source": []
  },
  {
   "cell_type": "code",
   "execution_count": null,
   "id": "542620b4-f330-43b1-945c-bc089e5f96d5",
   "metadata": {},
   "outputs": [],
   "source": []
  },
  {
   "cell_type": "code",
   "execution_count": null,
   "id": "1753cda5-a85b-4191-a0a7-475db4785f7b",
   "metadata": {},
   "outputs": [],
   "source": []
  },
  {
   "cell_type": "code",
   "execution_count": null,
   "id": "872aba90-88f0-42f1-b7ce-fe6d6192a8ba",
   "metadata": {},
   "outputs": [],
   "source": []
  },
  {
   "cell_type": "code",
   "execution_count": null,
   "id": "f0b12127-8946-437d-b5b1-d76114273060",
   "metadata": {},
   "outputs": [],
   "source": []
  },
  {
   "cell_type": "code",
   "execution_count": null,
   "id": "c742961c-8462-4116-9408-99927bc16b68",
   "metadata": {},
   "outputs": [],
   "source": []
  },
  {
   "cell_type": "code",
   "execution_count": null,
   "id": "f572110e-9180-46ee-899a-a67cf935e1f0",
   "metadata": {},
   "outputs": [],
   "source": []
  },
  {
   "cell_type": "code",
   "execution_count": null,
   "id": "7e3a0bcf-fe33-4cc9-9ffa-0983bedec8e7",
   "metadata": {},
   "outputs": [],
   "source": []
  },
  {
   "cell_type": "code",
   "execution_count": null,
   "id": "844eb161-ba0e-4a26-b7cf-a2269a2c9206",
   "metadata": {},
   "outputs": [],
   "source": []
  },
  {
   "cell_type": "code",
   "execution_count": null,
   "id": "bf8a5d9c-77d9-43fd-b9b0-84c9e74e7163",
   "metadata": {},
   "outputs": [],
   "source": []
  },
  {
   "cell_type": "code",
   "execution_count": null,
   "id": "b02a9967-f900-438a-9d1c-6345677bb25e",
   "metadata": {},
   "outputs": [],
   "source": []
  },
  {
   "cell_type": "code",
   "execution_count": null,
   "id": "6e9ff439-3b53-4156-8c98-a1be64487860",
   "metadata": {},
   "outputs": [],
   "source": []
  },
  {
   "cell_type": "code",
   "execution_count": null,
   "id": "42d90a1f-b8a6-4cda-af9b-c729dfa9ae71",
   "metadata": {},
   "outputs": [],
   "source": []
  },
  {
   "cell_type": "code",
   "execution_count": null,
   "id": "e4b7e94f-e3b6-4ceb-ba33-67d2c3bcdc38",
   "metadata": {},
   "outputs": [],
   "source": []
  },
  {
   "cell_type": "code",
   "execution_count": null,
   "id": "bc6a6f3d-3bd8-48cb-8aa8-ce5d8d614765",
   "metadata": {},
   "outputs": [],
   "source": []
  },
  {
   "cell_type": "code",
   "execution_count": null,
   "id": "3a0fd6d5-66bd-4d6d-a3ef-1f48e6862aae",
   "metadata": {},
   "outputs": [],
   "source": []
  },
  {
   "cell_type": "code",
   "execution_count": null,
   "id": "539a6467-9379-4198-babd-4d33cb900fa3",
   "metadata": {},
   "outputs": [],
   "source": []
  },
  {
   "cell_type": "code",
   "execution_count": null,
   "id": "75e5cf17-e409-4781-ac5e-65aa9628cf05",
   "metadata": {},
   "outputs": [],
   "source": []
  },
  {
   "cell_type": "code",
   "execution_count": null,
   "id": "5a966c49-cad9-46e1-9fb9-018514fe8153",
   "metadata": {},
   "outputs": [],
   "source": []
  },
  {
   "cell_type": "code",
   "execution_count": null,
   "id": "0acfc1fc-b162-46a1-93a0-6bbf8e1fa675",
   "metadata": {},
   "outputs": [],
   "source": []
  },
  {
   "cell_type": "code",
   "execution_count": null,
   "id": "30b658be-fa72-43ef-bf1a-dba109cea1ff",
   "metadata": {},
   "outputs": [],
   "source": []
  },
  {
   "cell_type": "code",
   "execution_count": null,
   "id": "8b365de1-0424-4db9-bb5f-e99f5098f4c6",
   "metadata": {},
   "outputs": [],
   "source": []
  },
  {
   "cell_type": "code",
   "execution_count": null,
   "id": "8561dced-c044-4e17-9fc2-e992dcc57508",
   "metadata": {},
   "outputs": [],
   "source": []
  },
  {
   "cell_type": "code",
   "execution_count": null,
   "id": "19febdb3-c2e1-4609-9de2-7a82c8d0461e",
   "metadata": {},
   "outputs": [],
   "source": []
  },
  {
   "cell_type": "code",
   "execution_count": null,
   "id": "801cc94b-15a5-4657-8f70-62aa329b8ae9",
   "metadata": {},
   "outputs": [],
   "source": []
  },
  {
   "cell_type": "code",
   "execution_count": null,
   "id": "2bb99dbe-ec23-4fcf-a95d-c5d911e1fba6",
   "metadata": {},
   "outputs": [],
   "source": []
  },
  {
   "cell_type": "code",
   "execution_count": null,
   "id": "d32b53be-d0c6-4ab5-b2ec-65ff5d633877",
   "metadata": {},
   "outputs": [],
   "source": []
  },
  {
   "cell_type": "code",
   "execution_count": null,
   "id": "40efbf56-1a5a-488a-9f55-7097168640aa",
   "metadata": {},
   "outputs": [],
   "source": []
  },
  {
   "cell_type": "code",
   "execution_count": null,
   "id": "b05bbddd-6573-4470-a1af-df19ff78b95b",
   "metadata": {},
   "outputs": [],
   "source": []
  },
  {
   "cell_type": "code",
   "execution_count": null,
   "id": "e054f11c-c74b-4028-8edb-f972ea85d532",
   "metadata": {},
   "outputs": [],
   "source": []
  },
  {
   "cell_type": "code",
   "execution_count": null,
   "id": "ed9c22f6-1cca-4517-ab3e-c53230992eba",
   "metadata": {},
   "outputs": [],
   "source": []
  },
  {
   "cell_type": "code",
   "execution_count": null,
   "id": "afad2f2e-402d-4e41-a38b-78838355d1f7",
   "metadata": {},
   "outputs": [],
   "source": []
  },
  {
   "cell_type": "code",
   "execution_count": null,
   "id": "b7ae3688-5bba-4e9b-887c-f862c81cb82e",
   "metadata": {},
   "outputs": [],
   "source": []
  },
  {
   "cell_type": "code",
   "execution_count": null,
   "id": "ecbda1ed-3141-41a7-81d4-1172d0cd2b1e",
   "metadata": {},
   "outputs": [],
   "source": []
  },
  {
   "cell_type": "code",
   "execution_count": null,
   "id": "62d03e05-9ee5-4af0-860b-1b52f8f76e59",
   "metadata": {},
   "outputs": [],
   "source": []
  },
  {
   "cell_type": "code",
   "execution_count": null,
   "id": "0cf0ef8e-643e-44e0-94dd-3e5aea24b208",
   "metadata": {},
   "outputs": [],
   "source": []
  },
  {
   "cell_type": "code",
   "execution_count": null,
   "id": "e2bf89fb-d5c5-4b19-b0f9-8cb56b9f6ccb",
   "metadata": {},
   "outputs": [],
   "source": []
  },
  {
   "cell_type": "code",
   "execution_count": null,
   "id": "df14262b-a153-4696-ae40-bdacfce755ba",
   "metadata": {},
   "outputs": [],
   "source": []
  },
  {
   "cell_type": "code",
   "execution_count": null,
   "id": "289537fc-5cba-4781-8fa1-e9eb33c1d3b0",
   "metadata": {},
   "outputs": [],
   "source": []
  },
  {
   "cell_type": "code",
   "execution_count": null,
   "id": "f6ec221c-4245-4c2d-8a18-5036ebd5b0b6",
   "metadata": {},
   "outputs": [],
   "source": []
  },
  {
   "cell_type": "code",
   "execution_count": null,
   "id": "c3c547b9-c4b7-40f2-93de-1269cc083522",
   "metadata": {},
   "outputs": [],
   "source": []
  },
  {
   "cell_type": "code",
   "execution_count": null,
   "id": "20b20ec8-dca9-4555-9b9a-031251d03f8e",
   "metadata": {},
   "outputs": [],
   "source": []
  },
  {
   "cell_type": "code",
   "execution_count": null,
   "id": "4a28b64c-0452-4c64-945d-baca0b7ac0f1",
   "metadata": {},
   "outputs": [],
   "source": []
  },
  {
   "cell_type": "code",
   "execution_count": null,
   "id": "e1dc3214-9a47-41fc-9bc5-b3ae21f4c992",
   "metadata": {},
   "outputs": [],
   "source": []
  },
  {
   "cell_type": "code",
   "execution_count": null,
   "id": "591c6b09-86d9-4b12-a285-7be9e768f177",
   "metadata": {},
   "outputs": [],
   "source": []
  },
  {
   "cell_type": "code",
   "execution_count": null,
   "id": "0e4d9078-4b01-449a-87ac-41a1c68d855a",
   "metadata": {},
   "outputs": [],
   "source": []
  },
  {
   "cell_type": "code",
   "execution_count": null,
   "id": "ce53e68b-cea5-4a22-a087-f2cc3ee5139b",
   "metadata": {},
   "outputs": [],
   "source": []
  },
  {
   "cell_type": "code",
   "execution_count": null,
   "id": "0062ba9e-9045-4420-bb20-c933ad1565ee",
   "metadata": {},
   "outputs": [],
   "source": []
  },
  {
   "cell_type": "code",
   "execution_count": null,
   "id": "1d9cd6c3-9604-46ba-b87c-6809f412f697",
   "metadata": {},
   "outputs": [],
   "source": []
  },
  {
   "cell_type": "code",
   "execution_count": null,
   "id": "917b2832-d7b9-46b9-a125-451e591d3d88",
   "metadata": {},
   "outputs": [],
   "source": []
  },
  {
   "cell_type": "code",
   "execution_count": null,
   "id": "62a814dc-3b80-40f8-bef7-ee3042431ec2",
   "metadata": {},
   "outputs": [],
   "source": []
  },
  {
   "cell_type": "code",
   "execution_count": null,
   "id": "0ceebcf7-b709-4541-9542-07d9fb4b7837",
   "metadata": {},
   "outputs": [],
   "source": []
  },
  {
   "cell_type": "code",
   "execution_count": null,
   "id": "236371f3-bedd-45b1-8b2f-1c8555c921ff",
   "metadata": {},
   "outputs": [],
   "source": []
  },
  {
   "cell_type": "code",
   "execution_count": null,
   "id": "ea585590-8ccf-4eb5-bb73-ff807f419ae1",
   "metadata": {},
   "outputs": [],
   "source": []
  },
  {
   "cell_type": "code",
   "execution_count": null,
   "id": "bb634d46-9af8-4ac0-9804-43c55024f8a2",
   "metadata": {},
   "outputs": [],
   "source": []
  },
  {
   "cell_type": "code",
   "execution_count": null,
   "id": "bd0e72bb-b2b5-4110-abde-b3179f486906",
   "metadata": {},
   "outputs": [],
   "source": []
  },
  {
   "cell_type": "code",
   "execution_count": null,
   "id": "f0b9886d-2f07-484f-80a0-619addf2d5f9",
   "metadata": {},
   "outputs": [],
   "source": []
  },
  {
   "cell_type": "code",
   "execution_count": null,
   "id": "46e48285-607c-41a9-b922-faab87a13683",
   "metadata": {},
   "outputs": [],
   "source": []
  },
  {
   "cell_type": "code",
   "execution_count": null,
   "id": "96d417e7-987b-4736-b9c8-3c41776e9f3d",
   "metadata": {},
   "outputs": [],
   "source": []
  },
  {
   "cell_type": "code",
   "execution_count": null,
   "id": "aa176732-c398-4357-a593-fe0084904946",
   "metadata": {},
   "outputs": [],
   "source": []
  },
  {
   "cell_type": "code",
   "execution_count": null,
   "id": "e905cbbd-24ef-4e4d-a660-a78aa1231ebb",
   "metadata": {},
   "outputs": [],
   "source": []
  },
  {
   "cell_type": "code",
   "execution_count": null,
   "id": "21905474-7a3d-412f-ae70-a0b258bf475d",
   "metadata": {},
   "outputs": [],
   "source": []
  },
  {
   "cell_type": "code",
   "execution_count": null,
   "id": "12a42e5e-736c-4e49-89f9-e2dfbb4aa2b3",
   "metadata": {},
   "outputs": [],
   "source": []
  },
  {
   "cell_type": "code",
   "execution_count": null,
   "id": "6dd6be5a-bd02-4027-b289-15e70e11e9e6",
   "metadata": {},
   "outputs": [],
   "source": []
  },
  {
   "cell_type": "code",
   "execution_count": null,
   "id": "6ebe0cb7-f4f7-485b-969f-5114ff2bd60e",
   "metadata": {},
   "outputs": [],
   "source": []
  },
  {
   "cell_type": "code",
   "execution_count": null,
   "id": "f29ef383-4aa4-41d6-a08c-5d90bad8ef30",
   "metadata": {},
   "outputs": [],
   "source": []
  },
  {
   "cell_type": "code",
   "execution_count": null,
   "id": "c544773d-f2f4-4ff7-943f-f1aa0834c445",
   "metadata": {},
   "outputs": [],
   "source": []
  },
  {
   "cell_type": "code",
   "execution_count": null,
   "id": "64b0c22c-e679-4737-b795-888e0d29fd48",
   "metadata": {},
   "outputs": [],
   "source": []
  },
  {
   "cell_type": "code",
   "execution_count": null,
   "id": "95d06900-95af-4f88-b649-1d7424e09e0a",
   "metadata": {},
   "outputs": [],
   "source": []
  },
  {
   "cell_type": "code",
   "execution_count": null,
   "id": "3e8521e4-3ce8-44d0-8c2f-9e7813dc772c",
   "metadata": {},
   "outputs": [],
   "source": []
  },
  {
   "cell_type": "code",
   "execution_count": null,
   "id": "4a7f66d2-e7ad-4a4c-87e1-9b91829e984a",
   "metadata": {},
   "outputs": [],
   "source": []
  },
  {
   "cell_type": "code",
   "execution_count": null,
   "id": "9dbc0a4b-ad2b-4a6c-8772-f77f8a456030",
   "metadata": {},
   "outputs": [],
   "source": []
  },
  {
   "cell_type": "code",
   "execution_count": null,
   "id": "e117b1b9-b0bd-4d14-9c17-a4a86bd9e3f0",
   "metadata": {},
   "outputs": [],
   "source": []
  },
  {
   "cell_type": "code",
   "execution_count": null,
   "id": "5492667d-7eea-4dfe-8e23-d2cb6662052b",
   "metadata": {},
   "outputs": [],
   "source": []
  },
  {
   "cell_type": "code",
   "execution_count": null,
   "id": "5a6c410b-4d3b-4e40-bb3a-90c00ed64827",
   "metadata": {},
   "outputs": [],
   "source": []
  },
  {
   "cell_type": "code",
   "execution_count": null,
   "id": "a0f40643-2f11-45c9-a6a5-5c974edcbd31",
   "metadata": {},
   "outputs": [],
   "source": []
  },
  {
   "cell_type": "code",
   "execution_count": null,
   "id": "f6ac3784-7743-4ce4-bea2-b581deeffd71",
   "metadata": {},
   "outputs": [],
   "source": []
  },
  {
   "cell_type": "code",
   "execution_count": null,
   "id": "21b4900e-f78f-498f-89d5-07cfb38c95ad",
   "metadata": {},
   "outputs": [],
   "source": []
  },
  {
   "cell_type": "code",
   "execution_count": null,
   "id": "52d3ed6e-8f2c-4674-98a5-7a9921f3f3ac",
   "metadata": {},
   "outputs": [],
   "source": []
  },
  {
   "cell_type": "code",
   "execution_count": null,
   "id": "8c70e035-584c-4993-adcc-97d3a175f5c0",
   "metadata": {},
   "outputs": [],
   "source": []
  },
  {
   "cell_type": "code",
   "execution_count": null,
   "id": "7385bf92-af9a-4f8b-baa8-685243fbd58c",
   "metadata": {},
   "outputs": [],
   "source": []
  },
  {
   "cell_type": "code",
   "execution_count": null,
   "id": "8325dd4a-3bfb-402e-b886-a934a07712c2",
   "metadata": {},
   "outputs": [],
   "source": []
  },
  {
   "cell_type": "code",
   "execution_count": null,
   "id": "66bff02c-00ee-422a-8629-0c5af381fa4f",
   "metadata": {},
   "outputs": [],
   "source": []
  },
  {
   "cell_type": "code",
   "execution_count": null,
   "id": "ec866fae-11e3-420d-aaed-f6df7fe75345",
   "metadata": {},
   "outputs": [],
   "source": []
  },
  {
   "cell_type": "code",
   "execution_count": null,
   "id": "8974c767-ffd1-472e-a8e8-6b063b7f5a2c",
   "metadata": {},
   "outputs": [],
   "source": []
  },
  {
   "cell_type": "code",
   "execution_count": null,
   "id": "a8917863-27a8-4370-bf92-346a5f7dcf24",
   "metadata": {},
   "outputs": [],
   "source": []
  },
  {
   "cell_type": "code",
   "execution_count": null,
   "id": "0550f67d-bc43-49eb-a523-4b67b5a4ef17",
   "metadata": {},
   "outputs": [],
   "source": []
  },
  {
   "cell_type": "code",
   "execution_count": null,
   "id": "acac3ef0-4005-4714-8013-2573ac9b2895",
   "metadata": {},
   "outputs": [],
   "source": []
  },
  {
   "cell_type": "code",
   "execution_count": null,
   "id": "b47c8dc5-16c3-416a-9dc3-a379d65f17c9",
   "metadata": {},
   "outputs": [],
   "source": []
  },
  {
   "cell_type": "code",
   "execution_count": null,
   "id": "a198ed87-89dd-4f42-99ec-11bb404acd63",
   "metadata": {},
   "outputs": [],
   "source": []
  },
  {
   "cell_type": "code",
   "execution_count": null,
   "id": "9540705d-4504-4e83-adec-c2a958b53f2b",
   "metadata": {},
   "outputs": [],
   "source": []
  },
  {
   "cell_type": "code",
   "execution_count": null,
   "id": "7af53988-7e07-492b-b740-1328108e0341",
   "metadata": {},
   "outputs": [],
   "source": []
  },
  {
   "cell_type": "code",
   "execution_count": null,
   "id": "1a3a08fc-1ada-407c-90f1-55db7c891495",
   "metadata": {},
   "outputs": [],
   "source": []
  },
  {
   "cell_type": "code",
   "execution_count": null,
   "id": "8e4be37f-e7eb-4c94-a1b1-a3851831faf3",
   "metadata": {},
   "outputs": [],
   "source": []
  },
  {
   "cell_type": "code",
   "execution_count": null,
   "id": "d303dd8b-3d9c-44c9-ae62-870499afa57c",
   "metadata": {},
   "outputs": [],
   "source": []
  },
  {
   "cell_type": "code",
   "execution_count": null,
   "id": "b33b95fc-af2e-4303-88a5-76d7fd624fed",
   "metadata": {},
   "outputs": [],
   "source": []
  },
  {
   "cell_type": "code",
   "execution_count": null,
   "id": "08b9abf5-ad3f-4560-a2f5-9590ee5583a3",
   "metadata": {},
   "outputs": [],
   "source": []
  },
  {
   "cell_type": "markdown",
   "id": "d82b287b-5dfd-4a97-97d3-0094134dbcdf",
   "metadata": {},
   "source": [
    "## Risk-free rates from Spot Rates of Coupon-Paying-Bonds"
   ]
  },
  {
   "cell_type": "markdown",
   "id": "d37a90ce-1998-4f5b-9ed6-5a1279ac8620",
   "metadata": {},
   "source": [
    "If you are interested in [compounding](https://www.investopedia.com/terms/c/compounding.asp), straight-line / arithmetic / [geometric](https://en.wikipedia.org/wiki/Exponential_growth) accruals please read [Part 1](https://developers.refinitiv.com/en/article-catalog/article/computing-risk-free-rates-and-excess-returns-from-zero-coupon-bonds) on [risk-free rates](https://developers.refinitiv.com/en/article-catalog/article/computing-risk-free-rates-and-excess-returns-from-zero-coupon-bonds#RiskfreerateofaOneMonthTBill). Risk free rates can be computed with the bellow from Zero-Coupon-Bonds. We can therefore now use Coupon-Paying-Bonds' Spot Rates to calculate risk free rates with the below:"
   ]
  },
  {
   "cell_type": "markdown",
   "id": "dc58efc4-61ef-4a9a-ab9c-e1e78e281fe4",
   "metadata": {},
   "source": [
    "$$\\mathbf{r_f = \\sqrt[d]{1 + {SR}_{{Bond}_t, t}} - 1}$$\n",
    "Where $d$ is the compounding frequency"
   ]
  },
  {
   "cell_type": "markdown",
   "id": "365c9d71-65fd-4adb-bbc2-4e5015f9e847",
   "metadata": {},
   "source": [
    "It is this simple because YTMs are annualised - and thus are Spot-Rates. *E.g.*: If ${SR}_{\\text{SYTN}_{\"2020-12-31\"}, 2020-12-31} \\approx 0.006541635089218456$ : $$r_f \\approx \\sqrt[365]{1 + 0.006541635089218456} - 1 \\approx 0.000017864081344409755 \\approx 0.00179 \\%$$ since:"
   ]
  },
  {
   "cell_type": "code",
   "execution_count": null,
   "id": "6e8c7e43-5e8a-4a76-9e3d-02102c604b42",
   "metadata": {},
   "outputs": [],
   "source": [
    "((1 + on_off_df_as_of_2020_12_31.iloc[-1, -1])**(1/365)) - 1"
   ]
  },
  {
   "cell_type": "markdown",
   "id": "6b095233-031d-4f80-bbc3-7e79087abc2a",
   "metadata": {},
   "source": [
    "This is the **YTM implied daily risk-free rate** ($r_f$) of our bond. A similar 'weekly' - 7 day - or 'monthly' - 30 day - rate can be made by letting $d$ be the number of weeks or months for the year in question.\n",
    "\n",
    "Why would one use 30 days (as per our example)? Because the 1-, 2-, and 3-month rates are equivalent to the 30-, 60-, and 90-day dates respectively, reported on [the Board's Commercial Paper Web page](www.federalreserve.gov/releases/cp/). This is as per reference (see more [here](https://www.federalreserve.gov/releases/h15/current/h15.pdf)) with that said, one ought to use the exact number of days to maturity."
   ]
  },
  {
   "cell_type": "markdown",
   "id": "20c6d0c9-926a-41c8-9104-450560a05a0e",
   "metadata": {},
   "source": [
    "Using the defined function ```ZCB_YTM_Implied_r_f``` from [Part 1](https://developers.refinitiv.com/en/article-catalog/article/computing-risk-free-rates-and-excess-returns-from-zero-coupon-bonds#CreateafunctiontocomputetheriskfreerateofreturnforanyZeroCouponBondsYieldToMaturitygatheredfromDatastream) we can easily compute risk free rates as per the Python code ```r_f = ((ytm + 1)**(1/d))-1``` for $r_f$ values of a frequency $f_{acf}$ which we've set to 6-months such that:"
   ]
  },
  {
   "cell_type": "code",
   "execution_count": null,
   "id": "0091437d-c958-4c0a-be91-1d9c3d9894f8",
   "metadata": {},
   "outputs": [],
   "source": [
    "on_off_df_as_of_2020_12_31[\"rf\"] = list(\n",
    "    ((on_off_df_as_of_2020_12_31[\"Spot Rates as of 2020-12-31\"] + 1)**(1/4))-1)"
   ]
  },
  {
   "cell_type": "code",
   "execution_count": null,
   "id": "2e5da071-81c3-4d53-a9d4-66cff4072bbb",
   "metadata": {},
   "outputs": [],
   "source": [
    "on_off_df_as_of_2020_12_31"
   ]
  },
  {
   "cell_type": "markdown",
   "id": "7d3c2427-fe93-4234-9bf2-e40d412bcb61",
   "metadata": {},
   "source": [
    "## Excess Returns from Spot Rates of Coupon-Paying-Bonds ($R_t$)\n",
    "\n",
    "Now that we have risk-free rates, it is easy to compute the excess return of any instrument.\n",
    "\n",
    "The excess returns ($XSR_{t}$) at time t are computed from its price ($P_{t}$) and the chosen risk free rate (${r_f}_t$) such that:\n",
    "\n",
    "$$\\begin{equation}\n",
    "    XSR_{t} = \\frac{P_{t} - P_{t-1}}{P_{t-1}} - {r_f}_t\n",
    "\\end{equation}$$\n",
    "\n",
    "Note here that: Due to the differencing necessary to calculate 'XSR', the first value is empty.\n",
    "\n",
    "We define the (time) vector\n",
    "$$ \\mathbf{XSR}\n",
    "=\n",
    "\\left[ \\begin{matrix}\n",
    "    XSR_{1} \\\\\n",
    "    XSR_{2} \\\\\n",
    "    \\vdots\\\\\n",
    "    XSR_{T}\n",
    "\\end{matrix} \\right]\n",
    "$$\n",
    "where $t \\in \\mathbb{Z}$ and $ 1 \\le t \\ge T$. $\\mathbf{XSR}$ is thus as defined in the cell below."
   ]
  },
  {
   "cell_type": "markdown",
   "id": "e9f56290-d6cc-4acf-9900-1ef51994f785",
   "metadata": {},
   "source": [
    "**Example: The S&P500 index**: With the 7 Year Treasury Note issued on 2020-12-31:"
   ]
  },
  {
   "cell_type": "code",
   "execution_count": null,
   "id": "52b19aab-a2b4-4781-9535-7e438cca054a",
   "metadata": {},
   "outputs": [],
   "source": [
    "P_SPX = ds.get_data(tickers='S&PCOMP',\n",
    "                    fields=\"X\",\n",
    "                    start='2020-12-30',\n",
    "                    end='2020-12-31',\n",
    "                    freq='D')\n",
    "\n",
    "r_f = ((on_off_df_as_of_2020_12_31.iloc[-1, -1] + 1)**(1/365))-1 # Remember that ' on_off_df_as_of_2020_12_31.iloc[-1, -1] ' is our Spot Rate\n",
    "\n",
    "XSR_SPX = ((P_SPX.iloc[-1, -1] - P_SPX.iloc[0, -1])/P_SPX.iloc[0, -1]) - r_f\n",
    "\n",
    "XSR_SPX"
   ]
  },
  {
   "cell_type": "markdown",
   "id": "f63c4d3f-e8c4-4b71-b4d4-94f88826645f",
   "metadata": {},
   "source": [
    "# Conclusion"
   ]
  },
  {
   "cell_type": "markdown",
   "id": "d31d3535-3d44-4145-8aca-df594a695c8a",
   "metadata": {},
   "source": [
    "We can see that using published rates by sovereign institutions such as the US Treasury is simple, as seen in the Zero Coupon "
   ]
  },
  {
   "cell_type": "code",
   "execution_count": null,
   "id": "2e215b14-3c0b-4005-8281-9249a1520651",
   "metadata": {},
   "outputs": [],
   "source": []
  },
  {
   "cell_type": "code",
   "execution_count": null,
   "id": "8ac79799-8b0f-4e4e-b92c-afed6d952efb",
   "metadata": {},
   "outputs": [],
   "source": []
  },
  {
   "cell_type": "code",
   "execution_count": null,
   "id": "ff76f02c-b9bd-4f9e-93a0-2f5f79c72b3e",
   "metadata": {},
   "outputs": [],
   "source": []
  },
  {
   "cell_type": "code",
   "execution_count": null,
   "id": "bce08c43-c4a0-40a3-99b5-20ca8297c404",
   "metadata": {},
   "outputs": [],
   "source": []
  },
  {
   "cell_type": "code",
   "execution_count": null,
   "id": "ee431473-a94a-4fa3-b99d-58f105140bfb",
   "metadata": {},
   "outputs": [],
   "source": []
  },
  {
   "cell_type": "code",
   "execution_count": null,
   "id": "3ea29626-6ee3-4dcf-b586-4e5f0be0849a",
   "metadata": {},
   "outputs": [],
   "source": []
  },
  {
   "cell_type": "code",
   "execution_count": null,
   "id": "0a9a23c1-c3f2-45f1-a0d1-676ab93c9d36",
   "metadata": {},
   "outputs": [],
   "source": []
  },
  {
   "cell_type": "code",
   "execution_count": null,
   "id": "dad2f431-75bf-4dcb-b0d6-a87c49830830",
   "metadata": {},
   "outputs": [],
   "source": []
  },
  {
   "cell_type": "code",
   "execution_count": null,
   "id": "02d9076c-371a-409d-9cdf-d6c24d77786f",
   "metadata": {},
   "outputs": [],
   "source": []
  },
  {
   "cell_type": "code",
   "execution_count": null,
   "id": "8549c367-090b-4ad2-a884-e6d8c1f453ef",
   "metadata": {},
   "outputs": [],
   "source": []
  },
  {
   "cell_type": "code",
   "execution_count": null,
   "id": "bd2b9f09-65d1-4a38-976c-c250b2dca4c7",
   "metadata": {},
   "outputs": [],
   "source": []
  },
  {
   "cell_type": "code",
   "execution_count": null,
   "id": "4f17ac5d-3311-42fb-83c0-4f1fa7460e01",
   "metadata": {},
   "outputs": [],
   "source": []
  },
  {
   "cell_type": "markdown",
   "id": "71e6e03b-a304-4821-ad15-e8e791a05151",
   "metadata": {},
   "source": [
    "# Appendix\n",
    "\n",
    "## Seaching for US Treasury Data on Datastream:\n",
    "\n",
    "It took me a long time to search through several Datastream US Treasury Bonds to find the ones in the graph called \"Yield To Maturity of US Treasury Bonds with different issue dates fixed and different Coupon rates\"; bellow is a sinipet of code showing some of my results:"
   ]
  },
  {
   "cell_type": "code",
   "execution_count": null,
   "id": "202d7329-3a2c-4e77-b328-d3dc0b3ed266",
   "metadata": {
    "tags": []
   },
   "outputs": [],
   "source": [
    "test_df = pandas.DataFrame()\n",
    "_fields = [\"DSCD\", \"NAME\", \"ID\", \"TERM\", \"RV\", \"C\", \"CTYP\", \"RDL\"]\n",
    "_instruments = [\"253Y75\", \"600AJH\", \"601JP7\", \"602RDQ\", \"603R1R\", \"603TEX\",\n",
    "                \"604DPZ\", \"604FVT\", \"605RTD\", \"247PV6\", \"606F1L\", \"247WM3\",\n",
    "                \"603ZVZ\", \"604ECR\", \"249HFX\", \"604JH0\", \"250A11\", \"610Z60\",\n",
    "                \"611UEW\", \"608WM5\", \"612G7Y\", \"609MWJ\", \"613AQ3\", \"610JML\",\n",
    "                \"613V2R\", \"247PV5\", \"628D4U\", \"625Q7N\", \"626J83\", \"609MWK\",\n",
    "                \"627U5T\", \"612M36\", \"628GA1\", \"6146YF\", \"250A47\", \"247WM4\",\n",
    "                \"250A48\", \"250A49\", \"250A49\", \"625Q70\", \"628GAL\", \"614X79\",\n",
    "                \"606PUA\", \"21852Z\",\n",
    "                \"796H4V\", \"833HLC\", \"235FFA\"]\n",
    "for i in _instruments:\n",
    "    _test_df = ds.get_data(tickers=i, kind=0, fields=_fields)\n",
    "    test_df = test_df.append(pandas.DataFrame(\n",
    "        data=list(_test_df['Value'].values), index=_fields).T)"
   ]
  },
  {
   "cell_type": "code",
   "execution_count": null,
   "id": "61d357ae-565a-402d-93b7-f4a0d29b6143",
   "metadata": {
    "tags": []
   },
   "outputs": [],
   "source": [
    "test_df.sort_values(by=[\"RDL\"])"
   ]
  },
  {
   "cell_type": "markdown",
   "id": "8d63edaf-3145-4bc2-a77e-d8875405777e",
   "metadata": {},
   "source": [
    "## Sanity Check: Verifying Computed Yields"
   ]
  },
  {
   "cell_type": "markdown",
   "id": "dd4c180f-7937-4ca2-87e1-cb7c12b20a63",
   "metadata": {},
   "source": [
    "To veryfy our YTM values with another source, we'll use Eikon:"
   ]
  },
  {
   "cell_type": "code",
   "execution_count": 200,
   "id": "be147822-8ed6-4a27-9fc4-8bdbd57886da",
   "metadata": {},
   "outputs": [
    {
     "data": {
      "text/plain": [
       "'1.1.8'"
      ]
     },
     "execution_count": 200,
     "metadata": {},
     "output_type": "execute_result"
    }
   ],
   "source": [
    "import eikon as ek\n",
    "eikon_key = open(\"eikon.txt\",\"r\")  # The key is placed in a text file so that it may be used in this code without showing it itself.\n",
    "ek.set_app_key(str(eikon_key.read()))  # You can replace this ' str(eikon_key.read()) ' with your own eikon key.\n",
    "eikon_key.close()  # It is best to close the files we opened in order to make sure that we don't stop any other services/programs from accessing them if they need to.\n",
    "ek.__version__  # This returns the version of the Python library 'eikon' to aid anyone in replication."
   ]
  },
  {
   "cell_type": "code",
   "execution_count": 201,
   "id": "564d020d-2446-4af3-b73c-3824c33f4775",
   "metadata": {},
   "outputs": [
    {
     "data": {
      "text/html": [
       "<div>\n",
       "<style scoped>\n",
       "    .dataframe tbody tr th:only-of-type {\n",
       "        vertical-align: middle;\n",
       "    }\n",
       "\n",
       "    .dataframe tbody tr th {\n",
       "        vertical-align: top;\n",
       "    }\n",
       "\n",
       "    .dataframe thead th {\n",
       "        text-align: right;\n",
       "    }\n",
       "</style>\n",
       "<table border=\"1\" class=\"dataframe\">\n",
       "  <thead>\n",
       "    <tr style=\"text-align: right;\">\n",
       "      <th></th>\n",
       "      <th>0</th>\n",
       "      <th>1</th>\n",
       "      <th>2</th>\n",
       "      <th>3</th>\n",
       "      <th>4</th>\n",
       "      <th>5</th>\n",
       "      <th>6</th>\n",
       "      <th>7</th>\n",
       "      <th>8</th>\n",
       "      <th>9</th>\n",
       "      <th>10</th>\n",
       "      <th>11</th>\n",
       "      <th>12</th>\n",
       "    </tr>\n",
       "  </thead>\n",
       "  <tbody>\n",
       "    <tr>\n",
       "      <th>Datatype</th>\n",
       "      <td>NAME</td>\n",
       "      <td>ID</td>\n",
       "      <td>TERM</td>\n",
       "      <td>RV</td>\n",
       "      <td>C</td>\n",
       "      <td>CTYP</td>\n",
       "      <td>RDL</td>\n",
       "      <td>EXCHB</td>\n",
       "      <td>DEF</td>\n",
       "      <td>MPD.U</td>\n",
       "      <td>BTYP</td>\n",
       "      <td>AIS</td>\n",
       "      <td>BAB</td>\n",
       "    </tr>\n",
       "    <tr>\n",
       "      <th>Value</th>\n",
       "      <td>US TREASURY NOTE 2019 1 7/8% 30/06/26 M-2026</td>\n",
       "      <td>2019-06-30</td>\n",
       "      <td>7</td>\n",
       "      <td>100</td>\n",
       "      <td>1.875</td>\n",
       "      <td>FIX</td>\n",
       "      <td>2026-06-30</td>\n",
       "      <td>FF MU BL DD</td>\n",
       "      <td>MPD</td>\n",
       "      <td>%</td>\n",
       "      <td>STR</td>\n",
       "      <td>33830130</td>\n",
       "      <td>5</td>\n",
       "    </tr>\n",
       "  </tbody>\n",
       "</table>\n",
       "</div>"
      ],
      "text/plain": [
       "                                                    0           1     2    3   \\\n",
       "Datatype                                          NAME          ID  TERM   RV   \n",
       "Value     US TREASURY NOTE 2019 1 7/8% 30/06/26 M-2026  2019-06-30     7  100   \n",
       "\n",
       "             4     5           6            7    8      9     10        11  \\\n",
       "Datatype      C  CTYP         RDL        EXCHB  DEF  MPD.U  BTYP       AIS   \n",
       "Value     1.875   FIX  2026-06-30  FF MU BL DD  MPD      %   STR  33830130   \n",
       "\n",
       "           12  \n",
       "Datatype  BAB  \n",
       "Value       5  "
      ]
     },
     "execution_count": 201,
     "metadata": {},
     "output_type": "execute_result"
    }
   ],
   "source": [
    "fixed_834CJK = ds.get_data(fields=[\"NAME\", \"ID\", \"TERM\", \"RV\", \"C\", \"CTYP\", \"RDL\", \"EXCHB\", \"DEF\", \"MPD.U\", \"BTYP\", \"AIS\", \"BAB\"], kind=0, tickers=\"<9128287B0=>\")  # 834CJK\n",
    "fixed_834CJK[[\"Datatype\", \"Value\"]].T"
   ]
  },
  {
   "cell_type": "code",
   "execution_count": 202,
   "id": "7ba5c648-a9af-4b9d-9da5-67135eaafd94",
   "metadata": {
    "tags": []
   },
   "outputs": [],
   "source": [
    "_date = [\"2019-01-30\", \"2019-07-30\", \"2020-01-30\", \"2020-07-30\", \"2021-01-29\", \"2021-02-16\", \"2021-03-19\"]\n",
    "m_ = [4.5, 4.0, 3.5, 3.0, 2.5,\n",
    "      (datetime.strptime(\"2023-07-31\", '%Y-%m-%d') - datetime.strptime(\"2021-02-16\", '%Y-%m-%d')).days/360,\n",
    "      (datetime.strptime(\"2023-07-31\", '%Y-%m-%d') - datetime.strptime(\"2021-03-19\", '%Y-%m-%d')).days/360]\n",
    "ds_l_834CJK, ek_l_834CJK = [], []\n",
    "for i in _date:\n",
    "    ds_l_834CJK.append(ds.get_data(start=i, end=i, tickers=\"<912828S92=>\", fields='X', freq='D'))  # 834CJK\n",
    "    ek_l_834CJK.append(ek.get_data(instruments=['912828S92='],  # , 'US912828S927=TBEA', 'US912828S927=TBEM', '912828S92=TTWB', '912828S92=TWEB', 'US912828S927=BGCP', '912828S92=DLWB', '912828S92=DWBX', 'US912828S92=GBAN', 'US912828S927=MKAX', 'US912828S92=NSPD', 'US912828S92=PX', 'US912828S92=SWBX', 'US912828S92=TMKR', '912828S92=TWBL', '912828S92=TWBD', 'US912828S92=X3', 'US912828S92=X4', 'US912828S92=X5', '912828S92=1F', '912828S92=3F', '912828S92=4F', '912828S92=2F', '912828S92=CF', '912828S92=RRPS', '912828S92=UF', 'US912828S927=VPAR', '0#912828S92=', 'US912828S927=HVBG', 'US912828S927=NDEA', 'D5TT2230731=PIPB', 'DEA1VQDR=BE', 'DEA1VQDR=D', 'DEA1VQDR=F', 'US912828S92=HT', 'DEA1VQDR=MU', 'DEA1VQDR=QTX', 'DEA1VQDR=SG', 'DEA1VQDR=SGF', 'DEA1VQDR=TG', 'US912828S927=TRE', 'US912828S927=TX', 'US912828S927=VS', 'US912828S927=VSL', 'US912828S927=TRU', '912828S92=TWMK', 'TNOT92307=VALR'],  # 834CJK\n",
    "                                   fields=['TR.CLEANPRICE.date', 'TR.CLEANPRICE', 'TR.BIDYIELD', 'TR.ASKPRICE', 'TR.ASKYIELD', 'TR.MIDPRICE', 'TR.MIDYIELD', 'TR.HIGHPRICE', 'TR.HIGHYIELD', 'TR.LOWPRICE', 'TR.LOWYIELD', 'TR.OPENPRICE', 'TR.OPENYIELD', 'TR.OPENASKPRICE', 'TR.HIGHASKPRICE', 'TR.DIRTYPRICE', 'TR.HighBidPrice'],  # TRD_UNITS\n",
    "                                   parameters={'SDate': i, 'EDate': i, 'Frq': 'D'})[0])"
   ]
  },
  {
   "cell_type": "code",
   "execution_count": 203,
   "id": "e2936056-1fab-4590-ab62-7a73d8df0502",
   "metadata": {},
   "outputs": [
    {
     "data": {
      "text/html": [
       "<div>\n",
       "<style scoped>\n",
       "    .dataframe tbody tr th:only-of-type {\n",
       "        vertical-align: middle;\n",
       "    }\n",
       "\n",
       "    .dataframe tbody tr th {\n",
       "        vertical-align: top;\n",
       "    }\n",
       "\n",
       "    .dataframe thead th {\n",
       "        text-align: right;\n",
       "    }\n",
       "</style>\n",
       "<table border=\"1\" class=\"dataframe\">\n",
       "  <thead>\n",
       "    <tr style=\"text-align: right;\">\n",
       "      <th></th>\n",
       "      <th>date</th>\n",
       "      <th>years left to m</th>\n",
       "      <th>ds Price</th>\n",
       "      <th>ek Clean Price</th>\n",
       "      <th>ek Bid YTM</th>\n",
       "      <th>computed YTM with ds price</th>\n",
       "      <th>ek Clean Ask</th>\n",
       "      <th>ek Ask YTM</th>\n",
       "      <th>computed YTM with ek Ask price</th>\n",
       "      <th>ek Clean Mid</th>\n",
       "      <th>ek Mid YTM</th>\n",
       "      <th>computed YTM with ek Mid price</th>\n",
       "    </tr>\n",
       "  </thead>\n",
       "  <tbody>\n",
       "    <tr>\n",
       "      <th>0</th>\n",
       "      <td>2020-12-31</td>\n",
       "      <td>5.575</td>\n",
       "      <td>107.875</td>\n",
       "      <td>107.875</td>\n",
       "      <td>0.4221</td>\n",
       "      <td>-0.172079</td>\n",
       "      <td>107.90625</td>\n",
       "      <td>0.4166</td>\n",
       "      <td>-0.177428</td>\n",
       "      <td>107.8906</td>\n",
       "      <td>0.42</td>\n",
       "      <td>-0.17475</td>\n",
       "    </tr>\n",
       "  </tbody>\n",
       "</table>\n",
       "</div>"
      ],
      "text/plain": [
       "         date  years left to m  ds Price  ek Clean Price  ek Bid YTM  \\\n",
       "0  2020-12-31            5.575   107.875         107.875      0.4221   \n",
       "\n",
       "   computed YTM with ds price  ek Clean Ask  ek Ask YTM  \\\n",
       "0                   -0.172079     107.90625      0.4166   \n",
       "\n",
       "   computed YTM with ek Ask price  ek Clean Mid  ek Mid YTM  \\\n",
       "0                       -0.177428      107.8906        0.42   \n",
       "\n",
       "   computed YTM with ek Mid price  \n",
       "0                        -0.17475  "
      ]
     },
     "execution_count": 203,
     "metadata": {},
     "output_type": "execute_result"
    }
   ],
   "source": [
    "pandas.DataFrame(\n",
    "    data=[[_date[i], m_[i], ds_l_834CJK[i].iloc[-1, -1], ek_l_834CJK[i].iloc[0, 2], ek_l_834CJK[i].iloc[0, 3], YTM_Solver(fv=100, c=1.25, m=m_[i], p=ds_l_834CJK[i].iloc[-1, -1], f_acf=0.5, error=False)*100, ek_l_834CJK[i].iloc[0, 4], ek_l_834CJK[i].iloc[0, 5], YTM_Solver(fv=100, c=1.25, m=m_[i], p=ek_l_834CJK[i].iloc[0, 4], f_acf=0.5, error=False)*100, ek_l_834CJK[i].iloc[0, 6], ek_l_834CJK[i].iloc[0, 7], YTM_Solver(fv=100, c=1.25, m=m_[i], p=ek_l_834CJK[i].iloc[0, 6], f_acf=0.5, error=False)*100] for i in range(len(m_))],\n",
    "    columns=[\"date\", \"years left to m\", \"ds Price\", \"ek Clean Price\", \"ek Bid YTM\", \"computed YTM with ds price\", \"ek Clean Ask\", \"ek Ask YTM\", \"computed YTM with ek Ask price\", \"ek Clean Mid\", \"ek Mid YTM\", \"computed YTM with ek Mid price\"])"
   ]
  },
  {
   "cell_type": "markdown",
   "id": "7b3c9938-7a83-40cd-a201-089bd857b08e",
   "metadata": {},
   "source": [
    "We can see that the YTM provided by Eikon and our ```YTM_Solver``` technique (using Datastream price data) agree (to an appropriate extent). That last Bid one - however - is getting close to incorrectness..."
   ]
  },
  {
   "cell_type": "markdown",
   "id": "c92457a1-896b-448e-8657-ef6c3dea6a03",
   "metadata": {},
   "source": [
    "## References\n",
    "\n",
    "### Datastream\n",
    "- [REFINITIV INDICES GOVERNMENT BOND INDICES](https://www.refinitiv.com/content/dam/marketing/en_us/documents/methodology/government-bond-indices-user-guide.pdf)\n",
    "- [US 2020 ZERO DESC:and(*/07/20*)](https://product.datastream.com/browse/search.aspx?dsid=ZRQW955&AppGroup=DSAddin&q=US+2020+ZERO+DESC%3Aand(*%2F07%2F20*)&prev=99_US+2020+ZERO+DESC%3Aand(*%2F05%2F20*)&nav_category=13)\n",
    "- [UTD.STS OF AMERICA 2020 ZERO DESC:and(*/08/21*)](https://product.datastream.com/browse/search.aspx?dsid=ZRQW955&AppGroup=DSAddin&q=UTD.STS+OF+AMERICA+2020+ZERO+DESC%3Aand(*%2F08%2F21*)&prev=99_UTD.STS+OF+AMERICA+2020+ZERO+DESC%3Aand(*%2F07%2F21*)&nav_category=13)\n",
    "- [UTD.STS OF AMERICA 2020 ZERO 29/06/21](https://product.datastream.com/browse/search.aspx?dsid=ZRQW955&AppGroup=DSAddin&q=UTD.STS+OF+AMERICA+2020+ZERO+29%2F06%2F21&prev=99_UTD.STS+OF+AMERICA+2020+ZERO+29%2F12%2F20&nav_category=13)\n",
    "- [US Treasury 2020 DESC:and(*/01/22*)](https://product.datastream.com/browse/search.aspx?dsid=ZRQW955&AppGroup=DSAddin&q=US+Treasury+2020+DESC%3Aand(*%2F01%2F22*)&prev=99_US+Treasury+2020+DESC%3Aand(*%2F07%2F20*)&nav_category=13)\n",
    "- [US 2020 DESC:and(*/01/21*)](https://product.datastream.com/browse/search.aspx?dsid=ZRQW955&AppGroup=DSAddin&q=US+2020+DESC%3Aand(*%2F01%2F21*)&prev=99_US+2020+ZERO+DESC%3Aand(*%2F07%2F20*)&nav_category=13)\n",
    "\n",
    "\n",
    "### Yield Optimisation\n",
    "- [scipy.optimize.newton](https://docs.scipy.org/doc/scipy/reference/generated/scipy.optimize.newton.html)\n",
    "\n",
    "### Miscellaneous\n",
    "- [What Is Accrued Interest, and Why Do I Have to Pay It When I Buy a Bond?](https://www.investopedia.com/ask/answers/accrued-interest-why-do-i-pay-when-i-buy-bond/)\n",
    "- [straight-line amortization of Coupons](https://thismatter.com/money/bonds/bond-pricing.htm)\n",
    "- [Calculating U.S. Treasury Pricing](https://www.cmegroup.com/education/courses/introduction-to-treasuries/calculating-us-treasury-pricing.html#)\n",
    "- [Bootstrapped spot rates with missing bonds](https://www.reddit.com/r/askfinance/comments/ojkphx/bootstrapped_spot_rates_with_missing_bonds/)\n",
    "- [Bootstrapping the Zero Curve and Forward Rates - Straight Line Interpolation](https://financetrainingcourse.com/education/2016/10/bootstrapping-zero-curve-forward-rates/)\n",
    "- [Cubic Spline Interpolation](https://www.google.com/search?q=cubic+spline+interpolation&rlz=1C1GCEA_en__890__890&oq=cubic+spline+interpolation&aqs=chrome..69i57j0l9.540j0j4&sourceid=chrome&ie=UTF-8)\n",
    "- [Building Search into your Application Workflow](https://developers.refinitiv.com/en/article-catalog/article/building-search-into-your-application-workflow)\n",
    "- [What is Bootstrapping?](https://www.educba.com/bootstrapping-examples/)\n",
    "- [How to calculate Yield To Maturity with Python](https://medium.com/@gennadii.turutin/how-to-calculate-yield-to-maturity-with-python-65a9a34d56f3)"
   ]
  },
  {
   "cell_type": "code",
   "execution_count": null,
   "id": "1fcef4e1-4f1d-469a-97cb-aa9e3139a746",
   "metadata": {},
   "outputs": [],
   "source": []
  }
 ],
 "metadata": {
  "kernelspec": {
   "display_name": "Python 3",
   "language": "python",
   "name": "python3"
  },
  "language_info": {
   "codemirror_mode": {
    "name": "ipython",
    "version": 3
   },
   "file_extension": ".py",
   "mimetype": "text/x-python",
   "name": "python",
   "nbconvert_exporter": "python",
   "pygments_lexer": "ipython3",
   "version": "3.8.2"
  }
 },
 "nbformat": 4,
 "nbformat_minor": 5
}
